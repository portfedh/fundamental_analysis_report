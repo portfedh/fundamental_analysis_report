{
 "cells": [
  {
   "cell_type": "markdown",
   "id": "bfaa4a05",
   "metadata": {},
   "source": [
    "<a id=\"index\"></a>\n",
    "# Index\n",
    "\n",
    "Initialize:\n",
    "- [Define company ticker](#ticker)\n",
    "- [Import python modules](#imports)\n",
    "- [Remove previous files](#remove_previous_files)\n",
    "\n",
    "Import Data:\n",
    "- [Import data from Financial Modeling Prep](#fmp_import)\n",
    "- [Filter dataframe for selected period and sort descending](#filter_df2)\n",
    "- [Get company currency](#get_company_currency)\n",
    "- [Download the company image](#download_company_image)\n",
    "\n",
    "Process Data\n",
    "- [Create  graphs:](#graph_df)\n",
    "    - [[Graph] Balance Sheet: Nominal and Common size](#bs_graph)\n",
    "    - [[Graph] Income Statement: Nominal and Common size](#is_graph)\n",
    "    - [[Graph] Cash Flow Statement](#CF_graph)\n",
    "    - [[DataFrame] Equity Uses](#equity_uses_table)\n",
    "    - [[Graph] Equity Uses](#equity_uses)\n",
    "\n",
    "- [Create financial statements:](#statements)\n",
    "    - [[Table] Income statement](#table_is)\n",
    "    - [[Table] Common size income statement](#table_cs_is)\n",
    "    - [[Table] Balance Sheet](#table_bs)\n",
    "    - [[Table] Common Size Balance Sheet ](#table_cs_bs)\n",
    "    - [[Table] Cash Flow Statement ](#table_cf)\n",
    "    \n",
    " - [Create Key Metrics tables](#metrics)\n",
    "    - [[Table] Market Ratios ](#table_market)\n",
    "    - [[Table] Debt, Liquidity and Solvency Ratios ](#table_debt)\n",
    "    - [[Table] Profit Ratios ](#table_profit)\n",
    "    - [[Table] Efficiency Ratios ](#table_efficiency)\n",
    "    - [[Table] Key Metrics ](#table_metrics)\n",
    "\n",
    "Outputs\n",
    "- [Exporting as a PDF file](#export_pdf)\n",
    "    - [PDF Variables](#variables_pdf)\n",
    "    - [Defining Classes ](#defining_classes_pdf)\n",
    "    - [Instantiation of Class  ](#class_instantiation_pdf)\n",
    "    - [Page 1: Company Description ](#page1_pdf)\n",
    "    - [Page 2: Financial Statements ](#page2_pdf)\n",
    "    - [Page 3: Internal Company Metrics ](#page3_pdf)\n",
    "    - [Page 4: Market Ratios ](#page4_pdf)\n",
    "    - [Page 5: Financial Statement Graphs ](#page5_pdf)\n",
    "    - [Page 6: Common Size Financial Statement Graphs](#page6_pdf)\n",
    "    - [Save output as PDF ](#save_output_pdf)"
   ]
  },
  {
   "cell_type": "markdown",
   "id": "7f7465bb-f1e1-40b1-a393-e984fc80de30",
   "metadata": {},
   "source": [
    "# Initialize"
   ]
  },
  {
   "cell_type": "markdown",
   "id": "684e12f6-b33d-481c-ac61-6a5d1127efba",
   "metadata": {
    "tags": []
   },
   "source": [
    "<a id=\"ticker\"></a>\n",
    "### Define company ticker [*](#index)"
   ]
  },
  {
   "cell_type": "code",
   "execution_count": 4,
   "id": "830e306d-be1d-47ea-bd13-443b8d714ac5",
   "metadata": {
    "tags": []
   },
   "outputs": [
    {
     "name": "stdout",
     "output_type": "stream",
     "text": [
      "\n",
      "Company report for: AVGO\n",
      "Years Analyzed: 5\n"
     ]
    }
   ],
   "source": [
    "# Define company ticker\n",
    "company = \"AVGO\"\n",
    "print(\"\\nCompany report for: \"+company)\n",
    "\n",
    "# Define years to analyse company\n",
    "years = 5\n",
    "print(\"Years Analyzed: \"+str(years))"
   ]
  },
  {
   "cell_type": "markdown",
   "id": "f6f7cc2a-733b-46d3-a9eb-44544ef8a9f6",
   "metadata": {},
   "source": [
    "<a id=\"imports\"></a>\n",
    "### Import python modules [*](#index)"
   ]
  },
  {
   "cell_type": "code",
   "execution_count": 5,
   "id": "2aebac69-8f59-4308-945f-a1d0df5c5eff",
   "metadata": {},
   "outputs": [
    {
     "name": "stdout",
     "output_type": "stream",
     "text": [
      "Python modules imported.\n",
      "\n",
      "Displaying Max Rows in Pandas.\n",
      "\n"
     ]
    }
   ],
   "source": [
    "# Import python modules\n",
    "import os\n",
    "import shutil\n",
    "import requests\n",
    "import pandas as pd\n",
    "import datetime as dt\n",
    "from fpdf import FPDF\n",
    "from PIL import Image\n",
    "import dataframe_image as dfi\n",
    "import plotly.graph_objects as go\n",
    "\n",
    "print(\"Python modules imported.\\n\")\n",
    "\n",
    "# Display full pandas data frame\n",
    "pd.set_option(\"display.max_rows\", None, \"display.max_columns\", None)\n",
    "print(\"Displaying Max Rows in Pandas.\\n\")"
   ]
  },
  {
   "cell_type": "markdown",
   "id": "ffa442fa-966e-4c74-83ff-cf6775387c59",
   "metadata": {},
   "source": [
    "<a id=\"remove_previous_files\"></a>\n",
    "### Remove previous files [*](#index)\n"
   ]
  },
  {
   "cell_type": "code",
   "execution_count": 6,
   "id": "45c89c76-5f5f-4cce-8568-bc82ae01b345",
   "metadata": {},
   "outputs": [
    {
     "name": "stdout",
     "output_type": "stream",
     "text": [
      "\n",
      " All Previous files removed.\n",
      "\n"
     ]
    }
   ],
   "source": [
    "# Remove previous files\n",
    "# To make sure report does not contain images from another company\n",
    "shutil.rmtree('images/output')\n",
    "os.makedirs('images/output')\n",
    "print(\"\\n All Previous files removed.\\n\")"
   ]
  },
  {
   "cell_type": "markdown",
   "id": "65c79938-d402-4724-92da-ead7ac86742a",
   "metadata": {},
   "source": [
    "# Import Data:"
   ]
  },
  {
   "cell_type": "markdown",
   "id": "6d8de668",
   "metadata": {},
   "source": [
    "<a id=\"fmp_import\"></a>\n",
    "### Importing data from Financial Modeling Prep [*](#index)"
   ]
  },
  {
   "cell_type": "code",
   "execution_count": 7,
   "id": "66088f30",
   "metadata": {},
   "outputs": [],
   "source": [
    "# Importing data from Financial Modeling Prep\n",
    "\n",
    "# Financial Modeling Prep API Key\n",
    "api = os.environ.get(\"token_finmodelprep\")\n",
    "\n",
    "www = 'https://financialmodelingprep.com/api/v3'\n",
    "www4 = 'https://financialmodelingprep.com/api/v4'\n",
    "is_www = '/income-statement/'\n",
    "bs_www = '/balance-sheet-statement/'\n",
    "cf_www = '/cash-flow-statement/'\n",
    "r_www = '/ratios/'\n",
    "km_www = '/key-metrics/'\n",
    "p_www = '/profile/'\n",
    "rtg_www = '/rating/'\n",
    "es_www = '/earnings-surprises/'\n",
    "# sp_www = \"/stock_peers\"\n",
    "\n",
    "# Data to Import\n",
    "IS = requests.get(f'{www}{is_www}{company}?apikey={api}').json()\n",
    "BS = requests.get(f'{www}{bs_www}{company}?apikey={api}').json()\n",
    "CF = requests.get(f'{www}{cf_www}{company}?apikey={api}').json()\n",
    "Ratios = requests.get(f'{www}{r_www}{company}?apikey={api}').json()\n",
    "Metrics = requests.get(f'{www}{km_www}{company}?apikey={api}').json()\n",
    "Profile = requests.get(f'{www}{p_www}{company}?apikey={api}').json()\n",
    "Rating = requests.get(f'{www}{rtg_www}{company}?apikey={api}').json()\n",
    "Surprises = requests.get(f'{www}{es_www}{company}?apikey={api}').json()\n",
    "# Peers = requests.get(f'{www4}{sp_www}?symbol={company}&apikey={api}').json()\n",
    "# Stock peers is an endpoint for a paid plan so its commented out. \n",
    "\n"
   ]
  },
  {
   "cell_type": "code",
   "execution_count": 8,
   "id": "8277e59d",
   "metadata": {},
   "outputs": [
    {
     "name": "stdout",
     "output_type": "stream",
     "text": [
      "[{'date': '2024-11-03', 'symbol': 'AVGO', 'reportedCurrency': 'USD', 'cik': '0001730168', 'fillingDate': '2024-12-20', 'acceptedDate': '2024-12-20 17:26:46', 'calendarYear': '2024', 'period': 'FY', 'revenue': 51574000000, 'costOfRevenue': 19065000000, 'grossProfit': 32509000000, 'grossProfitRatio': 0.6303369915, 'researchAndDevelopmentExpenses': 9310000000, 'generalAndAdministrativeExpenses': 0, 'sellingAndMarketingExpenses': 0, 'sellingGeneralAndAdministrativeExpenses': 4959000000, 'otherExpenses': 4777000000, 'operatingExpenses': 19046000000, 'costAndExpenses': 38111000000, 'interestIncome': 304000000, 'interestExpense': 3796000000, 'depreciationAndAmortization': 10010000000, 'ebitda': 23722000000, 'ebitdaratio': 0.4599604452, 'operatingIncome': 13463000000, 'operatingIncomeRatio': 0.2610423857, 'totalOtherIncomeExpensesNet': -3547000000, 'incomeBeforeTax': 9916000000, 'incomeBeforeTaxRatio': 0.1922674216, 'incomeTaxExpense': 3748000000, 'netIncome': 5895000000, 'netIncomeRatio': 0.11430178, 'eps': 1.33, 'epsdiluted': 1.29, 'weightedAverageShsOut': 4624000000, 'weightedAverageShsOutDil': 4778000000, 'link': 'https://www.sec.gov/Archives/edgar/data/1730168/000173016824000139/0001730168-24-000139-index.htm', 'finalLink': 'https://www.sec.gov/Archives/edgar/data/1730168/000173016824000139/avgo-20241103.htm'}, {'date': '2023-10-29', 'symbol': 'AVGO', 'reportedCurrency': 'USD', 'cik': '0001730168', 'fillingDate': '2023-12-14', 'acceptedDate': '2023-12-14 16:54:05', 'calendarYear': '2023', 'period': 'FY', 'revenue': 35819000000, 'costOfRevenue': 11129000000, 'grossProfit': 24690000000, 'grossProfitRatio': 0.689, 'researchAndDevelopmentExpenses': 5253000000, 'generalAndAdministrativeExpenses': 0, 'sellingAndMarketingExpenses': 0, 'sellingGeneralAndAdministrativeExpenses': 1592000000, 'otherExpenses': 1638000000, 'operatingExpenses': 8483000000, 'costAndExpenses': 19635000000, 'interestIncome': 535000000, 'interestExpense': 1622000000, 'depreciationAndAmortization': 3835000000, 'ebitda': 20554000000, 'ebitdaratio': 0.5738295318, 'operatingIncome': 16207000000, 'operatingIncomeRatio': 0.4524693598, 'totalOtherIncomeExpensesNet': -1110000000, 'incomeBeforeTax': 15097000000, 'incomeBeforeTaxRatio': 0.42148022, 'incomeTaxExpense': 1015000000, 'netIncome': 14082000000, 'netIncomeRatio': 0.3931433038, 'eps': 3.39, 'epsdiluted': 3.3, 'weightedAverageShsOut': 4150000000, 'weightedAverageShsOutDil': 4270000000, 'link': 'https://www.sec.gov/Archives/edgar/data/1730168/000173016823000096/0001730168-23-000096-index.htm', 'finalLink': 'https://www.sec.gov/Archives/edgar/data/1730168/000173016823000096/avgo-20231029.htm'}, {'date': '2022-10-30', 'symbol': 'AVGO', 'reportedCurrency': 'USD', 'cik': '0001730168', 'fillingDate': '2022-12-16', 'acceptedDate': '2022-12-16 16:21:52', 'calendarYear': '2022', 'period': 'FY', 'revenue': 33203000000, 'costOfRevenue': 11108000000, 'grossProfit': 22095000000, 'grossProfitRatio': 0.665451917, 'researchAndDevelopmentExpenses': 4919000000, 'generalAndAdministrativeExpenses': 0, 'sellingAndMarketingExpenses': 0, 'sellingGeneralAndAdministrativeExpenses': 1382000000, 'otherExpenses': 1512000000, 'operatingExpenses': 7813000000, 'costAndExpenses': 18921000000, 'interestIncome': 100000000, 'interestExpense': 1737000000, 'depreciationAndAmortization': 4984000000, 'ebitda': 19155000000, 'ebitdaratio': 0.5786224136, 'operatingIncome': 14225000000, 'operatingIncomeRatio': 0.4284251423, 'totalOtherIncomeExpensesNet': -1791000000, 'incomeBeforeTax': 12434000000, 'incomeBeforeTaxRatio': 0.3744842334, 'incomeTaxExpense': 939000000, 'netIncome': 11495000000, 'netIncomeRatio': 0.3462036563, 'eps': 2.74, 'epsdiluted': 2.65, 'weightedAverageShsOut': 4090000000, 'weightedAverageShsOutDil': 4230000000, 'link': 'https://www.sec.gov/Archives/edgar/data/1730168/000173016822000118/0001730168-22-000118-index.htm', 'finalLink': 'https://www.sec.gov/Archives/edgar/data/1730168/000173016822000118/avgo-20221030.htm'}, {'date': '2021-10-31', 'symbol': 'AVGO', 'reportedCurrency': 'USD', 'cik': '0001730168', 'fillingDate': '2021-12-17', 'acceptedDate': '2021-12-17 16:42:51', 'calendarYear': '2021', 'period': 'FY', 'revenue': 27450000000, 'costOfRevenue': 10606000000, 'grossProfit': 16844000000, 'grossProfitRatio': 0.614, 'researchAndDevelopmentExpenses': 4854000000, 'generalAndAdministrativeExpenses': 0, 'sellingAndMarketingExpenses': 0, 'sellingGeneralAndAdministrativeExpenses': 1347000000, 'otherExpenses': 1976000000, 'operatingExpenses': 8177000000, 'costAndExpenses': 18783000000, 'interestIncome': 16000000, 'interestExpense': 1885000000, 'depreciationAndAmortization': 6041000000, 'ebitda': 14691000000, 'ebitdaratio': 0.540582878, 'operatingIncome': 8519000000, 'operatingIncomeRatio': 0.3103460838, 'totalOtherIncomeExpensesNet': -1754000000, 'incomeBeforeTax': 6765000000, 'incomeBeforeTaxRatio': 0.2464480874, 'incomeTaxExpense': 29000000, 'netIncome': 6736000000, 'netIncomeRatio': 0.2453916211, 'eps': 1.57, 'epsdiluted': 1.5, 'weightedAverageShsOut': 4100000000, 'weightedAverageShsOutDil': 4290000000, 'link': 'https://www.sec.gov/Archives/edgar/data/1730168/000173016821000153/0001730168-21-000153-index.htm', 'finalLink': 'https://www.sec.gov/Archives/edgar/data/1730168/000173016821000153/avgo-20211031.htm'}, {'date': '2020-11-01', 'symbol': 'AVGO', 'reportedCurrency': 'USD', 'cik': '0001730168', 'fillingDate': '2020-12-18', 'acceptedDate': '2020-12-18 17:07:10', 'calendarYear': '2020', 'period': 'FY', 'revenue': 23888000000, 'costOfRevenue': 10372000000, 'grossProfit': 13516000000, 'grossProfitRatio': 0.5658070998, 'researchAndDevelopmentExpenses': 4968000000, 'generalAndAdministrativeExpenses': 0, 'sellingAndMarketingExpenses': 0, 'sellingGeneralAndAdministrativeExpenses': 1935000000, 'otherExpenses': 2401000000, 'operatingExpenses': 9304000000, 'costAndExpenses': 19676000000, 'interestIncome': 53000000, 'interestExpense': 1777000000, 'depreciationAndAmortization': 6905000000, 'ebitda': 11125000000, 'ebitdaratio': 0.4740036839, 'operatingIncome': 4014000000, 'operatingIncomeRatio': 0.1680341594, 'totalOtherIncomeExpensesNet': -1571000000, 'incomeBeforeTax': 2443000000, 'incomeBeforeTaxRatio': 0.1022689216, 'incomeTaxExpense': -518000000, 'netIncome': 2960000000, 'netIncomeRatio': 0.1239115874, 'eps': 0.66, 'epsdiluted': 0.63, 'weightedAverageShsOut': 4020000000, 'weightedAverageShsOutDil': 4210000000, 'link': 'https://www.sec.gov/Archives/edgar/data/1730168/000173016820000226/0001730168-20-000226-index.htm', 'finalLink': 'https://www.sec.gov/Archives/edgar/data/1730168/000173016820000226/avgo-20201101.htm'}]\n",
      "[{'date': '2024-11-03', 'symbol': 'AVGO', 'reportedCurrency': 'USD', 'cik': '0001730168', 'fillingDate': '2024-12-20', 'acceptedDate': '2024-12-20 17:26:46', 'calendarYear': '2024', 'period': 'FY', 'cashAndCashEquivalents': 9348000000, 'shortTermInvestments': 0, 'cashAndShortTermInvestments': 9348000000, 'netReceivables': 4416000000, 'inventory': 1760000000, 'otherCurrentAssets': 4071000000, 'totalCurrentAssets': 19595000000, 'propertyPlantEquipmentNet': 2521000000, 'goodwill': 97873000000, 'intangibleAssets': 40583000000, 'goodwillAndIntangibleAssets': 138456000000, 'longTermInvestments': 0, 'taxAssets': 0, 'otherNonCurrentAssets': 5073000000, 'totalNonCurrentAssets': 146050000000, 'otherAssets': 0, 'totalAssets': 165645000000, 'accountPayables': 1662000000, 'shortTermDebt': 1271000000, 'taxPayables': 0, 'deferredRevenue': 0, 'otherCurrentLiabilities': 13764000000, 'totalCurrentLiabilities': 16697000000, 'longTermDebt': 66295000000, 'deferredRevenueNonCurrent': 0, 'deferredTaxLiabilitiesNonCurrent': 0, 'otherNonCurrentLiabilities': 14975000000, 'totalNonCurrentLiabilities': 81270000000, 'otherLiabilities': 0, 'capitalLeaseObligations': 0, 'totalLiabilities': 97967000000, 'preferredStock': 0, 'commonStock': 5000000, 'retainedEarnings': 0, 'accumulatedOtherComprehensiveIncomeLoss': 207000000, 'othertotalStockholdersEquity': 67466000000, 'totalStockholdersEquity': 67678000000, 'totalEquity': 67678000000, 'totalLiabilitiesAndStockholdersEquity': 165645000000, 'minorityInterest': 0, 'totalLiabilitiesAndTotalEquity': 165645000000, 'totalInvestments': 0, 'totalDebt': 67566000000, 'netDebt': 58218000000, 'link': 'https://www.sec.gov/Archives/edgar/data/1730168/000173016824000139/0001730168-24-000139-index.htm', 'finalLink': 'https://www.sec.gov/Archives/edgar/data/1730168/000173016824000139/avgo-20241103.htm'}, {'date': '2023-10-29', 'symbol': 'AVGO', 'reportedCurrency': 'USD', 'cik': '0001730168', 'fillingDate': '2023-12-14', 'acceptedDate': '2023-12-14 16:54:05', 'calendarYear': '2023', 'period': 'FY', 'cashAndCashEquivalents': 14189000000, 'shortTermInvestments': 0, 'cashAndShortTermInvestments': 14189000000, 'netReceivables': 3154000000, 'inventory': 1898000000, 'otherCurrentAssets': 1606000000, 'totalCurrentAssets': 20847000000, 'propertyPlantEquipmentNet': 2617000000, 'goodwill': 43653000000, 'intangibleAssets': 3867000000, 'goodwillAndIntangibleAssets': 47520000000, 'longTermInvestments': 0, 'taxAssets': 0, 'otherNonCurrentAssets': 1877000000, 'totalNonCurrentAssets': 52014000000, 'otherAssets': 0, 'totalAssets': 72861000000, 'accountPayables': 1210000000, 'shortTermDebt': 1608000000, 'taxPayables': 473000000, 'deferredRevenue': 2487000000, 'otherCurrentLiabilities': 1627000000, 'totalCurrentLiabilities': 7405000000, 'longTermDebt': 37621000000, 'deferredRevenueNonCurrent': 299000000, 'deferredTaxLiabilitiesNonCurrent': 60000000, 'otherNonCurrentLiabilities': 3488000000, 'totalNonCurrentLiabilities': 41468000000, 'otherLiabilities': 0, 'capitalLeaseObligations': 49000000, 'totalLiabilities': 48873000000, 'preferredStock': 0, 'commonStock': 0, 'retainedEarnings': 2682000000, 'accumulatedOtherComprehensiveIncomeLoss': 207000000, 'othertotalStockholdersEquity': 21099000000, 'totalStockholdersEquity': 23988000000, 'totalEquity': 23988000000, 'totalLiabilitiesAndStockholdersEquity': 72861000000, 'minorityInterest': 0, 'totalLiabilitiesAndTotalEquity': 72861000000, 'totalInvestments': 0, 'totalDebt': 39229000000, 'netDebt': 25040000000, 'link': 'https://www.sec.gov/Archives/edgar/data/1730168/000173016823000096/0001730168-23-000096-index.htm', 'finalLink': 'https://www.sec.gov/Archives/edgar/data/1730168/000173016823000096/avgo-20231029.htm'}, {'date': '2022-10-30', 'symbol': 'AVGO', 'reportedCurrency': 'USD', 'cik': '0001730168', 'fillingDate': '2022-12-16', 'acceptedDate': '2022-12-16 16:21:52', 'calendarYear': '2022', 'period': 'FY', 'cashAndCashEquivalents': 12416000000, 'shortTermInvestments': 0, 'cashAndShortTermInvestments': 12416000000, 'netReceivables': 2958000000, 'inventory': 1925000000, 'otherCurrentAssets': 2069000000, 'totalCurrentAssets': 18504000000, 'propertyPlantEquipmentNet': 2223000000, 'goodwill': 43614000000, 'intangibleAssets': 7111000000, 'goodwillAndIntangibleAssets': 50725000000, 'longTermInvestments': 0, 'taxAssets': 0, 'otherNonCurrentAssets': 1797000000, 'totalNonCurrentAssets': 54745000000, 'otherAssets': 0, 'totalAssets': 73249000000, 'accountPayables': 998000000, 'shortTermDebt': 440000000, 'taxPayables': 680000000, 'deferredRevenue': 2931000000, 'otherCurrentLiabilities': 2003000000, 'totalCurrentLiabilities': 7052000000, 'longTermDebt': 39075000000, 'deferredRevenueNonCurrent': 410000000, 'deferredTaxLiabilitiesNonCurrent': 3229000000, 'otherNonCurrentLiabilities': 4003000000, 'totalNonCurrentLiabilities': 43488000000, 'otherLiabilities': 0, 'capitalLeaseObligations': 59000000, 'totalLiabilities': 50540000000, 'preferredStock': 0, 'commonStock': 0, 'retainedEarnings': 1604000000, 'accumulatedOtherComprehensiveIncomeLoss': -54000000, 'othertotalStockholdersEquity': 21159000000, 'totalStockholdersEquity': 22709000000, 'totalEquity': 22709000000, 'totalLiabilitiesAndStockholdersEquity': 73249000000, 'minorityInterest': 0, 'totalLiabilitiesAndTotalEquity': 73249000000, 'totalInvestments': 0, 'totalDebt': 39515000000, 'netDebt': 27099000000, 'link': 'https://www.sec.gov/Archives/edgar/data/1730168/000173016822000118/0001730168-22-000118-index.htm', 'finalLink': 'https://www.sec.gov/Archives/edgar/data/1730168/000173016822000118/avgo-20221030.htm'}, {'date': '2021-10-31', 'symbol': 'AVGO', 'reportedCurrency': 'USD', 'cik': '0001730168', 'fillingDate': '2021-12-17', 'acceptedDate': '2021-12-17 16:42:51', 'calendarYear': '2021', 'period': 'FY', 'cashAndCashEquivalents': 12163000000, 'shortTermInvestments': 0, 'cashAndShortTermInvestments': 12163000000, 'netReceivables': 2071000000, 'inventory': 1297000000, 'otherCurrentAssets': 1594000000, 'totalCurrentAssets': 16586000000, 'propertyPlantEquipmentNet': 2348000000, 'goodwill': 43450000000, 'intangibleAssets': 11374000000, 'goodwillAndIntangibleAssets': 54824000000, 'longTermInvestments': 0, 'taxAssets': 0, 'otherNonCurrentAssets': 1812000000, 'totalNonCurrentAssets': 58984000000, 'otherAssets': 0, 'totalAssets': 75570000000, 'accountPayables': 1086000000, 'shortTermDebt': 290000000, 'taxPayables': 541000000, 'deferredRevenue': 2619000000, 'otherCurrentLiabilities': 1745000000, 'totalCurrentLiabilities': 6281000000, 'longTermDebt': 39440000000, 'deferredRevenueNonCurrent': 566000000, 'deferredTaxLiabilitiesNonCurrent': -566000000, 'otherNonCurrentLiabilities': 4294000000, 'totalNonCurrentLiabilities': 44300000000, 'otherLiabilities': 0, 'capitalLeaseObligations': 65000000, 'totalLiabilities': 50581000000, 'preferredStock': 27000000, 'commonStock': 0, 'retainedEarnings': 748000000, 'accumulatedOtherComprehensiveIncomeLoss': -116000000, 'othertotalStockholdersEquity': 24330000000, 'totalStockholdersEquity': 24989000000, 'totalEquity': 24989000000, 'totalLiabilitiesAndStockholdersEquity': 75570000000, 'minorityInterest': 0, 'totalLiabilitiesAndTotalEquity': 75570000000, 'totalInvestments': 0, 'totalDebt': 39730000000, 'netDebt': 27567000000, 'link': 'https://www.sec.gov/Archives/edgar/data/1730168/000173016821000153/0001730168-21-000153-index.htm', 'finalLink': 'https://www.sec.gov/Archives/edgar/data/1730168/000173016821000153/avgo-20211031.htm'}, {'date': '2020-11-01', 'symbol': 'AVGO', 'reportedCurrency': 'USD', 'cik': '0001730168', 'fillingDate': '2020-12-18', 'acceptedDate': '2020-12-18 17:07:10', 'calendarYear': '2020', 'period': 'FY', 'cashAndCashEquivalents': 7618000000, 'shortTermInvestments': 0, 'cashAndShortTermInvestments': 7618000000, 'netReceivables': 2297000000, 'inventory': 1003000000, 'otherCurrentAssets': 1364000000, 'totalCurrentAssets': 11895000000, 'propertyPlantEquipmentNet': 2509000000, 'goodwill': 43447000000, 'intangibleAssets': 16782000000, 'goodwillAndIntangibleAssets': 60229000000, 'longTermInvestments': -240000000, 'taxAssets': 240000000, 'otherNonCurrentAssets': 1300000000, 'totalNonCurrentAssets': 64038000000, 'otherAssets': 0, 'totalAssets': 75933000000, 'accountPayables': 836000000, 'shortTermDebt': 827000000, 'taxPayables': 440000000, 'deferredRevenue': 2620000000, 'otherCurrentLiabilities': 1648000000, 'totalCurrentLiabilities': 6371000000, 'longTermDebt': 40810000000, 'deferredRevenueNonCurrent': 823000000, 'deferredTaxLiabilitiesNonCurrent': -823000000, 'otherNonCurrentLiabilities': 4028000000, 'totalNonCurrentLiabilities': 45661000000, 'otherLiabilities': 0, 'capitalLeaseObligations': 575000000, 'totalLiabilities': 52032000000, 'preferredStock': 27000000, 'commonStock': 0, 'retainedEarnings': 0, 'accumulatedOtherComprehensiveIncomeLoss': -108000000, 'othertotalStockholdersEquity': 23982000000, 'totalStockholdersEquity': 23901000000, 'totalEquity': 23901000000, 'totalLiabilitiesAndStockholdersEquity': 75933000000, 'minorityInterest': 0, 'totalLiabilitiesAndTotalEquity': 75933000000, 'totalInvestments': -240000000, 'totalDebt': 41062000000, 'netDebt': 33444000000, 'link': 'https://www.sec.gov/Archives/edgar/data/1730168/000173016820000226/0001730168-20-000226-index.htm', 'finalLink': 'https://www.sec.gov/Archives/edgar/data/1730168/000173016820000226/avgo-20201101.htm'}]\n",
      "[{'date': '2024-11-03', 'symbol': 'AVGO', 'reportedCurrency': 'USD', 'cik': '0001730168', 'fillingDate': '2024-12-20', 'acceptedDate': '2024-12-20 17:26:46', 'calendarYear': '2024', 'period': 'FY', 'netIncome': 5895000000, 'depreciationAndAmortization': 10010000000, 'deferredIncomeTax': 0, 'stockBasedCompensation': 5741000000, 'changeInWorkingCapital': -4637000000, 'accountsReceivables': 2327000000, 'inventory': 150000000, 'accountsPayables': 121000000, 'otherWorkingCapital': -7235000000, 'otherNonCashItems': 2953000000, 'netCashProvidedByOperatingActivities': 19962000000, 'investmentsInPropertyPlantAndEquipment': -548000000, 'acquisitionsNet': -25978000000, 'purchasesOfInvestments': -175000000, 'salesMaturitiesOfInvestments': 156000000, 'otherInvestingActivites': 3475000000, 'netCashUsedForInvestingActivites': -23070000000, 'debtRepayment': 20346000000, 'commonStockIssued': 190000000, 'commonStockRepurchased': -12392000000, 'dividendsPaid': -9814000000, 'otherFinancingActivites': -253000000, 'netCashUsedProvidedByFinancingActivities': -1733000000, 'effectOfForexChangesOnCash': 0, 'netChangeInCash': -4841000000, 'cashAtEndOfPeriod': 9348000000, 'cashAtBeginningOfPeriod': 14189000000, 'operatingCashFlow': 19962000000, 'capitalExpenditure': -548000000, 'freeCashFlow': 19414000000, 'link': 'https://www.sec.gov/Archives/edgar/data/1730168/000173016824000139/0001730168-24-000139-index.htm', 'finalLink': 'https://www.sec.gov/Archives/edgar/data/1730168/000173016824000139/avgo-20241103.htm'}, {'date': '2023-10-29', 'symbol': 'AVGO', 'reportedCurrency': 'USD', 'cik': '0001730168', 'fillingDate': '2023-12-14', 'acceptedDate': '2023-12-14 16:54:05', 'calendarYear': '2023', 'period': 'FY', 'netIncome': 14082000000, 'depreciationAndAmortization': 3835000000, 'deferredIncomeTax': -501000000, 'stockBasedCompensation': 2171000000, 'changeInWorkingCapital': -1643000000, 'accountsReceivables': -187000000, 'inventory': 27000000, 'accountsPayables': 209000000, 'otherWorkingCapital': -1692000000, 'otherNonCashItems': 141000000, 'netCashProvidedByOperatingActivities': 18085000000, 'investmentsInPropertyPlantAndEquipment': -452000000, 'acquisitionsNet': -53000000, 'purchasesOfInvestments': -346000000, 'salesMaturitiesOfInvestments': 228000000, 'otherInvestingActivites': -66000000, 'netCashUsedForInvestingActivites': -689000000, 'debtRepayment': -403000000, 'commonStockIssued': 122000000, 'commonStockRepurchased': -7685000000, 'dividendsPaid': -7645000000, 'otherFinancingActivites': -12000000, 'netCashUsedProvidedByFinancingActivities': -15623000000, 'effectOfForexChangesOnCash': 0, 'netChangeInCash': 1773000000, 'cashAtEndOfPeriod': 14189000000, 'cashAtBeginningOfPeriod': 12416000000, 'operatingCashFlow': 18085000000, 'capitalExpenditure': -452000000, 'freeCashFlow': 17633000000, 'link': 'https://www.sec.gov/Archives/edgar/data/1730168/000173016823000096/0001730168-23-000096-index.htm', 'finalLink': 'https://www.sec.gov/Archives/edgar/data/1730168/000173016823000096/avgo-20231029.htm'}, {'date': '2022-10-30', 'symbol': 'AVGO', 'reportedCurrency': 'USD', 'cik': '0001730168', 'fillingDate': '2022-12-16', 'acceptedDate': '2022-12-16 16:21:52', 'calendarYear': '2022', 'period': 'FY', 'netIncome': 11495000000, 'depreciationAndAmortization': 4984000000, 'deferredIncomeTax': -34000000, 'stockBasedCompensation': 1533000000, 'changeInWorkingCapital': -1654000000, 'accountsReceivables': -870000000, 'inventory': -627000000, 'accountsPayables': -79000000, 'otherWorkingCapital': -78000000, 'otherNonCashItems': 412000000, 'netCashProvidedByOperatingActivities': 16736000000, 'investmentsInPropertyPlantAndEquipment': -424000000, 'acquisitionsNet': -246000000, 'purchasesOfInvestments': -200000000, 'salesMaturitiesOfInvestments': 200000000, 'otherInvestingActivites': 3000000, 'netCashUsedForInvestingActivites': -667000000, 'debtRepayment': -426000000, 'commonStockIssued': 114000000, 'commonStockRepurchased': -8455000000, 'dividendsPaid': -7032000000, 'otherFinancingActivites': -17000000, 'netCashUsedProvidedByFinancingActivities': -15816000000, 'effectOfForexChangesOnCash': 0, 'netChangeInCash': 253000000, 'cashAtEndOfPeriod': 12416000000, 'cashAtBeginningOfPeriod': 12163000000, 'operatingCashFlow': 16736000000, 'capitalExpenditure': -424000000, 'freeCashFlow': 16312000000, 'link': 'https://www.sec.gov/Archives/edgar/data/1730168/000173016822000118/0001730168-22-000118-index.htm', 'finalLink': 'https://www.sec.gov/Archives/edgar/data/1730168/000173016822000118/avgo-20221030.htm'}, {'date': '2021-10-31', 'symbol': 'AVGO', 'reportedCurrency': 'USD', 'cik': '0001730168', 'fillingDate': '2021-12-17', 'acceptedDate': '2021-12-17 16:42:51', 'calendarYear': '2021', 'period': 'FY', 'netIncome': 6736000000, 'depreciationAndAmortization': 6041000000, 'deferredIncomeTax': -809000000, 'stockBasedCompensation': 1704000000, 'changeInWorkingCapital': -127000000, 'accountsReceivables': 210000000, 'inventory': -294000000, 'accountsPayables': 243000000, 'otherWorkingCapital': -286000000, 'otherNonCashItems': 219000000, 'netCashProvidedByOperatingActivities': 13764000000, 'investmentsInPropertyPlantAndEquipment': -443000000, 'acquisitionsNet': 37000000, 'purchasesOfInvestments': 4000000, 'salesMaturitiesOfInvestments': 169000000, 'otherInvestingActivites': -12000000, 'netCashUsedForInvestingActivites': -245000000, 'debtRepayment': -1591000000, 'commonStockIssued': 170000000, 'commonStockRepurchased': -1299000000, 'dividendsPaid': -6212000000, 'otherFinancingActivites': -42000000, 'netCashUsedProvidedByFinancingActivities': -8974000000, 'effectOfForexChangesOnCash': 0, 'netChangeInCash': 4545000000, 'cashAtEndOfPeriod': 12163000000, 'cashAtBeginningOfPeriod': 7618000000, 'operatingCashFlow': 13764000000, 'capitalExpenditure': -443000000, 'freeCashFlow': 13321000000, 'link': 'https://www.sec.gov/Archives/edgar/data/1730168/000173016821000153/0001730168-21-000153-index.htm', 'finalLink': 'https://www.sec.gov/Archives/edgar/data/1730168/000173016821000153/avgo-20211031.htm'}, {'date': '2020-11-01', 'symbol': 'AVGO', 'reportedCurrency': 'USD', 'cik': '0001730168', 'fillingDate': '2020-12-18', 'acceptedDate': '2020-12-18 17:07:10', 'calendarYear': '2020', 'period': 'FY', 'netIncome': 2960000000, 'depreciationAndAmortization': 6905000000, 'deferredIncomeTax': -1142000000, 'stockBasedCompensation': 1976000000, 'changeInWorkingCapital': 1093000000, 'accountsReceivables': 981000000, 'inventory': -31000000, 'accountsPayables': -3000000, 'otherWorkingCapital': 146000000, 'otherNonCashItems': 269000000, 'netCashProvidedByOperatingActivities': 12061000000, 'investmentsInPropertyPlantAndEquipment': -463000000, 'acquisitionsNet': -10654000000, 'purchasesOfInvestments': 0, 'salesMaturitiesOfInvestments': 0, 'otherInvestingActivites': 8000000, 'netCashUsedForInvestingActivites': -11109000000, 'debtRepayment': 7703000000, 'commonStockIssued': 276000000, 'commonStockRepurchased': -765000000, 'dividendsPaid': -5534000000, 'otherFinancingActivites': -69000000, 'netCashUsedProvidedByFinancingActivities': 1611000000, 'effectOfForexChangesOnCash': 0, 'netChangeInCash': 2563000000, 'cashAtEndOfPeriod': 7618000000, 'cashAtBeginningOfPeriod': 5055000000, 'operatingCashFlow': 12061000000, 'capitalExpenditure': -463000000, 'freeCashFlow': 11598000000, 'link': 'https://www.sec.gov/Archives/edgar/data/1730168/000173016820000226/0001730168-20-000226-index.htm', 'finalLink': 'https://www.sec.gov/Archives/edgar/data/1730168/000173016820000226/avgo-20201101.htm'}]\n",
      "[{'symbol': 'AVGO', 'date': '2024-11-03', 'calendarYear': '2024', 'period': 'FY', 'currentRatio': 1.1735641133137689, 'quickRatio': 1.068155956159789, 'cashRatio': 0.5598610528837515, 'daysOfSalesOutstanding': 31.252956916275643, 'daysOfInventoryOutstanding': 33.695253081563074, 'operatingCycle': 64.94820999783872, 'daysOfPayablesOutstanding': 31.81904012588513, 'cashConversionCycle': 33.12916987195359, 'grossProfitMargin': 0.6303369915073487, 'operatingProfitMargin': 0.26104238569822, 'pretaxProfitMargin': 0.19226742156900764, 'netProfitMargin': 0.11430177996664986, 'effectiveTaxRate': 0.37797498991528844, 'returnOnAssets': 0.03558815539255637, 'returnOnEquity': 0.08710363781435622, 'returnOnCapitalEmployed': 0.09038724924134597, 'netIncomePerEBT': 0.5944937474788221, 'ebtPerEbit': 0.7365371759637525, 'ebitPerRevenue': 0.26104238569822, 'debtRatio': 0.40789640496241963, 'debtEquityRatio': 0.998345104760779, 'longTermDebtToCapitalization': 0.4948385122375404, 'totalDebtToCapitalization': 0.49958593357191444, 'interestCoverage': 3.546628029504742, 'cashFlowToDebtRatio': 0.29544445431134003, 'companyEquityMultiplier': 2.4475457312568336, 'receivablesTurnover': 11.678894927536232, 'payablesTurnover': 11.471119133574007, 'inventoryTurnover': 10.832386363636363, 'fixedAssetTurnover': 20.457754859182863, 'assetTurnover': 0.3113525913851912, 'operatingCashFlowPerShare': 4.317041522491349, 'freeCashFlowPerShare': 4.198529411764706, 'cashPerShare': 2.0216262975778547, 'payoutRatio': 1.6648006785411364, 'operatingCashFlowSalesRatio': 0.3870554930779075, 'freeCashFlowOperatingCashFlowRatio': 0.9725478408977056, 'cashFlowCoverageRatios': 0.29544445431134003, 'shortTermCoverageRatios': 15.705743509047993, 'capitalExpenditureCoverageRatio': 36.42700729927007, 'dividendPaidAndCapexCoverageRatio': 1.9264620729588882, 'dividendPayoutRatio': 1.6648006785411364, 'priceBookValueRatio': 11.515931321847573, 'priceToBookRatio': 11.515931321847573, 'priceToSalesRatio': 15.111785007949742, 'priceEarningsRatio': 132.20953350296864, 'priceToFreeCashFlowsRatio': 40.14500875656743, 'priceToOperatingCashFlowsRatio': 39.04294158901914, 'priceCashFlowRatio': 39.04294158901914, 'priceEarningsToGrowthRatio': -2.175681158131377, 'priceSalesRatio': 15.111785007949742, 'dividendYield': 0.012592137907390432, 'enterpriseValueMultiple': 35.308709215074614, 'priceFairValue': 11.515931321847573}, {'symbol': 'AVGO', 'date': '2023-10-29', 'calendarYear': '2023', 'period': 'FY', 'currentRatio': 2.8152599594868333, 'quickRatio': 2.5589466576637405, 'cashRatio': 1.9161377447670493, 'daysOfSalesOutstanding': 32.13964655629694, 'daysOfInventoryOutstanding': 62.24907898283763, 'operatingCycle': 94.38872553913457, 'daysOfPayablesOutstanding': 39.68460778147183, 'cashConversionCycle': 54.704117757662736, 'grossProfitMargin': 0.6892989754041151, 'operatingProfitMargin': 0.452469359836958, 'pretaxProfitMargin': 0.42148021999497476, 'netProfitMargin': 0.39314330383316115, 'effectiveTaxRate': 0.06723190037755845, 'returnOnAssets': 0.1932721208877177, 'returnOnEquity': 0.5870435217608805, 'returnOnCapitalEmployed': 0.24760144219017355, 'netIncomePerEBT': 0.9327680996224416, 'ebtPerEbit': 0.9315110754612205, 'ebitPerRevenue': 0.452469359836958, 'debtRatio': 0.5384087509092655, 'debtEquityRatio': 1.6353593463398366, 'longTermDebtToCapitalization': 0.6106160214268322, 'totalDebtToCapitalization': 0.6205451065377984, 'interestCoverage': 9.991985203452527, 'cashFlowToDebtRatio': 0.4610109867699916, 'companyEquityMultiplier': 3.037393696848424, 'receivablesTurnover': 11.356689917564998, 'payablesTurnover': 9.197520661157025, 'inventoryTurnover': 5.863540569020021, 'fixedAssetTurnover': 13.68704623614826, 'assetTurnover': 0.4916073070641358, 'operatingCashFlowPerShare': 4.357831325301205, 'freeCashFlowPerShare': 4.248915662650602, 'cashPerShare': 3.419036144578313, 'payoutRatio': 0.5428916347109786, 'operatingCashFlowSalesRatio': 0.5048996342723135, 'freeCashFlowOperatingCashFlowRatio': 0.9750069118053636, 'cashFlowCoverageRatios': 0.4610109867699916, 'shortTermCoverageRatios': 11.570697376839412, 'capitalExpenditureCoverageRatio': 40.01106194690266, 'dividendPaidAndCapexCoverageRatio': 2.2335432876373966, 'dividendPayoutRatio': 0.5428916347109786, 'priceBookValueRatio': 14.554756544939137, 'priceToBookRatio': 14.554756544939137, 'priceToSalesRatio': 9.747326837711828, 'priceEarningsRatio': 24.793317710552476, 'priceToFreeCashFlowsRatio': 19.800345942267338, 'priceToOperatingCashFlowsRatio': 19.30547414984794, 'priceCashFlowRatio': 19.30547414984794, 'priceEarningsToGrowthRatio': 1.0451337004140588, 'priceSalesRatio': 9.747326837711828, 'dividendYield': 0.021896691723508797, 'enterpriseValueMultiple': 18.20470468035419, 'priceFairValue': 14.554756544939137}, {'symbol': 'AVGO', 'date': '2022-10-30', 'calendarYear': '2022', 'period': 'FY', 'currentRatio': 2.6239364719228586, 'quickRatio': 2.350964265456608, 'cashRatio': 1.7606352807714123, 'daysOfSalesOutstanding': 32.51724241785381, 'daysOfInventoryOutstanding': 63.25396110911055, 'operatingCycle': 95.77120352696437, 'daysOfPayablesOutstanding': 32.793482175009004, 'cashConversionCycle': 62.97772135195537, 'grossProfitMargin': 0.6654519169954523, 'operatingProfitMargin': 0.4284251423064181, 'pretaxProfitMargin': 0.37448423335240794, 'netProfitMargin': 0.3462036562961178, 'effectiveTaxRate': 0.07551873894161171, 'returnOnAssets': 0.15693047004054664, 'returnOnEquity': 0.5061869743273592, 'returnOnCapitalEmployed': 0.21488889224587218, 'netIncomePerEBT': 0.9244812610583882, 'ebtPerEbit': 0.8740949033391916, 'ebitPerRevenue': 0.4284251423064181, 'debtRatio': 0.5394612895739191, 'debtEquityRatio': 1.7400590074419833, 'longTermDebtToCapitalization': 0.6323143680580292, 'totalDebtToCapitalization': 0.6350443558755464, 'interestCoverage': 8.189407023603914, 'cashFlowToDebtRatio': 0.4235353663165886, 'companyEquityMultiplier': 3.2255493416707033, 'receivablesTurnover': 11.224814063556456, 'payablesTurnover': 11.130260521042084, 'inventoryTurnover': 5.770389610389611, 'fixedAssetTurnover': 14.93612235717499, 'assetTurnover': 0.4532894647025898, 'operatingCashFlowPerShare': 4.091931540342299, 'freeCashFlowPerShare': 3.9882640586797065, 'cashPerShare': 3.0356968215158924, 'payoutRatio': 0.6117442366246194, 'operatingCashFlowSalesRatio': 0.5040508387796283, 'freeCashFlowOperatingCashFlowRatio': 0.9746653919694073, 'cashFlowCoverageRatios': 0.4235353663165886, 'shortTermCoverageRatios': 41.52853598014888, 'capitalExpenditureCoverageRatio': 39.471698113207545, 'dividendPaidAndCapexCoverageRatio': 2.244635193133047, 'dividendPayoutRatio': 0.6117442366246194, 'priceBookValueRatio': 8.466726848386102, 'priceToBookRatio': 8.466726848386102, 'priceToSalesRatio': 5.790768906424118, 'priceEarningsRatio': 16.726481078729883, 'priceToFreeCashFlowsRatio': 11.787083128984797, 'priceToOperatingCashFlowsRatio': 11.488461998087953, 'priceCashFlowRatio': 11.488461998087953, 'priceEarningsToGrowthRatio': 0.22444936148381125, 'priceSalesRatio': 5.790768906424118, 'dividendYield': 0.036573397222356585, 'enterpriseValueMultiple': 11.452357086922474, 'priceFairValue': 8.466726848386102}, {'symbol': 'AVGO', 'date': '2021-10-31', 'calendarYear': '2021', 'period': 'FY', 'currentRatio': 2.6406623149180066, 'quickRatio': 2.4341665339914025, 'cashRatio': 1.9364750835854163, 'daysOfSalesOutstanding': 27.537887067395264, 'daysOfInventoryOutstanding': 44.63558363190647, 'operatingCycle': 72.17347069930173, 'daysOfPayablesOutstanding': 37.374127852159155, 'cashConversionCycle': 34.799342847142576, 'grossProfitMargin': 0.6136247723132969, 'operatingProfitMargin': 0.31034608378870676, 'pretaxProfitMargin': 0.246448087431694, 'netProfitMargin': 0.24539162112932605, 'effectiveTaxRate': 0.004286770140428677, 'returnOnAssets': 0.08913590048961229, 'returnOnEquity': 0.26955860578654606, 'returnOnCapitalEmployed': 0.12294880861319979, 'netIncomePerEBT': 0.9957132298595713, 'ebtPerEbit': 0.7941072895879798, 'ebitPerRevenue': 0.31034608378870676, 'debtRatio': 0.5257377266110891, 'debtEquityRatio': 1.589899555804554, 'longTermDebtToCapitalization': 0.6119117875446498, 'totalDebtToCapitalization': 0.6138846397503052, 'interestCoverage': 4.519363395225464, 'cashFlowToDebtRatio': 0.3464384596023156, 'companyEquityMultiplier': 3.0241306174716875, 'receivablesTurnover': 13.25446644133269, 'payablesTurnover': 9.766114180478821, 'inventoryTurnover': 8.17733230531997, 'fixedAssetTurnover': 11.690800681431005, 'assetTurnover': 0.3632393807066296, 'operatingCashFlowPerShare': 3.357073170731707, 'freeCashFlowPerShare': 3.2490243902439024, 'cashPerShare': 2.9665853658536587, 'payoutRatio': 0.922209026128266, 'operatingCashFlowSalesRatio': 0.5014207650273224, 'freeCashFlowOperatingCashFlowRatio': 0.9678145887823307, 'cashFlowCoverageRatios': 0.3464384596023156, 'shortTermCoverageRatios': 52.13636363636363, 'capitalExpenditureCoverageRatio': 31.06997742663657, 'dividendPaidAndCapexCoverageRatio': 2.068219383921863, 'dividendPayoutRatio': 0.922209026128266, 'priceBookValueRatio': 8.664652447076714, 'priceToBookRatio': 8.664652447076714, 'priceToSalesRatio': 7.887832422586521, 'priceEarningsRatio': 32.14385391923991, 'priceToFreeCashFlowsRatio': 16.254110051797912, 'priceToOperatingCashFlowsRatio': 15.730964835803547, 'priceCashFlowRatio': 15.730964835803547, 'priceEarningsToGrowthRatio': 0.23313124820547626, 'priceSalesRatio': 7.887832422586521, 'dividendYield': 0.028690057777305666, 'enterpriseValueMultiple': 16.61479817575386, 'priceFairValue': 8.664652447076714}, {'symbol': 'AVGO', 'date': '2020-11-01', 'calendarYear': '2020', 'period': 'FY', 'currentRatio': 1.8670538377020875, 'quickRatio': 1.7096217234343116, 'cashRatio': 1.1957306545283315, 'daysOfSalesOutstanding': 35.09732920294709, 'daysOfInventoryOutstanding': 35.296471268800616, 'operatingCycle': 70.39380047174771, 'daysOfPayablesOutstanding': 29.419591207096026, 'cashConversionCycle': 40.974209264651684, 'grossProfitMargin': 0.5658070997990623, 'operatingProfitMargin': 0.16803415941058272, 'pretaxProfitMargin': 0.10226892163429337, 'netProfitMargin': 0.12391158740790355, 'effectiveTaxRate': -0.21203438395415472, 'returnOnAssets': 0.038981733896988134, 'returnOnEquity': 0.12384419061963935, 'returnOnCapitalEmployed': 0.057703918806244786, 'netIncomePerEBT': 1.2116250511665985, 'ebtPerEbit': 0.6086198305929248, 'ebitPerRevenue': 0.16803415941058272, 'debtRatio': 0.5407662017831509, 'debtEquityRatio': 1.7180034308187941, 'longTermDebtToCapitalization': 0.6273387800923038, 'totalDebtToCapitalization': 0.6320828779459077, 'interestCoverage': 2.2588632526730446, 'cashFlowToDebtRatio': 0.29372655983634505, 'companyEquityMultiplier': 3.1769800426760386, 'receivablesTurnover': 10.399651719634306, 'payablesTurnover': 12.4066985645933, 'inventoryTurnover': 10.340977068793618, 'fixedAssetTurnover': 9.520924671183739, 'assetTurnover': 0.31459312815245016, 'operatingCashFlowPerShare': 3.0002487562189053, 'freeCashFlowPerShare': 2.8850746268656717, 'cashPerShare': 1.8950248756218906, 'payoutRatio': 1.8695945945945946, 'operatingCashFlowSalesRatio': 0.504897856664434, 'freeCashFlowOperatingCashFlowRatio': 0.9616118066495315, 'cashFlowCoverageRatios': 0.29372655983634505, 'shortTermCoverageRatios': 14.58403869407497, 'capitalExpenditureCoverageRatio': 26.049676025917925, 'dividendPaidAndCapexCoverageRatio': 2.011172252793063, 'dividendPayoutRatio': 1.8695945945945946, 'priceBookValueRatio': 5.908648173716582, 'priceToBookRatio': 5.908648173716582, 'priceToSalesRatio': 5.911863697253851, 'priceEarningsRatio': 47.71033783783784, 'priceToFreeCashFlowsRatio': 12.17646145887222, 'priceToOperatingCashFlowsRatio': 11.709029102064507, 'priceCashFlowRatio': 11.709029102064507, 'priceEarningsToGrowthRatio': -16.22151486486486, 'priceSalesRatio': 5.911863697253851, 'dividendYield': 0.03918636252271237, 'enterpriseValueMultiple': 15.700368539325842, 'priceFairValue': 5.908648173716582}]\n",
      "[{'symbol': 'AVGO', 'date': '2024-11-03', 'calendarYear': '2024', 'period': 'FY', 'revenuePerShare': 11.153546712802768, 'netIncomePerShare': 1.2748702422145328, 'operatingCashFlowPerShare': 4.317041522491349, 'freeCashFlowPerShare': 4.198529411764706, 'cashPerShare': 2.0216262975778547, 'bookValuePerShare': 14.636245674740485, 'tangibleBookValuePerShare': -15.306660899653979, 'shareholdersEquityPerShare': 14.636245674740485, 'interestDebtPerShare': 15.43295847750865, 'marketCap': 779375200000, 'enterpriseValue': 837593200000, 'peRatio': 132.20953350296864, 'priceToSalesRatio': 15.111785007949742, 'pocfratio': 39.04294158901914, 'pfcfRatio': 40.14500875656743, 'pbRatio': 11.515931321847573, 'ptbRatio': 11.515931321847573, 'evToSales': 16.240609609493156, 'enterpriseValueOverEBITDA': 35.308709215074614, 'evToOperatingCashFlow': 41.959382827372, 'evToFreeCashFlow': 43.143772535283816, 'earningsYield': 0.007563751066238699, 'freeCashFlowYield': 0.024909696895667195, 'debtToEquity': 0.998345104760779, 'debtToAssets': 0.40789640496241963, 'netDebtToEBITDA': 2.4541775566984234, 'currentRatio': 1.1735641133137689, 'interestCoverage': 3.546628029504742, 'incomeQuality': 3.386259541984733, 'dividendYield': 0.012592137907390432, 'payoutRatio': 1.6648006785411364, 'salesGeneralAndAdministrativeToRevenue': 0, 'researchAndDdevelopementToRevenue': 0.18051731492612558, 'intangiblesToTotalAssets': 0.8358598207008965, 'capexToOperatingCashFlow': 0.02745215910229436, 'capexToRevenue': 0.01062550897739171, 'capexToDepreciation': 0.05474525474525475, 'stockBasedCompensationToRevenue': 0.11131577926862372, 'grahamNumber': 20.48986497126142, 'roic': 0.05574742682863334, 'returnOnTangibleAssets': 0.2168156239655743, 'grahamNetNet': -18.258434256055363, 'workingCapital': 2898000000, 'tangibleAssetValue': -70778000000, 'netCurrentAssetValue': -78372000000, 'investedCapital': 143875000000, 'averageReceivables': 3785000000, 'averagePayables': 1436000000, 'averageInventory': 1829000000, 'daysSalesOutstanding': 31.25295691627564, 'daysPayablesOutstanding': 31.819040125885127, 'daysOfInventoryOnHand': 33.695253081563074, 'receivablesTurnover': 11.678894927536232, 'payablesTurnover': 11.471119133574007, 'inventoryTurnover': 10.832386363636363, 'roe': 0.08710363781435622, 'capexPerShare': 0.1185121107266436}, {'symbol': 'AVGO', 'date': '2023-10-29', 'calendarYear': '2023', 'period': 'FY', 'revenuePerShare': 8.631084337349398, 'netIncomePerShare': 3.3932530120481927, 'operatingCashFlowPerShare': 4.357831325301205, 'freeCashFlowPerShare': 4.248915662650602, 'cashPerShare': 3.419036144578313, 'bookValuePerShare': 5.780240963855421, 'tangibleBookValuePerShare': -5.670361445783133, 'shareholdersEquityPerShare': 5.780240963855421, 'interestDebtPerShare': 9.843614457831325, 'marketCap': 349139500000, 'enterpriseValue': 374179500000, 'peRatio': 24.793317710552476, 'priceToSalesRatio': 9.747326837711828, 'pocfratio': 19.30547414984794, 'pfcfRatio': 19.800345942267338, 'pbRatio': 14.554756544939137, 'ptbRatio': 14.554756544939137, 'evToSales': 10.44639716351657, 'enterpriseValueOverEBITDA': 18.20470468035419, 'evToOperatingCashFlow': 20.690047000276472, 'evToFreeCashFlow': 21.22041059377304, 'earningsYield': 0.040333448378083836, 'freeCashFlowYield': 0.05050416810472605, 'debtToEquity': 1.6353593463398366, 'debtToAssets': 0.5384087509092655, 'netDebtToEBITDA': 1.2182543543835749, 'currentRatio': 2.8152599594868333, 'interestCoverage': 9.991985203452527, 'incomeQuality': 1.284263598920608, 'dividendYield': 0.021896691723508797, 'payoutRatio': 0.5428916347109786, 'salesGeneralAndAdministrativeToRevenue': 0, 'researchAndDdevelopementToRevenue': 0.14665401044138585, 'intangiblesToTotalAssets': 0.6522007658418084, 'capexToOperatingCashFlow': 0.02499308819463644, 'capexToRevenue': 0.012619001088807615, 'capexToDepreciation': 0.11786179921773142, 'stockBasedCompensationToRevenue': 0.06061029062787906, 'grahamNumber': 21.007402299469398, 'roic': 0.22541710292527897, 'returnOnTangibleAssets': 0.5557002486089736, 'grahamNetNet': -7.558915662650603, 'workingCapital': 13442000000, 'tangibleAssetValue': -23532000000, 'netCurrentAssetValue': -28026000000, 'investedCapital': 63579000000, 'averageReceivables': 3056000000, 'averagePayables': 1104000000, 'averageInventory': 1911500000, 'daysSalesOutstanding': 32.13964655629694, 'daysPayablesOutstanding': 39.68460778147183, 'daysOfInventoryOnHand': 62.24907898283763, 'receivablesTurnover': 11.356689917564998, 'payablesTurnover': 9.197520661157025, 'inventoryTurnover': 5.863540569020021, 'roe': 0.5870435217608805, 'capexPerShare': 0.10891566265060242}, {'symbol': 'AVGO', 'date': '2022-10-30', 'calendarYear': '2022', 'period': 'FY', 'revenuePerShare': 8.118092909535452, 'netIncomePerShare': 2.8105134474327627, 'operatingCashFlowPerShare': 4.091931540342299, 'freeCashFlowPerShare': 3.9882640586797065, 'cashPerShare': 3.0356968215158924, 'bookValuePerShare': 5.552322738386308, 'tangibleBookValuePerShare': -6.849877750611247, 'shareholdersEquityPerShare': 5.552322738386308, 'interestDebtPerShare': 10.086063569682151, 'marketCap': 192270900000, 'enterpriseValue': 219369900000, 'peRatio': 16.726481078729883, 'priceToSalesRatio': 5.790768906424118, 'pocfratio': 11.488461998087953, 'pfcfRatio': 11.787083128984797, 'pbRatio': 8.466726848386102, 'ptbRatio': 8.466726848386102, 'evToSales': 6.606930096678011, 'enterpriseValueOverEBITDA': 11.452357086922474, 'evToOperatingCashFlow': 13.107666108986615, 'evToFreeCashFlow': 13.448375429131927, 'earningsYield': 0.05978543815002686, 'freeCashFlowYield': 0.08483863132694547, 'debtToEquity': 1.7400590074419833, 'debtToAssets': 0.5394612895739191, 'netDebtToEBITDA': 1.414722004698512, 'currentRatio': 2.6239364719228586, 'interestCoverage': 8.189407023603914, 'incomeQuality': 1.4559373640713353, 'dividendYield': 0.036573397222356585, 'payoutRatio': 0.6117442366246194, 'salesGeneralAndAdministrativeToRevenue': 0, 'researchAndDdevelopementToRevenue': 0.14814926362075717, 'intangiblesToTotalAssets': 0.6925009215142869, 'capexToOperatingCashFlow': 0.025334608030592735, 'capexToRevenue': 0.012769930427973376, 'capexToDepreciation': 0.08507223113964688, 'stockBasedCompensationToRevenue': 0.046170526759630154, 'grahamNumber': 18.7379227428291, 'roic': 0.19734900938751107, 'returnOnTangibleAssets': 0.5103445213993962, 'grahamNetNet': -8.543520782396088, 'workingCapital': 11452000000, 'tangibleAssetValue': -28016000000, 'netCurrentAssetValue': -32036000000, 'investedCapital': 64400000000, 'averageReceivables': 2514500000, 'averagePayables': 1042000000, 'averageInventory': 1611000000, 'daysSalesOutstanding': 32.51724241785381, 'daysPayablesOutstanding': 32.793482175009004, 'daysOfInventoryOnHand': 63.253961109110556, 'receivablesTurnover': 11.224814063556456, 'payablesTurnover': 11.130260521042084, 'inventoryTurnover': 5.770389610389611, 'roe': 0.5061869743273592, 'capexPerShare': 0.10366748166259168}, {'symbol': 'AVGO', 'date': '2021-10-31', 'calendarYear': '2021', 'period': 'FY', 'revenuePerShare': 6.695121951219512, 'netIncomePerShare': 1.6429268292682926, 'operatingCashFlowPerShare': 3.357073170731707, 'freeCashFlowPerShare': 3.2490243902439024, 'cashPerShare': 2.9665853658536587, 'bookValuePerShare': 6.094878048780488, 'tangibleBookValuePerShare': -7.2768292682926825, 'shareholdersEquityPerShare': 6.094878048780488, 'interestDebtPerShare': 10.15, 'marketCap': 216521000000, 'enterpriseValue': 244088000000, 'peRatio': 32.14385391923991, 'priceToSalesRatio': 7.887832422586521, 'pocfratio': 15.730964835803547, 'pfcfRatio': 16.254110051797912, 'pbRatio': 8.664652447076714, 'ptbRatio': 8.664652447076714, 'evToSales': 8.892094717668488, 'enterpriseValueOverEBITDA': 16.61479817575386, 'evToOperatingCashFlow': 17.733798314443476, 'evToFreeCashFlow': 18.323549283086855, 'earningsYield': 0.03111014635993737, 'freeCashFlowYield': 0.0615229007809866, 'debtToEquity': 1.589899555804554, 'debtToAssets': 0.5257377266110891, 'netDebtToEBITDA': 1.8764549724321014, 'currentRatio': 2.6406623149180066, 'interestCoverage': 4.519363395225464, 'incomeQuality': 2.0433491686460807, 'dividendYield': 0.028690057777305666, 'payoutRatio': 0.922209026128266, 'salesGeneralAndAdministrativeToRevenue': 0, 'researchAndDdevelopementToRevenue': 0.17683060109289617, 'intangiblesToTotalAssets': 0.7254730713245997, 'capexToOperatingCashFlow': 0.03218541121766928, 'capexToRevenue': 0.016138433515482695, 'capexToDepreciation': 0.07333222976328423, 'stockBasedCompensationToRevenue': 0.06207650273224044, 'grahamNumber': 15.010075616659847, 'roic': 0.12191151073130813, 'returnOnTangibleAssets': 0.32468909669333845, 'grahamNetNet': -8.833231707317074, 'workingCapital': 10305000000, 'tangibleAssetValue': -29835000000, 'netCurrentAssetValue': -33995000000, 'investedCapital': 67477000000, 'averageReceivables': 2184000000, 'averagePayables': 961000000, 'averageInventory': 1150000000, 'daysSalesOutstanding': 27.537887067395264, 'daysPayablesOutstanding': 37.374127852159155, 'daysOfInventoryOnHand': 44.63558363190647, 'receivablesTurnover': 13.25446644133269, 'payablesTurnover': 9.766114180478821, 'inventoryTurnover': 8.17733230531997, 'roe': 0.26955860578654606, 'capexPerShare': 0.10804878048780488}, {'symbol': 'AVGO', 'date': '2020-11-01', 'calendarYear': '2020', 'period': 'FY', 'revenuePerShare': 5.942288557213931, 'netIncomePerShare': 0.736318407960199, 'operatingCashFlowPerShare': 3.0002487562189053, 'freeCashFlowPerShare': 2.8850746268656717, 'cashPerShare': 1.8950248756218906, 'bookValuePerShare': 5.945522388059701, 'tangibleBookValuePerShare': -9.03681592039801, 'shareholdersEquityPerShare': 5.945522388059701, 'interestDebtPerShare': 10.656467661691542, 'marketCap': 141222600000, 'enterpriseValue': 174666600000, 'peRatio': 47.71033783783784, 'priceToSalesRatio': 5.911863697253851, 'pocfratio': 11.709029102064507, 'pfcfRatio': 12.17646145887222, 'pbRatio': 5.908648173716582, 'ptbRatio': 5.908648173716582, 'evToSales': 7.31189718687207, 'enterpriseValueOverEBITDA': 15.700368539325842, 'evToOperatingCashFlow': 14.48193350468452, 'evToFreeCashFlow': 15.060062079668908, 'earningsYield': 0.020959818046120095, 'freeCashFlowYield': 0.08212566543881787, 'debtToEquity': 1.7180034308187941, 'debtToAssets': 0.5407662017831509, 'netDebtToEBITDA': 3.0062022471910113, 'currentRatio': 1.8670538377020875, 'interestCoverage': 2.2588632526730446, 'incomeQuality': 4.074662162162162, 'dividendYield': 0.03918636252271237, 'payoutRatio': 1.8695945945945946, 'salesGeneralAndAdministrativeToRevenue': 0, 'researchAndDdevelopementToRevenue': 0.20797052913596786, 'intangiblesToTotalAssets': 0.7931860982708441, 'capexToOperatingCashFlow': 0.038388193350468454, 'capexToRevenue': 0.0193821165438714, 'capexToDepreciation': 0.0670528602461984, 'stockBasedCompensationToRevenue': 0.08271935699933021, 'grahamNumber': 9.924739066269016, 'roic': 0.06911741915912965, 'returnOnTangibleAssets': 0.18848700967906265, 'grahamNetNet': -10.494962686567165, 'workingCapital': 5524000000, 'tangibleAssetValue': -36328000000, 'netCurrentAssetValue': -40137000000, 'investedCapital': 68262000000, 'averageReceivables': 2778000000, 'averagePayables': 845500000, 'averageInventory': 938500000, 'daysSalesOutstanding': 35.09732920294709, 'daysPayablesOutstanding': 29.419591207096026, 'daysOfInventoryOnHand': 35.296471268800616, 'receivablesTurnover': 10.399651719634306, 'payablesTurnover': 12.4066985645933, 'inventoryTurnover': 10.340977068793618, 'roe': 0.12384419061963935, 'capexPerShare': 0.11517412935323383}]\n",
      "[{'symbol': 'AVGO', 'price': 188.735, 'beta': 1.03, 'volAvg': 32104181, 'mktCap': 887418758550, 'lastDiv': 2.17, 'range': '119.756-251.88', 'changes': -5.765, 'companyName': 'Broadcom Inc.', 'currency': 'USD', 'cik': '0001730168', 'isin': 'US11135F1012', 'cusip': '11135F101', 'exchange': 'NASDAQ Global Select', 'exchangeShortName': 'NASDAQ', 'industry': 'Semiconductors', 'website': 'https://www.broadcom.com', 'description': 'Broadcom Inc. designs, develops, and supplies various semiconductor devices with a focus on complex digital and mixed signal complementary metal oxide semiconductor based devices and analog III-V based products worldwide. The company operates in two segments, Semiconductor Solutions and Infrastructure Software. It provides set-top box system-on-chips (SoCs); cable, digital subscriber line, and passive optical networking central office/consumer premise equipment SoCs; wireless local area network access point SoCs; Ethernet switching and routing merchant silicon products; embedded processors and controllers; serializer/deserializer application specific integrated circuits; optical and copper, and physical layers; and fiber optic transmitter and receiver components. The company also offers RF front end modules, filters, and power amplifiers; Wi-Fi, Bluetooth, and global positioning system/global navigation satellite system SoCs; custom touch controllers; serial attached small computer system interface, and redundant array of independent disks controllers and adapters; peripheral component interconnect express switches; fiber channel host bus adapters; read channel based SoCs; custom flash controllers; preamplifiers; and optocouplers, industrial fiber optics, and motion control encoders and subsystems. Its products are used in various applications, including enterprise and data center networking, home connectivity, set-top boxes, broadband access, telecommunication equipment, smartphones and base stations, data center servers and storage systems, factory automation, power generation and alternative energy systems, and electronic displays. Broadcom Inc. was incorporated in 2018 and is headquartered in San Jose, California.', 'ceo': 'Mr. Hock E. Tan', 'sector': 'Technology', 'country': 'US', 'fullTimeEmployees': '37000', 'phone': '408 433 8000', 'address': '1320 Ridder Park Drive', 'city': 'San Jose', 'state': 'CA', 'zip': '95131-2313', 'dcfDiff': -31.96569, 'dcf': 221.755688269263, 'image': 'https://images.financialmodelingprep.com/symbol/AVGO.png', 'ipoDate': '2009-08-06', 'defaultImage': False, 'isEtf': False, 'isActivelyTrading': True, 'isAdr': False, 'isFund': False}]\n",
      "[{'symbol': 'AVGO', 'date': '2025-03-17', 'rating': 'B', 'ratingScore': 3, 'ratingRecommendation': 'Neutral', 'ratingDetailsDCFScore': 4, 'ratingDetailsDCFRecommendation': 'Buy', 'ratingDetailsROEScore': 5, 'ratingDetailsROERecommendation': 'Strong Buy', 'ratingDetailsROAScore': 5, 'ratingDetailsROARecommendation': 'Strong Buy', 'ratingDetailsDEScore': 1, 'ratingDetailsDERecommendation': 'Strong Sell', 'ratingDetailsPEScore': 1, 'ratingDetailsPERecommendation': 'Strong Sell', 'ratingDetailsPBScore': 1, 'ratingDetailsPBRecommendation': 'Strong Sell'}]\n",
      "[{'date': '2025-03-06', 'symbol': 'AVGO', 'actualEarningResult': 1.6, 'estimatedEarning': 1.51}, {'date': '2024-12-12', 'symbol': 'AVGO', 'actualEarningResult': 1.42, 'estimatedEarning': 1.38}, {'date': '2024-09-05', 'symbol': 'AVGO', 'actualEarningResult': 1.24, 'estimatedEarning': 1.22}, {'date': '2024-06-12', 'symbol': 'AVGO', 'actualEarningResult': 1.1, 'estimatedEarning': 1.09}, {'date': '2024-03-07', 'symbol': 'AVGO', 'actualEarningResult': 1.1, 'estimatedEarning': 10.37}, {'date': '2023-12-07', 'symbol': 'AVGO', 'actualEarningResult': 1.11, 'estimatedEarning': 1.1}, {'date': '2023-08-31', 'symbol': 'AVGO', 'actualEarningResult': 1.05, 'estimatedEarning': 1.04}, {'date': '2023-06-01', 'symbol': 'AVGO', 'actualEarningResult': 1.03, 'estimatedEarning': 1.01}, {'date': '2023-03-02', 'symbol': 'AVGO', 'actualEarningResult': 1.03, 'estimatedEarning': 1.02}, {'date': '2022-12-08', 'symbol': 'AVGO', 'actualEarningResult': 1.05, 'estimatedEarning': 1.03}, {'date': '2022-09-01', 'symbol': 'AVGO', 'actualEarningResult': 0.97, 'estimatedEarning': 0.96}, {'date': '2022-05-26', 'symbol': 'AVGO', 'actualEarningResult': 0.91, 'estimatedEarning': 0.87}, {'date': '2022-03-03', 'symbol': 'AVGO', 'actualEarningResult': 0.84, 'estimatedEarning': 0.82}, {'date': '2021-12-09', 'symbol': 'AVGO', 'actualEarningResult': 0.78, 'estimatedEarning': 0.78}, {'date': '2021-09-02', 'symbol': 'AVGO', 'actualEarningResult': 0.7, 'estimatedEarning': 0.69}, {'date': '2021-06-03', 'symbol': 'AVGO', 'actualEarningResult': 0.66, 'estimatedEarning': 0.64}, {'date': '2021-03-04', 'symbol': 'AVGO', 'actualEarningResult': 0.66, 'estimatedEarning': 0.66}, {'date': '2020-12-10', 'symbol': 'AVGO', 'actualEarningResult': 0.64, 'estimatedEarning': 0.63}, {'date': '2020-09-03', 'symbol': 'AVGO', 'actualEarningResult': 0.54, 'estimatedEarning': 0.52}, {'date': '2020-06-04', 'symbol': 'AVGO', 'actualEarningResult': 0.51, 'estimatedEarning': 0.51}, {'date': '2020-03-12', 'symbol': 'AVGO', 'actualEarningResult': 0.53, 'estimatedEarning': 0.52}, {'date': '2019-12-12', 'symbol': 'AVGO', 'actualEarningResult': 0.54, 'estimatedEarning': 0.54}, {'date': '2019-09-12', 'symbol': 'AVGO', 'actualEarningResult': 0.52, 'estimatedEarning': 0.51}, {'date': '2019-06-13', 'symbol': 'AVGO', 'actualEarningResult': 0.52, 'estimatedEarning': 0.52}, {'date': '2019-03-14', 'symbol': 'AVGO', 'actualEarningResult': 0.56, 'estimatedEarning': 0.52}, {'date': '2018-12-06', 'symbol': 'AVGO', 'actualEarningResult': 0.59, 'estimatedEarning': 0.56}, {'date': '2018-09-06', 'symbol': 'AVGO', 'actualEarningResult': 0.5, 'estimatedEarning': 0.48}, {'date': '2018-06-07', 'symbol': 'AVGO', 'actualEarningResult': 0.49, 'estimatedEarning': 0.48}, {'date': '2018-03-15', 'symbol': 'AVGO', 'actualEarningResult': 0.51, 'estimatedEarning': 0.5}, {'date': '2017-12-06', 'symbol': 'AVGO', 'actualEarningResult': 0.46, 'estimatedEarning': 0.45}, {'date': '2017-08-24', 'symbol': 'AVGO', 'actualEarningResult': 0.41, 'estimatedEarning': 0.4}, {'date': '2017-06-01', 'symbol': 'AVGO', 'actualEarningResult': 0.37, 'estimatedEarning': 0.34}, {'date': '2017-03-01', 'symbol': 'AVGO', 'actualEarningResult': 0.36, 'estimatedEarning': 0.35}, {'date': '2016-12-08', 'symbol': 'AVGO', 'actualEarningResult': 0.35, 'estimatedEarning': 0.34}, {'date': '2016-09-01', 'symbol': 'AVGO', 'actualEarningResult': 0.29, 'estimatedEarning': 0.28}, {'date': '2016-06-02', 'symbol': 'AVGO', 'actualEarningResult': 0.25, 'estimatedEarning': 0.24}, {'date': '2016-03-03', 'symbol': 'AVGO', 'actualEarningResult': 0.24, 'estimatedEarning': 0.23}, {'date': '2015-12-02', 'symbol': 'AVGO', 'actualEarningResult': 0.25, 'estimatedEarning': 0.24}, {'date': '2015-08-26', 'symbol': 'AVGO', 'actualEarningResult': 0.22, 'estimatedEarning': 0.21}, {'date': '2015-05-28', 'symbol': 'AVGO', 'actualEarningResult': 0.21, 'estimatedEarning': 0.2}, {'date': '2015-02-25', 'symbol': 'AVGO', 'actualEarningResult': 0.21, 'estimatedEarning': 0.19}, {'date': '2014-12-03', 'symbol': 'AVGO', 'actualEarningResult': 0.2, 'estimatedEarning': 0.17}, {'date': '2014-08-28', 'symbol': 'AVGO', 'actualEarningResult': 0.13, 'estimatedEarning': 0.11}, {'date': '2014-05-29', 'symbol': 'AVGO', 'actualEarningResult': 0.09, 'estimatedEarning': 0.08}, {'date': '2014-02-25', 'symbol': 'AVGO', 'actualEarningResult': 0.08, 'estimatedEarning': 0.08}, {'date': '2013-12-04', 'symbol': 'AVGO', 'actualEarningResult': 0.09, 'estimatedEarning': 0.08}, {'date': '2013-08-27', 'symbol': 'AVGO', 'actualEarningResult': 0.07, 'estimatedEarning': 0.06}, {'date': '2013-05-29', 'symbol': 'AVGO', 'actualEarningResult': 0.06, 'estimatedEarning': 0.05}, {'date': '2013-02-26', 'symbol': 'AVGO', 'actualEarningResult': 0.07, 'estimatedEarning': 0.06}, {'date': '2012-11-29', 'symbol': 'AVGO', 'actualEarningResult': 0.08, 'estimatedEarning': 0.07}]\n"
     ]
    }
   ],
   "source": [
    "# Debugging\n",
    "print(IS)\n",
    "print(BS)\n",
    "print(CF)\n",
    "print(Ratios)\n",
    "print(Metrics)\n",
    "print(Profile)\n",
    "print(Rating)\n",
    "print(Surprises)"
   ]
  },
  {
   "cell_type": "markdown",
   "id": "5bb4c0af",
   "metadata": {},
   "source": [
    "<a id=\"fmp_to_df\"></a>\n",
    "### Transforming the downloaded data to a dataframe[*](#index)"
   ]
  },
  {
   "cell_type": "code",
   "execution_count": 9,
   "id": "1e0d1659",
   "metadata": {},
   "outputs": [
    {
     "name": "stdout",
     "output_type": "stream",
     "text": [
      "Done importing FMP to pandas.\n",
      "\n"
     ]
    }
   ],
   "source": [
    "# Exploring the downloaded information:\n",
    "is_df = pd.DataFrame(IS)\n",
    "bs_df = pd.DataFrame(BS)\n",
    "cf_df = pd.DataFrame(CF)\n",
    "ratios_df = pd.DataFrame(Ratios)\n",
    "metrics_df = pd.DataFrame(Metrics)\n",
    "profile_df = pd.DataFrame(Profile)\n",
    "rating_df = pd.DataFrame(Rating)\n",
    "surprises_df = pd.DataFrame(Surprises)\n",
    "# stock_peers_df = pd.DataFrame(Peers)\n",
    "\n",
    "print(\"Done importing FMP to pandas.\\n\")\n",
    "\n"
   ]
  },
  {
   "cell_type": "code",
   "execution_count": 10,
   "id": "437138f8",
   "metadata": {},
   "outputs": [],
   "source": [
    "# Debugging:\n",
    "# is_df.head(5)\n",
    "# bs_df.head()\n",
    "# cf_df.head()\n",
    "# ratios_df.head(10)\n",
    "# metrics_df.head()\n",
    "# profile_df.head()\n",
    "# rating_df.head()\n",
    "# surprises_df.head()\n",
    "# stock_peers_df.head()"
   ]
  },
  {
   "cell_type": "markdown",
   "id": "8fc696cc-a416-4647-bd1b-83da91627a7e",
   "metadata": {},
   "source": [
    "<a id=\"filter_df2\"></a>\n",
    "### Filter dataframe for selected period and sort descending[*](#index)"
   ]
  },
  {
   "cell_type": "code",
   "execution_count": 11,
   "id": "41528a70-5d1f-4fad-b1f5-9af3af96944d",
   "metadata": {},
   "outputs": [
    {
     "name": "stdout",
     "output_type": "stream",
     "text": [
      "Done sorting the dates in descending order.\n",
      "\n"
     ]
    }
   ],
   "source": [
    "# Sort the data years in descending order (2022 -> 2023 -> 2024)\n",
    "bs_df.sort_index(ascending=False, inplace=True)\n",
    "is_df.sort_index(ascending=False, inplace=True)\n",
    "cf_df.sort_index(ascending=False, inplace=True)\n",
    "\n",
    "print(\"Done sorting the dates in descending order.\\n\")"
   ]
  },
  {
   "cell_type": "code",
   "execution_count": 12,
   "id": "3cad5715",
   "metadata": {},
   "outputs": [
    {
     "name": "stdout",
     "output_type": "stream",
     "text": [
      "Done filtering data frames for 5 years.\n",
      "\n"
     ]
    }
   ],
   "source": [
    "# Filter databases for the selected number of years\n",
    "# Useful for paid plan\n",
    "bs_df = bs_df.iloc[-years:]\n",
    "is_df = is_df.iloc[-years:]\n",
    "cf_df = cf_df.iloc[-years:]\n",
    "\n",
    "print(\"Done filtering data frames for\", years, \"years.\\n\")"
   ]
  },
  {
   "cell_type": "markdown",
   "id": "6bba9faa-1fff-45f7-9626-6ebb8a39307e",
   "metadata": {},
   "source": [
    "<a id=\"get_company_currency\"></a>\n",
    "### Get company currency[*](#index)"
   ]
  },
  {
   "cell_type": "code",
   "execution_count": 13,
   "id": "37aca5fa-bf2e-4baf-95b3-bb72778f7917",
   "metadata": {},
   "outputs": [
    {
     "name": "stdout",
     "output_type": "stream",
     "text": [
      "The currency for company AVGO is: USD\n"
     ]
    }
   ],
   "source": [
    "# Get company Currency\n",
    "currency = bs_df.iloc[0][\"reportedCurrency\"]\n",
    "print(\"The currency for company \"+company+\" is: \"+currency)"
   ]
  },
  {
   "cell_type": "markdown",
   "id": "2241c1c5-13b6-4d9e-bd64-c8265ad7364c",
   "metadata": {},
   "source": [
    "<a id=\"download_company_image\"></a>\n",
    "### Download company image[*](#index)"
   ]
  },
  {
   "cell_type": "code",
   "execution_count": 14,
   "id": "49a82db0-5d93-4370-83e4-be6fc5d0ff58",
   "metadata": {},
   "outputs": [
    {
     "name": "stdout",
     "output_type": "stream",
     "text": [
      "Company Logo downloaded\n",
      "\n"
     ]
    }
   ],
   "source": [
    "# Download the company image\n",
    "try:\n",
    "    imageurl = profile_df.iloc[0]['image']\n",
    "    r = requests.get(imageurl)\n",
    "    with open(\"images/output/company_logo.png\", \"wb\") as f:\n",
    "        f.write(r.content)\n",
    "    print(\"Company Logo downloaded\\n\")\n",
    "except Exception:\n",
    "    print(\"Could not download company logo\")\n",
    "    pass"
   ]
  },
  {
   "cell_type": "markdown",
   "id": "aa0e4aba-44a3-4d2f-8d9d-a2a9b96ee315",
   "metadata": {},
   "source": [
    "# Process Data"
   ]
  },
  {
   "cell_type": "markdown",
   "id": "cae24c62-87b2-41ae-a4ac-2602e5877f31",
   "metadata": {},
   "source": [
    "<a id=\"graph_df\"></a>\n",
    "### Create graphs [*](#index)"
   ]
  },
  {
   "cell_type": "markdown",
   "id": "ae84b54e-9b79-4c92-8727-fdc6e6f51438",
   "metadata": {},
   "source": [
    "<a id=\"bs_graph\"></a>\n",
    "### [Graph] Balance Sheet: Nominal and Common size [*](#index)"
   ]
  },
  {
   "cell_type": "code",
   "execution_count": 15,
   "id": "faa57a36-cd16-49fd-afb6-21eae20c0585",
   "metadata": {
    "tags": []
   },
   "outputs": [
    {
     "name": "stdout",
     "output_type": "stream",
     "text": [
      "Balance sheet graph created.\n",
      "\n"
     ]
    },
    {
     "data": {
      "application/vnd.plotly.v1+json": {
       "config": {
        "plotlyServerURL": "https://plot.ly"
       },
       "data": [
        {
         "marker": {
          "color": "#003B73"
         },
         "name": "Assets",
         "offsetgroup": "0",
         "textposition": "inside",
         "texttemplate": "%{y:.2s}",
         "type": "bar",
         "x": [
          "2020",
          "2021",
          "2022",
          "2023",
          "2024"
         ],
         "y": [
          75933000000,
          75570000000,
          73249000000,
          72861000000,
          165645000000
         ]
        },
        {
         "marker": {
          "color": "#01949a"
         },
         "name": "Equity",
         "offsetgroup": "1",
         "textposition": "inside",
         "texttemplate": "%{y:.2s}",
         "type": "bar",
         "x": [
          "2020",
          "2021",
          "2022",
          "2023",
          "2024"
         ],
         "y": [
          23901000000,
          24989000000,
          22709000000,
          23988000000,
          67678000000
         ]
        },
        {
         "base": [
          23901000000,
          24989000000,
          22709000000,
          23988000000,
          67678000000
         ],
         "marker": {
          "color": "#db1f48"
         },
         "name": "Liabilities",
         "offsetgroup": "1",
         "textposition": "inside",
         "texttemplate": "%{y:.2s}",
         "type": "bar",
         "x": [
          "2020",
          "2021",
          "2022",
          "2023",
          "2024"
         ],
         "y": [
          52032000000,
          50581000000,
          50540000000,
          48873000000,
          97967000000
         ]
        },
        {
         "marker": {
          "color": "#746C70"
         },
         "name": "GW & Intangibles",
         "offsetgroup": "2",
         "textposition": "inside",
         "texttemplate": "%{y:.2s}",
         "type": "bar",
         "x": [
          "2020",
          "2021",
          "2022",
          "2023",
          "2024"
         ],
         "y": [
          60229000000,
          54824000000,
          50725000000,
          47520000000,
          138456000000
         ]
        }
       ],
       "layout": {
        "barmode": "group",
        "height": 400,
        "legend": {
         "orientation": "h",
         "x": 1,
         "xanchor": "right",
         "y": 1,
         "yanchor": "bottom"
        },
        "template": {
         "data": {
          "bar": [
           {
            "error_x": {
             "color": "#2a3f5f"
            },
            "error_y": {
             "color": "#2a3f5f"
            },
            "marker": {
             "line": {
              "color": "#E5ECF6",
              "width": 0.5
             },
             "pattern": {
              "fillmode": "overlay",
              "size": 10,
              "solidity": 0.2
             }
            },
            "type": "bar"
           }
          ],
          "barpolar": [
           {
            "marker": {
             "line": {
              "color": "#E5ECF6",
              "width": 0.5
             },
             "pattern": {
              "fillmode": "overlay",
              "size": 10,
              "solidity": 0.2
             }
            },
            "type": "barpolar"
           }
          ],
          "carpet": [
           {
            "aaxis": {
             "endlinecolor": "#2a3f5f",
             "gridcolor": "white",
             "linecolor": "white",
             "minorgridcolor": "white",
             "startlinecolor": "#2a3f5f"
            },
            "baxis": {
             "endlinecolor": "#2a3f5f",
             "gridcolor": "white",
             "linecolor": "white",
             "minorgridcolor": "white",
             "startlinecolor": "#2a3f5f"
            },
            "type": "carpet"
           }
          ],
          "choropleth": [
           {
            "colorbar": {
             "outlinewidth": 0,
             "ticks": ""
            },
            "type": "choropleth"
           }
          ],
          "contour": [
           {
            "colorbar": {
             "outlinewidth": 0,
             "ticks": ""
            },
            "colorscale": [
             [
              0,
              "#0d0887"
             ],
             [
              0.1111111111111111,
              "#46039f"
             ],
             [
              0.2222222222222222,
              "#7201a8"
             ],
             [
              0.3333333333333333,
              "#9c179e"
             ],
             [
              0.4444444444444444,
              "#bd3786"
             ],
             [
              0.5555555555555556,
              "#d8576b"
             ],
             [
              0.6666666666666666,
              "#ed7953"
             ],
             [
              0.7777777777777778,
              "#fb9f3a"
             ],
             [
              0.8888888888888888,
              "#fdca26"
             ],
             [
              1,
              "#f0f921"
             ]
            ],
            "type": "contour"
           }
          ],
          "contourcarpet": [
           {
            "colorbar": {
             "outlinewidth": 0,
             "ticks": ""
            },
            "type": "contourcarpet"
           }
          ],
          "heatmap": [
           {
            "colorbar": {
             "outlinewidth": 0,
             "ticks": ""
            },
            "colorscale": [
             [
              0,
              "#0d0887"
             ],
             [
              0.1111111111111111,
              "#46039f"
             ],
             [
              0.2222222222222222,
              "#7201a8"
             ],
             [
              0.3333333333333333,
              "#9c179e"
             ],
             [
              0.4444444444444444,
              "#bd3786"
             ],
             [
              0.5555555555555556,
              "#d8576b"
             ],
             [
              0.6666666666666666,
              "#ed7953"
             ],
             [
              0.7777777777777778,
              "#fb9f3a"
             ],
             [
              0.8888888888888888,
              "#fdca26"
             ],
             [
              1,
              "#f0f921"
             ]
            ],
            "type": "heatmap"
           }
          ],
          "histogram": [
           {
            "marker": {
             "pattern": {
              "fillmode": "overlay",
              "size": 10,
              "solidity": 0.2
             }
            },
            "type": "histogram"
           }
          ],
          "histogram2d": [
           {
            "colorbar": {
             "outlinewidth": 0,
             "ticks": ""
            },
            "colorscale": [
             [
              0,
              "#0d0887"
             ],
             [
              0.1111111111111111,
              "#46039f"
             ],
             [
              0.2222222222222222,
              "#7201a8"
             ],
             [
              0.3333333333333333,
              "#9c179e"
             ],
             [
              0.4444444444444444,
              "#bd3786"
             ],
             [
              0.5555555555555556,
              "#d8576b"
             ],
             [
              0.6666666666666666,
              "#ed7953"
             ],
             [
              0.7777777777777778,
              "#fb9f3a"
             ],
             [
              0.8888888888888888,
              "#fdca26"
             ],
             [
              1,
              "#f0f921"
             ]
            ],
            "type": "histogram2d"
           }
          ],
          "histogram2dcontour": [
           {
            "colorbar": {
             "outlinewidth": 0,
             "ticks": ""
            },
            "colorscale": [
             [
              0,
              "#0d0887"
             ],
             [
              0.1111111111111111,
              "#46039f"
             ],
             [
              0.2222222222222222,
              "#7201a8"
             ],
             [
              0.3333333333333333,
              "#9c179e"
             ],
             [
              0.4444444444444444,
              "#bd3786"
             ],
             [
              0.5555555555555556,
              "#d8576b"
             ],
             [
              0.6666666666666666,
              "#ed7953"
             ],
             [
              0.7777777777777778,
              "#fb9f3a"
             ],
             [
              0.8888888888888888,
              "#fdca26"
             ],
             [
              1,
              "#f0f921"
             ]
            ],
            "type": "histogram2dcontour"
           }
          ],
          "mesh3d": [
           {
            "colorbar": {
             "outlinewidth": 0,
             "ticks": ""
            },
            "type": "mesh3d"
           }
          ],
          "parcoords": [
           {
            "line": {
             "colorbar": {
              "outlinewidth": 0,
              "ticks": ""
             }
            },
            "type": "parcoords"
           }
          ],
          "pie": [
           {
            "automargin": true,
            "type": "pie"
           }
          ],
          "scatter": [
           {
            "fillpattern": {
             "fillmode": "overlay",
             "size": 10,
             "solidity": 0.2
            },
            "type": "scatter"
           }
          ],
          "scatter3d": [
           {
            "line": {
             "colorbar": {
              "outlinewidth": 0,
              "ticks": ""
             }
            },
            "marker": {
             "colorbar": {
              "outlinewidth": 0,
              "ticks": ""
             }
            },
            "type": "scatter3d"
           }
          ],
          "scattercarpet": [
           {
            "marker": {
             "colorbar": {
              "outlinewidth": 0,
              "ticks": ""
             }
            },
            "type": "scattercarpet"
           }
          ],
          "scattergeo": [
           {
            "marker": {
             "colorbar": {
              "outlinewidth": 0,
              "ticks": ""
             }
            },
            "type": "scattergeo"
           }
          ],
          "scattergl": [
           {
            "marker": {
             "colorbar": {
              "outlinewidth": 0,
              "ticks": ""
             }
            },
            "type": "scattergl"
           }
          ],
          "scattermap": [
           {
            "marker": {
             "colorbar": {
              "outlinewidth": 0,
              "ticks": ""
             }
            },
            "type": "scattermap"
           }
          ],
          "scattermapbox": [
           {
            "marker": {
             "colorbar": {
              "outlinewidth": 0,
              "ticks": ""
             }
            },
            "type": "scattermapbox"
           }
          ],
          "scatterpolar": [
           {
            "marker": {
             "colorbar": {
              "outlinewidth": 0,
              "ticks": ""
             }
            },
            "type": "scatterpolar"
           }
          ],
          "scatterpolargl": [
           {
            "marker": {
             "colorbar": {
              "outlinewidth": 0,
              "ticks": ""
             }
            },
            "type": "scatterpolargl"
           }
          ],
          "scatterternary": [
           {
            "marker": {
             "colorbar": {
              "outlinewidth": 0,
              "ticks": ""
             }
            },
            "type": "scatterternary"
           }
          ],
          "surface": [
           {
            "colorbar": {
             "outlinewidth": 0,
             "ticks": ""
            },
            "colorscale": [
             [
              0,
              "#0d0887"
             ],
             [
              0.1111111111111111,
              "#46039f"
             ],
             [
              0.2222222222222222,
              "#7201a8"
             ],
             [
              0.3333333333333333,
              "#9c179e"
             ],
             [
              0.4444444444444444,
              "#bd3786"
             ],
             [
              0.5555555555555556,
              "#d8576b"
             ],
             [
              0.6666666666666666,
              "#ed7953"
             ],
             [
              0.7777777777777778,
              "#fb9f3a"
             ],
             [
              0.8888888888888888,
              "#fdca26"
             ],
             [
              1,
              "#f0f921"
             ]
            ],
            "type": "surface"
           }
          ],
          "table": [
           {
            "cells": {
             "fill": {
              "color": "#EBF0F8"
             },
             "line": {
              "color": "white"
             }
            },
            "header": {
             "fill": {
              "color": "#C8D4E3"
             },
             "line": {
              "color": "white"
             }
            },
            "type": "table"
           }
          ]
         },
         "layout": {
          "annotationdefaults": {
           "arrowcolor": "#2a3f5f",
           "arrowhead": 0,
           "arrowwidth": 1
          },
          "autotypenumbers": "strict",
          "coloraxis": {
           "colorbar": {
            "outlinewidth": 0,
            "ticks": ""
           }
          },
          "colorscale": {
           "diverging": [
            [
             0,
             "#8e0152"
            ],
            [
             0.1,
             "#c51b7d"
            ],
            [
             0.2,
             "#de77ae"
            ],
            [
             0.3,
             "#f1b6da"
            ],
            [
             0.4,
             "#fde0ef"
            ],
            [
             0.5,
             "#f7f7f7"
            ],
            [
             0.6,
             "#e6f5d0"
            ],
            [
             0.7,
             "#b8e186"
            ],
            [
             0.8,
             "#7fbc41"
            ],
            [
             0.9,
             "#4d9221"
            ],
            [
             1,
             "#276419"
            ]
           ],
           "sequential": [
            [
             0,
             "#0d0887"
            ],
            [
             0.1111111111111111,
             "#46039f"
            ],
            [
             0.2222222222222222,
             "#7201a8"
            ],
            [
             0.3333333333333333,
             "#9c179e"
            ],
            [
             0.4444444444444444,
             "#bd3786"
            ],
            [
             0.5555555555555556,
             "#d8576b"
            ],
            [
             0.6666666666666666,
             "#ed7953"
            ],
            [
             0.7777777777777778,
             "#fb9f3a"
            ],
            [
             0.8888888888888888,
             "#fdca26"
            ],
            [
             1,
             "#f0f921"
            ]
           ],
           "sequentialminus": [
            [
             0,
             "#0d0887"
            ],
            [
             0.1111111111111111,
             "#46039f"
            ],
            [
             0.2222222222222222,
             "#7201a8"
            ],
            [
             0.3333333333333333,
             "#9c179e"
            ],
            [
             0.4444444444444444,
             "#bd3786"
            ],
            [
             0.5555555555555556,
             "#d8576b"
            ],
            [
             0.6666666666666666,
             "#ed7953"
            ],
            [
             0.7777777777777778,
             "#fb9f3a"
            ],
            [
             0.8888888888888888,
             "#fdca26"
            ],
            [
             1,
             "#f0f921"
            ]
           ]
          },
          "colorway": [
           "#636efa",
           "#EF553B",
           "#00cc96",
           "#ab63fa",
           "#FFA15A",
           "#19d3f3",
           "#FF6692",
           "#B6E880",
           "#FF97FF",
           "#FECB52"
          ],
          "font": {
           "color": "#2a3f5f"
          },
          "geo": {
           "bgcolor": "white",
           "lakecolor": "white",
           "landcolor": "#E5ECF6",
           "showlakes": true,
           "showland": true,
           "subunitcolor": "white"
          },
          "hoverlabel": {
           "align": "left"
          },
          "hovermode": "closest",
          "mapbox": {
           "style": "light"
          },
          "paper_bgcolor": "white",
          "plot_bgcolor": "#E5ECF6",
          "polar": {
           "angularaxis": {
            "gridcolor": "white",
            "linecolor": "white",
            "ticks": ""
           },
           "bgcolor": "#E5ECF6",
           "radialaxis": {
            "gridcolor": "white",
            "linecolor": "white",
            "ticks": ""
           }
          },
          "scene": {
           "xaxis": {
            "backgroundcolor": "#E5ECF6",
            "gridcolor": "white",
            "gridwidth": 2,
            "linecolor": "white",
            "showbackground": true,
            "ticks": "",
            "zerolinecolor": "white"
           },
           "yaxis": {
            "backgroundcolor": "#E5ECF6",
            "gridcolor": "white",
            "gridwidth": 2,
            "linecolor": "white",
            "showbackground": true,
            "ticks": "",
            "zerolinecolor": "white"
           },
           "zaxis": {
            "backgroundcolor": "#E5ECF6",
            "gridcolor": "white",
            "gridwidth": 2,
            "linecolor": "white",
            "showbackground": true,
            "ticks": "",
            "zerolinecolor": "white"
           }
          },
          "shapedefaults": {
           "line": {
            "color": "#2a3f5f"
           }
          },
          "ternary": {
           "aaxis": {
            "gridcolor": "white",
            "linecolor": "white",
            "ticks": ""
           },
           "baxis": {
            "gridcolor": "white",
            "linecolor": "white",
            "ticks": ""
           },
           "bgcolor": "#E5ECF6",
           "caxis": {
            "gridcolor": "white",
            "linecolor": "white",
            "ticks": ""
           }
          },
          "title": {
           "x": 0.05
          },
          "xaxis": {
           "automargin": true,
           "gridcolor": "white",
           "linecolor": "white",
           "ticks": "",
           "title": {
            "standoff": 15
           },
           "zerolinecolor": "white",
           "zerolinewidth": 2
          },
          "yaxis": {
           "automargin": true,
           "gridcolor": "white",
           "linecolor": "white",
           "ticks": "",
           "title": {
            "standoff": 15
           },
           "zerolinecolor": "white",
           "zerolinewidth": 2
          }
         }
        },
        "title": {
         "text": "Balance Sheet for: AVGO"
        },
        "width": 800,
        "xaxis": {
         "title": {
          "text": "Year"
         }
        },
        "yaxis": {
         "title": {
          "text": "Amount $ USD"
         }
        }
       }
      }
     },
     "metadata": {},
     "output_type": "display_data"
    },
    {
     "name": "stdout",
     "output_type": "stream",
     "text": [
      "Common size balance sheet graph created.\n",
      "\n"
     ]
    },
    {
     "data": {
      "application/vnd.plotly.v1+json": {
       "config": {
        "plotlyServerURL": "https://plot.ly"
       },
       "data": [
        {
         "marker": {
          "color": "#003B73"
         },
         "name": "Assets",
         "offsetgroup": "0",
         "textposition": "inside",
         "texttemplate": "%{y:.2s}",
         "type": "bar",
         "x": [
          "2020",
          "2021",
          "2022",
          "2023",
          "2024"
         ],
         "y": {
          "bdata": "AAAAAAAAWUAAAAAAAABZQAAAAAAAAFlAAAAAAAAAWUAAAAAAAABZQA==",
          "dtype": "f8"
         }
        },
        {
         "marker": {
          "color": "#01949a"
         },
         "name": "Equity",
         "offsetgroup": "1",
         "textposition": "inside",
         "texttemplate": "%{y:.2s}",
         "type": "bar",
         "x": [
          "2020",
          "2021",
          "2022",
          "2023",
          "2024"
         ],
         "y": {
          "bdata": "y6s5hvd5P0DWEsQUn4hAQHwZ5fChAD9AqK37pSN2QECTpuyHum1EQA==",
          "dtype": "f8"
         }
        },
        {
         "base": [
          31.47643317134843,
          33.06735477041154,
          31.002471023495204,
          32.92296290196401,
          40.8572549729844
         ],
         "marker": {
          "color": "#db1f48"
         },
         "name": "Liabilities",
         "offsetgroup": "1",
         "textposition": "inside",
         "texttemplate": "%{y:.2s}",
         "type": "bar",
         "x": [
          "2020",
          "2021",
          "2022",
          "2023",
          "2024"
         ],
         "y": {
          "bdata": "DZVxHoIhUUCV9p11sLtQQKG5xoPXP1FALCkCLe7EUEBuWRN4RZJNQA==",
          "dtype": "f8"
         }
        },
        {
         "marker": {
          "color": "#746C70"
         },
         "name": "GW & Intangibles",
         "offsetgroup": "2",
         "textposition": "inside",
         "texttemplate": "%{y:.2s}",
         "type": "bar",
         "x": [
          "2020",
          "2021",
          "2022",
          "2023",
          "2024"
         ],
         "y": {
          "bdata": "wOB4GmTUU0Afsn4UByNSQNfXgoIBUFFABOsYvBVOUED0xPC6gOVUQA==",
          "dtype": "f8"
         }
        }
       ],
       "layout": {
        "barmode": "group",
        "height": 400,
        "legend": {
         "orientation": "h",
         "x": 1,
         "xanchor": "right",
         "y": 1,
         "yanchor": "bottom"
        },
        "template": {
         "data": {
          "bar": [
           {
            "error_x": {
             "color": "#2a3f5f"
            },
            "error_y": {
             "color": "#2a3f5f"
            },
            "marker": {
             "line": {
              "color": "#E5ECF6",
              "width": 0.5
             },
             "pattern": {
              "fillmode": "overlay",
              "size": 10,
              "solidity": 0.2
             }
            },
            "type": "bar"
           }
          ],
          "barpolar": [
           {
            "marker": {
             "line": {
              "color": "#E5ECF6",
              "width": 0.5
             },
             "pattern": {
              "fillmode": "overlay",
              "size": 10,
              "solidity": 0.2
             }
            },
            "type": "barpolar"
           }
          ],
          "carpet": [
           {
            "aaxis": {
             "endlinecolor": "#2a3f5f",
             "gridcolor": "white",
             "linecolor": "white",
             "minorgridcolor": "white",
             "startlinecolor": "#2a3f5f"
            },
            "baxis": {
             "endlinecolor": "#2a3f5f",
             "gridcolor": "white",
             "linecolor": "white",
             "minorgridcolor": "white",
             "startlinecolor": "#2a3f5f"
            },
            "type": "carpet"
           }
          ],
          "choropleth": [
           {
            "colorbar": {
             "outlinewidth": 0,
             "ticks": ""
            },
            "type": "choropleth"
           }
          ],
          "contour": [
           {
            "colorbar": {
             "outlinewidth": 0,
             "ticks": ""
            },
            "colorscale": [
             [
              0,
              "#0d0887"
             ],
             [
              0.1111111111111111,
              "#46039f"
             ],
             [
              0.2222222222222222,
              "#7201a8"
             ],
             [
              0.3333333333333333,
              "#9c179e"
             ],
             [
              0.4444444444444444,
              "#bd3786"
             ],
             [
              0.5555555555555556,
              "#d8576b"
             ],
             [
              0.6666666666666666,
              "#ed7953"
             ],
             [
              0.7777777777777778,
              "#fb9f3a"
             ],
             [
              0.8888888888888888,
              "#fdca26"
             ],
             [
              1,
              "#f0f921"
             ]
            ],
            "type": "contour"
           }
          ],
          "contourcarpet": [
           {
            "colorbar": {
             "outlinewidth": 0,
             "ticks": ""
            },
            "type": "contourcarpet"
           }
          ],
          "heatmap": [
           {
            "colorbar": {
             "outlinewidth": 0,
             "ticks": ""
            },
            "colorscale": [
             [
              0,
              "#0d0887"
             ],
             [
              0.1111111111111111,
              "#46039f"
             ],
             [
              0.2222222222222222,
              "#7201a8"
             ],
             [
              0.3333333333333333,
              "#9c179e"
             ],
             [
              0.4444444444444444,
              "#bd3786"
             ],
             [
              0.5555555555555556,
              "#d8576b"
             ],
             [
              0.6666666666666666,
              "#ed7953"
             ],
             [
              0.7777777777777778,
              "#fb9f3a"
             ],
             [
              0.8888888888888888,
              "#fdca26"
             ],
             [
              1,
              "#f0f921"
             ]
            ],
            "type": "heatmap"
           }
          ],
          "histogram": [
           {
            "marker": {
             "pattern": {
              "fillmode": "overlay",
              "size": 10,
              "solidity": 0.2
             }
            },
            "type": "histogram"
           }
          ],
          "histogram2d": [
           {
            "colorbar": {
             "outlinewidth": 0,
             "ticks": ""
            },
            "colorscale": [
             [
              0,
              "#0d0887"
             ],
             [
              0.1111111111111111,
              "#46039f"
             ],
             [
              0.2222222222222222,
              "#7201a8"
             ],
             [
              0.3333333333333333,
              "#9c179e"
             ],
             [
              0.4444444444444444,
              "#bd3786"
             ],
             [
              0.5555555555555556,
              "#d8576b"
             ],
             [
              0.6666666666666666,
              "#ed7953"
             ],
             [
              0.7777777777777778,
              "#fb9f3a"
             ],
             [
              0.8888888888888888,
              "#fdca26"
             ],
             [
              1,
              "#f0f921"
             ]
            ],
            "type": "histogram2d"
           }
          ],
          "histogram2dcontour": [
           {
            "colorbar": {
             "outlinewidth": 0,
             "ticks": ""
            },
            "colorscale": [
             [
              0,
              "#0d0887"
             ],
             [
              0.1111111111111111,
              "#46039f"
             ],
             [
              0.2222222222222222,
              "#7201a8"
             ],
             [
              0.3333333333333333,
              "#9c179e"
             ],
             [
              0.4444444444444444,
              "#bd3786"
             ],
             [
              0.5555555555555556,
              "#d8576b"
             ],
             [
              0.6666666666666666,
              "#ed7953"
             ],
             [
              0.7777777777777778,
              "#fb9f3a"
             ],
             [
              0.8888888888888888,
              "#fdca26"
             ],
             [
              1,
              "#f0f921"
             ]
            ],
            "type": "histogram2dcontour"
           }
          ],
          "mesh3d": [
           {
            "colorbar": {
             "outlinewidth": 0,
             "ticks": ""
            },
            "type": "mesh3d"
           }
          ],
          "parcoords": [
           {
            "line": {
             "colorbar": {
              "outlinewidth": 0,
              "ticks": ""
             }
            },
            "type": "parcoords"
           }
          ],
          "pie": [
           {
            "automargin": true,
            "type": "pie"
           }
          ],
          "scatter": [
           {
            "fillpattern": {
             "fillmode": "overlay",
             "size": 10,
             "solidity": 0.2
            },
            "type": "scatter"
           }
          ],
          "scatter3d": [
           {
            "line": {
             "colorbar": {
              "outlinewidth": 0,
              "ticks": ""
             }
            },
            "marker": {
             "colorbar": {
              "outlinewidth": 0,
              "ticks": ""
             }
            },
            "type": "scatter3d"
           }
          ],
          "scattercarpet": [
           {
            "marker": {
             "colorbar": {
              "outlinewidth": 0,
              "ticks": ""
             }
            },
            "type": "scattercarpet"
           }
          ],
          "scattergeo": [
           {
            "marker": {
             "colorbar": {
              "outlinewidth": 0,
              "ticks": ""
             }
            },
            "type": "scattergeo"
           }
          ],
          "scattergl": [
           {
            "marker": {
             "colorbar": {
              "outlinewidth": 0,
              "ticks": ""
             }
            },
            "type": "scattergl"
           }
          ],
          "scattermap": [
           {
            "marker": {
             "colorbar": {
              "outlinewidth": 0,
              "ticks": ""
             }
            },
            "type": "scattermap"
           }
          ],
          "scattermapbox": [
           {
            "marker": {
             "colorbar": {
              "outlinewidth": 0,
              "ticks": ""
             }
            },
            "type": "scattermapbox"
           }
          ],
          "scatterpolar": [
           {
            "marker": {
             "colorbar": {
              "outlinewidth": 0,
              "ticks": ""
             }
            },
            "type": "scatterpolar"
           }
          ],
          "scatterpolargl": [
           {
            "marker": {
             "colorbar": {
              "outlinewidth": 0,
              "ticks": ""
             }
            },
            "type": "scatterpolargl"
           }
          ],
          "scatterternary": [
           {
            "marker": {
             "colorbar": {
              "outlinewidth": 0,
              "ticks": ""
             }
            },
            "type": "scatterternary"
           }
          ],
          "surface": [
           {
            "colorbar": {
             "outlinewidth": 0,
             "ticks": ""
            },
            "colorscale": [
             [
              0,
              "#0d0887"
             ],
             [
              0.1111111111111111,
              "#46039f"
             ],
             [
              0.2222222222222222,
              "#7201a8"
             ],
             [
              0.3333333333333333,
              "#9c179e"
             ],
             [
              0.4444444444444444,
              "#bd3786"
             ],
             [
              0.5555555555555556,
              "#d8576b"
             ],
             [
              0.6666666666666666,
              "#ed7953"
             ],
             [
              0.7777777777777778,
              "#fb9f3a"
             ],
             [
              0.8888888888888888,
              "#fdca26"
             ],
             [
              1,
              "#f0f921"
             ]
            ],
            "type": "surface"
           }
          ],
          "table": [
           {
            "cells": {
             "fill": {
              "color": "#EBF0F8"
             },
             "line": {
              "color": "white"
             }
            },
            "header": {
             "fill": {
              "color": "#C8D4E3"
             },
             "line": {
              "color": "white"
             }
            },
            "type": "table"
           }
          ]
         },
         "layout": {
          "annotationdefaults": {
           "arrowcolor": "#2a3f5f",
           "arrowhead": 0,
           "arrowwidth": 1
          },
          "autotypenumbers": "strict",
          "coloraxis": {
           "colorbar": {
            "outlinewidth": 0,
            "ticks": ""
           }
          },
          "colorscale": {
           "diverging": [
            [
             0,
             "#8e0152"
            ],
            [
             0.1,
             "#c51b7d"
            ],
            [
             0.2,
             "#de77ae"
            ],
            [
             0.3,
             "#f1b6da"
            ],
            [
             0.4,
             "#fde0ef"
            ],
            [
             0.5,
             "#f7f7f7"
            ],
            [
             0.6,
             "#e6f5d0"
            ],
            [
             0.7,
             "#b8e186"
            ],
            [
             0.8,
             "#7fbc41"
            ],
            [
             0.9,
             "#4d9221"
            ],
            [
             1,
             "#276419"
            ]
           ],
           "sequential": [
            [
             0,
             "#0d0887"
            ],
            [
             0.1111111111111111,
             "#46039f"
            ],
            [
             0.2222222222222222,
             "#7201a8"
            ],
            [
             0.3333333333333333,
             "#9c179e"
            ],
            [
             0.4444444444444444,
             "#bd3786"
            ],
            [
             0.5555555555555556,
             "#d8576b"
            ],
            [
             0.6666666666666666,
             "#ed7953"
            ],
            [
             0.7777777777777778,
             "#fb9f3a"
            ],
            [
             0.8888888888888888,
             "#fdca26"
            ],
            [
             1,
             "#f0f921"
            ]
           ],
           "sequentialminus": [
            [
             0,
             "#0d0887"
            ],
            [
             0.1111111111111111,
             "#46039f"
            ],
            [
             0.2222222222222222,
             "#7201a8"
            ],
            [
             0.3333333333333333,
             "#9c179e"
            ],
            [
             0.4444444444444444,
             "#bd3786"
            ],
            [
             0.5555555555555556,
             "#d8576b"
            ],
            [
             0.6666666666666666,
             "#ed7953"
            ],
            [
             0.7777777777777778,
             "#fb9f3a"
            ],
            [
             0.8888888888888888,
             "#fdca26"
            ],
            [
             1,
             "#f0f921"
            ]
           ]
          },
          "colorway": [
           "#636efa",
           "#EF553B",
           "#00cc96",
           "#ab63fa",
           "#FFA15A",
           "#19d3f3",
           "#FF6692",
           "#B6E880",
           "#FF97FF",
           "#FECB52"
          ],
          "font": {
           "color": "#2a3f5f"
          },
          "geo": {
           "bgcolor": "white",
           "lakecolor": "white",
           "landcolor": "#E5ECF6",
           "showlakes": true,
           "showland": true,
           "subunitcolor": "white"
          },
          "hoverlabel": {
           "align": "left"
          },
          "hovermode": "closest",
          "mapbox": {
           "style": "light"
          },
          "paper_bgcolor": "white",
          "plot_bgcolor": "#E5ECF6",
          "polar": {
           "angularaxis": {
            "gridcolor": "white",
            "linecolor": "white",
            "ticks": ""
           },
           "bgcolor": "#E5ECF6",
           "radialaxis": {
            "gridcolor": "white",
            "linecolor": "white",
            "ticks": ""
           }
          },
          "scene": {
           "xaxis": {
            "backgroundcolor": "#E5ECF6",
            "gridcolor": "white",
            "gridwidth": 2,
            "linecolor": "white",
            "showbackground": true,
            "ticks": "",
            "zerolinecolor": "white"
           },
           "yaxis": {
            "backgroundcolor": "#E5ECF6",
            "gridcolor": "white",
            "gridwidth": 2,
            "linecolor": "white",
            "showbackground": true,
            "ticks": "",
            "zerolinecolor": "white"
           },
           "zaxis": {
            "backgroundcolor": "#E5ECF6",
            "gridcolor": "white",
            "gridwidth": 2,
            "linecolor": "white",
            "showbackground": true,
            "ticks": "",
            "zerolinecolor": "white"
           }
          },
          "shapedefaults": {
           "line": {
            "color": "#2a3f5f"
           }
          },
          "ternary": {
           "aaxis": {
            "gridcolor": "white",
            "linecolor": "white",
            "ticks": ""
           },
           "baxis": {
            "gridcolor": "white",
            "linecolor": "white",
            "ticks": ""
           },
           "bgcolor": "#E5ECF6",
           "caxis": {
            "gridcolor": "white",
            "linecolor": "white",
            "ticks": ""
           }
          },
          "title": {
           "x": 0.05
          },
          "xaxis": {
           "automargin": true,
           "gridcolor": "white",
           "linecolor": "white",
           "ticks": "",
           "title": {
            "standoff": 15
           },
           "zerolinecolor": "white",
           "zerolinewidth": 2
          },
          "yaxis": {
           "automargin": true,
           "gridcolor": "white",
           "linecolor": "white",
           "ticks": "",
           "title": {
            "standoff": 15
           },
           "zerolinecolor": "white",
           "zerolinewidth": 2
          }
         }
        },
        "title": {
         "text": "Common Size Balance Sheet for: AVGO"
        },
        "width": 800,
        "xaxis": {
         "title": {
          "text": "Year"
         }
        },
        "yaxis": {
         "title": {
          "text": "Amount % "
         }
        }
       }
      }
     },
     "metadata": {},
     "output_type": "display_data"
    }
   ],
   "source": [
    "# Balance Sheet Graph\n",
    "fig = go.Figure(\n",
    "    data=[\n",
    "        go.Bar(name=\"Assets\",\n",
    "               x=bs_df[\"calendarYear\"],\n",
    "               y=bs_df[\"totalAssets\"],\n",
    "               marker_color=\"#003B73\",\n",
    "               offsetgroup=0,\n",
    "               ),\n",
    "        go.Bar(name=\"Equity\",\n",
    "               x=bs_df[\"calendarYear\"],\n",
    "               y=bs_df[\"totalStockholdersEquity\"],\n",
    "               marker_color=\"#01949a\",\n",
    "               offsetgroup=1,\n",
    "               ),\n",
    "        go.Bar(name=\"Liabilities\",\n",
    "               x=bs_df[\"calendarYear\"],\n",
    "               y=bs_df[\"totalLiabilities\"],\n",
    "               marker_color=\"#db1f48\",\n",
    "               offsetgroup=1,\n",
    "               base=bs_df[\"totalStockholdersEquity\"],\n",
    "               ),\n",
    "        go.Bar(name=\"GW & Intangibles\",\n",
    "               x=bs_df[\"calendarYear\"],\n",
    "               y=bs_df[\"goodwillAndIntangibleAssets\"],\n",
    "               marker_color=\"#746C70\",\n",
    "               offsetgroup=2,\n",
    "               ),\n",
    "         ])\n",
    "fig.update_layout(barmode=\"group\",\n",
    "                  title=str(\"Balance Sheet for: \" + company),\n",
    "                  xaxis_title=\"Year\",\n",
    "                  yaxis_title=(\"Amount $ \" + currency),\n",
    "                  legend=dict(orientation=\"h\",\n",
    "                              yanchor=\"bottom\",\n",
    "                              xanchor=\"right\",\n",
    "                              x=1, y=1.0),\n",
    "                  width=800, height=400)\n",
    "\n",
    "fig.update_traces(texttemplate=\"%{y:.2s}\", textposition=\"inside\")\n",
    "file_name = \"images/output/bs_graph.png\"\n",
    "fig.write_image(file_name, format='png', scale=2)\n",
    "\n",
    "print(\"Balance sheet graph created.\\n\")\n",
    "fig.show()\n",
    "\n",
    "# Common Size Balance Sheet Graph\n",
    "fig = go.Figure(\n",
    "    data=[\n",
    "        go.Bar(name=\"Assets\",\n",
    "               x=bs_df[\"calendarYear\"],\n",
    "               y=bs_df[\"totalAssets\"]/bs_df[\"totalAssets\"]*100,\n",
    "               marker_color=\"#003B73\",\n",
    "               offsetgroup=0,\n",
    "               ),\n",
    "        go.Bar(name=\"Equity\",\n",
    "               x=bs_df[\"calendarYear\"],\n",
    "               y=bs_df[\"totalStockholdersEquity\"]/bs_df[\"totalAssets\"]*100,\n",
    "               marker_color=\"#01949a\",\n",
    "               offsetgroup=1,\n",
    "               ),\n",
    "        go.Bar(name=\"Liabilities\",\n",
    "               x=bs_df[\"calendarYear\"],\n",
    "               y=bs_df[\"totalLiabilities\"]/bs_df[\"totalAssets\"]*100,\n",
    "               marker_color=\"#db1f48\",\n",
    "               offsetgroup=1,\n",
    "               base=bs_df[\"totalStockholdersEquity\"]/bs_df[\"totalAssets\"]*100,\n",
    "               ),\n",
    "        go.Bar(name=\"GW & Intangibles\",\n",
    "               x=bs_df[\"calendarYear\"],\n",
    "               y=bs_df[\"goodwillAndIntangibleAssets\"]/bs_df[\"totalAssets\"]*100,\n",
    "               marker_color=\"#746C70\",\n",
    "               offsetgroup=2,\n",
    "               ),\n",
    "         ])\n",
    "fig.update_layout(barmode=\"group\",\n",
    "                  title=str(\"Common Size Balance Sheet for: \" + company),\n",
    "                  xaxis_title=\"Year\",\n",
    "                  yaxis_title=(\"Amount % \"),\n",
    "                  legend=dict(orientation=\"h\",\n",
    "                              yanchor=\"bottom\",\n",
    "                              xanchor=\"right\",\n",
    "                              x=1, y=1.0),\n",
    "                  width=800, height=400)\n",
    "\n",
    "fig.update_traces(texttemplate=\"%{y:.2s}\", textposition=\"inside\")\n",
    "file_name = \"images/output/bs_graph_cs.png\"\n",
    "fig.write_image(file_name, format='png', scale=2)\n",
    "\n",
    "print(\"Common size balance sheet graph created.\\n\")\n",
    "fig.show()"
   ]
  },
  {
   "cell_type": "markdown",
   "id": "fbd36729-32ff-4fc4-acec-e7581763ce80",
   "metadata": {},
   "source": [
    "<a id=\"is_graph\"></a>\n",
    "### [Graph] Income Statement: Nominal and Common size [*](#index)"
   ]
  },
  {
   "cell_type": "code",
   "execution_count": 16,
   "id": "4d99efe6-6f3c-44cd-bc4c-4dc6dbd4a994",
   "metadata": {},
   "outputs": [
    {
     "name": "stdout",
     "output_type": "stream",
     "text": [
      "Income statement graph created.\n",
      "\n"
     ]
    },
    {
     "data": {
      "application/vnd.plotly.v1+json": {
       "config": {
        "plotlyServerURL": "https://plot.ly"
       },
       "data": [
        {
         "marker": {
          "color": "#004369"
         },
         "name": "Revenue",
         "textposition": "inside",
         "texttemplate": "%{y:.2s}",
         "type": "bar",
         "x": [
          "2020",
          "2021",
          "2022",
          "2023",
          "2024"
         ],
         "y": [
          23888000000,
          27450000000,
          33203000000,
          35819000000,
          51574000000
         ]
        },
        {
         "marker": {
          "color": "#41729f"
         },
         "name": "Net Income",
         "textposition": "inside",
         "texttemplate": "%{y:.2s}",
         "type": "bar",
         "x": [
          "2020",
          "2021",
          "2022",
          "2023",
          "2024"
         ],
         "y": [
          2960000000,
          6736000000,
          11495000000,
          14082000000,
          5895000000
         ]
        },
        {
         "marker": {
          "color": "#DB1F48"
         },
         "name": "Interest Expense",
         "textposition": "inside",
         "texttemplate": "%{y:.2s}",
         "type": "bar",
         "x": [
          "2020",
          "2021",
          "2022",
          "2023",
          "2024"
         ],
         "y": {
          "bdata": "QLcoAwAk9AAA4fUFwHPjHwCsHhI=",
          "dtype": "i4"
         }
        }
       ],
       "layout": {
        "barmode": "group",
        "height": 400,
        "legend": {
         "orientation": "h",
         "x": 1,
         "xanchor": "right",
         "y": 1,
         "yanchor": "bottom"
        },
        "template": {
         "data": {
          "bar": [
           {
            "error_x": {
             "color": "#2a3f5f"
            },
            "error_y": {
             "color": "#2a3f5f"
            },
            "marker": {
             "line": {
              "color": "#E5ECF6",
              "width": 0.5
             },
             "pattern": {
              "fillmode": "overlay",
              "size": 10,
              "solidity": 0.2
             }
            },
            "type": "bar"
           }
          ],
          "barpolar": [
           {
            "marker": {
             "line": {
              "color": "#E5ECF6",
              "width": 0.5
             },
             "pattern": {
              "fillmode": "overlay",
              "size": 10,
              "solidity": 0.2
             }
            },
            "type": "barpolar"
           }
          ],
          "carpet": [
           {
            "aaxis": {
             "endlinecolor": "#2a3f5f",
             "gridcolor": "white",
             "linecolor": "white",
             "minorgridcolor": "white",
             "startlinecolor": "#2a3f5f"
            },
            "baxis": {
             "endlinecolor": "#2a3f5f",
             "gridcolor": "white",
             "linecolor": "white",
             "minorgridcolor": "white",
             "startlinecolor": "#2a3f5f"
            },
            "type": "carpet"
           }
          ],
          "choropleth": [
           {
            "colorbar": {
             "outlinewidth": 0,
             "ticks": ""
            },
            "type": "choropleth"
           }
          ],
          "contour": [
           {
            "colorbar": {
             "outlinewidth": 0,
             "ticks": ""
            },
            "colorscale": [
             [
              0,
              "#0d0887"
             ],
             [
              0.1111111111111111,
              "#46039f"
             ],
             [
              0.2222222222222222,
              "#7201a8"
             ],
             [
              0.3333333333333333,
              "#9c179e"
             ],
             [
              0.4444444444444444,
              "#bd3786"
             ],
             [
              0.5555555555555556,
              "#d8576b"
             ],
             [
              0.6666666666666666,
              "#ed7953"
             ],
             [
              0.7777777777777778,
              "#fb9f3a"
             ],
             [
              0.8888888888888888,
              "#fdca26"
             ],
             [
              1,
              "#f0f921"
             ]
            ],
            "type": "contour"
           }
          ],
          "contourcarpet": [
           {
            "colorbar": {
             "outlinewidth": 0,
             "ticks": ""
            },
            "type": "contourcarpet"
           }
          ],
          "heatmap": [
           {
            "colorbar": {
             "outlinewidth": 0,
             "ticks": ""
            },
            "colorscale": [
             [
              0,
              "#0d0887"
             ],
             [
              0.1111111111111111,
              "#46039f"
             ],
             [
              0.2222222222222222,
              "#7201a8"
             ],
             [
              0.3333333333333333,
              "#9c179e"
             ],
             [
              0.4444444444444444,
              "#bd3786"
             ],
             [
              0.5555555555555556,
              "#d8576b"
             ],
             [
              0.6666666666666666,
              "#ed7953"
             ],
             [
              0.7777777777777778,
              "#fb9f3a"
             ],
             [
              0.8888888888888888,
              "#fdca26"
             ],
             [
              1,
              "#f0f921"
             ]
            ],
            "type": "heatmap"
           }
          ],
          "histogram": [
           {
            "marker": {
             "pattern": {
              "fillmode": "overlay",
              "size": 10,
              "solidity": 0.2
             }
            },
            "type": "histogram"
           }
          ],
          "histogram2d": [
           {
            "colorbar": {
             "outlinewidth": 0,
             "ticks": ""
            },
            "colorscale": [
             [
              0,
              "#0d0887"
             ],
             [
              0.1111111111111111,
              "#46039f"
             ],
             [
              0.2222222222222222,
              "#7201a8"
             ],
             [
              0.3333333333333333,
              "#9c179e"
             ],
             [
              0.4444444444444444,
              "#bd3786"
             ],
             [
              0.5555555555555556,
              "#d8576b"
             ],
             [
              0.6666666666666666,
              "#ed7953"
             ],
             [
              0.7777777777777778,
              "#fb9f3a"
             ],
             [
              0.8888888888888888,
              "#fdca26"
             ],
             [
              1,
              "#f0f921"
             ]
            ],
            "type": "histogram2d"
           }
          ],
          "histogram2dcontour": [
           {
            "colorbar": {
             "outlinewidth": 0,
             "ticks": ""
            },
            "colorscale": [
             [
              0,
              "#0d0887"
             ],
             [
              0.1111111111111111,
              "#46039f"
             ],
             [
              0.2222222222222222,
              "#7201a8"
             ],
             [
              0.3333333333333333,
              "#9c179e"
             ],
             [
              0.4444444444444444,
              "#bd3786"
             ],
             [
              0.5555555555555556,
              "#d8576b"
             ],
             [
              0.6666666666666666,
              "#ed7953"
             ],
             [
              0.7777777777777778,
              "#fb9f3a"
             ],
             [
              0.8888888888888888,
              "#fdca26"
             ],
             [
              1,
              "#f0f921"
             ]
            ],
            "type": "histogram2dcontour"
           }
          ],
          "mesh3d": [
           {
            "colorbar": {
             "outlinewidth": 0,
             "ticks": ""
            },
            "type": "mesh3d"
           }
          ],
          "parcoords": [
           {
            "line": {
             "colorbar": {
              "outlinewidth": 0,
              "ticks": ""
             }
            },
            "type": "parcoords"
           }
          ],
          "pie": [
           {
            "automargin": true,
            "type": "pie"
           }
          ],
          "scatter": [
           {
            "fillpattern": {
             "fillmode": "overlay",
             "size": 10,
             "solidity": 0.2
            },
            "type": "scatter"
           }
          ],
          "scatter3d": [
           {
            "line": {
             "colorbar": {
              "outlinewidth": 0,
              "ticks": ""
             }
            },
            "marker": {
             "colorbar": {
              "outlinewidth": 0,
              "ticks": ""
             }
            },
            "type": "scatter3d"
           }
          ],
          "scattercarpet": [
           {
            "marker": {
             "colorbar": {
              "outlinewidth": 0,
              "ticks": ""
             }
            },
            "type": "scattercarpet"
           }
          ],
          "scattergeo": [
           {
            "marker": {
             "colorbar": {
              "outlinewidth": 0,
              "ticks": ""
             }
            },
            "type": "scattergeo"
           }
          ],
          "scattergl": [
           {
            "marker": {
             "colorbar": {
              "outlinewidth": 0,
              "ticks": ""
             }
            },
            "type": "scattergl"
           }
          ],
          "scattermap": [
           {
            "marker": {
             "colorbar": {
              "outlinewidth": 0,
              "ticks": ""
             }
            },
            "type": "scattermap"
           }
          ],
          "scattermapbox": [
           {
            "marker": {
             "colorbar": {
              "outlinewidth": 0,
              "ticks": ""
             }
            },
            "type": "scattermapbox"
           }
          ],
          "scatterpolar": [
           {
            "marker": {
             "colorbar": {
              "outlinewidth": 0,
              "ticks": ""
             }
            },
            "type": "scatterpolar"
           }
          ],
          "scatterpolargl": [
           {
            "marker": {
             "colorbar": {
              "outlinewidth": 0,
              "ticks": ""
             }
            },
            "type": "scatterpolargl"
           }
          ],
          "scatterternary": [
           {
            "marker": {
             "colorbar": {
              "outlinewidth": 0,
              "ticks": ""
             }
            },
            "type": "scatterternary"
           }
          ],
          "surface": [
           {
            "colorbar": {
             "outlinewidth": 0,
             "ticks": ""
            },
            "colorscale": [
             [
              0,
              "#0d0887"
             ],
             [
              0.1111111111111111,
              "#46039f"
             ],
             [
              0.2222222222222222,
              "#7201a8"
             ],
             [
              0.3333333333333333,
              "#9c179e"
             ],
             [
              0.4444444444444444,
              "#bd3786"
             ],
             [
              0.5555555555555556,
              "#d8576b"
             ],
             [
              0.6666666666666666,
              "#ed7953"
             ],
             [
              0.7777777777777778,
              "#fb9f3a"
             ],
             [
              0.8888888888888888,
              "#fdca26"
             ],
             [
              1,
              "#f0f921"
             ]
            ],
            "type": "surface"
           }
          ],
          "table": [
           {
            "cells": {
             "fill": {
              "color": "#EBF0F8"
             },
             "line": {
              "color": "white"
             }
            },
            "header": {
             "fill": {
              "color": "#C8D4E3"
             },
             "line": {
              "color": "white"
             }
            },
            "type": "table"
           }
          ]
         },
         "layout": {
          "annotationdefaults": {
           "arrowcolor": "#2a3f5f",
           "arrowhead": 0,
           "arrowwidth": 1
          },
          "autotypenumbers": "strict",
          "coloraxis": {
           "colorbar": {
            "outlinewidth": 0,
            "ticks": ""
           }
          },
          "colorscale": {
           "diverging": [
            [
             0,
             "#8e0152"
            ],
            [
             0.1,
             "#c51b7d"
            ],
            [
             0.2,
             "#de77ae"
            ],
            [
             0.3,
             "#f1b6da"
            ],
            [
             0.4,
             "#fde0ef"
            ],
            [
             0.5,
             "#f7f7f7"
            ],
            [
             0.6,
             "#e6f5d0"
            ],
            [
             0.7,
             "#b8e186"
            ],
            [
             0.8,
             "#7fbc41"
            ],
            [
             0.9,
             "#4d9221"
            ],
            [
             1,
             "#276419"
            ]
           ],
           "sequential": [
            [
             0,
             "#0d0887"
            ],
            [
             0.1111111111111111,
             "#46039f"
            ],
            [
             0.2222222222222222,
             "#7201a8"
            ],
            [
             0.3333333333333333,
             "#9c179e"
            ],
            [
             0.4444444444444444,
             "#bd3786"
            ],
            [
             0.5555555555555556,
             "#d8576b"
            ],
            [
             0.6666666666666666,
             "#ed7953"
            ],
            [
             0.7777777777777778,
             "#fb9f3a"
            ],
            [
             0.8888888888888888,
             "#fdca26"
            ],
            [
             1,
             "#f0f921"
            ]
           ],
           "sequentialminus": [
            [
             0,
             "#0d0887"
            ],
            [
             0.1111111111111111,
             "#46039f"
            ],
            [
             0.2222222222222222,
             "#7201a8"
            ],
            [
             0.3333333333333333,
             "#9c179e"
            ],
            [
             0.4444444444444444,
             "#bd3786"
            ],
            [
             0.5555555555555556,
             "#d8576b"
            ],
            [
             0.6666666666666666,
             "#ed7953"
            ],
            [
             0.7777777777777778,
             "#fb9f3a"
            ],
            [
             0.8888888888888888,
             "#fdca26"
            ],
            [
             1,
             "#f0f921"
            ]
           ]
          },
          "colorway": [
           "#636efa",
           "#EF553B",
           "#00cc96",
           "#ab63fa",
           "#FFA15A",
           "#19d3f3",
           "#FF6692",
           "#B6E880",
           "#FF97FF",
           "#FECB52"
          ],
          "font": {
           "color": "#2a3f5f"
          },
          "geo": {
           "bgcolor": "white",
           "lakecolor": "white",
           "landcolor": "#E5ECF6",
           "showlakes": true,
           "showland": true,
           "subunitcolor": "white"
          },
          "hoverlabel": {
           "align": "left"
          },
          "hovermode": "closest",
          "mapbox": {
           "style": "light"
          },
          "paper_bgcolor": "white",
          "plot_bgcolor": "#E5ECF6",
          "polar": {
           "angularaxis": {
            "gridcolor": "white",
            "linecolor": "white",
            "ticks": ""
           },
           "bgcolor": "#E5ECF6",
           "radialaxis": {
            "gridcolor": "white",
            "linecolor": "white",
            "ticks": ""
           }
          },
          "scene": {
           "xaxis": {
            "backgroundcolor": "#E5ECF6",
            "gridcolor": "white",
            "gridwidth": 2,
            "linecolor": "white",
            "showbackground": true,
            "ticks": "",
            "zerolinecolor": "white"
           },
           "yaxis": {
            "backgroundcolor": "#E5ECF6",
            "gridcolor": "white",
            "gridwidth": 2,
            "linecolor": "white",
            "showbackground": true,
            "ticks": "",
            "zerolinecolor": "white"
           },
           "zaxis": {
            "backgroundcolor": "#E5ECF6",
            "gridcolor": "white",
            "gridwidth": 2,
            "linecolor": "white",
            "showbackground": true,
            "ticks": "",
            "zerolinecolor": "white"
           }
          },
          "shapedefaults": {
           "line": {
            "color": "#2a3f5f"
           }
          },
          "ternary": {
           "aaxis": {
            "gridcolor": "white",
            "linecolor": "white",
            "ticks": ""
           },
           "baxis": {
            "gridcolor": "white",
            "linecolor": "white",
            "ticks": ""
           },
           "bgcolor": "#E5ECF6",
           "caxis": {
            "gridcolor": "white",
            "linecolor": "white",
            "ticks": ""
           }
          },
          "title": {
           "x": 0.05
          },
          "xaxis": {
           "automargin": true,
           "gridcolor": "white",
           "linecolor": "white",
           "ticks": "",
           "title": {
            "standoff": 15
           },
           "zerolinecolor": "white",
           "zerolinewidth": 2
          },
          "yaxis": {
           "automargin": true,
           "gridcolor": "white",
           "linecolor": "white",
           "ticks": "",
           "title": {
            "standoff": 15
           },
           "zerolinecolor": "white",
           "zerolinewidth": 2
          }
         }
        },
        "title": {
         "text": "Income Statement for: AVGO"
        },
        "width": 800,
        "xaxis": {
         "title": {
          "text": "Year"
         }
        },
        "yaxis": {
         "title": {
          "text": "Amount $mm USD"
         }
        }
       }
      }
     },
     "metadata": {},
     "output_type": "display_data"
    },
    {
     "name": "stdout",
     "output_type": "stream",
     "text": [
      "Common size income statement graph created.\n",
      "\n"
     ]
    },
    {
     "data": {
      "application/vnd.plotly.v1+json": {
       "config": {
        "plotlyServerURL": "https://plot.ly"
       },
       "data": [
        {
         "marker": {
          "color": "#004369"
         },
         "name": "Revenue",
         "textposition": "inside",
         "texttemplate": "%{y:.2s}",
         "type": "bar",
         "x": [
          "2020",
          "2021",
          "2022",
          "2023",
          "2024"
         ],
         "y": {
          "bdata": "AAAAAAAAWUAAAAAAAABZQAAAAAAAAFlAAAAAAAAAWUAAAAAAAABZQA==",
          "dtype": "f8"
         }
        },
        {
         "marker": {
          "color": "#41729f"
         },
         "name": "Net Income",
         "textposition": "inside",
         "texttemplate": "%{y:.2s}",
         "type": "bar",
         "x": [
          "2020",
          "2021",
          "2022",
          "2023",
          "2024"
         ],
         "y": {
          "bdata": "bXpe9UXIKECtSTqHBoo4QF5fFSRoT0FArj1e+juoQ0ATRVZKQNwmQA==",
          "dtype": "f8"
         }
        },
        {
         "marker": {
          "color": "#DB1F48"
         },
         "name": "Interest Expense",
         "textposition": "inside",
         "texttemplate": "%{y:.2s}",
         "type": "bar",
         "x": [
          "2020",
          "2021",
          "2022",
          "2023",
          "2024"
         ],
         "y": {
          "bdata": "BteyuTFmzD9M2Rbj5detP/wKVW5+RtM/RYHL0t7l9z9Ta39HutziPw==",
          "dtype": "f8"
         }
        }
       ],
       "layout": {
        "barmode": "group",
        "height": 400,
        "legend": {
         "orientation": "h",
         "x": 1,
         "xanchor": "right",
         "y": 1,
         "yanchor": "bottom"
        },
        "template": {
         "data": {
          "bar": [
           {
            "error_x": {
             "color": "#2a3f5f"
            },
            "error_y": {
             "color": "#2a3f5f"
            },
            "marker": {
             "line": {
              "color": "#E5ECF6",
              "width": 0.5
             },
             "pattern": {
              "fillmode": "overlay",
              "size": 10,
              "solidity": 0.2
             }
            },
            "type": "bar"
           }
          ],
          "barpolar": [
           {
            "marker": {
             "line": {
              "color": "#E5ECF6",
              "width": 0.5
             },
             "pattern": {
              "fillmode": "overlay",
              "size": 10,
              "solidity": 0.2
             }
            },
            "type": "barpolar"
           }
          ],
          "carpet": [
           {
            "aaxis": {
             "endlinecolor": "#2a3f5f",
             "gridcolor": "white",
             "linecolor": "white",
             "minorgridcolor": "white",
             "startlinecolor": "#2a3f5f"
            },
            "baxis": {
             "endlinecolor": "#2a3f5f",
             "gridcolor": "white",
             "linecolor": "white",
             "minorgridcolor": "white",
             "startlinecolor": "#2a3f5f"
            },
            "type": "carpet"
           }
          ],
          "choropleth": [
           {
            "colorbar": {
             "outlinewidth": 0,
             "ticks": ""
            },
            "type": "choropleth"
           }
          ],
          "contour": [
           {
            "colorbar": {
             "outlinewidth": 0,
             "ticks": ""
            },
            "colorscale": [
             [
              0,
              "#0d0887"
             ],
             [
              0.1111111111111111,
              "#46039f"
             ],
             [
              0.2222222222222222,
              "#7201a8"
             ],
             [
              0.3333333333333333,
              "#9c179e"
             ],
             [
              0.4444444444444444,
              "#bd3786"
             ],
             [
              0.5555555555555556,
              "#d8576b"
             ],
             [
              0.6666666666666666,
              "#ed7953"
             ],
             [
              0.7777777777777778,
              "#fb9f3a"
             ],
             [
              0.8888888888888888,
              "#fdca26"
             ],
             [
              1,
              "#f0f921"
             ]
            ],
            "type": "contour"
           }
          ],
          "contourcarpet": [
           {
            "colorbar": {
             "outlinewidth": 0,
             "ticks": ""
            },
            "type": "contourcarpet"
           }
          ],
          "heatmap": [
           {
            "colorbar": {
             "outlinewidth": 0,
             "ticks": ""
            },
            "colorscale": [
             [
              0,
              "#0d0887"
             ],
             [
              0.1111111111111111,
              "#46039f"
             ],
             [
              0.2222222222222222,
              "#7201a8"
             ],
             [
              0.3333333333333333,
              "#9c179e"
             ],
             [
              0.4444444444444444,
              "#bd3786"
             ],
             [
              0.5555555555555556,
              "#d8576b"
             ],
             [
              0.6666666666666666,
              "#ed7953"
             ],
             [
              0.7777777777777778,
              "#fb9f3a"
             ],
             [
              0.8888888888888888,
              "#fdca26"
             ],
             [
              1,
              "#f0f921"
             ]
            ],
            "type": "heatmap"
           }
          ],
          "histogram": [
           {
            "marker": {
             "pattern": {
              "fillmode": "overlay",
              "size": 10,
              "solidity": 0.2
             }
            },
            "type": "histogram"
           }
          ],
          "histogram2d": [
           {
            "colorbar": {
             "outlinewidth": 0,
             "ticks": ""
            },
            "colorscale": [
             [
              0,
              "#0d0887"
             ],
             [
              0.1111111111111111,
              "#46039f"
             ],
             [
              0.2222222222222222,
              "#7201a8"
             ],
             [
              0.3333333333333333,
              "#9c179e"
             ],
             [
              0.4444444444444444,
              "#bd3786"
             ],
             [
              0.5555555555555556,
              "#d8576b"
             ],
             [
              0.6666666666666666,
              "#ed7953"
             ],
             [
              0.7777777777777778,
              "#fb9f3a"
             ],
             [
              0.8888888888888888,
              "#fdca26"
             ],
             [
              1,
              "#f0f921"
             ]
            ],
            "type": "histogram2d"
           }
          ],
          "histogram2dcontour": [
           {
            "colorbar": {
             "outlinewidth": 0,
             "ticks": ""
            },
            "colorscale": [
             [
              0,
              "#0d0887"
             ],
             [
              0.1111111111111111,
              "#46039f"
             ],
             [
              0.2222222222222222,
              "#7201a8"
             ],
             [
              0.3333333333333333,
              "#9c179e"
             ],
             [
              0.4444444444444444,
              "#bd3786"
             ],
             [
              0.5555555555555556,
              "#d8576b"
             ],
             [
              0.6666666666666666,
              "#ed7953"
             ],
             [
              0.7777777777777778,
              "#fb9f3a"
             ],
             [
              0.8888888888888888,
              "#fdca26"
             ],
             [
              1,
              "#f0f921"
             ]
            ],
            "type": "histogram2dcontour"
           }
          ],
          "mesh3d": [
           {
            "colorbar": {
             "outlinewidth": 0,
             "ticks": ""
            },
            "type": "mesh3d"
           }
          ],
          "parcoords": [
           {
            "line": {
             "colorbar": {
              "outlinewidth": 0,
              "ticks": ""
             }
            },
            "type": "parcoords"
           }
          ],
          "pie": [
           {
            "automargin": true,
            "type": "pie"
           }
          ],
          "scatter": [
           {
            "fillpattern": {
             "fillmode": "overlay",
             "size": 10,
             "solidity": 0.2
            },
            "type": "scatter"
           }
          ],
          "scatter3d": [
           {
            "line": {
             "colorbar": {
              "outlinewidth": 0,
              "ticks": ""
             }
            },
            "marker": {
             "colorbar": {
              "outlinewidth": 0,
              "ticks": ""
             }
            },
            "type": "scatter3d"
           }
          ],
          "scattercarpet": [
           {
            "marker": {
             "colorbar": {
              "outlinewidth": 0,
              "ticks": ""
             }
            },
            "type": "scattercarpet"
           }
          ],
          "scattergeo": [
           {
            "marker": {
             "colorbar": {
              "outlinewidth": 0,
              "ticks": ""
             }
            },
            "type": "scattergeo"
           }
          ],
          "scattergl": [
           {
            "marker": {
             "colorbar": {
              "outlinewidth": 0,
              "ticks": ""
             }
            },
            "type": "scattergl"
           }
          ],
          "scattermap": [
           {
            "marker": {
             "colorbar": {
              "outlinewidth": 0,
              "ticks": ""
             }
            },
            "type": "scattermap"
           }
          ],
          "scattermapbox": [
           {
            "marker": {
             "colorbar": {
              "outlinewidth": 0,
              "ticks": ""
             }
            },
            "type": "scattermapbox"
           }
          ],
          "scatterpolar": [
           {
            "marker": {
             "colorbar": {
              "outlinewidth": 0,
              "ticks": ""
             }
            },
            "type": "scatterpolar"
           }
          ],
          "scatterpolargl": [
           {
            "marker": {
             "colorbar": {
              "outlinewidth": 0,
              "ticks": ""
             }
            },
            "type": "scatterpolargl"
           }
          ],
          "scatterternary": [
           {
            "marker": {
             "colorbar": {
              "outlinewidth": 0,
              "ticks": ""
             }
            },
            "type": "scatterternary"
           }
          ],
          "surface": [
           {
            "colorbar": {
             "outlinewidth": 0,
             "ticks": ""
            },
            "colorscale": [
             [
              0,
              "#0d0887"
             ],
             [
              0.1111111111111111,
              "#46039f"
             ],
             [
              0.2222222222222222,
              "#7201a8"
             ],
             [
              0.3333333333333333,
              "#9c179e"
             ],
             [
              0.4444444444444444,
              "#bd3786"
             ],
             [
              0.5555555555555556,
              "#d8576b"
             ],
             [
              0.6666666666666666,
              "#ed7953"
             ],
             [
              0.7777777777777778,
              "#fb9f3a"
             ],
             [
              0.8888888888888888,
              "#fdca26"
             ],
             [
              1,
              "#f0f921"
             ]
            ],
            "type": "surface"
           }
          ],
          "table": [
           {
            "cells": {
             "fill": {
              "color": "#EBF0F8"
             },
             "line": {
              "color": "white"
             }
            },
            "header": {
             "fill": {
              "color": "#C8D4E3"
             },
             "line": {
              "color": "white"
             }
            },
            "type": "table"
           }
          ]
         },
         "layout": {
          "annotationdefaults": {
           "arrowcolor": "#2a3f5f",
           "arrowhead": 0,
           "arrowwidth": 1
          },
          "autotypenumbers": "strict",
          "coloraxis": {
           "colorbar": {
            "outlinewidth": 0,
            "ticks": ""
           }
          },
          "colorscale": {
           "diverging": [
            [
             0,
             "#8e0152"
            ],
            [
             0.1,
             "#c51b7d"
            ],
            [
             0.2,
             "#de77ae"
            ],
            [
             0.3,
             "#f1b6da"
            ],
            [
             0.4,
             "#fde0ef"
            ],
            [
             0.5,
             "#f7f7f7"
            ],
            [
             0.6,
             "#e6f5d0"
            ],
            [
             0.7,
             "#b8e186"
            ],
            [
             0.8,
             "#7fbc41"
            ],
            [
             0.9,
             "#4d9221"
            ],
            [
             1,
             "#276419"
            ]
           ],
           "sequential": [
            [
             0,
             "#0d0887"
            ],
            [
             0.1111111111111111,
             "#46039f"
            ],
            [
             0.2222222222222222,
             "#7201a8"
            ],
            [
             0.3333333333333333,
             "#9c179e"
            ],
            [
             0.4444444444444444,
             "#bd3786"
            ],
            [
             0.5555555555555556,
             "#d8576b"
            ],
            [
             0.6666666666666666,
             "#ed7953"
            ],
            [
             0.7777777777777778,
             "#fb9f3a"
            ],
            [
             0.8888888888888888,
             "#fdca26"
            ],
            [
             1,
             "#f0f921"
            ]
           ],
           "sequentialminus": [
            [
             0,
             "#0d0887"
            ],
            [
             0.1111111111111111,
             "#46039f"
            ],
            [
             0.2222222222222222,
             "#7201a8"
            ],
            [
             0.3333333333333333,
             "#9c179e"
            ],
            [
             0.4444444444444444,
             "#bd3786"
            ],
            [
             0.5555555555555556,
             "#d8576b"
            ],
            [
             0.6666666666666666,
             "#ed7953"
            ],
            [
             0.7777777777777778,
             "#fb9f3a"
            ],
            [
             0.8888888888888888,
             "#fdca26"
            ],
            [
             1,
             "#f0f921"
            ]
           ]
          },
          "colorway": [
           "#636efa",
           "#EF553B",
           "#00cc96",
           "#ab63fa",
           "#FFA15A",
           "#19d3f3",
           "#FF6692",
           "#B6E880",
           "#FF97FF",
           "#FECB52"
          ],
          "font": {
           "color": "#2a3f5f"
          },
          "geo": {
           "bgcolor": "white",
           "lakecolor": "white",
           "landcolor": "#E5ECF6",
           "showlakes": true,
           "showland": true,
           "subunitcolor": "white"
          },
          "hoverlabel": {
           "align": "left"
          },
          "hovermode": "closest",
          "mapbox": {
           "style": "light"
          },
          "paper_bgcolor": "white",
          "plot_bgcolor": "#E5ECF6",
          "polar": {
           "angularaxis": {
            "gridcolor": "white",
            "linecolor": "white",
            "ticks": ""
           },
           "bgcolor": "#E5ECF6",
           "radialaxis": {
            "gridcolor": "white",
            "linecolor": "white",
            "ticks": ""
           }
          },
          "scene": {
           "xaxis": {
            "backgroundcolor": "#E5ECF6",
            "gridcolor": "white",
            "gridwidth": 2,
            "linecolor": "white",
            "showbackground": true,
            "ticks": "",
            "zerolinecolor": "white"
           },
           "yaxis": {
            "backgroundcolor": "#E5ECF6",
            "gridcolor": "white",
            "gridwidth": 2,
            "linecolor": "white",
            "showbackground": true,
            "ticks": "",
            "zerolinecolor": "white"
           },
           "zaxis": {
            "backgroundcolor": "#E5ECF6",
            "gridcolor": "white",
            "gridwidth": 2,
            "linecolor": "white",
            "showbackground": true,
            "ticks": "",
            "zerolinecolor": "white"
           }
          },
          "shapedefaults": {
           "line": {
            "color": "#2a3f5f"
           }
          },
          "ternary": {
           "aaxis": {
            "gridcolor": "white",
            "linecolor": "white",
            "ticks": ""
           },
           "baxis": {
            "gridcolor": "white",
            "linecolor": "white",
            "ticks": ""
           },
           "bgcolor": "#E5ECF6",
           "caxis": {
            "gridcolor": "white",
            "linecolor": "white",
            "ticks": ""
           }
          },
          "title": {
           "x": 0.05
          },
          "xaxis": {
           "automargin": true,
           "gridcolor": "white",
           "linecolor": "white",
           "ticks": "",
           "title": {
            "standoff": 15
           },
           "zerolinecolor": "white",
           "zerolinewidth": 2
          },
          "yaxis": {
           "automargin": true,
           "gridcolor": "white",
           "linecolor": "white",
           "ticks": "",
           "title": {
            "standoff": 15
           },
           "zerolinecolor": "white",
           "zerolinewidth": 2
          }
         }
        },
        "title": {
         "text": "Common Size Income Statement for: AVGO"
        },
        "width": 800,
        "xaxis": {
         "title": {
          "text": "Year"
         }
        },
        "yaxis": {
         "title": {
          "text": "Amount % "
         }
        }
       }
      }
     },
     "metadata": {},
     "output_type": "display_data"
    }
   ],
   "source": [
    "# Income Statement Graph\n",
    "\n",
    "# Graph the Income Statement\n",
    "fig = go.Figure(\n",
    "    data=[\n",
    "        go.Bar(name='Revenue',\n",
    "               x=is_df[\"calendarYear\"],\n",
    "               y=is_df['revenue'],\n",
    "               marker_color='#004369'\n",
    "               ),\n",
    "        go.Bar(name='Net Income',\n",
    "               x=is_df[\"calendarYear\"],\n",
    "               y=is_df['netIncome'],\n",
    "               marker_color='#41729f'\n",
    "               ),\n",
    "        go.Bar(name='Interest Expense',\n",
    "               x=is_df[\"calendarYear\"],\n",
    "               y=is_df['interestIncome'],\n",
    "               marker_color='#DB1F48'\n",
    "               )\n",
    "          ])\n",
    "fig.update_layout(barmode='group',\n",
    "                  title=str('Income Statement for: '+company),\n",
    "                  xaxis_title='Year',\n",
    "                  yaxis_title=('Amount $mm '+currency),\n",
    "                  legend=dict(orientation=\"h\",\n",
    "                              yanchor=\"bottom\",\n",
    "                              y=1.0,\n",
    "                              xanchor=\"right\",\n",
    "                              x=1),\n",
    "                  width=800, height=400)\n",
    "\n",
    "fig.update_traces(texttemplate=\"%{y:.2s}\", textposition=\"inside\")\n",
    "file_name = \"images/output/is_graph.png\"\n",
    "fig.write_image(file_name, scale=2)\n",
    "\n",
    "print(\"Income statement graph created.\\n\")\n",
    "fig.show()\n",
    "\n",
    "# Common Size Income Statement Graph\n",
    "fig = go.Figure(\n",
    "    data=[\n",
    "        go.Bar(name='Revenue',\n",
    "               x=is_df[\"calendarYear\"],\n",
    "               y=is_df['revenue']/is_df['revenue']*100,\n",
    "               marker_color='#004369'\n",
    "               ),\n",
    "        go.Bar(name='Net Income',\n",
    "               x=is_df[\"calendarYear\"],\n",
    "               y=is_df['netIncome']/is_df['revenue']*100,\n",
    "               marker_color='#41729f'\n",
    "               ),\n",
    "        go.Bar(name='Interest Expense',\n",
    "               x=is_df[\"calendarYear\"],\n",
    "               y=is_df['interestIncome']/is_df['revenue']*100,\n",
    "               marker_color='#DB1F48'\n",
    "               )\n",
    "          ])\n",
    "fig.update_layout(barmode='group',\n",
    "                  title=str('Common Size Income Statement for: '+company),\n",
    "                  xaxis_title='Year',\n",
    "                  yaxis_title=('Amount % '),\n",
    "                  legend=dict(orientation=\"h\",\n",
    "                              yanchor=\"bottom\",\n",
    "                              y=1.0,\n",
    "                              xanchor=\"right\",\n",
    "                              x=1),\n",
    "                  width=800, height=400)\n",
    "\n",
    "fig.update_traces(texttemplate=\"%{y:.2s}\", textposition=\"inside\")\n",
    "file_name = \"images/output/is_graph_cs.png\"\n",
    "fig.write_image(file_name, scale=2)\n",
    "\n",
    "print(\"Common size income statement graph created.\\n\")\n",
    "fig.show()"
   ]
  },
  {
   "cell_type": "markdown",
   "id": "a20467f4-de54-4dba-ae1a-7e06200bf6c0",
   "metadata": {},
   "source": [
    "<a id=\"CF_graph\"></a>\n",
    "### [Graph] Cash Flow Statement [*](#index)"
   ]
  },
  {
   "cell_type": "code",
   "execution_count": 17,
   "id": "ec269ff5-1e2f-4aa9-9d81-c963f9909fb2",
   "metadata": {},
   "outputs": [
    {
     "name": "stdout",
     "output_type": "stream",
     "text": [
      "Cash flow statement graph created.\n",
      "\n"
     ]
    },
    {
     "data": {
      "application/vnd.plotly.v1+json": {
       "config": {
        "plotlyServerURL": "https://plot.ly"
       },
       "data": [
        {
         "marker": {
          "color": "#01949A"
         },
         "name": "CF Operations",
         "offsetgroup": "2",
         "textposition": "inside",
         "texttemplate": "%{y:.2s}",
         "type": "bar",
         "x": [
          "2020",
          "2021",
          "2022",
          "2023",
          "2024"
         ],
         "y": [
          12061000000,
          13764000000,
          16736000000,
          18085000000,
          19962000000
         ]
        },
        {
         "marker": {
          "color": "#004369"
         },
         "name": "CF Investing",
         "offsetgroup": "3",
         "textposition": "inside",
         "texttemplate": "%{y:.2s}",
         "type": "bar",
         "x": [
          "2020",
          "2021",
          "2022",
          "2023",
          "2024"
         ],
         "y": [
          -11109000000,
          -245000000,
          -667000000,
          -689000000,
          -23070000000
         ]
        },
        {
         "marker": {
          "color": "#DB1F48"
         },
         "name": "CF Financing",
         "offsetgroup": "4",
         "textposition": "inside",
         "texttemplate": "%{y:.2s}",
         "type": "bar",
         "x": [
          "2020",
          "2021",
          "2022",
          "2023",
          "2024"
         ],
         "y": [
          1611000000,
          -8974000000,
          -15816000000,
          -15623000000,
          -1733000000
         ]
        }
       ],
       "layout": {
        "barmode": "group",
        "height": 400,
        "legend": {
         "orientation": "h",
         "x": 1,
         "xanchor": "right",
         "y": 1,
         "yanchor": "bottom"
        },
        "template": {
         "data": {
          "bar": [
           {
            "error_x": {
             "color": "#2a3f5f"
            },
            "error_y": {
             "color": "#2a3f5f"
            },
            "marker": {
             "line": {
              "color": "#E5ECF6",
              "width": 0.5
             },
             "pattern": {
              "fillmode": "overlay",
              "size": 10,
              "solidity": 0.2
             }
            },
            "type": "bar"
           }
          ],
          "barpolar": [
           {
            "marker": {
             "line": {
              "color": "#E5ECF6",
              "width": 0.5
             },
             "pattern": {
              "fillmode": "overlay",
              "size": 10,
              "solidity": 0.2
             }
            },
            "type": "barpolar"
           }
          ],
          "carpet": [
           {
            "aaxis": {
             "endlinecolor": "#2a3f5f",
             "gridcolor": "white",
             "linecolor": "white",
             "minorgridcolor": "white",
             "startlinecolor": "#2a3f5f"
            },
            "baxis": {
             "endlinecolor": "#2a3f5f",
             "gridcolor": "white",
             "linecolor": "white",
             "minorgridcolor": "white",
             "startlinecolor": "#2a3f5f"
            },
            "type": "carpet"
           }
          ],
          "choropleth": [
           {
            "colorbar": {
             "outlinewidth": 0,
             "ticks": ""
            },
            "type": "choropleth"
           }
          ],
          "contour": [
           {
            "colorbar": {
             "outlinewidth": 0,
             "ticks": ""
            },
            "colorscale": [
             [
              0,
              "#0d0887"
             ],
             [
              0.1111111111111111,
              "#46039f"
             ],
             [
              0.2222222222222222,
              "#7201a8"
             ],
             [
              0.3333333333333333,
              "#9c179e"
             ],
             [
              0.4444444444444444,
              "#bd3786"
             ],
             [
              0.5555555555555556,
              "#d8576b"
             ],
             [
              0.6666666666666666,
              "#ed7953"
             ],
             [
              0.7777777777777778,
              "#fb9f3a"
             ],
             [
              0.8888888888888888,
              "#fdca26"
             ],
             [
              1,
              "#f0f921"
             ]
            ],
            "type": "contour"
           }
          ],
          "contourcarpet": [
           {
            "colorbar": {
             "outlinewidth": 0,
             "ticks": ""
            },
            "type": "contourcarpet"
           }
          ],
          "heatmap": [
           {
            "colorbar": {
             "outlinewidth": 0,
             "ticks": ""
            },
            "colorscale": [
             [
              0,
              "#0d0887"
             ],
             [
              0.1111111111111111,
              "#46039f"
             ],
             [
              0.2222222222222222,
              "#7201a8"
             ],
             [
              0.3333333333333333,
              "#9c179e"
             ],
             [
              0.4444444444444444,
              "#bd3786"
             ],
             [
              0.5555555555555556,
              "#d8576b"
             ],
             [
              0.6666666666666666,
              "#ed7953"
             ],
             [
              0.7777777777777778,
              "#fb9f3a"
             ],
             [
              0.8888888888888888,
              "#fdca26"
             ],
             [
              1,
              "#f0f921"
             ]
            ],
            "type": "heatmap"
           }
          ],
          "histogram": [
           {
            "marker": {
             "pattern": {
              "fillmode": "overlay",
              "size": 10,
              "solidity": 0.2
             }
            },
            "type": "histogram"
           }
          ],
          "histogram2d": [
           {
            "colorbar": {
             "outlinewidth": 0,
             "ticks": ""
            },
            "colorscale": [
             [
              0,
              "#0d0887"
             ],
             [
              0.1111111111111111,
              "#46039f"
             ],
             [
              0.2222222222222222,
              "#7201a8"
             ],
             [
              0.3333333333333333,
              "#9c179e"
             ],
             [
              0.4444444444444444,
              "#bd3786"
             ],
             [
              0.5555555555555556,
              "#d8576b"
             ],
             [
              0.6666666666666666,
              "#ed7953"
             ],
             [
              0.7777777777777778,
              "#fb9f3a"
             ],
             [
              0.8888888888888888,
              "#fdca26"
             ],
             [
              1,
              "#f0f921"
             ]
            ],
            "type": "histogram2d"
           }
          ],
          "histogram2dcontour": [
           {
            "colorbar": {
             "outlinewidth": 0,
             "ticks": ""
            },
            "colorscale": [
             [
              0,
              "#0d0887"
             ],
             [
              0.1111111111111111,
              "#46039f"
             ],
             [
              0.2222222222222222,
              "#7201a8"
             ],
             [
              0.3333333333333333,
              "#9c179e"
             ],
             [
              0.4444444444444444,
              "#bd3786"
             ],
             [
              0.5555555555555556,
              "#d8576b"
             ],
             [
              0.6666666666666666,
              "#ed7953"
             ],
             [
              0.7777777777777778,
              "#fb9f3a"
             ],
             [
              0.8888888888888888,
              "#fdca26"
             ],
             [
              1,
              "#f0f921"
             ]
            ],
            "type": "histogram2dcontour"
           }
          ],
          "mesh3d": [
           {
            "colorbar": {
             "outlinewidth": 0,
             "ticks": ""
            },
            "type": "mesh3d"
           }
          ],
          "parcoords": [
           {
            "line": {
             "colorbar": {
              "outlinewidth": 0,
              "ticks": ""
             }
            },
            "type": "parcoords"
           }
          ],
          "pie": [
           {
            "automargin": true,
            "type": "pie"
           }
          ],
          "scatter": [
           {
            "fillpattern": {
             "fillmode": "overlay",
             "size": 10,
             "solidity": 0.2
            },
            "type": "scatter"
           }
          ],
          "scatter3d": [
           {
            "line": {
             "colorbar": {
              "outlinewidth": 0,
              "ticks": ""
             }
            },
            "marker": {
             "colorbar": {
              "outlinewidth": 0,
              "ticks": ""
             }
            },
            "type": "scatter3d"
           }
          ],
          "scattercarpet": [
           {
            "marker": {
             "colorbar": {
              "outlinewidth": 0,
              "ticks": ""
             }
            },
            "type": "scattercarpet"
           }
          ],
          "scattergeo": [
           {
            "marker": {
             "colorbar": {
              "outlinewidth": 0,
              "ticks": ""
             }
            },
            "type": "scattergeo"
           }
          ],
          "scattergl": [
           {
            "marker": {
             "colorbar": {
              "outlinewidth": 0,
              "ticks": ""
             }
            },
            "type": "scattergl"
           }
          ],
          "scattermap": [
           {
            "marker": {
             "colorbar": {
              "outlinewidth": 0,
              "ticks": ""
             }
            },
            "type": "scattermap"
           }
          ],
          "scattermapbox": [
           {
            "marker": {
             "colorbar": {
              "outlinewidth": 0,
              "ticks": ""
             }
            },
            "type": "scattermapbox"
           }
          ],
          "scatterpolar": [
           {
            "marker": {
             "colorbar": {
              "outlinewidth": 0,
              "ticks": ""
             }
            },
            "type": "scatterpolar"
           }
          ],
          "scatterpolargl": [
           {
            "marker": {
             "colorbar": {
              "outlinewidth": 0,
              "ticks": ""
             }
            },
            "type": "scatterpolargl"
           }
          ],
          "scatterternary": [
           {
            "marker": {
             "colorbar": {
              "outlinewidth": 0,
              "ticks": ""
             }
            },
            "type": "scatterternary"
           }
          ],
          "surface": [
           {
            "colorbar": {
             "outlinewidth": 0,
             "ticks": ""
            },
            "colorscale": [
             [
              0,
              "#0d0887"
             ],
             [
              0.1111111111111111,
              "#46039f"
             ],
             [
              0.2222222222222222,
              "#7201a8"
             ],
             [
              0.3333333333333333,
              "#9c179e"
             ],
             [
              0.4444444444444444,
              "#bd3786"
             ],
             [
              0.5555555555555556,
              "#d8576b"
             ],
             [
              0.6666666666666666,
              "#ed7953"
             ],
             [
              0.7777777777777778,
              "#fb9f3a"
             ],
             [
              0.8888888888888888,
              "#fdca26"
             ],
             [
              1,
              "#f0f921"
             ]
            ],
            "type": "surface"
           }
          ],
          "table": [
           {
            "cells": {
             "fill": {
              "color": "#EBF0F8"
             },
             "line": {
              "color": "white"
             }
            },
            "header": {
             "fill": {
              "color": "#C8D4E3"
             },
             "line": {
              "color": "white"
             }
            },
            "type": "table"
           }
          ]
         },
         "layout": {
          "annotationdefaults": {
           "arrowcolor": "#2a3f5f",
           "arrowhead": 0,
           "arrowwidth": 1
          },
          "autotypenumbers": "strict",
          "coloraxis": {
           "colorbar": {
            "outlinewidth": 0,
            "ticks": ""
           }
          },
          "colorscale": {
           "diverging": [
            [
             0,
             "#8e0152"
            ],
            [
             0.1,
             "#c51b7d"
            ],
            [
             0.2,
             "#de77ae"
            ],
            [
             0.3,
             "#f1b6da"
            ],
            [
             0.4,
             "#fde0ef"
            ],
            [
             0.5,
             "#f7f7f7"
            ],
            [
             0.6,
             "#e6f5d0"
            ],
            [
             0.7,
             "#b8e186"
            ],
            [
             0.8,
             "#7fbc41"
            ],
            [
             0.9,
             "#4d9221"
            ],
            [
             1,
             "#276419"
            ]
           ],
           "sequential": [
            [
             0,
             "#0d0887"
            ],
            [
             0.1111111111111111,
             "#46039f"
            ],
            [
             0.2222222222222222,
             "#7201a8"
            ],
            [
             0.3333333333333333,
             "#9c179e"
            ],
            [
             0.4444444444444444,
             "#bd3786"
            ],
            [
             0.5555555555555556,
             "#d8576b"
            ],
            [
             0.6666666666666666,
             "#ed7953"
            ],
            [
             0.7777777777777778,
             "#fb9f3a"
            ],
            [
             0.8888888888888888,
             "#fdca26"
            ],
            [
             1,
             "#f0f921"
            ]
           ],
           "sequentialminus": [
            [
             0,
             "#0d0887"
            ],
            [
             0.1111111111111111,
             "#46039f"
            ],
            [
             0.2222222222222222,
             "#7201a8"
            ],
            [
             0.3333333333333333,
             "#9c179e"
            ],
            [
             0.4444444444444444,
             "#bd3786"
            ],
            [
             0.5555555555555556,
             "#d8576b"
            ],
            [
             0.6666666666666666,
             "#ed7953"
            ],
            [
             0.7777777777777778,
             "#fb9f3a"
            ],
            [
             0.8888888888888888,
             "#fdca26"
            ],
            [
             1,
             "#f0f921"
            ]
           ]
          },
          "colorway": [
           "#636efa",
           "#EF553B",
           "#00cc96",
           "#ab63fa",
           "#FFA15A",
           "#19d3f3",
           "#FF6692",
           "#B6E880",
           "#FF97FF",
           "#FECB52"
          ],
          "font": {
           "color": "#2a3f5f"
          },
          "geo": {
           "bgcolor": "white",
           "lakecolor": "white",
           "landcolor": "#E5ECF6",
           "showlakes": true,
           "showland": true,
           "subunitcolor": "white"
          },
          "hoverlabel": {
           "align": "left"
          },
          "hovermode": "closest",
          "mapbox": {
           "style": "light"
          },
          "paper_bgcolor": "white",
          "plot_bgcolor": "#E5ECF6",
          "polar": {
           "angularaxis": {
            "gridcolor": "white",
            "linecolor": "white",
            "ticks": ""
           },
           "bgcolor": "#E5ECF6",
           "radialaxis": {
            "gridcolor": "white",
            "linecolor": "white",
            "ticks": ""
           }
          },
          "scene": {
           "xaxis": {
            "backgroundcolor": "#E5ECF6",
            "gridcolor": "white",
            "gridwidth": 2,
            "linecolor": "white",
            "showbackground": true,
            "ticks": "",
            "zerolinecolor": "white"
           },
           "yaxis": {
            "backgroundcolor": "#E5ECF6",
            "gridcolor": "white",
            "gridwidth": 2,
            "linecolor": "white",
            "showbackground": true,
            "ticks": "",
            "zerolinecolor": "white"
           },
           "zaxis": {
            "backgroundcolor": "#E5ECF6",
            "gridcolor": "white",
            "gridwidth": 2,
            "linecolor": "white",
            "showbackground": true,
            "ticks": "",
            "zerolinecolor": "white"
           }
          },
          "shapedefaults": {
           "line": {
            "color": "#2a3f5f"
           }
          },
          "ternary": {
           "aaxis": {
            "gridcolor": "white",
            "linecolor": "white",
            "ticks": ""
           },
           "baxis": {
            "gridcolor": "white",
            "linecolor": "white",
            "ticks": ""
           },
           "bgcolor": "#E5ECF6",
           "caxis": {
            "gridcolor": "white",
            "linecolor": "white",
            "ticks": ""
           }
          },
          "title": {
           "x": 0.05
          },
          "xaxis": {
           "automargin": true,
           "gridcolor": "white",
           "linecolor": "white",
           "ticks": "",
           "title": {
            "standoff": 15
           },
           "zerolinecolor": "white",
           "zerolinewidth": 2
          },
          "yaxis": {
           "automargin": true,
           "gridcolor": "white",
           "linecolor": "white",
           "ticks": "",
           "title": {
            "standoff": 15
           },
           "zerolinecolor": "white",
           "zerolinewidth": 2
          }
         }
        },
        "title": {
         "text": "Cash Flow Statement for: AVGO"
        },
        "width": 800,
        "xaxis": {
         "title": {
          "text": "Year"
         }
        },
        "yaxis": {
         "title": {
          "text": "Amount $mm USD"
         }
        }
       }
      }
     },
     "metadata": {},
     "output_type": "display_data"
    }
   ],
   "source": [
    "# Cash Flow Statement Graph\n",
    "\n",
    "# Graph the Cash Flow Statement\n",
    "fig = go.Figure(\n",
    "    data=[\n",
    "        go.Bar(name='CF Operations',\n",
    "               x=cf_df[\"calendarYear\"],\n",
    "               y=cf_df['netCashProvidedByOperatingActivities'],\n",
    "               marker_color='#01949A',\n",
    "               offsetgroup=2\n",
    "               ),\n",
    "        go.Bar(name='CF Investing',\n",
    "               x=cf_df[\"calendarYear\"],\n",
    "               y=cf_df['netCashUsedForInvestingActivites'],\n",
    "               marker_color='#004369',\n",
    "               offsetgroup=3,\n",
    "               ),\n",
    "        go.Bar(name='CF Financing',\n",
    "               x=cf_df[\"calendarYear\"],\n",
    "               y=cf_df['netCashUsedProvidedByFinancingActivities'],\n",
    "               marker_color='#DB1F48',\n",
    "               offsetgroup=4,\n",
    "               )\n",
    "          ])\n",
    "fig.update_layout(barmode='group',\n",
    "                  title=str('Cash Flow Statement for: '+company),\n",
    "                  xaxis_title='Year',\n",
    "                  yaxis_title=('Amount $mm '+currency),\n",
    "                  legend=dict(orientation=\"h\",\n",
    "                              yanchor=\"bottom\",\n",
    "                              y=1.0,\n",
    "                              xanchor=\"right\",\n",
    "                              x=1),\n",
    "                  width=800, height=400)\n",
    "\n",
    "fig.update_traces(texttemplate='%{y:.2s}', textposition='inside')\n",
    "file_name = \"images/output/cf_graph.png\"\n",
    "fig.write_image(file_name, scale=2)\n",
    "\n",
    "print(\"Cash flow statement graph created.\\n\")\n",
    "fig.show()"
   ]
  },
  {
   "cell_type": "markdown",
   "id": "8271693c-e346-4966-b154-d4488fe28685",
   "metadata": {},
   "source": [
    "<a id=\"equity_uses_table\"></a>\n",
    "### [DataFrame] Equity Uses [*](#index)"
   ]
  },
  {
   "cell_type": "code",
   "execution_count": 18,
   "id": "d55dbd7f-bf20-43bd-9702-1b026a8bacc2",
   "metadata": {},
   "outputs": [
    {
     "name": "stdout",
     "output_type": "stream",
     "text": [
      "Dataframe 'equityUses_df' created.\n",
      "\n"
     ]
    }
   ],
   "source": [
    "# Equity uses Graph needs data from three data frames:\n",
    "# Create a new data frame with the information needed\n",
    "\n",
    "# Copy original df into a new df\n",
    "bs_equity = bs_df.copy(deep=True)\n",
    "cf_equity = cf_df.copy(deep=True)\n",
    "is_equity = is_df.copy(deep=True)\n",
    "\n",
    "# Add Last Year Equity column to BS\n",
    "bs_equity['LY_totalStockholdersEquity'] = (\n",
    "    bs_equity['totalStockholdersEquity'].shift(-1)\n",
    ")\n",
    "\n",
    "# Make the date the index value\n",
    "bs_equity.set_index('date', inplace=True)\n",
    "cf_equity.set_index('date', inplace=True)\n",
    "is_equity.set_index('date', inplace=True)\n",
    "\n",
    "# Drop duplicate column netIncome\n",
    "cf_equity.drop('netIncome', axis=1, inplace=True)\n",
    "\n",
    "# Merge data frames\n",
    "equityUses_df = pd.concat([bs_equity, cf_equity, is_equity], axis=1)\n",
    "\n",
    "# Reset index to make 'date' a column instead of index value\n",
    "equityUses_df = equityUses_df.reset_index()\n",
    "\n",
    "# Make sure all variables are float64\n",
    "equityUses_df['LY_totalStockholdersEquity'] = (\n",
    "    equityUses_df['LY_totalStockholdersEquity'].astype(float)\n",
    ")\n",
    "equityUses_df['netIncome'] = equityUses_df['netIncome'].astype(float)\n",
    "equityUses_df['dividendsPaid'] = equityUses_df['dividendsPaid'].astype(float)\n",
    "\n",
    "print(\"Dataframe 'equityUses_df' created.\\n\")"
   ]
  },
  {
   "cell_type": "markdown",
   "id": "5718cee2-dea2-4140-945b-e8ca168cb595",
   "metadata": {},
   "source": [
    "<a id=\"equity_uses\"></a>\n",
    "### [Graph] Equity Uses [*](#index)"
   ]
  },
  {
   "cell_type": "code",
   "execution_count": 19,
   "id": "3c2e65e2-016e-491a-9768-1541c3606be4",
   "metadata": {},
   "outputs": [
    {
     "name": "stdout",
     "output_type": "stream",
     "text": [
      "Equity Uses graph created.\n",
      "\n"
     ]
    },
    {
     "data": {
      "application/vnd.plotly.v1+json": {
       "config": {
        "plotlyServerURL": "https://plot.ly"
       },
       "data": [
        {
         "marker": {
          "color": "#738fa7"
         },
         "name": "Beginning Equity",
         "offsetgroup": "0",
         "textposition": "inside",
         "texttemplate": "%{y:.2s}",
         "type": "bar",
         "x": [
          "2020-11-01",
          "2021-10-31",
          "2022-10-30",
          "2023-10-29",
          "2024-11-03"
         ],
         "y": {
          "bdata": "AAAAhddFF0IAAABdPyYVQgAAAFQvVxZCAAAAp9iDL0IAAAAAAAD4fw==",
          "dtype": "f8"
         }
        },
        {
         "marker": {
          "color": "#005f73"
         },
         "name": "NetIncome",
         "offsetgroup": "1",
         "textposition": "inside",
         "texttemplate": "%{y:.2s}",
         "type": "bar",
         "x": [
          "2020-11-01",
          "2021-10-31",
          "2022-10-30",
          "2023-10-29",
          "2024-11-03"
         ],
         "y": {
          "bdata": "AAAAgMAN5kEAAABA8xf5QQAAAD4+aQVCAAAAJNI6CkIAAAD86PX1QQ==",
          "dtype": "f8"
         }
        },
        {
         "marker": {
          "color": "#0a9396"
         },
         "name": "Dividends",
         "offsetgroup": "1",
         "textposition": "inside",
         "texttemplate": "%{y:.2s}",
         "type": "bar",
         "x": [
          "2020-11-01",
          "2021-10-31",
          "2022-10-30",
          "2023-10-29",
          "2024-11-03"
         ],
         "y": {
          "bdata": "AAAAOKKd9MEAAACQOST3wQAAAOA8MvrBAAAAFNd6/MEAAAAMrkcCwg==",
          "dtype": "f8"
         }
        },
        {
         "marker": {
          "color": "#41729f"
         },
         "name": "Ending Equity (expected)",
         "offsetgroup": "2",
         "textposition": "inside",
         "texttemplate": "%{y:.2s}",
         "type": "bar",
         "x": [
          "2020-11-01",
          "2021-10-31",
          "2022-10-30",
          "2023-10-29",
          "2024-11-03"
         ],
         "y": {
          "bdata": "AAAAByfgFEIAAADJLaMVQgAAADs/fxpCAADAJplBMUIAAAAAAAD4fw==",
          "dtype": "f8"
         }
        },
        {
         "marker": {
          "color": "#004369"
         },
         "name": "Ending Equity (real)",
         "offsetgroup": "3",
         "textposition": "inside",
         "texttemplate": "%{y:.2s}",
         "type": "bar",
         "x": [
          "2020-11-01",
          "2021-10-31",
          "2022-10-30",
          "2023-10-29",
          "2024-11-03"
         ],
         "y": [
          23901000000,
          24989000000,
          22709000000,
          23988000000,
          67678000000
         ]
        }
       ],
       "layout": {
        "barmode": "group",
        "height": 400,
        "legend": {
         "orientation": "h",
         "x": 1,
         "xanchor": "right",
         "y": 1,
         "yanchor": "bottom"
        },
        "template": {
         "data": {
          "bar": [
           {
            "error_x": {
             "color": "#2a3f5f"
            },
            "error_y": {
             "color": "#2a3f5f"
            },
            "marker": {
             "line": {
              "color": "#E5ECF6",
              "width": 0.5
             },
             "pattern": {
              "fillmode": "overlay",
              "size": 10,
              "solidity": 0.2
             }
            },
            "type": "bar"
           }
          ],
          "barpolar": [
           {
            "marker": {
             "line": {
              "color": "#E5ECF6",
              "width": 0.5
             },
             "pattern": {
              "fillmode": "overlay",
              "size": 10,
              "solidity": 0.2
             }
            },
            "type": "barpolar"
           }
          ],
          "carpet": [
           {
            "aaxis": {
             "endlinecolor": "#2a3f5f",
             "gridcolor": "white",
             "linecolor": "white",
             "minorgridcolor": "white",
             "startlinecolor": "#2a3f5f"
            },
            "baxis": {
             "endlinecolor": "#2a3f5f",
             "gridcolor": "white",
             "linecolor": "white",
             "minorgridcolor": "white",
             "startlinecolor": "#2a3f5f"
            },
            "type": "carpet"
           }
          ],
          "choropleth": [
           {
            "colorbar": {
             "outlinewidth": 0,
             "ticks": ""
            },
            "type": "choropleth"
           }
          ],
          "contour": [
           {
            "colorbar": {
             "outlinewidth": 0,
             "ticks": ""
            },
            "colorscale": [
             [
              0,
              "#0d0887"
             ],
             [
              0.1111111111111111,
              "#46039f"
             ],
             [
              0.2222222222222222,
              "#7201a8"
             ],
             [
              0.3333333333333333,
              "#9c179e"
             ],
             [
              0.4444444444444444,
              "#bd3786"
             ],
             [
              0.5555555555555556,
              "#d8576b"
             ],
             [
              0.6666666666666666,
              "#ed7953"
             ],
             [
              0.7777777777777778,
              "#fb9f3a"
             ],
             [
              0.8888888888888888,
              "#fdca26"
             ],
             [
              1,
              "#f0f921"
             ]
            ],
            "type": "contour"
           }
          ],
          "contourcarpet": [
           {
            "colorbar": {
             "outlinewidth": 0,
             "ticks": ""
            },
            "type": "contourcarpet"
           }
          ],
          "heatmap": [
           {
            "colorbar": {
             "outlinewidth": 0,
             "ticks": ""
            },
            "colorscale": [
             [
              0,
              "#0d0887"
             ],
             [
              0.1111111111111111,
              "#46039f"
             ],
             [
              0.2222222222222222,
              "#7201a8"
             ],
             [
              0.3333333333333333,
              "#9c179e"
             ],
             [
              0.4444444444444444,
              "#bd3786"
             ],
             [
              0.5555555555555556,
              "#d8576b"
             ],
             [
              0.6666666666666666,
              "#ed7953"
             ],
             [
              0.7777777777777778,
              "#fb9f3a"
             ],
             [
              0.8888888888888888,
              "#fdca26"
             ],
             [
              1,
              "#f0f921"
             ]
            ],
            "type": "heatmap"
           }
          ],
          "histogram": [
           {
            "marker": {
             "pattern": {
              "fillmode": "overlay",
              "size": 10,
              "solidity": 0.2
             }
            },
            "type": "histogram"
           }
          ],
          "histogram2d": [
           {
            "colorbar": {
             "outlinewidth": 0,
             "ticks": ""
            },
            "colorscale": [
             [
              0,
              "#0d0887"
             ],
             [
              0.1111111111111111,
              "#46039f"
             ],
             [
              0.2222222222222222,
              "#7201a8"
             ],
             [
              0.3333333333333333,
              "#9c179e"
             ],
             [
              0.4444444444444444,
              "#bd3786"
             ],
             [
              0.5555555555555556,
              "#d8576b"
             ],
             [
              0.6666666666666666,
              "#ed7953"
             ],
             [
              0.7777777777777778,
              "#fb9f3a"
             ],
             [
              0.8888888888888888,
              "#fdca26"
             ],
             [
              1,
              "#f0f921"
             ]
            ],
            "type": "histogram2d"
           }
          ],
          "histogram2dcontour": [
           {
            "colorbar": {
             "outlinewidth": 0,
             "ticks": ""
            },
            "colorscale": [
             [
              0,
              "#0d0887"
             ],
             [
              0.1111111111111111,
              "#46039f"
             ],
             [
              0.2222222222222222,
              "#7201a8"
             ],
             [
              0.3333333333333333,
              "#9c179e"
             ],
             [
              0.4444444444444444,
              "#bd3786"
             ],
             [
              0.5555555555555556,
              "#d8576b"
             ],
             [
              0.6666666666666666,
              "#ed7953"
             ],
             [
              0.7777777777777778,
              "#fb9f3a"
             ],
             [
              0.8888888888888888,
              "#fdca26"
             ],
             [
              1,
              "#f0f921"
             ]
            ],
            "type": "histogram2dcontour"
           }
          ],
          "mesh3d": [
           {
            "colorbar": {
             "outlinewidth": 0,
             "ticks": ""
            },
            "type": "mesh3d"
           }
          ],
          "parcoords": [
           {
            "line": {
             "colorbar": {
              "outlinewidth": 0,
              "ticks": ""
             }
            },
            "type": "parcoords"
           }
          ],
          "pie": [
           {
            "automargin": true,
            "type": "pie"
           }
          ],
          "scatter": [
           {
            "fillpattern": {
             "fillmode": "overlay",
             "size": 10,
             "solidity": 0.2
            },
            "type": "scatter"
           }
          ],
          "scatter3d": [
           {
            "line": {
             "colorbar": {
              "outlinewidth": 0,
              "ticks": ""
             }
            },
            "marker": {
             "colorbar": {
              "outlinewidth": 0,
              "ticks": ""
             }
            },
            "type": "scatter3d"
           }
          ],
          "scattercarpet": [
           {
            "marker": {
             "colorbar": {
              "outlinewidth": 0,
              "ticks": ""
             }
            },
            "type": "scattercarpet"
           }
          ],
          "scattergeo": [
           {
            "marker": {
             "colorbar": {
              "outlinewidth": 0,
              "ticks": ""
             }
            },
            "type": "scattergeo"
           }
          ],
          "scattergl": [
           {
            "marker": {
             "colorbar": {
              "outlinewidth": 0,
              "ticks": ""
             }
            },
            "type": "scattergl"
           }
          ],
          "scattermap": [
           {
            "marker": {
             "colorbar": {
              "outlinewidth": 0,
              "ticks": ""
             }
            },
            "type": "scattermap"
           }
          ],
          "scattermapbox": [
           {
            "marker": {
             "colorbar": {
              "outlinewidth": 0,
              "ticks": ""
             }
            },
            "type": "scattermapbox"
           }
          ],
          "scatterpolar": [
           {
            "marker": {
             "colorbar": {
              "outlinewidth": 0,
              "ticks": ""
             }
            },
            "type": "scatterpolar"
           }
          ],
          "scatterpolargl": [
           {
            "marker": {
             "colorbar": {
              "outlinewidth": 0,
              "ticks": ""
             }
            },
            "type": "scatterpolargl"
           }
          ],
          "scatterternary": [
           {
            "marker": {
             "colorbar": {
              "outlinewidth": 0,
              "ticks": ""
             }
            },
            "type": "scatterternary"
           }
          ],
          "surface": [
           {
            "colorbar": {
             "outlinewidth": 0,
             "ticks": ""
            },
            "colorscale": [
             [
              0,
              "#0d0887"
             ],
             [
              0.1111111111111111,
              "#46039f"
             ],
             [
              0.2222222222222222,
              "#7201a8"
             ],
             [
              0.3333333333333333,
              "#9c179e"
             ],
             [
              0.4444444444444444,
              "#bd3786"
             ],
             [
              0.5555555555555556,
              "#d8576b"
             ],
             [
              0.6666666666666666,
              "#ed7953"
             ],
             [
              0.7777777777777778,
              "#fb9f3a"
             ],
             [
              0.8888888888888888,
              "#fdca26"
             ],
             [
              1,
              "#f0f921"
             ]
            ],
            "type": "surface"
           }
          ],
          "table": [
           {
            "cells": {
             "fill": {
              "color": "#EBF0F8"
             },
             "line": {
              "color": "white"
             }
            },
            "header": {
             "fill": {
              "color": "#C8D4E3"
             },
             "line": {
              "color": "white"
             }
            },
            "type": "table"
           }
          ]
         },
         "layout": {
          "annotationdefaults": {
           "arrowcolor": "#2a3f5f",
           "arrowhead": 0,
           "arrowwidth": 1
          },
          "autotypenumbers": "strict",
          "coloraxis": {
           "colorbar": {
            "outlinewidth": 0,
            "ticks": ""
           }
          },
          "colorscale": {
           "diverging": [
            [
             0,
             "#8e0152"
            ],
            [
             0.1,
             "#c51b7d"
            ],
            [
             0.2,
             "#de77ae"
            ],
            [
             0.3,
             "#f1b6da"
            ],
            [
             0.4,
             "#fde0ef"
            ],
            [
             0.5,
             "#f7f7f7"
            ],
            [
             0.6,
             "#e6f5d0"
            ],
            [
             0.7,
             "#b8e186"
            ],
            [
             0.8,
             "#7fbc41"
            ],
            [
             0.9,
             "#4d9221"
            ],
            [
             1,
             "#276419"
            ]
           ],
           "sequential": [
            [
             0,
             "#0d0887"
            ],
            [
             0.1111111111111111,
             "#46039f"
            ],
            [
             0.2222222222222222,
             "#7201a8"
            ],
            [
             0.3333333333333333,
             "#9c179e"
            ],
            [
             0.4444444444444444,
             "#bd3786"
            ],
            [
             0.5555555555555556,
             "#d8576b"
            ],
            [
             0.6666666666666666,
             "#ed7953"
            ],
            [
             0.7777777777777778,
             "#fb9f3a"
            ],
            [
             0.8888888888888888,
             "#fdca26"
            ],
            [
             1,
             "#f0f921"
            ]
           ],
           "sequentialminus": [
            [
             0,
             "#0d0887"
            ],
            [
             0.1111111111111111,
             "#46039f"
            ],
            [
             0.2222222222222222,
             "#7201a8"
            ],
            [
             0.3333333333333333,
             "#9c179e"
            ],
            [
             0.4444444444444444,
             "#bd3786"
            ],
            [
             0.5555555555555556,
             "#d8576b"
            ],
            [
             0.6666666666666666,
             "#ed7953"
            ],
            [
             0.7777777777777778,
             "#fb9f3a"
            ],
            [
             0.8888888888888888,
             "#fdca26"
            ],
            [
             1,
             "#f0f921"
            ]
           ]
          },
          "colorway": [
           "#636efa",
           "#EF553B",
           "#00cc96",
           "#ab63fa",
           "#FFA15A",
           "#19d3f3",
           "#FF6692",
           "#B6E880",
           "#FF97FF",
           "#FECB52"
          ],
          "font": {
           "color": "#2a3f5f"
          },
          "geo": {
           "bgcolor": "white",
           "lakecolor": "white",
           "landcolor": "#E5ECF6",
           "showlakes": true,
           "showland": true,
           "subunitcolor": "white"
          },
          "hoverlabel": {
           "align": "left"
          },
          "hovermode": "closest",
          "mapbox": {
           "style": "light"
          },
          "paper_bgcolor": "white",
          "plot_bgcolor": "#E5ECF6",
          "polar": {
           "angularaxis": {
            "gridcolor": "white",
            "linecolor": "white",
            "ticks": ""
           },
           "bgcolor": "#E5ECF6",
           "radialaxis": {
            "gridcolor": "white",
            "linecolor": "white",
            "ticks": ""
           }
          },
          "scene": {
           "xaxis": {
            "backgroundcolor": "#E5ECF6",
            "gridcolor": "white",
            "gridwidth": 2,
            "linecolor": "white",
            "showbackground": true,
            "ticks": "",
            "zerolinecolor": "white"
           },
           "yaxis": {
            "backgroundcolor": "#E5ECF6",
            "gridcolor": "white",
            "gridwidth": 2,
            "linecolor": "white",
            "showbackground": true,
            "ticks": "",
            "zerolinecolor": "white"
           },
           "zaxis": {
            "backgroundcolor": "#E5ECF6",
            "gridcolor": "white",
            "gridwidth": 2,
            "linecolor": "white",
            "showbackground": true,
            "ticks": "",
            "zerolinecolor": "white"
           }
          },
          "shapedefaults": {
           "line": {
            "color": "#2a3f5f"
           }
          },
          "ternary": {
           "aaxis": {
            "gridcolor": "white",
            "linecolor": "white",
            "ticks": ""
           },
           "baxis": {
            "gridcolor": "white",
            "linecolor": "white",
            "ticks": ""
           },
           "bgcolor": "#E5ECF6",
           "caxis": {
            "gridcolor": "white",
            "linecolor": "white",
            "ticks": ""
           }
          },
          "title": {
           "x": 0.05
          },
          "xaxis": {
           "automargin": true,
           "gridcolor": "white",
           "linecolor": "white",
           "ticks": "",
           "title": {
            "standoff": 15
           },
           "zerolinecolor": "white",
           "zerolinewidth": 2
          },
          "yaxis": {
           "automargin": true,
           "gridcolor": "white",
           "linecolor": "white",
           "ticks": "",
           "title": {
            "standoff": 15
           },
           "zerolinecolor": "white",
           "zerolinewidth": 2
          }
         }
        },
        "title": {
         "text": "Equity Uses for: AVGO"
        },
        "width": 800,
        "xaxis": {
         "title": {
          "text": "Year"
         }
        },
        "yaxis": {
         "title": {
          "text": "Amount $mm USD"
         }
        }
       }
      }
     },
     "metadata": {},
     "output_type": "display_data"
    }
   ],
   "source": [
    "# Equity Uses graph\n",
    "fig = go.Figure(\n",
    "    data=[\n",
    "        go.Bar(name='Beginning Equity',\n",
    "               x=equityUses_df[\"date\"],\n",
    "               y=equityUses_df['LY_totalStockholdersEquity'],\n",
    "               marker_color='#738fa7',\n",
    "               offsetgroup=0\n",
    "               ),\n",
    "        go.Bar(name='NetIncome',\n",
    "               x=equityUses_df[\"date\"],\n",
    "               y=equityUses_df['netIncome'],\n",
    "               marker_color='#005f73',\n",
    "               offsetgroup=1,\n",
    "               ),\n",
    "        go.Bar(name='Dividends',\n",
    "               x=equityUses_df[\"date\"],\n",
    "               y=equityUses_df['dividendsPaid'],\n",
    "               marker_color='#0a9396',\n",
    "               offsetgroup=1,\n",
    "               ),\n",
    "        go.Bar(name='Ending Equity (expected)',\n",
    "               x=equityUses_df[\"date\"],\n",
    "               y=(equityUses_df['LY_totalStockholdersEquity']\n",
    "                  + equityUses_df['netIncome']\n",
    "                  + equityUses_df['dividendsPaid']),\n",
    "               marker_color='#41729f',\n",
    "               offsetgroup=2\n",
    "               ),\n",
    "        go.Bar(name='Ending Equity (real)',\n",
    "               x=equityUses_df[\"date\"],\n",
    "               y=equityUses_df['totalStockholdersEquity'],\n",
    "               marker_color='#004369',\n",
    "               offsetgroup=3\n",
    "               )\n",
    "           ])\n",
    "fig.update_layout(barmode='group',\n",
    "                  title=str('Equity Uses for: '+company),\n",
    "                  xaxis_title='Year',\n",
    "                  yaxis_title=('Amount $mm '+currency),\n",
    "                  legend=dict(orientation=\"h\",\n",
    "                              yanchor=\"bottom\",\n",
    "                              y=1.0,\n",
    "                              xanchor=\"right\",\n",
    "                              x=1),\n",
    "                  width=800,\n",
    "                  height=400)\n",
    "\n",
    "fig.update_traces(texttemplate='%{y:.2s}', textposition='inside')\n",
    "fig.write_image(\"images/output/equity_graph.png\", scale=2)\n",
    "\n",
    "print(\"Equity Uses graph created.\\n\")\n",
    "fig.show()"
   ]
  },
  {
   "cell_type": "markdown",
   "id": "87228bc4-b5a0-4f26-b4d2-c456eb3d8b11",
   "metadata": {},
   "source": [
    "<a id=\"statements\"></a>\n",
    "### Create financial statements [*](#index)"
   ]
  },
  {
   "cell_type": "markdown",
   "id": "316d8172-19fb-48fe-bf7b-078d7da60a2d",
   "metadata": {},
   "source": [
    "<a id=\"table_is\"></a>\n",
    "### [Table] Income Statement [*](#index)"
   ]
  },
  {
   "cell_type": "code",
   "execution_count": 20,
   "id": "597c4d26-7a13-4eb5-a833-0d3a14c173df",
   "metadata": {
    "tags": []
   },
   "outputs": [
    {
     "name": "stdout",
     "output_type": "stream",
     "text": [
      "Created income statement table.\n",
      "\n"
     ]
    },
    {
     "data": {
      "text/html": [
       "<div>\n",
       "<style scoped>\n",
       "    .dataframe tbody tr th:only-of-type {\n",
       "        vertical-align: middle;\n",
       "    }\n",
       "\n",
       "    .dataframe tbody tr th {\n",
       "        vertical-align: top;\n",
       "    }\n",
       "\n",
       "    .dataframe thead th {\n",
       "        text-align: right;\n",
       "    }\n",
       "</style>\n",
       "<table border=\"1\" class=\"dataframe\">\n",
       "  <thead>\n",
       "    <tr style=\"text-align: right;\">\n",
       "      <th>Year</th>\n",
       "      <th>2020</th>\n",
       "      <th>2021</th>\n",
       "      <th>2022</th>\n",
       "      <th>2023</th>\n",
       "      <th>2024</th>\n",
       "    </tr>\n",
       "  </thead>\n",
       "  <tbody>\n",
       "    <tr>\n",
       "      <th>Revenue</th>\n",
       "      <td>23,888</td>\n",
       "      <td>27,450</td>\n",
       "      <td>33,203</td>\n",
       "      <td>35,819</td>\n",
       "      <td>51,574</td>\n",
       "    </tr>\n",
       "    <tr>\n",
       "      <th>Cost Of Revenue</th>\n",
       "      <td>10,372</td>\n",
       "      <td>10,606</td>\n",
       "      <td>11,108</td>\n",
       "      <td>11,129</td>\n",
       "      <td>19,065</td>\n",
       "    </tr>\n",
       "    <tr>\n",
       "      <th>Gross Profit</th>\n",
       "      <td>13,516</td>\n",
       "      <td>16,844</td>\n",
       "      <td>22,095</td>\n",
       "      <td>24,690</td>\n",
       "      <td>32,509</td>\n",
       "    </tr>\n",
       "    <tr>\n",
       "      <th>Operating Expenses</th>\n",
       "      <td>9,304</td>\n",
       "      <td>8,177</td>\n",
       "      <td>7,813</td>\n",
       "      <td>8,483</td>\n",
       "      <td>19,046</td>\n",
       "    </tr>\n",
       "    <tr>\n",
       "      <th>Operating Income</th>\n",
       "      <td>4,014</td>\n",
       "      <td>8,519</td>\n",
       "      <td>14,225</td>\n",
       "      <td>16,207</td>\n",
       "      <td>13,463</td>\n",
       "    </tr>\n",
       "    <tr>\n",
       "      <th>Net Income</th>\n",
       "      <td>2,960</td>\n",
       "      <td>6,736</td>\n",
       "      <td>11,495</td>\n",
       "      <td>14,082</td>\n",
       "      <td>5,895</td>\n",
       "    </tr>\n",
       "  </tbody>\n",
       "</table>\n",
       "</div>"
      ],
      "text/plain": [
       "Year                  2020    2021    2022    2023    2024\n",
       "Revenue             23,888  27,450  33,203  35,819  51,574\n",
       "Cost Of Revenue     10,372  10,606  11,108  11,129  19,065\n",
       "Gross Profit        13,516  16,844  22,095  24,690  32,509\n",
       "Operating Expenses   9,304   8,177   7,813   8,483  19,046\n",
       "Operating Income     4,014   8,519  14,225  16,207  13,463\n",
       "Net Income           2,960   6,736  11,495  14,082   5,895"
      ]
     },
     "execution_count": 20,
     "metadata": {},
     "output_type": "execute_result"
    }
   ],
   "source": [
    "# Income Statement Table\n",
    "\n",
    "# Copy Income Statement data frame\n",
    "is_table = is_df.copy(deep=True)\n",
    "\n",
    "# Make the year the index value\n",
    "is_table.set_index('calendarYear', inplace=True)\n",
    "is_table.index.rename('Year', inplace=True)\n",
    "\n",
    "# Drop non used variables\n",
    "is_table.drop(\n",
    "    ['date', 'symbol', 'reportedCurrency', 'cik', 'fillingDate',\n",
    "     'acceptedDate', 'period', 'grossProfitRatio',\n",
    "     'sellingAndMarketingExpenses', 'generalAndAdministrativeExpenses',\n",
    "     'sellingGeneralAndAdministrativeExpenses', 'otherExpenses',\n",
    "     'operatingIncomeRatio', 'costAndExpenses', 'interestIncome',\n",
    "     'depreciationAndAmortization', 'ebitda', 'ebitdaratio',\n",
    "     'totalOtherIncomeExpensesNet', 'incomeBeforeTax', 'incomeBeforeTaxRatio',\n",
    "     'incomeTaxExpense', 'netIncomeRatio', 'eps', 'epsdiluted',\n",
    "     'weightedAverageShsOut', 'weightedAverageShsOutDil', 'link', 'finalLink'\n",
    "     ], axis=1, inplace=True)\n",
    "\n",
    "# Reorder Columns\n",
    "is_table = is_table[['revenue', 'costOfRevenue', 'grossProfit',\n",
    "                     'operatingExpenses', 'operatingIncome', 'netIncome']]\n",
    "\n",
    "# Rename columns as they will appear in image\n",
    "is_table.rename(columns={\n",
    "    'revenue': 'Revenue',\n",
    "    'costOfRevenue': 'Cost Of Revenue',\n",
    "    'grossProfit': 'Gross Profit',\n",
    "    'operatingExpenses': 'Operating Expenses',\n",
    "    'operatingIncome': 'Operating Income',\n",
    "    'netIncome': 'Net Income',\n",
    "    }, inplace=True)\n",
    "\n",
    "# Copy data frame to create Common Size Income Statement\n",
    "cs_is_table = is_table.copy(deep=True)\n",
    "\n",
    "# Format columns to create the image from the data frame\n",
    "is_columns = ['Revenue', 'Cost Of Revenue', 'Gross Profit',\n",
    "              'Operating Expenses', 'Operating Income', 'Net Income']\n",
    "\n",
    "# Divide values by one million\n",
    "for column_name in is_columns:\n",
    "    is_table[column_name] = is_table[column_name].div(1_000_000)\n",
    "\n",
    "# Format columns: Turn to string, include commas and remove decimals\n",
    "for column_name in is_columns:\n",
    "    is_table[column_name] = (\n",
    "        pd.Series([f\"{val:,.0f}\"for val in is_table[column_name]],\n",
    "                  index=is_table.index))\n",
    "# Transpose data\n",
    "is_table = is_table.transpose()\n",
    "\n",
    "# Save data frame as image:\n",
    "is_table.dfi.export('images/output/is_table.png')\n",
    "\n",
    "# Print table name\n",
    "print(\"Created income statement table.\\n\")\n",
    "\n",
    "# Show table\n",
    "is_table"
   ]
  },
  {
   "cell_type": "markdown",
   "id": "69506513-d0b8-4f7d-8199-0bb890f3b38c",
   "metadata": {
    "tags": []
   },
   "source": [
    "<a id=\"table_cs_is\"></a>\n",
    "### [Table] Common Size Income Statement [*](#index)"
   ]
  },
  {
   "cell_type": "code",
   "execution_count": 21,
   "id": "67780d34-f01f-4994-8fd6-16f15f97a312",
   "metadata": {
    "tags": []
   },
   "outputs": [
    {
     "name": "stdout",
     "output_type": "stream",
     "text": [
      "Created common size income statement table.\n",
      "\n"
     ]
    },
    {
     "data": {
      "text/html": [
       "<div>\n",
       "<style scoped>\n",
       "    .dataframe tbody tr th:only-of-type {\n",
       "        vertical-align: middle;\n",
       "    }\n",
       "\n",
       "    .dataframe tbody tr th {\n",
       "        vertical-align: top;\n",
       "    }\n",
       "\n",
       "    .dataframe thead th {\n",
       "        text-align: right;\n",
       "    }\n",
       "</style>\n",
       "<table border=\"1\" class=\"dataframe\">\n",
       "  <thead>\n",
       "    <tr style=\"text-align: right;\">\n",
       "      <th>Year</th>\n",
       "      <th>2020</th>\n",
       "      <th>2021</th>\n",
       "      <th>2022</th>\n",
       "      <th>2023</th>\n",
       "      <th>2024</th>\n",
       "    </tr>\n",
       "  </thead>\n",
       "  <tbody>\n",
       "    <tr>\n",
       "      <th>Revenue</th>\n",
       "      <td>100%</td>\n",
       "      <td>100%</td>\n",
       "      <td>100%</td>\n",
       "      <td>100%</td>\n",
       "      <td>100%</td>\n",
       "    </tr>\n",
       "    <tr>\n",
       "      <th>Cost Of Revenue</th>\n",
       "      <td>43%</td>\n",
       "      <td>39%</td>\n",
       "      <td>33%</td>\n",
       "      <td>31%</td>\n",
       "      <td>37%</td>\n",
       "    </tr>\n",
       "    <tr>\n",
       "      <th>Gross Profit</th>\n",
       "      <td>57%</td>\n",
       "      <td>61%</td>\n",
       "      <td>67%</td>\n",
       "      <td>69%</td>\n",
       "      <td>63%</td>\n",
       "    </tr>\n",
       "    <tr>\n",
       "      <th>Operating Expenses</th>\n",
       "      <td>39%</td>\n",
       "      <td>30%</td>\n",
       "      <td>24%</td>\n",
       "      <td>24%</td>\n",
       "      <td>37%</td>\n",
       "    </tr>\n",
       "    <tr>\n",
       "      <th>Operating Income</th>\n",
       "      <td>17%</td>\n",
       "      <td>31%</td>\n",
       "      <td>43%</td>\n",
       "      <td>45%</td>\n",
       "      <td>26%</td>\n",
       "    </tr>\n",
       "    <tr>\n",
       "      <th>Net Income</th>\n",
       "      <td>12%</td>\n",
       "      <td>25%</td>\n",
       "      <td>35%</td>\n",
       "      <td>39%</td>\n",
       "      <td>11%</td>\n",
       "    </tr>\n",
       "  </tbody>\n",
       "</table>\n",
       "</div>"
      ],
      "text/plain": [
       "Year                2020  2021  2022  2023  2024\n",
       "Revenue             100%  100%  100%  100%  100%\n",
       "Cost Of Revenue      43%   39%   33%   31%   37%\n",
       "Gross Profit         57%   61%   67%   69%   63%\n",
       "Operating Expenses   39%   30%   24%   24%   37%\n",
       "Operating Income     17%   31%   43%   45%   26%\n",
       "Net Income           12%   25%   35%   39%   11%"
      ]
     },
     "execution_count": 21,
     "metadata": {},
     "output_type": "execute_result"
    }
   ],
   "source": [
    "# Common Size Income Statement Table\n",
    "\n",
    "# Transform values to Common Size (Percentage of Revenue)\n",
    "# Revenue must be the last item on the list\n",
    "cs_is_columns = ['Cost Of Revenue', 'Gross Profit', 'Operating Expenses',\n",
    "                 'Operating Income', 'Net Income', 'Revenue']\n",
    "\n",
    "# Divide values by Revenue\n",
    "for column in cs_is_columns:\n",
    "    cs_is_table[column] = (\n",
    "        round(((cs_is_table[column]/cs_is_table['Revenue'])*100), 0))\n",
    "\n",
    "# Format columns: Turn to string and format as percentage %\n",
    "for column in cs_is_columns:\n",
    "    cs_is_table[column] = (\n",
    "        pd.Series([\"{0:.0f}%\".format(val) for val in cs_is_table[column]],\n",
    "                  index=cs_is_table.index))\n",
    "# Transpose data\n",
    "cs_is_table = cs_is_table.transpose()\n",
    "\n",
    "# Save data frame as image:\n",
    "cs_is_table.dfi.export('images/output/is_table_cs.png')\n",
    "\n",
    "# Print table name\n",
    "print(\"Created common size income statement table.\\n\")\n",
    "\n",
    "# Show table\n",
    "cs_is_table"
   ]
  },
  {
   "cell_type": "markdown",
   "id": "bfdea31b-d751-4c5f-b209-a5e67f02db02",
   "metadata": {},
   "source": [
    "<a id=\"table_bs\"></a>\n",
    "### [Table] Balance Sheet [*](#index)"
   ]
  },
  {
   "cell_type": "code",
   "execution_count": 22,
   "id": "782e8c0c-1956-4168-a73f-1f14a7f5f34d",
   "metadata": {},
   "outputs": [
    {
     "name": "stdout",
     "output_type": "stream",
     "text": [
      "Created balance sheet table.\n",
      "\n"
     ]
    },
    {
     "data": {
      "text/html": [
       "<div>\n",
       "<style scoped>\n",
       "    .dataframe tbody tr th:only-of-type {\n",
       "        vertical-align: middle;\n",
       "    }\n",
       "\n",
       "    .dataframe tbody tr th {\n",
       "        vertical-align: top;\n",
       "    }\n",
       "\n",
       "    .dataframe thead th {\n",
       "        text-align: right;\n",
       "    }\n",
       "</style>\n",
       "<table border=\"1\" class=\"dataframe\">\n",
       "  <thead>\n",
       "    <tr style=\"text-align: right;\">\n",
       "      <th>Year</th>\n",
       "      <th>2020</th>\n",
       "      <th>2021</th>\n",
       "      <th>2022</th>\n",
       "      <th>2023</th>\n",
       "      <th>2024</th>\n",
       "    </tr>\n",
       "  </thead>\n",
       "  <tbody>\n",
       "    <tr>\n",
       "      <th>Cur Assets</th>\n",
       "      <td>11,895</td>\n",
       "      <td>16,586</td>\n",
       "      <td>18,504</td>\n",
       "      <td>20,847</td>\n",
       "      <td>19,595</td>\n",
       "    </tr>\n",
       "    <tr>\n",
       "      <th>LT Asset</th>\n",
       "      <td>64,038</td>\n",
       "      <td>58,984</td>\n",
       "      <td>54,745</td>\n",
       "      <td>52,014</td>\n",
       "      <td>146,050</td>\n",
       "    </tr>\n",
       "    <tr>\n",
       "      <th>Total Assets</th>\n",
       "      <td>75,933</td>\n",
       "      <td>75,570</td>\n",
       "      <td>73,249</td>\n",
       "      <td>72,861</td>\n",
       "      <td>165,645</td>\n",
       "    </tr>\n",
       "    <tr>\n",
       "      <th>Cur Liabilities</th>\n",
       "      <td>6,371</td>\n",
       "      <td>6,281</td>\n",
       "      <td>7,052</td>\n",
       "      <td>7,405</td>\n",
       "      <td>16,697</td>\n",
       "    </tr>\n",
       "    <tr>\n",
       "      <th>LT Liabilities</th>\n",
       "      <td>45,661</td>\n",
       "      <td>44,300</td>\n",
       "      <td>43,488</td>\n",
       "      <td>41,468</td>\n",
       "      <td>81,270</td>\n",
       "    </tr>\n",
       "    <tr>\n",
       "      <th>Total Liab</th>\n",
       "      <td>52,032</td>\n",
       "      <td>50,581</td>\n",
       "      <td>50,540</td>\n",
       "      <td>48,873</td>\n",
       "      <td>97,967</td>\n",
       "    </tr>\n",
       "    <tr>\n",
       "      <th>SH Equity</th>\n",
       "      <td>23,901</td>\n",
       "      <td>24,989</td>\n",
       "      <td>22,709</td>\n",
       "      <td>23,988</td>\n",
       "      <td>67,678</td>\n",
       "    </tr>\n",
       "  </tbody>\n",
       "</table>\n",
       "</div>"
      ],
      "text/plain": [
       "Year               2020    2021    2022    2023     2024\n",
       "Cur Assets       11,895  16,586  18,504  20,847   19,595\n",
       "LT Asset         64,038  58,984  54,745  52,014  146,050\n",
       "Total Assets     75,933  75,570  73,249  72,861  165,645\n",
       "Cur Liabilities   6,371   6,281   7,052   7,405   16,697\n",
       "LT Liabilities   45,661  44,300  43,488  41,468   81,270\n",
       "Total Liab       52,032  50,581  50,540  48,873   97,967\n",
       "SH Equity        23,901  24,989  22,709  23,988   67,678"
      ]
     },
     "execution_count": 22,
     "metadata": {},
     "output_type": "execute_result"
    }
   ],
   "source": [
    "# Balance Sheet Table\n",
    "\n",
    "# Copy income statement data frame\n",
    "bs_table = bs_df.copy(deep=True)\n",
    "\n",
    "# Make the year the index value\n",
    "bs_table.set_index('calendarYear', inplace=True)\n",
    "bs_table.index.rename('Year', inplace=True)\n",
    "\n",
    "# Drop non used variables\n",
    "bs_table.drop(\n",
    "    ['date', 'symbol', 'reportedCurrency', 'cik', 'fillingDate',\n",
    "     'acceptedDate', 'period', 'cashAndCashEquivalents',\n",
    "     'shortTermInvestments', 'cashAndShortTermInvestments',\n",
    "     'netReceivables', 'inventory', 'otherCurrentAssets',\n",
    "     'propertyPlantEquipmentNet', 'goodwill', 'intangibleAssets',\n",
    "     'goodwillAndIntangibleAssets', 'longTermInvestments', 'taxAssets',\n",
    "     'otherNonCurrentAssets', 'otherAssets', 'accountPayables',\n",
    "     'shortTermDebt', 'taxPayables', 'deferredRevenue',\n",
    "     'otherCurrentLiabilities', 'longTermDebt', 'deferredRevenueNonCurrent',\n",
    "     'deferredTaxLiabilitiesNonCurrent', 'otherNonCurrentLiabilities',\n",
    "     'otherLiabilities', 'capitalLeaseObligations', 'preferredStock',\n",
    "     'commonStock', 'retainedEarnings',\n",
    "     'accumulatedOtherComprehensiveIncomeLoss', 'othertotalStockholdersEquity',\n",
    "     'totalLiabilitiesAndStockholdersEquity', 'minorityInterest',\n",
    "     'totalEquity', 'totalLiabilitiesAndTotalEquity',\n",
    "     'totalInvestments', 'totalDebt', 'netDebt', 'link', 'finalLink'\n",
    "     ], axis=1, inplace=True)\n",
    "\n",
    "# Rename columns as they will appear in image\n",
    "bs_table.rename(columns={\n",
    "    'totalCurrentAssets': 'Cur Assets',\n",
    "    'totalNonCurrentAssets': 'LT Asset',\n",
    "    'totalAssets': 'Total Assets',\n",
    "    'totalCurrentLiabilities': 'Cur Liabilities',\n",
    "    'totalNonCurrentLiabilities': 'LT Liabilities',\n",
    "    'totalLiabilities': 'Total Liab',\n",
    "    'totalStockholdersEquity': 'SH Equity',\n",
    "    }, inplace=True)\n",
    "\n",
    "# Copy data frame to create common size income statement\n",
    "cs_bs_table = bs_table.copy(deep=True)\n",
    "\n",
    "# Format columns to create the image from the data frame\n",
    "bs_columns = ['Cur Assets', 'LT Asset', 'Total Assets',\n",
    "              'Cur Liabilities', 'LT Liabilities', 'Total Liab',\n",
    "              'SH Equity']\n",
    "\n",
    "# Divide values by one million\n",
    "for column_name in bs_columns:\n",
    "    bs_table[column_name] = bs_table[column_name].div(1_000_000)\n",
    "\n",
    "# Format columns: Turn to string, include commas and remove decimals\n",
    "for column_name in bs_columns:\n",
    "    bs_table[column_name] = (\n",
    "        pd.Series([f\"{val:,.0f}\"for val in bs_table[column_name]],\n",
    "                  index=bs_table.index))\n",
    "\n",
    "# Transpose data\n",
    "bs_table = bs_table.transpose()\n",
    "\n",
    "# Save data frame as image:\n",
    "bs_table.dfi.export('images/output/bs_table.png')\n",
    "\n",
    "# Print table name\n",
    "print(\"Created balance sheet table.\\n\")\n",
    "\n",
    "# Show table\n",
    "bs_table"
   ]
  },
  {
   "cell_type": "markdown",
   "id": "9a392e5a-b852-4abd-8d5a-12874149863d",
   "metadata": {},
   "source": [
    "<a id=\"table_cs_bs\"></a>\n",
    "### [Table] Common Size Balance Sheet [*](#index)"
   ]
  },
  {
   "cell_type": "code",
   "execution_count": 23,
   "id": "dd16b3a8-6890-49e8-8b57-abf3de93a99b",
   "metadata": {},
   "outputs": [
    {
     "name": "stdout",
     "output_type": "stream",
     "text": [
      "Created common size balance sheet table.\n",
      "\n"
     ]
    },
    {
     "data": {
      "text/html": [
       "<div>\n",
       "<style scoped>\n",
       "    .dataframe tbody tr th:only-of-type {\n",
       "        vertical-align: middle;\n",
       "    }\n",
       "\n",
       "    .dataframe tbody tr th {\n",
       "        vertical-align: top;\n",
       "    }\n",
       "\n",
       "    .dataframe thead th {\n",
       "        text-align: right;\n",
       "    }\n",
       "</style>\n",
       "<table border=\"1\" class=\"dataframe\">\n",
       "  <thead>\n",
       "    <tr style=\"text-align: right;\">\n",
       "      <th>Year</th>\n",
       "      <th>2020</th>\n",
       "      <th>2021</th>\n",
       "      <th>2022</th>\n",
       "      <th>2023</th>\n",
       "      <th>2024</th>\n",
       "    </tr>\n",
       "  </thead>\n",
       "  <tbody>\n",
       "    <tr>\n",
       "      <th>Cur Assets</th>\n",
       "      <td>16%</td>\n",
       "      <td>22%</td>\n",
       "      <td>25%</td>\n",
       "      <td>29%</td>\n",
       "      <td>12%</td>\n",
       "    </tr>\n",
       "    <tr>\n",
       "      <th>LT Asset</th>\n",
       "      <td>84%</td>\n",
       "      <td>78%</td>\n",
       "      <td>75%</td>\n",
       "      <td>71%</td>\n",
       "      <td>88%</td>\n",
       "    </tr>\n",
       "    <tr>\n",
       "      <th>Total Assets</th>\n",
       "      <td>100%</td>\n",
       "      <td>100%</td>\n",
       "      <td>100%</td>\n",
       "      <td>100%</td>\n",
       "      <td>100%</td>\n",
       "    </tr>\n",
       "    <tr>\n",
       "      <th>Cur Liabilities</th>\n",
       "      <td>8%</td>\n",
       "      <td>8%</td>\n",
       "      <td>10%</td>\n",
       "      <td>10%</td>\n",
       "      <td>10%</td>\n",
       "    </tr>\n",
       "    <tr>\n",
       "      <th>LT Liabilities</th>\n",
       "      <td>60%</td>\n",
       "      <td>59%</td>\n",
       "      <td>59%</td>\n",
       "      <td>57%</td>\n",
       "      <td>49%</td>\n",
       "    </tr>\n",
       "    <tr>\n",
       "      <th>Total Liab</th>\n",
       "      <td>69%</td>\n",
       "      <td>67%</td>\n",
       "      <td>69%</td>\n",
       "      <td>67%</td>\n",
       "      <td>59%</td>\n",
       "    </tr>\n",
       "    <tr>\n",
       "      <th>SH Equity</th>\n",
       "      <td>31%</td>\n",
       "      <td>33%</td>\n",
       "      <td>31%</td>\n",
       "      <td>33%</td>\n",
       "      <td>41%</td>\n",
       "    </tr>\n",
       "  </tbody>\n",
       "</table>\n",
       "</div>"
      ],
      "text/plain": [
       "Year             2020  2021  2022  2023  2024\n",
       "Cur Assets        16%   22%   25%   29%   12%\n",
       "LT Asset          84%   78%   75%   71%   88%\n",
       "Total Assets     100%  100%  100%  100%  100%\n",
       "Cur Liabilities    8%    8%   10%   10%   10%\n",
       "LT Liabilities    60%   59%   59%   57%   49%\n",
       "Total Liab        69%   67%   69%   67%   59%\n",
       "SH Equity         31%   33%   31%   33%   41%"
      ]
     },
     "execution_count": 23,
     "metadata": {},
     "output_type": "execute_result"
    }
   ],
   "source": [
    "# Common Size Balance Sheet Table\n",
    "\n",
    "# Transform values to Common Size (Percentage of Assets)\n",
    "# Assets must be the last item on the list\n",
    "cs_bs_columns = ['Cur Assets', 'LT Asset', 'Cur Liabilities',\n",
    "                 'LT Liabilities', 'Total Liab', 'SH Equity',\n",
    "                 'Total Assets']\n",
    "\n",
    "# Divide values by Total Assets value\n",
    "for column in cs_bs_columns:\n",
    "    cs_bs_table[column] = (\n",
    "        round(((cs_bs_table[column]/cs_bs_table['Total Assets'])*100), 0))\n",
    "\n",
    "# Format columns: Turn to string and format as percentage %\n",
    "for column in cs_bs_columns:\n",
    "    cs_bs_table[column] = (\n",
    "        pd.Series([\"{0:.0f}%\".format(val) for val in cs_bs_table[column]],\n",
    "                  index=cs_bs_table.index))\n",
    "# Transpose data\n",
    "cs_bs_table = cs_bs_table.transpose()\n",
    "\n",
    "# Save data frame as image:\n",
    "cs_bs_table.dfi.export('images/output/bs_table_cs.png')\n",
    "\n",
    "# Print table name\n",
    "print(\"Created common size balance sheet table.\\n\")\n",
    "\n",
    "# Show table\n",
    "cs_bs_table"
   ]
  },
  {
   "cell_type": "markdown",
   "id": "a78a2d13-6492-4e49-9414-598efdfdcca9",
   "metadata": {},
   "source": [
    "<a id=\"table_cf\"></a>\n",
    "### [Table] Cash Flow Statement [*](#index)"
   ]
  },
  {
   "cell_type": "code",
   "execution_count": 24,
   "id": "de491597-46e8-4d60-8c37-a38d742ecc7c",
   "metadata": {},
   "outputs": [
    {
     "name": "stdout",
     "output_type": "stream",
     "text": [
      "Created cash flow statement table.\n",
      "\n"
     ]
    },
    {
     "data": {
      "text/html": [
       "<div>\n",
       "<style scoped>\n",
       "    .dataframe tbody tr th:only-of-type {\n",
       "        vertical-align: middle;\n",
       "    }\n",
       "\n",
       "    .dataframe tbody tr th {\n",
       "        vertical-align: top;\n",
       "    }\n",
       "\n",
       "    .dataframe thead th {\n",
       "        text-align: right;\n",
       "    }\n",
       "</style>\n",
       "<table border=\"1\" class=\"dataframe\">\n",
       "  <thead>\n",
       "    <tr style=\"text-align: right;\">\n",
       "      <th>Year</th>\n",
       "      <th>2020</th>\n",
       "      <th>2021</th>\n",
       "      <th>2022</th>\n",
       "      <th>2023</th>\n",
       "      <th>2024</th>\n",
       "    </tr>\n",
       "  </thead>\n",
       "  <tbody>\n",
       "    <tr>\n",
       "      <th>CF Operating Activities</th>\n",
       "      <td>12,061</td>\n",
       "      <td>13,764</td>\n",
       "      <td>16,736</td>\n",
       "      <td>18,085</td>\n",
       "      <td>19,962</td>\n",
       "    </tr>\n",
       "    <tr>\n",
       "      <th>CF Investing Activities</th>\n",
       "      <td>-11,109</td>\n",
       "      <td>-245</td>\n",
       "      <td>-667</td>\n",
       "      <td>-689</td>\n",
       "      <td>-23,070</td>\n",
       "    </tr>\n",
       "    <tr>\n",
       "      <th>CF Financing Activities</th>\n",
       "      <td>1,611</td>\n",
       "      <td>-8,974</td>\n",
       "      <td>-15,816</td>\n",
       "      <td>-15,623</td>\n",
       "      <td>-1,733</td>\n",
       "    </tr>\n",
       "    <tr>\n",
       "      <th>Change in cash</th>\n",
       "      <td>2,563</td>\n",
       "      <td>4,545</td>\n",
       "      <td>253</td>\n",
       "      <td>1,773</td>\n",
       "      <td>-4,841</td>\n",
       "    </tr>\n",
       "    <tr>\n",
       "      <th>Cash end of period</th>\n",
       "      <td>7,618</td>\n",
       "      <td>12,163</td>\n",
       "      <td>12,416</td>\n",
       "      <td>14,189</td>\n",
       "      <td>9,348</td>\n",
       "    </tr>\n",
       "    <tr>\n",
       "      <th>Cash beginning of period</th>\n",
       "      <td>5,055</td>\n",
       "      <td>7,618</td>\n",
       "      <td>12,163</td>\n",
       "      <td>12,416</td>\n",
       "      <td>14,189</td>\n",
       "    </tr>\n",
       "  </tbody>\n",
       "</table>\n",
       "</div>"
      ],
      "text/plain": [
       "Year                         2020    2021     2022     2023     2024\n",
       "CF Operating Activities    12,061  13,764   16,736   18,085   19,962\n",
       "CF Investing Activities   -11,109    -245     -667     -689  -23,070\n",
       "CF Financing Activities     1,611  -8,974  -15,816  -15,623   -1,733\n",
       "Change in cash              2,563   4,545      253    1,773   -4,841\n",
       "Cash end of period          7,618  12,163   12,416   14,189    9,348\n",
       "Cash beginning of period    5,055   7,618   12,163   12,416   14,189"
      ]
     },
     "execution_count": 24,
     "metadata": {},
     "output_type": "execute_result"
    }
   ],
   "source": [
    "# Cash Flow Statement Table\n",
    "\n",
    "# Copy income statement data frame\n",
    "cf_table = cf_df.copy(deep=True)\n",
    "\n",
    "# Make the year the index value\n",
    "cf_table.set_index('calendarYear', inplace=True)\n",
    "cf_table.index.rename('Year', inplace=True)\n",
    "\n",
    "# Drop non used variables\n",
    "cf_table.drop(\n",
    "    ['date', 'symbol', 'reportedCurrency', 'cik',\n",
    "     'fillingDate', 'acceptedDate',\n",
    "     'period', 'netIncome', 'depreciationAndAmortization',\n",
    "     'deferredIncomeTax', 'stockBasedCompensation',\n",
    "     'changeInWorkingCapital', 'accountsReceivables',\n",
    "     'inventory', 'accountsPayables', 'otherWorkingCapital',\n",
    "     'otherNonCashItems', 'investmentsInPropertyPlantAndEquipment',\n",
    "     'acquisitionsNet', 'purchasesOfInvestments',\n",
    "     'salesMaturitiesOfInvestments', 'otherInvestingActivites',\n",
    "     'debtRepayment', 'commonStockIssued',\n",
    "     'commonStockRepurchased', 'dividendsPaid',\n",
    "     'otherFinancingActivites', 'effectOfForexChangesOnCash',\n",
    "     'operatingCashFlow', 'capitalExpenditure',\n",
    "     'freeCashFlow', 'link', 'finalLink'\n",
    "     ], axis=1, inplace=True)\n",
    "\n",
    "# Rename columns as they will appear in image\n",
    "cf_table.rename(columns={\n",
    "    'netCashProvidedByOperatingActivities': 'CF Operating Activities',\n",
    "    'netCashUsedForInvestingActivites': 'CF Investing Activities',\n",
    "    'netCashUsedProvidedByFinancingActivities': 'CF Financing Activities',\n",
    "    'netChangeInCash': 'Change in cash',\n",
    "    'cashAtEndOfPeriod': 'Cash end of period',\n",
    "    'cashAtBeginningOfPeriod': 'Cash beginning of period',\n",
    "    }, inplace=True)\n",
    "\n",
    "# Format columns to create the image from the data frame\n",
    "cf_columns = ['CF Operating Activities', 'CF Investing Activities',\n",
    "              'CF Financing Activities', 'Change in cash',\n",
    "              'Cash end of period', 'Cash beginning of period']\n",
    "\n",
    "# Divide values by one million\n",
    "for column_name in cf_columns:\n",
    "    cf_table[column_name] = cf_table[column_name].div(1_000_000)\n",
    "\n",
    "# Format columns: Turn to string, include commas and remove decimals\n",
    "for column_name in cf_columns:\n",
    "    cf_table[column_name] = (\n",
    "        pd.Series([f\"{val:,.0f}\"for val in cf_table[column_name]],\n",
    "                  index=cf_table.index))\n",
    "\n",
    "# Transpose data\n",
    "cf_table = cf_table.transpose()\n",
    "\n",
    "# Save data frame as image:\n",
    "cf_table.dfi.export('images/output/cf_table.png')\n",
    "\n",
    "# Print table name\n",
    "print(\"Created cash flow statement table.\\n\")\n",
    "\n",
    "# Show table\n",
    "cf_table"
   ]
  },
  {
   "cell_type": "markdown",
   "id": "1eec1e29-5dc8-426e-a798-dc40b224712c",
   "metadata": {},
   "source": [
    "<a id=\"metrics\"></a>\n",
    "### Create Key Metrics tables [*](#index)"
   ]
  },
  {
   "cell_type": "markdown",
   "id": "fe3fb14a-1971-471b-b58a-21384a843c7d",
   "metadata": {},
   "source": [
    "<a id=\"table_market\"></a>\n",
    "### [Table] Market Ratios [*](#index)"
   ]
  },
  {
   "cell_type": "code",
   "execution_count": 25,
   "id": "1e5973b8-01c6-40ee-804c-320c60a48bc8",
   "metadata": {},
   "outputs": [
    {
     "name": "stdout",
     "output_type": "stream",
     "text": [
      "Created Market Ratios Table.\n",
      "\n"
     ]
    },
    {
     "data": {
      "text/html": [
       "<div>\n",
       "<style scoped>\n",
       "    .dataframe tbody tr th:only-of-type {\n",
       "        vertical-align: middle;\n",
       "    }\n",
       "\n",
       "    .dataframe tbody tr th {\n",
       "        vertical-align: top;\n",
       "    }\n",
       "\n",
       "    .dataframe thead th {\n",
       "        text-align: right;\n",
       "    }\n",
       "</style>\n",
       "<table border=\"1\" class=\"dataframe\">\n",
       "  <thead>\n",
       "    <tr style=\"text-align: right;\">\n",
       "      <th>Date</th>\n",
       "      <th>2020</th>\n",
       "      <th>2021</th>\n",
       "      <th>2022</th>\n",
       "      <th>2023</th>\n",
       "      <th>2024</th>\n",
       "    </tr>\n",
       "  </thead>\n",
       "  <tbody>\n",
       "    <tr>\n",
       "      <th>Price to Book Ratio</th>\n",
       "      <td>6</td>\n",
       "      <td>9</td>\n",
       "      <td>8</td>\n",
       "      <td>15</td>\n",
       "      <td>12</td>\n",
       "    </tr>\n",
       "    <tr>\n",
       "      <th>Price to Sales Ratio</th>\n",
       "      <td>6</td>\n",
       "      <td>8</td>\n",
       "      <td>6</td>\n",
       "      <td>10</td>\n",
       "      <td>15</td>\n",
       "    </tr>\n",
       "    <tr>\n",
       "      <th>Price to Earnings Ratio</th>\n",
       "      <td>48</td>\n",
       "      <td>32</td>\n",
       "      <td>17</td>\n",
       "      <td>25</td>\n",
       "      <td>132</td>\n",
       "    </tr>\n",
       "    <tr>\n",
       "      <th>Price to Operating Cashflow Ratio</th>\n",
       "      <td>12</td>\n",
       "      <td>16</td>\n",
       "      <td>11</td>\n",
       "      <td>19</td>\n",
       "      <td>39</td>\n",
       "    </tr>\n",
       "    <tr>\n",
       "      <th>Enterprise Value Multiple</th>\n",
       "      <td>16</td>\n",
       "      <td>17</td>\n",
       "      <td>11</td>\n",
       "      <td>18</td>\n",
       "      <td>35</td>\n",
       "    </tr>\n",
       "    <tr>\n",
       "      <th>Price to Fair Value</th>\n",
       "      <td>6</td>\n",
       "      <td>9</td>\n",
       "      <td>8</td>\n",
       "      <td>15</td>\n",
       "      <td>12</td>\n",
       "    </tr>\n",
       "    <tr>\n",
       "      <th>Dividend Yield</th>\n",
       "      <td>3.9%</td>\n",
       "      <td>2.9%</td>\n",
       "      <td>3.7%</td>\n",
       "      <td>2.2%</td>\n",
       "      <td>1.3%</td>\n",
       "    </tr>\n",
       "    <tr>\n",
       "      <th>Earnings Yield</th>\n",
       "      <td>2.1%</td>\n",
       "      <td>3.1%</td>\n",
       "      <td>6.0%</td>\n",
       "      <td>4.0%</td>\n",
       "      <td>0.8%</td>\n",
       "    </tr>\n",
       "  </tbody>\n",
       "</table>\n",
       "</div>"
      ],
      "text/plain": [
       "Date                               2020  2021  2022  2023  2024\n",
       "Price to Book Ratio                   6     9     8    15    12\n",
       "Price to Sales Ratio                  6     8     6    10    15\n",
       "Price to Earnings Ratio              48    32    17    25   132\n",
       "Price to Operating Cashflow Ratio    12    16    11    19    39\n",
       "Enterprise Value Multiple            16    17    11    18    35\n",
       "Price to Fair Value                   6     9     8    15    12\n",
       "Dividend Yield                     3.9%  2.9%  3.7%  2.2%  1.3%\n",
       "Earnings Yield                     2.1%  3.1%  6.0%  4.0%  0.8%"
      ]
     },
     "execution_count": 25,
     "metadata": {},
     "output_type": "execute_result"
    }
   ],
   "source": [
    "# Market Ratios Table\n",
    "\n",
    "# Copy ratios statement data frame\n",
    "mratios_table = ratios_df.copy(deep=True)\n",
    "\n",
    "mratios_table.sort_index(ascending=False, inplace=True)\n",
    "\n",
    "# If dividendYield is None replace with 0\n",
    "mratios_table['dividendYield'] = mratios_table['dividendYield'].replace([None], 0)\n",
    "\n",
    "# If dividendYield is String replace as Float\n",
    "mratios_table['dividendYield'] = mratios_table['dividendYield'].astype(float)\n",
    "\n",
    "# Add Earnings Yield to table\n",
    "mratios_table['Earnings Yield'] = (1 / mratios_table['priceEarningsRatio'])\n",
    "\n",
    "# Transform date column from string to datetime\n",
    "# Display only the year from the date column\n",
    "mratios_table['date'] = pd.to_datetime(mratios_table['date'])\n",
    "mratios_table['date'] = mratios_table['date'].dt.year\n",
    "\n",
    "# Get defined amount of years\n",
    "mratios_table = mratios_table.iloc[-years:]\n",
    "\n",
    "# Make date the index value\n",
    "mratios_table.set_index('date', inplace=True)\n",
    "mratios_table.index.rename('Date', inplace=True)\n",
    "\n",
    "# Drop non used variables\n",
    "mratios_table.drop(\n",
    "    ['symbol', 'period', 'currentRatio', 'quickRatio',\n",
    "     'cashRatio', 'daysOfSalesOutstanding',\n",
    "     'daysOfInventoryOutstanding', 'operatingCycle',\n",
    "     'daysOfPayablesOutstanding', 'cashConversionCycle',\n",
    "     'grossProfitMargin', 'operatingProfitMargin',\n",
    "     'pretaxProfitMargin', 'netProfitMargin',\n",
    "     'effectiveTaxRate', 'returnOnAssets',\n",
    "     'returnOnEquity', 'returnOnCapitalEmployed',\n",
    "     'netIncomePerEBT', 'ebtPerEbit', 'ebitPerRevenue',\n",
    "     'debtRatio', 'debtEquityRatio',\n",
    "     'longTermDebtToCapitalization', 'totalDebtToCapitalization',\n",
    "     'interestCoverage', 'cashFlowToDebtRatio',\n",
    "     'companyEquityMultiplier', 'receivablesTurnover',\n",
    "     'payablesTurnover', 'inventoryTurnover',\n",
    "     'fixedAssetTurnover', 'assetTurnover',\n",
    "     'operatingCashFlowPerShare', 'freeCashFlowPerShare',\n",
    "     'cashPerShare', 'payoutRatio', 'operatingCashFlowSalesRatio',\n",
    "     'freeCashFlowOperatingCashFlowRatio', 'cashFlowCoverageRatios',\n",
    "     'shortTermCoverageRatios', 'capitalExpenditureCoverageRatio',\n",
    "     'dividendPaidAndCapexCoverageRatio', 'dividendPayoutRatio',\n",
    "     'priceBookValueRatio', 'priceCashFlowRatio',\n",
    "     'priceEarningsToGrowthRatio', 'priceSalesRatio',\n",
    "     ], axis=1, inplace=True)\n",
    "\n",
    "# Rename columns as they will appear in image\n",
    "mratios_table.rename(columns={\n",
    "    'priceToBookRatio': 'Price to Book Ratio',\n",
    "    'priceToSalesRatio': 'Price to Sales Ratio',\n",
    "    'priceEarningsRatio': 'Price to Earnings Ratio',\n",
    "    'priceToOperatingCashFlowsRatio': 'Price to Operating Cashflow Ratio',\n",
    "    'priceToFreeCashFlowsRatio': 'Price to Free Cashflow Ratio',\n",
    "    'dividendYield': 'Dividend Yield',\n",
    "    'enterpriseValueMultiple': 'Enterprise Value Multiple',\n",
    "    'priceFairValue': 'Price to Fair Value',\n",
    "    }, inplace=True)\n",
    "\n",
    "# Format columns: Turn to string, include commas, and remove decimals\n",
    "mratios_columns = ['Price to Book Ratio', 'Price to Sales Ratio',\n",
    "                   'Price to Earnings Ratio',\n",
    "                   'Price to Operating Cashflow Ratio',\n",
    "                   'Price to Free Cashflow Ratio',\n",
    "                   'Enterprise Value Multiple', 'Price to Fair Value']\n",
    "for column_name in mratios_columns:\n",
    "    mratios_table[column_name] = (\n",
    "        pd.Series([f\"{val:,.0f}\" for val in mratios_table[column_name]],\n",
    "                  index=mratios_table.index))\n",
    "\n",
    "# Format columns: Turn to string and format as percentage %\n",
    "mratios_columnsP = ['Dividend Yield', 'Earnings Yield']\n",
    "for column_name in mratios_columnsP:\n",
    "    mratios_table[column_name] = mratios_table[column_name].multiply(100)\n",
    "    mratios_table[column_name] = (\n",
    "        pd.Series([\"{0:.1f}%\".format(val) for val in mratios_table[column_name]],\n",
    "                  index=mratios_table.index))\n",
    "\n",
    "# Reorder Columns\n",
    "mratios_table = mratios_table[\n",
    "    ['Price to Book Ratio', 'Price to Sales Ratio', 'Price to Earnings Ratio',\n",
    "     'Price to Operating Cashflow Ratio', 'Enterprise Value Multiple',\n",
    "     'Price to Fair Value', 'Dividend Yield', 'Earnings Yield']\n",
    "]\n",
    "\n",
    "# Transpose data\n",
    "mratios_table = mratios_table.transpose()\n",
    "\n",
    "# Save data frame as image:\n",
    "mratios_table.dfi.export('images/output/market_ratios_table.png')\n",
    "\n",
    "# Print table name\n",
    "print(\"Created Market Ratios Table.\\n\")\n",
    "\n",
    "# Show table\n",
    "mratios_table"
   ]
  },
  {
   "cell_type": "markdown",
   "id": "509af5de-7c22-46fd-9608-6a07dadd0418",
   "metadata": {},
   "source": [
    "<a id=\"table_debt\"></a>\n",
    "### [Table] Debt, Liquidity and Solvency Ratios [*](#index)"
   ]
  },
  {
   "cell_type": "code",
   "execution_count": 26,
   "id": "08fc1308-33f1-48ef-ad70-14e23854b947",
   "metadata": {},
   "outputs": [
    {
     "name": "stdout",
     "output_type": "stream",
     "text": [
      "Created Debt Ratios Table.\n",
      "\n"
     ]
    },
    {
     "data": {
      "text/html": [
       "<div>\n",
       "<style scoped>\n",
       "    .dataframe tbody tr th:only-of-type {\n",
       "        vertical-align: middle;\n",
       "    }\n",
       "\n",
       "    .dataframe tbody tr th {\n",
       "        vertical-align: top;\n",
       "    }\n",
       "\n",
       "    .dataframe thead th {\n",
       "        text-align: right;\n",
       "    }\n",
       "</style>\n",
       "<table border=\"1\" class=\"dataframe\">\n",
       "  <thead>\n",
       "    <tr style=\"text-align: right;\">\n",
       "      <th>Date</th>\n",
       "      <th>2020</th>\n",
       "      <th>2021</th>\n",
       "      <th>2022</th>\n",
       "      <th>2023</th>\n",
       "      <th>2024</th>\n",
       "    </tr>\n",
       "  </thead>\n",
       "  <tbody>\n",
       "    <tr>\n",
       "      <th>Debt Assets Ratio</th>\n",
       "      <td>0.5</td>\n",
       "      <td>0.5</td>\n",
       "      <td>0.5</td>\n",
       "      <td>0.5</td>\n",
       "      <td>0.4</td>\n",
       "    </tr>\n",
       "    <tr>\n",
       "      <th>Debt Equity Ratio</th>\n",
       "      <td>1.7</td>\n",
       "      <td>1.6</td>\n",
       "      <td>1.7</td>\n",
       "      <td>1.6</td>\n",
       "      <td>1.0</td>\n",
       "    </tr>\n",
       "    <tr>\n",
       "      <th>Current Ratio</th>\n",
       "      <td>1.9</td>\n",
       "      <td>2.6</td>\n",
       "      <td>2.6</td>\n",
       "      <td>2.8</td>\n",
       "      <td>1.2</td>\n",
       "    </tr>\n",
       "    <tr>\n",
       "      <th>Quick Ratio</th>\n",
       "      <td>1.7</td>\n",
       "      <td>2.4</td>\n",
       "      <td>2.4</td>\n",
       "      <td>2.6</td>\n",
       "      <td>1.1</td>\n",
       "    </tr>\n",
       "    <tr>\n",
       "      <th>Cash Ratio</th>\n",
       "      <td>1.2</td>\n",
       "      <td>1.9</td>\n",
       "      <td>1.8</td>\n",
       "      <td>1.9</td>\n",
       "      <td>0.6</td>\n",
       "    </tr>\n",
       "    <tr>\n",
       "      <th>Opp Cashflow to Debt</th>\n",
       "      <td>0.3</td>\n",
       "      <td>0.3</td>\n",
       "      <td>0.4</td>\n",
       "      <td>0.5</td>\n",
       "      <td>0.3</td>\n",
       "    </tr>\n",
       "    <tr>\n",
       "      <th>Interest Coverage</th>\n",
       "      <td>2.3</td>\n",
       "      <td>4.5</td>\n",
       "      <td>8.2</td>\n",
       "      <td>10.0</td>\n",
       "      <td>3.5</td>\n",
       "    </tr>\n",
       "  </tbody>\n",
       "</table>\n",
       "</div>"
      ],
      "text/plain": [
       "Date                 2020 2021 2022  2023 2024\n",
       "Debt Assets Ratio     0.5  0.5  0.5   0.5  0.4\n",
       "Debt Equity Ratio     1.7  1.6  1.7   1.6  1.0\n",
       "Current Ratio         1.9  2.6  2.6   2.8  1.2\n",
       "Quick Ratio           1.7  2.4  2.4   2.6  1.1\n",
       "Cash Ratio            1.2  1.9  1.8   1.9  0.6\n",
       "Opp Cashflow to Debt  0.3  0.3  0.4   0.5  0.3\n",
       "Interest Coverage     2.3  4.5  8.2  10.0  3.5"
      ]
     },
     "execution_count": 26,
     "metadata": {},
     "output_type": "execute_result"
    }
   ],
   "source": [
    "# Debt,Liquity and Solvency Table\n",
    "\n",
    "# Copy income statement data frame\n",
    "debt_table = ratios_df.copy(deep=True)\n",
    "debt_table.sort_index(ascending=False, inplace=True)\n",
    "\n",
    "# Transform date column from string to datetime\n",
    "# Display only the year from the date column\n",
    "debt_table['date'] = pd.to_datetime(debt_table['date'])\n",
    "debt_table['date'] = debt_table['date'].dt.year\n",
    "\n",
    "# Get defined amount of years\n",
    "debt_table = debt_table.iloc[-years:]\n",
    "\n",
    "# Make date the index value\n",
    "debt_table.set_index('date', inplace=True)\n",
    "debt_table.index.rename('Date', inplace=True)\n",
    "\n",
    "# Drop non used variables\n",
    "debt_table.drop(\n",
    "    ['priceToBookRatio', 'priceToSalesRatio', 'priceEarningsRatio',\n",
    "     'priceToOperatingCashFlowsRatio', 'priceToFreeCashFlowsRatio',\n",
    "     'dividendYield', 'enterpriseValueMultiple',\n",
    "     'priceFairValue', 'symbol', 'period',\n",
    "     'daysOfSalesOutstanding', 'daysOfInventoryOutstanding',\n",
    "     'operatingCycle', 'daysOfPayablesOutstanding',\n",
    "     'cashConversionCycle', 'grossProfitMargin',\n",
    "     'operatingProfitMargin', 'pretaxProfitMargin',\n",
    "     'netProfitMargin', 'effectiveTaxRate',\n",
    "     'returnOnAssets', 'returnOnEquity',\n",
    "     'returnOnCapitalEmployed', 'netIncomePerEBT',\n",
    "     'ebtPerEbit', 'ebitPerRevenue',\n",
    "     'longTermDebtToCapitalization', 'totalDebtToCapitalization',\n",
    "     'cashFlowCoverageRatios', 'companyEquityMultiplier',\n",
    "     'receivablesTurnover', 'payablesTurnover',\n",
    "     'inventoryTurnover', 'fixedAssetTurnover',\n",
    "     'assetTurnover', 'operatingCashFlowPerShare',\n",
    "     'freeCashFlowPerShare', 'cashPerShare',\n",
    "     'payoutRatio', 'operatingCashFlowSalesRatio',\n",
    "     'freeCashFlowOperatingCashFlowRatio',\n",
    "     'shortTermCoverageRatios', 'capitalExpenditureCoverageRatio',\n",
    "     'dividendPaidAndCapexCoverageRatio',\n",
    "     'dividendPayoutRatio', 'priceBookValueRatio',\n",
    "     'priceCashFlowRatio', 'priceEarningsToGrowthRatio',\n",
    "     'priceSalesRatio'], axis=1, inplace=True)\n",
    "\n",
    "# Rename columns as they will appear in image\n",
    "debt_table.rename(columns={\n",
    "    # Debt ratios\n",
    "    'debtRatio': 'Debt Assets Ratio',\n",
    "    'debtEquityRatio': 'Debt Equity Ratio',\n",
    "    # Liquidity ratios\n",
    "    'currentRatio': 'Current Ratio',\n",
    "    'quickRatio': 'Quick Ratio',\n",
    "    'cashRatio': 'Cash Ratio',\n",
    "    # Solvency ratios\n",
    "    'interestCoverage': 'Interest Coverage',\n",
    "    'cashFlowToDebtRatio': 'Opp Cashflow to Debt',\n",
    "    # Falta debt service ratio\n",
    "    }, inplace=True)\n",
    "\n",
    "# Format columns: Turn to string, Include commas and remove decimals\n",
    "debt_ratios_columns = ['Debt Assets Ratio', 'Debt Equity Ratio',\n",
    "                       'Current Ratio', 'Quick Ratio', 'Cash Ratio',\n",
    "                       'Interest Coverage', 'Opp Cashflow to Debt']\n",
    "for column_name in debt_ratios_columns:\n",
    "    debt_table[column_name] = pd.Series(\n",
    "        [f\"{val:,.1f}\"for val in debt_table[column_name]],\n",
    "        index=debt_table.index)\n",
    "# Reorder Columns\n",
    "debt_table = debt_table[[\n",
    "    'Debt Assets Ratio',\n",
    "    'Debt Equity Ratio',\n",
    "    'Current Ratio',\n",
    "    'Quick Ratio',\n",
    "    'Cash Ratio',\n",
    "    'Opp Cashflow to Debt',\n",
    "    'Interest Coverage']]\n",
    "\n",
    "# Transpose data\n",
    "debt_table = debt_table.transpose()\n",
    "\n",
    "# Save data frame as image\n",
    "debt_table.dfi.export('images/output/debt_ratios_table.png')\n",
    "\n",
    "# Print table name\n",
    "print(\"Created Debt Ratios Table.\\n\")\n",
    "\n",
    "# Show table\n",
    "debt_table"
   ]
  },
  {
   "cell_type": "markdown",
   "id": "71f4ec98-c365-44ee-8e03-ceb4e8307a1b",
   "metadata": {},
   "source": [
    "<a id=\"table_profit\"></a>\n",
    "### [Table] Profit Ratios [*](#index)"
   ]
  },
  {
   "cell_type": "code",
   "execution_count": 27,
   "id": "11fc9b59-21f3-49dd-b1e4-fd59025776fc",
   "metadata": {},
   "outputs": [
    {
     "name": "stdout",
     "output_type": "stream",
     "text": [
      "Created Profit Ratios Table.\n",
      "\n"
     ]
    },
    {
     "data": {
      "text/html": [
       "<div>\n",
       "<style scoped>\n",
       "    .dataframe tbody tr th:only-of-type {\n",
       "        vertical-align: middle;\n",
       "    }\n",
       "\n",
       "    .dataframe tbody tr th {\n",
       "        vertical-align: top;\n",
       "    }\n",
       "\n",
       "    .dataframe thead th {\n",
       "        text-align: right;\n",
       "    }\n",
       "</style>\n",
       "<table border=\"1\" class=\"dataframe\">\n",
       "  <thead>\n",
       "    <tr style=\"text-align: right;\">\n",
       "      <th>Date</th>\n",
       "      <th>2020</th>\n",
       "      <th>2021</th>\n",
       "      <th>2022</th>\n",
       "      <th>2023</th>\n",
       "      <th>2024</th>\n",
       "    </tr>\n",
       "  </thead>\n",
       "  <tbody>\n",
       "    <tr>\n",
       "      <th>Gross Margin</th>\n",
       "      <td>0.57</td>\n",
       "      <td>0.61</td>\n",
       "      <td>0.67</td>\n",
       "      <td>0.69</td>\n",
       "      <td>0.63</td>\n",
       "    </tr>\n",
       "    <tr>\n",
       "      <th>Operating Margin</th>\n",
       "      <td>0.17</td>\n",
       "      <td>0.31</td>\n",
       "      <td>0.43</td>\n",
       "      <td>0.45</td>\n",
       "      <td>0.26</td>\n",
       "    </tr>\n",
       "    <tr>\n",
       "      <th>Net Profit Margin</th>\n",
       "      <td>0.12</td>\n",
       "      <td>0.25</td>\n",
       "      <td>0.35</td>\n",
       "      <td>0.39</td>\n",
       "      <td>0.11</td>\n",
       "    </tr>\n",
       "    <tr>\n",
       "      <th>Effective Tax Rate</th>\n",
       "      <td>-0.21</td>\n",
       "      <td>0.00</td>\n",
       "      <td>0.08</td>\n",
       "      <td>0.07</td>\n",
       "      <td>0.38</td>\n",
       "    </tr>\n",
       "    <tr>\n",
       "      <th>Return on Assets</th>\n",
       "      <td>0.04</td>\n",
       "      <td>0.09</td>\n",
       "      <td>0.16</td>\n",
       "      <td>0.19</td>\n",
       "      <td>0.04</td>\n",
       "    </tr>\n",
       "    <tr>\n",
       "      <th>Return on Equity</th>\n",
       "      <td>0.12</td>\n",
       "      <td>0.27</td>\n",
       "      <td>0.51</td>\n",
       "      <td>0.59</td>\n",
       "      <td>0.09</td>\n",
       "    </tr>\n",
       "  </tbody>\n",
       "</table>\n",
       "</div>"
      ],
      "text/plain": [
       "Date                 2020  2021  2022  2023  2024\n",
       "Gross Margin         0.57  0.61  0.67  0.69  0.63\n",
       "Operating Margin     0.17  0.31  0.43  0.45  0.26\n",
       "Net Profit Margin    0.12  0.25  0.35  0.39  0.11\n",
       "Effective Tax Rate  -0.21  0.00  0.08  0.07  0.38\n",
       "Return on Assets     0.04  0.09  0.16  0.19  0.04\n",
       "Return on Equity     0.12  0.27  0.51  0.59  0.09"
      ]
     },
     "execution_count": 27,
     "metadata": {},
     "output_type": "execute_result"
    }
   ],
   "source": [
    "# Profitability Table\n",
    "\n",
    "# Copy ratios data frame\n",
    "profit_table = ratios_df.copy(deep=True)\n",
    "profit_table.sort_index(ascending=False, inplace=True)\n",
    "\n",
    "# Transform date column from string to datetime\n",
    "# Display only the year from date column\n",
    "profit_table['date'] = pd.to_datetime(profit_table['date'])\n",
    "profit_table['date'] = profit_table['date'].dt.year\n",
    "\n",
    "# Get defined amount of years\n",
    "profit_table = profit_table.iloc[-years:]\n",
    "\n",
    "# Make date the index value\n",
    "profit_table.set_index('date', inplace=True)\n",
    "profit_table.index.rename('Date', inplace=True)\n",
    "\n",
    "# Drop non used variables\n",
    "profit_table.drop(\n",
    "    ['debtRatio', 'debtEquityRatio', 'currentRatio',\n",
    "     'quickRatio', 'cashRatio', 'interestCoverage',\n",
    "     'cashFlowToDebtRatio', 'priceToBookRatio',\n",
    "     'priceToSalesRatio', 'priceEarningsRatio',\n",
    "     'priceToOperatingCashFlowsRatio',\n",
    "     'priceToFreeCashFlowsRatio', 'dividendYield',\n",
    "     'enterpriseValueMultiple', 'priceFairValue',\n",
    "     'symbol', 'period', 'daysOfSalesOutstanding',\n",
    "     'daysOfInventoryOutstanding', 'operatingCycle',\n",
    "     'daysOfPayablesOutstanding', 'cashConversionCycle',\n",
    "     'pretaxProfitMargin', 'returnOnCapitalEmployed',\n",
    "     'netIncomePerEBT', 'ebtPerEbit', 'ebitPerRevenue',\n",
    "     'longTermDebtToCapitalization', 'totalDebtToCapitalization',\n",
    "     'cashFlowCoverageRatios', 'companyEquityMultiplier',\n",
    "     'receivablesTurnover', 'payablesTurnover',\n",
    "     'inventoryTurnover', 'fixedAssetTurnover',\n",
    "     'assetTurnover', 'operatingCashFlowPerShare',\n",
    "     'freeCashFlowPerShare', 'cashPerShare',\n",
    "     'payoutRatio', 'operatingCashFlowSalesRatio',\n",
    "     'freeCashFlowOperatingCashFlowRatio',\n",
    "     'shortTermCoverageRatios', 'capitalExpenditureCoverageRatio',\n",
    "     'dividendPaidAndCapexCoverageRatio', 'dividendPayoutRatio',\n",
    "     'priceBookValueRatio', 'priceCashFlowRatio',\n",
    "     'priceEarningsToGrowthRatio', 'priceSalesRatio'], axis=1, inplace=True)\n",
    "\n",
    "# Rename columns\n",
    "profit_table.rename(columns={\n",
    "    'grossProfitMargin': 'Gross Margin',\n",
    "    'operatingProfitMargin': 'Operating Margin',\n",
    "    'netProfitMargin': 'Net Profit Margin',\n",
    "    'effectiveTaxRate': 'Effective Tax Rate',\n",
    "    'returnOnAssets': 'Return on Assets',\n",
    "    'returnOnEquity': 'Return on Equity',\n",
    "    }, inplace=True)\n",
    "\n",
    "# Format columns: Turn to string, Include commas and remove decimals\n",
    "profit_ratios_columns = [\n",
    "    'Gross Margin', 'Operating Margin', 'Net Profit Margin',\n",
    "    'Effective Tax Rate', 'Return on Assets', 'Return on Equity']\n",
    "for column_name in profit_ratios_columns:\n",
    "    profit_table[column_name] = (\n",
    "        pd.Series([f\"{val:,.2f}\"for val in profit_table[column_name]],\n",
    "                  index=profit_table.index))\n",
    "\n",
    "# Reorder Columns\n",
    "profit_table = profit_table[[\n",
    "    'Gross Margin',\n",
    "    'Operating Margin',\n",
    "    'Net Profit Margin',\n",
    "    'Effective Tax Rate',\n",
    "    'Return on Assets',\n",
    "    'Return on Equity']]\n",
    "\n",
    "# Transpose data\n",
    "profit_table = profit_table.transpose()\n",
    "\n",
    "# Save data frame as image\n",
    "profit_table.dfi.export('images/output/profit_ratios_table.png')\n",
    "\n",
    "# Print table name\n",
    "print(\"Created Profit Ratios Table.\\n\")\n",
    "\n",
    "# Show table\n",
    "profit_table"
   ]
  },
  {
   "cell_type": "markdown",
   "id": "d4bed624-763b-40ea-9f71-fb4cac42449f",
   "metadata": {},
   "source": [
    "<a id=\"table_efficiency\"></a>\n",
    "### [Table] Efficiency Ratios [*](#index)"
   ]
  },
  {
   "cell_type": "code",
   "execution_count": 28,
   "id": "0b906a35-7724-4a83-8fa2-0253fc64efdc",
   "metadata": {},
   "outputs": [
    {
     "name": "stdout",
     "output_type": "stream",
     "text": [
      "Created Efficiency Ratios Table.\n",
      "\n"
     ]
    },
    {
     "data": {
      "text/html": [
       "<div>\n",
       "<style scoped>\n",
       "    .dataframe tbody tr th:only-of-type {\n",
       "        vertical-align: middle;\n",
       "    }\n",
       "\n",
       "    .dataframe tbody tr th {\n",
       "        vertical-align: top;\n",
       "    }\n",
       "\n",
       "    .dataframe thead th {\n",
       "        text-align: right;\n",
       "    }\n",
       "</style>\n",
       "<table border=\"1\" class=\"dataframe\">\n",
       "  <thead>\n",
       "    <tr style=\"text-align: right;\">\n",
       "      <th>Date</th>\n",
       "      <th>2020</th>\n",
       "      <th>2021</th>\n",
       "      <th>2022</th>\n",
       "      <th>2023</th>\n",
       "      <th>2024</th>\n",
       "    </tr>\n",
       "  </thead>\n",
       "  <tbody>\n",
       "    <tr>\n",
       "      <th>Days of Sales Outstanding</th>\n",
       "      <td>35</td>\n",
       "      <td>28</td>\n",
       "      <td>33</td>\n",
       "      <td>32</td>\n",
       "      <td>31</td>\n",
       "    </tr>\n",
       "    <tr>\n",
       "      <th>Days of Payables Outstanding</th>\n",
       "      <td>29</td>\n",
       "      <td>37</td>\n",
       "      <td>33</td>\n",
       "      <td>40</td>\n",
       "      <td>32</td>\n",
       "    </tr>\n",
       "    <tr>\n",
       "      <th>Days of Inventory Outstanding</th>\n",
       "      <td>35</td>\n",
       "      <td>45</td>\n",
       "      <td>63</td>\n",
       "      <td>62</td>\n",
       "      <td>34</td>\n",
       "    </tr>\n",
       "    <tr>\n",
       "      <th>Days of Operating Cycle</th>\n",
       "      <td>70</td>\n",
       "      <td>72</td>\n",
       "      <td>96</td>\n",
       "      <td>94</td>\n",
       "      <td>65</td>\n",
       "    </tr>\n",
       "    <tr>\n",
       "      <th>Cash Conversion Cycle</th>\n",
       "      <td>41</td>\n",
       "      <td>35</td>\n",
       "      <td>63</td>\n",
       "      <td>55</td>\n",
       "      <td>33</td>\n",
       "    </tr>\n",
       "    <tr>\n",
       "      <th>Receivables Turnover</th>\n",
       "      <td>10.4</td>\n",
       "      <td>13.3</td>\n",
       "      <td>11.2</td>\n",
       "      <td>11.4</td>\n",
       "      <td>11.7</td>\n",
       "    </tr>\n",
       "    <tr>\n",
       "      <th>Payables Turnover</th>\n",
       "      <td>12.4</td>\n",
       "      <td>9.8</td>\n",
       "      <td>11.1</td>\n",
       "      <td>9.2</td>\n",
       "      <td>11.5</td>\n",
       "    </tr>\n",
       "    <tr>\n",
       "      <th>Inventory Turnover</th>\n",
       "      <td>10.3</td>\n",
       "      <td>8.2</td>\n",
       "      <td>5.8</td>\n",
       "      <td>5.9</td>\n",
       "      <td>10.8</td>\n",
       "    </tr>\n",
       "    <tr>\n",
       "      <th>Fixed Asset Turnover</th>\n",
       "      <td>9.5</td>\n",
       "      <td>11.7</td>\n",
       "      <td>14.9</td>\n",
       "      <td>13.7</td>\n",
       "      <td>20.5</td>\n",
       "    </tr>\n",
       "    <tr>\n",
       "      <th>Asset Turnover</th>\n",
       "      <td>0.3</td>\n",
       "      <td>0.4</td>\n",
       "      <td>0.5</td>\n",
       "      <td>0.5</td>\n",
       "      <td>0.3</td>\n",
       "    </tr>\n",
       "  </tbody>\n",
       "</table>\n",
       "</div>"
      ],
      "text/plain": [
       "Date                           2020  2021  2022  2023  2024\n",
       "Days of Sales Outstanding        35    28    33    32    31\n",
       "Days of Payables Outstanding     29    37    33    40    32\n",
       "Days of Inventory Outstanding    35    45    63    62    34\n",
       "Days of Operating Cycle          70    72    96    94    65\n",
       "Cash Conversion Cycle            41    35    63    55    33\n",
       "Receivables Turnover           10.4  13.3  11.2  11.4  11.7\n",
       "Payables Turnover              12.4   9.8  11.1   9.2  11.5\n",
       "Inventory Turnover             10.3   8.2   5.8   5.9  10.8\n",
       "Fixed Asset Turnover            9.5  11.7  14.9  13.7  20.5\n",
       "Asset Turnover                  0.3   0.4   0.5   0.5   0.3"
      ]
     },
     "execution_count": 28,
     "metadata": {},
     "output_type": "execute_result"
    }
   ],
   "source": [
    "# Efficiency Ratios Table\n",
    "\n",
    "# Copy ratios statement data frame\n",
    "efficiency_table = ratios_df.copy(deep=True)\n",
    "efficiency_table.sort_index(ascending=False, inplace=True)\n",
    "\n",
    "# Transform date column from string to datetime\n",
    "# Display only the year from date column\n",
    "efficiency_table['date'] = pd.to_datetime(efficiency_table['date'])\n",
    "efficiency_table['date'] = efficiency_table['date'].dt.year\n",
    "\n",
    "# Get the defined amount of years\n",
    "efficiency_table = efficiency_table.iloc[-years:]\n",
    "\n",
    "# Make date the index value\n",
    "efficiency_table.set_index('date', inplace=True)\n",
    "efficiency_table.index.rename('Date', inplace=True)\n",
    "\n",
    "# Drop non used variables\n",
    "efficiency_table.drop(\n",
    "    ['grossProfitMargin', 'operatingProfitMargin',\n",
    "     'netProfitMargin', 'effectiveTaxRate',\n",
    "     'returnOnAssets', 'returnOnEquity',\n",
    "     'debtRatio', 'debtEquityRatio',\n",
    "     'currentRatio', 'quickRatio',\n",
    "     'cashRatio', 'interestCoverage',\n",
    "     'cashFlowToDebtRatio', 'priceToBookRatio',\n",
    "     'priceToSalesRatio', 'priceEarningsRatio',\n",
    "     'priceToOperatingCashFlowsRatio',\n",
    "     'priceToFreeCashFlowsRatio',\n",
    "     'dividendYield', 'enterpriseValueMultiple',\n",
    "     'priceFairValue', 'symbol',\n",
    "     'period', 'pretaxProfitMargin',\n",
    "     'returnOnCapitalEmployed',\n",
    "     'netIncomePerEBT', 'ebtPerEbit',\n",
    "     'ebitPerRevenue', 'longTermDebtToCapitalization',\n",
    "     'totalDebtToCapitalization', 'cashFlowCoverageRatios',\n",
    "     'companyEquityMultiplier', 'operatingCashFlowPerShare',\n",
    "     'freeCashFlowPerShare', 'cashPerShare',\n",
    "     'payoutRatio', 'operatingCashFlowSalesRatio',\n",
    "     'freeCashFlowOperatingCashFlowRatio',\n",
    "     'shortTermCoverageRatios', 'capitalExpenditureCoverageRatio',\n",
    "     'dividendPaidAndCapexCoverageRatio', 'dividendPayoutRatio',\n",
    "     'priceBookValueRatio', 'priceCashFlowRatio',\n",
    "     'priceEarningsToGrowthRatio', 'priceSalesRatio'], axis=1, inplace=True)\n",
    "\n",
    "# Rename columns\n",
    "efficiency_table.rename(columns={\n",
    "    'daysOfSalesOutstanding': 'Days of Sales Outstanding',\n",
    "    'daysOfPayablesOutstanding': 'Days of Payables Outstanding',\n",
    "    'daysOfInventoryOutstanding': 'Days of Inventory Outstanding',\n",
    "    'operatingCycle': 'Days of Operating Cycle',\n",
    "    'cashConversionCycle': 'Cash Conversion Cycle',\n",
    "    'receivablesTurnover': 'Receivables Turnover',\n",
    "    'payablesTurnover': 'Payables Turnover',\n",
    "    'inventoryTurnover': 'Inventory Turnover',\n",
    "    'fixedAssetTurnover': 'Fixed Asset Turnover',\n",
    "    'assetTurnover': 'Asset Turnover',\n",
    "    }, inplace=True)\n",
    "\n",
    "# Format columns: Turn to string, Include commas and remove decimals.\n",
    "efficiency_ratios_columns = ['Days of Sales Outstanding',\n",
    "                             'Days of Payables Outstanding',\n",
    "                             'Days of Inventory Outstanding',\n",
    "                             'Days of Operating Cycle',\n",
    "                             'Cash Conversion Cycle']\n",
    "for column_name in efficiency_ratios_columns:\n",
    "    efficiency_table[column_name] = (\n",
    "        pd.Series([f\"{val:,.0f}\"for val in efficiency_table[column_name]],\n",
    "                  index=efficiency_table.index))\n",
    "\n",
    "efficiency_ratios_columns2 = ['Receivables Turnover', 'Payables Turnover',\n",
    "                              'Inventory Turnover', 'Fixed Asset Turnover',\n",
    "                              'Asset Turnover']\n",
    "for column_name in efficiency_ratios_columns2:\n",
    "    efficiency_table[column_name] = (\n",
    "        pd.Series([f\"{val:,.1f}\"for val in efficiency_table[column_name]],\n",
    "                  index=efficiency_table.index))\n",
    "\n",
    "# Reorder columns\n",
    "efficiency_table = efficiency_table[[\n",
    "    'Days of Sales Outstanding',\n",
    "    'Days of Payables Outstanding',\n",
    "    'Days of Inventory Outstanding',\n",
    "    'Days of Operating Cycle',\n",
    "    'Cash Conversion Cycle',\n",
    "    'Receivables Turnover',\n",
    "    'Payables Turnover',\n",
    "    'Inventory Turnover',\n",
    "    'Fixed Asset Turnover',\n",
    "    'Asset Turnover']]\n",
    "\n",
    "# Transpose data\n",
    "efficiency_table = efficiency_table.transpose()\n",
    "\n",
    "# Save data frame as image\n",
    "efficiency_table.dfi.export('images/output/efficiency_ratios_table.png')\n",
    "\n",
    "# Print table name\n",
    "print(\"Created Efficiency Ratios Table.\\n\")\n",
    "\n",
    "# Show table\n",
    "efficiency_table"
   ]
  },
  {
   "cell_type": "markdown",
   "id": "e56194c9-53df-4d0c-8d92-76240d6c6ee2",
   "metadata": {},
   "source": [
    "<a id=\"table_metrics\"></a>\n",
    "### [Table] Key Metrics [*](#index)"
   ]
  },
  {
   "cell_type": "code",
   "execution_count": 29,
   "id": "2120491e-5a7d-408e-b66b-d2f6a4b0afc9",
   "metadata": {},
   "outputs": [
    {
     "name": "stdout",
     "output_type": "stream",
     "text": [
      "Created Key Metrics Table\n",
      "\n"
     ]
    },
    {
     "data": {
      "text/html": [
       "<div>\n",
       "<style scoped>\n",
       "    .dataframe tbody tr th:only-of-type {\n",
       "        vertical-align: middle;\n",
       "    }\n",
       "\n",
       "    .dataframe tbody tr th {\n",
       "        vertical-align: top;\n",
       "    }\n",
       "\n",
       "    .dataframe thead th {\n",
       "        text-align: right;\n",
       "    }\n",
       "</style>\n",
       "<table border=\"1\" class=\"dataframe\">\n",
       "  <thead>\n",
       "    <tr style=\"text-align: right;\">\n",
       "      <th>Date</th>\n",
       "      <th>2020</th>\n",
       "      <th>2021</th>\n",
       "      <th>2022</th>\n",
       "      <th>2023</th>\n",
       "      <th>2024</th>\n",
       "    </tr>\n",
       "  </thead>\n",
       "  <tbody>\n",
       "    <tr>\n",
       "      <th>Market Cap (millions)</th>\n",
       "      <td>141,223</td>\n",
       "      <td>216,521</td>\n",
       "      <td>192,271</td>\n",
       "      <td>349,140</td>\n",
       "      <td>779,375</td>\n",
       "    </tr>\n",
       "    <tr>\n",
       "      <th>Net income per share</th>\n",
       "      <td>1</td>\n",
       "      <td>2</td>\n",
       "      <td>3</td>\n",
       "      <td>3</td>\n",
       "      <td>1</td>\n",
       "    </tr>\n",
       "    <tr>\n",
       "      <th>Free Cash Flow per share</th>\n",
       "      <td>3</td>\n",
       "      <td>3</td>\n",
       "      <td>4</td>\n",
       "      <td>4</td>\n",
       "      <td>4</td>\n",
       "    </tr>\n",
       "    <tr>\n",
       "      <th>Book value per share</th>\n",
       "      <td>6</td>\n",
       "      <td>6</td>\n",
       "      <td>6</td>\n",
       "      <td>6</td>\n",
       "      <td>15</td>\n",
       "    </tr>\n",
       "    <tr>\n",
       "      <th>Capex to Revenue</th>\n",
       "      <td>2%</td>\n",
       "      <td>2%</td>\n",
       "      <td>1%</td>\n",
       "      <td>1%</td>\n",
       "      <td>1%</td>\n",
       "    </tr>\n",
       "    <tr>\n",
       "      <th>Capex to Depreciation</th>\n",
       "      <td>7%</td>\n",
       "      <td>7%</td>\n",
       "      <td>9%</td>\n",
       "      <td>12%</td>\n",
       "      <td>5%</td>\n",
       "    </tr>\n",
       "    <tr>\n",
       "      <th>Capex to Operating CashFlow</th>\n",
       "      <td>4%</td>\n",
       "      <td>3%</td>\n",
       "      <td>3%</td>\n",
       "      <td>2%</td>\n",
       "      <td>3%</td>\n",
       "    </tr>\n",
       "    <tr>\n",
       "      <th>Graham Number</th>\n",
       "      <td>10</td>\n",
       "      <td>15</td>\n",
       "      <td>19</td>\n",
       "      <td>21</td>\n",
       "      <td>20</td>\n",
       "    </tr>\n",
       "    <tr>\n",
       "      <th>Graham Net Net</th>\n",
       "      <td>-10</td>\n",
       "      <td>-9</td>\n",
       "      <td>-9</td>\n",
       "      <td>-8</td>\n",
       "      <td>-18</td>\n",
       "    </tr>\n",
       "  </tbody>\n",
       "</table>\n",
       "</div>"
      ],
      "text/plain": [
       "Date                            2020     2021     2022     2023     2024\n",
       "Market Cap (millions)        141,223  216,521  192,271  349,140  779,375\n",
       "Net income per share               1        2        3        3        1\n",
       "Free Cash Flow per share           3        3        4        4        4\n",
       "Book value per share               6        6        6        6       15\n",
       "Capex to Revenue                  2%       2%       1%       1%       1%\n",
       "Capex to Depreciation             7%       7%       9%      12%       5%\n",
       "Capex to Operating CashFlow       4%       3%       3%       2%       3%\n",
       "Graham Number                     10       15       19       21       20\n",
       "Graham Net Net                   -10       -9       -9       -8      -18"
      ]
     },
     "execution_count": 29,
     "metadata": {},
     "output_type": "execute_result"
    }
   ],
   "source": [
    "# Key Metrics Table\n",
    "\n",
    "# Copy the ratios statement data frame\n",
    "keymetrics_table = metrics_df.copy(deep=True)\n",
    "\n",
    "# Divide Market Cap by 1 Million\n",
    "keymetrics_table['marketCap'] = keymetrics_table['marketCap'].div(1_000_000)\n",
    "\n",
    "# Sort years increasing from left to right\n",
    "keymetrics_table.sort_index(ascending=False, inplace=True)\n",
    "\n",
    "# Transform date column from string to datetime\n",
    "# Display only the year from the date column\n",
    "keymetrics_table['date'] = pd.to_datetime(keymetrics_table['date'])\n",
    "keymetrics_table['date'] = keymetrics_table['date'].dt.year\n",
    "\n",
    "# Get the defined amount of years\n",
    "keymetrics_table = keymetrics_table.iloc[-years:]\n",
    "\n",
    "# Make the date the index value\n",
    "keymetrics_table.set_index('date', inplace=True)\n",
    "keymetrics_table.index.rename('Date', inplace=True)\n",
    "\n",
    "# Drop non used variables\n",
    "keymetrics_table.drop(\n",
    "    ['symbol', 'period', 'revenuePerShare',\n",
    "     'operatingCashFlowPerShare', 'cashPerShare',\n",
    "     'tangibleBookValuePerShare', 'interestDebtPerShare',\n",
    "     'enterpriseValue', 'peRatio', 'priceToSalesRatio',\n",
    "     'pocfratio', 'pfcfRatio', 'pbRatio',\n",
    "     'ptbRatio', 'evToSales', 'enterpriseValueOverEBITDA',\n",
    "     'evToOperatingCashFlow', 'evToFreeCashFlow',\n",
    "     'earningsYield', 'freeCashFlowYield',\n",
    "     'debtToEquity', 'debtToAssets', 'netDebtToEBITDA',\n",
    "     'currentRatio', 'interestCoverage', 'incomeQuality',\n",
    "     'dividendYield', 'payoutRatio',\n",
    "     'salesGeneralAndAdministrativeToRevenue',\n",
    "     'researchAndDdevelopementToRevenue',\n",
    "     'intangiblesToTotalAssets',\n",
    "     'stockBasedCompensationToRevenue',\n",
    "     'roic', 'returnOnTangibleAssets',\n",
    "     'workingCapital', 'tangibleAssetValue',\n",
    "     'netCurrentAssetValue', 'investedCapital',\n",
    "     'averageReceivables', 'averagePayables',\n",
    "     'averageInventory', 'daysSalesOutstanding',\n",
    "     'daysPayablesOutstanding', 'daysOfInventoryOnHand',\n",
    "     'receivablesTurnover', 'payablesTurnover',\n",
    "     'inventoryTurnover', 'roe', 'capexPerShare'],\n",
    "    axis=1, inplace=True)\n",
    "\n",
    "# Rename columns as they will appear in image\n",
    "keymetrics_table.rename(columns={\n",
    "    'marketCap': 'Market Cap (millions)',\n",
    "    'netIncomePerShare': 'Net income per share',\n",
    "    'freeCashFlowPerShare': 'Free Cash Flow per share',\n",
    "    'bookValuePerShare': 'Book value per share',\n",
    "    'shareholdersEquityPerShare': 'Shareholder Equity per share',\n",
    "    'capexToOperatingCashFlow': 'Capex to Operating CashFlow',\n",
    "    'capexToRevenue': 'Capex to Revenue',\n",
    "    'capexToDepreciation': 'Capex to Depreciation',\n",
    "    'grahamNumber': 'Graham Number',\n",
    "    'grahamNetNet': 'Graham Net Net',\n",
    "    }, inplace=True)\n",
    "\n",
    "# Format the columns: Turn to string, Include commas, and remove decimals.\n",
    "keymetrics_columns = ['Market Cap (millions)', 'Net income per share',\n",
    "                      'Free Cash Flow per share', 'Book value per share',\n",
    "                      'Shareholder Equity per share',\n",
    "                      'Graham Number', 'Graham Net Net']\n",
    "for column_name in keymetrics_columns:\n",
    "    keymetrics_table[column_name] = (\n",
    "        pd.Series([f\"{val:,.0f}\"for val in keymetrics_table[column_name]],\n",
    "                  index=keymetrics_table.index))\n",
    "\n",
    "# Format the columns: Turn to string and format as percentage %\n",
    "keymetrics_columns_p = ['Capex to Operating CashFlow',\n",
    "                        'Capex to Revenue', 'Capex to Depreciation']\n",
    "for column_name in keymetrics_columns_p:\n",
    "    keymetrics_table[column_name] = keymetrics_table[column_name].multiply(100)\n",
    "    keymetrics_table[column_name] = (\n",
    "        pd.Series([\"{0:.0f}%\".format(val)\n",
    "                  for val in keymetrics_table[column_name]],\n",
    "                  index=keymetrics_table.index))\n",
    "\n",
    "# Reorder the Columns\n",
    "keymetrics_table = keymetrics_table[[\n",
    "    'Market Cap (millions)',\n",
    "    'Net income per share',\n",
    "    'Free Cash Flow per share',\n",
    "    'Book value per share',\n",
    "    'Capex to Revenue',\n",
    "    'Capex to Depreciation',\n",
    "    'Capex to Operating CashFlow',\n",
    "    'Graham Number',\n",
    "    'Graham Net Net']]\n",
    "\n",
    "# Transpose the data\n",
    "keymetrics_table = keymetrics_table.transpose()\n",
    "\n",
    "# Save the data frame as image:\n",
    "keymetrics_table.dfi.export('images/output/key_metrics_table.png')\n",
    "\n",
    "# Print Table Name\n",
    "print(\"Created Key Metrics Table\\n\")\n",
    "\n",
    "# Show table\n",
    "keymetrics_table"
   ]
  },
  {
   "cell_type": "markdown",
   "id": "24a244b2-3c11-4bc8-9557-c690ecc4c3c0",
   "metadata": {},
   "source": [
    "<a id=\"export_pdf\"></a>\n",
    "### Exporting as a PDF file [*](#index)\n"
   ]
  },
  {
   "cell_type": "markdown",
   "id": "040fa6aa-0eab-4fdf-9685-b65dd1281837",
   "metadata": {},
   "source": [
    "<a id=\"variables_pdf\"></a>\n",
    "#### PDF Variables [*](#index)\n",
    "[PDF section start](#export_pdf)"
   ]
  },
  {
   "cell_type": "code",
   "execution_count": 30,
   "id": "75168f76-f39d-4632-a9cf-56bec41a656a",
   "metadata": {},
   "outputs": [],
   "source": [
    "# Border changes for editing\n",
    "border_chg = 0  # Choose 1 to show, or 0 to hide PDF borders."
   ]
  },
  {
   "cell_type": "code",
   "execution_count": 31,
   "id": "3b003cf8-8829-40e4-8e6f-2242c60a0fe3",
   "metadata": {},
   "outputs": [
    {
     "name": "stdout",
     "output_type": "stream",
     "text": [
      "PDF Variables Created\n",
      "\n"
     ]
    }
   ],
   "source": [
    "# PDF Variables\n",
    "\n",
    "# Variables\n",
    "today = dt.date.today()\n",
    "company_name = profile_df.iloc[0]['companyName']\n",
    "company_symbol = profile_df.iloc[0]['symbol']\n",
    "mktCap = profile_df.iloc[0]['mktCap']\n",
    "beta = profile_df.iloc[0]['beta']\n",
    "currency = profile_df.iloc[0]['currency']\n",
    "isin = profile_df.iloc[0]['isin']\n",
    "cusip = profile_df.iloc[0]['cusip']\n",
    "exchange = profile_df.iloc[0]['exchange']\n",
    "industry = profile_df.iloc[0]['industry']\n",
    "website = profile_df.iloc[0]['website']\n",
    "sector = profile_df.iloc[0]['sector']\n",
    "country = profile_df.iloc[0]['country']\n",
    "employees = profile_df.iloc[0]['fullTimeEmployees']\n",
    "ipo_date = profile_df.iloc[0]['ipoDate']\n",
    "ceo = profile_df.iloc[0]['ceo']\n",
    "company_description = profile_df.iloc[0]['description']\n",
    "# peers=stock_peers_df['peers'].tolist() # Paid endpoint\n",
    "# peers=\"Stock Peers: \"+', '.join(peers) # Paid endpoint\n",
    "\n",
    "# Change  datatype and format\n",
    "employees = float(employees)\n",
    "beta = float(beta)\n",
    "mktCap = float(mktCap)\n",
    "employees = ('{:,.0f}'.format(employees))\n",
    "beta = ('{:,.2f}'.format(beta))\n",
    "mktCap = ('{:,.0f}'.format(mktCap))\n",
    "\n",
    "# Create a tuple from values\n",
    "data = (\n",
    "    (\"Company Name:\", company_name),\n",
    "    (\"Company Symbol:\", company_symbol),\n",
    "    (\"Market Cap:\", mktCap),\n",
    "    (\"Beta:\", beta),\n",
    "    (\"Currency:\", currency),\n",
    "    (\"ISIN:\", isin,),\n",
    "    (\"CUSIP:\", cusip),\n",
    "    (\"Exchange:\", exchange),\n",
    "    (\"Industry:\", industry),\n",
    "    (\"Sector:\", sector),\n",
    "    (\"Country:\", country),\n",
    "    (\"No. Employees:\", employees),\n",
    "    (\"IPO Date:\", ipo_date),\n",
    "    (\"CEO:\", ceo),\n",
    "    (\"Website:\", website),\n",
    "    )\n",
    "print(\"PDF Variables Created\\n\")"
   ]
  },
  {
   "cell_type": "markdown",
   "id": "9d6a04c4-4c79-471f-8650-a2535747c233",
   "metadata": {},
   "source": [
    "<a id=\"defining_classes_pdf\"></a>\n",
    "#### Defining Classes [*](#index)\n",
    "[PDF section start](#export_pdf)"
   ]
  },
  {
   "cell_type": "code",
   "execution_count": 32,
   "id": "48e9264b-6df5-42cb-a728-944372847103",
   "metadata": {
    "tags": []
   },
   "outputs": [
    {
     "name": "stdout",
     "output_type": "stream",
     "text": [
      "FPDF Classes Created\n",
      "\n"
     ]
    }
   ],
   "source": [
    "# Defining Classes\n",
    "\n",
    "class PDF(FPDF):\n",
    "    def header(self):\n",
    "        # Logo\n",
    "        self.image('images/input/BS-Logo.png', x=12, y=12, w=30)\n",
    "        # Analysis date\n",
    "        self.ln(4)\n",
    "        self.cell(155)\n",
    "        self.set_font('Helvetica', 'BI', 8)\n",
    "        self.cell(w=35, h=5,\n",
    "                  text=\"Created : \"+today.strftime(\"%d-%b-%Y\"),\n",
    "                  border=border_chg,\n",
    "                  new_x='RIGHT', new_y='NEXT',\n",
    "                  align='R', fill=False, link='')\n",
    "        self.ln(4)\n",
    "        # Company Name\n",
    "        self.ln(12)\n",
    "        self.cell(55)\n",
    "        self.set_font('Helvetica', 'B', 12)\n",
    "        self.cell(w=100, h=5,\n",
    "                  text=(\" Company Analysis: \"+company_name),\n",
    "                  border=border_chg,\n",
    "                  new_x='LMARGIN', new_y='NEXT',\n",
    "                  align='C')\n",
    "\n",
    "    def footer(self):\n",
    "        # Position at 1.5 cm from bottom\n",
    "        self.set_y(-20)\n",
    "        # Information Disclaimer\n",
    "        self.set_font('Helvetica', 'I', 8)\n",
    "        self.cell(w=0, h=4,\n",
    "                  text='*Data provided by Financial Modeling Prep',\n",
    "                  border=border_chg,\n",
    "                  new_x='LMARGIN', new_y='NEXT',\n",
    "                  align='R')\n",
    "        self.ln(1)\n",
    "        # Page number\n",
    "        self.set_font('Helvetica', 'BI', 10)\n",
    "        self.cell(w=0, h=5,\n",
    "                  text='Page ' + str(self.page_no()) + ' of {nb}',\n",
    "                  border=border_chg,\n",
    "                  new_x='RIGHT', new_y='NEXT',\n",
    "                  align='C')\n",
    "\n",
    "\n",
    "print(\"FPDF Classes Created\\n\")"
   ]
  },
  {
   "cell_type": "markdown",
   "id": "d91ed1b4-a346-4af4-97b9-8f693ee95608",
   "metadata": {},
   "source": [
    "<a id=\"class_instantiation_pdf\"></a>\n",
    "#### Instantiation of Class [*](#index)\n",
    "[PDF section start](#export_pdf)"
   ]
  },
  {
   "cell_type": "code",
   "execution_count": 33,
   "id": "776c4790-878d-475b-a8fa-512f570154e6",
   "metadata": {
    "tags": []
   },
   "outputs": [
    {
     "name": "stdout",
     "output_type": "stream",
     "text": [
      "FPDF Class Instantiated\n",
      "\n"
     ]
    }
   ],
   "source": [
    "# Instantiation of Class\n",
    "pdf = PDF(orientation=\"P\", unit=\"mm\", format=\"Letter\")\n",
    "\n",
    "# Document Description\n",
    "pdf.set_author(author=\"Pablo Cruz Lemini\")\n",
    "pdf.set_subject(subject=\"Fundamental Analyisis for \"+company_symbol)\n",
    "pdf.set_keywords(\"fundamental, analysis,\"+company_symbol)\n",
    "\n",
    "# Add unicode font\n",
    "pdf.set_font('Helvetica', 'B', 11)\n",
    "\n",
    "print(\"FPDF Class Instantiated\\n\")"
   ]
  },
  {
   "cell_type": "markdown",
   "id": "66ec9b6e-8a85-4af1-a923-9c1410703bd2",
   "metadata": {},
   "source": [
    "<a id=\"page1_pdf\"></a>\n",
    "#### Page 1: Company Description [*](#index)\n",
    "[PDF section start](#export_pdf)"
   ]
  },
  {
   "cell_type": "code",
   "execution_count": 34,
   "id": "dbeed9c0-41d5-4610-b5d1-f5d6f254c51f",
   "metadata": {},
   "outputs": [
    {
     "name": "stdout",
     "output_type": "stream",
     "text": [
      "Company Logo imported to PDF\n",
      "\n",
      "Page 1: Company Description Created\n",
      "\n"
     ]
    }
   ],
   "source": [
    "# Page 1: Company Description\n",
    "pdf.add_page()\n",
    "\n",
    "# Title\n",
    "pdf.ln(10)\n",
    "pdf.cell(14)\n",
    "pdf.set_font('Helvetica', 'B', 11)\n",
    "pdf.cell(w=50, h=5,\n",
    "         text=\"Company Summary:\",\n",
    "         border=border_chg,\n",
    "         new_x='LMARGIN', new_y='NEXT',\n",
    "         align='L')\n",
    "pdf.ln(3)\n",
    "\n",
    "# Company summary table\n",
    "pdf.set_font('Helvetica', size=8)\n",
    "line_height = pdf.font_size * 2\n",
    "col_width = pdf.epw / 4.5  # distribute content evenly.\n",
    "try:\n",
    "    for row in data:\n",
    "        pdf.cell(20)\n",
    "        for datum in row:\n",
    "            pdf.multi_cell(col_width,\n",
    "                           line_height,\n",
    "                           datum,\n",
    "                           border=border_chg,\n",
    "                           new_x='RIGHT', new_y='TOP',\n",
    "                           max_line_height=pdf.font_size)\n",
    "        pdf.ln(line_height)\n",
    "except Exception:\n",
    "    print(\"Exception Ocurred at Company Summary Table\\n\")\n",
    "    pass\n",
    "pdf.ln(5)\n",
    "\n",
    "# Company description\n",
    "pdf.cell(14)\n",
    "pdf.multi_cell(w=165, h=5,\n",
    "               text=company_description,\n",
    "               border=border_chg,\n",
    "               align='J',\n",
    "               fill=False)\n",
    "# Stock Peers (Paid endpoint)\n",
    "# pdf.ln(5)\n",
    "# pdf.cell(14)\n",
    "# pdf.multi_cell(w=165, h=5,\n",
    "#                text=peers,\n",
    "#                border=border_chg,\n",
    "#                align='J',\n",
    "#                fill=False)\n",
    "\n",
    "# Company Logo\n",
    "try:\n",
    "    pdf.image('images/output/company_logo.png', x=100, y=215, h=15)\n",
    "    print(\"Company Logo imported to PDF\\n\")\n",
    "except Exception:\n",
    "    print(\"Exception Occurred importing Company Logo\\n\")\n",
    "    pass\n",
    "print(\"Page 1: Company Description Created\\n\")"
   ]
  },
  {
   "cell_type": "markdown",
   "id": "54133701-09b1-4db3-b477-41bbd328bdaa",
   "metadata": {},
   "source": [
    "<a id=\"page2_pdf\"></a>\n",
    "#### Page 2: Financial Statements [*](#index)\n",
    "[PDF section start](#export_pdf)"
   ]
  },
  {
   "cell_type": "code",
   "execution_count": 35,
   "id": "256702af-35dc-4f85-9d85-3adda67a7179",
   "metadata": {
    "tags": []
   },
   "outputs": [
    {
     "name": "stdout",
     "output_type": "stream",
     "text": [
      "Page 2: Financial Statements Created\n",
      "\n"
     ]
    }
   ],
   "source": [
    "# Page 2: Financial Statements\n",
    "pdf.add_page()\n",
    "\n",
    "# Title\n",
    "pdf.set_font('Helvetica', 'B', 11)\n",
    "pdf.ln(10)\n",
    "pdf.cell(w=45, h=5, text=\" Financial statements:\",\n",
    "         border=border_chg,\n",
    "         new_x='LMARGIN', new_y='NEXT',\n",
    "         align='L')\n",
    "\n",
    "# Amount in Millions Text\n",
    "pdf.cell(10)\n",
    "pdf.set_font('Helvetica', 'I', 8)\n",
    "pdf.cell(w=40, h=5, text=\"Amounts in $ \"+currency+\" (Millions)\",\n",
    "         border=border_chg,\n",
    "         new_x='RIGHT', new_y='NEXT',\n",
    "         align='L',\n",
    "         fill=False, link='')\n",
    "\n",
    "# Income Statement Title\n",
    "pdf.ln(15)\n",
    "pdf.cell(10)\n",
    "pdf.set_font('Helvetica', 'B', 8)\n",
    "pdf.cell(w=30, h=5, text=\"Income Statement\",\n",
    "         border=border_chg,\n",
    "         new_x='RIGHT', new_y='NEXT',\n",
    "         align='L',\n",
    "         fill=False, link='')\n",
    "pdf.cell(70)\n",
    "pdf.set_font('Helvetica', 'B', 8)\n",
    "pdf.cell(w=50, h=5, text=\"Common Size Income Statement\",\n",
    "         border=border_chg,\n",
    "         new_x='RIGHT', new_y='NEXT',\n",
    "         align='L',\n",
    "         fill=False, link='')\n",
    "\n",
    "# Balance Sheet Title\n",
    "pdf.ln(55)\n",
    "pdf.cell(10)\n",
    "pdf.set_font('Helvetica', 'B', 8)\n",
    "pdf.cell(w=25, h=5, text=\"Balance Sheet\",\n",
    "         border=border_chg,\n",
    "         new_x='RIGHT', new_y='NEXT',\n",
    "         align='L',\n",
    "         fill=False, link='')\n",
    "pdf.cell(75)\n",
    "pdf.set_font('Helvetica', 'B', 8)\n",
    "pdf.cell(w=50, h=5, text=\"Common Size Balance Sheet\",\n",
    "         border=border_chg,\n",
    "         new_x='RIGHT', new_y='NEXT',\n",
    "         align='L',\n",
    "         fill=False, link='')\n",
    "\n",
    "# Cash Flow Statement Title\n",
    "pdf.ln(65)\n",
    "pdf.cell(50)\n",
    "pdf.set_font('Helvetica', 'B', 8)\n",
    "pdf.cell(w=35, h=5, text=\"Cash Flow Statement\",\n",
    "         border=border_chg,\n",
    "         new_x='RIGHT', new_y='NEXT',\n",
    "         align='L',\n",
    "         fill=False, link='')\n",
    "\n",
    "# Income Statement image\n",
    "pdf.image('images/output/is_table.png', x=13, y=70, h=40)\n",
    "\n",
    "# Common Size Income Statement\n",
    "pdf.image('images/output/is_table_cs.png', x=120, y=70, h=40)\n",
    "\n",
    "# Balance Sheet\n",
    "pdf.image('images/output/bs_table.png', x=13, y=125, h=45)\n",
    "\n",
    "# Common Size Balance Sheet\n",
    "pdf.image('images/output/bs_table_cs.png', x=120, y=125, h=45)\n",
    "\n",
    "# Cash Flow Statement\n",
    "pdf.image('images/output/cf_table.png', x=50, y=190, h=40)\n",
    "\n",
    "print(\"Page 2: Financial Statements Created\\n\")"
   ]
  },
  {
   "cell_type": "markdown",
   "id": "bc33c9c9-998c-4805-9462-2b738b717f53",
   "metadata": {},
   "source": [
    "<a id=\"page3_pdf\"></a>\n",
    "#### Page 3: Internal Company Metrics [*](#index)\n",
    "[PDF section start](#export_pdf)"
   ]
  },
  {
   "cell_type": "code",
   "execution_count": 36,
   "id": "595322c8-a4c1-46a7-8785-418a2af2a8af",
   "metadata": {
    "tags": []
   },
   "outputs": [
    {
     "name": "stdout",
     "output_type": "stream",
     "text": [
      "Page 3: Internal Company Metrics Created\n",
      "\n"
     ]
    }
   ],
   "source": [
    "# Page 3: Internal Company Metrics\n",
    "pdf.add_page()\n",
    "\n",
    "# Title\n",
    "pdf.set_font('Helvetica', 'B', 11)\n",
    "pdf.ln(10)\n",
    "pdf.cell(w=45, h=5,\n",
    "         text=\" Financial Summary:\",\n",
    "         border=border_chg,\n",
    "         new_x='LMARGIN', new_y='NEXT',\n",
    "         align='L')\n",
    "\n",
    "# Debt Ratios Table\n",
    "pdf.ln(10)\n",
    "pdf.cell(20)\n",
    "pdf.set_font('Helvetica', 'B', 8)\n",
    "pdf.cell(w=20, h=5, text=\"Debt Ratios\",\n",
    "         border=border_chg,\n",
    "         new_x='RIGHT', new_y='NEXT',\n",
    "         align='R',\n",
    "         fill=False, link='')\n",
    "\n",
    "# Profit Ratios Table\n",
    "pdf.ln(60)\n",
    "pdf.cell(20)\n",
    "pdf.set_font('Helvetica', 'B', 8)\n",
    "pdf.cell(w=20, h=5, text=\"Profit Ratios\",\n",
    "         border=border_chg,\n",
    "         new_x='RIGHT', new_y='NEXT',\n",
    "         align='R',\n",
    "         fill=False, link='')\n",
    "\n",
    "# Efficiency Ratios Table\n",
    "pdf.ln(55)\n",
    "pdf.cell(20)\n",
    "pdf.set_font('Helvetica', 'B', 8)\n",
    "pdf.cell(w=20, h=5, text=\"Efficiency Ratios\",\n",
    "         border=border_chg,\n",
    "         new_x='RIGHT', new_y='NEXT',\n",
    "         align='R',\n",
    "         fill=False, link='')\n",
    "\n",
    "# Main metrics table\n",
    "pdf.image('images/output/debt_ratios_table.png', x=60, y=60, h=45)\n",
    "pdf.image('images/output/profit_ratios_table.png', x=57, y=120, h=45)\n",
    "pdf.image('images/output/efficiency_ratios_table.png', x=50, y=180, h=60)\n",
    "\n",
    "print(\"Page 3: Internal Company Metrics Created\\n\")"
   ]
  },
  {
   "cell_type": "markdown",
   "id": "ce8bbaa1-bd1a-44d1-a532-501adbadafd4",
   "metadata": {},
   "source": [
    "<a id=\"page4_pdf\"></a>\n",
    "#### Page 4: Market Ratios [*](#index)\n",
    "[PDF section start](#export_pdf)"
   ]
  },
  {
   "cell_type": "code",
   "execution_count": 37,
   "id": "31104715-933a-4021-b07d-dccf234f54dc",
   "metadata": {},
   "outputs": [
    {
     "name": "stdout",
     "output_type": "stream",
     "text": [
      "Page 4: Market Ratios Created\n",
      "\n"
     ]
    }
   ],
   "source": [
    "# Page 4: Market Ratios\n",
    "pdf.add_page()\n",
    "\n",
    "# Title\n",
    "pdf.set_font('Helvetica', 'B', 11)\n",
    "pdf.ln(10)\n",
    "pdf.cell(w=45, h=5,\n",
    "         text=\" Financial Summary:\",\n",
    "         border=border_chg,\n",
    "         new_x='LMARGIN', new_y='NEXT',\n",
    "         align='L')\n",
    "\n",
    "# Market Ratios Table\n",
    "pdf.ln(10)\n",
    "pdf.cell(20)\n",
    "pdf.set_font('Helvetica', 'B', 8)\n",
    "pdf.cell(w=20, h=5, text=\"Market Ratios\",\n",
    "         border=border_chg,\n",
    "         new_x='RIGHT', new_y='NEXT',\n",
    "         align='R',\n",
    "         fill=False, link='')\n",
    "\n",
    "# Key Metrics Table\n",
    "pdf.ln(75)\n",
    "pdf.cell(20)\n",
    "pdf.set_font('Helvetica', 'B', 8)\n",
    "pdf.cell(w=20, h=5, text=\"Key Metrics\",\n",
    "         border=border_chg,\n",
    "         new_x='RIGHT', new_y='NEXT',\n",
    "         align='R',\n",
    "         fill=False, link='')\n",
    "\n",
    "# Main metrics table\n",
    "pdf.image('images/output/market_ratios_table.png', x=50, y=65, h=50)\n",
    "pdf.image('images/output/key_metrics_table.png', x=55, y=140, h=50)\n",
    "\n",
    "print(\"Page 4: Market Ratios Created\\n\")"
   ]
  },
  {
   "cell_type": "markdown",
   "id": "10ad9986-a11b-457e-b2e7-405f895cad58",
   "metadata": {},
   "source": [
    "<a id=\"page5_pdf\"></a>\n",
    "#### Page 5: Financial Statement Graphs [*](#index)\n",
    "[PDF section start](#export_pdf)"
   ]
  },
  {
   "cell_type": "code",
   "execution_count": 38,
   "id": "20c55a5a-8312-44ed-9076-a937cf4c214d",
   "metadata": {
    "tags": []
   },
   "outputs": [
    {
     "name": "stdout",
     "output_type": "stream",
     "text": [
      "Page 5: Financial Statement Graphs created\n",
      "\n"
     ]
    }
   ],
   "source": [
    "# Page 5: Financial Statement Graphs\n",
    "pdf.add_page()\n",
    "\n",
    "# Income Statement Graph\n",
    "pdf.image('images/output/is_graph.png', x=30, y=35, h=80)\n",
    "\n",
    "# Balance Sheet Graph\n",
    "pdf.image('images/output/bs_graph.png', x=30, y=105, h=80)\n",
    "\n",
    "# Cash Flow Statement Graph\n",
    "pdf.image('images/output/cf_graph.png', x=30, y=175, h=80)\n",
    "\n",
    "print(\"Page 5: Financial Statement Graphs created\\n\")"
   ]
  },
  {
   "cell_type": "markdown",
   "id": "1000dd48-a86e-4f21-a0ef-45c4dc9184ab",
   "metadata": {},
   "source": [
    "<a id=\"page6_pdf\"></a>\n",
    "#### Page 6: Common Size Financial Statement Graphs [*](#index)\n",
    "[PDF section start](#export_pdf)"
   ]
  },
  {
   "cell_type": "code",
   "execution_count": 39,
   "id": "403faee3-8d39-4609-9d70-22a62deb0490",
   "metadata": {
    "tags": []
   },
   "outputs": [
    {
     "name": "stdout",
     "output_type": "stream",
     "text": [
      "Page 6: Common Size Financial Statement Graphs Created\n",
      "\n"
     ]
    }
   ],
   "source": [
    "# Page 6: Common Size Financial Statement Graphs\n",
    "pdf.add_page()\n",
    "\n",
    "# Common Size Income Statement Graph\n",
    "pdf.image('images/output/is_graph_cs.png', x=30, y=35, h=80)\n",
    "\n",
    "# Common Size Balance Sheet Graph\n",
    "pdf.image('images/output/bs_graph_cs.png', x=30, y=105, h=80)\n",
    "\n",
    "# Common Size Cash Flow Statement Graph\n",
    "pdf.image('images/output/equity_graph.png', x=30, y=175, h=80)\n",
    "\n",
    "print(\"Page 6: Common Size Financial Statement Graphs Created\\n\")"
   ]
  },
  {
   "cell_type": "markdown",
   "id": "db49006a-0a7c-4101-a47e-c07e654e1a0f",
   "metadata": {},
   "source": [
    "<a id=\"save_output_pdf\"></a>\n",
    "#### Save Output as PDF [*](#index)\n",
    "[PDF section start](#export_pdf)"
   ]
  },
  {
   "cell_type": "code",
   "execution_count": 40,
   "id": "8a37f43c-23ac-4876-b65a-4643764b8bfe",
   "metadata": {},
   "outputs": [
    {
     "name": "stdout",
     "output_type": "stream",
     "text": [
      "Saved output as PDF\n",
      "\n",
      "Script executed successfully\n",
      "\n"
     ]
    }
   ],
   "source": [
    "# Save output as PDF\n",
    "pdf.output('files/'+company_symbol + \" \" + today.strftime(\"%Y-%m-%d\") + \".pdf\")\n",
    "\n",
    "print(\"Saved output as PDF\\n\")\n",
    "print(\"Script executed successfully\\n\")"
   ]
  },
  {
   "cell_type": "markdown",
   "id": "c58b34bd-ff6c-48b5-8cb7-6b5852b5e06a",
   "metadata": {},
   "source": [
    "[Go to Ticker](#ticker)\n",
    "\n",
    "[PDF section start](#export_pdf)"
   ]
  }
 ],
 "metadata": {
  "kernelspec": {
   "display_name": ".venv",
   "language": "python",
   "name": "python3"
  },
  "language_info": {
   "codemirror_mode": {
    "name": "ipython",
    "version": 3
   },
   "file_extension": ".py",
   "mimetype": "text/x-python",
   "name": "python",
   "nbconvert_exporter": "python",
   "pygments_lexer": "ipython3",
   "version": "3.13.2"
  }
 },
 "nbformat": 4,
 "nbformat_minor": 5
}

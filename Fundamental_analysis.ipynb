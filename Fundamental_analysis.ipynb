{
 "cells": [
  {
   "cell_type": "markdown",
   "id": "bfaa4a05",
   "metadata": {},
   "source": [
    "<a id=\"index\"></a>\n",
    "# Index\n",
    "\n",
    "Initialize:\n",
    "- [Define company ticker](#ticker)\n",
    "- [Import python modules](#imports)\n",
    "- [Remove previous files](#remove_previous_files)\n",
    "\n",
    "Import Data:\n",
    "- [Import data from Financial Modeling Prep](#fmp_import)\n",
    "- [Filter dataframe for selected period and sort descending](#filter_df2)\n",
    "- [Get company currency](#get_company_currency)\n",
    "- [Download the company image](#download_company_image)\n",
    "\n",
    "Process Data\n",
    "- [Create  graphs:](#graph_df)\n",
    "    - [[Graph] Balance Sheet: Nominal and Common size](#bs_graph)\n",
    "    - [[Graph] Income Statement: Nominal and Common size](#is_graph)\n",
    "    - [[Graph] Cash Flow Statement](#CF_graph)\n",
    "    - [[DataFrame] Equity Uses](#equity_uses_table)\n",
    "    - [[Graph] Equity Uses](#equity_uses)\n",
    "\n",
    "- [Create financial statements:](#statements)\n",
    "    - [[Table] Income statement](#table_is)\n",
    "    - [[Table] Common size income statement](#table_cs_is)\n",
    "    - [[Table] Balance Sheet](#table_bs)\n",
    "    - [[Table] Common Size Balance Sheet ](#table_cs_bs)\n",
    "    - [[Table] Cash Flow Statement ](#table_cf)\n",
    "    \n",
    " - [Create Key Metrics tables](#metrics)\n",
    "    - [[Table] Market Ratios ](#table_market)\n",
    "    - [[Table] Debt, Liquidity and Solvency Ratios ](#table_debt)\n",
    "    - [[Table] Profit Ratios ](#table_profit)\n",
    "    - [[Table] Efficiency Ratios ](#table_efficiency)\n",
    "    - [[Table] Key Metrics ](#table_metrics)\n",
    "\n",
    "Outputs\n",
    "- [Exporting as a PDF file](#export_pdf)\n",
    "    - [PDF Variables](#variables_pdf)\n",
    "    - [Defining Classes ](#defining_classes_pdf)\n",
    "    - [Instantiation of Class  ](#class_instantiation_pdf)\n",
    "    - [Page 1: Company Description ](#page1_pdf)\n",
    "    - [Page 2: Financial Statements ](#page2_pdf)\n",
    "    - [Page 3: Internal Company Metrics ](#page3_pdf)\n",
    "    - [Page 4: Market Ratios ](#page4_pdf)\n",
    "    - [Page 5: Financial Statement Graphs ](#page5_pdf)\n",
    "    - [Page 6: Common Size Financial Statement Graphs](#page6_pdf)\n",
    "    - [Save output as PDF ](#save_output_pdf)"
   ]
  },
  {
   "cell_type": "markdown",
   "id": "7f7465bb-f1e1-40b1-a393-e984fc80de30",
   "metadata": {},
   "source": [
    "# Initialize"
   ]
  },
  {
   "cell_type": "markdown",
   "id": "684e12f6-b33d-481c-ac61-6a5d1127efba",
   "metadata": {
    "tags": []
   },
   "source": [
    "<a id=\"ticker\"></a>\n",
    "### Define company ticker [*](#index)"
   ]
  },
  {
   "cell_type": "code",
   "execution_count": 1,
   "id": "830e306d-be1d-47ea-bd13-443b8d714ac5",
   "metadata": {
    "tags": []
   },
   "outputs": [
    {
     "name": "stdout",
     "output_type": "stream",
     "text": [
      "\n",
      "Company report for: XOM\n",
      "Years Analyzed: 5\n"
     ]
    }
   ],
   "source": [
    "# Define company ticker\n",
    "company = \"XOM\"\n",
    "print(\"\\nCompany report for: \"+company)\n",
    "\n",
    "# Define years to analyse company\n",
    "years = 5\n",
    "print(\"Years Analyzed: \"+str(years))"
   ]
  },
  {
   "cell_type": "markdown",
   "id": "f6f7cc2a-733b-46d3-a9eb-44544ef8a9f6",
   "metadata": {},
   "source": [
    "<a id=\"imports\"></a>\n",
    "### Import python modules [*](#index)"
   ]
  },
  {
   "cell_type": "code",
   "execution_count": 2,
   "id": "2aebac69-8f59-4308-945f-a1d0df5c5eff",
   "metadata": {},
   "outputs": [
    {
     "name": "stdout",
     "output_type": "stream",
     "text": [
      "Python modules imported.\n",
      "\n",
      "Displaying Max Rows in Pandas.\n",
      "\n"
     ]
    }
   ],
   "source": [
    "# Import python modules\n",
    "import os\n",
    "import shutil\n",
    "import requests\n",
    "import pandas as pd\n",
    "import datetime as dt\n",
    "from fpdf import FPDF\n",
    "from PIL import Image\n",
    "import dataframe_image as dfi\n",
    "import plotly.graph_objects as go\n",
    "\n",
    "print(\"Python modules imported.\\n\")\n",
    "\n",
    "# Display full pandas data frame\n",
    "pd.set_option(\"display.max_rows\", None, \"display.max_columns\", None)\n",
    "print(\"Displaying Max Rows in Pandas.\\n\")"
   ]
  },
  {
   "cell_type": "markdown",
   "id": "ffa442fa-966e-4c74-83ff-cf6775387c59",
   "metadata": {},
   "source": [
    "<a id=\"remove_previous_files\"></a>\n",
    "### Remove previous files [*](#index)\n"
   ]
  },
  {
   "cell_type": "code",
   "execution_count": 3,
   "id": "45c89c76-5f5f-4cce-8568-bc82ae01b345",
   "metadata": {},
   "outputs": [
    {
     "name": "stdout",
     "output_type": "stream",
     "text": [
      "\n",
      " All Previous files removed.\n",
      "\n"
     ]
    }
   ],
   "source": [
    "# Remove previous files\n",
    "# To make sure report does not contain images from another company\n",
    "shutil.rmtree('images/output')\n",
    "os.makedirs('images/output')\n",
    "print(\"\\n All Previous files removed.\\n\")"
   ]
  },
  {
   "cell_type": "markdown",
   "id": "65c79938-d402-4724-92da-ead7ac86742a",
   "metadata": {},
   "source": [
    "# Import Data:"
   ]
  },
  {
   "cell_type": "markdown",
   "id": "6d8de668",
   "metadata": {},
   "source": [
    "<a id=\"fmp_import\"></a>\n",
    "### Importing data from Financial Modeling Prep [*](#index)"
   ]
  },
  {
   "cell_type": "code",
   "execution_count": 4,
   "id": "66088f30",
   "metadata": {},
   "outputs": [],
   "source": [
    "# Importing data from Financial Modeling Prep\n",
    "\n",
    "# Financial Modeling Prep API Key\n",
    "api = os.environ.get(\"token_finmodelprep\")\n",
    "\n",
    "www = 'https://financialmodelingprep.com/api/v3'\n",
    "www4 = 'https://financialmodelingprep.com/api/v4'\n",
    "is_www = '/income-statement/'\n",
    "bs_www = '/balance-sheet-statement/'\n",
    "cf_www = '/cash-flow-statement/'\n",
    "r_www = '/ratios/'\n",
    "km_www = '/key-metrics/'\n",
    "p_www = '/profile/'\n",
    "rtg_www = '/rating/'\n",
    "es_www = '/earnings-surprises/'\n",
    "# sp_www = \"/stock_peers\"\n",
    "\n",
    "# Data to Import\n",
    "IS = requests.get(f'{www}{is_www}{company}?apikey={api}').json()\n",
    "BS = requests.get(f'{www}{bs_www}{company}?apikey={api}').json()\n",
    "CF = requests.get(f'{www}{cf_www}{company}?apikey={api}').json()\n",
    "Ratios = requests.get(f'{www}{r_www}{company}?apikey={api}').json()\n",
    "Metrics = requests.get(f'{www}{km_www}{company}?apikey={api}').json()\n",
    "Profile = requests.get(f'{www}{p_www}{company}?apikey={api}').json()\n",
    "Rating = requests.get(f'{www}{rtg_www}{company}?apikey={api}').json()\n",
    "Surprises = requests.get(f'{www}{es_www}{company}?apikey={api}').json()\n",
    "# Peers = requests.get(f'{www4}{sp_www}?symbol={company}&apikey={api}').json()\n",
    "# Stock peers is an endpoint for a paid plan so its commented out. \n",
    "\n"
   ]
  },
  {
   "cell_type": "code",
   "execution_count": 5,
   "id": "8277e59d",
   "metadata": {},
   "outputs": [
    {
     "name": "stdout",
     "output_type": "stream",
     "text": [
      "[{'date': '2024-12-31', 'symbol': 'XOM', 'reportedCurrency': 'USD', 'cik': '0000034088', 'fillingDate': '2025-02-19', 'acceptedDate': '2025-02-19 16:39:37', 'calendarYear': '2024', 'period': 'FY', 'revenue': 349585000000, 'costOfRevenue': 239063000000, 'grossProfit': 110522000000, 'grossProfitRatio': 0.3161520088, 'researchAndDevelopmentExpenses': 0, 'generalAndAdministrativeExpenses': 9976000000, 'sellingAndMarketingExpenses': 0, 'sellingGeneralAndAdministrativeExpenses': 9976000000, 'otherExpenses': 51673000000, 'operatingExpenses': 76742000000, 'costAndExpenses': 300712000000, 'interestIncome': 0, 'interestExpense': 996000000, 'depreciationAndAmortization': 23442000000, 'ebitda': 73311000000, 'ebitdaratio': 0.2097086545, 'operatingIncome': 48873000000, 'operatingIncomeRatio': 0.1398029092, 'totalOtherIncomeExpensesNet': 0, 'incomeBeforeTax': 48873000000, 'incomeBeforeTaxRatio': 0.1398029092, 'incomeTaxExpense': 13810000000, 'netIncome': 33680000000, 'netIncomeRatio': 0.0963428065, 'eps': 7.84, 'epsdiluted': 7.84, 'weightedAverageShsOut': 4298000000, 'weightedAverageShsOutDil': 4298000000, 'link': 'https://www.sec.gov/Archives/edgar/data/34088/000003408825000010/0000034088-25-000010-index.htm', 'finalLink': 'https://www.sec.gov/Archives/edgar/data/34088/000003408825000010/xom-20241231.htm'}, {'date': '2023-12-31', 'symbol': 'XOM', 'reportedCurrency': 'USD', 'cik': '0000034088', 'fillingDate': '2023-12-31', 'acceptedDate': '2023-12-29 19:00:00', 'calendarYear': '2023', 'period': 'FY', 'revenue': 334697000000, 'costOfRevenue': 251385000000, 'grossProfit': 83312000000, 'grossProfitRatio': 0.2489176778, 'researchAndDevelopmentExpenses': 879000000, 'generalAndAdministrativeExpenses': 9919000000, 'sellingAndMarketingExpenses': 0, 'sellingGeneralAndAdministrativeExpenses': 9919000000, 'otherExpenses': 74223000000, 'operatingExpenses': 84142000000, 'costAndExpenses': 284661000000, 'interestIncome': 0, 'interestExpense': 849000000, 'depreciationAndAmortization': 20641000000, 'ebitda': 74273000000, 'ebitdaratio': 0.2219111614, 'operatingIncome': 50643000000, 'operatingIncomeRatio': 0.1513099908, 'totalOtherIncomeExpensesNet': 2140000000, 'incomeBeforeTax': 52783000000, 'incomeBeforeTaxRatio': 0.1577038336, 'incomeTaxExpense': 15429000000, 'netIncome': 36010000000, 'netIncomeRatio': 0.1075898499, 'eps': 8.89, 'epsdiluted': 8.89, 'weightedAverageShsOut': 4050618673, 'weightedAverageShsOutDil': 4052000000, 'link': 'https://www.sec.gov/Archives/edgar/data/34088/000003408824000018/0000034088-24-000018-index.html', 'finalLink': 'https://www.sec.gov/Archives/edgar/data/34088/000003408824000018/0000034088-24-000018-index.html'}, {'date': '2022-12-31', 'symbol': 'XOM', 'reportedCurrency': 'USD', 'cik': '0000034088', 'fillingDate': '2023-02-22', 'acceptedDate': '2023-02-22 16:37:14', 'calendarYear': '2022', 'period': 'FY', 'revenue': 402217000000, 'costOfRevenue': 268502000000, 'grossProfit': 133715000000, 'grossProfitRatio': 0.332444924, 'researchAndDevelopmentExpenses': 824000000, 'generalAndAdministrativeExpenses': 10577000000, 'sellingAndMarketingExpenses': 555000000, 'sellingGeneralAndAdministrativeExpenses': 11132000000, 'otherExpenses': 3542000000, 'operatingExpenses': 55164000000, 'costAndExpenses': 323666000000, 'interestIncome': 798000000, 'interestExpense': 798000000, 'depreciationAndAmortization': 24040000000, 'ebitda': 102591000000, 'ebitdaratio': 0.2265642675, 'operatingIncome': 71588000000, 'operatingIncomeRatio': 0.1779835263, 'totalOtherIncomeExpensesNet': 0, 'incomeBeforeTax': 77753000000, 'incomeBeforeTaxRatio': 0.1933110734, 'incomeTaxExpense': 20176000000, 'netIncome': 55740000000, 'netIncomeRatio': 0.1385819098, 'eps': 13.26, 'epsdiluted': 13.26, 'weightedAverageShsOut': 4205000000, 'weightedAverageShsOutDil': 4205000000, 'link': 'https://www.sec.gov/Archives/edgar/data/34088/000003408823000020/0000034088-23-000020-index.htm', 'finalLink': 'https://www.sec.gov/Archives/edgar/data/34088/000003408823000020/xom-20221231.htm'}, {'date': '2021-12-31', 'symbol': 'XOM', 'reportedCurrency': 'USD', 'cik': '0000034088', 'fillingDate': '2022-02-23', 'acceptedDate': '2022-02-23 16:11:16', 'calendarYear': '2021', 'period': 'FY', 'revenue': 278981000000, 'costOfRevenue': 188936000000, 'grossProfit': 90045000000, 'grossProfitRatio': 0.3227639158, 'researchAndDevelopmentExpenses': 843000000, 'generalAndAdministrativeExpenses': 10360000000, 'sellingAndMarketingExpenses': 543000000, 'sellingGeneralAndAdministrativeExpenses': 10903000000, 'otherExpenses': 1505000000, 'operatingExpenses': 57864000000, 'costAndExpenses': 246800000000, 'interestIncome': 947000000, 'interestExpense': 947000000, 'depreciationAndAmortization': 20607000000, 'ebitda': 52788000000, 'ebitdaratio': 0.1655560773, 'operatingIncome': 26780000000, 'operatingIncomeRatio': 0.0959922002, 'totalOtherIncomeExpensesNet': 6353000000, 'incomeBeforeTax': 31234000000, 'incomeBeforeTaxRatio': 0.1119574451, 'incomeTaxExpense': 7636000000, 'netIncome': 23040000000, 'netIncomeRatio': 0.0825862693, 'eps': 5.39, 'epsdiluted': 5.39, 'weightedAverageShsOut': 4275000000, 'weightedAverageShsOutDil': 4275000000, 'link': 'https://www.sec.gov/Archives/edgar/data/34088/000003408822000011/0000034088-22-000011-index.htm', 'finalLink': 'https://www.sec.gov/Archives/edgar/data/34088/000003408822000011/xom-20211231.htm'}, {'date': '2020-12-31', 'symbol': 'XOM', 'reportedCurrency': 'USD', 'cik': '0000034088', 'fillingDate': '2021-02-24', 'acceptedDate': '2021-02-24 17:01:02', 'calendarYear': '2020', 'period': 'FY', 'revenue': 179784000000, 'costOfRevenue': 122627000000, 'grossProfit': 57157000000, 'grossProfitRatio': 0.3179203934, 'researchAndDevelopmentExpenses': 1016000000, 'generalAndAdministrativeExpenses': 11373000000, 'sellingAndMarketingExpenses': 343000000, 'sellingGeneralAndAdministrativeExpenses': 11716000000, 'otherExpenses': -9000000, 'operatingExpenses': 84882000000, 'costAndExpenses': 207509000000, 'interestIncome': 1158000000, 'interestExpense': 1158000000, 'depreciationAndAmortization': 20709000000, 'ebitda': -7016000000, 'ebitdaratio': 0.0946469096, 'operatingIncome': -3982000000, 'operatingIncomeRatio': -0.0221488008, 'totalOtherIncomeExpensesNet': -24901000000, 'incomeBeforeTax': -28883000000, 'incomeBeforeTaxRatio': -0.1606538958, 'incomeTaxExpense': 5632000000, 'netIncome': -22440000000, 'netIncomeRatio': -0.1248164464, 'eps': -5.25, 'epsdiluted': -5.25, 'weightedAverageShsOut': 4271000000, 'weightedAverageShsOutDil': 4271000000, 'link': 'https://www.sec.gov/Archives/edgar/data/34088/000003408821000012/0000034088-21-000012-index.htm', 'finalLink': 'https://www.sec.gov/Archives/edgar/data/34088/000003408821000012/xom-20201231.htm'}]\n",
      "[{'date': '2024-12-31', 'symbol': 'XOM', 'reportedCurrency': 'USD', 'cik': '0000034088', 'fillingDate': '2025-01-31', 'acceptedDate': '2025-01-31 06:31:20', 'calendarYear': '2024', 'period': 'FY', 'cashAndCashEquivalents': 23187000000, 'shortTermInvestments': None, 'cashAndShortTermInvestments': 23187000000, 'netReceivables': 43681000000, 'inventory': None, 'otherCurrentAssets': 25122000000, 'totalCurrentAssets': 91990000000, 'propertyPlantEquipmentNet': 294318000000, 'goodwill': None, 'intangibleAssets': 19967000000, 'goodwillAndIntangibleAssets': 19967000000, 'longTermInvestments': 47200000000, 'taxAssets': None, 'otherNonCurrentAssets': None, 'totalNonCurrentAssets': 361485000000, 'otherAssets': 0, 'totalAssets': 453475000000, 'accountPayables': None, 'shortTermDebt': 4955000000, 'taxPayables': None, 'deferredRevenue': None, 'otherCurrentLiabilities': 65352000000, 'totalCurrentLiabilities': 70307000000, 'longTermDebt': 63820000000, 'deferredRevenueNonCurrent': None, 'deferredTaxLiabilitiesNonCurrent': 39042000000, 'otherNonCurrentLiabilities': 9700000000, 'totalNonCurrentLiabilities': 112562000000, 'otherLiabilities': 0, 'capitalLeaseObligations': 0, 'totalLiabilities': 182869000000, 'preferredStock': 0, 'commonStock': None, 'retainedEarnings': 470903000000, 'accumulatedOtherComprehensiveIncomeLoss': -14619000000, 'othertotalStockholdersEquity': -185678000000, 'totalStockholdersEquity': 270606000000, 'totalEquity': 277507000000, 'totalLiabilitiesAndStockholdersEquity': 453475000000, 'minorityInterest': 6901000000, 'totalLiabilitiesAndTotalEquity': 453475000000, 'totalInvestments': 47200000000, 'totalDebt': 68775000000, 'netDebt': 45588000000, 'link': None, 'finalLink': None}, {'date': '2023-12-31', 'symbol': 'XOM', 'reportedCurrency': 'USD', 'cik': '0000034088', 'fillingDate': '2023-12-31', 'acceptedDate': '2023-12-29 19:00:00', 'calendarYear': '2023', 'period': 'FY', 'cashAndCashEquivalents': 31568000000, 'shortTermInvestments': -29000000, 'cashAndShortTermInvestments': 31539000000, 'netReceivables': 38015000000, 'inventory': 25120000000, 'otherCurrentAssets': 1935000000, 'totalCurrentAssets': 96609000000, 'propertyPlantEquipmentNet': 214940000000, 'goodwill': 0, 'intangibleAssets': 0, 'goodwillAndIntangibleAssets': 0, 'longTermInvestments': 47630000000, 'taxAssets': 0, 'otherNonCurrentAssets': 17138000000, 'totalNonCurrentAssets': 279708000000, 'otherAssets': 0, 'totalAssets': 376317000000, 'accountPayables': 31249000000, 'shortTermDebt': 3995000000, 'taxPayables': 3189000000, 'deferredRevenue': 0, 'otherCurrentLiabilities': 26883000000, 'totalCurrentLiabilities': 65316000000, 'longTermDebt': 37483000000, 'deferredRevenueNonCurrent': 4514000000, 'deferredTaxLiabilitiesNonCurrent': 24452000000, 'otherNonCurrentLiabilities': 36528000000, 'totalNonCurrentLiabilities': 98463000000, 'otherLiabilities': 0, 'capitalLeaseObligations': 3838000000, 'totalLiabilities': 163779000000, 'preferredStock': 0, 'commonStock': 17781000000, 'retainedEarnings': 453927000000, 'accumulatedOtherComprehensiveIncomeLoss': -11989000000, 'othertotalStockholdersEquity': -254917000000, 'totalStockholdersEquity': 204802000000, 'totalEquity': 212538000000, 'totalLiabilitiesAndStockholdersEquity': 376317000000, 'minorityInterest': 7736000000, 'totalLiabilitiesAndTotalEquity': 376317000000, 'totalInvestments': 47630000000, 'totalDebt': 47709000000, 'netDebt': 16141000000, 'link': 'https://www.sec.gov/Archives/edgar/data/34088/000003408824000018/0000034088-24-000018-index.html', 'finalLink': 'https://www.sec.gov/Archives/edgar/data/34088/000003408824000018/0000034088-24-000018-index.html'}, {'date': '2022-12-31', 'symbol': 'XOM', 'reportedCurrency': 'USD', 'cik': '0000034088', 'fillingDate': '2023-02-22', 'acceptedDate': '2023-02-22 16:37:14', 'calendarYear': '2022', 'period': 'FY', 'cashAndCashEquivalents': 29640000000, 'shortTermInvestments': 0, 'cashAndShortTermInvestments': 29640000000, 'netReceivables': 41749000000, 'inventory': 24435000000, 'otherCurrentAssets': 1807000000, 'totalCurrentAssets': 97631000000, 'propertyPlantEquipmentNet': 204692000000, 'goodwill': 0, 'intangibleAssets': 16951000000, 'goodwillAndIntangibleAssets': 16951000000, 'longTermInvestments': 49793000000, 'taxAssets': 22874000000, 'otherNonCurrentAssets': -22874000000, 'totalNonCurrentAssets': 271436000000, 'otherAssets': 0, 'totalAssets': 369067000000, 'accountPayables': 33169000000, 'shortTermDebt': 634000000, 'taxPayables': 5214000000, 'deferredRevenue': -57983000000, 'otherCurrentLiabilities': 30028000000, 'totalCurrentLiabilities': 69045000000, 'longTermDebt': 44752000000, 'deferredRevenueNonCurrent': 12383000000, 'deferredTaxLiabilitiesNonCurrent': 22874000000, 'otherNonCurrentLiabilities': 29923000000, 'totalNonCurrentLiabilities': 97549000000, 'otherLiabilities': 0, 'capitalLeaseObligations': 5582000000, 'totalLiabilities': 166594000000, 'preferredStock': 0, 'commonStock': 15752000000, 'retainedEarnings': 432860000000, 'accumulatedOtherComprehensiveIncomeLoss': -13270000000, 'othertotalStockholdersEquity': -240293000000, 'totalStockholdersEquity': 195049000000, 'totalEquity': 202473000000, 'totalLiabilitiesAndStockholdersEquity': 369067000000, 'minorityInterest': 7424000000, 'totalLiabilitiesAndTotalEquity': 369067000000, 'totalInvestments': 49793000000, 'totalDebt': 41193000000, 'netDebt': 11553000000, 'link': 'https://www.sec.gov/Archives/edgar/data/34088/000003408823000020/0000034088-23-000020-index.htm', 'finalLink': 'https://www.sec.gov/Archives/edgar/data/34088/000003408823000020/xom-20221231.htm'}, {'date': '2021-12-31', 'symbol': 'XOM', 'reportedCurrency': 'USD', 'cik': '0000034088', 'fillingDate': '2022-02-23', 'acceptedDate': '2022-02-23 16:11:16', 'calendarYear': '2021', 'period': 'FY', 'cashAndCashEquivalents': 6802000000, 'shortTermInvestments': 0, 'cashAndShortTermInvestments': 6802000000, 'netReceivables': 32383000000, 'inventory': 18780000000, 'otherCurrentAssets': 1189000000, 'totalCurrentAssets': 59154000000, 'propertyPlantEquipmentNet': 216552000000, 'goodwill': 0, 'intangibleAssets': 18022000000, 'goodwillAndIntangibleAssets': 18022000000, 'longTermInvestments': 45195000000, 'taxAssets': 20165000000, 'otherNonCurrentAssets': -20165000000, 'totalNonCurrentAssets': 279769000000, 'otherAssets': 0, 'totalAssets': 338923000000, 'accountPayables': 26623000000, 'shortTermDebt': 4276000000, 'taxPayables': 5497000000, 'deferredRevenue': 0, 'otherCurrentLiabilities': 20247000000, 'totalCurrentLiabilities': 56643000000, 'longTermDebt': 47382000000, 'deferredRevenueNonCurrent': 21287000000, 'deferredTaxLiabilitiesNonCurrent': 20165000000, 'otherNonCurrentLiabilities': 39050000000, 'totalNonCurrentLiabilities': 106597000000, 'otherLiabilities': 0, 'capitalLeaseObligations': 5715000000, 'totalLiabilities': 163240000000, 'preferredStock': 0, 'commonStock': 15746000000, 'retainedEarnings': 392059000000, 'accumulatedOtherComprehensiveIncomeLoss': -13764000000, 'othertotalStockholdersEquity': -225464000000, 'totalStockholdersEquity': 168577000000, 'totalEquity': 175683000000, 'totalLiabilitiesAndStockholdersEquity': 338923000000, 'minorityInterest': 7106000000, 'totalLiabilitiesAndTotalEquity': 338923000000, 'totalInvestments': 45195000000, 'totalDebt': 47704000000, 'netDebt': 40902000000, 'link': 'https://www.sec.gov/Archives/edgar/data/34088/000003408822000011/0000034088-22-000011-index.htm', 'finalLink': 'https://www.sec.gov/Archives/edgar/data/34088/000003408822000011/xom-20211231.htm'}, {'date': '2020-12-31', 'symbol': 'XOM', 'reportedCurrency': 'USD', 'cik': '0000034088', 'fillingDate': '2021-02-24', 'acceptedDate': '2021-02-24 17:01:02', 'calendarYear': '2020', 'period': 'FY', 'cashAndCashEquivalents': 4364000000, 'shortTermInvestments': 0, 'cashAndShortTermInvestments': 4364000000, 'netReceivables': 20581000000, 'inventory': 18850000000, 'otherCurrentAssets': 1098000000, 'totalCurrentAssets': 44893000000, 'propertyPlantEquipmentNet': 227553000000, 'goodwill': 0, 'intangibleAssets': 16789000000, 'goodwillAndIntangibleAssets': 16789000000, 'longTermInvestments': 43515000000, 'taxAssets': 18165000000, 'otherNonCurrentAssets': -18165000000, 'totalNonCurrentAssets': 287857000000, 'otherAssets': 0, 'totalAssets': 332750000000, 'accountPayables': 17499000000, 'shortTermDebt': 20458000000, 'taxPayables': 4092000000, 'deferredRevenue': 0, 'otherCurrentLiabilities': 14314000000, 'totalCurrentLiabilities': 56363000000, 'longTermDebt': 51311000000, 'deferredRevenueNonCurrent': 25668000000, 'deferredTaxLiabilitiesNonCurrent': 18165000000, 'otherNonCurrentLiabilities': 42781000000, 'totalNonCurrentLiabilities': 112257000000, 'otherLiabilities': 0, 'capitalLeaseObligations': 5809000000, 'totalLiabilities': 168620000000, 'preferredStock': 0, 'commonStock': 15688000000, 'retainedEarnings': 383943000000, 'accumulatedOtherComprehensiveIncomeLoss': -16705000000, 'othertotalStockholdersEquity': -225776000000, 'totalStockholdersEquity': 157150000000, 'totalEquity': 164130000000, 'totalLiabilitiesAndStockholdersEquity': 332750000000, 'minorityInterest': 6980000000, 'totalLiabilitiesAndTotalEquity': 332750000000, 'totalInvestments': 43515000000, 'totalDebt': 67640000000, 'netDebt': 63276000000, 'link': 'https://www.sec.gov/Archives/edgar/data/34088/000003408821000012/0000034088-21-000012-index.htm', 'finalLink': 'https://www.sec.gov/Archives/edgar/data/34088/000003408821000012/xom-20201231.htm'}]\n",
      "[{'date': '2024-12-31', 'symbol': 'XOM', 'reportedCurrency': 'USD', 'cik': '0000034088', 'fillingDate': '2025-02-19', 'acceptedDate': '2025-02-19 16:39:37', 'calendarYear': '2024', 'period': 'FY', 'netIncome': 35063000000, 'depreciationAndAmortization': 0, 'deferredIncomeTax': -865000000, 'stockBasedCompensation': 0, 'changeInWorkingCapital': 0, 'accountsReceivables': 0, 'inventory': -1812000000, 'accountsPayables': 5627000000, 'otherWorkingCapital': 0, 'otherNonCashItems': 20824000000, 'netCashProvidedByOperatingActivities': 55022000000, 'investmentsInPropertyPlantAndEquipment': -24306000000, 'acquisitionsNet': 0, 'purchasesOfInvestments': -3299000000, 'salesMaturitiesOfInvestments': 4987000000, 'otherInvestingActivites': 2680000000, 'netCashUsedForInvestingActivites': -19938000000, 'debtRepayment': -5012000000, 'commonStockIssued': 0, 'commonStockRepurchased': -19629000000, 'dividendsPaid': -16704000000, 'otherFinancingActivites': -1444000000, 'netCashUsedProvidedByFinancingActivities': -42789000000, 'effectOfForexChangesOnCash': -676000000, 'netChangeInCash': -8381000000, 'cashAtEndOfPeriod': 23187000000, 'cashAtBeginningOfPeriod': 31568000000, 'operatingCashFlow': 55022000000, 'capitalExpenditure': -24306000000, 'freeCashFlow': 30716000000, 'link': 'https://www.sec.gov/Archives/edgar/data/34088/000003408825000010/0000034088-25-000010-index.htm', 'finalLink': 'https://www.sec.gov/Archives/edgar/data/34088/000003408825000010/xom-20241231.htm'}, {'date': '2023-12-31', 'symbol': 'XOM', 'reportedCurrency': 'USD', 'cik': '0000034088', 'fillingDate': '2023-12-31', 'acceptedDate': '2023-12-29 19:00:00', 'calendarYear': '2023', 'period': 'FY', 'netIncome': 36010000000, 'depreciationAndAmortization': 0, 'deferredIncomeTax': 634000000, 'stockBasedCompensation': 611000000, 'changeInWorkingCapital': -4255000000, 'accountsReceivables': 4370000000, 'inventory': -3472000000, 'accountsPayables': -4727000000, 'otherWorkingCapital': -426000000, 'otherNonCashItems': 22369000000, 'netCashProvidedByOperatingActivities': 55369000000, 'investmentsInPropertyPlantAndEquipment': -21919000000, 'acquisitionsNet': 3308000000, 'purchasesOfInvestments': -2995000000, 'salesMaturitiesOfInvestments': 0, 'otherInvestingActivites': 1562000000, 'netCashUsedForInvestingActivites': -20044000000, 'debtRepayment': -239000000, 'commonStockIssued': 0, 'commonStockRepurchased': -17748000000, 'dividendsPaid': -14941000000, 'otherFinancingActivites': -599000000, 'netCashUsedProvidedByFinancingActivities': -33527000000, 'effectOfForexChangesOnCash': 105000000, 'netChangeInCash': 1903000000, 'cashAtEndOfPeriod': 31568000000, 'cashAtBeginningOfPeriod': 29665000000, 'operatingCashFlow': 55369000000, 'capitalExpenditure': -21919000000, 'freeCashFlow': 33450000000, 'link': 'https://www.sec.gov/Archives/edgar/data/34088/000003408824000018/0000034088-24-000018-index.html', 'finalLink': 'https://www.sec.gov/Archives/edgar/data/34088/000003408824000018/0000034088-24-000018-index.html'}, {'date': '2022-12-31', 'symbol': 'XOM', 'reportedCurrency': 'USD', 'cik': '0000034088', 'fillingDate': '2023-02-22', 'acceptedDate': '2023-02-22 16:37:14', 'calendarYear': '2022', 'period': 'FY', 'netIncome': 57577000000, 'depreciationAndAmortization': 24040000000, 'deferredIncomeTax': 3758000000, 'stockBasedCompensation': 648000000, 'changeInWorkingCapital': -194000000, 'accountsReceivables': -11019000000, 'inventory': -6947000000, 'accountsPayables': 18460000000, 'otherWorkingCapital': -688000000, 'otherNonCashItems': -9032000000, 'netCashProvidedByOperatingActivities': 76797000000, 'investmentsInPropertyPlantAndEquipment': -18407000000, 'acquisitionsNet': 3772000000, 'purchasesOfInvestments': -3090000000, 'salesMaturitiesOfInvestments': -3772000000, 'otherInvestingActivites': 6755000000, 'netCashUsedForInvestingActivites': -14742000000, 'debtRepayment': -7220000000, 'commonStockIssued': 0, 'commonStockRepurchased': -15155000000, 'dividendsPaid': -14939000000, 'otherFinancingActivites': -1800000000, 'netCashUsedProvidedByFinancingActivities': -37639000000, 'effectOfForexChangesOnCash': -78000000, 'netChangeInCash': 22863000000, 'cashAtEndOfPeriod': 29665000000, 'cashAtBeginningOfPeriod': 6802000000, 'operatingCashFlow': 76797000000, 'capitalExpenditure': -18407000000, 'freeCashFlow': 58390000000, 'link': 'https://www.sec.gov/Archives/edgar/data/34088/000003408823000020/0000034088-23-000020-index.htm', 'finalLink': 'https://www.sec.gov/Archives/edgar/data/34088/000003408823000020/xom-20221231.htm'}, {'date': '2021-12-31', 'symbol': 'XOM', 'reportedCurrency': 'USD', 'cik': '0000034088', 'fillingDate': '2022-02-23', 'acceptedDate': '2022-02-23 16:11:16', 'calendarYear': '2021', 'period': 'FY', 'netIncome': 23598000000, 'depreciationAndAmortization': 20607000000, 'deferredIncomeTax': 303000000, 'stockBasedCompensation': 612000000, 'changeInWorkingCapital': 4162000000, 'accountsReceivables': -12098000000, 'inventory': -489000000, 'accountsPayables': 16820000000, 'otherWorkingCapital': -71000000, 'otherNonCashItems': -1153000000, 'netCashProvidedByOperatingActivities': 48129000000, 'investmentsInPropertyPlantAndEquipment': -12076000000, 'acquisitionsNet': 2740000000, 'purchasesOfInvestments': -2817000000, 'salesMaturitiesOfInvestments': -2740000000, 'otherInvestingActivites': 4658000000, 'netCashUsedForInvestingActivites': -10235000000, 'debtRepayment': -19654000000, 'commonStockIssued': 0, 'commonStockRepurchased': -155000000, 'dividendsPaid': -14924000000, 'otherFinancingActivites': -690000000, 'netCashUsedProvidedByFinancingActivities': -35423000000, 'effectOfForexChangesOnCash': -33000000, 'netChangeInCash': 2438000000, 'cashAtEndOfPeriod': 6802000000, 'cashAtBeginningOfPeriod': 4364000000, 'operatingCashFlow': 48129000000, 'capitalExpenditure': -12076000000, 'freeCashFlow': 36053000000, 'link': 'https://www.sec.gov/Archives/edgar/data/34088/000003408822000011/0000034088-22-000011-index.htm', 'finalLink': 'https://www.sec.gov/Archives/edgar/data/34088/000003408822000011/xom-20211231.htm'}, {'date': '2020-12-31', 'symbol': 'XOM', 'reportedCurrency': 'USD', 'cik': '0000034088', 'fillingDate': '2021-02-24', 'acceptedDate': '2021-02-24 17:01:02', 'calendarYear': '2020', 'period': 'FY', 'netIncome': -23251000000, 'depreciationAndAmortization': 20709000000, 'deferredIncomeTax': -8856000000, 'stockBasedCompensation': 672000000, 'changeInWorkingCapital': -1653000000, 'accountsReceivables': 5384000000, 'inventory': -315000000, 'accountsPayables': -7142000000, 'otherWorkingCapital': 420000000, 'otherNonCashItems': 27047000000, 'netCashProvidedByOperatingActivities': 14668000000, 'investmentsInPropertyPlantAndEquipment': -17282000000, 'acquisitionsNet': 999000000, 'purchasesOfInvestments': -4857000000, 'salesMaturitiesOfInvestments': 0, 'otherInvestingActivites': 2681000000, 'netCashUsedForInvestingActivites': -18459000000, 'debtRepayment': 20141000000, 'commonStockIssued': 0, 'commonStockRepurchased': -405000000, 'dividendsPaid': -14865000000, 'otherFinancingActivites': 414000000, 'netCashUsedProvidedByFinancingActivities': 5285000000, 'effectOfForexChangesOnCash': -219000000, 'netChangeInCash': 1275000000, 'cashAtEndOfPeriod': 4364000000, 'cashAtBeginningOfPeriod': 3089000000, 'operatingCashFlow': 14668000000, 'capitalExpenditure': -17282000000, 'freeCashFlow': -2614000000, 'link': 'https://www.sec.gov/Archives/edgar/data/34088/000003408821000012/0000034088-21-000012-index.htm', 'finalLink': 'https://www.sec.gov/Archives/edgar/data/34088/000003408821000012/xom-20201231.htm'}]\n",
      "[{'symbol': 'XOM', 'date': '2024-12-31', 'calendarYear': '2024', 'period': 'FY', 'currentRatio': 1.3084045685351386, 'quickRatio': 1.3084045685351386, 'cashRatio': 0.32979646407896795, 'daysOfSalesOutstanding': 45.60711987070383, 'daysOfInventoryOutstanding': 0, 'operatingCycle': 45.60711987070383, 'daysOfPayablesOutstanding': 0, 'cashConversionCycle': 45.60711987070383, 'grossProfitMargin': 0.3161520088104467, 'operatingProfitMargin': 0.1398029091637227, 'pretaxProfitMargin': 0.1398029091637227, 'netProfitMargin': 0.09634280647052934, 'effectiveTaxRate': 0.2825691076872711, 'returnOnAssets': 0.07427090798831247, 'returnOnEquity': 0.12446139405630326, 'returnOnCapitalEmployed': 0.12754979539001168, 'netIncomePerEBT': 0.6891330591533157, 'ebtPerEbit': 1, 'ebitPerRevenue': 0.1398029091637227, 'debtRatio': 0.1516621643971553, 'debtEquityRatio': 0.25415179264317866, 'longTermDebtToCapitalization': 0.19083444469030517, 'totalDebtToCapitalization': 0.20264835096838066, 'interestCoverage': 49.06927710843374, 'cashFlowToDebtRatio': 0.8000290803344239, 'companyEquityMultiplier': 1.6757758512375927, 'receivablesTurnover': 8.003136375082988, 'payablesTurnover': None, 'inventoryTurnover': None, 'fixedAssetTurnover': 1.1877798843427856, 'assetTurnover': 0.7709024753294007, 'operatingCashFlowPerShare': 12.801768264308981, 'freeCashFlowPerShare': 7.14657980456026, 'cashPerShare': 5.394834806886924, 'payoutRatio': 0.49596199524940615, 'operatingCashFlowSalesRatio': 0.1573923366277157, 'freeCashFlowOperatingCashFlowRatio': 0.5582494275017266, 'cashFlowCoverageRatios': 0.8000290803344239, 'shortTermCoverageRatios': 11.10433905146317, 'capitalExpenditureCoverageRatio': 2.263720891960833, 'dividendPaidAndCapexCoverageRatio': 1.341672762740795, 'dividendPayoutRatio': 0.49596199524940615, 'priceBookValueRatio': 1.7085203580112782, 'priceToBookRatio': 1.7085203580112782, 'priceToSalesRatio': 1.3225277400346125, 'priceEarningsRatio': 13.727311757719715, 'priceToFreeCashFlowsRatio': 15.051955332725615, 'priceToOperatingCashFlowsRatio': 8.402745447275635, 'priceCashFlowRatio': 8.402745447275635, 'priceEarningsToGrowthRatio': -1.1622457288202679, 'priceSalesRatio': 1.3225277400346125, 'dividendYield': 0.03612957904671293, 'enterpriseValueMultiple': 6.928344450355335, 'priceFairValue': 1.7085203580112782}, {'symbol': 'XOM', 'date': '2023-12-31', 'calendarYear': '2023', 'period': 'FY', 'currentRatio': 1.4791015983832445, 'quickRatio': 1.0945097678976055, 'cashRatio': 0.48331189907526484, 'daysOfSalesOutstanding': 41.456825128399714, 'daysOfInventoryOutstanding': 36.47313881098713, 'operatingCycle': 77.92996393938685, 'daysOfPayablesOutstanding': 45.37217813314239, 'cashConversionCycle': 32.55778580624446, 'grossProfitMargin': 0.24891767778020119, 'operatingProfitMargin': 0.1513099908275246, 'pretaxProfitMargin': 0.1577038336166742, 'netProfitMargin': 0.10758984992396108, 'effectiveTaxRate': 0.29231002406077716, 'returnOnAssets': 0.0956906012749889, 'returnOnEquity': 0.17582836105116162, 'returnOnCapitalEmployed': 0.1628387046986987, 'netIncomePerEBT': 0.6822272322528087, 'ebtPerEbit': 1.04225658037636, 'ebitPerRevenue': 0.1513099908275246, 'debtRatio': 0.12677875301939587, 'debtEquityRatio': 0.23295182664231795, 'longTermDebtToCapitalization': 0.14110053806506268, 'totalDebtToCapitalization': 0.18893830367785958, 'interestCoverage': 59.65017667844523, 'cashFlowToDebtRatio': 1.1605567083778743, 'companyEquityMultiplier': 1.8374674075448483, 'receivablesTurnover': 8.804340391950547, 'payablesTurnover': 8.044577426477646, 'inventoryTurnover': 10.007364649681529, 'fixedAssetTurnover': 1.557164790174002, 'assetTurnover': 0.889401754371979, 'operatingCashFlowPerShare': 13.669269923893426, 'freeCashFlowPerShare': 8.257997777713795, 'cashPerShare': 7.786217994359204, 'payoutRatio': 0.4149125242988059, 'operatingCashFlowSalesRatio': 0.16543022494973064, 'freeCashFlowOperatingCashFlowRatio': 0.604128664053893, 'cashFlowCoverageRatios': 1.1605567083778743, 'shortTermCoverageRatios': 13.859574468085107, 'capitalExpenditureCoverageRatio': 2.5260732697659565, 'dividendPaidAndCapexCoverageRatio': 1.5021432447097125, 'dividendPayoutRatio': 0.4149125242988059, 'priceBookValueRatio': 2.0244984295479536, 'priceToBookRatio': 2.0244984295479536, 'priceToSalesRatio': 1.2387960673931346, 'priceEarningsRatio': 11.514060743356845, 'priceToFreeCashFlowsRatio': 12.395256423565918, 'priceToOperatingCashFlowsRatio': 7.488329703774315, 'priceCashFlowRatio': 7.488329703774315, 'priceEarningsToGrowthRatio': -0.34937401706387133, 'priceSalesRatio': 1.2387960673931346, 'dividendYield': 0.036035290550138356, 'enterpriseValueMultiple': 5.799716281398085, 'priceFairValue': 2.0244984295479536}, {'symbol': 'XOM', 'date': '2022-12-31', 'calendarYear': '2022', 'period': 'FY', 'currentRatio': 1.414019842131943, 'quickRatio': 1.0601202114562966, 'cashRatio': 0.4292852487508147, 'daysOfSalesOutstanding': 37.88597945884933, 'daysOfInventoryOutstanding': 33.216791681253774, 'operatingCycle': 71.1027711401031, 'daysOfPayablesOutstanding': 45.089738623920866, 'cashConversionCycle': 26.013032516182236, 'grossProfitMargin': 0.33244492400868186, 'operatingProfitMargin': 0.17798352630545203, 'pretaxProfitMargin': 0.19331107337581455, 'netProfitMargin': 0.1385819097651268, 'effectiveTaxRate': 0.259488379869587, 'returnOnAssets': 0.151029487870766, 'returnOnEquity': 0.2857743438828192, 'returnOnCapitalEmployed': 0.23860916866096485, 'netIncomePerEBT': 0.716885522102041, 'ebtPerEbit': 1.0861177851036488, 'ebitPerRevenue': 0.17798352630545203, 'debtRatio': 0.11161388040653865, 'debtEquityRatio': 0.21119308481458504, 'longTermDebtToCapitalization': 0.16723664604494085, 'totalDebtToCapitalization': 0.17436780928031426, 'interestCoverage': 89.70927318295739, 'cashFlowToDebtRatio': 1.864321608040201, 'companyEquityMultiplier': 1.8921758122317982, 'receivablesTurnover': 9.634170878344392, 'payablesTurnover': 8.09496819319244, 'inventoryTurnover': 10.98841825250665, 'fixedAssetTurnover': 1.9649864186191937, 'assetTurnover': 1.0898210893956923, 'operatingCashFlowPerShare': 18.263258026159335, 'freeCashFlowPerShare': 13.885850178359096, 'cashPerShare': 7.048751486325803, 'payoutRatio': 0.26801219949766775, 'operatingCashFlowSalesRatio': 0.19093424693635525, 'freeCashFlowOperatingCashFlowRatio': 0.7603161581832624, 'cashFlowCoverageRatios': 1.864321608040201, 'shortTermCoverageRatios': 121.13091482649843, 'capitalExpenditureCoverageRatio': 4.172162764165806, 'dividendPaidAndCapexCoverageRatio': 2.303034846758232, 'dividendPayoutRatio': 0.26801219949766775, 'priceBookValueRatio': 2.3779229834554396, 'priceToBookRatio': 2.3779229834554396, 'priceToSalesRatio': 1.15313748548669, 'priceEarningsRatio': 8.320981341944742, 'priceToFreeCashFlowsRatio': 7.943337900325398, 'priceToOperatingCashFlowsRatio': 6.039448155526908, 'priceCashFlowRatio': 6.039448155526908, 'priceEarningsToGrowthRatio': 0.05698867780569525, 'priceSalesRatio': 1.15313748548669, 'dividendYield': 0.032209205679462456, 'enterpriseValueMultiple': 4.633588716359135, 'priceFairValue': 2.3779229834554396}, {'symbol': 'XOM', 'date': '2021-12-31', 'calendarYear': '2021', 'period': 'FY', 'currentRatio': 1.0443302791165723, 'quickRatio': 0.7127800434299031, 'cashRatio': 0.12008544745158271, 'daysOfSalesOutstanding': 42.3677418892326, 'daysOfInventoryOutstanding': 36.280539441927424, 'operatingCycle': 78.64828133116004, 'daysOfPayablesOutstanding': 51.43220455604014, 'cashConversionCycle': 27.216076775119895, 'grossProfitMargin': 0.32276391582222447, 'operatingProfitMargin': 0.09599220018567572, 'pretaxProfitMargin': 0.11195744513067198, 'netProfitMargin': 0.08258626931583155, 'effectiveTaxRate': 0.24447717231222385, 'returnOnAssets': 0.06798004266455802, 'returnOnEquity': 0.13667344892838287, 'returnOnCapitalEmployed': 0.09487034150488877, 'netIncomePerEBT': 0.737657680732535, 'ebtPerEbit': 1.1663181478715459, 'ebitPerRevenue': 0.09599220018567572, 'debtRatio': 0.14075173416970815, 'debtEquityRatio': 0.28298047776387053, 'longTermDebtToCapitalization': 0.19818401476379827, 'totalDebtToCapitalization': 0.2205649132378711, 'interestCoverage': 28.278775079197466, 'cashFlowToDebtRatio': 1.0089091061546203, 'companyEquityMultiplier': 2.010493720970239, 'receivablesTurnover': 8.615044930982306, 'payablesTurnover': 7.0967208804417234, 'inventoryTurnover': 10.0604898828541, 'fixedAssetTurnover': 1.2882864161956482, 'assetTurnover': 0.8231397692101156, 'operatingCashFlowPerShare': 11.258245614035088, 'freeCashFlowPerShare': 8.43345029239766, 'cashPerShare': 1.5911111111111111, 'payoutRatio': 0.6477430555555556, 'operatingCashFlowSalesRatio': 0.1725171248221205, 'freeCashFlowOperatingCashFlowRatio': 0.7490909846454321, 'cashFlowCoverageRatios': 1.0089091061546203, 'shortTermCoverageRatios': 11.255612722170252, 'capitalExpenditureCoverageRatio': 3.9855084465054653, 'dividendPaidAndCapexCoverageRatio': 1.7825555555555554, 'dividendPayoutRatio': 0.6477430555555556, 'priceBookValueRatio': 1.5517374849475312, 'priceToBookRatio': 1.5517374849475312, 'priceToSalesRatio': 0.9376525641531144, 'priceEarningsRatio': 11.35361328125, 'priceToFreeCashFlowsRatio': 7.255630599395334, 'priceToOperatingCashFlowsRatio': 5.435127469924577, 'priceCashFlowRatio': 5.435127469924577, 'priceEarningsToGrowthRatio': -0.056021118164062515, 'priceSalesRatio': 0.9376525641531144, 'dividendYield': 0.057051710280222, 'enterpriseValueMultiple': 5.730265401227552, 'priceFairValue': 1.5517374849475312}, {'symbol': 'XOM', 'date': '2020-12-31', 'calendarYear': '2020', 'period': 'FY', 'currentRatio': 0.7964977023934141, 'quickRatio': 0.46205844259531964, 'cashRatio': 0.0774266806238135, 'daysOfSalesOutstanding': 41.78383504650024, 'daysOfInventoryOutstanding': 56.10713790600765, 'operatingCycle': 97.8909729525079, 'daysOfPayablesOutstanding': 52.085878313911294, 'cashConversionCycle': 45.8050946385966, 'grossProfitMargin': 0.317920393360922, 'operatingProfitMargin': -0.022148800783162018, 'pretaxProfitMargin': -0.16065389578605438, 'netProfitMargin': -0.12481644640234948, 'effectiveTaxRate': -0.1949935948481806, 'returnOnAssets': -0.06743801652892562, 'returnOnEquity': -0.142793509385937, 'returnOnCapitalEmployed': -0.014407334643091027, 'netIncomePerEBT': 0.7769276044732195, 'ebtPerEbit': 7.253390256152687, 'ebitPerRevenue': -0.022148800783162018, 'debtRatio': 0.20327573253193087, 'debtEquityRatio': 0.43041679923639836, 'longTermDebtToCapitalization': 0.2245326964451375, 'totalDebtToCapitalization': 0.3009030650829663, 'interestCoverage': -3.4386873920552676, 'cashFlowToDebtRatio': 0.21685393258426966, 'companyEquityMultiplier': 2.117403754374801, 'receivablesTurnover': 8.735435595938002, 'payablesTurnover': 7.007657580433167, 'inventoryTurnover': 6.505411140583554, 'fixedAssetTurnover': 0.7900752791657328, 'assetTurnover': 0.540297520661157, 'operatingCashFlowPerShare': 3.4343245141653007, 'freeCashFlowPerShare': -0.6120346523062514, 'cashPerShare': 1.0217747600093654, 'payoutRatio': -0.6624331550802139, 'operatingCashFlowSalesRatio': 0.08158679304053754, 'freeCashFlowOperatingCashFlowRatio': -0.17821107172075265, 'cashFlowCoverageRatios': 0.21685393258426966, 'shortTermCoverageRatios': 0.7169811320754716, 'capitalExpenditureCoverageRatio': 0.8487443582918643, 'dividendPaidAndCapexCoverageRatio': 0.4562789684885059, 'dividendPayoutRatio': -0.6624331550802139, 'priceBookValueRatio': 1.1202712058542794, 'priceToBookRatio': 1.1202712058542794, 'priceToSalesRatio': 0.9792340808970765, 'priceEarningsRatio': -7.845393048128342, 'priceToFreeCashFlowsRatio': -67.34912777352716, 'priceToOperatingCashFlowsRatio': 12.002360239978184, 'priceCashFlowRatio': 12.002360239978184, 'priceEarningsToGrowthRatio': 0.030616167992695967, 'priceSalesRatio': 0.9792340808970765, 'dividendYield': 0.08443594234430984, 'enterpriseValueMultiple': -34.11154789053592, 'priceFairValue': 1.1202712058542794}]\n",
      "[{'symbol': 'XOM', 'date': '2024-12-31', 'calendarYear': '2024', 'period': 'FY', 'revenuePerShare': 81.33666821777571, 'netIncomePerShare': 7.83620288506282, 'operatingCashFlowPerShare': 12.801768264308981, 'freeCashFlowPerShare': 7.14657980456026, 'cashPerShare': 5.394834806886924, 'bookValuePerShare': 62.960912052117266, 'tangibleBookValuePerShare': 58.31526291298278, 'shareholdersEquityPerShare': 62.960912052117266, 'interestDebtPerShare': 16.233364355514194, 'marketCap': 462335860000, 'enterpriseValue': 507923860000, 'peRatio': 13.727311757719715, 'priceToSalesRatio': 1.3225277400346125, 'pocfratio': 8.402745447275635, 'pfcfRatio': 15.051955332725615, 'pbRatio': 1.7085203580112782, 'ptbRatio': 1.7085203580112782, 'evToSales': 1.4529337929258979, 'enterpriseValueOverEBITDA': 6.928344450355335, 'evToOperatingCashFlow': 9.231286758024064, 'evToFreeCashFlow': 16.536132960020836, 'earningsYield': 0.07284747499361179, 'freeCashFlowYield': 0.06643655112540914, 'debtToEquity': 0.25415179264317866, 'debtToAssets': 0.1516621643971553, 'netDebtToEBITDA': 0.6218439251954004, 'currentRatio': 1.3084045685351386, 'interestCoverage': 49.06927710843374, 'incomeQuality': 1.5692325243133787, 'dividendYield': 0.03612957904671293, 'payoutRatio': 0.49596199524940615, 'salesGeneralAndAdministrativeToRevenue': 0.028536693508016648, 'researchAndDdevelopementToRevenue': 0, 'intangiblesToTotalAssets': 0.0440310932245438, 'capexToOperatingCashFlow': 0.44175057249827343, 'capexToRevenue': 0.06952815481213438, 'capexToDepreciation': 0, 'stockBasedCompensationToRevenue': 0, 'grahamNumber': 105.36093116071169, 'roic': 0.09033991801568057, 'returnOnTangibleAssets': 0.07769176116703728, 'grahamNetNet': -29.53030479292694, 'workingCapital': 21683000000, 'tangibleAssetValue': 250639000000, 'netCurrentAssetValue': -90879000000, 'investedCapital': 335968000000, 'averageReceivables': 40848000000, 'averagePayables': 15624500000, 'averageInventory': 12560000000, 'daysSalesOutstanding': 45.60711987070383, 'daysPayablesOutstanding': 0, 'daysOfInventoryOnHand': 0, 'receivablesTurnover': 8.003136375082988, 'payablesTurnover': None, 'inventoryTurnover': None, 'roe': 0.12446139405630326, 'capexPerShare': 5.655188459748721}, {'symbol': 'XOM', 'date': '2023-12-31', 'calendarYear': '2023', 'period': 'FY', 'revenuePerShare': 82.62861232309339, 'netIncomePerShare': 8.889999999266779, 'operatingCashFlowPerShare': 13.669269923893426, 'freeCashFlowPerShare': 8.257997777713795, 'cashPerShare': 7.786217994359204, 'bookValuePerShare': 52.47050318922973, 'tangibleBookValuePerShare': 52.47050318922973, 'shareholdersEquityPerShare': 50.56067147597431, 'interestDebtPerShare': 11.987798388347576, 'marketCap': 414621327368.27997, 'enterpriseValue': 430762327368.27997, 'peRatio': 11.514060743356845, 'priceToSalesRatio': 1.2387960673931346, 'pocfratio': 7.488329703774315, 'pfcfRatio': 12.395256423565918, 'pbRatio': 2.0244984295479536, 'ptbRatio': 2.0244984295479536, 'evToSales': 1.2870217760191456, 'enterpriseValueOverEBITDA': 5.799716281398085, 'evToOperatingCashFlow': 7.7798466175708425, 'evToFreeCashFlow': 12.877797529694469, 'earningsYield': 0.08685033215383724, 'freeCashFlowYield': 0.08067602361971274, 'debtToEquity': 0.23295182664231795, 'debtToAssets': 0.12677875301939587, 'netDebtToEBITDA': 0.21731988744227376, 'currentRatio': 1.4791015983832445, 'interestCoverage': 59.65017667844523, 'incomeQuality': 1.537600666481533, 'dividendYield': 0.036035290550138356, 'payoutRatio': 0.4149125242988059, 'salesGeneralAndAdministrativeToRevenue': 0.029635760105408773, 'researchAndDdevelopementToRevenue': 0.002626255986758172, 'intangiblesToTotalAssets': 0, 'capexToOperatingCashFlow': 0.395871335946107, 'capexToRevenue': 0.06548908415671488, 'capexToDepreciation': 0, 'stockBasedCompensationToRevenue': 0.001825531749612336, 'grahamNumber': 100.56539320833802, 'roic': 0.11377777321454895, 'returnOnTangibleAssets': 0.0956906012749889, 'grahamNetNet': -22.507364271956487, 'workingCapital': 31293000000, 'tangibleAssetValue': 212538000000, 'netCurrentAssetValue': -67170000000, 'investedCapital': 246233000000, 'averageReceivables': 39882000000, 'averagePayables': 32209000000, 'averageInventory': 24777500000, 'daysSalesOutstanding': 41.456825128399714, 'daysPayablesOutstanding': 45.37217813314239, 'daysOfInventoryOnHand': 36.47313881098713, 'receivablesTurnover': 8.804340391950547, 'payablesTurnover': 8.044577426477646, 'inventoryTurnover': 10.007364649681529, 'roe': 0.17582836105116162, 'capexPerShare': 5.411272146179631}, {'symbol': 'XOM', 'date': '2022-12-31', 'calendarYear': '2022', 'period': 'FY', 'revenuePerShare': 95.65208085612366, 'netIncomePerShare': 13.25564803804994, 'operatingCashFlowPerShare': 18.263258026159335, 'freeCashFlowPerShare': 13.885850178359096, 'cashPerShare': 7.048751486325803, 'bookValuePerShare': 48.15053507728894, 'tangibleBookValuePerShare': 44.11938168846611, 'shareholdersEquityPerShare': 46.38501783590963, 'interestDebtPerShare': 9.985969084423306, 'marketCap': 463811500000, 'enterpriseValue': 475364500000, 'peRatio': 8.320981341944742, 'priceToSalesRatio': 1.15313748548669, 'pocfratio': 6.039448155526908, 'pfcfRatio': 7.943337900325398, 'pbRatio': 2.3779229834554396, 'ptbRatio': 2.3779229834554396, 'evToSales': 1.1818607865903232, 'enterpriseValueOverEBITDA': 4.633588716359135, 'evToOperatingCashFlow': 6.189883719416123, 'evToFreeCashFlow': 8.141197122794999, 'earningsYield': 0.12017813271124153, 'freeCashFlowYield': 0.1258916607285503, 'debtToEquity': 0.21119308481458504, 'debtToAssets': 0.11161388040653865, 'netDebtToEBITDA': 0.1126122174459748, 'currentRatio': 1.414019842131943, 'interestCoverage': 89.70927318295739, 'incomeQuality': 1.3338138492800944, 'dividendYield': 0.032209205679462456, 'payoutRatio': 0.26801219949766775, 'salesGeneralAndAdministrativeToRevenue': 0.02629675026167467, 'researchAndDdevelopementToRevenue': 0.002048645382964917, 'intangiblesToTotalAssets': 0.04592932990486822, 'capexToOperatingCashFlow': 0.23968384181673763, 'capexToRevenue': 0.045763853840091295, 'capexToDepreciation': 0.7656821963394342, 'stockBasedCompensationToRevenue': 0.0016110706409724104, 'grahamNumber': 117.61984564735857, 'roic': 0.17632026589157043, 'returnOnTangibleAssets': 0.1583001056470027, 'grahamNetNet': -22.217538644470867, 'workingCapital': 28586000000, 'tangibleAssetValue': 185522000000, 'netCurrentAssetValue': -68963000000, 'investedCapital': 250229000000, 'averageReceivables': 37066000000, 'averagePayables': 29896000000, 'averageInventory': 21607500000, 'daysSalesOutstanding': 37.88597945884933, 'daysPayablesOutstanding': 45.089738623920866, 'daysOfInventoryOnHand': 33.21679168125377, 'receivablesTurnover': 9.634170878344392, 'payablesTurnover': 8.09496819319244, 'inventoryTurnover': 10.98841825250665, 'roe': 0.2857743438828192, 'capexPerShare': 4.377407847800238}, {'symbol': 'XOM', 'date': '2021-12-31', 'calendarYear': '2021', 'period': 'FY', 'revenuePerShare': 65.2587134502924, 'netIncomePerShare': 5.389473684210526, 'operatingCashFlowPerShare': 11.258245614035088, 'freeCashFlowPerShare': 8.43345029239766, 'cashPerShare': 1.5911111111111111, 'bookValuePerShare': 41.09543859649123, 'tangibleBookValuePerShare': 36.879766081871345, 'shareholdersEquityPerShare': 39.43321637426901, 'interestDebtPerShare': 11.380350877192983, 'marketCap': 261587250000, 'enterpriseValue': 302489250000, 'peRatio': 11.35361328125, 'priceToSalesRatio': 0.9376525641531144, 'pocfratio': 5.435127469924577, 'pfcfRatio': 7.255630599395334, 'pbRatio': 1.5517374849475312, 'ptbRatio': 1.5517374849475312, 'evToSales': 1.084264699029683, 'enterpriseValueOverEBITDA': 5.730265401227552, 'evToOperatingCashFlow': 6.2849685220968645, 'evToFreeCashFlow': 8.39012703519818, 'earningsYield': 0.08807768727260216, 'freeCashFlowYield': 0.13782399562669817, 'debtToEquity': 0.28298047776387053, 'debtToAssets': 0.14075173416970815, 'netDebtToEBITDA': 0.7748351898158673, 'currentRatio': 1.0443302791165723, 'interestCoverage': 28.278775079197466, 'incomeQuality': 2.0395372489194, 'dividendYield': 0.057051710280222, 'payoutRatio': 0.6477430555555556, 'salesGeneralAndAdministrativeToRevenue': 0.03713514540416731, 'researchAndDdevelopementToRevenue': 0.003021711155956857, 'intangiblesToTotalAssets': 0.053174319830758016, 'capexToOperatingCashFlow': 0.25090901535456794, 'capexToRevenue': 0.04328610192091935, 'capexToDepreciation': 0.5860144611054496, 'stockBasedCompensationToRevenue': 0.0021936977787017755, 'grahamNumber': 69.15053393496181, 'roic': 0.07060714598709728, 'returnOnTangibleAssets': 0.07179784419493862, 'grahamNetNet': -28.7159649122807, 'workingCapital': 2511000000, 'tangibleAssetValue': 157661000000, 'netCurrentAssetValue': -104086000000, 'investedCapital': 237085000000, 'averageReceivables': 26482000000, 'averagePayables': 22061000000, 'averageInventory': 18815000000, 'daysSalesOutstanding': 42.367741889232605, 'daysPayablesOutstanding': 51.43220455604014, 'daysOfInventoryOnHand': 36.280539441927424, 'receivablesTurnover': 8.615044930982306, 'payablesTurnover': 7.0967208804417234, 'inventoryTurnover': 10.0604898828541, 'roe': 0.13667344892838287, 'capexPerShare': 2.824795321637427}, {'symbol': 'XOM', 'date': '2020-12-31', 'calendarYear': '2020', 'period': 'FY', 'revenuePerShare': 42.094123156169516, 'netIncomePerShare': -5.254038866775931, 'operatingCashFlowPerShare': 3.4343245141653007, 'freeCashFlowPerShare': -0.6120346523062514, 'cashPerShare': 1.0217747600093654, 'bookValuePerShare': 38.428939358464056, 'tangibleBookValuePerShare': 34.49800983376259, 'shareholdersEquityPerShare': 36.79466167173964, 'interestDebtPerShare': 16.10817138843362, 'marketCap': 176050620000, 'enterpriseValue': 239326620000, 'peRatio': -7.845393048128342, 'priceToSalesRatio': 0.9792340808970765, 'pocfratio': 12.002360239978184, 'pfcfRatio': -67.34912777352716, 'pbRatio': 1.1202712058542794, 'ptbRatio': 1.1202712058542794, 'evToSales': 1.3311897610465893, 'enterpriseValueOverEBITDA': -34.11154789053592, 'evToOperatingCashFlow': 16.316240796291247, 'evToFreeCashFlow': -91.5557077276205, 'earningsYield': -0.12746333980533553, 'freeCashFlowYield': -0.01484800223935593, 'debtToEquity': 0.43041679923639836, 'debtToAssets': 0.20327573253193087, 'netDebtToEBITDA': -9.018814139110605, 'currentRatio': 0.7964977023934141, 'interestCoverage': -3.4386873920552676, 'incomeQuality': -0.6308545868994881, 'dividendYield': 0.08443594234430984, 'payoutRatio': -0.6624331550802139, 'salesGeneralAndAdministrativeToRevenue': 0.06325924442664531, 'researchAndDdevelopementToRevenue': 0.005651225915543096, 'intangiblesToTotalAssets': 0.050455296769346354, 'capexToOperatingCashFlow': 1.1782110717207526, 'capexToRevenue': 0.09612646286655097, 'capexToDepreciation': 0.8345163938384277, 'stockBasedCompensationToRevenue': 0.003737818715792284, 'grahamNumber': 65.9523548218469, 'roic': -0.016030131869108306, 'returnOnTangibleAssets': -0.07102142353011923, 'grahamNetNet': -32.63761414188715, 'workingCapital': -11470000000, 'tangibleAssetValue': 147341000000, 'netCurrentAssetValue': -123727000000, 'investedCapital': 232872000000, 'averageReceivables': 23773500000, 'averagePayables': 21096500000, 'averageInventory': 18689000000, 'daysSalesOutstanding': 41.78383504650024, 'daysPayablesOutstanding': 52.085878313911294, 'daysOfInventoryOnHand': 56.10713790600765, 'receivablesTurnover': 8.735435595938002, 'payablesTurnover': 7.007657580433167, 'inventoryTurnover': 6.505411140583554, 'roe': -0.142793509385937, 'capexPerShare': 4.046359166471552}]\n",
      "[{'symbol': 'XOM', 'price': 111.27, 'beta': 0.875, 'volAvg': 15531144, 'mktCap': 482816107800, 'lastDiv': 3.88, 'range': '103.85-126.34', 'changes': 0.58, 'companyName': 'Exxon Mobil Corporation', 'currency': 'USD', 'cik': '0000034088', 'isin': 'US30231G1022', 'cusip': '30231G102', 'exchange': 'New York Stock Exchange', 'exchangeShortName': 'NYSE', 'industry': 'Oil & Gas Integrated', 'website': 'https://corporate.exxonmobil.com', 'description': 'Exxon Mobil Corporation explores for and produces crude oil and natural gas in the United States and internationally. It operates through Upstream, Downstream, and Chemical segments. The company is also involved in the manufacture, trade, transport, and sale of crude oil, natural gas, petroleum products, petrochemicals, and other specialty products; manufactures and sells petrochemicals, including olefins, polyolefins, aromatics, and various other petrochemicals; and captures and stores carbon, hydrogen, and biofuels. As of December 31, 2021, it had approximately 20,528 net operated wells with proved reserves. The company was founded in 1870 and is headquartered in Irving, Texas.', 'ceo': 'Mr. Darren W. Woods', 'sector': 'Energy', 'country': 'US', 'fullTimeEmployees': '61000', 'phone': '972-940-6000', 'address': '5959 Las Colinas Boulevard', 'city': 'Irving', 'state': 'TX', 'zip': '75039-2298', 'dcfDiff': -170.71908, 'dcf': 282.18908417854465, 'image': 'https://images.financialmodelingprep.com/symbol/XOM.png', 'ipoDate': '1978-01-13', 'defaultImage': False, 'isEtf': False, 'isActivelyTrading': True, 'isAdr': False, 'isFund': False}]\n",
      "[{'symbol': 'XOM', 'date': '2025-02-24', 'rating': 'B+', 'ratingScore': 3, 'ratingRecommendation': 'Neutral', 'ratingDetailsDCFScore': 5, 'ratingDetailsDCFRecommendation': 'Strong Buy', 'ratingDetailsROEScore': 4, 'ratingDetailsROERecommendation': 'Buy', 'ratingDetailsROAScore': 4, 'ratingDetailsROARecommendation': 'Buy', 'ratingDetailsDEScore': 3, 'ratingDetailsDERecommendation': 'Neutral', 'ratingDetailsPEScore': 1, 'ratingDetailsPERecommendation': 'Strong Sell', 'ratingDetailsPBScore': 2, 'ratingDetailsPBRecommendation': 'Sell'}]\n",
      "[{'date': '2025-01-31', 'symbol': 'XOM', 'actualEarningResult': 1.67, 'estimatedEarning': 1.77}, {'date': '2024-11-01', 'symbol': 'XOM', 'actualEarningResult': 1.92, 'estimatedEarning': 1.88}, {'date': '2024-08-02', 'symbol': 'XOM', 'actualEarningResult': 2.14, 'estimatedEarning': 2.01}, {'date': '2024-04-26', 'symbol': 'XOM', 'actualEarningResult': 2.06, 'estimatedEarning': 2.2}, {'date': '2024-02-02', 'symbol': 'XOM', 'actualEarningResult': 2.48, 'estimatedEarning': 2.21}, {'date': '2023-10-27', 'symbol': 'XOM', 'actualEarningResult': 2.27, 'estimatedEarning': 2.37}, {'date': '2023-07-28', 'symbol': 'XOM', 'actualEarningResult': 1.94, 'estimatedEarning': 2.01}, {'date': '2023-04-28', 'symbol': 'XOM', 'actualEarningResult': 2.83, 'estimatedEarning': 2.59}, {'date': '2023-01-31', 'symbol': 'XOM', 'actualEarningResult': 3.4, 'estimatedEarning': 3.29}, {'date': '2022-10-28', 'symbol': 'XOM', 'actualEarningResult': 4.45, 'estimatedEarning': 3.79}, {'date': '2022-07-29', 'symbol': 'XOM', 'actualEarningResult': 4.14, 'estimatedEarning': 3.74}, {'date': '2022-04-29', 'symbol': 'XOM', 'actualEarningResult': 2.07, 'estimatedEarning': 2.25}, {'date': '2022-02-01', 'symbol': 'XOM', 'actualEarningResult': 2.05, 'estimatedEarning': 1.94}, {'date': '2021-10-29', 'symbol': 'XOM', 'actualEarningResult': 1.58, 'estimatedEarning': 1.56}, {'date': '2021-07-30', 'symbol': 'XOM', 'actualEarningResult': 1.1, 'estimatedEarning': 0.99}, {'date': '2021-04-30', 'symbol': 'XOM', 'actualEarningResult': 0.65, 'estimatedEarning': 0.59}, {'date': '2021-02-02', 'symbol': 'XOM', 'actualEarningResult': 0.03, 'estimatedEarning': 0.01217}, {'date': '2020-10-30', 'symbol': 'XOM', 'actualEarningResult': -0.18, 'estimatedEarning': -0.28}, {'date': '2020-07-31', 'symbol': 'XOM', 'actualEarningResult': -0.7, 'estimatedEarning': -0.63}, {'date': '2020-05-01', 'symbol': 'XOM', 'actualEarningResult': 0.53, 'estimatedEarning': 0.00039}, {'date': '2020-01-31', 'symbol': 'XOM', 'actualEarningResult': 0.41, 'estimatedEarning': 0.44}, {'date': '2019-11-01', 'symbol': 'XOM', 'actualEarningResult': 0.75, 'estimatedEarning': 0.67}, {'date': '2019-08-02', 'symbol': 'XOM', 'actualEarningResult': 0.73, 'estimatedEarning': 0.66}, {'date': '2019-04-26', 'symbol': 'XOM', 'actualEarningResult': 0.55, 'estimatedEarning': 0.7}, {'date': '2019-02-01', 'symbol': 'XOM', 'actualEarningResult': 1.41, 'estimatedEarning': 1.08}, {'date': '2018-11-02', 'symbol': 'XOM', 'actualEarningResult': 1.46, 'estimatedEarning': 1.23}, {'date': '2018-07-27', 'symbol': 'XOM', 'actualEarningResult': 0.92, 'estimatedEarning': 1.27}, {'date': '2018-04-27', 'symbol': 'XOM', 'actualEarningResult': 1.09, 'estimatedEarning': 1.12}, {'date': '2018-02-02', 'symbol': 'XOM', 'actualEarningResult': 0.88, 'estimatedEarning': 1.06}, {'date': '2017-10-27', 'symbol': 'XOM', 'actualEarningResult': 0.97, 'estimatedEarning': 0.86}, {'date': '2017-07-28', 'symbol': 'XOM', 'actualEarningResult': 0.78, 'estimatedEarning': 0.84}, {'date': '2017-04-28', 'symbol': 'XOM', 'actualEarningResult': 0.95, 'estimatedEarning': 0.85}, {'date': '2017-01-31', 'symbol': 'XOM', 'actualEarningResult': 0.9, 'estimatedEarning': 0.72}, {'date': '2016-10-28', 'symbol': 'XOM', 'actualEarningResult': 0.63, 'estimatedEarning': 0.58}, {'date': '2016-07-29', 'symbol': 'XOM', 'actualEarningResult': 0.41, 'estimatedEarning': 0.64}, {'date': '2016-04-29', 'symbol': 'XOM', 'actualEarningResult': 0.43, 'estimatedEarning': 0.31}, {'date': '2016-02-02', 'symbol': 'XOM', 'actualEarningResult': 0.67, 'estimatedEarning': 0.63}, {'date': '2015-10-30', 'symbol': 'XOM', 'actualEarningResult': 1.01, 'estimatedEarning': 0.89}, {'date': '2015-07-31', 'symbol': 'XOM', 'actualEarningResult': 1, 'estimatedEarning': 1.11}, {'date': '2015-04-30', 'symbol': 'XOM', 'actualEarningResult': 1.17, 'estimatedEarning': 0.83}, {'date': '2015-02-02', 'symbol': 'XOM', 'actualEarningResult': 1.32, 'estimatedEarning': 1.34}, {'date': '2014-10-31', 'symbol': 'XOM', 'actualEarningResult': 1.89, 'estimatedEarning': 1.71}, {'date': '2014-07-31', 'symbol': 'XOM', 'actualEarningResult': 2.05, 'estimatedEarning': 1.86}, {'date': '2014-05-01', 'symbol': 'XOM', 'actualEarningResult': 2.1, 'estimatedEarning': 1.88}, {'date': '2014-01-30', 'symbol': 'XOM', 'actualEarningResult': 1.91, 'estimatedEarning': 1.92}, {'date': '2013-10-31', 'symbol': 'XOM', 'actualEarningResult': 1.79, 'estimatedEarning': 1.77}, {'date': '2013-08-01', 'symbol': 'XOM', 'actualEarningResult': 1.55, 'estimatedEarning': 1.9}, {'date': '2013-04-25', 'symbol': 'XOM', 'actualEarningResult': 2.12, 'estimatedEarning': 2.05}, {'date': '2013-02-01', 'symbol': 'XOM', 'actualEarningResult': 2.2, 'estimatedEarning': 2}, {'date': '2012-11-01', 'symbol': 'XOM', 'actualEarningResult': 2.09, 'estimatedEarning': 1.95}, {'date': '2012-07-26', 'symbol': 'XOM', 'actualEarningResult': 1.8, 'estimatedEarning': 1.95}, {'date': '2012-04-26', 'symbol': 'XOM', 'actualEarningResult': 2, 'estimatedEarning': 2.09}, {'date': '2012-01-31', 'symbol': 'XOM', 'actualEarningResult': 1.97, 'estimatedEarning': 1.96}, {'date': '2011-10-27', 'symbol': 'XOM', 'actualEarningResult': 2.13, 'estimatedEarning': 2.12}, {'date': '2011-07-28', 'symbol': 'XOM', 'actualEarningResult': 2.18, 'estimatedEarning': 2.32}, {'date': '2011-04-28', 'symbol': 'XOM', 'actualEarningResult': 2.14, 'estimatedEarning': 2.08}, {'date': '2011-01-31', 'symbol': 'XOM', 'actualEarningResult': 1.85, 'estimatedEarning': 1.63}, {'date': '2010-10-28', 'symbol': 'XOM', 'actualEarningResult': 1.44, 'estimatedEarning': 1.39}, {'date': '2010-07-29', 'symbol': 'XOM', 'actualEarningResult': 1.6, 'estimatedEarning': 1.46}, {'date': '2010-04-29', 'symbol': 'XOM', 'actualEarningResult': 1.33, 'estimatedEarning': 1.41}, {'date': '2010-02-01', 'symbol': 'XOM', 'actualEarningResult': 1.27, 'estimatedEarning': 1.19}, {'date': '2009-10-29', 'symbol': 'XOM', 'actualEarningResult': 0.98, 'estimatedEarning': 1.03}, {'date': '2009-07-30', 'symbol': 'XOM', 'actualEarningResult': 0.84, 'estimatedEarning': 1.02}, {'date': '2009-04-30', 'symbol': 'XOM', 'actualEarningResult': 0.92, 'estimatedEarning': 0.95}, {'date': '2009-01-30', 'symbol': 'XOM', 'actualEarningResult': 1.55, 'estimatedEarning': 1.45}, {'date': '2008-10-30', 'symbol': 'XOM', 'actualEarningResult': 2.59, 'estimatedEarning': 2.38}, {'date': '2008-07-31', 'symbol': 'XOM', 'actualEarningResult': 2.27, 'estimatedEarning': 2.52}, {'date': '2008-05-01', 'symbol': 'XOM', 'actualEarningResult': 2.03, 'estimatedEarning': 2.14}, {'date': '2008-02-01', 'symbol': 'XOM', 'actualEarningResult': 2.13, 'estimatedEarning': 1.95}, {'date': '2007-11-01', 'symbol': 'XOM', 'actualEarningResult': 1.7, 'estimatedEarning': 1.75}, {'date': '2007-07-26', 'symbol': 'XOM', 'actualEarningResult': 1.83, 'estimatedEarning': 1.96}, {'date': '2007-04-26', 'symbol': 'XOM', 'actualEarningResult': 1.62, 'estimatedEarning': 1.52}, {'date': '2007-02-01', 'symbol': 'XOM', 'actualEarningResult': 1.69, 'estimatedEarning': 1.51}, {'date': '2006-10-26', 'symbol': 'XOM', 'actualEarningResult': 1.77, 'estimatedEarning': 1.59}, {'date': '2006-07-27', 'symbol': 'XOM', 'actualEarningResult': 1.72, 'estimatedEarning': 1.64}, {'date': '2006-04-27', 'symbol': 'XOM', 'actualEarningResult': 1.37, 'estimatedEarning': 1.47}, {'date': '2006-01-30', 'symbol': 'XOM', 'actualEarningResult': 1.65, 'estimatedEarning': 1.44}, {'date': '2005-10-27', 'symbol': 'XOM', 'actualEarningResult': 1.32, 'estimatedEarning': 1.38}, {'date': '2005-07-28', 'symbol': 'XOM', 'actualEarningResult': 1.23, 'estimatedEarning': 1.24}, {'date': '2005-04-28', 'symbol': 'XOM', 'actualEarningResult': 1.15, 'estimatedEarning': 1.2}, {'date': '2005-01-31', 'symbol': 'XOM', 'actualEarningResult': 1.3, 'estimatedEarning': 1.07}, {'date': '2004-10-28', 'symbol': 'XOM', 'actualEarningResult': 0.96, 'estimatedEarning': 0.87}, {'date': '2004-07-29', 'symbol': 'XOM', 'actualEarningResult': 0.88, 'estimatedEarning': 0.88}, {'date': '2004-04-29', 'symbol': 'XOM', 'actualEarningResult': 0.83, 'estimatedEarning': 0.75}, {'date': '2004-01-29', 'symbol': 'XOM', 'actualEarningResult': 0.68, 'estimatedEarning': 0.58}, {'date': '2003-10-30', 'symbol': 'XOM', 'actualEarningResult': 0.55, 'estimatedEarning': 0.62}, {'date': '2003-07-31', 'symbol': 'XOM', 'actualEarningResult': 0.62, 'estimatedEarning': 0.56}, {'date': '2003-05-01', 'symbol': 'XOM', 'actualEarningResult': 0.71, 'estimatedEarning': 0.7}, {'date': '2003-01-30', 'symbol': 'XOM', 'actualEarningResult': 0.56, 'estimatedEarning': 0.5}, {'date': '2002-10-31', 'symbol': 'XOM', 'actualEarningResult': 0.44, 'estimatedEarning': 0.43}, {'date': '2002-08-01', 'symbol': 'XOM', 'actualEarningResult': 0.39, 'estimatedEarning': 0.46}, {'date': '2002-04-23', 'symbol': 'XOM', 'actualEarningResult': 0.31, 'estimatedEarning': 0.4}, {'date': '2002-01-23', 'symbol': 'XOM', 'actualEarningResult': 0.42, 'estimatedEarning': 0.39}, {'date': '2001-10-23', 'symbol': 'XOM', 'actualEarningResult': 0.48, 'estimatedEarning': 0.51}, {'date': '2001-07-24', 'symbol': 'XOM', 'actualEarningResult': 0.64, 'estimatedEarning': 0.65}, {'date': '2001-04-23', 'symbol': 'XOM', 'actualEarningResult': 0.37, 'estimatedEarning': 0.67}, {'date': '2001-01-24', 'symbol': 'XOM', 'actualEarningResult': 0.73, 'estimatedEarning': 0.62}, {'date': '2000-10-24', 'symbol': 'XOM', 'actualEarningResult': 0.61, 'estimatedEarning': 0.45}, {'date': '2000-07-25', 'symbol': 'XOM', 'actualEarningResult': 0.59, 'estimatedEarning': 0.53}, {'date': '2000-04-25', 'symbol': 'XOM', 'actualEarningResult': 0.48, 'estimatedEarning': 0.44}, {'date': '2000-01-25', 'symbol': 'XOM', 'actualEarningResult': 0.39, 'estimatedEarning': 0.38}, {'date': '1999-10-25', 'symbol': 'XOM', 'actualEarningResult': 0.31, 'estimatedEarning': 0.3}, {'date': '1999-07-21', 'symbol': 'XOM', 'actualEarningResult': 0.25, 'estimatedEarning': 0.27}, {'date': '1999-04-21', 'symbol': 'XOM', 'actualEarningResult': 0.24, 'estimatedEarning': 0.23}, {'date': '1999-01-21', 'symbol': 'XOM', 'actualEarningResult': 0.31, 'estimatedEarning': 0.3}, {'date': '1998-10-21', 'symbol': 'XOM', 'actualEarningResult': 0.29, 'estimatedEarning': 0.29}, {'date': '1998-07-21', 'symbol': 'XOM', 'actualEarningResult': 0.33, 'estimatedEarning': 0.32}, {'date': '1998-04-21', 'symbol': 'XOM', 'actualEarningResult': 0.38, 'estimatedEarning': 0.34}, {'date': '1998-01-21', 'symbol': 'XOM', 'actualEarningResult': 0.5, 'estimatedEarning': 0.37}, {'date': '1997-10-21', 'symbol': 'XOM', 'actualEarningResult': 0.37, 'estimatedEarning': 0.35}, {'date': '1997-07-21', 'symbol': 'XOM', 'actualEarningResult': 0.4, 'estimatedEarning': 0.35}, {'date': '1997-04-21', 'symbol': 'XOM', 'actualEarningResult': 0.44, 'estimatedEarning': 0.41}, {'date': '1997-01-21', 'symbol': 'XOM', 'actualEarningResult': 0.42, 'estimatedEarning': 0.38}, {'date': '1996-10-21', 'symbol': 'XOM', 'actualEarningResult': 0.31, 'estimatedEarning': 0.3}, {'date': '1996-07-22', 'symbol': 'XOM', 'actualEarningResult': 0.32, 'estimatedEarning': 0.33}, {'date': '1996-04-22', 'symbol': 'XOM', 'actualEarningResult': 0.35, 'estimatedEarning': 0.33}, {'date': '1996-01-22', 'symbol': 'XOM', 'actualEarningResult': 0.32, 'estimatedEarning': 0.31}, {'date': '1995-10-23', 'symbol': 'XOM', 'actualEarningResult': 0.3, 'estimatedEarning': 0.29}, {'date': '1995-07-20', 'symbol': 'XOM', 'actualEarningResult': 0.33, 'estimatedEarning': 0.29}, {'date': '1995-04-24', 'symbol': 'XOM', 'actualEarningResult': 0.33, 'estimatedEarning': 0.27}, {'date': '1995-01-23', 'symbol': 'XOM', 'actualEarningResult': 0.3, 'estimatedEarning': 0.27}, {'date': '1994-10-24', 'symbol': 'XOM', 'actualEarningResult': 0.23, 'estimatedEarning': 0.2}, {'date': '1994-07-25', 'symbol': 'XOM', 'actualEarningResult': 0.18, 'estimatedEarning': 0.18}, {'date': '1994-04-22', 'symbol': 'XOM', 'actualEarningResult': 0.22, 'estimatedEarning': 0.21}, {'date': '1994-01-25', 'symbol': 'XOM', 'actualEarningResult': 0.3, 'estimatedEarning': 0.23}, {'date': '1993-10-25', 'symbol': 'XOM', 'actualEarningResult': 0.21, 'estimatedEarning': 0.19}, {'date': '1993-07-23', 'symbol': 'XOM', 'actualEarningResult': 0.25, 'estimatedEarning': 0.22}, {'date': '1993-04-23', 'symbol': 'XOM', 'actualEarningResult': 0.23, 'estimatedEarning': 0.24}, {'date': '1993-01-25', 'symbol': 'XOM', 'actualEarningResult': 0.28, 'estimatedEarning': 0.24}]\n"
     ]
    }
   ],
   "source": [
    "# Debugging\n",
    "print(IS)\n",
    "print(BS)\n",
    "print(CF)\n",
    "print(Ratios)\n",
    "print(Metrics)\n",
    "print(Profile)\n",
    "print(Rating)\n",
    "print(Surprises)"
   ]
  },
  {
   "cell_type": "markdown",
   "id": "5bb4c0af",
   "metadata": {},
   "source": [
    "<a id=\"fmp_to_df\"></a>\n",
    "### Transforming the downloaded data to a dataframe[*](#index)"
   ]
  },
  {
   "cell_type": "code",
   "execution_count": 6,
   "id": "1e0d1659",
   "metadata": {},
   "outputs": [
    {
     "name": "stdout",
     "output_type": "stream",
     "text": [
      "Done importing FMP to pandas.\n",
      "\n"
     ]
    }
   ],
   "source": [
    "# Exploring the downloaded information:\n",
    "is_df = pd.DataFrame(IS)\n",
    "bs_df = pd.DataFrame(BS)\n",
    "cf_df = pd.DataFrame(CF)\n",
    "ratios_df = pd.DataFrame(Ratios)\n",
    "metrics_df = pd.DataFrame(Metrics)\n",
    "profile_df = pd.DataFrame(Profile)\n",
    "rating_df = pd.DataFrame(Rating)\n",
    "surprises_df = pd.DataFrame(Surprises)\n",
    "# stock_peers_df = pd.DataFrame(Peers)\n",
    "\n",
    "print(\"Done importing FMP to pandas.\\n\")\n",
    "\n"
   ]
  },
  {
   "cell_type": "code",
   "execution_count": 7,
   "id": "437138f8",
   "metadata": {},
   "outputs": [],
   "source": [
    "# Debugging:\n",
    "# is_df.head(5)\n",
    "# bs_df.head()\n",
    "# cf_df.head()\n",
    "# ratios_df.head(10)\n",
    "# metrics_df.head()\n",
    "# profile_df.head()\n",
    "# rating_df.head()\n",
    "# surprises_df.head()\n",
    "# stock_peers_df.head()"
   ]
  },
  {
   "cell_type": "markdown",
   "id": "8fc696cc-a416-4647-bd1b-83da91627a7e",
   "metadata": {},
   "source": [
    "<a id=\"filter_df2\"></a>\n",
    "### Filter dataframe for selected period and sort descending[*](#index)"
   ]
  },
  {
   "cell_type": "code",
   "execution_count": 8,
   "id": "41528a70-5d1f-4fad-b1f5-9af3af96944d",
   "metadata": {},
   "outputs": [
    {
     "name": "stdout",
     "output_type": "stream",
     "text": [
      "Done sorting the dates in descending order.\n",
      "\n"
     ]
    }
   ],
   "source": [
    "# Sort the data years in descending order (2022 -> 2023 -> 2024)\n",
    "bs_df.sort_index(ascending=False, inplace=True)\n",
    "is_df.sort_index(ascending=False, inplace=True)\n",
    "cf_df.sort_index(ascending=False, inplace=True)\n",
    "\n",
    "print(\"Done sorting the dates in descending order.\\n\")"
   ]
  },
  {
   "cell_type": "code",
   "execution_count": 9,
   "id": "3cad5715",
   "metadata": {},
   "outputs": [
    {
     "name": "stdout",
     "output_type": "stream",
     "text": [
      "Done filtering data frames for 5 years.\n",
      "\n"
     ]
    }
   ],
   "source": [
    "# Filter databases for the selected number of years\n",
    "# Useful for paid plan\n",
    "bs_df = bs_df.iloc[-years:]\n",
    "is_df = is_df.iloc[-years:]\n",
    "cf_df = cf_df.iloc[-years:]\n",
    "\n",
    "print(\"Done filtering data frames for\", years, \"years.\\n\")"
   ]
  },
  {
   "cell_type": "markdown",
   "id": "6bba9faa-1fff-45f7-9626-6ebb8a39307e",
   "metadata": {},
   "source": [
    "<a id=\"get_company_currency\"></a>\n",
    "### Get company currency[*](#index)"
   ]
  },
  {
   "cell_type": "code",
   "execution_count": 10,
   "id": "37aca5fa-bf2e-4baf-95b3-bb72778f7917",
   "metadata": {},
   "outputs": [
    {
     "name": "stdout",
     "output_type": "stream",
     "text": [
      "The currency for company XOM is: USD\n"
     ]
    }
   ],
   "source": [
    "# Get company Currency\n",
    "currency = bs_df.iloc[0][\"reportedCurrency\"]\n",
    "print(\"The currency for company \"+company+\" is: \"+currency)"
   ]
  },
  {
   "cell_type": "markdown",
   "id": "2241c1c5-13b6-4d9e-bd64-c8265ad7364c",
   "metadata": {},
   "source": [
    "<a id=\"download_company_image\"></a>\n",
    "### Download company image[*](#index)"
   ]
  },
  {
   "cell_type": "code",
   "execution_count": 11,
   "id": "49a82db0-5d93-4370-83e4-be6fc5d0ff58",
   "metadata": {},
   "outputs": [
    {
     "name": "stdout",
     "output_type": "stream",
     "text": [
      "Company Logo downloaded\n",
      "\n"
     ]
    }
   ],
   "source": [
    "# Download the company image\n",
    "try:\n",
    "    imageurl = profile_df.iloc[0]['image']\n",
    "    r = requests.get(imageurl)\n",
    "    with open(\"images/output/company_logo.png\", \"wb\") as f:\n",
    "        f.write(r.content)\n",
    "    print(\"Company Logo downloaded\\n\")\n",
    "except Exception:\n",
    "    print(\"Could not download company logo\")\n",
    "    pass"
   ]
  },
  {
   "cell_type": "markdown",
   "id": "aa0e4aba-44a3-4d2f-8d9d-a2a9b96ee315",
   "metadata": {},
   "source": [
    "# Process Data"
   ]
  },
  {
   "cell_type": "markdown",
   "id": "cae24c62-87b2-41ae-a4ac-2602e5877f31",
   "metadata": {},
   "source": [
    "<a id=\"graph_df\"></a>\n",
    "### Create graphs [*](#index)"
   ]
  },
  {
   "cell_type": "markdown",
   "id": "ae84b54e-9b79-4c92-8727-fdc6e6f51438",
   "metadata": {},
   "source": [
    "<a id=\"bs_graph\"></a>\n",
    "### [Graph] Balance Sheet: Nominal and Common size [*](#index)"
   ]
  },
  {
   "cell_type": "code",
   "execution_count": 12,
   "id": "faa57a36-cd16-49fd-afb6-21eae20c0585",
   "metadata": {
    "tags": []
   },
   "outputs": [
    {
     "name": "stdout",
     "output_type": "stream",
     "text": [
      "Balance sheet graph created.\n",
      "\n"
     ]
    },
    {
     "data": {
      "application/vnd.plotly.v1+json": {
       "config": {
        "plotlyServerURL": "https://plot.ly"
       },
       "data": [
        {
         "marker": {
          "color": "#003B73"
         },
         "name": "Assets",
         "offsetgroup": "0",
         "textposition": "inside",
         "texttemplate": "%{y:.2s}",
         "type": "bar",
         "x": [
          "2020",
          "2021",
          "2022",
          "2023",
          "2024"
         ],
         "y": [
          332750000000,
          338923000000,
          369067000000,
          376317000000,
          453475000000
         ]
        },
        {
         "marker": {
          "color": "#01949a"
         },
         "name": "Equity",
         "offsetgroup": "1",
         "textposition": "inside",
         "texttemplate": "%{y:.2s}",
         "type": "bar",
         "x": [
          "2020",
          "2021",
          "2022",
          "2023",
          "2024"
         ],
         "y": [
          157150000000,
          168577000000,
          195049000000,
          204802000000,
          270606000000
         ]
        },
        {
         "base": [
          157150000000,
          168577000000,
          195049000000,
          204802000000,
          270606000000
         ],
         "marker": {
          "color": "#db1f48"
         },
         "name": "Liabilities",
         "offsetgroup": "1",
         "textposition": "inside",
         "texttemplate": "%{y:.2s}",
         "type": "bar",
         "x": [
          "2020",
          "2021",
          "2022",
          "2023",
          "2024"
         ],
         "y": [
          168620000000,
          163240000000,
          166594000000,
          163779000000,
          182869000000
         ]
        },
        {
         "marker": {
          "color": "#746C70"
         },
         "name": "GW & Intangibles",
         "offsetgroup": "2",
         "textposition": "inside",
         "texttemplate": "%{y:.2s}",
         "type": "bar",
         "x": [
          "2020",
          "2021",
          "2022",
          "2023",
          "2024"
         ],
         "y": [
          16789000000,
          18022000000,
          16951000000,
          0,
          19967000000
         ]
        }
       ],
       "layout": {
        "barmode": "group",
        "height": 400,
        "legend": {
         "orientation": "h",
         "x": 1,
         "xanchor": "right",
         "y": 1,
         "yanchor": "bottom"
        },
        "template": {
         "data": {
          "bar": [
           {
            "error_x": {
             "color": "#2a3f5f"
            },
            "error_y": {
             "color": "#2a3f5f"
            },
            "marker": {
             "line": {
              "color": "#E5ECF6",
              "width": 0.5
             },
             "pattern": {
              "fillmode": "overlay",
              "size": 10,
              "solidity": 0.2
             }
            },
            "type": "bar"
           }
          ],
          "barpolar": [
           {
            "marker": {
             "line": {
              "color": "#E5ECF6",
              "width": 0.5
             },
             "pattern": {
              "fillmode": "overlay",
              "size": 10,
              "solidity": 0.2
             }
            },
            "type": "barpolar"
           }
          ],
          "carpet": [
           {
            "aaxis": {
             "endlinecolor": "#2a3f5f",
             "gridcolor": "white",
             "linecolor": "white",
             "minorgridcolor": "white",
             "startlinecolor": "#2a3f5f"
            },
            "baxis": {
             "endlinecolor": "#2a3f5f",
             "gridcolor": "white",
             "linecolor": "white",
             "minorgridcolor": "white",
             "startlinecolor": "#2a3f5f"
            },
            "type": "carpet"
           }
          ],
          "choropleth": [
           {
            "colorbar": {
             "outlinewidth": 0,
             "ticks": ""
            },
            "type": "choropleth"
           }
          ],
          "contour": [
           {
            "colorbar": {
             "outlinewidth": 0,
             "ticks": ""
            },
            "colorscale": [
             [
              0,
              "#0d0887"
             ],
             [
              0.1111111111111111,
              "#46039f"
             ],
             [
              0.2222222222222222,
              "#7201a8"
             ],
             [
              0.3333333333333333,
              "#9c179e"
             ],
             [
              0.4444444444444444,
              "#bd3786"
             ],
             [
              0.5555555555555556,
              "#d8576b"
             ],
             [
              0.6666666666666666,
              "#ed7953"
             ],
             [
              0.7777777777777778,
              "#fb9f3a"
             ],
             [
              0.8888888888888888,
              "#fdca26"
             ],
             [
              1,
              "#f0f921"
             ]
            ],
            "type": "contour"
           }
          ],
          "contourcarpet": [
           {
            "colorbar": {
             "outlinewidth": 0,
             "ticks": ""
            },
            "type": "contourcarpet"
           }
          ],
          "heatmap": [
           {
            "colorbar": {
             "outlinewidth": 0,
             "ticks": ""
            },
            "colorscale": [
             [
              0,
              "#0d0887"
             ],
             [
              0.1111111111111111,
              "#46039f"
             ],
             [
              0.2222222222222222,
              "#7201a8"
             ],
             [
              0.3333333333333333,
              "#9c179e"
             ],
             [
              0.4444444444444444,
              "#bd3786"
             ],
             [
              0.5555555555555556,
              "#d8576b"
             ],
             [
              0.6666666666666666,
              "#ed7953"
             ],
             [
              0.7777777777777778,
              "#fb9f3a"
             ],
             [
              0.8888888888888888,
              "#fdca26"
             ],
             [
              1,
              "#f0f921"
             ]
            ],
            "type": "heatmap"
           }
          ],
          "histogram": [
           {
            "marker": {
             "pattern": {
              "fillmode": "overlay",
              "size": 10,
              "solidity": 0.2
             }
            },
            "type": "histogram"
           }
          ],
          "histogram2d": [
           {
            "colorbar": {
             "outlinewidth": 0,
             "ticks": ""
            },
            "colorscale": [
             [
              0,
              "#0d0887"
             ],
             [
              0.1111111111111111,
              "#46039f"
             ],
             [
              0.2222222222222222,
              "#7201a8"
             ],
             [
              0.3333333333333333,
              "#9c179e"
             ],
             [
              0.4444444444444444,
              "#bd3786"
             ],
             [
              0.5555555555555556,
              "#d8576b"
             ],
             [
              0.6666666666666666,
              "#ed7953"
             ],
             [
              0.7777777777777778,
              "#fb9f3a"
             ],
             [
              0.8888888888888888,
              "#fdca26"
             ],
             [
              1,
              "#f0f921"
             ]
            ],
            "type": "histogram2d"
           }
          ],
          "histogram2dcontour": [
           {
            "colorbar": {
             "outlinewidth": 0,
             "ticks": ""
            },
            "colorscale": [
             [
              0,
              "#0d0887"
             ],
             [
              0.1111111111111111,
              "#46039f"
             ],
             [
              0.2222222222222222,
              "#7201a8"
             ],
             [
              0.3333333333333333,
              "#9c179e"
             ],
             [
              0.4444444444444444,
              "#bd3786"
             ],
             [
              0.5555555555555556,
              "#d8576b"
             ],
             [
              0.6666666666666666,
              "#ed7953"
             ],
             [
              0.7777777777777778,
              "#fb9f3a"
             ],
             [
              0.8888888888888888,
              "#fdca26"
             ],
             [
              1,
              "#f0f921"
             ]
            ],
            "type": "histogram2dcontour"
           }
          ],
          "mesh3d": [
           {
            "colorbar": {
             "outlinewidth": 0,
             "ticks": ""
            },
            "type": "mesh3d"
           }
          ],
          "parcoords": [
           {
            "line": {
             "colorbar": {
              "outlinewidth": 0,
              "ticks": ""
             }
            },
            "type": "parcoords"
           }
          ],
          "pie": [
           {
            "automargin": true,
            "type": "pie"
           }
          ],
          "scatter": [
           {
            "fillpattern": {
             "fillmode": "overlay",
             "size": 10,
             "solidity": 0.2
            },
            "type": "scatter"
           }
          ],
          "scatter3d": [
           {
            "line": {
             "colorbar": {
              "outlinewidth": 0,
              "ticks": ""
             }
            },
            "marker": {
             "colorbar": {
              "outlinewidth": 0,
              "ticks": ""
             }
            },
            "type": "scatter3d"
           }
          ],
          "scattercarpet": [
           {
            "marker": {
             "colorbar": {
              "outlinewidth": 0,
              "ticks": ""
             }
            },
            "type": "scattercarpet"
           }
          ],
          "scattergeo": [
           {
            "marker": {
             "colorbar": {
              "outlinewidth": 0,
              "ticks": ""
             }
            },
            "type": "scattergeo"
           }
          ],
          "scattergl": [
           {
            "marker": {
             "colorbar": {
              "outlinewidth": 0,
              "ticks": ""
             }
            },
            "type": "scattergl"
           }
          ],
          "scattermap": [
           {
            "marker": {
             "colorbar": {
              "outlinewidth": 0,
              "ticks": ""
             }
            },
            "type": "scattermap"
           }
          ],
          "scattermapbox": [
           {
            "marker": {
             "colorbar": {
              "outlinewidth": 0,
              "ticks": ""
             }
            },
            "type": "scattermapbox"
           }
          ],
          "scatterpolar": [
           {
            "marker": {
             "colorbar": {
              "outlinewidth": 0,
              "ticks": ""
             }
            },
            "type": "scatterpolar"
           }
          ],
          "scatterpolargl": [
           {
            "marker": {
             "colorbar": {
              "outlinewidth": 0,
              "ticks": ""
             }
            },
            "type": "scatterpolargl"
           }
          ],
          "scatterternary": [
           {
            "marker": {
             "colorbar": {
              "outlinewidth": 0,
              "ticks": ""
             }
            },
            "type": "scatterternary"
           }
          ],
          "surface": [
           {
            "colorbar": {
             "outlinewidth": 0,
             "ticks": ""
            },
            "colorscale": [
             [
              0,
              "#0d0887"
             ],
             [
              0.1111111111111111,
              "#46039f"
             ],
             [
              0.2222222222222222,
              "#7201a8"
             ],
             [
              0.3333333333333333,
              "#9c179e"
             ],
             [
              0.4444444444444444,
              "#bd3786"
             ],
             [
              0.5555555555555556,
              "#d8576b"
             ],
             [
              0.6666666666666666,
              "#ed7953"
             ],
             [
              0.7777777777777778,
              "#fb9f3a"
             ],
             [
              0.8888888888888888,
              "#fdca26"
             ],
             [
              1,
              "#f0f921"
             ]
            ],
            "type": "surface"
           }
          ],
          "table": [
           {
            "cells": {
             "fill": {
              "color": "#EBF0F8"
             },
             "line": {
              "color": "white"
             }
            },
            "header": {
             "fill": {
              "color": "#C8D4E3"
             },
             "line": {
              "color": "white"
             }
            },
            "type": "table"
           }
          ]
         },
         "layout": {
          "annotationdefaults": {
           "arrowcolor": "#2a3f5f",
           "arrowhead": 0,
           "arrowwidth": 1
          },
          "autotypenumbers": "strict",
          "coloraxis": {
           "colorbar": {
            "outlinewidth": 0,
            "ticks": ""
           }
          },
          "colorscale": {
           "diverging": [
            [
             0,
             "#8e0152"
            ],
            [
             0.1,
             "#c51b7d"
            ],
            [
             0.2,
             "#de77ae"
            ],
            [
             0.3,
             "#f1b6da"
            ],
            [
             0.4,
             "#fde0ef"
            ],
            [
             0.5,
             "#f7f7f7"
            ],
            [
             0.6,
             "#e6f5d0"
            ],
            [
             0.7,
             "#b8e186"
            ],
            [
             0.8,
             "#7fbc41"
            ],
            [
             0.9,
             "#4d9221"
            ],
            [
             1,
             "#276419"
            ]
           ],
           "sequential": [
            [
             0,
             "#0d0887"
            ],
            [
             0.1111111111111111,
             "#46039f"
            ],
            [
             0.2222222222222222,
             "#7201a8"
            ],
            [
             0.3333333333333333,
             "#9c179e"
            ],
            [
             0.4444444444444444,
             "#bd3786"
            ],
            [
             0.5555555555555556,
             "#d8576b"
            ],
            [
             0.6666666666666666,
             "#ed7953"
            ],
            [
             0.7777777777777778,
             "#fb9f3a"
            ],
            [
             0.8888888888888888,
             "#fdca26"
            ],
            [
             1,
             "#f0f921"
            ]
           ],
           "sequentialminus": [
            [
             0,
             "#0d0887"
            ],
            [
             0.1111111111111111,
             "#46039f"
            ],
            [
             0.2222222222222222,
             "#7201a8"
            ],
            [
             0.3333333333333333,
             "#9c179e"
            ],
            [
             0.4444444444444444,
             "#bd3786"
            ],
            [
             0.5555555555555556,
             "#d8576b"
            ],
            [
             0.6666666666666666,
             "#ed7953"
            ],
            [
             0.7777777777777778,
             "#fb9f3a"
            ],
            [
             0.8888888888888888,
             "#fdca26"
            ],
            [
             1,
             "#f0f921"
            ]
           ]
          },
          "colorway": [
           "#636efa",
           "#EF553B",
           "#00cc96",
           "#ab63fa",
           "#FFA15A",
           "#19d3f3",
           "#FF6692",
           "#B6E880",
           "#FF97FF",
           "#FECB52"
          ],
          "font": {
           "color": "#2a3f5f"
          },
          "geo": {
           "bgcolor": "white",
           "lakecolor": "white",
           "landcolor": "#E5ECF6",
           "showlakes": true,
           "showland": true,
           "subunitcolor": "white"
          },
          "hoverlabel": {
           "align": "left"
          },
          "hovermode": "closest",
          "mapbox": {
           "style": "light"
          },
          "paper_bgcolor": "white",
          "plot_bgcolor": "#E5ECF6",
          "polar": {
           "angularaxis": {
            "gridcolor": "white",
            "linecolor": "white",
            "ticks": ""
           },
           "bgcolor": "#E5ECF6",
           "radialaxis": {
            "gridcolor": "white",
            "linecolor": "white",
            "ticks": ""
           }
          },
          "scene": {
           "xaxis": {
            "backgroundcolor": "#E5ECF6",
            "gridcolor": "white",
            "gridwidth": 2,
            "linecolor": "white",
            "showbackground": true,
            "ticks": "",
            "zerolinecolor": "white"
           },
           "yaxis": {
            "backgroundcolor": "#E5ECF6",
            "gridcolor": "white",
            "gridwidth": 2,
            "linecolor": "white",
            "showbackground": true,
            "ticks": "",
            "zerolinecolor": "white"
           },
           "zaxis": {
            "backgroundcolor": "#E5ECF6",
            "gridcolor": "white",
            "gridwidth": 2,
            "linecolor": "white",
            "showbackground": true,
            "ticks": "",
            "zerolinecolor": "white"
           }
          },
          "shapedefaults": {
           "line": {
            "color": "#2a3f5f"
           }
          },
          "ternary": {
           "aaxis": {
            "gridcolor": "white",
            "linecolor": "white",
            "ticks": ""
           },
           "baxis": {
            "gridcolor": "white",
            "linecolor": "white",
            "ticks": ""
           },
           "bgcolor": "#E5ECF6",
           "caxis": {
            "gridcolor": "white",
            "linecolor": "white",
            "ticks": ""
           }
          },
          "title": {
           "x": 0.05
          },
          "xaxis": {
           "automargin": true,
           "gridcolor": "white",
           "linecolor": "white",
           "ticks": "",
           "title": {
            "standoff": 15
           },
           "zerolinecolor": "white",
           "zerolinewidth": 2
          },
          "yaxis": {
           "automargin": true,
           "gridcolor": "white",
           "linecolor": "white",
           "ticks": "",
           "title": {
            "standoff": 15
           },
           "zerolinecolor": "white",
           "zerolinewidth": 2
          }
         }
        },
        "title": {
         "text": "Balance Sheet for: XOM"
        },
        "width": 800,
        "xaxis": {
         "title": {
          "text": "Year"
         }
        },
        "yaxis": {
         "title": {
          "text": "Amount $ USD"
         }
        }
       }
      }
     },
     "metadata": {},
     "output_type": "display_data"
    },
    {
     "name": "stdout",
     "output_type": "stream",
     "text": [
      "Common size balance sheet graph created.\n",
      "\n"
     ]
    },
    {
     "data": {
      "application/vnd.plotly.v1+json": {
       "config": {
        "plotlyServerURL": "https://plot.ly"
       },
       "data": [
        {
         "marker": {
          "color": "#003B73"
         },
         "name": "Assets",
         "offsetgroup": "0",
         "textposition": "inside",
         "texttemplate": "%{y:.2s}",
         "type": "bar",
         "x": [
          "2020",
          "2021",
          "2022",
          "2023",
          "2024"
         ],
         "y": {
          "bdata": "AAAAAAAAWUAAAAAAAABZQAAAAAAAAFlAAAAAAAAAWUAAAAAAAABZQA==",
          "dtype": "f8"
         }
        },
        {
         "marker": {
          "color": "#01949a"
         },
         "name": "Equity",
         "offsetgroup": "1",
         "textposition": "inside",
         "texttemplate": "%{y:.2s}",
         "type": "bar",
         "x": [
          "2020",
          "2021",
          "2022",
          "2023",
          "2024"
         ],
         "y": {
          "bdata": "SpQPlSOdR0C8DatpmN5IQL8pu/eybEpAgKYFJhw2S0BQHJ7HQNZNQA==",
          "dtype": "f8"
         }
        },
        {
         "base": [
          47.227648384673174,
          49.739026268503466,
          52.849211660755365,
          54.42273402477167,
          59.673851921274604
         ],
         "marker": {
          "color": "#db1f48"
         },
         "name": "Liabilities",
         "offsetgroup": "1",
         "textposition": "inside",
         "texttemplate": "%{y:.2s}",
         "type": "bar",
         "x": [
          "2020",
          "2021",
          "2022",
          "2023",
          "2024"
         ],
         "y": {
          "bdata": "dv7X71tWSUC5t1fXCBVIQIfTYUXSkUZA76LdOcLCRUCw42E4vylEQA==",
          "dtype": "f8"
         }
        },
        {
         "marker": {
          "color": "#746C70"
         },
         "name": "GW & Intangibles",
         "offsetgroup": "2",
         "textposition": "inside",
         "texttemplate": "%{y:.2s}",
         "type": "bar",
         "x": [
          "2020",
          "2021",
          "2022",
          "2023",
          "2024"
         ],
         "y": {
          "bdata": "EbrlVJ8uFEBaD8jjDEUVQAdxa9MpXxJAAAAAAAAAAAD8nbKwyJwRQA==",
          "dtype": "f8"
         }
        }
       ],
       "layout": {
        "barmode": "group",
        "height": 400,
        "legend": {
         "orientation": "h",
         "x": 1,
         "xanchor": "right",
         "y": 1,
         "yanchor": "bottom"
        },
        "template": {
         "data": {
          "bar": [
           {
            "error_x": {
             "color": "#2a3f5f"
            },
            "error_y": {
             "color": "#2a3f5f"
            },
            "marker": {
             "line": {
              "color": "#E5ECF6",
              "width": 0.5
             },
             "pattern": {
              "fillmode": "overlay",
              "size": 10,
              "solidity": 0.2
             }
            },
            "type": "bar"
           }
          ],
          "barpolar": [
           {
            "marker": {
             "line": {
              "color": "#E5ECF6",
              "width": 0.5
             },
             "pattern": {
              "fillmode": "overlay",
              "size": 10,
              "solidity": 0.2
             }
            },
            "type": "barpolar"
           }
          ],
          "carpet": [
           {
            "aaxis": {
             "endlinecolor": "#2a3f5f",
             "gridcolor": "white",
             "linecolor": "white",
             "minorgridcolor": "white",
             "startlinecolor": "#2a3f5f"
            },
            "baxis": {
             "endlinecolor": "#2a3f5f",
             "gridcolor": "white",
             "linecolor": "white",
             "minorgridcolor": "white",
             "startlinecolor": "#2a3f5f"
            },
            "type": "carpet"
           }
          ],
          "choropleth": [
           {
            "colorbar": {
             "outlinewidth": 0,
             "ticks": ""
            },
            "type": "choropleth"
           }
          ],
          "contour": [
           {
            "colorbar": {
             "outlinewidth": 0,
             "ticks": ""
            },
            "colorscale": [
             [
              0,
              "#0d0887"
             ],
             [
              0.1111111111111111,
              "#46039f"
             ],
             [
              0.2222222222222222,
              "#7201a8"
             ],
             [
              0.3333333333333333,
              "#9c179e"
             ],
             [
              0.4444444444444444,
              "#bd3786"
             ],
             [
              0.5555555555555556,
              "#d8576b"
             ],
             [
              0.6666666666666666,
              "#ed7953"
             ],
             [
              0.7777777777777778,
              "#fb9f3a"
             ],
             [
              0.8888888888888888,
              "#fdca26"
             ],
             [
              1,
              "#f0f921"
             ]
            ],
            "type": "contour"
           }
          ],
          "contourcarpet": [
           {
            "colorbar": {
             "outlinewidth": 0,
             "ticks": ""
            },
            "type": "contourcarpet"
           }
          ],
          "heatmap": [
           {
            "colorbar": {
             "outlinewidth": 0,
             "ticks": ""
            },
            "colorscale": [
             [
              0,
              "#0d0887"
             ],
             [
              0.1111111111111111,
              "#46039f"
             ],
             [
              0.2222222222222222,
              "#7201a8"
             ],
             [
              0.3333333333333333,
              "#9c179e"
             ],
             [
              0.4444444444444444,
              "#bd3786"
             ],
             [
              0.5555555555555556,
              "#d8576b"
             ],
             [
              0.6666666666666666,
              "#ed7953"
             ],
             [
              0.7777777777777778,
              "#fb9f3a"
             ],
             [
              0.8888888888888888,
              "#fdca26"
             ],
             [
              1,
              "#f0f921"
             ]
            ],
            "type": "heatmap"
           }
          ],
          "histogram": [
           {
            "marker": {
             "pattern": {
              "fillmode": "overlay",
              "size": 10,
              "solidity": 0.2
             }
            },
            "type": "histogram"
           }
          ],
          "histogram2d": [
           {
            "colorbar": {
             "outlinewidth": 0,
             "ticks": ""
            },
            "colorscale": [
             [
              0,
              "#0d0887"
             ],
             [
              0.1111111111111111,
              "#46039f"
             ],
             [
              0.2222222222222222,
              "#7201a8"
             ],
             [
              0.3333333333333333,
              "#9c179e"
             ],
             [
              0.4444444444444444,
              "#bd3786"
             ],
             [
              0.5555555555555556,
              "#d8576b"
             ],
             [
              0.6666666666666666,
              "#ed7953"
             ],
             [
              0.7777777777777778,
              "#fb9f3a"
             ],
             [
              0.8888888888888888,
              "#fdca26"
             ],
             [
              1,
              "#f0f921"
             ]
            ],
            "type": "histogram2d"
           }
          ],
          "histogram2dcontour": [
           {
            "colorbar": {
             "outlinewidth": 0,
             "ticks": ""
            },
            "colorscale": [
             [
              0,
              "#0d0887"
             ],
             [
              0.1111111111111111,
              "#46039f"
             ],
             [
              0.2222222222222222,
              "#7201a8"
             ],
             [
              0.3333333333333333,
              "#9c179e"
             ],
             [
              0.4444444444444444,
              "#bd3786"
             ],
             [
              0.5555555555555556,
              "#d8576b"
             ],
             [
              0.6666666666666666,
              "#ed7953"
             ],
             [
              0.7777777777777778,
              "#fb9f3a"
             ],
             [
              0.8888888888888888,
              "#fdca26"
             ],
             [
              1,
              "#f0f921"
             ]
            ],
            "type": "histogram2dcontour"
           }
          ],
          "mesh3d": [
           {
            "colorbar": {
             "outlinewidth": 0,
             "ticks": ""
            },
            "type": "mesh3d"
           }
          ],
          "parcoords": [
           {
            "line": {
             "colorbar": {
              "outlinewidth": 0,
              "ticks": ""
             }
            },
            "type": "parcoords"
           }
          ],
          "pie": [
           {
            "automargin": true,
            "type": "pie"
           }
          ],
          "scatter": [
           {
            "fillpattern": {
             "fillmode": "overlay",
             "size": 10,
             "solidity": 0.2
            },
            "type": "scatter"
           }
          ],
          "scatter3d": [
           {
            "line": {
             "colorbar": {
              "outlinewidth": 0,
              "ticks": ""
             }
            },
            "marker": {
             "colorbar": {
              "outlinewidth": 0,
              "ticks": ""
             }
            },
            "type": "scatter3d"
           }
          ],
          "scattercarpet": [
           {
            "marker": {
             "colorbar": {
              "outlinewidth": 0,
              "ticks": ""
             }
            },
            "type": "scattercarpet"
           }
          ],
          "scattergeo": [
           {
            "marker": {
             "colorbar": {
              "outlinewidth": 0,
              "ticks": ""
             }
            },
            "type": "scattergeo"
           }
          ],
          "scattergl": [
           {
            "marker": {
             "colorbar": {
              "outlinewidth": 0,
              "ticks": ""
             }
            },
            "type": "scattergl"
           }
          ],
          "scattermap": [
           {
            "marker": {
             "colorbar": {
              "outlinewidth": 0,
              "ticks": ""
             }
            },
            "type": "scattermap"
           }
          ],
          "scattermapbox": [
           {
            "marker": {
             "colorbar": {
              "outlinewidth": 0,
              "ticks": ""
             }
            },
            "type": "scattermapbox"
           }
          ],
          "scatterpolar": [
           {
            "marker": {
             "colorbar": {
              "outlinewidth": 0,
              "ticks": ""
             }
            },
            "type": "scatterpolar"
           }
          ],
          "scatterpolargl": [
           {
            "marker": {
             "colorbar": {
              "outlinewidth": 0,
              "ticks": ""
             }
            },
            "type": "scatterpolargl"
           }
          ],
          "scatterternary": [
           {
            "marker": {
             "colorbar": {
              "outlinewidth": 0,
              "ticks": ""
             }
            },
            "type": "scatterternary"
           }
          ],
          "surface": [
           {
            "colorbar": {
             "outlinewidth": 0,
             "ticks": ""
            },
            "colorscale": [
             [
              0,
              "#0d0887"
             ],
             [
              0.1111111111111111,
              "#46039f"
             ],
             [
              0.2222222222222222,
              "#7201a8"
             ],
             [
              0.3333333333333333,
              "#9c179e"
             ],
             [
              0.4444444444444444,
              "#bd3786"
             ],
             [
              0.5555555555555556,
              "#d8576b"
             ],
             [
              0.6666666666666666,
              "#ed7953"
             ],
             [
              0.7777777777777778,
              "#fb9f3a"
             ],
             [
              0.8888888888888888,
              "#fdca26"
             ],
             [
              1,
              "#f0f921"
             ]
            ],
            "type": "surface"
           }
          ],
          "table": [
           {
            "cells": {
             "fill": {
              "color": "#EBF0F8"
             },
             "line": {
              "color": "white"
             }
            },
            "header": {
             "fill": {
              "color": "#C8D4E3"
             },
             "line": {
              "color": "white"
             }
            },
            "type": "table"
           }
          ]
         },
         "layout": {
          "annotationdefaults": {
           "arrowcolor": "#2a3f5f",
           "arrowhead": 0,
           "arrowwidth": 1
          },
          "autotypenumbers": "strict",
          "coloraxis": {
           "colorbar": {
            "outlinewidth": 0,
            "ticks": ""
           }
          },
          "colorscale": {
           "diverging": [
            [
             0,
             "#8e0152"
            ],
            [
             0.1,
             "#c51b7d"
            ],
            [
             0.2,
             "#de77ae"
            ],
            [
             0.3,
             "#f1b6da"
            ],
            [
             0.4,
             "#fde0ef"
            ],
            [
             0.5,
             "#f7f7f7"
            ],
            [
             0.6,
             "#e6f5d0"
            ],
            [
             0.7,
             "#b8e186"
            ],
            [
             0.8,
             "#7fbc41"
            ],
            [
             0.9,
             "#4d9221"
            ],
            [
             1,
             "#276419"
            ]
           ],
           "sequential": [
            [
             0,
             "#0d0887"
            ],
            [
             0.1111111111111111,
             "#46039f"
            ],
            [
             0.2222222222222222,
             "#7201a8"
            ],
            [
             0.3333333333333333,
             "#9c179e"
            ],
            [
             0.4444444444444444,
             "#bd3786"
            ],
            [
             0.5555555555555556,
             "#d8576b"
            ],
            [
             0.6666666666666666,
             "#ed7953"
            ],
            [
             0.7777777777777778,
             "#fb9f3a"
            ],
            [
             0.8888888888888888,
             "#fdca26"
            ],
            [
             1,
             "#f0f921"
            ]
           ],
           "sequentialminus": [
            [
             0,
             "#0d0887"
            ],
            [
             0.1111111111111111,
             "#46039f"
            ],
            [
             0.2222222222222222,
             "#7201a8"
            ],
            [
             0.3333333333333333,
             "#9c179e"
            ],
            [
             0.4444444444444444,
             "#bd3786"
            ],
            [
             0.5555555555555556,
             "#d8576b"
            ],
            [
             0.6666666666666666,
             "#ed7953"
            ],
            [
             0.7777777777777778,
             "#fb9f3a"
            ],
            [
             0.8888888888888888,
             "#fdca26"
            ],
            [
             1,
             "#f0f921"
            ]
           ]
          },
          "colorway": [
           "#636efa",
           "#EF553B",
           "#00cc96",
           "#ab63fa",
           "#FFA15A",
           "#19d3f3",
           "#FF6692",
           "#B6E880",
           "#FF97FF",
           "#FECB52"
          ],
          "font": {
           "color": "#2a3f5f"
          },
          "geo": {
           "bgcolor": "white",
           "lakecolor": "white",
           "landcolor": "#E5ECF6",
           "showlakes": true,
           "showland": true,
           "subunitcolor": "white"
          },
          "hoverlabel": {
           "align": "left"
          },
          "hovermode": "closest",
          "mapbox": {
           "style": "light"
          },
          "paper_bgcolor": "white",
          "plot_bgcolor": "#E5ECF6",
          "polar": {
           "angularaxis": {
            "gridcolor": "white",
            "linecolor": "white",
            "ticks": ""
           },
           "bgcolor": "#E5ECF6",
           "radialaxis": {
            "gridcolor": "white",
            "linecolor": "white",
            "ticks": ""
           }
          },
          "scene": {
           "xaxis": {
            "backgroundcolor": "#E5ECF6",
            "gridcolor": "white",
            "gridwidth": 2,
            "linecolor": "white",
            "showbackground": true,
            "ticks": "",
            "zerolinecolor": "white"
           },
           "yaxis": {
            "backgroundcolor": "#E5ECF6",
            "gridcolor": "white",
            "gridwidth": 2,
            "linecolor": "white",
            "showbackground": true,
            "ticks": "",
            "zerolinecolor": "white"
           },
           "zaxis": {
            "backgroundcolor": "#E5ECF6",
            "gridcolor": "white",
            "gridwidth": 2,
            "linecolor": "white",
            "showbackground": true,
            "ticks": "",
            "zerolinecolor": "white"
           }
          },
          "shapedefaults": {
           "line": {
            "color": "#2a3f5f"
           }
          },
          "ternary": {
           "aaxis": {
            "gridcolor": "white",
            "linecolor": "white",
            "ticks": ""
           },
           "baxis": {
            "gridcolor": "white",
            "linecolor": "white",
            "ticks": ""
           },
           "bgcolor": "#E5ECF6",
           "caxis": {
            "gridcolor": "white",
            "linecolor": "white",
            "ticks": ""
           }
          },
          "title": {
           "x": 0.05
          },
          "xaxis": {
           "automargin": true,
           "gridcolor": "white",
           "linecolor": "white",
           "ticks": "",
           "title": {
            "standoff": 15
           },
           "zerolinecolor": "white",
           "zerolinewidth": 2
          },
          "yaxis": {
           "automargin": true,
           "gridcolor": "white",
           "linecolor": "white",
           "ticks": "",
           "title": {
            "standoff": 15
           },
           "zerolinecolor": "white",
           "zerolinewidth": 2
          }
         }
        },
        "title": {
         "text": "Common Size Balance Sheet for: XOM"
        },
        "width": 800,
        "xaxis": {
         "title": {
          "text": "Year"
         }
        },
        "yaxis": {
         "title": {
          "text": "Amount % "
         }
        }
       }
      }
     },
     "metadata": {},
     "output_type": "display_data"
    }
   ],
   "source": [
    "# Balance Sheet Graph\n",
    "fig = go.Figure(\n",
    "    data=[\n",
    "        go.Bar(name=\"Assets\",\n",
    "               x=bs_df[\"calendarYear\"],\n",
    "               y=bs_df[\"totalAssets\"],\n",
    "               marker_color=\"#003B73\",\n",
    "               offsetgroup=0,\n",
    "               ),\n",
    "        go.Bar(name=\"Equity\",\n",
    "               x=bs_df[\"calendarYear\"],\n",
    "               y=bs_df[\"totalStockholdersEquity\"],\n",
    "               marker_color=\"#01949a\",\n",
    "               offsetgroup=1,\n",
    "               ),\n",
    "        go.Bar(name=\"Liabilities\",\n",
    "               x=bs_df[\"calendarYear\"],\n",
    "               y=bs_df[\"totalLiabilities\"],\n",
    "               marker_color=\"#db1f48\",\n",
    "               offsetgroup=1,\n",
    "               base=bs_df[\"totalStockholdersEquity\"],\n",
    "               ),\n",
    "        go.Bar(name=\"GW & Intangibles\",\n",
    "               x=bs_df[\"calendarYear\"],\n",
    "               y=bs_df[\"goodwillAndIntangibleAssets\"],\n",
    "               marker_color=\"#746C70\",\n",
    "               offsetgroup=2,\n",
    "               ),\n",
    "         ])\n",
    "fig.update_layout(barmode=\"group\",\n",
    "                  title=str(\"Balance Sheet for: \" + company),\n",
    "                  xaxis_title=\"Year\",\n",
    "                  yaxis_title=(\"Amount $ \" + currency),\n",
    "                  legend=dict(orientation=\"h\",\n",
    "                              yanchor=\"bottom\",\n",
    "                              xanchor=\"right\",\n",
    "                              x=1, y=1.0),\n",
    "                  width=800, height=400)\n",
    "\n",
    "fig.update_traces(texttemplate=\"%{y:.2s}\", textposition=\"inside\")\n",
    "file_name = \"images/output/bs_graph.png\"\n",
    "fig.write_image(file_name, format='png', scale=2)\n",
    "\n",
    "print(\"Balance sheet graph created.\\n\")\n",
    "fig.show()\n",
    "\n",
    "# Common Size Balance Sheet Graph\n",
    "fig = go.Figure(\n",
    "    data=[\n",
    "        go.Bar(name=\"Assets\",\n",
    "               x=bs_df[\"calendarYear\"],\n",
    "               y=bs_df[\"totalAssets\"]/bs_df[\"totalAssets\"]*100,\n",
    "               marker_color=\"#003B73\",\n",
    "               offsetgroup=0,\n",
    "               ),\n",
    "        go.Bar(name=\"Equity\",\n",
    "               x=bs_df[\"calendarYear\"],\n",
    "               y=bs_df[\"totalStockholdersEquity\"]/bs_df[\"totalAssets\"]*100,\n",
    "               marker_color=\"#01949a\",\n",
    "               offsetgroup=1,\n",
    "               ),\n",
    "        go.Bar(name=\"Liabilities\",\n",
    "               x=bs_df[\"calendarYear\"],\n",
    "               y=bs_df[\"totalLiabilities\"]/bs_df[\"totalAssets\"]*100,\n",
    "               marker_color=\"#db1f48\",\n",
    "               offsetgroup=1,\n",
    "               base=bs_df[\"totalStockholdersEquity\"]/bs_df[\"totalAssets\"]*100,\n",
    "               ),\n",
    "        go.Bar(name=\"GW & Intangibles\",\n",
    "               x=bs_df[\"calendarYear\"],\n",
    "               y=bs_df[\"goodwillAndIntangibleAssets\"]/bs_df[\"totalAssets\"]*100,\n",
    "               marker_color=\"#746C70\",\n",
    "               offsetgroup=2,\n",
    "               ),\n",
    "         ])\n",
    "fig.update_layout(barmode=\"group\",\n",
    "                  title=str(\"Common Size Balance Sheet for: \" + company),\n",
    "                  xaxis_title=\"Year\",\n",
    "                  yaxis_title=(\"Amount % \"),\n",
    "                  legend=dict(orientation=\"h\",\n",
    "                              yanchor=\"bottom\",\n",
    "                              xanchor=\"right\",\n",
    "                              x=1, y=1.0),\n",
    "                  width=800, height=400)\n",
    "\n",
    "fig.update_traces(texttemplate=\"%{y:.2s}\", textposition=\"inside\")\n",
    "file_name = \"images/output/bs_graph_cs.png\"\n",
    "fig.write_image(file_name, format='png', scale=2)\n",
    "\n",
    "print(\"Common size balance sheet graph created.\\n\")\n",
    "fig.show()"
   ]
  },
  {
   "cell_type": "markdown",
   "id": "fbd36729-32ff-4fc4-acec-e7581763ce80",
   "metadata": {},
   "source": [
    "<a id=\"is_graph\"></a>\n",
    "### [Graph] Income Statement: Nominal and Common size [*](#index)"
   ]
  },
  {
   "cell_type": "code",
   "execution_count": 13,
   "id": "4d99efe6-6f3c-44cd-bc4c-4dc6dbd4a994",
   "metadata": {},
   "outputs": [
    {
     "name": "stdout",
     "output_type": "stream",
     "text": [
      "Income statement graph created.\n",
      "\n"
     ]
    },
    {
     "data": {
      "application/vnd.plotly.v1+json": {
       "config": {
        "plotlyServerURL": "https://plot.ly"
       },
       "data": [
        {
         "marker": {
          "color": "#004369"
         },
         "name": "Revenue",
         "textposition": "inside",
         "texttemplate": "%{y:.2s}",
         "type": "bar",
         "x": [
          "2020",
          "2021",
          "2022",
          "2023",
          "2024"
         ],
         "y": [
          179784000000,
          278981000000,
          402217000000,
          334697000000,
          349585000000
         ]
        },
        {
         "marker": {
          "color": "#41729f"
         },
         "name": "Net Income",
         "textposition": "inside",
         "texttemplate": "%{y:.2s}",
         "type": "bar",
         "x": [
          "2020",
          "2021",
          "2022",
          "2023",
          "2024"
         ],
         "y": [
          -22440000000,
          23040000000,
          55740000000,
          36010000000,
          33680000000
         ]
        },
        {
         "marker": {
          "color": "#DB1F48"
         },
         "name": "Interest Expense",
         "textposition": "inside",
         "texttemplate": "%{y:.2s}",
         "type": "bar",
         "x": [
          "2020",
          "2021",
          "2022",
          "2023",
          "2024"
         ],
         "y": {
          "bdata": "gK0FRcAScjiAg5AvAAAAAAAAAAA=",
          "dtype": "i4"
         }
        }
       ],
       "layout": {
        "barmode": "group",
        "height": 400,
        "legend": {
         "orientation": "h",
         "x": 1,
         "xanchor": "right",
         "y": 1,
         "yanchor": "bottom"
        },
        "template": {
         "data": {
          "bar": [
           {
            "error_x": {
             "color": "#2a3f5f"
            },
            "error_y": {
             "color": "#2a3f5f"
            },
            "marker": {
             "line": {
              "color": "#E5ECF6",
              "width": 0.5
             },
             "pattern": {
              "fillmode": "overlay",
              "size": 10,
              "solidity": 0.2
             }
            },
            "type": "bar"
           }
          ],
          "barpolar": [
           {
            "marker": {
             "line": {
              "color": "#E5ECF6",
              "width": 0.5
             },
             "pattern": {
              "fillmode": "overlay",
              "size": 10,
              "solidity": 0.2
             }
            },
            "type": "barpolar"
           }
          ],
          "carpet": [
           {
            "aaxis": {
             "endlinecolor": "#2a3f5f",
             "gridcolor": "white",
             "linecolor": "white",
             "minorgridcolor": "white",
             "startlinecolor": "#2a3f5f"
            },
            "baxis": {
             "endlinecolor": "#2a3f5f",
             "gridcolor": "white",
             "linecolor": "white",
             "minorgridcolor": "white",
             "startlinecolor": "#2a3f5f"
            },
            "type": "carpet"
           }
          ],
          "choropleth": [
           {
            "colorbar": {
             "outlinewidth": 0,
             "ticks": ""
            },
            "type": "choropleth"
           }
          ],
          "contour": [
           {
            "colorbar": {
             "outlinewidth": 0,
             "ticks": ""
            },
            "colorscale": [
             [
              0,
              "#0d0887"
             ],
             [
              0.1111111111111111,
              "#46039f"
             ],
             [
              0.2222222222222222,
              "#7201a8"
             ],
             [
              0.3333333333333333,
              "#9c179e"
             ],
             [
              0.4444444444444444,
              "#bd3786"
             ],
             [
              0.5555555555555556,
              "#d8576b"
             ],
             [
              0.6666666666666666,
              "#ed7953"
             ],
             [
              0.7777777777777778,
              "#fb9f3a"
             ],
             [
              0.8888888888888888,
              "#fdca26"
             ],
             [
              1,
              "#f0f921"
             ]
            ],
            "type": "contour"
           }
          ],
          "contourcarpet": [
           {
            "colorbar": {
             "outlinewidth": 0,
             "ticks": ""
            },
            "type": "contourcarpet"
           }
          ],
          "heatmap": [
           {
            "colorbar": {
             "outlinewidth": 0,
             "ticks": ""
            },
            "colorscale": [
             [
              0,
              "#0d0887"
             ],
             [
              0.1111111111111111,
              "#46039f"
             ],
             [
              0.2222222222222222,
              "#7201a8"
             ],
             [
              0.3333333333333333,
              "#9c179e"
             ],
             [
              0.4444444444444444,
              "#bd3786"
             ],
             [
              0.5555555555555556,
              "#d8576b"
             ],
             [
              0.6666666666666666,
              "#ed7953"
             ],
             [
              0.7777777777777778,
              "#fb9f3a"
             ],
             [
              0.8888888888888888,
              "#fdca26"
             ],
             [
              1,
              "#f0f921"
             ]
            ],
            "type": "heatmap"
           }
          ],
          "histogram": [
           {
            "marker": {
             "pattern": {
              "fillmode": "overlay",
              "size": 10,
              "solidity": 0.2
             }
            },
            "type": "histogram"
           }
          ],
          "histogram2d": [
           {
            "colorbar": {
             "outlinewidth": 0,
             "ticks": ""
            },
            "colorscale": [
             [
              0,
              "#0d0887"
             ],
             [
              0.1111111111111111,
              "#46039f"
             ],
             [
              0.2222222222222222,
              "#7201a8"
             ],
             [
              0.3333333333333333,
              "#9c179e"
             ],
             [
              0.4444444444444444,
              "#bd3786"
             ],
             [
              0.5555555555555556,
              "#d8576b"
             ],
             [
              0.6666666666666666,
              "#ed7953"
             ],
             [
              0.7777777777777778,
              "#fb9f3a"
             ],
             [
              0.8888888888888888,
              "#fdca26"
             ],
             [
              1,
              "#f0f921"
             ]
            ],
            "type": "histogram2d"
           }
          ],
          "histogram2dcontour": [
           {
            "colorbar": {
             "outlinewidth": 0,
             "ticks": ""
            },
            "colorscale": [
             [
              0,
              "#0d0887"
             ],
             [
              0.1111111111111111,
              "#46039f"
             ],
             [
              0.2222222222222222,
              "#7201a8"
             ],
             [
              0.3333333333333333,
              "#9c179e"
             ],
             [
              0.4444444444444444,
              "#bd3786"
             ],
             [
              0.5555555555555556,
              "#d8576b"
             ],
             [
              0.6666666666666666,
              "#ed7953"
             ],
             [
              0.7777777777777778,
              "#fb9f3a"
             ],
             [
              0.8888888888888888,
              "#fdca26"
             ],
             [
              1,
              "#f0f921"
             ]
            ],
            "type": "histogram2dcontour"
           }
          ],
          "mesh3d": [
           {
            "colorbar": {
             "outlinewidth": 0,
             "ticks": ""
            },
            "type": "mesh3d"
           }
          ],
          "parcoords": [
           {
            "line": {
             "colorbar": {
              "outlinewidth": 0,
              "ticks": ""
             }
            },
            "type": "parcoords"
           }
          ],
          "pie": [
           {
            "automargin": true,
            "type": "pie"
           }
          ],
          "scatter": [
           {
            "fillpattern": {
             "fillmode": "overlay",
             "size": 10,
             "solidity": 0.2
            },
            "type": "scatter"
           }
          ],
          "scatter3d": [
           {
            "line": {
             "colorbar": {
              "outlinewidth": 0,
              "ticks": ""
             }
            },
            "marker": {
             "colorbar": {
              "outlinewidth": 0,
              "ticks": ""
             }
            },
            "type": "scatter3d"
           }
          ],
          "scattercarpet": [
           {
            "marker": {
             "colorbar": {
              "outlinewidth": 0,
              "ticks": ""
             }
            },
            "type": "scattercarpet"
           }
          ],
          "scattergeo": [
           {
            "marker": {
             "colorbar": {
              "outlinewidth": 0,
              "ticks": ""
             }
            },
            "type": "scattergeo"
           }
          ],
          "scattergl": [
           {
            "marker": {
             "colorbar": {
              "outlinewidth": 0,
              "ticks": ""
             }
            },
            "type": "scattergl"
           }
          ],
          "scattermap": [
           {
            "marker": {
             "colorbar": {
              "outlinewidth": 0,
              "ticks": ""
             }
            },
            "type": "scattermap"
           }
          ],
          "scattermapbox": [
           {
            "marker": {
             "colorbar": {
              "outlinewidth": 0,
              "ticks": ""
             }
            },
            "type": "scattermapbox"
           }
          ],
          "scatterpolar": [
           {
            "marker": {
             "colorbar": {
              "outlinewidth": 0,
              "ticks": ""
             }
            },
            "type": "scatterpolar"
           }
          ],
          "scatterpolargl": [
           {
            "marker": {
             "colorbar": {
              "outlinewidth": 0,
              "ticks": ""
             }
            },
            "type": "scatterpolargl"
           }
          ],
          "scatterternary": [
           {
            "marker": {
             "colorbar": {
              "outlinewidth": 0,
              "ticks": ""
             }
            },
            "type": "scatterternary"
           }
          ],
          "surface": [
           {
            "colorbar": {
             "outlinewidth": 0,
             "ticks": ""
            },
            "colorscale": [
             [
              0,
              "#0d0887"
             ],
             [
              0.1111111111111111,
              "#46039f"
             ],
             [
              0.2222222222222222,
              "#7201a8"
             ],
             [
              0.3333333333333333,
              "#9c179e"
             ],
             [
              0.4444444444444444,
              "#bd3786"
             ],
             [
              0.5555555555555556,
              "#d8576b"
             ],
             [
              0.6666666666666666,
              "#ed7953"
             ],
             [
              0.7777777777777778,
              "#fb9f3a"
             ],
             [
              0.8888888888888888,
              "#fdca26"
             ],
             [
              1,
              "#f0f921"
             ]
            ],
            "type": "surface"
           }
          ],
          "table": [
           {
            "cells": {
             "fill": {
              "color": "#EBF0F8"
             },
             "line": {
              "color": "white"
             }
            },
            "header": {
             "fill": {
              "color": "#C8D4E3"
             },
             "line": {
              "color": "white"
             }
            },
            "type": "table"
           }
          ]
         },
         "layout": {
          "annotationdefaults": {
           "arrowcolor": "#2a3f5f",
           "arrowhead": 0,
           "arrowwidth": 1
          },
          "autotypenumbers": "strict",
          "coloraxis": {
           "colorbar": {
            "outlinewidth": 0,
            "ticks": ""
           }
          },
          "colorscale": {
           "diverging": [
            [
             0,
             "#8e0152"
            ],
            [
             0.1,
             "#c51b7d"
            ],
            [
             0.2,
             "#de77ae"
            ],
            [
             0.3,
             "#f1b6da"
            ],
            [
             0.4,
             "#fde0ef"
            ],
            [
             0.5,
             "#f7f7f7"
            ],
            [
             0.6,
             "#e6f5d0"
            ],
            [
             0.7,
             "#b8e186"
            ],
            [
             0.8,
             "#7fbc41"
            ],
            [
             0.9,
             "#4d9221"
            ],
            [
             1,
             "#276419"
            ]
           ],
           "sequential": [
            [
             0,
             "#0d0887"
            ],
            [
             0.1111111111111111,
             "#46039f"
            ],
            [
             0.2222222222222222,
             "#7201a8"
            ],
            [
             0.3333333333333333,
             "#9c179e"
            ],
            [
             0.4444444444444444,
             "#bd3786"
            ],
            [
             0.5555555555555556,
             "#d8576b"
            ],
            [
             0.6666666666666666,
             "#ed7953"
            ],
            [
             0.7777777777777778,
             "#fb9f3a"
            ],
            [
             0.8888888888888888,
             "#fdca26"
            ],
            [
             1,
             "#f0f921"
            ]
           ],
           "sequentialminus": [
            [
             0,
             "#0d0887"
            ],
            [
             0.1111111111111111,
             "#46039f"
            ],
            [
             0.2222222222222222,
             "#7201a8"
            ],
            [
             0.3333333333333333,
             "#9c179e"
            ],
            [
             0.4444444444444444,
             "#bd3786"
            ],
            [
             0.5555555555555556,
             "#d8576b"
            ],
            [
             0.6666666666666666,
             "#ed7953"
            ],
            [
             0.7777777777777778,
             "#fb9f3a"
            ],
            [
             0.8888888888888888,
             "#fdca26"
            ],
            [
             1,
             "#f0f921"
            ]
           ]
          },
          "colorway": [
           "#636efa",
           "#EF553B",
           "#00cc96",
           "#ab63fa",
           "#FFA15A",
           "#19d3f3",
           "#FF6692",
           "#B6E880",
           "#FF97FF",
           "#FECB52"
          ],
          "font": {
           "color": "#2a3f5f"
          },
          "geo": {
           "bgcolor": "white",
           "lakecolor": "white",
           "landcolor": "#E5ECF6",
           "showlakes": true,
           "showland": true,
           "subunitcolor": "white"
          },
          "hoverlabel": {
           "align": "left"
          },
          "hovermode": "closest",
          "mapbox": {
           "style": "light"
          },
          "paper_bgcolor": "white",
          "plot_bgcolor": "#E5ECF6",
          "polar": {
           "angularaxis": {
            "gridcolor": "white",
            "linecolor": "white",
            "ticks": ""
           },
           "bgcolor": "#E5ECF6",
           "radialaxis": {
            "gridcolor": "white",
            "linecolor": "white",
            "ticks": ""
           }
          },
          "scene": {
           "xaxis": {
            "backgroundcolor": "#E5ECF6",
            "gridcolor": "white",
            "gridwidth": 2,
            "linecolor": "white",
            "showbackground": true,
            "ticks": "",
            "zerolinecolor": "white"
           },
           "yaxis": {
            "backgroundcolor": "#E5ECF6",
            "gridcolor": "white",
            "gridwidth": 2,
            "linecolor": "white",
            "showbackground": true,
            "ticks": "",
            "zerolinecolor": "white"
           },
           "zaxis": {
            "backgroundcolor": "#E5ECF6",
            "gridcolor": "white",
            "gridwidth": 2,
            "linecolor": "white",
            "showbackground": true,
            "ticks": "",
            "zerolinecolor": "white"
           }
          },
          "shapedefaults": {
           "line": {
            "color": "#2a3f5f"
           }
          },
          "ternary": {
           "aaxis": {
            "gridcolor": "white",
            "linecolor": "white",
            "ticks": ""
           },
           "baxis": {
            "gridcolor": "white",
            "linecolor": "white",
            "ticks": ""
           },
           "bgcolor": "#E5ECF6",
           "caxis": {
            "gridcolor": "white",
            "linecolor": "white",
            "ticks": ""
           }
          },
          "title": {
           "x": 0.05
          },
          "xaxis": {
           "automargin": true,
           "gridcolor": "white",
           "linecolor": "white",
           "ticks": "",
           "title": {
            "standoff": 15
           },
           "zerolinecolor": "white",
           "zerolinewidth": 2
          },
          "yaxis": {
           "automargin": true,
           "gridcolor": "white",
           "linecolor": "white",
           "ticks": "",
           "title": {
            "standoff": 15
           },
           "zerolinecolor": "white",
           "zerolinewidth": 2
          }
         }
        },
        "title": {
         "text": "Income Statement for: XOM"
        },
        "width": 800,
        "xaxis": {
         "title": {
          "text": "Year"
         }
        },
        "yaxis": {
         "title": {
          "text": "Amount $mm USD"
         }
        }
       }
      }
     },
     "metadata": {},
     "output_type": "display_data"
    },
    {
     "name": "stdout",
     "output_type": "stream",
     "text": [
      "Common size income statement graph created.\n",
      "\n"
     ]
    },
    {
     "data": {
      "application/vnd.plotly.v1+json": {
       "config": {
        "plotlyServerURL": "https://plot.ly"
       },
       "data": [
        {
         "marker": {
          "color": "#004369"
         },
         "name": "Revenue",
         "textposition": "inside",
         "texttemplate": "%{y:.2s}",
         "type": "bar",
         "x": [
          "2020",
          "2021",
          "2022",
          "2023",
          "2024"
         ],
         "y": {
          "bdata": "AAAAAAAAWUAAAAAAAABZQAAAAAAAAFlAAAAAAAAAWUAAAAAAAABZQA==",
          "dtype": "f8"
         }
        },
        {
         "marker": {
          "color": "#41729f"
         },
         "name": "Net Income",
         "textposition": "inside",
         "texttemplate": "%{y:.2s}",
         "type": "bar",
         "x": [
          "2020",
          "2021",
          "2022",
          "2023",
          "2024"
         ],
         "y": {
          "bdata": "oTRUIJr2KMBqB8q/aoQgQEOww85ktytAAP5QrpmEJUD5J9duwEQjQA==",
          "dtype": "f8"
         }
        },
        {
         "marker": {
          "color": "#DB1F48"
         },
         "name": "Interest Expense",
         "textposition": "inside",
         "texttemplate": "%{y:.2s}",
         "type": "bar",
         "x": [
          "2020",
          "2021",
          "2022",
          "2023",
          "2024"
         ],
         "y": {
          "bdata": "OXyvu4Sc5D+CgIv7irnVPzRlruUuZck/AAAAAAAAAAAAAAAAAAAAAA==",
          "dtype": "f8"
         }
        }
       ],
       "layout": {
        "barmode": "group",
        "height": 400,
        "legend": {
         "orientation": "h",
         "x": 1,
         "xanchor": "right",
         "y": 1,
         "yanchor": "bottom"
        },
        "template": {
         "data": {
          "bar": [
           {
            "error_x": {
             "color": "#2a3f5f"
            },
            "error_y": {
             "color": "#2a3f5f"
            },
            "marker": {
             "line": {
              "color": "#E5ECF6",
              "width": 0.5
             },
             "pattern": {
              "fillmode": "overlay",
              "size": 10,
              "solidity": 0.2
             }
            },
            "type": "bar"
           }
          ],
          "barpolar": [
           {
            "marker": {
             "line": {
              "color": "#E5ECF6",
              "width": 0.5
             },
             "pattern": {
              "fillmode": "overlay",
              "size": 10,
              "solidity": 0.2
             }
            },
            "type": "barpolar"
           }
          ],
          "carpet": [
           {
            "aaxis": {
             "endlinecolor": "#2a3f5f",
             "gridcolor": "white",
             "linecolor": "white",
             "minorgridcolor": "white",
             "startlinecolor": "#2a3f5f"
            },
            "baxis": {
             "endlinecolor": "#2a3f5f",
             "gridcolor": "white",
             "linecolor": "white",
             "minorgridcolor": "white",
             "startlinecolor": "#2a3f5f"
            },
            "type": "carpet"
           }
          ],
          "choropleth": [
           {
            "colorbar": {
             "outlinewidth": 0,
             "ticks": ""
            },
            "type": "choropleth"
           }
          ],
          "contour": [
           {
            "colorbar": {
             "outlinewidth": 0,
             "ticks": ""
            },
            "colorscale": [
             [
              0,
              "#0d0887"
             ],
             [
              0.1111111111111111,
              "#46039f"
             ],
             [
              0.2222222222222222,
              "#7201a8"
             ],
             [
              0.3333333333333333,
              "#9c179e"
             ],
             [
              0.4444444444444444,
              "#bd3786"
             ],
             [
              0.5555555555555556,
              "#d8576b"
             ],
             [
              0.6666666666666666,
              "#ed7953"
             ],
             [
              0.7777777777777778,
              "#fb9f3a"
             ],
             [
              0.8888888888888888,
              "#fdca26"
             ],
             [
              1,
              "#f0f921"
             ]
            ],
            "type": "contour"
           }
          ],
          "contourcarpet": [
           {
            "colorbar": {
             "outlinewidth": 0,
             "ticks": ""
            },
            "type": "contourcarpet"
           }
          ],
          "heatmap": [
           {
            "colorbar": {
             "outlinewidth": 0,
             "ticks": ""
            },
            "colorscale": [
             [
              0,
              "#0d0887"
             ],
             [
              0.1111111111111111,
              "#46039f"
             ],
             [
              0.2222222222222222,
              "#7201a8"
             ],
             [
              0.3333333333333333,
              "#9c179e"
             ],
             [
              0.4444444444444444,
              "#bd3786"
             ],
             [
              0.5555555555555556,
              "#d8576b"
             ],
             [
              0.6666666666666666,
              "#ed7953"
             ],
             [
              0.7777777777777778,
              "#fb9f3a"
             ],
             [
              0.8888888888888888,
              "#fdca26"
             ],
             [
              1,
              "#f0f921"
             ]
            ],
            "type": "heatmap"
           }
          ],
          "histogram": [
           {
            "marker": {
             "pattern": {
              "fillmode": "overlay",
              "size": 10,
              "solidity": 0.2
             }
            },
            "type": "histogram"
           }
          ],
          "histogram2d": [
           {
            "colorbar": {
             "outlinewidth": 0,
             "ticks": ""
            },
            "colorscale": [
             [
              0,
              "#0d0887"
             ],
             [
              0.1111111111111111,
              "#46039f"
             ],
             [
              0.2222222222222222,
              "#7201a8"
             ],
             [
              0.3333333333333333,
              "#9c179e"
             ],
             [
              0.4444444444444444,
              "#bd3786"
             ],
             [
              0.5555555555555556,
              "#d8576b"
             ],
             [
              0.6666666666666666,
              "#ed7953"
             ],
             [
              0.7777777777777778,
              "#fb9f3a"
             ],
             [
              0.8888888888888888,
              "#fdca26"
             ],
             [
              1,
              "#f0f921"
             ]
            ],
            "type": "histogram2d"
           }
          ],
          "histogram2dcontour": [
           {
            "colorbar": {
             "outlinewidth": 0,
             "ticks": ""
            },
            "colorscale": [
             [
              0,
              "#0d0887"
             ],
             [
              0.1111111111111111,
              "#46039f"
             ],
             [
              0.2222222222222222,
              "#7201a8"
             ],
             [
              0.3333333333333333,
              "#9c179e"
             ],
             [
              0.4444444444444444,
              "#bd3786"
             ],
             [
              0.5555555555555556,
              "#d8576b"
             ],
             [
              0.6666666666666666,
              "#ed7953"
             ],
             [
              0.7777777777777778,
              "#fb9f3a"
             ],
             [
              0.8888888888888888,
              "#fdca26"
             ],
             [
              1,
              "#f0f921"
             ]
            ],
            "type": "histogram2dcontour"
           }
          ],
          "mesh3d": [
           {
            "colorbar": {
             "outlinewidth": 0,
             "ticks": ""
            },
            "type": "mesh3d"
           }
          ],
          "parcoords": [
           {
            "line": {
             "colorbar": {
              "outlinewidth": 0,
              "ticks": ""
             }
            },
            "type": "parcoords"
           }
          ],
          "pie": [
           {
            "automargin": true,
            "type": "pie"
           }
          ],
          "scatter": [
           {
            "fillpattern": {
             "fillmode": "overlay",
             "size": 10,
             "solidity": 0.2
            },
            "type": "scatter"
           }
          ],
          "scatter3d": [
           {
            "line": {
             "colorbar": {
              "outlinewidth": 0,
              "ticks": ""
             }
            },
            "marker": {
             "colorbar": {
              "outlinewidth": 0,
              "ticks": ""
             }
            },
            "type": "scatter3d"
           }
          ],
          "scattercarpet": [
           {
            "marker": {
             "colorbar": {
              "outlinewidth": 0,
              "ticks": ""
             }
            },
            "type": "scattercarpet"
           }
          ],
          "scattergeo": [
           {
            "marker": {
             "colorbar": {
              "outlinewidth": 0,
              "ticks": ""
             }
            },
            "type": "scattergeo"
           }
          ],
          "scattergl": [
           {
            "marker": {
             "colorbar": {
              "outlinewidth": 0,
              "ticks": ""
             }
            },
            "type": "scattergl"
           }
          ],
          "scattermap": [
           {
            "marker": {
             "colorbar": {
              "outlinewidth": 0,
              "ticks": ""
             }
            },
            "type": "scattermap"
           }
          ],
          "scattermapbox": [
           {
            "marker": {
             "colorbar": {
              "outlinewidth": 0,
              "ticks": ""
             }
            },
            "type": "scattermapbox"
           }
          ],
          "scatterpolar": [
           {
            "marker": {
             "colorbar": {
              "outlinewidth": 0,
              "ticks": ""
             }
            },
            "type": "scatterpolar"
           }
          ],
          "scatterpolargl": [
           {
            "marker": {
             "colorbar": {
              "outlinewidth": 0,
              "ticks": ""
             }
            },
            "type": "scatterpolargl"
           }
          ],
          "scatterternary": [
           {
            "marker": {
             "colorbar": {
              "outlinewidth": 0,
              "ticks": ""
             }
            },
            "type": "scatterternary"
           }
          ],
          "surface": [
           {
            "colorbar": {
             "outlinewidth": 0,
             "ticks": ""
            },
            "colorscale": [
             [
              0,
              "#0d0887"
             ],
             [
              0.1111111111111111,
              "#46039f"
             ],
             [
              0.2222222222222222,
              "#7201a8"
             ],
             [
              0.3333333333333333,
              "#9c179e"
             ],
             [
              0.4444444444444444,
              "#bd3786"
             ],
             [
              0.5555555555555556,
              "#d8576b"
             ],
             [
              0.6666666666666666,
              "#ed7953"
             ],
             [
              0.7777777777777778,
              "#fb9f3a"
             ],
             [
              0.8888888888888888,
              "#fdca26"
             ],
             [
              1,
              "#f0f921"
             ]
            ],
            "type": "surface"
           }
          ],
          "table": [
           {
            "cells": {
             "fill": {
              "color": "#EBF0F8"
             },
             "line": {
              "color": "white"
             }
            },
            "header": {
             "fill": {
              "color": "#C8D4E3"
             },
             "line": {
              "color": "white"
             }
            },
            "type": "table"
           }
          ]
         },
         "layout": {
          "annotationdefaults": {
           "arrowcolor": "#2a3f5f",
           "arrowhead": 0,
           "arrowwidth": 1
          },
          "autotypenumbers": "strict",
          "coloraxis": {
           "colorbar": {
            "outlinewidth": 0,
            "ticks": ""
           }
          },
          "colorscale": {
           "diverging": [
            [
             0,
             "#8e0152"
            ],
            [
             0.1,
             "#c51b7d"
            ],
            [
             0.2,
             "#de77ae"
            ],
            [
             0.3,
             "#f1b6da"
            ],
            [
             0.4,
             "#fde0ef"
            ],
            [
             0.5,
             "#f7f7f7"
            ],
            [
             0.6,
             "#e6f5d0"
            ],
            [
             0.7,
             "#b8e186"
            ],
            [
             0.8,
             "#7fbc41"
            ],
            [
             0.9,
             "#4d9221"
            ],
            [
             1,
             "#276419"
            ]
           ],
           "sequential": [
            [
             0,
             "#0d0887"
            ],
            [
             0.1111111111111111,
             "#46039f"
            ],
            [
             0.2222222222222222,
             "#7201a8"
            ],
            [
             0.3333333333333333,
             "#9c179e"
            ],
            [
             0.4444444444444444,
             "#bd3786"
            ],
            [
             0.5555555555555556,
             "#d8576b"
            ],
            [
             0.6666666666666666,
             "#ed7953"
            ],
            [
             0.7777777777777778,
             "#fb9f3a"
            ],
            [
             0.8888888888888888,
             "#fdca26"
            ],
            [
             1,
             "#f0f921"
            ]
           ],
           "sequentialminus": [
            [
             0,
             "#0d0887"
            ],
            [
             0.1111111111111111,
             "#46039f"
            ],
            [
             0.2222222222222222,
             "#7201a8"
            ],
            [
             0.3333333333333333,
             "#9c179e"
            ],
            [
             0.4444444444444444,
             "#bd3786"
            ],
            [
             0.5555555555555556,
             "#d8576b"
            ],
            [
             0.6666666666666666,
             "#ed7953"
            ],
            [
             0.7777777777777778,
             "#fb9f3a"
            ],
            [
             0.8888888888888888,
             "#fdca26"
            ],
            [
             1,
             "#f0f921"
            ]
           ]
          },
          "colorway": [
           "#636efa",
           "#EF553B",
           "#00cc96",
           "#ab63fa",
           "#FFA15A",
           "#19d3f3",
           "#FF6692",
           "#B6E880",
           "#FF97FF",
           "#FECB52"
          ],
          "font": {
           "color": "#2a3f5f"
          },
          "geo": {
           "bgcolor": "white",
           "lakecolor": "white",
           "landcolor": "#E5ECF6",
           "showlakes": true,
           "showland": true,
           "subunitcolor": "white"
          },
          "hoverlabel": {
           "align": "left"
          },
          "hovermode": "closest",
          "mapbox": {
           "style": "light"
          },
          "paper_bgcolor": "white",
          "plot_bgcolor": "#E5ECF6",
          "polar": {
           "angularaxis": {
            "gridcolor": "white",
            "linecolor": "white",
            "ticks": ""
           },
           "bgcolor": "#E5ECF6",
           "radialaxis": {
            "gridcolor": "white",
            "linecolor": "white",
            "ticks": ""
           }
          },
          "scene": {
           "xaxis": {
            "backgroundcolor": "#E5ECF6",
            "gridcolor": "white",
            "gridwidth": 2,
            "linecolor": "white",
            "showbackground": true,
            "ticks": "",
            "zerolinecolor": "white"
           },
           "yaxis": {
            "backgroundcolor": "#E5ECF6",
            "gridcolor": "white",
            "gridwidth": 2,
            "linecolor": "white",
            "showbackground": true,
            "ticks": "",
            "zerolinecolor": "white"
           },
           "zaxis": {
            "backgroundcolor": "#E5ECF6",
            "gridcolor": "white",
            "gridwidth": 2,
            "linecolor": "white",
            "showbackground": true,
            "ticks": "",
            "zerolinecolor": "white"
           }
          },
          "shapedefaults": {
           "line": {
            "color": "#2a3f5f"
           }
          },
          "ternary": {
           "aaxis": {
            "gridcolor": "white",
            "linecolor": "white",
            "ticks": ""
           },
           "baxis": {
            "gridcolor": "white",
            "linecolor": "white",
            "ticks": ""
           },
           "bgcolor": "#E5ECF6",
           "caxis": {
            "gridcolor": "white",
            "linecolor": "white",
            "ticks": ""
           }
          },
          "title": {
           "x": 0.05
          },
          "xaxis": {
           "automargin": true,
           "gridcolor": "white",
           "linecolor": "white",
           "ticks": "",
           "title": {
            "standoff": 15
           },
           "zerolinecolor": "white",
           "zerolinewidth": 2
          },
          "yaxis": {
           "automargin": true,
           "gridcolor": "white",
           "linecolor": "white",
           "ticks": "",
           "title": {
            "standoff": 15
           },
           "zerolinecolor": "white",
           "zerolinewidth": 2
          }
         }
        },
        "title": {
         "text": "Common Size Income Statement for: XOM"
        },
        "width": 800,
        "xaxis": {
         "title": {
          "text": "Year"
         }
        },
        "yaxis": {
         "title": {
          "text": "Amount % "
         }
        }
       }
      }
     },
     "metadata": {},
     "output_type": "display_data"
    }
   ],
   "source": [
    "# Income Statement Graph\n",
    "\n",
    "# Graph the Income Statement\n",
    "fig = go.Figure(\n",
    "    data=[\n",
    "        go.Bar(name='Revenue',\n",
    "               x=is_df[\"calendarYear\"],\n",
    "               y=is_df['revenue'],\n",
    "               marker_color='#004369'\n",
    "               ),\n",
    "        go.Bar(name='Net Income',\n",
    "               x=is_df[\"calendarYear\"],\n",
    "               y=is_df['netIncome'],\n",
    "               marker_color='#41729f'\n",
    "               ),\n",
    "        go.Bar(name='Interest Expense',\n",
    "               x=is_df[\"calendarYear\"],\n",
    "               y=is_df['interestIncome'],\n",
    "               marker_color='#DB1F48'\n",
    "               )\n",
    "          ])\n",
    "fig.update_layout(barmode='group',\n",
    "                  title=str('Income Statement for: '+company),\n",
    "                  xaxis_title='Year',\n",
    "                  yaxis_title=('Amount $mm '+currency),\n",
    "                  legend=dict(orientation=\"h\",\n",
    "                              yanchor=\"bottom\",\n",
    "                              y=1.0,\n",
    "                              xanchor=\"right\",\n",
    "                              x=1),\n",
    "                  width=800, height=400)\n",
    "\n",
    "fig.update_traces(texttemplate=\"%{y:.2s}\", textposition=\"inside\")\n",
    "file_name = \"images/output/is_graph.png\"\n",
    "fig.write_image(file_name, scale=2)\n",
    "\n",
    "print(\"Income statement graph created.\\n\")\n",
    "fig.show()\n",
    "\n",
    "# Common Size Income Statement Graph\n",
    "fig = go.Figure(\n",
    "    data=[\n",
    "        go.Bar(name='Revenue',\n",
    "               x=is_df[\"calendarYear\"],\n",
    "               y=is_df['revenue']/is_df['revenue']*100,\n",
    "               marker_color='#004369'\n",
    "               ),\n",
    "        go.Bar(name='Net Income',\n",
    "               x=is_df[\"calendarYear\"],\n",
    "               y=is_df['netIncome']/is_df['revenue']*100,\n",
    "               marker_color='#41729f'\n",
    "               ),\n",
    "        go.Bar(name='Interest Expense',\n",
    "               x=is_df[\"calendarYear\"],\n",
    "               y=is_df['interestIncome']/is_df['revenue']*100,\n",
    "               marker_color='#DB1F48'\n",
    "               )\n",
    "          ])\n",
    "fig.update_layout(barmode='group',\n",
    "                  title=str('Common Size Income Statement for: '+company),\n",
    "                  xaxis_title='Year',\n",
    "                  yaxis_title=('Amount % '),\n",
    "                  legend=dict(orientation=\"h\",\n",
    "                              yanchor=\"bottom\",\n",
    "                              y=1.0,\n",
    "                              xanchor=\"right\",\n",
    "                              x=1),\n",
    "                  width=800, height=400)\n",
    "\n",
    "fig.update_traces(texttemplate=\"%{y:.2s}\", textposition=\"inside\")\n",
    "file_name = \"images/output/is_graph_cs.png\"\n",
    "fig.write_image(file_name, scale=2)\n",
    "\n",
    "print(\"Common size income statement graph created.\\n\")\n",
    "fig.show()"
   ]
  },
  {
   "cell_type": "markdown",
   "id": "a20467f4-de54-4dba-ae1a-7e06200bf6c0",
   "metadata": {},
   "source": [
    "<a id=\"CF_graph\"></a>\n",
    "### [Graph] Cash Flow Statement [*](#index)"
   ]
  },
  {
   "cell_type": "code",
   "execution_count": 14,
   "id": "ec269ff5-1e2f-4aa9-9d81-c963f9909fb2",
   "metadata": {},
   "outputs": [
    {
     "name": "stdout",
     "output_type": "stream",
     "text": [
      "Cash flow statement graph created.\n",
      "\n"
     ]
    },
    {
     "data": {
      "application/vnd.plotly.v1+json": {
       "config": {
        "plotlyServerURL": "https://plot.ly"
       },
       "data": [
        {
         "marker": {
          "color": "#01949A"
         },
         "name": "CF Operations",
         "offsetgroup": "2",
         "textposition": "inside",
         "texttemplate": "%{y:.2s}",
         "type": "bar",
         "x": [
          "2020",
          "2021",
          "2022",
          "2023",
          "2024"
         ],
         "y": [
          14668000000,
          48129000000,
          76797000000,
          55369000000,
          55022000000
         ]
        },
        {
         "marker": {
          "color": "#004369"
         },
         "name": "CF Investing",
         "offsetgroup": "3",
         "textposition": "inside",
         "texttemplate": "%{y:.2s}",
         "type": "bar",
         "x": [
          "2020",
          "2021",
          "2022",
          "2023",
          "2024"
         ],
         "y": [
          -18459000000,
          -10235000000,
          -14742000000,
          -20044000000,
          -19938000000
         ]
        },
        {
         "marker": {
          "color": "#DB1F48"
         },
         "name": "CF Financing",
         "offsetgroup": "4",
         "textposition": "inside",
         "texttemplate": "%{y:.2s}",
         "type": "bar",
         "x": [
          "2020",
          "2021",
          "2022",
          "2023",
          "2024"
         ],
         "y": [
          5285000000,
          -35423000000,
          -37639000000,
          -33527000000,
          -42789000000
         ]
        }
       ],
       "layout": {
        "barmode": "group",
        "height": 400,
        "legend": {
         "orientation": "h",
         "x": 1,
         "xanchor": "right",
         "y": 1,
         "yanchor": "bottom"
        },
        "template": {
         "data": {
          "bar": [
           {
            "error_x": {
             "color": "#2a3f5f"
            },
            "error_y": {
             "color": "#2a3f5f"
            },
            "marker": {
             "line": {
              "color": "#E5ECF6",
              "width": 0.5
             },
             "pattern": {
              "fillmode": "overlay",
              "size": 10,
              "solidity": 0.2
             }
            },
            "type": "bar"
           }
          ],
          "barpolar": [
           {
            "marker": {
             "line": {
              "color": "#E5ECF6",
              "width": 0.5
             },
             "pattern": {
              "fillmode": "overlay",
              "size": 10,
              "solidity": 0.2
             }
            },
            "type": "barpolar"
           }
          ],
          "carpet": [
           {
            "aaxis": {
             "endlinecolor": "#2a3f5f",
             "gridcolor": "white",
             "linecolor": "white",
             "minorgridcolor": "white",
             "startlinecolor": "#2a3f5f"
            },
            "baxis": {
             "endlinecolor": "#2a3f5f",
             "gridcolor": "white",
             "linecolor": "white",
             "minorgridcolor": "white",
             "startlinecolor": "#2a3f5f"
            },
            "type": "carpet"
           }
          ],
          "choropleth": [
           {
            "colorbar": {
             "outlinewidth": 0,
             "ticks": ""
            },
            "type": "choropleth"
           }
          ],
          "contour": [
           {
            "colorbar": {
             "outlinewidth": 0,
             "ticks": ""
            },
            "colorscale": [
             [
              0,
              "#0d0887"
             ],
             [
              0.1111111111111111,
              "#46039f"
             ],
             [
              0.2222222222222222,
              "#7201a8"
             ],
             [
              0.3333333333333333,
              "#9c179e"
             ],
             [
              0.4444444444444444,
              "#bd3786"
             ],
             [
              0.5555555555555556,
              "#d8576b"
             ],
             [
              0.6666666666666666,
              "#ed7953"
             ],
             [
              0.7777777777777778,
              "#fb9f3a"
             ],
             [
              0.8888888888888888,
              "#fdca26"
             ],
             [
              1,
              "#f0f921"
             ]
            ],
            "type": "contour"
           }
          ],
          "contourcarpet": [
           {
            "colorbar": {
             "outlinewidth": 0,
             "ticks": ""
            },
            "type": "contourcarpet"
           }
          ],
          "heatmap": [
           {
            "colorbar": {
             "outlinewidth": 0,
             "ticks": ""
            },
            "colorscale": [
             [
              0,
              "#0d0887"
             ],
             [
              0.1111111111111111,
              "#46039f"
             ],
             [
              0.2222222222222222,
              "#7201a8"
             ],
             [
              0.3333333333333333,
              "#9c179e"
             ],
             [
              0.4444444444444444,
              "#bd3786"
             ],
             [
              0.5555555555555556,
              "#d8576b"
             ],
             [
              0.6666666666666666,
              "#ed7953"
             ],
             [
              0.7777777777777778,
              "#fb9f3a"
             ],
             [
              0.8888888888888888,
              "#fdca26"
             ],
             [
              1,
              "#f0f921"
             ]
            ],
            "type": "heatmap"
           }
          ],
          "histogram": [
           {
            "marker": {
             "pattern": {
              "fillmode": "overlay",
              "size": 10,
              "solidity": 0.2
             }
            },
            "type": "histogram"
           }
          ],
          "histogram2d": [
           {
            "colorbar": {
             "outlinewidth": 0,
             "ticks": ""
            },
            "colorscale": [
             [
              0,
              "#0d0887"
             ],
             [
              0.1111111111111111,
              "#46039f"
             ],
             [
              0.2222222222222222,
              "#7201a8"
             ],
             [
              0.3333333333333333,
              "#9c179e"
             ],
             [
              0.4444444444444444,
              "#bd3786"
             ],
             [
              0.5555555555555556,
              "#d8576b"
             ],
             [
              0.6666666666666666,
              "#ed7953"
             ],
             [
              0.7777777777777778,
              "#fb9f3a"
             ],
             [
              0.8888888888888888,
              "#fdca26"
             ],
             [
              1,
              "#f0f921"
             ]
            ],
            "type": "histogram2d"
           }
          ],
          "histogram2dcontour": [
           {
            "colorbar": {
             "outlinewidth": 0,
             "ticks": ""
            },
            "colorscale": [
             [
              0,
              "#0d0887"
             ],
             [
              0.1111111111111111,
              "#46039f"
             ],
             [
              0.2222222222222222,
              "#7201a8"
             ],
             [
              0.3333333333333333,
              "#9c179e"
             ],
             [
              0.4444444444444444,
              "#bd3786"
             ],
             [
              0.5555555555555556,
              "#d8576b"
             ],
             [
              0.6666666666666666,
              "#ed7953"
             ],
             [
              0.7777777777777778,
              "#fb9f3a"
             ],
             [
              0.8888888888888888,
              "#fdca26"
             ],
             [
              1,
              "#f0f921"
             ]
            ],
            "type": "histogram2dcontour"
           }
          ],
          "mesh3d": [
           {
            "colorbar": {
             "outlinewidth": 0,
             "ticks": ""
            },
            "type": "mesh3d"
           }
          ],
          "parcoords": [
           {
            "line": {
             "colorbar": {
              "outlinewidth": 0,
              "ticks": ""
             }
            },
            "type": "parcoords"
           }
          ],
          "pie": [
           {
            "automargin": true,
            "type": "pie"
           }
          ],
          "scatter": [
           {
            "fillpattern": {
             "fillmode": "overlay",
             "size": 10,
             "solidity": 0.2
            },
            "type": "scatter"
           }
          ],
          "scatter3d": [
           {
            "line": {
             "colorbar": {
              "outlinewidth": 0,
              "ticks": ""
             }
            },
            "marker": {
             "colorbar": {
              "outlinewidth": 0,
              "ticks": ""
             }
            },
            "type": "scatter3d"
           }
          ],
          "scattercarpet": [
           {
            "marker": {
             "colorbar": {
              "outlinewidth": 0,
              "ticks": ""
             }
            },
            "type": "scattercarpet"
           }
          ],
          "scattergeo": [
           {
            "marker": {
             "colorbar": {
              "outlinewidth": 0,
              "ticks": ""
             }
            },
            "type": "scattergeo"
           }
          ],
          "scattergl": [
           {
            "marker": {
             "colorbar": {
              "outlinewidth": 0,
              "ticks": ""
             }
            },
            "type": "scattergl"
           }
          ],
          "scattermap": [
           {
            "marker": {
             "colorbar": {
              "outlinewidth": 0,
              "ticks": ""
             }
            },
            "type": "scattermap"
           }
          ],
          "scattermapbox": [
           {
            "marker": {
             "colorbar": {
              "outlinewidth": 0,
              "ticks": ""
             }
            },
            "type": "scattermapbox"
           }
          ],
          "scatterpolar": [
           {
            "marker": {
             "colorbar": {
              "outlinewidth": 0,
              "ticks": ""
             }
            },
            "type": "scatterpolar"
           }
          ],
          "scatterpolargl": [
           {
            "marker": {
             "colorbar": {
              "outlinewidth": 0,
              "ticks": ""
             }
            },
            "type": "scatterpolargl"
           }
          ],
          "scatterternary": [
           {
            "marker": {
             "colorbar": {
              "outlinewidth": 0,
              "ticks": ""
             }
            },
            "type": "scatterternary"
           }
          ],
          "surface": [
           {
            "colorbar": {
             "outlinewidth": 0,
             "ticks": ""
            },
            "colorscale": [
             [
              0,
              "#0d0887"
             ],
             [
              0.1111111111111111,
              "#46039f"
             ],
             [
              0.2222222222222222,
              "#7201a8"
             ],
             [
              0.3333333333333333,
              "#9c179e"
             ],
             [
              0.4444444444444444,
              "#bd3786"
             ],
             [
              0.5555555555555556,
              "#d8576b"
             ],
             [
              0.6666666666666666,
              "#ed7953"
             ],
             [
              0.7777777777777778,
              "#fb9f3a"
             ],
             [
              0.8888888888888888,
              "#fdca26"
             ],
             [
              1,
              "#f0f921"
             ]
            ],
            "type": "surface"
           }
          ],
          "table": [
           {
            "cells": {
             "fill": {
              "color": "#EBF0F8"
             },
             "line": {
              "color": "white"
             }
            },
            "header": {
             "fill": {
              "color": "#C8D4E3"
             },
             "line": {
              "color": "white"
             }
            },
            "type": "table"
           }
          ]
         },
         "layout": {
          "annotationdefaults": {
           "arrowcolor": "#2a3f5f",
           "arrowhead": 0,
           "arrowwidth": 1
          },
          "autotypenumbers": "strict",
          "coloraxis": {
           "colorbar": {
            "outlinewidth": 0,
            "ticks": ""
           }
          },
          "colorscale": {
           "diverging": [
            [
             0,
             "#8e0152"
            ],
            [
             0.1,
             "#c51b7d"
            ],
            [
             0.2,
             "#de77ae"
            ],
            [
             0.3,
             "#f1b6da"
            ],
            [
             0.4,
             "#fde0ef"
            ],
            [
             0.5,
             "#f7f7f7"
            ],
            [
             0.6,
             "#e6f5d0"
            ],
            [
             0.7,
             "#b8e186"
            ],
            [
             0.8,
             "#7fbc41"
            ],
            [
             0.9,
             "#4d9221"
            ],
            [
             1,
             "#276419"
            ]
           ],
           "sequential": [
            [
             0,
             "#0d0887"
            ],
            [
             0.1111111111111111,
             "#46039f"
            ],
            [
             0.2222222222222222,
             "#7201a8"
            ],
            [
             0.3333333333333333,
             "#9c179e"
            ],
            [
             0.4444444444444444,
             "#bd3786"
            ],
            [
             0.5555555555555556,
             "#d8576b"
            ],
            [
             0.6666666666666666,
             "#ed7953"
            ],
            [
             0.7777777777777778,
             "#fb9f3a"
            ],
            [
             0.8888888888888888,
             "#fdca26"
            ],
            [
             1,
             "#f0f921"
            ]
           ],
           "sequentialminus": [
            [
             0,
             "#0d0887"
            ],
            [
             0.1111111111111111,
             "#46039f"
            ],
            [
             0.2222222222222222,
             "#7201a8"
            ],
            [
             0.3333333333333333,
             "#9c179e"
            ],
            [
             0.4444444444444444,
             "#bd3786"
            ],
            [
             0.5555555555555556,
             "#d8576b"
            ],
            [
             0.6666666666666666,
             "#ed7953"
            ],
            [
             0.7777777777777778,
             "#fb9f3a"
            ],
            [
             0.8888888888888888,
             "#fdca26"
            ],
            [
             1,
             "#f0f921"
            ]
           ]
          },
          "colorway": [
           "#636efa",
           "#EF553B",
           "#00cc96",
           "#ab63fa",
           "#FFA15A",
           "#19d3f3",
           "#FF6692",
           "#B6E880",
           "#FF97FF",
           "#FECB52"
          ],
          "font": {
           "color": "#2a3f5f"
          },
          "geo": {
           "bgcolor": "white",
           "lakecolor": "white",
           "landcolor": "#E5ECF6",
           "showlakes": true,
           "showland": true,
           "subunitcolor": "white"
          },
          "hoverlabel": {
           "align": "left"
          },
          "hovermode": "closest",
          "mapbox": {
           "style": "light"
          },
          "paper_bgcolor": "white",
          "plot_bgcolor": "#E5ECF6",
          "polar": {
           "angularaxis": {
            "gridcolor": "white",
            "linecolor": "white",
            "ticks": ""
           },
           "bgcolor": "#E5ECF6",
           "radialaxis": {
            "gridcolor": "white",
            "linecolor": "white",
            "ticks": ""
           }
          },
          "scene": {
           "xaxis": {
            "backgroundcolor": "#E5ECF6",
            "gridcolor": "white",
            "gridwidth": 2,
            "linecolor": "white",
            "showbackground": true,
            "ticks": "",
            "zerolinecolor": "white"
           },
           "yaxis": {
            "backgroundcolor": "#E5ECF6",
            "gridcolor": "white",
            "gridwidth": 2,
            "linecolor": "white",
            "showbackground": true,
            "ticks": "",
            "zerolinecolor": "white"
           },
           "zaxis": {
            "backgroundcolor": "#E5ECF6",
            "gridcolor": "white",
            "gridwidth": 2,
            "linecolor": "white",
            "showbackground": true,
            "ticks": "",
            "zerolinecolor": "white"
           }
          },
          "shapedefaults": {
           "line": {
            "color": "#2a3f5f"
           }
          },
          "ternary": {
           "aaxis": {
            "gridcolor": "white",
            "linecolor": "white",
            "ticks": ""
           },
           "baxis": {
            "gridcolor": "white",
            "linecolor": "white",
            "ticks": ""
           },
           "bgcolor": "#E5ECF6",
           "caxis": {
            "gridcolor": "white",
            "linecolor": "white",
            "ticks": ""
           }
          },
          "title": {
           "x": 0.05
          },
          "xaxis": {
           "automargin": true,
           "gridcolor": "white",
           "linecolor": "white",
           "ticks": "",
           "title": {
            "standoff": 15
           },
           "zerolinecolor": "white",
           "zerolinewidth": 2
          },
          "yaxis": {
           "automargin": true,
           "gridcolor": "white",
           "linecolor": "white",
           "ticks": "",
           "title": {
            "standoff": 15
           },
           "zerolinecolor": "white",
           "zerolinewidth": 2
          }
         }
        },
        "title": {
         "text": "Cash Flow Statement for: XOM"
        },
        "width": 800,
        "xaxis": {
         "title": {
          "text": "Year"
         }
        },
        "yaxis": {
         "title": {
          "text": "Amount $mm USD"
         }
        }
       }
      }
     },
     "metadata": {},
     "output_type": "display_data"
    }
   ],
   "source": [
    "# Cash Flow Statement Graph\n",
    "\n",
    "# Graph the Cash Flow Statement\n",
    "fig = go.Figure(\n",
    "    data=[\n",
    "        go.Bar(name='CF Operations',\n",
    "               x=cf_df[\"calendarYear\"],\n",
    "               y=cf_df['netCashProvidedByOperatingActivities'],\n",
    "               marker_color='#01949A',\n",
    "               offsetgroup=2\n",
    "               ),\n",
    "        go.Bar(name='CF Investing',\n",
    "               x=cf_df[\"calendarYear\"],\n",
    "               y=cf_df['netCashUsedForInvestingActivites'],\n",
    "               marker_color='#004369',\n",
    "               offsetgroup=3,\n",
    "               ),\n",
    "        go.Bar(name='CF Financing',\n",
    "               x=cf_df[\"calendarYear\"],\n",
    "               y=cf_df['netCashUsedProvidedByFinancingActivities'],\n",
    "               marker_color='#DB1F48',\n",
    "               offsetgroup=4,\n",
    "               )\n",
    "          ])\n",
    "fig.update_layout(barmode='group',\n",
    "                  title=str('Cash Flow Statement for: '+company),\n",
    "                  xaxis_title='Year',\n",
    "                  yaxis_title=('Amount $mm '+currency),\n",
    "                  legend=dict(orientation=\"h\",\n",
    "                              yanchor=\"bottom\",\n",
    "                              y=1.0,\n",
    "                              xanchor=\"right\",\n",
    "                              x=1),\n",
    "                  width=800, height=400)\n",
    "\n",
    "fig.update_traces(texttemplate='%{y:.2s}', textposition='inside')\n",
    "file_name = \"images/output/cf_graph.png\"\n",
    "fig.write_image(file_name, scale=2)\n",
    "\n",
    "print(\"Cash flow statement graph created.\\n\")\n",
    "fig.show()"
   ]
  },
  {
   "cell_type": "markdown",
   "id": "8271693c-e346-4966-b154-d4488fe28685",
   "metadata": {},
   "source": [
    "<a id=\"equity_uses_table\"></a>\n",
    "### [DataFrame] Equity Uses [*](#index)"
   ]
  },
  {
   "cell_type": "code",
   "execution_count": 15,
   "id": "d55dbd7f-bf20-43bd-9702-1b026a8bacc2",
   "metadata": {},
   "outputs": [
    {
     "name": "stdout",
     "output_type": "stream",
     "text": [
      "Dataframe 'equityUses_df' created.\n",
      "\n"
     ]
    }
   ],
   "source": [
    "# Equity uses Graph needs data from three data frames:\n",
    "# Create a new data frame with the information needed\n",
    "\n",
    "# Copy original df into a new df\n",
    "bs_equity = bs_df.copy(deep=True)\n",
    "cf_equity = cf_df.copy(deep=True)\n",
    "is_equity = is_df.copy(deep=True)\n",
    "\n",
    "# Add Last Year Equity column to BS\n",
    "bs_equity['LY_totalStockholdersEquity'] = (\n",
    "    bs_equity['totalStockholdersEquity'].shift(-1)\n",
    ")\n",
    "\n",
    "# Make the date the index value\n",
    "bs_equity.set_index('date', inplace=True)\n",
    "cf_equity.set_index('date', inplace=True)\n",
    "is_equity.set_index('date', inplace=True)\n",
    "\n",
    "# Drop duplicate column netIncome\n",
    "cf_equity.drop('netIncome', axis=1, inplace=True)\n",
    "\n",
    "# Merge data frames\n",
    "equityUses_df = pd.concat([bs_equity, cf_equity, is_equity], axis=1)\n",
    "\n",
    "# Reset index to make 'date' a column instead of index value\n",
    "equityUses_df = equityUses_df.reset_index()\n",
    "\n",
    "# Make sure all variables are float64\n",
    "equityUses_df['LY_totalStockholdersEquity'] = (\n",
    "    equityUses_df['LY_totalStockholdersEquity'].astype(float)\n",
    ")\n",
    "equityUses_df['netIncome'] = equityUses_df['netIncome'].astype(float)\n",
    "equityUses_df['dividendsPaid'] = equityUses_df['dividendsPaid'].astype(float)\n",
    "\n",
    "print(\"Dataframe 'equityUses_df' created.\\n\")"
   ]
  },
  {
   "cell_type": "markdown",
   "id": "5718cee2-dea2-4140-945b-e8ca168cb595",
   "metadata": {},
   "source": [
    "<a id=\"equity_uses\"></a>\n",
    "### [Graph] Equity Uses [*](#index)"
   ]
  },
  {
   "cell_type": "code",
   "execution_count": 16,
   "id": "3c2e65e2-016e-491a-9768-1541c3606be4",
   "metadata": {},
   "outputs": [
    {
     "name": "stdout",
     "output_type": "stream",
     "text": [
      "Equity Uses graph created.\n",
      "\n"
     ]
    },
    {
     "data": {
      "application/vnd.plotly.v1+json": {
       "config": {
        "plotlyServerURL": "https://plot.ly"
       },
       "data": [
        {
         "marker": {
          "color": "#738fa7"
         },
         "name": "Beginning Equity",
         "offsetgroup": "0",
         "textposition": "inside",
         "texttemplate": "%{y:.2s}",
         "type": "bar",
         "x": [
          "2020-12-31",
          "2021-12-31",
          "2022-12-31",
          "2023-12-31",
          "2024-12-31"
         ],
         "y": {
          "bdata": "AAAgcfyfQ0IAACDG6bRGQgAAQEKT10dCAADA76+AT0IAAAAAAAD4fw==",
          "dtype": "f8"
         }
        },
        {
         "marker": {
          "color": "#005f73"
         },
         "name": "NetIncome",
         "offsetgroup": "1",
         "textposition": "inside",
         "texttemplate": "%{y:.2s}",
         "type": "bar",
         "x": [
          "2020-12-31",
          "2021-12-31",
          "2022-12-31",
          "2023-12-31",
          "2024-12-31"
         ],
         "y": {
          "bdata": "AAAA6BzmFMIAAAAAKnUVQgAAAM659ClCAAAA/bnEIEIAAAAQ8F0fQg==",
          "dtype": "f8"
         }
        },
        {
         "marker": {
          "color": "#0a9396"
         },
         "name": "Dividends",
         "offsetgroup": "1",
         "textposition": "inside",
         "texttemplate": "%{y:.2s}",
         "type": "bar",
         "x": [
          "2020-12-31",
          "2021-12-31",
          "2022-12-31",
          "2023-12-31",
          "2024-12-31"
         ],
         "y": {
          "bdata": "AAAAMi+wC8IAAABYUcwLwgAAAGZ40wvCAAAAimzUC8IAAACAFh0Pwg==",
          "dtype": "f8"
         }
        },
        {
         "marker": {
          "color": "#41729f"
         },
         "name": "Ending Equity (expected)",
         "offsetgroup": "2",
         "textposition": "inside",
         "texttemplate": "%{y:.2s}",
         "type": "bar",
         "x": [
          "2020-12-31",
          "2021-12-31",
          "2022-12-31",
          "2023-12-31",
          "2024-12-31"
         ],
         "y": {
          "bdata": "AAAAwmuQPkIAAKDwyaZHQgAAYC+Kl0xCAAAw00v6UEIAAAAAAAD4fw==",
          "dtype": "f8"
         }
        },
        {
         "marker": {
          "color": "#004369"
         },
         "name": "Ending Equity (real)",
         "offsetgroup": "3",
         "textposition": "inside",
         "texttemplate": "%{y:.2s}",
         "type": "bar",
         "x": [
          "2020-12-31",
          "2021-12-31",
          "2022-12-31",
          "2023-12-31",
          "2024-12-31"
         ],
         "y": [
          157150000000,
          168577000000,
          195049000000,
          204802000000,
          270606000000
         ]
        }
       ],
       "layout": {
        "barmode": "group",
        "height": 400,
        "legend": {
         "orientation": "h",
         "x": 1,
         "xanchor": "right",
         "y": 1,
         "yanchor": "bottom"
        },
        "template": {
         "data": {
          "bar": [
           {
            "error_x": {
             "color": "#2a3f5f"
            },
            "error_y": {
             "color": "#2a3f5f"
            },
            "marker": {
             "line": {
              "color": "#E5ECF6",
              "width": 0.5
             },
             "pattern": {
              "fillmode": "overlay",
              "size": 10,
              "solidity": 0.2
             }
            },
            "type": "bar"
           }
          ],
          "barpolar": [
           {
            "marker": {
             "line": {
              "color": "#E5ECF6",
              "width": 0.5
             },
             "pattern": {
              "fillmode": "overlay",
              "size": 10,
              "solidity": 0.2
             }
            },
            "type": "barpolar"
           }
          ],
          "carpet": [
           {
            "aaxis": {
             "endlinecolor": "#2a3f5f",
             "gridcolor": "white",
             "linecolor": "white",
             "minorgridcolor": "white",
             "startlinecolor": "#2a3f5f"
            },
            "baxis": {
             "endlinecolor": "#2a3f5f",
             "gridcolor": "white",
             "linecolor": "white",
             "minorgridcolor": "white",
             "startlinecolor": "#2a3f5f"
            },
            "type": "carpet"
           }
          ],
          "choropleth": [
           {
            "colorbar": {
             "outlinewidth": 0,
             "ticks": ""
            },
            "type": "choropleth"
           }
          ],
          "contour": [
           {
            "colorbar": {
             "outlinewidth": 0,
             "ticks": ""
            },
            "colorscale": [
             [
              0,
              "#0d0887"
             ],
             [
              0.1111111111111111,
              "#46039f"
             ],
             [
              0.2222222222222222,
              "#7201a8"
             ],
             [
              0.3333333333333333,
              "#9c179e"
             ],
             [
              0.4444444444444444,
              "#bd3786"
             ],
             [
              0.5555555555555556,
              "#d8576b"
             ],
             [
              0.6666666666666666,
              "#ed7953"
             ],
             [
              0.7777777777777778,
              "#fb9f3a"
             ],
             [
              0.8888888888888888,
              "#fdca26"
             ],
             [
              1,
              "#f0f921"
             ]
            ],
            "type": "contour"
           }
          ],
          "contourcarpet": [
           {
            "colorbar": {
             "outlinewidth": 0,
             "ticks": ""
            },
            "type": "contourcarpet"
           }
          ],
          "heatmap": [
           {
            "colorbar": {
             "outlinewidth": 0,
             "ticks": ""
            },
            "colorscale": [
             [
              0,
              "#0d0887"
             ],
             [
              0.1111111111111111,
              "#46039f"
             ],
             [
              0.2222222222222222,
              "#7201a8"
             ],
             [
              0.3333333333333333,
              "#9c179e"
             ],
             [
              0.4444444444444444,
              "#bd3786"
             ],
             [
              0.5555555555555556,
              "#d8576b"
             ],
             [
              0.6666666666666666,
              "#ed7953"
             ],
             [
              0.7777777777777778,
              "#fb9f3a"
             ],
             [
              0.8888888888888888,
              "#fdca26"
             ],
             [
              1,
              "#f0f921"
             ]
            ],
            "type": "heatmap"
           }
          ],
          "histogram": [
           {
            "marker": {
             "pattern": {
              "fillmode": "overlay",
              "size": 10,
              "solidity": 0.2
             }
            },
            "type": "histogram"
           }
          ],
          "histogram2d": [
           {
            "colorbar": {
             "outlinewidth": 0,
             "ticks": ""
            },
            "colorscale": [
             [
              0,
              "#0d0887"
             ],
             [
              0.1111111111111111,
              "#46039f"
             ],
             [
              0.2222222222222222,
              "#7201a8"
             ],
             [
              0.3333333333333333,
              "#9c179e"
             ],
             [
              0.4444444444444444,
              "#bd3786"
             ],
             [
              0.5555555555555556,
              "#d8576b"
             ],
             [
              0.6666666666666666,
              "#ed7953"
             ],
             [
              0.7777777777777778,
              "#fb9f3a"
             ],
             [
              0.8888888888888888,
              "#fdca26"
             ],
             [
              1,
              "#f0f921"
             ]
            ],
            "type": "histogram2d"
           }
          ],
          "histogram2dcontour": [
           {
            "colorbar": {
             "outlinewidth": 0,
             "ticks": ""
            },
            "colorscale": [
             [
              0,
              "#0d0887"
             ],
             [
              0.1111111111111111,
              "#46039f"
             ],
             [
              0.2222222222222222,
              "#7201a8"
             ],
             [
              0.3333333333333333,
              "#9c179e"
             ],
             [
              0.4444444444444444,
              "#bd3786"
             ],
             [
              0.5555555555555556,
              "#d8576b"
             ],
             [
              0.6666666666666666,
              "#ed7953"
             ],
             [
              0.7777777777777778,
              "#fb9f3a"
             ],
             [
              0.8888888888888888,
              "#fdca26"
             ],
             [
              1,
              "#f0f921"
             ]
            ],
            "type": "histogram2dcontour"
           }
          ],
          "mesh3d": [
           {
            "colorbar": {
             "outlinewidth": 0,
             "ticks": ""
            },
            "type": "mesh3d"
           }
          ],
          "parcoords": [
           {
            "line": {
             "colorbar": {
              "outlinewidth": 0,
              "ticks": ""
             }
            },
            "type": "parcoords"
           }
          ],
          "pie": [
           {
            "automargin": true,
            "type": "pie"
           }
          ],
          "scatter": [
           {
            "fillpattern": {
             "fillmode": "overlay",
             "size": 10,
             "solidity": 0.2
            },
            "type": "scatter"
           }
          ],
          "scatter3d": [
           {
            "line": {
             "colorbar": {
              "outlinewidth": 0,
              "ticks": ""
             }
            },
            "marker": {
             "colorbar": {
              "outlinewidth": 0,
              "ticks": ""
             }
            },
            "type": "scatter3d"
           }
          ],
          "scattercarpet": [
           {
            "marker": {
             "colorbar": {
              "outlinewidth": 0,
              "ticks": ""
             }
            },
            "type": "scattercarpet"
           }
          ],
          "scattergeo": [
           {
            "marker": {
             "colorbar": {
              "outlinewidth": 0,
              "ticks": ""
             }
            },
            "type": "scattergeo"
           }
          ],
          "scattergl": [
           {
            "marker": {
             "colorbar": {
              "outlinewidth": 0,
              "ticks": ""
             }
            },
            "type": "scattergl"
           }
          ],
          "scattermap": [
           {
            "marker": {
             "colorbar": {
              "outlinewidth": 0,
              "ticks": ""
             }
            },
            "type": "scattermap"
           }
          ],
          "scattermapbox": [
           {
            "marker": {
             "colorbar": {
              "outlinewidth": 0,
              "ticks": ""
             }
            },
            "type": "scattermapbox"
           }
          ],
          "scatterpolar": [
           {
            "marker": {
             "colorbar": {
              "outlinewidth": 0,
              "ticks": ""
             }
            },
            "type": "scatterpolar"
           }
          ],
          "scatterpolargl": [
           {
            "marker": {
             "colorbar": {
              "outlinewidth": 0,
              "ticks": ""
             }
            },
            "type": "scatterpolargl"
           }
          ],
          "scatterternary": [
           {
            "marker": {
             "colorbar": {
              "outlinewidth": 0,
              "ticks": ""
             }
            },
            "type": "scatterternary"
           }
          ],
          "surface": [
           {
            "colorbar": {
             "outlinewidth": 0,
             "ticks": ""
            },
            "colorscale": [
             [
              0,
              "#0d0887"
             ],
             [
              0.1111111111111111,
              "#46039f"
             ],
             [
              0.2222222222222222,
              "#7201a8"
             ],
             [
              0.3333333333333333,
              "#9c179e"
             ],
             [
              0.4444444444444444,
              "#bd3786"
             ],
             [
              0.5555555555555556,
              "#d8576b"
             ],
             [
              0.6666666666666666,
              "#ed7953"
             ],
             [
              0.7777777777777778,
              "#fb9f3a"
             ],
             [
              0.8888888888888888,
              "#fdca26"
             ],
             [
              1,
              "#f0f921"
             ]
            ],
            "type": "surface"
           }
          ],
          "table": [
           {
            "cells": {
             "fill": {
              "color": "#EBF0F8"
             },
             "line": {
              "color": "white"
             }
            },
            "header": {
             "fill": {
              "color": "#C8D4E3"
             },
             "line": {
              "color": "white"
             }
            },
            "type": "table"
           }
          ]
         },
         "layout": {
          "annotationdefaults": {
           "arrowcolor": "#2a3f5f",
           "arrowhead": 0,
           "arrowwidth": 1
          },
          "autotypenumbers": "strict",
          "coloraxis": {
           "colorbar": {
            "outlinewidth": 0,
            "ticks": ""
           }
          },
          "colorscale": {
           "diverging": [
            [
             0,
             "#8e0152"
            ],
            [
             0.1,
             "#c51b7d"
            ],
            [
             0.2,
             "#de77ae"
            ],
            [
             0.3,
             "#f1b6da"
            ],
            [
             0.4,
             "#fde0ef"
            ],
            [
             0.5,
             "#f7f7f7"
            ],
            [
             0.6,
             "#e6f5d0"
            ],
            [
             0.7,
             "#b8e186"
            ],
            [
             0.8,
             "#7fbc41"
            ],
            [
             0.9,
             "#4d9221"
            ],
            [
             1,
             "#276419"
            ]
           ],
           "sequential": [
            [
             0,
             "#0d0887"
            ],
            [
             0.1111111111111111,
             "#46039f"
            ],
            [
             0.2222222222222222,
             "#7201a8"
            ],
            [
             0.3333333333333333,
             "#9c179e"
            ],
            [
             0.4444444444444444,
             "#bd3786"
            ],
            [
             0.5555555555555556,
             "#d8576b"
            ],
            [
             0.6666666666666666,
             "#ed7953"
            ],
            [
             0.7777777777777778,
             "#fb9f3a"
            ],
            [
             0.8888888888888888,
             "#fdca26"
            ],
            [
             1,
             "#f0f921"
            ]
           ],
           "sequentialminus": [
            [
             0,
             "#0d0887"
            ],
            [
             0.1111111111111111,
             "#46039f"
            ],
            [
             0.2222222222222222,
             "#7201a8"
            ],
            [
             0.3333333333333333,
             "#9c179e"
            ],
            [
             0.4444444444444444,
             "#bd3786"
            ],
            [
             0.5555555555555556,
             "#d8576b"
            ],
            [
             0.6666666666666666,
             "#ed7953"
            ],
            [
             0.7777777777777778,
             "#fb9f3a"
            ],
            [
             0.8888888888888888,
             "#fdca26"
            ],
            [
             1,
             "#f0f921"
            ]
           ]
          },
          "colorway": [
           "#636efa",
           "#EF553B",
           "#00cc96",
           "#ab63fa",
           "#FFA15A",
           "#19d3f3",
           "#FF6692",
           "#B6E880",
           "#FF97FF",
           "#FECB52"
          ],
          "font": {
           "color": "#2a3f5f"
          },
          "geo": {
           "bgcolor": "white",
           "lakecolor": "white",
           "landcolor": "#E5ECF6",
           "showlakes": true,
           "showland": true,
           "subunitcolor": "white"
          },
          "hoverlabel": {
           "align": "left"
          },
          "hovermode": "closest",
          "mapbox": {
           "style": "light"
          },
          "paper_bgcolor": "white",
          "plot_bgcolor": "#E5ECF6",
          "polar": {
           "angularaxis": {
            "gridcolor": "white",
            "linecolor": "white",
            "ticks": ""
           },
           "bgcolor": "#E5ECF6",
           "radialaxis": {
            "gridcolor": "white",
            "linecolor": "white",
            "ticks": ""
           }
          },
          "scene": {
           "xaxis": {
            "backgroundcolor": "#E5ECF6",
            "gridcolor": "white",
            "gridwidth": 2,
            "linecolor": "white",
            "showbackground": true,
            "ticks": "",
            "zerolinecolor": "white"
           },
           "yaxis": {
            "backgroundcolor": "#E5ECF6",
            "gridcolor": "white",
            "gridwidth": 2,
            "linecolor": "white",
            "showbackground": true,
            "ticks": "",
            "zerolinecolor": "white"
           },
           "zaxis": {
            "backgroundcolor": "#E5ECF6",
            "gridcolor": "white",
            "gridwidth": 2,
            "linecolor": "white",
            "showbackground": true,
            "ticks": "",
            "zerolinecolor": "white"
           }
          },
          "shapedefaults": {
           "line": {
            "color": "#2a3f5f"
           }
          },
          "ternary": {
           "aaxis": {
            "gridcolor": "white",
            "linecolor": "white",
            "ticks": ""
           },
           "baxis": {
            "gridcolor": "white",
            "linecolor": "white",
            "ticks": ""
           },
           "bgcolor": "#E5ECF6",
           "caxis": {
            "gridcolor": "white",
            "linecolor": "white",
            "ticks": ""
           }
          },
          "title": {
           "x": 0.05
          },
          "xaxis": {
           "automargin": true,
           "gridcolor": "white",
           "linecolor": "white",
           "ticks": "",
           "title": {
            "standoff": 15
           },
           "zerolinecolor": "white",
           "zerolinewidth": 2
          },
          "yaxis": {
           "automargin": true,
           "gridcolor": "white",
           "linecolor": "white",
           "ticks": "",
           "title": {
            "standoff": 15
           },
           "zerolinecolor": "white",
           "zerolinewidth": 2
          }
         }
        },
        "title": {
         "text": "Equity Uses for: XOM"
        },
        "width": 800,
        "xaxis": {
         "title": {
          "text": "Year"
         }
        },
        "yaxis": {
         "title": {
          "text": "Amount $mm USD"
         }
        }
       }
      }
     },
     "metadata": {},
     "output_type": "display_data"
    }
   ],
   "source": [
    "# Equity Uses graph\n",
    "fig = go.Figure(\n",
    "    data=[\n",
    "        go.Bar(name='Beginning Equity',\n",
    "               x=equityUses_df[\"date\"],\n",
    "               y=equityUses_df['LY_totalStockholdersEquity'],\n",
    "               marker_color='#738fa7',\n",
    "               offsetgroup=0\n",
    "               ),\n",
    "        go.Bar(name='NetIncome',\n",
    "               x=equityUses_df[\"date\"],\n",
    "               y=equityUses_df['netIncome'],\n",
    "               marker_color='#005f73',\n",
    "               offsetgroup=1,\n",
    "               ),\n",
    "        go.Bar(name='Dividends',\n",
    "               x=equityUses_df[\"date\"],\n",
    "               y=equityUses_df['dividendsPaid'],\n",
    "               marker_color='#0a9396',\n",
    "               offsetgroup=1,\n",
    "               ),\n",
    "        go.Bar(name='Ending Equity (expected)',\n",
    "               x=equityUses_df[\"date\"],\n",
    "               y=(equityUses_df['LY_totalStockholdersEquity']\n",
    "                  + equityUses_df['netIncome']\n",
    "                  + equityUses_df['dividendsPaid']),\n",
    "               marker_color='#41729f',\n",
    "               offsetgroup=2\n",
    "               ),\n",
    "        go.Bar(name='Ending Equity (real)',\n",
    "               x=equityUses_df[\"date\"],\n",
    "               y=equityUses_df['totalStockholdersEquity'],\n",
    "               marker_color='#004369',\n",
    "               offsetgroup=3\n",
    "               )\n",
    "           ])\n",
    "fig.update_layout(barmode='group',\n",
    "                  title=str('Equity Uses for: '+company),\n",
    "                  xaxis_title='Year',\n",
    "                  yaxis_title=('Amount $mm '+currency),\n",
    "                  legend=dict(orientation=\"h\",\n",
    "                              yanchor=\"bottom\",\n",
    "                              y=1.0,\n",
    "                              xanchor=\"right\",\n",
    "                              x=1),\n",
    "                  width=800,\n",
    "                  height=400)\n",
    "\n",
    "fig.update_traces(texttemplate='%{y:.2s}', textposition='inside')\n",
    "fig.write_image(\"images/output/equity_graph.png\", scale=2)\n",
    "\n",
    "print(\"Equity Uses graph created.\\n\")\n",
    "fig.show()"
   ]
  },
  {
   "cell_type": "markdown",
   "id": "87228bc4-b5a0-4f26-b4d2-c456eb3d8b11",
   "metadata": {},
   "source": [
    "<a id=\"statements\"></a>\n",
    "### Create financial statements [*](#index)"
   ]
  },
  {
   "cell_type": "markdown",
   "id": "316d8172-19fb-48fe-bf7b-078d7da60a2d",
   "metadata": {},
   "source": [
    "<a id=\"table_is\"></a>\n",
    "### [Table] Income Statement [*](#index)"
   ]
  },
  {
   "cell_type": "code",
   "execution_count": 17,
   "id": "597c4d26-7a13-4eb5-a833-0d3a14c173df",
   "metadata": {
    "tags": []
   },
   "outputs": [
    {
     "name": "stdout",
     "output_type": "stream",
     "text": [
      "Created income statement table.\n",
      "\n"
     ]
    },
    {
     "data": {
      "text/html": [
       "<div>\n",
       "<style scoped>\n",
       "    .dataframe tbody tr th:only-of-type {\n",
       "        vertical-align: middle;\n",
       "    }\n",
       "\n",
       "    .dataframe tbody tr th {\n",
       "        vertical-align: top;\n",
       "    }\n",
       "\n",
       "    .dataframe thead th {\n",
       "        text-align: right;\n",
       "    }\n",
       "</style>\n",
       "<table border=\"1\" class=\"dataframe\">\n",
       "  <thead>\n",
       "    <tr style=\"text-align: right;\">\n",
       "      <th>Year</th>\n",
       "      <th>2020</th>\n",
       "      <th>2021</th>\n",
       "      <th>2022</th>\n",
       "      <th>2023</th>\n",
       "      <th>2024</th>\n",
       "    </tr>\n",
       "  </thead>\n",
       "  <tbody>\n",
       "    <tr>\n",
       "      <th>Revenue</th>\n",
       "      <td>179,784</td>\n",
       "      <td>278,981</td>\n",
       "      <td>402,217</td>\n",
       "      <td>334,697</td>\n",
       "      <td>349,585</td>\n",
       "    </tr>\n",
       "    <tr>\n",
       "      <th>Cost Of Revenue</th>\n",
       "      <td>122,627</td>\n",
       "      <td>188,936</td>\n",
       "      <td>268,502</td>\n",
       "      <td>251,385</td>\n",
       "      <td>239,063</td>\n",
       "    </tr>\n",
       "    <tr>\n",
       "      <th>Gross Profit</th>\n",
       "      <td>57,157</td>\n",
       "      <td>90,045</td>\n",
       "      <td>133,715</td>\n",
       "      <td>83,312</td>\n",
       "      <td>110,522</td>\n",
       "    </tr>\n",
       "    <tr>\n",
       "      <th>Operating Expenses</th>\n",
       "      <td>84,882</td>\n",
       "      <td>57,864</td>\n",
       "      <td>55,164</td>\n",
       "      <td>84,142</td>\n",
       "      <td>76,742</td>\n",
       "    </tr>\n",
       "    <tr>\n",
       "      <th>Operating Income</th>\n",
       "      <td>-3,982</td>\n",
       "      <td>26,780</td>\n",
       "      <td>71,588</td>\n",
       "      <td>50,643</td>\n",
       "      <td>48,873</td>\n",
       "    </tr>\n",
       "    <tr>\n",
       "      <th>Net Income</th>\n",
       "      <td>-22,440</td>\n",
       "      <td>23,040</td>\n",
       "      <td>55,740</td>\n",
       "      <td>36,010</td>\n",
       "      <td>33,680</td>\n",
       "    </tr>\n",
       "  </tbody>\n",
       "</table>\n",
       "</div>"
      ],
      "text/plain": [
       "Year                   2020     2021     2022     2023     2024\n",
       "Revenue             179,784  278,981  402,217  334,697  349,585\n",
       "Cost Of Revenue     122,627  188,936  268,502  251,385  239,063\n",
       "Gross Profit         57,157   90,045  133,715   83,312  110,522\n",
       "Operating Expenses   84,882   57,864   55,164   84,142   76,742\n",
       "Operating Income     -3,982   26,780   71,588   50,643   48,873\n",
       "Net Income          -22,440   23,040   55,740   36,010   33,680"
      ]
     },
     "execution_count": 17,
     "metadata": {},
     "output_type": "execute_result"
    }
   ],
   "source": [
    "# Income Statement Table\n",
    "\n",
    "# Copy Income Statement data frame\n",
    "is_table = is_df.copy(deep=True)\n",
    "\n",
    "# Make the year the index value\n",
    "is_table.set_index('calendarYear', inplace=True)\n",
    "is_table.index.rename('Year', inplace=True)\n",
    "\n",
    "# Drop non used variables\n",
    "is_table.drop(\n",
    "    ['date', 'symbol', 'reportedCurrency', 'cik', 'fillingDate',\n",
    "     'acceptedDate', 'period', 'grossProfitRatio',\n",
    "     'sellingAndMarketingExpenses', 'generalAndAdministrativeExpenses',\n",
    "     'sellingGeneralAndAdministrativeExpenses', 'otherExpenses',\n",
    "     'operatingIncomeRatio', 'costAndExpenses', 'interestIncome',\n",
    "     'depreciationAndAmortization', 'ebitda', 'ebitdaratio',\n",
    "     'totalOtherIncomeExpensesNet', 'incomeBeforeTax', 'incomeBeforeTaxRatio',\n",
    "     'incomeTaxExpense', 'netIncomeRatio', 'eps', 'epsdiluted',\n",
    "     'weightedAverageShsOut', 'weightedAverageShsOutDil', 'link', 'finalLink'\n",
    "     ], axis=1, inplace=True)\n",
    "\n",
    "# Reorder Columns\n",
    "is_table = is_table[['revenue', 'costOfRevenue', 'grossProfit',\n",
    "                     'operatingExpenses', 'operatingIncome', 'netIncome']]\n",
    "\n",
    "# Rename columns as they will appear in image\n",
    "is_table.rename(columns={\n",
    "    'revenue': 'Revenue',\n",
    "    'costOfRevenue': 'Cost Of Revenue',\n",
    "    'grossProfit': 'Gross Profit',\n",
    "    'operatingExpenses': 'Operating Expenses',\n",
    "    'operatingIncome': 'Operating Income',\n",
    "    'netIncome': 'Net Income',\n",
    "    }, inplace=True)\n",
    "\n",
    "# Copy data frame to create Common Size Income Statement\n",
    "cs_is_table = is_table.copy(deep=True)\n",
    "\n",
    "# Format columns to create the image from the data frame\n",
    "is_columns = ['Revenue', 'Cost Of Revenue', 'Gross Profit',\n",
    "              'Operating Expenses', 'Operating Income', 'Net Income']\n",
    "\n",
    "# Divide values by one million\n",
    "for column_name in is_columns:\n",
    "    is_table[column_name] = is_table[column_name].div(1_000_000)\n",
    "\n",
    "# Format columns: Turn to string, include commas and remove decimals\n",
    "for column_name in is_columns:\n",
    "    is_table[column_name] = (\n",
    "        pd.Series([f\"{val:,.0f}\"for val in is_table[column_name]],\n",
    "                  index=is_table.index))\n",
    "# Transpose data\n",
    "is_table = is_table.transpose()\n",
    "\n",
    "# Save data frame as image:\n",
    "is_table.dfi.export('images/output/is_table.png')\n",
    "\n",
    "# Print table name\n",
    "print(\"Created income statement table.\\n\")\n",
    "\n",
    "# Show table\n",
    "is_table"
   ]
  },
  {
   "cell_type": "markdown",
   "id": "69506513-d0b8-4f7d-8199-0bb890f3b38c",
   "metadata": {
    "tags": []
   },
   "source": [
    "<a id=\"table_cs_is\"></a>\n",
    "### [Table] Common Size Income Statement [*](#index)"
   ]
  },
  {
   "cell_type": "code",
   "execution_count": 18,
   "id": "67780d34-f01f-4994-8fd6-16f15f97a312",
   "metadata": {
    "tags": []
   },
   "outputs": [
    {
     "name": "stdout",
     "output_type": "stream",
     "text": [
      "Created common size income statement table.\n",
      "\n"
     ]
    },
    {
     "data": {
      "text/html": [
       "<div>\n",
       "<style scoped>\n",
       "    .dataframe tbody tr th:only-of-type {\n",
       "        vertical-align: middle;\n",
       "    }\n",
       "\n",
       "    .dataframe tbody tr th {\n",
       "        vertical-align: top;\n",
       "    }\n",
       "\n",
       "    .dataframe thead th {\n",
       "        text-align: right;\n",
       "    }\n",
       "</style>\n",
       "<table border=\"1\" class=\"dataframe\">\n",
       "  <thead>\n",
       "    <tr style=\"text-align: right;\">\n",
       "      <th>Year</th>\n",
       "      <th>2020</th>\n",
       "      <th>2021</th>\n",
       "      <th>2022</th>\n",
       "      <th>2023</th>\n",
       "      <th>2024</th>\n",
       "    </tr>\n",
       "  </thead>\n",
       "  <tbody>\n",
       "    <tr>\n",
       "      <th>Revenue</th>\n",
       "      <td>100%</td>\n",
       "      <td>100%</td>\n",
       "      <td>100%</td>\n",
       "      <td>100%</td>\n",
       "      <td>100%</td>\n",
       "    </tr>\n",
       "    <tr>\n",
       "      <th>Cost Of Revenue</th>\n",
       "      <td>68%</td>\n",
       "      <td>68%</td>\n",
       "      <td>67%</td>\n",
       "      <td>75%</td>\n",
       "      <td>68%</td>\n",
       "    </tr>\n",
       "    <tr>\n",
       "      <th>Gross Profit</th>\n",
       "      <td>32%</td>\n",
       "      <td>32%</td>\n",
       "      <td>33%</td>\n",
       "      <td>25%</td>\n",
       "      <td>32%</td>\n",
       "    </tr>\n",
       "    <tr>\n",
       "      <th>Operating Expenses</th>\n",
       "      <td>47%</td>\n",
       "      <td>21%</td>\n",
       "      <td>14%</td>\n",
       "      <td>25%</td>\n",
       "      <td>22%</td>\n",
       "    </tr>\n",
       "    <tr>\n",
       "      <th>Operating Income</th>\n",
       "      <td>-2%</td>\n",
       "      <td>10%</td>\n",
       "      <td>18%</td>\n",
       "      <td>15%</td>\n",
       "      <td>14%</td>\n",
       "    </tr>\n",
       "    <tr>\n",
       "      <th>Net Income</th>\n",
       "      <td>-12%</td>\n",
       "      <td>8%</td>\n",
       "      <td>14%</td>\n",
       "      <td>11%</td>\n",
       "      <td>10%</td>\n",
       "    </tr>\n",
       "  </tbody>\n",
       "</table>\n",
       "</div>"
      ],
      "text/plain": [
       "Year                2020  2021  2022  2023  2024\n",
       "Revenue             100%  100%  100%  100%  100%\n",
       "Cost Of Revenue      68%   68%   67%   75%   68%\n",
       "Gross Profit         32%   32%   33%   25%   32%\n",
       "Operating Expenses   47%   21%   14%   25%   22%\n",
       "Operating Income     -2%   10%   18%   15%   14%\n",
       "Net Income          -12%    8%   14%   11%   10%"
      ]
     },
     "execution_count": 18,
     "metadata": {},
     "output_type": "execute_result"
    }
   ],
   "source": [
    "# Common Size Income Statement Table\n",
    "\n",
    "# Transform values to Common Size (Percentage of Revenue)\n",
    "# Revenue must be the last item on the list\n",
    "cs_is_columns = ['Cost Of Revenue', 'Gross Profit', 'Operating Expenses',\n",
    "                 'Operating Income', 'Net Income', 'Revenue']\n",
    "\n",
    "# Divide values by Revenue\n",
    "for column in cs_is_columns:\n",
    "    cs_is_table[column] = (\n",
    "        round(((cs_is_table[column]/cs_is_table['Revenue'])*100), 0))\n",
    "\n",
    "# Format columns: Turn to string and format as percentage %\n",
    "for column in cs_is_columns:\n",
    "    cs_is_table[column] = (\n",
    "        pd.Series([\"{0:.0f}%\".format(val) for val in cs_is_table[column]],\n",
    "                  index=cs_is_table.index))\n",
    "# Transpose data\n",
    "cs_is_table = cs_is_table.transpose()\n",
    "\n",
    "# Save data frame as image:\n",
    "cs_is_table.dfi.export('images/output/is_table_cs.png')\n",
    "\n",
    "# Print table name\n",
    "print(\"Created common size income statement table.\\n\")\n",
    "\n",
    "# Show table\n",
    "cs_is_table"
   ]
  },
  {
   "cell_type": "markdown",
   "id": "bfdea31b-d751-4c5f-b209-a5e67f02db02",
   "metadata": {},
   "source": [
    "<a id=\"table_bs\"></a>\n",
    "### [Table] Balance Sheet [*](#index)"
   ]
  },
  {
   "cell_type": "code",
   "execution_count": 19,
   "id": "782e8c0c-1956-4168-a73f-1f14a7f5f34d",
   "metadata": {},
   "outputs": [
    {
     "name": "stdout",
     "output_type": "stream",
     "text": [
      "Created balance sheet table.\n",
      "\n"
     ]
    },
    {
     "data": {
      "text/html": [
       "<div>\n",
       "<style scoped>\n",
       "    .dataframe tbody tr th:only-of-type {\n",
       "        vertical-align: middle;\n",
       "    }\n",
       "\n",
       "    .dataframe tbody tr th {\n",
       "        vertical-align: top;\n",
       "    }\n",
       "\n",
       "    .dataframe thead th {\n",
       "        text-align: right;\n",
       "    }\n",
       "</style>\n",
       "<table border=\"1\" class=\"dataframe\">\n",
       "  <thead>\n",
       "    <tr style=\"text-align: right;\">\n",
       "      <th>Year</th>\n",
       "      <th>2020</th>\n",
       "      <th>2021</th>\n",
       "      <th>2022</th>\n",
       "      <th>2023</th>\n",
       "      <th>2024</th>\n",
       "    </tr>\n",
       "  </thead>\n",
       "  <tbody>\n",
       "    <tr>\n",
       "      <th>Cur Assets</th>\n",
       "      <td>44,893</td>\n",
       "      <td>59,154</td>\n",
       "      <td>97,631</td>\n",
       "      <td>96,609</td>\n",
       "      <td>91,990</td>\n",
       "    </tr>\n",
       "    <tr>\n",
       "      <th>LT Asset</th>\n",
       "      <td>287,857</td>\n",
       "      <td>279,769</td>\n",
       "      <td>271,436</td>\n",
       "      <td>279,708</td>\n",
       "      <td>361,485</td>\n",
       "    </tr>\n",
       "    <tr>\n",
       "      <th>Total Assets</th>\n",
       "      <td>332,750</td>\n",
       "      <td>338,923</td>\n",
       "      <td>369,067</td>\n",
       "      <td>376,317</td>\n",
       "      <td>453,475</td>\n",
       "    </tr>\n",
       "    <tr>\n",
       "      <th>Cur Liabilities</th>\n",
       "      <td>56,363</td>\n",
       "      <td>56,643</td>\n",
       "      <td>69,045</td>\n",
       "      <td>65,316</td>\n",
       "      <td>70,307</td>\n",
       "    </tr>\n",
       "    <tr>\n",
       "      <th>LT Liabilities</th>\n",
       "      <td>112,257</td>\n",
       "      <td>106,597</td>\n",
       "      <td>97,549</td>\n",
       "      <td>98,463</td>\n",
       "      <td>112,562</td>\n",
       "    </tr>\n",
       "    <tr>\n",
       "      <th>Total Liab</th>\n",
       "      <td>168,620</td>\n",
       "      <td>163,240</td>\n",
       "      <td>166,594</td>\n",
       "      <td>163,779</td>\n",
       "      <td>182,869</td>\n",
       "    </tr>\n",
       "    <tr>\n",
       "      <th>SH Equity</th>\n",
       "      <td>157,150</td>\n",
       "      <td>168,577</td>\n",
       "      <td>195,049</td>\n",
       "      <td>204,802</td>\n",
       "      <td>270,606</td>\n",
       "    </tr>\n",
       "  </tbody>\n",
       "</table>\n",
       "</div>"
      ],
      "text/plain": [
       "Year                2020     2021     2022     2023     2024\n",
       "Cur Assets        44,893   59,154   97,631   96,609   91,990\n",
       "LT Asset         287,857  279,769  271,436  279,708  361,485\n",
       "Total Assets     332,750  338,923  369,067  376,317  453,475\n",
       "Cur Liabilities   56,363   56,643   69,045   65,316   70,307\n",
       "LT Liabilities   112,257  106,597   97,549   98,463  112,562\n",
       "Total Liab       168,620  163,240  166,594  163,779  182,869\n",
       "SH Equity        157,150  168,577  195,049  204,802  270,606"
      ]
     },
     "execution_count": 19,
     "metadata": {},
     "output_type": "execute_result"
    }
   ],
   "source": [
    "# Balance Sheet Table\n",
    "\n",
    "# Copy income statement data frame\n",
    "bs_table = bs_df.copy(deep=True)\n",
    "\n",
    "# Make the year the index value\n",
    "bs_table.set_index('calendarYear', inplace=True)\n",
    "bs_table.index.rename('Year', inplace=True)\n",
    "\n",
    "# Drop non used variables\n",
    "bs_table.drop(\n",
    "    ['date', 'symbol', 'reportedCurrency', 'cik', 'fillingDate',\n",
    "     'acceptedDate', 'period', 'cashAndCashEquivalents',\n",
    "     'shortTermInvestments', 'cashAndShortTermInvestments',\n",
    "     'netReceivables', 'inventory', 'otherCurrentAssets',\n",
    "     'propertyPlantEquipmentNet', 'goodwill', 'intangibleAssets',\n",
    "     'goodwillAndIntangibleAssets', 'longTermInvestments', 'taxAssets',\n",
    "     'otherNonCurrentAssets', 'otherAssets', 'accountPayables',\n",
    "     'shortTermDebt', 'taxPayables', 'deferredRevenue',\n",
    "     'otherCurrentLiabilities', 'longTermDebt', 'deferredRevenueNonCurrent',\n",
    "     'deferredTaxLiabilitiesNonCurrent', 'otherNonCurrentLiabilities',\n",
    "     'otherLiabilities', 'capitalLeaseObligations', 'preferredStock',\n",
    "     'commonStock', 'retainedEarnings',\n",
    "     'accumulatedOtherComprehensiveIncomeLoss', 'othertotalStockholdersEquity',\n",
    "     'totalLiabilitiesAndStockholdersEquity', 'minorityInterest',\n",
    "     'totalEquity', 'totalLiabilitiesAndTotalEquity',\n",
    "     'totalInvestments', 'totalDebt', 'netDebt', 'link', 'finalLink'\n",
    "     ], axis=1, inplace=True)\n",
    "\n",
    "# Rename columns as they will appear in image\n",
    "bs_table.rename(columns={\n",
    "    'totalCurrentAssets': 'Cur Assets',\n",
    "    'totalNonCurrentAssets': 'LT Asset',\n",
    "    'totalAssets': 'Total Assets',\n",
    "    'totalCurrentLiabilities': 'Cur Liabilities',\n",
    "    'totalNonCurrentLiabilities': 'LT Liabilities',\n",
    "    'totalLiabilities': 'Total Liab',\n",
    "    'totalStockholdersEquity': 'SH Equity',\n",
    "    }, inplace=True)\n",
    "\n",
    "# Copy data frame to create common size income statement\n",
    "cs_bs_table = bs_table.copy(deep=True)\n",
    "\n",
    "# Format columns to create the image from the data frame\n",
    "bs_columns = ['Cur Assets', 'LT Asset', 'Total Assets',\n",
    "              'Cur Liabilities', 'LT Liabilities', 'Total Liab',\n",
    "              'SH Equity']\n",
    "\n",
    "# Divide values by one million\n",
    "for column_name in bs_columns:\n",
    "    bs_table[column_name] = bs_table[column_name].div(1_000_000)\n",
    "\n",
    "# Format columns: Turn to string, include commas and remove decimals\n",
    "for column_name in bs_columns:\n",
    "    bs_table[column_name] = (\n",
    "        pd.Series([f\"{val:,.0f}\"for val in bs_table[column_name]],\n",
    "                  index=bs_table.index))\n",
    "\n",
    "# Transpose data\n",
    "bs_table = bs_table.transpose()\n",
    "\n",
    "# Save data frame as image:\n",
    "bs_table.dfi.export('images/output/bs_table.png')\n",
    "\n",
    "# Print table name\n",
    "print(\"Created balance sheet table.\\n\")\n",
    "\n",
    "# Show table\n",
    "bs_table"
   ]
  },
  {
   "cell_type": "markdown",
   "id": "9a392e5a-b852-4abd-8d5a-12874149863d",
   "metadata": {},
   "source": [
    "<a id=\"table_cs_bs\"></a>\n",
    "### [Table] Common Size Balance Sheet [*](#index)"
   ]
  },
  {
   "cell_type": "code",
   "execution_count": 20,
   "id": "dd16b3a8-6890-49e8-8b57-abf3de93a99b",
   "metadata": {},
   "outputs": [
    {
     "name": "stdout",
     "output_type": "stream",
     "text": [
      "Created common size balance sheet table.\n",
      "\n"
     ]
    },
    {
     "data": {
      "text/html": [
       "<div>\n",
       "<style scoped>\n",
       "    .dataframe tbody tr th:only-of-type {\n",
       "        vertical-align: middle;\n",
       "    }\n",
       "\n",
       "    .dataframe tbody tr th {\n",
       "        vertical-align: top;\n",
       "    }\n",
       "\n",
       "    .dataframe thead th {\n",
       "        text-align: right;\n",
       "    }\n",
       "</style>\n",
       "<table border=\"1\" class=\"dataframe\">\n",
       "  <thead>\n",
       "    <tr style=\"text-align: right;\">\n",
       "      <th>Year</th>\n",
       "      <th>2020</th>\n",
       "      <th>2021</th>\n",
       "      <th>2022</th>\n",
       "      <th>2023</th>\n",
       "      <th>2024</th>\n",
       "    </tr>\n",
       "  </thead>\n",
       "  <tbody>\n",
       "    <tr>\n",
       "      <th>Cur Assets</th>\n",
       "      <td>13%</td>\n",
       "      <td>17%</td>\n",
       "      <td>26%</td>\n",
       "      <td>26%</td>\n",
       "      <td>20%</td>\n",
       "    </tr>\n",
       "    <tr>\n",
       "      <th>LT Asset</th>\n",
       "      <td>87%</td>\n",
       "      <td>83%</td>\n",
       "      <td>74%</td>\n",
       "      <td>74%</td>\n",
       "      <td>80%</td>\n",
       "    </tr>\n",
       "    <tr>\n",
       "      <th>Total Assets</th>\n",
       "      <td>100%</td>\n",
       "      <td>100%</td>\n",
       "      <td>100%</td>\n",
       "      <td>100%</td>\n",
       "      <td>100%</td>\n",
       "    </tr>\n",
       "    <tr>\n",
       "      <th>Cur Liabilities</th>\n",
       "      <td>17%</td>\n",
       "      <td>17%</td>\n",
       "      <td>19%</td>\n",
       "      <td>17%</td>\n",
       "      <td>16%</td>\n",
       "    </tr>\n",
       "    <tr>\n",
       "      <th>LT Liabilities</th>\n",
       "      <td>34%</td>\n",
       "      <td>31%</td>\n",
       "      <td>26%</td>\n",
       "      <td>26%</td>\n",
       "      <td>25%</td>\n",
       "    </tr>\n",
       "    <tr>\n",
       "      <th>Total Liab</th>\n",
       "      <td>51%</td>\n",
       "      <td>48%</td>\n",
       "      <td>45%</td>\n",
       "      <td>44%</td>\n",
       "      <td>40%</td>\n",
       "    </tr>\n",
       "    <tr>\n",
       "      <th>SH Equity</th>\n",
       "      <td>47%</td>\n",
       "      <td>50%</td>\n",
       "      <td>53%</td>\n",
       "      <td>54%</td>\n",
       "      <td>60%</td>\n",
       "    </tr>\n",
       "  </tbody>\n",
       "</table>\n",
       "</div>"
      ],
      "text/plain": [
       "Year             2020  2021  2022  2023  2024\n",
       "Cur Assets        13%   17%   26%   26%   20%\n",
       "LT Asset          87%   83%   74%   74%   80%\n",
       "Total Assets     100%  100%  100%  100%  100%\n",
       "Cur Liabilities   17%   17%   19%   17%   16%\n",
       "LT Liabilities    34%   31%   26%   26%   25%\n",
       "Total Liab        51%   48%   45%   44%   40%\n",
       "SH Equity         47%   50%   53%   54%   60%"
      ]
     },
     "execution_count": 20,
     "metadata": {},
     "output_type": "execute_result"
    }
   ],
   "source": [
    "# Common Size Balance Sheet Table\n",
    "\n",
    "# Transform values to Common Size (Percentage of Assets)\n",
    "# Assets must be the last item on the list\n",
    "cs_bs_columns = ['Cur Assets', 'LT Asset', 'Cur Liabilities',\n",
    "                 'LT Liabilities', 'Total Liab', 'SH Equity',\n",
    "                 'Total Assets']\n",
    "\n",
    "# Divide values by Total Assets value\n",
    "for column in cs_bs_columns:\n",
    "    cs_bs_table[column] = (\n",
    "        round(((cs_bs_table[column]/cs_bs_table['Total Assets'])*100), 0))\n",
    "\n",
    "# Format columns: Turn to string and format as percentage %\n",
    "for column in cs_bs_columns:\n",
    "    cs_bs_table[column] = (\n",
    "        pd.Series([\"{0:.0f}%\".format(val) for val in cs_bs_table[column]],\n",
    "                  index=cs_bs_table.index))\n",
    "# Transpose data\n",
    "cs_bs_table = cs_bs_table.transpose()\n",
    "\n",
    "# Save data frame as image:\n",
    "cs_bs_table.dfi.export('images/output/bs_table_cs.png')\n",
    "\n",
    "# Print table name\n",
    "print(\"Created common size balance sheet table.\\n\")\n",
    "\n",
    "# Show table\n",
    "cs_bs_table"
   ]
  },
  {
   "cell_type": "markdown",
   "id": "a78a2d13-6492-4e49-9414-598efdfdcca9",
   "metadata": {},
   "source": [
    "<a id=\"table_cf\"></a>\n",
    "### [Table] Cash Flow Statement [*](#index)"
   ]
  },
  {
   "cell_type": "code",
   "execution_count": 21,
   "id": "de491597-46e8-4d60-8c37-a38d742ecc7c",
   "metadata": {},
   "outputs": [
    {
     "name": "stdout",
     "output_type": "stream",
     "text": [
      "Created cash flow statement table.\n",
      "\n"
     ]
    },
    {
     "data": {
      "text/html": [
       "<div>\n",
       "<style scoped>\n",
       "    .dataframe tbody tr th:only-of-type {\n",
       "        vertical-align: middle;\n",
       "    }\n",
       "\n",
       "    .dataframe tbody tr th {\n",
       "        vertical-align: top;\n",
       "    }\n",
       "\n",
       "    .dataframe thead th {\n",
       "        text-align: right;\n",
       "    }\n",
       "</style>\n",
       "<table border=\"1\" class=\"dataframe\">\n",
       "  <thead>\n",
       "    <tr style=\"text-align: right;\">\n",
       "      <th>Year</th>\n",
       "      <th>2020</th>\n",
       "      <th>2021</th>\n",
       "      <th>2022</th>\n",
       "      <th>2023</th>\n",
       "      <th>2024</th>\n",
       "    </tr>\n",
       "  </thead>\n",
       "  <tbody>\n",
       "    <tr>\n",
       "      <th>CF Operating Activities</th>\n",
       "      <td>14,668</td>\n",
       "      <td>48,129</td>\n",
       "      <td>76,797</td>\n",
       "      <td>55,369</td>\n",
       "      <td>55,022</td>\n",
       "    </tr>\n",
       "    <tr>\n",
       "      <th>CF Investing Activities</th>\n",
       "      <td>-18,459</td>\n",
       "      <td>-10,235</td>\n",
       "      <td>-14,742</td>\n",
       "      <td>-20,044</td>\n",
       "      <td>-19,938</td>\n",
       "    </tr>\n",
       "    <tr>\n",
       "      <th>CF Financing Activities</th>\n",
       "      <td>5,285</td>\n",
       "      <td>-35,423</td>\n",
       "      <td>-37,639</td>\n",
       "      <td>-33,527</td>\n",
       "      <td>-42,789</td>\n",
       "    </tr>\n",
       "    <tr>\n",
       "      <th>Change in cash</th>\n",
       "      <td>1,275</td>\n",
       "      <td>2,438</td>\n",
       "      <td>22,863</td>\n",
       "      <td>1,903</td>\n",
       "      <td>-8,381</td>\n",
       "    </tr>\n",
       "    <tr>\n",
       "      <th>Cash end of period</th>\n",
       "      <td>4,364</td>\n",
       "      <td>6,802</td>\n",
       "      <td>29,665</td>\n",
       "      <td>31,568</td>\n",
       "      <td>23,187</td>\n",
       "    </tr>\n",
       "    <tr>\n",
       "      <th>Cash beginning of period</th>\n",
       "      <td>3,089</td>\n",
       "      <td>4,364</td>\n",
       "      <td>6,802</td>\n",
       "      <td>29,665</td>\n",
       "      <td>31,568</td>\n",
       "    </tr>\n",
       "  </tbody>\n",
       "</table>\n",
       "</div>"
      ],
      "text/plain": [
       "Year                         2020     2021     2022     2023     2024\n",
       "CF Operating Activities    14,668   48,129   76,797   55,369   55,022\n",
       "CF Investing Activities   -18,459  -10,235  -14,742  -20,044  -19,938\n",
       "CF Financing Activities     5,285  -35,423  -37,639  -33,527  -42,789\n",
       "Change in cash              1,275    2,438   22,863    1,903   -8,381\n",
       "Cash end of period          4,364    6,802   29,665   31,568   23,187\n",
       "Cash beginning of period    3,089    4,364    6,802   29,665   31,568"
      ]
     },
     "execution_count": 21,
     "metadata": {},
     "output_type": "execute_result"
    }
   ],
   "source": [
    "# Cash Flow Statement Table\n",
    "\n",
    "# Copy income statement data frame\n",
    "cf_table = cf_df.copy(deep=True)\n",
    "\n",
    "# Make the year the index value\n",
    "cf_table.set_index('calendarYear', inplace=True)\n",
    "cf_table.index.rename('Year', inplace=True)\n",
    "\n",
    "# Drop non used variables\n",
    "cf_table.drop(\n",
    "    ['date', 'symbol', 'reportedCurrency', 'cik',\n",
    "     'fillingDate', 'acceptedDate',\n",
    "     'period', 'netIncome', 'depreciationAndAmortization',\n",
    "     'deferredIncomeTax', 'stockBasedCompensation',\n",
    "     'changeInWorkingCapital', 'accountsReceivables',\n",
    "     'inventory', 'accountsPayables', 'otherWorkingCapital',\n",
    "     'otherNonCashItems', 'investmentsInPropertyPlantAndEquipment',\n",
    "     'acquisitionsNet', 'purchasesOfInvestments',\n",
    "     'salesMaturitiesOfInvestments', 'otherInvestingActivites',\n",
    "     'debtRepayment', 'commonStockIssued',\n",
    "     'commonStockRepurchased', 'dividendsPaid',\n",
    "     'otherFinancingActivites', 'effectOfForexChangesOnCash',\n",
    "     'operatingCashFlow', 'capitalExpenditure',\n",
    "     'freeCashFlow', 'link', 'finalLink'\n",
    "     ], axis=1, inplace=True)\n",
    "\n",
    "# Rename columns as they will appear in image\n",
    "cf_table.rename(columns={\n",
    "    'netCashProvidedByOperatingActivities': 'CF Operating Activities',\n",
    "    'netCashUsedForInvestingActivites': 'CF Investing Activities',\n",
    "    'netCashUsedProvidedByFinancingActivities': 'CF Financing Activities',\n",
    "    'netChangeInCash': 'Change in cash',\n",
    "    'cashAtEndOfPeriod': 'Cash end of period',\n",
    "    'cashAtBeginningOfPeriod': 'Cash beginning of period',\n",
    "    }, inplace=True)\n",
    "\n",
    "# Format columns to create the image from the data frame\n",
    "cf_columns = ['CF Operating Activities', 'CF Investing Activities',\n",
    "              'CF Financing Activities', 'Change in cash',\n",
    "              'Cash end of period', 'Cash beginning of period']\n",
    "\n",
    "# Divide values by one million\n",
    "for column_name in cf_columns:\n",
    "    cf_table[column_name] = cf_table[column_name].div(1_000_000)\n",
    "\n",
    "# Format columns: Turn to string, include commas and remove decimals\n",
    "for column_name in cf_columns:\n",
    "    cf_table[column_name] = (\n",
    "        pd.Series([f\"{val:,.0f}\"for val in cf_table[column_name]],\n",
    "                  index=cf_table.index))\n",
    "\n",
    "# Transpose data\n",
    "cf_table = cf_table.transpose()\n",
    "\n",
    "# Save data frame as image:\n",
    "cf_table.dfi.export('images/output/cf_table.png')\n",
    "\n",
    "# Print table name\n",
    "print(\"Created cash flow statement table.\\n\")\n",
    "\n",
    "# Show table\n",
    "cf_table"
   ]
  },
  {
   "cell_type": "markdown",
   "id": "1eec1e29-5dc8-426e-a798-dc40b224712c",
   "metadata": {},
   "source": [
    "<a id=\"metrics\"></a>\n",
    "### Create Key Metrics tables [*](#index)"
   ]
  },
  {
   "cell_type": "markdown",
   "id": "fe3fb14a-1971-471b-b58a-21384a843c7d",
   "metadata": {},
   "source": [
    "<a id=\"table_market\"></a>\n",
    "### [Table] Market Ratios [*](#index)"
   ]
  },
  {
   "cell_type": "code",
   "execution_count": 22,
   "id": "1e5973b8-01c6-40ee-804c-320c60a48bc8",
   "metadata": {},
   "outputs": [
    {
     "name": "stdout",
     "output_type": "stream",
     "text": [
      "Created Market Ratios Table.\n",
      "\n"
     ]
    },
    {
     "data": {
      "text/html": [
       "<div>\n",
       "<style scoped>\n",
       "    .dataframe tbody tr th:only-of-type {\n",
       "        vertical-align: middle;\n",
       "    }\n",
       "\n",
       "    .dataframe tbody tr th {\n",
       "        vertical-align: top;\n",
       "    }\n",
       "\n",
       "    .dataframe thead th {\n",
       "        text-align: right;\n",
       "    }\n",
       "</style>\n",
       "<table border=\"1\" class=\"dataframe\">\n",
       "  <thead>\n",
       "    <tr style=\"text-align: right;\">\n",
       "      <th>Date</th>\n",
       "      <th>2020</th>\n",
       "      <th>2021</th>\n",
       "      <th>2022</th>\n",
       "      <th>2023</th>\n",
       "      <th>2024</th>\n",
       "    </tr>\n",
       "  </thead>\n",
       "  <tbody>\n",
       "    <tr>\n",
       "      <th>Price to Book Ratio</th>\n",
       "      <td>1</td>\n",
       "      <td>2</td>\n",
       "      <td>2</td>\n",
       "      <td>2</td>\n",
       "      <td>2</td>\n",
       "    </tr>\n",
       "    <tr>\n",
       "      <th>Price to Sales Ratio</th>\n",
       "      <td>1</td>\n",
       "      <td>1</td>\n",
       "      <td>1</td>\n",
       "      <td>1</td>\n",
       "      <td>1</td>\n",
       "    </tr>\n",
       "    <tr>\n",
       "      <th>Price to Earnings Ratio</th>\n",
       "      <td>-8</td>\n",
       "      <td>11</td>\n",
       "      <td>8</td>\n",
       "      <td>12</td>\n",
       "      <td>14</td>\n",
       "    </tr>\n",
       "    <tr>\n",
       "      <th>Price to Operating Cashflow Ratio</th>\n",
       "      <td>12</td>\n",
       "      <td>5</td>\n",
       "      <td>6</td>\n",
       "      <td>7</td>\n",
       "      <td>8</td>\n",
       "    </tr>\n",
       "    <tr>\n",
       "      <th>Enterprise Value Multiple</th>\n",
       "      <td>-34</td>\n",
       "      <td>6</td>\n",
       "      <td>5</td>\n",
       "      <td>6</td>\n",
       "      <td>7</td>\n",
       "    </tr>\n",
       "    <tr>\n",
       "      <th>Price to Fair Value</th>\n",
       "      <td>1</td>\n",
       "      <td>2</td>\n",
       "      <td>2</td>\n",
       "      <td>2</td>\n",
       "      <td>2</td>\n",
       "    </tr>\n",
       "    <tr>\n",
       "      <th>Dividend Yield</th>\n",
       "      <td>8.4%</td>\n",
       "      <td>5.7%</td>\n",
       "      <td>3.2%</td>\n",
       "      <td>3.6%</td>\n",
       "      <td>3.6%</td>\n",
       "    </tr>\n",
       "    <tr>\n",
       "      <th>Earnings Yield</th>\n",
       "      <td>-12.7%</td>\n",
       "      <td>8.8%</td>\n",
       "      <td>12.0%</td>\n",
       "      <td>8.7%</td>\n",
       "      <td>7.3%</td>\n",
       "    </tr>\n",
       "  </tbody>\n",
       "</table>\n",
       "</div>"
      ],
      "text/plain": [
       "Date                                 2020  2021   2022  2023  2024\n",
       "Price to Book Ratio                     1     2      2     2     2\n",
       "Price to Sales Ratio                    1     1      1     1     1\n",
       "Price to Earnings Ratio                -8    11      8    12    14\n",
       "Price to Operating Cashflow Ratio      12     5      6     7     8\n",
       "Enterprise Value Multiple             -34     6      5     6     7\n",
       "Price to Fair Value                     1     2      2     2     2\n",
       "Dividend Yield                       8.4%  5.7%   3.2%  3.6%  3.6%\n",
       "Earnings Yield                     -12.7%  8.8%  12.0%  8.7%  7.3%"
      ]
     },
     "execution_count": 22,
     "metadata": {},
     "output_type": "execute_result"
    }
   ],
   "source": [
    "# Market Ratios Table\n",
    "\n",
    "# Copy ratios statement data frame\n",
    "mratios_table = ratios_df.copy(deep=True)\n",
    "\n",
    "mratios_table.sort_index(ascending=False, inplace=True)\n",
    "\n",
    "# If dividendYield is None replace with 0\n",
    "mratios_table['dividendYield'] = mratios_table['dividendYield'].replace([None], 0)\n",
    "\n",
    "# If dividendYield is String replace as Float\n",
    "mratios_table['dividendYield'] = mratios_table['dividendYield'].astype(float)\n",
    "\n",
    "# Add Earnings Yield to table\n",
    "mratios_table['Earnings Yield'] = (1 / mratios_table['priceEarningsRatio'])\n",
    "\n",
    "# Transform date column from string to datetime\n",
    "# Display only the year from the date column\n",
    "mratios_table['date'] = pd.to_datetime(mratios_table['date'])\n",
    "mratios_table['date'] = mratios_table['date'].dt.year\n",
    "\n",
    "# Get defined amount of years\n",
    "mratios_table = mratios_table.iloc[-years:]\n",
    "\n",
    "# Make date the index value\n",
    "mratios_table.set_index('date', inplace=True)\n",
    "mratios_table.index.rename('Date', inplace=True)\n",
    "\n",
    "# Drop non used variables\n",
    "mratios_table.drop(\n",
    "    ['symbol', 'period', 'currentRatio', 'quickRatio',\n",
    "     'cashRatio', 'daysOfSalesOutstanding',\n",
    "     'daysOfInventoryOutstanding', 'operatingCycle',\n",
    "     'daysOfPayablesOutstanding', 'cashConversionCycle',\n",
    "     'grossProfitMargin', 'operatingProfitMargin',\n",
    "     'pretaxProfitMargin', 'netProfitMargin',\n",
    "     'effectiveTaxRate', 'returnOnAssets',\n",
    "     'returnOnEquity', 'returnOnCapitalEmployed',\n",
    "     'netIncomePerEBT', 'ebtPerEbit', 'ebitPerRevenue',\n",
    "     'debtRatio', 'debtEquityRatio',\n",
    "     'longTermDebtToCapitalization', 'totalDebtToCapitalization',\n",
    "     'interestCoverage', 'cashFlowToDebtRatio',\n",
    "     'companyEquityMultiplier', 'receivablesTurnover',\n",
    "     'payablesTurnover', 'inventoryTurnover',\n",
    "     'fixedAssetTurnover', 'assetTurnover',\n",
    "     'operatingCashFlowPerShare', 'freeCashFlowPerShare',\n",
    "     'cashPerShare', 'payoutRatio', 'operatingCashFlowSalesRatio',\n",
    "     'freeCashFlowOperatingCashFlowRatio', 'cashFlowCoverageRatios',\n",
    "     'shortTermCoverageRatios', 'capitalExpenditureCoverageRatio',\n",
    "     'dividendPaidAndCapexCoverageRatio', 'dividendPayoutRatio',\n",
    "     'priceBookValueRatio', 'priceCashFlowRatio',\n",
    "     'priceEarningsToGrowthRatio', 'priceSalesRatio',\n",
    "     ], axis=1, inplace=True)\n",
    "\n",
    "# Rename columns as they will appear in image\n",
    "mratios_table.rename(columns={\n",
    "    'priceToBookRatio': 'Price to Book Ratio',\n",
    "    'priceToSalesRatio': 'Price to Sales Ratio',\n",
    "    'priceEarningsRatio': 'Price to Earnings Ratio',\n",
    "    'priceToOperatingCashFlowsRatio': 'Price to Operating Cashflow Ratio',\n",
    "    'priceToFreeCashFlowsRatio': 'Price to Free Cashflow Ratio',\n",
    "    'dividendYield': 'Dividend Yield',\n",
    "    'enterpriseValueMultiple': 'Enterprise Value Multiple',\n",
    "    'priceFairValue': 'Price to Fair Value',\n",
    "    }, inplace=True)\n",
    "\n",
    "# Format columns: Turn to string, include commas, and remove decimals\n",
    "mratios_columns = ['Price to Book Ratio', 'Price to Sales Ratio',\n",
    "                   'Price to Earnings Ratio',\n",
    "                   'Price to Operating Cashflow Ratio',\n",
    "                   'Price to Free Cashflow Ratio',\n",
    "                   'Enterprise Value Multiple', 'Price to Fair Value']\n",
    "for column_name in mratios_columns:\n",
    "    mratios_table[column_name] = (\n",
    "        pd.Series([f\"{val:,.0f}\" for val in mratios_table[column_name]],\n",
    "                  index=mratios_table.index))\n",
    "\n",
    "# Format columns: Turn to string and format as percentage %\n",
    "mratios_columnsP = ['Dividend Yield', 'Earnings Yield']\n",
    "for column_name in mratios_columnsP:\n",
    "    mratios_table[column_name] = mratios_table[column_name].multiply(100)\n",
    "    mratios_table[column_name] = (\n",
    "        pd.Series([\"{0:.1f}%\".format(val) for val in mratios_table[column_name]],\n",
    "                  index=mratios_table.index))\n",
    "\n",
    "# Reorder Columns\n",
    "mratios_table = mratios_table[\n",
    "    ['Price to Book Ratio', 'Price to Sales Ratio', 'Price to Earnings Ratio',\n",
    "     'Price to Operating Cashflow Ratio', 'Enterprise Value Multiple',\n",
    "     'Price to Fair Value', 'Dividend Yield', 'Earnings Yield']\n",
    "]\n",
    "\n",
    "# Transpose data\n",
    "mratios_table = mratios_table.transpose()\n",
    "\n",
    "# Save data frame as image:\n",
    "mratios_table.dfi.export('images/output/market_ratios_table.png')\n",
    "\n",
    "# Print table name\n",
    "print(\"Created Market Ratios Table.\\n\")\n",
    "\n",
    "# Show table\n",
    "mratios_table"
   ]
  },
  {
   "cell_type": "markdown",
   "id": "509af5de-7c22-46fd-9608-6a07dadd0418",
   "metadata": {},
   "source": [
    "<a id=\"table_debt\"></a>\n",
    "### [Table] Debt, Liquidity and Solvency Ratios [*](#index)"
   ]
  },
  {
   "cell_type": "code",
   "execution_count": 23,
   "id": "08fc1308-33f1-48ef-ad70-14e23854b947",
   "metadata": {},
   "outputs": [
    {
     "name": "stdout",
     "output_type": "stream",
     "text": [
      "Created Debt Ratios Table.\n",
      "\n"
     ]
    },
    {
     "data": {
      "text/html": [
       "<div>\n",
       "<style scoped>\n",
       "    .dataframe tbody tr th:only-of-type {\n",
       "        vertical-align: middle;\n",
       "    }\n",
       "\n",
       "    .dataframe tbody tr th {\n",
       "        vertical-align: top;\n",
       "    }\n",
       "\n",
       "    .dataframe thead th {\n",
       "        text-align: right;\n",
       "    }\n",
       "</style>\n",
       "<table border=\"1\" class=\"dataframe\">\n",
       "  <thead>\n",
       "    <tr style=\"text-align: right;\">\n",
       "      <th>Date</th>\n",
       "      <th>2020</th>\n",
       "      <th>2021</th>\n",
       "      <th>2022</th>\n",
       "      <th>2023</th>\n",
       "      <th>2024</th>\n",
       "    </tr>\n",
       "  </thead>\n",
       "  <tbody>\n",
       "    <tr>\n",
       "      <th>Debt Assets Ratio</th>\n",
       "      <td>0.2</td>\n",
       "      <td>0.1</td>\n",
       "      <td>0.1</td>\n",
       "      <td>0.1</td>\n",
       "      <td>0.2</td>\n",
       "    </tr>\n",
       "    <tr>\n",
       "      <th>Debt Equity Ratio</th>\n",
       "      <td>0.4</td>\n",
       "      <td>0.3</td>\n",
       "      <td>0.2</td>\n",
       "      <td>0.2</td>\n",
       "      <td>0.3</td>\n",
       "    </tr>\n",
       "    <tr>\n",
       "      <th>Current Ratio</th>\n",
       "      <td>0.8</td>\n",
       "      <td>1.0</td>\n",
       "      <td>1.4</td>\n",
       "      <td>1.5</td>\n",
       "      <td>1.3</td>\n",
       "    </tr>\n",
       "    <tr>\n",
       "      <th>Quick Ratio</th>\n",
       "      <td>0.5</td>\n",
       "      <td>0.7</td>\n",
       "      <td>1.1</td>\n",
       "      <td>1.1</td>\n",
       "      <td>1.3</td>\n",
       "    </tr>\n",
       "    <tr>\n",
       "      <th>Cash Ratio</th>\n",
       "      <td>0.1</td>\n",
       "      <td>0.1</td>\n",
       "      <td>0.4</td>\n",
       "      <td>0.5</td>\n",
       "      <td>0.3</td>\n",
       "    </tr>\n",
       "    <tr>\n",
       "      <th>Opp Cashflow to Debt</th>\n",
       "      <td>0.2</td>\n",
       "      <td>1.0</td>\n",
       "      <td>1.9</td>\n",
       "      <td>1.2</td>\n",
       "      <td>0.8</td>\n",
       "    </tr>\n",
       "    <tr>\n",
       "      <th>Interest Coverage</th>\n",
       "      <td>-3.4</td>\n",
       "      <td>28.3</td>\n",
       "      <td>89.7</td>\n",
       "      <td>59.7</td>\n",
       "      <td>49.1</td>\n",
       "    </tr>\n",
       "  </tbody>\n",
       "</table>\n",
       "</div>"
      ],
      "text/plain": [
       "Date                  2020  2021  2022  2023  2024\n",
       "Debt Assets Ratio      0.2   0.1   0.1   0.1   0.2\n",
       "Debt Equity Ratio      0.4   0.3   0.2   0.2   0.3\n",
       "Current Ratio          0.8   1.0   1.4   1.5   1.3\n",
       "Quick Ratio            0.5   0.7   1.1   1.1   1.3\n",
       "Cash Ratio             0.1   0.1   0.4   0.5   0.3\n",
       "Opp Cashflow to Debt   0.2   1.0   1.9   1.2   0.8\n",
       "Interest Coverage     -3.4  28.3  89.7  59.7  49.1"
      ]
     },
     "execution_count": 23,
     "metadata": {},
     "output_type": "execute_result"
    }
   ],
   "source": [
    "# Debt,Liquity and Solvency Table\n",
    "\n",
    "# Copy income statement data frame\n",
    "debt_table = ratios_df.copy(deep=True)\n",
    "debt_table.sort_index(ascending=False, inplace=True)\n",
    "\n",
    "# Transform date column from string to datetime\n",
    "# Display only the year from the date column\n",
    "debt_table['date'] = pd.to_datetime(debt_table['date'])\n",
    "debt_table['date'] = debt_table['date'].dt.year\n",
    "\n",
    "# Get defined amount of years\n",
    "debt_table = debt_table.iloc[-years:]\n",
    "\n",
    "# Make date the index value\n",
    "debt_table.set_index('date', inplace=True)\n",
    "debt_table.index.rename('Date', inplace=True)\n",
    "\n",
    "# Drop non used variables\n",
    "debt_table.drop(\n",
    "    ['priceToBookRatio', 'priceToSalesRatio', 'priceEarningsRatio',\n",
    "     'priceToOperatingCashFlowsRatio', 'priceToFreeCashFlowsRatio',\n",
    "     'dividendYield', 'enterpriseValueMultiple',\n",
    "     'priceFairValue', 'symbol', 'period',\n",
    "     'daysOfSalesOutstanding', 'daysOfInventoryOutstanding',\n",
    "     'operatingCycle', 'daysOfPayablesOutstanding',\n",
    "     'cashConversionCycle', 'grossProfitMargin',\n",
    "     'operatingProfitMargin', 'pretaxProfitMargin',\n",
    "     'netProfitMargin', 'effectiveTaxRate',\n",
    "     'returnOnAssets', 'returnOnEquity',\n",
    "     'returnOnCapitalEmployed', 'netIncomePerEBT',\n",
    "     'ebtPerEbit', 'ebitPerRevenue',\n",
    "     'longTermDebtToCapitalization', 'totalDebtToCapitalization',\n",
    "     'cashFlowCoverageRatios', 'companyEquityMultiplier',\n",
    "     'receivablesTurnover', 'payablesTurnover',\n",
    "     'inventoryTurnover', 'fixedAssetTurnover',\n",
    "     'assetTurnover', 'operatingCashFlowPerShare',\n",
    "     'freeCashFlowPerShare', 'cashPerShare',\n",
    "     'payoutRatio', 'operatingCashFlowSalesRatio',\n",
    "     'freeCashFlowOperatingCashFlowRatio',\n",
    "     'shortTermCoverageRatios', 'capitalExpenditureCoverageRatio',\n",
    "     'dividendPaidAndCapexCoverageRatio',\n",
    "     'dividendPayoutRatio', 'priceBookValueRatio',\n",
    "     'priceCashFlowRatio', 'priceEarningsToGrowthRatio',\n",
    "     'priceSalesRatio'], axis=1, inplace=True)\n",
    "\n",
    "# Rename columns as they will appear in image\n",
    "debt_table.rename(columns={\n",
    "    # Debt ratios\n",
    "    'debtRatio': 'Debt Assets Ratio',\n",
    "    'debtEquityRatio': 'Debt Equity Ratio',\n",
    "    # Liquidity ratios\n",
    "    'currentRatio': 'Current Ratio',\n",
    "    'quickRatio': 'Quick Ratio',\n",
    "    'cashRatio': 'Cash Ratio',\n",
    "    # Solvency ratios\n",
    "    'interestCoverage': 'Interest Coverage',\n",
    "    'cashFlowToDebtRatio': 'Opp Cashflow to Debt',\n",
    "    # Falta debt service ratio\n",
    "    }, inplace=True)\n",
    "\n",
    "# Format columns: Turn to string, Include commas and remove decimals\n",
    "debt_ratios_columns = ['Debt Assets Ratio', 'Debt Equity Ratio',\n",
    "                       'Current Ratio', 'Quick Ratio', 'Cash Ratio',\n",
    "                       'Interest Coverage', 'Opp Cashflow to Debt']\n",
    "for column_name in debt_ratios_columns:\n",
    "    debt_table[column_name] = pd.Series(\n",
    "        [f\"{val:,.1f}\"for val in debt_table[column_name]],\n",
    "        index=debt_table.index)\n",
    "# Reorder Columns\n",
    "debt_table = debt_table[[\n",
    "    'Debt Assets Ratio',\n",
    "    'Debt Equity Ratio',\n",
    "    'Current Ratio',\n",
    "    'Quick Ratio',\n",
    "    'Cash Ratio',\n",
    "    'Opp Cashflow to Debt',\n",
    "    'Interest Coverage']]\n",
    "\n",
    "# Transpose data\n",
    "debt_table = debt_table.transpose()\n",
    "\n",
    "# Save data frame as image\n",
    "debt_table.dfi.export('images/output/debt_ratios_table.png')\n",
    "\n",
    "# Print table name\n",
    "print(\"Created Debt Ratios Table.\\n\")\n",
    "\n",
    "# Show table\n",
    "debt_table"
   ]
  },
  {
   "cell_type": "markdown",
   "id": "71f4ec98-c365-44ee-8e03-ceb4e8307a1b",
   "metadata": {},
   "source": [
    "<a id=\"table_profit\"></a>\n",
    "### [Table] Profit Ratios [*](#index)"
   ]
  },
  {
   "cell_type": "code",
   "execution_count": null,
   "id": "11fc9b59-21f3-49dd-b1e4-fd59025776fc",
   "metadata": {},
   "outputs": [
    {
     "name": "stdout",
     "output_type": "stream",
     "text": [
      "Created Profit Ratios Table.\n",
      "\n"
     ]
    },
    {
     "data": {
      "text/html": [
       "<div>\n",
       "<style scoped>\n",
       "    .dataframe tbody tr th:only-of-type {\n",
       "        vertical-align: middle;\n",
       "    }\n",
       "\n",
       "    .dataframe tbody tr th {\n",
       "        vertical-align: top;\n",
       "    }\n",
       "\n",
       "    .dataframe thead th {\n",
       "        text-align: right;\n",
       "    }\n",
       "</style>\n",
       "<table border=\"1\" class=\"dataframe\">\n",
       "  <thead>\n",
       "    <tr style=\"text-align: right;\">\n",
       "      <th>Date</th>\n",
       "      <th>2020</th>\n",
       "      <th>2021</th>\n",
       "      <th>2022</th>\n",
       "      <th>2023</th>\n",
       "      <th>2024</th>\n",
       "    </tr>\n",
       "  </thead>\n",
       "  <tbody>\n",
       "    <tr>\n",
       "      <th>Gross Margin</th>\n",
       "      <td>0.32</td>\n",
       "      <td>0.32</td>\n",
       "      <td>0.33</td>\n",
       "      <td>0.25</td>\n",
       "      <td>0.32</td>\n",
       "    </tr>\n",
       "    <tr>\n",
       "      <th>Operating Margin</th>\n",
       "      <td>-0.02</td>\n",
       "      <td>0.10</td>\n",
       "      <td>0.18</td>\n",
       "      <td>0.15</td>\n",
       "      <td>0.14</td>\n",
       "    </tr>\n",
       "    <tr>\n",
       "      <th>Net Profit Margin</th>\n",
       "      <td>-0.12</td>\n",
       "      <td>0.08</td>\n",
       "      <td>0.14</td>\n",
       "      <td>0.11</td>\n",
       "      <td>0.10</td>\n",
       "    </tr>\n",
       "    <tr>\n",
       "      <th>Effective Tax Rate</th>\n",
       "      <td>-0.19</td>\n",
       "      <td>0.24</td>\n",
       "      <td>0.26</td>\n",
       "      <td>0.29</td>\n",
       "      <td>0.28</td>\n",
       "    </tr>\n",
       "    <tr>\n",
       "      <th>Return on Assets</th>\n",
       "      <td>-0.07</td>\n",
       "      <td>0.07</td>\n",
       "      <td>0.15</td>\n",
       "      <td>0.10</td>\n",
       "      <td>0.07</td>\n",
       "    </tr>\n",
       "    <tr>\n",
       "      <th>Return on Equity</th>\n",
       "      <td>-0.14</td>\n",
       "      <td>0.14</td>\n",
       "      <td>0.29</td>\n",
       "      <td>0.18</td>\n",
       "      <td>0.12</td>\n",
       "    </tr>\n",
       "  </tbody>\n",
       "</table>\n",
       "</div>"
      ],
      "text/plain": [
       "Date                 2020  2021  2022  2023  2024\n",
       "Gross Margin         0.32  0.32  0.33  0.25  0.32\n",
       "Operating Margin    -0.02  0.10  0.18  0.15  0.14\n",
       "Net Profit Margin   -0.12  0.08  0.14  0.11  0.10\n",
       "Effective Tax Rate  -0.19  0.24  0.26  0.29  0.28\n",
       "Return on Assets    -0.07  0.07  0.15  0.10  0.07\n",
       "Return on Equity    -0.14  0.14  0.29  0.18  0.12"
      ]
     },
     "execution_count": 24,
     "metadata": {},
     "output_type": "execute_result"
    }
   ],
   "source": [
    "# Profitability Table\n",
    "\n",
    "# Copy ratios data frame\n",
    "profit_table = ratios_df.copy(deep=True)\n",
    "profit_table.sort_index(ascending=False, inplace=True)\n",
    "\n",
    "# Transform date column from string to datetime\n",
    "# Display only the year from date column\n",
    "profit_table['date'] = pd.to_datetime(profit_table['date'])\n",
    "profit_table['date'] = profit_table['date'].dt.year\n",
    "\n",
    "# Get defined amount of years\n",
    "profit_table = profit_table.iloc[-years:]\n",
    "\n",
    "# Make date the index value\n",
    "profit_table.set_index('date', inplace=True)\n",
    "profit_table.index.rename('Date', inplace=True)\n",
    "\n",
    "# Drop non used variables\n",
    "profit_table.drop(\n",
    "    ['debtRatio', 'debtEquityRatio', 'currentRatio',\n",
    "     'quickRatio', 'cashRatio', 'interestCoverage',\n",
    "     'cashFlowToDebtRatio', 'priceToBookRatio',\n",
    "     'priceToSalesRatio', 'priceEarningsRatio',\n",
    "     'priceToOperatingCashFlowsRatio',\n",
    "     'priceToFreeCashFlowsRatio', 'dividendYield',\n",
    "     'enterpriseValueMultiple', 'priceFairValue',\n",
    "     'symbol', 'period', 'daysOfSalesOutstanding',\n",
    "     'daysOfInventoryOutstanding', 'operatingCycle',\n",
    "     'daysOfPayablesOutstanding', 'cashConversionCycle',\n",
    "     'pretaxProfitMargin', 'returnOnCapitalEmployed',\n",
    "     'netIncomePerEBT', 'ebtPerEbit', 'ebitPerRevenue',\n",
    "     'longTermDebtToCapitalization', 'totalDebtToCapitalization',\n",
    "     'cashFlowCoverageRatios', 'companyEquityMultiplier',\n",
    "     'receivablesTurnover', 'payablesTurnover',\n",
    "     'inventoryTurnover', 'fixedAssetTurnover',\n",
    "     'assetTurnover', 'operatingCashFlowPerShare',\n",
    "     'freeCashFlowPerShare', 'cashPerShare',\n",
    "     'payoutRatio', 'operatingCashFlowSalesRatio',\n",
    "     'freeCashFlowOperatingCashFlowRatio',\n",
    "     'shortTermCoverageRatios', 'capitalExpenditureCoverageRatio',\n",
    "     'dividendPaidAndCapexCoverageRatio', 'dividendPayoutRatio',\n",
    "     'priceBookValueRatio', 'priceCashFlowRatio',\n",
    "     'priceEarningsToGrowthRatio', 'priceSalesRatio'], axis=1, inplace=True)\n",
    "\n",
    "# Rename columns\n",
    "profit_table.rename(columns={\n",
    "    'grossProfitMargin': 'Gross Margin',\n",
    "    'operatingProfitMargin': 'Operating Margin',\n",
    "    'netProfitMargin': 'Net Profit Margin',\n",
    "    'effectiveTaxRate': 'Effective Tax Rate',\n",
    "    'returnOnAssets': 'Return on Assets',\n",
    "    'returnOnEquity': 'Return on Equity',\n",
    "    }, inplace=True)\n",
    "\n",
    "# Format columns: Turn to string, Include commas and remove decimals\n",
    "profit_ratios_columns = [\n",
    "    'Gross Margin', 'Operating Margin', 'Net Profit Margin',\n",
    "    'Effective Tax Rate', 'Return on Assets', 'Return on Equity']\n",
    "for column_name in profit_ratios_columns:\n",
    "    profit_table[column_name] = (\n",
    "        pd.Series([f\"{val:,.2f}\"for val in profit_table[column_name]],\n",
    "                  index=profit_table.index))\n",
    "\n",
    "# Reorder Columns\n",
    "profit_table = profit_table[[\n",
    "    'Gross Margin',\n",
    "    'Operating Margin',\n",
    "    'Net Profit Margin',\n",
    "    'Effective Tax Rate',\n",
    "    'Return on Assets',\n",
    "    'Return on Equity']]\n",
    "\n",
    "# Transpose data\n",
    "profit_table = profit_table.transpose()\n",
    "\n",
    "# Save data frame as image\n",
    "profit_table.dfi.export('images/output/profit_ratios_table.png')\n",
    "\n",
    "# Print table name\n",
    "print(\"Created Profit Ratios Table.\\n\")\n",
    "\n",
    "# Show table\n",
    "profit_table"
   ]
  },
  {
   "cell_type": "markdown",
   "id": "d4bed624-763b-40ea-9f71-fb4cac42449f",
   "metadata": {},
   "source": [
    "<a id=\"table_efficiency\"></a>\n",
    "### [Table] Efficiency Ratios [*](#index)"
   ]
  },
  {
   "cell_type": "code",
   "execution_count": 25,
   "id": "0b906a35-7724-4a83-8fa2-0253fc64efdc",
   "metadata": {},
   "outputs": [
    {
     "name": "stdout",
     "output_type": "stream",
     "text": [
      "Created Efficiency Ratios Table.\n",
      "\n"
     ]
    },
    {
     "data": {
      "text/html": [
       "<div>\n",
       "<style scoped>\n",
       "    .dataframe tbody tr th:only-of-type {\n",
       "        vertical-align: middle;\n",
       "    }\n",
       "\n",
       "    .dataframe tbody tr th {\n",
       "        vertical-align: top;\n",
       "    }\n",
       "\n",
       "    .dataframe thead th {\n",
       "        text-align: right;\n",
       "    }\n",
       "</style>\n",
       "<table border=\"1\" class=\"dataframe\">\n",
       "  <thead>\n",
       "    <tr style=\"text-align: right;\">\n",
       "      <th>Date</th>\n",
       "      <th>2020</th>\n",
       "      <th>2021</th>\n",
       "      <th>2022</th>\n",
       "      <th>2023</th>\n",
       "      <th>2024</th>\n",
       "    </tr>\n",
       "  </thead>\n",
       "  <tbody>\n",
       "    <tr>\n",
       "      <th>Days of Sales Outstanding</th>\n",
       "      <td>42</td>\n",
       "      <td>42</td>\n",
       "      <td>38</td>\n",
       "      <td>41</td>\n",
       "      <td>46</td>\n",
       "    </tr>\n",
       "    <tr>\n",
       "      <th>Days of Payables Outstanding</th>\n",
       "      <td>52</td>\n",
       "      <td>51</td>\n",
       "      <td>45</td>\n",
       "      <td>45</td>\n",
       "      <td>0</td>\n",
       "    </tr>\n",
       "    <tr>\n",
       "      <th>Days of Inventory Outstanding</th>\n",
       "      <td>56</td>\n",
       "      <td>36</td>\n",
       "      <td>33</td>\n",
       "      <td>36</td>\n",
       "      <td>0</td>\n",
       "    </tr>\n",
       "    <tr>\n",
       "      <th>Days of Operating Cycle</th>\n",
       "      <td>98</td>\n",
       "      <td>79</td>\n",
       "      <td>71</td>\n",
       "      <td>78</td>\n",
       "      <td>46</td>\n",
       "    </tr>\n",
       "    <tr>\n",
       "      <th>Cash Conversion Cycle</th>\n",
       "      <td>46</td>\n",
       "      <td>27</td>\n",
       "      <td>26</td>\n",
       "      <td>33</td>\n",
       "      <td>46</td>\n",
       "    </tr>\n",
       "    <tr>\n",
       "      <th>Receivables Turnover</th>\n",
       "      <td>8.7</td>\n",
       "      <td>8.6</td>\n",
       "      <td>9.6</td>\n",
       "      <td>8.8</td>\n",
       "      <td>8.0</td>\n",
       "    </tr>\n",
       "    <tr>\n",
       "      <th>Payables Turnover</th>\n",
       "      <td>7.0</td>\n",
       "      <td>7.1</td>\n",
       "      <td>8.1</td>\n",
       "      <td>8.0</td>\n",
       "      <td>nan</td>\n",
       "    </tr>\n",
       "    <tr>\n",
       "      <th>Inventory Turnover</th>\n",
       "      <td>6.5</td>\n",
       "      <td>10.1</td>\n",
       "      <td>11.0</td>\n",
       "      <td>10.0</td>\n",
       "      <td>nan</td>\n",
       "    </tr>\n",
       "    <tr>\n",
       "      <th>Fixed Asset Turnover</th>\n",
       "      <td>0.8</td>\n",
       "      <td>1.3</td>\n",
       "      <td>2.0</td>\n",
       "      <td>1.6</td>\n",
       "      <td>1.2</td>\n",
       "    </tr>\n",
       "    <tr>\n",
       "      <th>Asset Turnover</th>\n",
       "      <td>0.5</td>\n",
       "      <td>0.8</td>\n",
       "      <td>1.1</td>\n",
       "      <td>0.9</td>\n",
       "      <td>0.8</td>\n",
       "    </tr>\n",
       "  </tbody>\n",
       "</table>\n",
       "</div>"
      ],
      "text/plain": [
       "Date                          2020  2021  2022  2023 2024\n",
       "Days of Sales Outstanding       42    42    38    41   46\n",
       "Days of Payables Outstanding    52    51    45    45    0\n",
       "Days of Inventory Outstanding   56    36    33    36    0\n",
       "Days of Operating Cycle         98    79    71    78   46\n",
       "Cash Conversion Cycle           46    27    26    33   46\n",
       "Receivables Turnover           8.7   8.6   9.6   8.8  8.0\n",
       "Payables Turnover              7.0   7.1   8.1   8.0  nan\n",
       "Inventory Turnover             6.5  10.1  11.0  10.0  nan\n",
       "Fixed Asset Turnover           0.8   1.3   2.0   1.6  1.2\n",
       "Asset Turnover                 0.5   0.8   1.1   0.9  0.8"
      ]
     },
     "execution_count": 25,
     "metadata": {},
     "output_type": "execute_result"
    }
   ],
   "source": [
    "# Efficiency Ratios Table\n",
    "\n",
    "# Copy ratios statement data frame\n",
    "efficiency_table = ratios_df.copy(deep=True)\n",
    "efficiency_table.sort_index(ascending=False, inplace=True)\n",
    "\n",
    "# Transform date column from string to datetime\n",
    "# Display only the year from date column\n",
    "efficiency_table['date'] = pd.to_datetime(efficiency_table['date'])\n",
    "efficiency_table['date'] = efficiency_table['date'].dt.year\n",
    "\n",
    "# Get the defined amount of years\n",
    "efficiency_table = efficiency_table.iloc[-years:]\n",
    "\n",
    "# Make date the index value\n",
    "efficiency_table.set_index('date', inplace=True)\n",
    "efficiency_table.index.rename('Date', inplace=True)\n",
    "\n",
    "# Drop non used variables\n",
    "efficiency_table.drop(\n",
    "    ['grossProfitMargin', 'operatingProfitMargin',\n",
    "     'netProfitMargin', 'effectiveTaxRate',\n",
    "     'returnOnAssets', 'returnOnEquity',\n",
    "     'debtRatio', 'debtEquityRatio',\n",
    "     'currentRatio', 'quickRatio',\n",
    "     'cashRatio', 'interestCoverage',\n",
    "     'cashFlowToDebtRatio', 'priceToBookRatio',\n",
    "     'priceToSalesRatio', 'priceEarningsRatio',\n",
    "     'priceToOperatingCashFlowsRatio',\n",
    "     'priceToFreeCashFlowsRatio',\n",
    "     'dividendYield', 'enterpriseValueMultiple',\n",
    "     'priceFairValue', 'symbol',\n",
    "     'period', 'pretaxProfitMargin',\n",
    "     'returnOnCapitalEmployed',\n",
    "     'netIncomePerEBT', 'ebtPerEbit',\n",
    "     'ebitPerRevenue', 'longTermDebtToCapitalization',\n",
    "     'totalDebtToCapitalization', 'cashFlowCoverageRatios',\n",
    "     'companyEquityMultiplier', 'operatingCashFlowPerShare',\n",
    "     'freeCashFlowPerShare', 'cashPerShare',\n",
    "     'payoutRatio', 'operatingCashFlowSalesRatio',\n",
    "     'freeCashFlowOperatingCashFlowRatio',\n",
    "     'shortTermCoverageRatios', 'capitalExpenditureCoverageRatio',\n",
    "     'dividendPaidAndCapexCoverageRatio', 'dividendPayoutRatio',\n",
    "     'priceBookValueRatio', 'priceCashFlowRatio',\n",
    "     'priceEarningsToGrowthRatio', 'priceSalesRatio'], axis=1, inplace=True)\n",
    "\n",
    "# Rename columns\n",
    "efficiency_table.rename(columns={\n",
    "    'daysOfSalesOutstanding': 'Days of Sales Outstanding',\n",
    "    'daysOfPayablesOutstanding': 'Days of Payables Outstanding',\n",
    "    'daysOfInventoryOutstanding': 'Days of Inventory Outstanding',\n",
    "    'operatingCycle': 'Days of Operating Cycle',\n",
    "    'cashConversionCycle': 'Cash Conversion Cycle',\n",
    "    'receivablesTurnover': 'Receivables Turnover',\n",
    "    'payablesTurnover': 'Payables Turnover',\n",
    "    'inventoryTurnover': 'Inventory Turnover',\n",
    "    'fixedAssetTurnover': 'Fixed Asset Turnover',\n",
    "    'assetTurnover': 'Asset Turnover',\n",
    "    }, inplace=True)\n",
    "\n",
    "# Format columns: Turn to string, Include commas and remove decimals.\n",
    "efficiency_ratios_columns = ['Days of Sales Outstanding',\n",
    "                             'Days of Payables Outstanding',\n",
    "                             'Days of Inventory Outstanding',\n",
    "                             'Days of Operating Cycle',\n",
    "                             'Cash Conversion Cycle']\n",
    "for column_name in efficiency_ratios_columns:\n",
    "    efficiency_table[column_name] = (\n",
    "        pd.Series([f\"{val:,.0f}\"for val in efficiency_table[column_name]],\n",
    "                  index=efficiency_table.index))\n",
    "\n",
    "efficiency_ratios_columns2 = ['Receivables Turnover', 'Payables Turnover',\n",
    "                              'Inventory Turnover', 'Fixed Asset Turnover',\n",
    "                              'Asset Turnover']\n",
    "for column_name in efficiency_ratios_columns2:\n",
    "    efficiency_table[column_name] = (\n",
    "        pd.Series([f\"{val:,.1f}\"for val in efficiency_table[column_name]],\n",
    "                  index=efficiency_table.index))\n",
    "\n",
    "# Reorder columns\n",
    "efficiency_table = efficiency_table[[\n",
    "    'Days of Sales Outstanding',\n",
    "    'Days of Payables Outstanding',\n",
    "    'Days of Inventory Outstanding',\n",
    "    'Days of Operating Cycle',\n",
    "    'Cash Conversion Cycle',\n",
    "    'Receivables Turnover',\n",
    "    'Payables Turnover',\n",
    "    'Inventory Turnover',\n",
    "    'Fixed Asset Turnover',\n",
    "    'Asset Turnover']]\n",
    "\n",
    "# Transpose data\n",
    "efficiency_table = efficiency_table.transpose()\n",
    "\n",
    "# Save data frame as image\n",
    "efficiency_table.dfi.export('images/output/efficiency_ratios_table.png')\n",
    "\n",
    "# Print table name\n",
    "print(\"Created Efficiency Ratios Table.\\n\")\n",
    "\n",
    "# Show table\n",
    "efficiency_table"
   ]
  },
  {
   "cell_type": "markdown",
   "id": "e56194c9-53df-4d0c-8d92-76240d6c6ee2",
   "metadata": {},
   "source": [
    "<a id=\"table_metrics\"></a>\n",
    "### [Table] Key Metrics [*](#index)"
   ]
  },
  {
   "cell_type": "code",
   "execution_count": 26,
   "id": "2120491e-5a7d-408e-b66b-d2f6a4b0afc9",
   "metadata": {},
   "outputs": [
    {
     "name": "stdout",
     "output_type": "stream",
     "text": [
      "Created Key Metrics Table\n",
      "\n"
     ]
    },
    {
     "data": {
      "text/html": [
       "<div>\n",
       "<style scoped>\n",
       "    .dataframe tbody tr th:only-of-type {\n",
       "        vertical-align: middle;\n",
       "    }\n",
       "\n",
       "    .dataframe tbody tr th {\n",
       "        vertical-align: top;\n",
       "    }\n",
       "\n",
       "    .dataframe thead th {\n",
       "        text-align: right;\n",
       "    }\n",
       "</style>\n",
       "<table border=\"1\" class=\"dataframe\">\n",
       "  <thead>\n",
       "    <tr style=\"text-align: right;\">\n",
       "      <th>Date</th>\n",
       "      <th>2020</th>\n",
       "      <th>2021</th>\n",
       "      <th>2022</th>\n",
       "      <th>2023</th>\n",
       "      <th>2024</th>\n",
       "    </tr>\n",
       "  </thead>\n",
       "  <tbody>\n",
       "    <tr>\n",
       "      <th>Market Cap (millions)</th>\n",
       "      <td>176,051</td>\n",
       "      <td>261,587</td>\n",
       "      <td>463,812</td>\n",
       "      <td>414,621</td>\n",
       "      <td>462,336</td>\n",
       "    </tr>\n",
       "    <tr>\n",
       "      <th>Net income per share</th>\n",
       "      <td>-5</td>\n",
       "      <td>5</td>\n",
       "      <td>13</td>\n",
       "      <td>9</td>\n",
       "      <td>8</td>\n",
       "    </tr>\n",
       "    <tr>\n",
       "      <th>Free Cash Flow per share</th>\n",
       "      <td>-1</td>\n",
       "      <td>8</td>\n",
       "      <td>14</td>\n",
       "      <td>8</td>\n",
       "      <td>7</td>\n",
       "    </tr>\n",
       "    <tr>\n",
       "      <th>Book value per share</th>\n",
       "      <td>38</td>\n",
       "      <td>41</td>\n",
       "      <td>48</td>\n",
       "      <td>52</td>\n",
       "      <td>63</td>\n",
       "    </tr>\n",
       "    <tr>\n",
       "      <th>Capex to Revenue</th>\n",
       "      <td>10%</td>\n",
       "      <td>4%</td>\n",
       "      <td>5%</td>\n",
       "      <td>7%</td>\n",
       "      <td>7%</td>\n",
       "    </tr>\n",
       "    <tr>\n",
       "      <th>Capex to Depreciation</th>\n",
       "      <td>83%</td>\n",
       "      <td>59%</td>\n",
       "      <td>77%</td>\n",
       "      <td>0%</td>\n",
       "      <td>0%</td>\n",
       "    </tr>\n",
       "    <tr>\n",
       "      <th>Capex to Operating CashFlow</th>\n",
       "      <td>118%</td>\n",
       "      <td>25%</td>\n",
       "      <td>24%</td>\n",
       "      <td>40%</td>\n",
       "      <td>44%</td>\n",
       "    </tr>\n",
       "    <tr>\n",
       "      <th>Graham Number</th>\n",
       "      <td>66</td>\n",
       "      <td>69</td>\n",
       "      <td>118</td>\n",
       "      <td>101</td>\n",
       "      <td>105</td>\n",
       "    </tr>\n",
       "    <tr>\n",
       "      <th>Graham Net Net</th>\n",
       "      <td>-33</td>\n",
       "      <td>-29</td>\n",
       "      <td>-22</td>\n",
       "      <td>-23</td>\n",
       "      <td>-30</td>\n",
       "    </tr>\n",
       "  </tbody>\n",
       "</table>\n",
       "</div>"
      ],
      "text/plain": [
       "Date                            2020     2021     2022     2023     2024\n",
       "Market Cap (millions)        176,051  261,587  463,812  414,621  462,336\n",
       "Net income per share              -5        5       13        9        8\n",
       "Free Cash Flow per share          -1        8       14        8        7\n",
       "Book value per share              38       41       48       52       63\n",
       "Capex to Revenue                 10%       4%       5%       7%       7%\n",
       "Capex to Depreciation            83%      59%      77%       0%       0%\n",
       "Capex to Operating CashFlow     118%      25%      24%      40%      44%\n",
       "Graham Number                     66       69      118      101      105\n",
       "Graham Net Net                   -33      -29      -22      -23      -30"
      ]
     },
     "execution_count": 26,
     "metadata": {},
     "output_type": "execute_result"
    }
   ],
   "source": [
    "# Key Metrics Table\n",
    "\n",
    "# Copy the ratios statement data frame\n",
    "keymetrics_table = metrics_df.copy(deep=True)\n",
    "\n",
    "# Divide Market Cap by 1 Million\n",
    "keymetrics_table['marketCap'] = keymetrics_table['marketCap'].div(1_000_000)\n",
    "\n",
    "# Sort years increasing from left to right\n",
    "keymetrics_table.sort_index(ascending=False, inplace=True)\n",
    "\n",
    "# Transform date column from string to datetime\n",
    "# Display only the year from the date column\n",
    "keymetrics_table['date'] = pd.to_datetime(keymetrics_table['date'])\n",
    "keymetrics_table['date'] = keymetrics_table['date'].dt.year\n",
    "\n",
    "# Get the defined amount of years\n",
    "keymetrics_table = keymetrics_table.iloc[-years:]\n",
    "\n",
    "# Make the date the index value\n",
    "keymetrics_table.set_index('date', inplace=True)\n",
    "keymetrics_table.index.rename('Date', inplace=True)\n",
    "\n",
    "# Drop non used variables\n",
    "keymetrics_table.drop(\n",
    "    ['symbol', 'period', 'revenuePerShare',\n",
    "     'operatingCashFlowPerShare', 'cashPerShare',\n",
    "     'tangibleBookValuePerShare', 'interestDebtPerShare',\n",
    "     'enterpriseValue', 'peRatio', 'priceToSalesRatio',\n",
    "     'pocfratio', 'pfcfRatio', 'pbRatio',\n",
    "     'ptbRatio', 'evToSales', 'enterpriseValueOverEBITDA',\n",
    "     'evToOperatingCashFlow', 'evToFreeCashFlow',\n",
    "     'earningsYield', 'freeCashFlowYield',\n",
    "     'debtToEquity', 'debtToAssets', 'netDebtToEBITDA',\n",
    "     'currentRatio', 'interestCoverage', 'incomeQuality',\n",
    "     'dividendYield', 'payoutRatio',\n",
    "     'salesGeneralAndAdministrativeToRevenue',\n",
    "     'researchAndDdevelopementToRevenue',\n",
    "     'intangiblesToTotalAssets',\n",
    "     'stockBasedCompensationToRevenue',\n",
    "     'roic', 'returnOnTangibleAssets',\n",
    "     'workingCapital', 'tangibleAssetValue',\n",
    "     'netCurrentAssetValue', 'investedCapital',\n",
    "     'averageReceivables', 'averagePayables',\n",
    "     'averageInventory', 'daysSalesOutstanding',\n",
    "     'daysPayablesOutstanding', 'daysOfInventoryOnHand',\n",
    "     'receivablesTurnover', 'payablesTurnover',\n",
    "     'inventoryTurnover', 'roe', 'capexPerShare'],\n",
    "    axis=1, inplace=True)\n",
    "\n",
    "# Rename columns as they will appear in image\n",
    "keymetrics_table.rename(columns={\n",
    "    'marketCap': 'Market Cap (millions)',\n",
    "    'netIncomePerShare': 'Net income per share',\n",
    "    'freeCashFlowPerShare': 'Free Cash Flow per share',\n",
    "    'bookValuePerShare': 'Book value per share',\n",
    "    'shareholdersEquityPerShare': 'Shareholder Equity per share',\n",
    "    'capexToOperatingCashFlow': 'Capex to Operating CashFlow',\n",
    "    'capexToRevenue': 'Capex to Revenue',\n",
    "    'capexToDepreciation': 'Capex to Depreciation',\n",
    "    'grahamNumber': 'Graham Number',\n",
    "    'grahamNetNet': 'Graham Net Net',\n",
    "    }, inplace=True)\n",
    "\n",
    "# Format the columns: Turn to string, Include commas, and remove decimals.\n",
    "keymetrics_columns = ['Market Cap (millions)', 'Net income per share',\n",
    "                      'Free Cash Flow per share', 'Book value per share',\n",
    "                      'Shareholder Equity per share',\n",
    "                      'Graham Number', 'Graham Net Net']\n",
    "for column_name in keymetrics_columns:\n",
    "    keymetrics_table[column_name] = (\n",
    "        pd.Series([f\"{val:,.0f}\"for val in keymetrics_table[column_name]],\n",
    "                  index=keymetrics_table.index))\n",
    "\n",
    "# Format the columns: Turn to string and format as percentage %\n",
    "keymetrics_columns_p = ['Capex to Operating CashFlow',\n",
    "                        'Capex to Revenue', 'Capex to Depreciation']\n",
    "for column_name in keymetrics_columns_p:\n",
    "    keymetrics_table[column_name] = keymetrics_table[column_name].multiply(100)\n",
    "    keymetrics_table[column_name] = (\n",
    "        pd.Series([\"{0:.0f}%\".format(val)\n",
    "                  for val in keymetrics_table[column_name]],\n",
    "                  index=keymetrics_table.index))\n",
    "\n",
    "# Reorder the Columns\n",
    "keymetrics_table = keymetrics_table[[\n",
    "    'Market Cap (millions)',\n",
    "    'Net income per share',\n",
    "    'Free Cash Flow per share',\n",
    "    'Book value per share',\n",
    "    'Capex to Revenue',\n",
    "    'Capex to Depreciation',\n",
    "    'Capex to Operating CashFlow',\n",
    "    'Graham Number',\n",
    "    'Graham Net Net']]\n",
    "\n",
    "# Transpose the data\n",
    "keymetrics_table = keymetrics_table.transpose()\n",
    "\n",
    "# Save the data frame as image:\n",
    "keymetrics_table.dfi.export('images/output/key_metrics_table.png')\n",
    "\n",
    "# Print Table Name\n",
    "print(\"Created Key Metrics Table\\n\")\n",
    "\n",
    "# Show table\n",
    "keymetrics_table"
   ]
  },
  {
   "cell_type": "markdown",
   "id": "24a244b2-3c11-4bc8-9557-c690ecc4c3c0",
   "metadata": {},
   "source": [
    "<a id=\"export_pdf\"></a>\n",
    "### Exporting as a PDF file [*](#index)\n"
   ]
  },
  {
   "cell_type": "markdown",
   "id": "040fa6aa-0eab-4fdf-9685-b65dd1281837",
   "metadata": {},
   "source": [
    "<a id=\"variables_pdf\"></a>\n",
    "#### PDF Variables [*](#index)\n",
    "[PDF section start](#export_pdf)"
   ]
  },
  {
   "cell_type": "code",
   "execution_count": 27,
   "id": "75168f76-f39d-4632-a9cf-56bec41a656a",
   "metadata": {},
   "outputs": [],
   "source": [
    "# Border changes for editing\n",
    "border_chg = 0  # Choose 1 to show, or 0 to hide PDF borders."
   ]
  },
  {
   "cell_type": "code",
   "execution_count": 28,
   "id": "3b003cf8-8829-40e4-8e6f-2242c60a0fe3",
   "metadata": {},
   "outputs": [
    {
     "name": "stdout",
     "output_type": "stream",
     "text": [
      "PDF Variables Created\n",
      "\n"
     ]
    }
   ],
   "source": [
    "# PDF Variables\n",
    "\n",
    "# Variables\n",
    "today = dt.date.today()\n",
    "company_name = profile_df.iloc[0]['companyName']\n",
    "company_symbol = profile_df.iloc[0]['symbol']\n",
    "mktCap = profile_df.iloc[0]['mktCap']\n",
    "beta = profile_df.iloc[0]['beta']\n",
    "currency = profile_df.iloc[0]['currency']\n",
    "isin = profile_df.iloc[0]['isin']\n",
    "cusip = profile_df.iloc[0]['cusip']\n",
    "exchange = profile_df.iloc[0]['exchange']\n",
    "industry = profile_df.iloc[0]['industry']\n",
    "website = profile_df.iloc[0]['website']\n",
    "sector = profile_df.iloc[0]['sector']\n",
    "country = profile_df.iloc[0]['country']\n",
    "employees = profile_df.iloc[0]['fullTimeEmployees']\n",
    "ipo_date = profile_df.iloc[0]['ipoDate']\n",
    "ceo = profile_df.iloc[0]['ceo']\n",
    "company_description = profile_df.iloc[0]['description']\n",
    "# peers=stock_peers_df['peers'].tolist() # Paid endpoint\n",
    "# peers=\"Stock Peers: \"+', '.join(peers) # Paid endpoint\n",
    "\n",
    "# Change  datatype and format\n",
    "employees = float(employees)\n",
    "beta = float(beta)\n",
    "mktCap = float(mktCap)\n",
    "employees = ('{:,.0f}'.format(employees))\n",
    "beta = ('{:,.2f}'.format(beta))\n",
    "mktCap = ('{:,.0f}'.format(mktCap))\n",
    "\n",
    "# Create a tuple from values\n",
    "data = (\n",
    "    (\"Company Name:\", company_name),\n",
    "    (\"Company Symbol:\", company_symbol),\n",
    "    (\"Market Cap:\", mktCap),\n",
    "    (\"Beta:\", beta),\n",
    "    (\"Currency:\", currency),\n",
    "    (\"ISIN:\", isin,),\n",
    "    (\"CUSIP:\", cusip),\n",
    "    (\"Exchange:\", exchange),\n",
    "    (\"Industry:\", industry),\n",
    "    (\"Sector:\", sector),\n",
    "    (\"Country:\", country),\n",
    "    (\"No. Employees:\", employees),\n",
    "    (\"IPO Date:\", ipo_date),\n",
    "    (\"CEO:\", ceo),\n",
    "    (\"Website:\", website),\n",
    "    )\n",
    "print(\"PDF Variables Created\\n\")"
   ]
  },
  {
   "cell_type": "markdown",
   "id": "9d6a04c4-4c79-471f-8650-a2535747c233",
   "metadata": {},
   "source": [
    "<a id=\"defining_classes_pdf\"></a>\n",
    "#### Defining Classes [*](#index)\n",
    "[PDF section start](#export_pdf)"
   ]
  },
  {
   "cell_type": "code",
   "execution_count": 29,
   "id": "48e9264b-6df5-42cb-a728-944372847103",
   "metadata": {
    "tags": []
   },
   "outputs": [
    {
     "name": "stdout",
     "output_type": "stream",
     "text": [
      "FPDF Classes Created\n",
      "\n"
     ]
    }
   ],
   "source": [
    "# Defining Classes\n",
    "\n",
    "class PDF(FPDF):\n",
    "    def header(self):\n",
    "        # Logo\n",
    "        self.image('images/input/BS-Logo.png', x=12, y=12, w=30)\n",
    "        # Analysis date\n",
    "        self.ln(4)\n",
    "        self.cell(155)\n",
    "        self.set_font('Helvetica', 'BI', 8)\n",
    "        self.cell(w=35, h=5,\n",
    "                  text=\"Created : \"+today.strftime(\"%d-%b-%Y\"),\n",
    "                  border=border_chg,\n",
    "                  new_x='RIGHT', new_y='NEXT',\n",
    "                  align='R', fill=False, link='')\n",
    "        self.ln(4)\n",
    "        # Company Name\n",
    "        self.ln(12)\n",
    "        self.cell(55)\n",
    "        self.set_font('Helvetica', 'B', 12)\n",
    "        self.cell(w=100, h=5,\n",
    "                  text=(\" Company Analysis: \"+company_name),\n",
    "                  border=border_chg,\n",
    "                  new_x='LMARGIN', new_y='NEXT',\n",
    "                  align='C')\n",
    "\n",
    "    def footer(self):\n",
    "        # Position at 1.5 cm from bottom\n",
    "        self.set_y(-20)\n",
    "        # Information Disclaimer\n",
    "        self.set_font('Helvetica', 'I', 8)\n",
    "        self.cell(w=0, h=4,\n",
    "                  text='*Data provided by Financial Modeling Prep',\n",
    "                  border=border_chg,\n",
    "                  new_x='LMARGIN', new_y='NEXT',\n",
    "                  align='R')\n",
    "        self.ln(1)\n",
    "        # Page number\n",
    "        self.set_font('Helvetica', 'BI', 10)\n",
    "        self.cell(w=0, h=5,\n",
    "                  text='Page ' + str(self.page_no()) + ' of {nb}',\n",
    "                  border=border_chg,\n",
    "                  new_x='RIGHT', new_y='NEXT',\n",
    "                  align='C')\n",
    "\n",
    "\n",
    "print(\"FPDF Classes Created\\n\")"
   ]
  },
  {
   "cell_type": "markdown",
   "id": "d91ed1b4-a346-4af4-97b9-8f693ee95608",
   "metadata": {},
   "source": [
    "<a id=\"class_instantiation_pdf\"></a>\n",
    "#### Instantiation of Class [*](#index)\n",
    "[PDF section start](#export_pdf)"
   ]
  },
  {
   "cell_type": "code",
   "execution_count": 30,
   "id": "776c4790-878d-475b-a8fa-512f570154e6",
   "metadata": {
    "tags": []
   },
   "outputs": [
    {
     "name": "stdout",
     "output_type": "stream",
     "text": [
      "FPDF Class Instantiated\n",
      "\n"
     ]
    }
   ],
   "source": [
    "# Instantiation of Class\n",
    "pdf = PDF(orientation=\"P\", unit=\"mm\", format=\"Letter\")\n",
    "\n",
    "# Document Description\n",
    "pdf.set_author(author=\"Pablo Cruz Lemini\")\n",
    "pdf.set_subject(subject=\"Fundamental Analyisis for \"+company_symbol)\n",
    "pdf.set_keywords(\"fundamental, analysis,\"+company_symbol)\n",
    "\n",
    "# Add unicode font\n",
    "pdf.set_font('Helvetica', 'B', 11)\n",
    "\n",
    "print(\"FPDF Class Instantiated\\n\")"
   ]
  },
  {
   "cell_type": "markdown",
   "id": "66ec9b6e-8a85-4af1-a923-9c1410703bd2",
   "metadata": {},
   "source": [
    "<a id=\"page1_pdf\"></a>\n",
    "#### Page 1: Company Description [*](#index)\n",
    "[PDF section start](#export_pdf)"
   ]
  },
  {
   "cell_type": "code",
   "execution_count": 31,
   "id": "dbeed9c0-41d5-4610-b5d1-f5d6f254c51f",
   "metadata": {},
   "outputs": [
    {
     "name": "stdout",
     "output_type": "stream",
     "text": [
      "Company Logo imported to PDF\n",
      "\n",
      "Page 1: Company Description Created\n",
      "\n"
     ]
    }
   ],
   "source": [
    "# Page 1: Company Description\n",
    "pdf.add_page()\n",
    "\n",
    "# Title\n",
    "pdf.ln(10)\n",
    "pdf.cell(14)\n",
    "pdf.set_font('Helvetica', 'B', 11)\n",
    "pdf.cell(w=50, h=5,\n",
    "         text=\"Company Summary:\",\n",
    "         border=border_chg,\n",
    "         new_x='LMARGIN', new_y='NEXT',\n",
    "         align='L')\n",
    "pdf.ln(3)\n",
    "\n",
    "# Company summary table\n",
    "pdf.set_font('Helvetica', size=8)\n",
    "line_height = pdf.font_size * 2\n",
    "col_width = pdf.epw / 4.5  # distribute content evenly.\n",
    "try:\n",
    "    for row in data:\n",
    "        pdf.cell(20)\n",
    "        for datum in row:\n",
    "            pdf.multi_cell(col_width,\n",
    "                           line_height,\n",
    "                           datum,\n",
    "                           border=border_chg,\n",
    "                           new_x='RIGHT', new_y='TOP',\n",
    "                           max_line_height=pdf.font_size)\n",
    "        pdf.ln(line_height)\n",
    "except Exception:\n",
    "    print(\"Exception Ocurred at Company Summary Table\\n\")\n",
    "    pass\n",
    "pdf.ln(5)\n",
    "\n",
    "# Company description\n",
    "pdf.cell(14)\n",
    "pdf.multi_cell(w=165, h=5,\n",
    "               text=company_description,\n",
    "               border=border_chg,\n",
    "               align='J',\n",
    "               fill=False)\n",
    "# Stock Peers (Paid endpoint)\n",
    "# pdf.ln(5)\n",
    "# pdf.cell(14)\n",
    "# pdf.multi_cell(w=165, h=5,\n",
    "#                text=peers,\n",
    "#                border=border_chg,\n",
    "#                align='J',\n",
    "#                fill=False)\n",
    "\n",
    "# Company Logo\n",
    "try:\n",
    "    pdf.image('images/output/company_logo.png', x=100, y=215, h=15)\n",
    "    print(\"Company Logo imported to PDF\\n\")\n",
    "except Exception:\n",
    "    print(\"Exception Occurred importing Company Logo\\n\")\n",
    "    pass\n",
    "print(\"Page 1: Company Description Created\\n\")"
   ]
  },
  {
   "cell_type": "markdown",
   "id": "54133701-09b1-4db3-b477-41bbd328bdaa",
   "metadata": {},
   "source": [
    "<a id=\"page2_pdf\"></a>\n",
    "#### Page 2: Financial Statements [*](#index)\n",
    "[PDF section start](#export_pdf)"
   ]
  },
  {
   "cell_type": "code",
   "execution_count": 32,
   "id": "256702af-35dc-4f85-9d85-3adda67a7179",
   "metadata": {
    "tags": []
   },
   "outputs": [
    {
     "name": "stdout",
     "output_type": "stream",
     "text": [
      "Page 2: Financial Statements Created\n",
      "\n"
     ]
    }
   ],
   "source": [
    "# Page 2: Financial Statements\n",
    "pdf.add_page()\n",
    "\n",
    "# Title\n",
    "pdf.set_font('Helvetica', 'B', 11)\n",
    "pdf.ln(10)\n",
    "pdf.cell(w=45, h=5, text=\" Financial statements:\",\n",
    "         border=border_chg,\n",
    "         new_x='LMARGIN', new_y='NEXT',\n",
    "         align='L')\n",
    "\n",
    "# Amount in Millions Text\n",
    "pdf.cell(10)\n",
    "pdf.set_font('Helvetica', 'I', 8)\n",
    "pdf.cell(w=40, h=5, text=\"Amounts in $ \"+currency+\" (Millions)\",\n",
    "         border=border_chg,\n",
    "         new_x='RIGHT', new_y='NEXT',\n",
    "         align='L',\n",
    "         fill=False, link='')\n",
    "\n",
    "# Income Statement Title\n",
    "pdf.ln(15)\n",
    "pdf.cell(10)\n",
    "pdf.set_font('Helvetica', 'B', 8)\n",
    "pdf.cell(w=30, h=5, text=\"Income Statement\",\n",
    "         border=border_chg,\n",
    "         new_x='RIGHT', new_y='NEXT',\n",
    "         align='L',\n",
    "         fill=False, link='')\n",
    "pdf.cell(70)\n",
    "pdf.set_font('Helvetica', 'B', 8)\n",
    "pdf.cell(w=50, h=5, text=\"Common Size Income Statement\",\n",
    "         border=border_chg,\n",
    "         new_x='RIGHT', new_y='NEXT',\n",
    "         align='L',\n",
    "         fill=False, link='')\n",
    "\n",
    "# Balance Sheet Title\n",
    "pdf.ln(55)\n",
    "pdf.cell(10)\n",
    "pdf.set_font('Helvetica', 'B', 8)\n",
    "pdf.cell(w=25, h=5, text=\"Balance Sheet\",\n",
    "         border=border_chg,\n",
    "         new_x='RIGHT', new_y='NEXT',\n",
    "         align='L',\n",
    "         fill=False, link='')\n",
    "pdf.cell(75)\n",
    "pdf.set_font('Helvetica', 'B', 8)\n",
    "pdf.cell(w=50, h=5, text=\"Common Size Balance Sheet\",\n",
    "         border=border_chg,\n",
    "         new_x='RIGHT', new_y='NEXT',\n",
    "         align='L',\n",
    "         fill=False, link='')\n",
    "\n",
    "# Cash Flow Statement Title\n",
    "pdf.ln(65)\n",
    "pdf.cell(50)\n",
    "pdf.set_font('Helvetica', 'B', 8)\n",
    "pdf.cell(w=35, h=5, text=\"Cash Flow Statement\",\n",
    "         border=border_chg,\n",
    "         new_x='RIGHT', new_y='NEXT',\n",
    "         align='L',\n",
    "         fill=False, link='')\n",
    "\n",
    "# Income Statement image\n",
    "pdf.image('images/output/is_table.png', x=13, y=70, h=40)\n",
    "\n",
    "# Common Size Income Statement\n",
    "pdf.image('images/output/is_table_cs.png', x=120, y=70, h=40)\n",
    "\n",
    "# Balance Sheet\n",
    "pdf.image('images/output/bs_table.png', x=13, y=125, h=45)\n",
    "\n",
    "# Common Size Balance Sheet\n",
    "pdf.image('images/output/bs_table_cs.png', x=120, y=125, h=45)\n",
    "\n",
    "# Cash Flow Statement\n",
    "pdf.image('images/output/cf_table.png', x=50, y=190, h=40)\n",
    "\n",
    "print(\"Page 2: Financial Statements Created\\n\")"
   ]
  },
  {
   "cell_type": "markdown",
   "id": "bc33c9c9-998c-4805-9462-2b738b717f53",
   "metadata": {},
   "source": [
    "<a id=\"page3_pdf\"></a>\n",
    "#### Page 3: Internal Company Metrics [*](#index)\n",
    "[PDF section start](#export_pdf)"
   ]
  },
  {
   "cell_type": "code",
   "execution_count": 33,
   "id": "595322c8-a4c1-46a7-8785-418a2af2a8af",
   "metadata": {
    "tags": []
   },
   "outputs": [
    {
     "name": "stdout",
     "output_type": "stream",
     "text": [
      "Page 3: Internal Company Metrics Created\n",
      "\n"
     ]
    }
   ],
   "source": [
    "# Page 3: Internal Company Metrics\n",
    "pdf.add_page()\n",
    "\n",
    "# Title\n",
    "pdf.set_font('Helvetica', 'B', 11)\n",
    "pdf.ln(10)\n",
    "pdf.cell(w=45, h=5,\n",
    "         text=\" Financial Summary:\",\n",
    "         border=border_chg,\n",
    "         new_x='LMARGIN', new_y='NEXT',\n",
    "         align='L')\n",
    "\n",
    "# Debt Ratios Table\n",
    "pdf.ln(10)\n",
    "pdf.cell(20)\n",
    "pdf.set_font('Helvetica', 'B', 8)\n",
    "pdf.cell(w=20, h=5, text=\"Debt Ratios\",\n",
    "         border=border_chg,\n",
    "         new_x='RIGHT', new_y='NEXT',\n",
    "         align='R',\n",
    "         fill=False, link='')\n",
    "\n",
    "# Profit Ratios Table\n",
    "pdf.ln(60)\n",
    "pdf.cell(20)\n",
    "pdf.set_font('Helvetica', 'B', 8)\n",
    "pdf.cell(w=20, h=5, text=\"Profit Ratios\",\n",
    "         border=border_chg,\n",
    "         new_x='RIGHT', new_y='NEXT',\n",
    "         align='R',\n",
    "         fill=False, link='')\n",
    "\n",
    "# Efficiency Ratios Table\n",
    "pdf.ln(55)\n",
    "pdf.cell(20)\n",
    "pdf.set_font('Helvetica', 'B', 8)\n",
    "pdf.cell(w=20, h=5, text=\"Efficiency Ratios\",\n",
    "         border=border_chg,\n",
    "         new_x='RIGHT', new_y='NEXT',\n",
    "         align='R',\n",
    "         fill=False, link='')\n",
    "\n",
    "# Main metrics table\n",
    "pdf.image('images/output/debt_ratios_table.png', x=60, y=60, h=45)\n",
    "pdf.image('images/output/profit_ratios_table.png', x=57, y=120, h=45)\n",
    "pdf.image('images/output/efficiency_ratios_table.png', x=50, y=180, h=60)\n",
    "\n",
    "print(\"Page 3: Internal Company Metrics Created\\n\")"
   ]
  },
  {
   "cell_type": "markdown",
   "id": "ce8bbaa1-bd1a-44d1-a532-501adbadafd4",
   "metadata": {},
   "source": [
    "<a id=\"page4_pdf\"></a>\n",
    "#### Page 4: Market Ratios [*](#index)\n",
    "[PDF section start](#export_pdf)"
   ]
  },
  {
   "cell_type": "code",
   "execution_count": 34,
   "id": "31104715-933a-4021-b07d-dccf234f54dc",
   "metadata": {},
   "outputs": [
    {
     "name": "stdout",
     "output_type": "stream",
     "text": [
      "Page 4: Market Ratios Created\n",
      "\n"
     ]
    }
   ],
   "source": [
    "# Page 4: Market Ratios\n",
    "pdf.add_page()\n",
    "\n",
    "# Title\n",
    "pdf.set_font('Helvetica', 'B', 11)\n",
    "pdf.ln(10)\n",
    "pdf.cell(w=45, h=5,\n",
    "         text=\" Financial Summary:\",\n",
    "         border=border_chg,\n",
    "         new_x='LMARGIN', new_y='NEXT',\n",
    "         align='L')\n",
    "\n",
    "# Market Ratios Table\n",
    "pdf.ln(10)\n",
    "pdf.cell(20)\n",
    "pdf.set_font('Helvetica', 'B', 8)\n",
    "pdf.cell(w=20, h=5, text=\"Market Ratios\",\n",
    "         border=border_chg,\n",
    "         new_x='RIGHT', new_y='NEXT',\n",
    "         align='R',\n",
    "         fill=False, link='')\n",
    "\n",
    "# Key Metrics Table\n",
    "pdf.ln(75)\n",
    "pdf.cell(20)\n",
    "pdf.set_font('Helvetica', 'B', 8)\n",
    "pdf.cell(w=20, h=5, text=\"Key Metrics\",\n",
    "         border=border_chg,\n",
    "         new_x='RIGHT', new_y='NEXT',\n",
    "         align='R',\n",
    "         fill=False, link='')\n",
    "\n",
    "# Main metrics table\n",
    "pdf.image('images/output/market_ratios_table.png', x=50, y=65, h=50)\n",
    "pdf.image('images/output/key_metrics_table.png', x=55, y=140, h=50)\n",
    "\n",
    "print(\"Page 4: Market Ratios Created\\n\")"
   ]
  },
  {
   "cell_type": "markdown",
   "id": "10ad9986-a11b-457e-b2e7-405f895cad58",
   "metadata": {},
   "source": [
    "<a id=\"page5_pdf\"></a>\n",
    "#### Page 5: Financial Statement Graphs [*](#index)\n",
    "[PDF section start](#export_pdf)"
   ]
  },
  {
   "cell_type": "code",
   "execution_count": 35,
   "id": "20c55a5a-8312-44ed-9076-a937cf4c214d",
   "metadata": {
    "tags": []
   },
   "outputs": [
    {
     "name": "stdout",
     "output_type": "stream",
     "text": [
      "Page 5: Financial Statement Graphs created\n",
      "\n"
     ]
    }
   ],
   "source": [
    "# Page 5: Financial Statement Graphs\n",
    "pdf.add_page()\n",
    "\n",
    "# Income Statement Graph\n",
    "pdf.image('images/output/is_graph.png', x=30, y=35, h=80)\n",
    "\n",
    "# Balance Sheet Graph\n",
    "pdf.image('images/output/bs_graph.png', x=30, y=105, h=80)\n",
    "\n",
    "# Cash Flow Statement Graph\n",
    "pdf.image('images/output/cf_graph.png', x=30, y=175, h=80)\n",
    "\n",
    "print(\"Page 5: Financial Statement Graphs created\\n\")"
   ]
  },
  {
   "cell_type": "markdown",
   "id": "1000dd48-a86e-4f21-a0ef-45c4dc9184ab",
   "metadata": {},
   "source": [
    "<a id=\"page6_pdf\"></a>\n",
    "#### Page 6: Common Size Financial Statement Graphs [*](#index)\n",
    "[PDF section start](#export_pdf)"
   ]
  },
  {
   "cell_type": "code",
   "execution_count": 36,
   "id": "403faee3-8d39-4609-9d70-22a62deb0490",
   "metadata": {
    "tags": []
   },
   "outputs": [
    {
     "name": "stdout",
     "output_type": "stream",
     "text": [
      "Page 6: Common Size Financial Statement Graphs Created\n",
      "\n"
     ]
    }
   ],
   "source": [
    "# Page 6: Common Size Financial Statement Graphs\n",
    "pdf.add_page()\n",
    "\n",
    "# Common Size Income Statement Graph\n",
    "pdf.image('images/output/is_graph_cs.png', x=30, y=35, h=80)\n",
    "\n",
    "# Common Size Balance Sheet Graph\n",
    "pdf.image('images/output/bs_graph_cs.png', x=30, y=105, h=80)\n",
    "\n",
    "# Common Size Cash Flow Statement Graph\n",
    "pdf.image('images/output/equity_graph.png', x=30, y=175, h=80)\n",
    "\n",
    "print(\"Page 6: Common Size Financial Statement Graphs Created\\n\")"
   ]
  },
  {
   "cell_type": "markdown",
   "id": "db49006a-0a7c-4101-a47e-c07e654e1a0f",
   "metadata": {},
   "source": [
    "<a id=\"save_output_pdf\"></a>\n",
    "#### Save Output as PDF [*](#index)\n",
    "[PDF section start](#export_pdf)"
   ]
  },
  {
   "cell_type": "code",
   "execution_count": 37,
   "id": "8a37f43c-23ac-4876-b65a-4643764b8bfe",
   "metadata": {},
   "outputs": [
    {
     "name": "stdout",
     "output_type": "stream",
     "text": [
      "Saved output as PDF\n",
      "\n",
      "Script executed successfully\n",
      "\n"
     ]
    }
   ],
   "source": [
    "# Save output as PDF\n",
    "pdf.output('files/'+company_symbol + \" \" + today.strftime(\"%Y-%m-%d\") + \".pdf\")\n",
    "\n",
    "print(\"Saved output as PDF\\n\")\n",
    "print(\"Script executed successfully\\n\")"
   ]
  },
  {
   "cell_type": "markdown",
   "id": "c58b34bd-ff6c-48b5-8cb7-6b5852b5e06a",
   "metadata": {},
   "source": [
    "[Go to Ticker](#ticker)\n",
    "\n",
    "[PDF section start](#export_pdf)"
   ]
  }
 ],
 "metadata": {
  "kernelspec": {
   "display_name": ".venv",
   "language": "python",
   "name": "python3"
  },
  "language_info": {
   "codemirror_mode": {
    "name": "ipython",
    "version": 3
   },
   "file_extension": ".py",
   "mimetype": "text/x-python",
   "name": "python",
   "nbconvert_exporter": "python",
   "pygments_lexer": "ipython3",
   "version": "3.13.1"
  }
 },
 "nbformat": 4,
 "nbformat_minor": 5
}

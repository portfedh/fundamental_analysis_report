{
 "cells": [
  {
   "cell_type": "markdown",
   "id": "bfaa4a05",
   "metadata": {},
   "source": [
    "<a id=\"index\"></a>\n",
    "# Index\n",
    "\n",
    "Initialize:\n",
    "- [Define company ticker](#ticker)\n",
    "- [Import python modules](#imports)\n",
    "- [Remove previous files](#remove_previous_files)\n",
    "\n",
    "Import Data:\n",
    "- [Import data from Financial Modeling Prep](#fmp_import)\n",
    "- [Filter dataframe for selected period and sort descending](#filter_df2)\n",
    "- [Get company currency](#get_company_currency)\n",
    "- [Download the company image](#download_company_image)\n",
    "\n",
    "Process Data\n",
    "- [Create  graphs:](#graph_df)\n",
    "    - [[Graph] Balance Sheet: Nominal and Common size](#bs_graph)\n",
    "    - [[Graph] Income Statement: Nominal and Common size](#is_graph)\n",
    "    - [[Graph] Cash Flow Statement](#CF_graph)\n",
    "    - [[DataFrame] Equity Uses](#equity_uses_table)\n",
    "    - [[Graph] Equity Uses](#equity_uses)\n",
    "\n",
    "- [Create financial statements:](#statements)\n",
    "    - [[Table] Income statement](#table_is)\n",
    "    - [[Table] Common size income statement](#table_cs_is)\n",
    "    - [[Table] Balance Sheet](#table_bs)\n",
    "    - [[Table] Common Size Balance Sheet ](#table_cs_bs)\n",
    "    - [[Table] Cash Flow Statement ](#table_cf)\n",
    "    \n",
    " - [Create Key Metrics tables](#metrics)\n",
    "    - [[Table] Market Ratios ](#table_market)\n",
    "    - [[Table] Debt, Liquidity and Solvency Ratios ](#table_debt)\n",
    "    - [[Table] Profit Ratios ](#table_profit)\n",
    "    - [[Table] Efficiency Ratios ](#table_efficiency)\n",
    "    - [[Table] Key Metrics ](#table_metrics)\n",
    "\n",
    "Outputs\n",
    "- [Exporting as a PDF file](#export_pdf)\n",
    "    - [PDF Variables](#variables_pdf)\n",
    "    - [Defining Classes ](#defining_classes_pdf)\n",
    "    - [Instantiation of Class  ](#class_instantiation_pdf)\n",
    "    - [Page 1: Company Description ](#page1_pdf)\n",
    "    - [Page 2: Financial Statements ](#page2_pdf)\n",
    "    - [Page 3: Internal Company Metrics ](#page3_pdf)\n",
    "    - [Page 4: Market Ratios ](#page4_pdf)\n",
    "    - [Page 5: Financial Statement Graphs ](#page5_pdf)\n",
    "    - [Page 6: Common Size Financial Statement Graphs](#page6_pdf)\n",
    "    - [Save output as PDF ](#save_output_pdf)"
   ]
  },
  {
   "cell_type": "markdown",
   "id": "7f7465bb-f1e1-40b1-a393-e984fc80de30",
   "metadata": {},
   "source": [
    "# Initialize"
   ]
  },
  {
   "cell_type": "markdown",
   "id": "684e12f6-b33d-481c-ac61-6a5d1127efba",
   "metadata": {
    "tags": []
   },
   "source": [
    "<a id=\"ticker\"></a>\n",
    "### Define company ticker [*](#index)"
   ]
  },
  {
   "cell_type": "code",
   "execution_count": 4,
   "id": "830e306d-be1d-47ea-bd13-443b8d714ac5",
   "metadata": {
    "tags": []
   },
   "outputs": [
    {
     "name": "stdout",
     "output_type": "stream",
     "text": [
      "\n",
      "Company report for: PG\n",
      "Years Analyzed: 5\n"
     ]
    }
   ],
   "source": [
    "# Define company ticker\n",
    "company = \"PG\"\n",
    "print(\"\\nCompany report for: \"+company)\n",
    "\n",
    "# Define years to analyse company\n",
    "years = 5\n",
    "print(\"Years Analyzed: \"+str(years))"
   ]
  },
  {
   "cell_type": "markdown",
   "id": "f6f7cc2a-733b-46d3-a9eb-44544ef8a9f6",
   "metadata": {},
   "source": [
    "<a id=\"imports\"></a>\n",
    "### Import python modules [*](#index)"
   ]
  },
  {
   "cell_type": "code",
   "execution_count": 5,
   "id": "2aebac69-8f59-4308-945f-a1d0df5c5eff",
   "metadata": {},
   "outputs": [
    {
     "name": "stdout",
     "output_type": "stream",
     "text": [
      "Python modules imported.\n",
      "\n",
      "Displaying Max Rows in Pandas.\n",
      "\n"
     ]
    }
   ],
   "source": [
    "# Import python modules\n",
    "import os\n",
    "import shutil\n",
    "import requests\n",
    "import pandas as pd\n",
    "import datetime as dt\n",
    "from fpdf import FPDF\n",
    "from PIL import Image\n",
    "import dataframe_image as dfi\n",
    "import plotly.graph_objects as go\n",
    "\n",
    "print(\"Python modules imported.\\n\")\n",
    "\n",
    "# Display full pandas data frame\n",
    "pd.set_option(\"display.max_rows\", None, \"display.max_columns\", None)\n",
    "print(\"Displaying Max Rows in Pandas.\\n\")"
   ]
  },
  {
   "cell_type": "markdown",
   "id": "ffa442fa-966e-4c74-83ff-cf6775387c59",
   "metadata": {},
   "source": [
    "<a id=\"remove_previous_files\"></a>\n",
    "### Remove previous files [*](#index)\n"
   ]
  },
  {
   "cell_type": "code",
   "execution_count": 6,
   "id": "45c89c76-5f5f-4cce-8568-bc82ae01b345",
   "metadata": {},
   "outputs": [
    {
     "name": "stdout",
     "output_type": "stream",
     "text": [
      "\n",
      " All Previous files removed.\n",
      "\n"
     ]
    }
   ],
   "source": [
    "# Remove previous files\n",
    "# To make sure report does not contain images from another company\n",
    "shutil.rmtree('images/output')\n",
    "os.makedirs('images/output')\n",
    "print(\"\\n All Previous files removed.\\n\")"
   ]
  },
  {
   "cell_type": "markdown",
   "id": "65c79938-d402-4724-92da-ead7ac86742a",
   "metadata": {},
   "source": [
    "# Import Data:"
   ]
  },
  {
   "cell_type": "markdown",
   "id": "6d8de668",
   "metadata": {},
   "source": [
    "<a id=\"fmp_import\"></a>\n",
    "### Importing data from Financial Modeling Prep [*](#index)"
   ]
  },
  {
   "cell_type": "code",
   "execution_count": 7,
   "id": "66088f30",
   "metadata": {},
   "outputs": [],
   "source": [
    "# Importing data from Financial Modeling Prep\n",
    "\n",
    "# Financial Modeling Prep API Key\n",
    "api = os.environ.get(\"token_finmodelprep\")\n",
    "\n",
    "www = 'https://financialmodelingprep.com/api/v3'\n",
    "www4 = 'https://financialmodelingprep.com/api/v4'\n",
    "is_www = '/income-statement/'\n",
    "bs_www = '/balance-sheet-statement/'\n",
    "cf_www = '/cash-flow-statement/'\n",
    "r_www = '/ratios/'\n",
    "km_www = '/key-metrics/'\n",
    "p_www = '/profile/'\n",
    "rtg_www = '/rating/'\n",
    "es_www = '/earnings-surprises/'\n",
    "# sp_www = \"/stock_peers\"\n",
    "\n",
    "# Data to Import\n",
    "IS = requests.get(f'{www}{is_www}{company}?apikey={api}').json()\n",
    "BS = requests.get(f'{www}{bs_www}{company}?apikey={api}').json()\n",
    "CF = requests.get(f'{www}{cf_www}{company}?apikey={api}').json()\n",
    "Ratios = requests.get(f'{www}{r_www}{company}?apikey={api}').json()\n",
    "Metrics = requests.get(f'{www}{km_www}{company}?apikey={api}').json()\n",
    "Profile = requests.get(f'{www}{p_www}{company}?apikey={api}').json()\n",
    "Rating = requests.get(f'{www}{rtg_www}{company}?apikey={api}').json()\n",
    "Surprises = requests.get(f'{www}{es_www}{company}?apikey={api}').json()\n",
    "# Peers = requests.get(f'{www4}{sp_www}?symbol={company}&apikey={api}').json()\n",
    "# Stock peers is an endpoint for a paid plan so its commented out. \n",
    "\n"
   ]
  },
  {
   "cell_type": "code",
   "execution_count": 8,
   "id": "8277e59d",
   "metadata": {},
   "outputs": [
    {
     "name": "stdout",
     "output_type": "stream",
     "text": [
      "[{'date': '2024-06-30', 'symbol': 'PG', 'reportedCurrency': 'USD', 'cik': '0000080424', 'fillingDate': '2024-08-05', 'acceptedDate': '2024-08-05 16:16:53', 'calendarYear': '2024', 'period': 'FY', 'revenue': 84039000000, 'costOfRevenue': 40848000000, 'grossProfit': 43191000000, 'grossProfitRatio': 0.514, 'researchAndDevelopmentExpenses': 0, 'generalAndAdministrativeExpenses': 0, 'sellingAndMarketingExpenses': 0, 'sellingGeneralAndAdministrativeExpenses': 23305000000, 'otherExpenses': 1341000000, 'operatingExpenses': 24646000000, 'costAndExpenses': 65494000000, 'interestIncome': 473000000, 'interestExpense': 925000000, 'depreciationAndAmortization': 2896000000, 'ebitda': 22582000000, 'ebitdaratio': 0.2701364843, 'operatingIncome': 18545000000, 'operatingIncomeRatio': 0.220671355, 'totalOtherIncomeExpensesNet': 216000000, 'incomeBeforeTax': 18761000000, 'incomeBeforeTaxRatio': 0.2232415902, 'incomeTaxExpense': 3787000000, 'netIncome': 14879000000, 'netIncomeRatio': 0.1770487512, 'eps': 6.3, 'epsdiluted': 6.02, 'weightedAverageShsOut': 2360100000, 'weightedAverageShsOutDil': 2471900000, 'link': 'https://www.sec.gov/Archives/edgar/data/80424/000008042424000083/0000080424-24-000083-index.htm', 'finalLink': 'https://www.sec.gov/Archives/edgar/data/80424/000008042424000083/pg-20240630.htm'}, {'date': '2023-06-30', 'symbol': 'PG', 'reportedCurrency': 'USD', 'cik': '0000080424', 'fillingDate': '2023-08-04', 'acceptedDate': '2023-08-04 16:16:13', 'calendarYear': '2023', 'period': 'FY', 'revenue': 82006000000, 'costOfRevenue': 42760000000, 'grossProfit': 39246000000, 'grossProfitRatio': 0.479, 'researchAndDevelopmentExpenses': 0, 'generalAndAdministrativeExpenses': 0, 'sellingAndMarketingExpenses': 0, 'sellingGeneralAndAdministrativeExpenses': 21112000000, 'otherExpenses': 0, 'operatingExpenses': 21112000000, 'costAndExpenses': 63872000000, 'interestIncome': 307000000, 'interestExpense': 756000000, 'depreciationAndAmortization': 2714000000, 'ebitda': 21823000000, 'ebitdaratio': 0.2661146745, 'operatingIncome': 18134000000, 'operatingIncomeRatio': 0.2211301612, 'totalOtherIncomeExpensesNet': 219000000, 'incomeBeforeTax': 18353000000, 'incomeBeforeTaxRatio': 0.2238006975, 'incomeTaxExpense': 3615000000, 'netIncome': 14653000000, 'netIncomeRatio': 0.1786820477, 'eps': 6.07, 'epsdiluted': 5.9, 'weightedAverageShsOut': 2368200000, 'weightedAverageShsOutDil': 2483900000, 'link': 'https://www.sec.gov/Archives/edgar/data/80424/000008042423000073/0000080424-23-000073-index.htm', 'finalLink': 'https://www.sec.gov/Archives/edgar/data/80424/000008042423000073/pg-20230630.htm'}, {'date': '2022-06-30', 'symbol': 'PG', 'reportedCurrency': 'USD', 'cik': '0000080424', 'fillingDate': '2022-08-05', 'acceptedDate': '2022-08-05 16:21:50', 'calendarYear': '2022', 'period': 'FY', 'revenue': 80187000000, 'costOfRevenue': 42157000000, 'grossProfit': 38030000000, 'grossProfitRatio': 0.4742664023, 'researchAndDevelopmentExpenses': 0, 'generalAndAdministrativeExpenses': 0, 'sellingAndMarketingExpenses': 0, 'sellingGeneralAndAdministrativeExpenses': 20217000000, 'otherExpenses': 0, 'operatingExpenses': 20217000000, 'costAndExpenses': 62374000000, 'interestIncome': 51000000, 'interestExpense': 439000000, 'depreciationAndAmortization': 2807000000, 'ebitda': 21241000000, 'ebitdaratio': 0.2648933119, 'operatingIncome': 17813000000, 'operatingIncomeRatio': 0.2221432402, 'totalOtherIncomeExpensesNet': 182000000, 'incomeBeforeTax': 17995000000, 'incomeBeforeTaxRatio': 0.2244129348, 'incomeTaxExpense': 3202000000, 'netIncome': 14742000000, 'netIncomeRatio': 0.1838452617, 'eps': 6, 'epsdiluted': 5.81, 'weightedAverageShsOut': 2410300000, 'weightedAverageShsOutDil': 2539100000, 'link': 'https://www.sec.gov/Archives/edgar/data/80424/000008042422000064/0000080424-22-000064-index.htm', 'finalLink': 'https://www.sec.gov/Archives/edgar/data/80424/000008042422000064/pg-20220630.htm'}, {'date': '2021-06-30', 'symbol': 'PG', 'reportedCurrency': 'USD', 'cik': '0000080424', 'fillingDate': '2021-08-06', 'acceptedDate': '2021-08-06 16:19:59', 'calendarYear': '2021', 'period': 'FY', 'revenue': 76118000000, 'costOfRevenue': 37108000000, 'grossProfit': 39010000000, 'grossProfitRatio': 0.512, 'researchAndDevelopmentExpenses': 0, 'generalAndAdministrativeExpenses': 0, 'sellingAndMarketingExpenses': 0, 'sellingGeneralAndAdministrativeExpenses': 21024000000, 'otherExpenses': 0, 'operatingExpenses': 21024000000, 'costAndExpenses': 58132000000, 'interestIncome': 45000000, 'interestExpense': 502000000, 'depreciationAndAmortization': 2735000000, 'ebitda': 20852000000, 'ebitdaratio': 0.2739430884, 'operatingIncome': 17986000000, 'operatingIncomeRatio': 0.2362910218, 'totalOtherIncomeExpensesNet': -371000000, 'incomeBeforeTax': 17615000000, 'incomeBeforeTaxRatio': 0.2314170104, 'incomeTaxExpense': 3263000000, 'netIncome': 14306000000, 'netIncomeRatio': 0.1879450327, 'eps': 5.69, 'epsdiluted': 5.5, 'weightedAverageShsOut': 2465800000, 'weightedAverageShsOutDil': 2601000000, 'link': 'https://www.sec.gov/Archives/edgar/data/80424/000008042421000100/0000080424-21-000100-index.htm', 'finalLink': 'https://www.sec.gov/Archives/edgar/data/80424/000008042421000100/pg-20210630.htm'}, {'date': '2020-06-30', 'symbol': 'PG', 'reportedCurrency': 'USD', 'cik': '0000080424', 'fillingDate': '2020-08-06', 'acceptedDate': '2020-08-06 16:17:03', 'calendarYear': '2020', 'period': 'FY', 'revenue': 70950000000, 'costOfRevenue': 35250000000, 'grossProfit': 35700000000, 'grossProfitRatio': 0.5031712474, 'researchAndDevelopmentExpenses': 0, 'generalAndAdministrativeExpenses': 0, 'sellingAndMarketingExpenses': 0, 'sellingGeneralAndAdministrativeExpenses': 19994000000, 'otherExpenses': 0, 'operatingExpenses': 19994000000, 'costAndExpenses': 55244000000, 'interestIncome': 155000000, 'interestExpense': 465000000, 'depreciationAndAmortization': 3013000000, 'ebitda': 19312000000, 'ebitdaratio': 0.2721916843, 'operatingIncome': 15706000000, 'operatingIncomeRatio': 0.22136716, 'totalOtherIncomeExpensesNet': 128000000, 'incomeBeforeTax': 15834000000, 'incomeBeforeTaxRatio': 0.2231712474, 'incomeTaxExpense': 2731000000, 'netIncome': 13027000000, 'netIncomeRatio': 0.1836081748, 'eps': 5.13, 'epsdiluted': 4.96, 'weightedAverageShsOut': 2487100000, 'weightedAverageShsOutDil': 2625800000, 'link': 'https://www.sec.gov/Archives/edgar/data/80424/000008042420000053/0000080424-20-000053-index.htm', 'finalLink': 'https://www.sec.gov/Archives/edgar/data/80424/000008042420000053/pg-20200630.htm'}]\n",
      "[{'date': '2024-06-30', 'symbol': 'PG', 'reportedCurrency': 'USD', 'cik': '0000080424', 'fillingDate': '2024-08-05', 'acceptedDate': '2024-08-05 16:16:53', 'calendarYear': '2024', 'period': 'FY', 'cashAndCashEquivalents': 9482000000, 'shortTermInvestments': 0, 'cashAndShortTermInvestments': 9482000000, 'netReceivables': 6118000000, 'inventory': 7016000000, 'otherCurrentAssets': 2093000000, 'totalCurrentAssets': 24709000000, 'propertyPlantEquipmentNet': 23027000000, 'goodwill': 40303000000, 'intangibleAssets': 22047000000, 'goodwillAndIntangibleAssets': 62350000000, 'longTermInvestments': 0, 'taxAssets': 0, 'otherNonCurrentAssets': 12284000000, 'totalNonCurrentAssets': 97661000000, 'otherAssets': 0, 'totalAssets': 122370000000, 'accountPayables': 15364000000, 'shortTermDebt': 7434000000, 'taxPayables': 1042000000, 'deferredRevenue': 0, 'otherCurrentLiabilities': 9787000000, 'totalCurrentLiabilities': 33627000000, 'longTermDebt': 25935000000, 'deferredRevenueNonCurrent': 0, 'deferredTaxLiabilitiesNonCurrent': 7239000000, 'otherNonCurrentLiabilities': 5010000000, 'totalNonCurrentLiabilities': 38184000000, 'otherLiabilities': 0, 'capitalLeaseObligations': 909000000, 'totalLiabilities': 71811000000, 'preferredStock': 798000000, 'commonStock': 4009000000, 'retainedEarnings': 123811000000, 'accumulatedOtherComprehensiveIncomeLoss': -12637000000, 'othertotalStockholdersEquity': -65694000000, 'totalStockholdersEquity': 50287000000, 'totalEquity': 50559000000, 'totalLiabilitiesAndStockholdersEquity': 122370000000, 'minorityInterest': 272000000, 'totalLiabilitiesAndTotalEquity': 122370000000, 'totalInvestments': 15532000000, 'totalDebt': 33369000000, 'netDebt': 23887000000, 'link': 'https://www.sec.gov/Archives/edgar/data/80424/000008042424000083/0000080424-24-000083-index.htm', 'finalLink': 'https://www.sec.gov/Archives/edgar/data/80424/000008042424000083/pg-20240630.htm'}, {'date': '2023-06-30', 'symbol': 'PG', 'reportedCurrency': 'USD', 'cik': '0000080424', 'fillingDate': '2023-08-04', 'acceptedDate': '2023-08-04 16:16:13', 'calendarYear': '2023', 'period': 'FY', 'cashAndCashEquivalents': 8246000000, 'shortTermInvestments': 0, 'cashAndShortTermInvestments': 8246000000, 'netReceivables': 5471000000, 'inventory': 7073000000, 'otherCurrentAssets': 1858000000, 'totalCurrentAssets': 22648000000, 'propertyPlantEquipmentNet': 21909000000, 'goodwill': 40659000000, 'intangibleAssets': 23783000000, 'goodwillAndIntangibleAssets': 64442000000, 'longTermInvestments': -6478000000, 'taxAssets': 6478000000, 'otherNonCurrentAssets': 11830000000, 'totalNonCurrentAssets': 98181000000, 'otherAssets': 0, 'totalAssets': 120829000000, 'accountPayables': 14598000000, 'shortTermDebt': 10451000000, 'taxPayables': 828000000, 'deferredRevenue': 0, 'otherCurrentLiabilities': 9879000000, 'totalCurrentLiabilities': 35756000000, 'longTermDebt': 24973000000, 'deferredRevenueNonCurrent': 0, 'deferredTaxLiabilitiesNonCurrent': 6478000000, 'otherNonCurrentLiabilities': 5935000000, 'totalNonCurrentLiabilities': 38008000000, 'otherLiabilities': 0, 'capitalLeaseObligations': 817000000, 'totalLiabilities': 73764000000, 'preferredStock': 819000000, 'commonStock': 4009000000, 'retainedEarnings': 118170000000, 'accumulatedOtherComprehensiveIncomeLoss': -13041000000, 'othertotalStockholdersEquity': -63180000000, 'totalStockholdersEquity': 46777000000, 'totalEquity': 47065000000, 'totalLiabilitiesAndStockholdersEquity': 120829000000, 'minorityInterest': 288000000, 'totalLiabilitiesAndTotalEquity': 120829000000, 'totalInvestments': -6478000000, 'totalDebt': 34607000000, 'netDebt': 26361000000, 'link': 'https://www.sec.gov/Archives/edgar/data/80424/000008042423000073/0000080424-23-000073-index.htm', 'finalLink': 'https://www.sec.gov/Archives/edgar/data/80424/000008042423000073/pg-20230630.htm'}, {'date': '2022-06-30', 'symbol': 'PG', 'reportedCurrency': 'USD', 'cik': '0000080424', 'fillingDate': '2022-08-05', 'acceptedDate': '2022-08-05 16:21:50', 'calendarYear': '2022', 'period': 'FY', 'cashAndCashEquivalents': 7214000000, 'shortTermInvestments': 0, 'cashAndShortTermInvestments': 7214000000, 'netReceivables': 5143000000, 'inventory': 6924000000, 'otherCurrentAssets': 4744000000, 'totalCurrentAssets': 21653000000, 'propertyPlantEquipmentNet': 21195000000, 'goodwill': 39700000000, 'intangibleAssets': 23679000000, 'goodwillAndIntangibleAssets': 63379000000, 'longTermInvestments': 140000000, 'taxAssets': 6809000000, 'otherNonCurrentAssets': 4032000000, 'totalNonCurrentAssets': 95555000000, 'otherAssets': 0, 'totalAssets': 117208000000, 'accountPayables': 14882000000, 'shortTermDebt': 8850000000, 'taxPayables': 587000000, 'deferredRevenue': 0, 'otherCurrentLiabilities': 8762000000, 'totalCurrentLiabilities': 33081000000, 'longTermDebt': 23443000000, 'deferredRevenueNonCurrent': 0, 'deferredTaxLiabilitiesNonCurrent': 6809000000, 'otherNonCurrentLiabilities': 13830000000, 'totalNonCurrentLiabilities': 37273000000, 'otherLiabilities': 0, 'capitalLeaseObligations': 800000000, 'totalLiabilities': 70354000000, 'preferredStock': 843000000, 'commonStock': 4009000000, 'retainedEarnings': 112429000000, 'accumulatedOtherComprehensiveIncomeLoss': -13105000000, 'othertotalStockholdersEquity': -57587000000, 'totalStockholdersEquity': 46589000000, 'totalEquity': 46854000000, 'totalLiabilitiesAndStockholdersEquity': 117208000000, 'minorityInterest': 265000000, 'totalLiabilitiesAndTotalEquity': 117208000000, 'totalInvestments': 140000000, 'totalDebt': 31493000000, 'netDebt': 24279000000, 'link': 'https://www.sec.gov/Archives/edgar/data/80424/000008042422000064/0000080424-22-000064-index.htm', 'finalLink': 'https://www.sec.gov/Archives/edgar/data/80424/000008042422000064/pg-20220630.htm'}, {'date': '2021-06-30', 'symbol': 'PG', 'reportedCurrency': 'USD', 'cik': '0000080424', 'fillingDate': '2021-08-06', 'acceptedDate': '2021-08-06 16:19:59', 'calendarYear': '2021', 'period': 'FY', 'cashAndCashEquivalents': 10288000000, 'shortTermInvestments': 0, 'cashAndShortTermInvestments': 10288000000, 'netReceivables': 4725000000, 'inventory': 5983000000, 'otherCurrentAssets': 4190000000, 'totalCurrentAssets': 23091000000, 'propertyPlantEquipmentNet': 21686000000, 'goodwill': 40924000000, 'intangibleAssets': 23642000000, 'goodwillAndIntangibleAssets': 64566000000, 'longTermInvestments': -6153000000, 'taxAssets': 6153000000, 'otherNonCurrentAssets': 9964000000, 'totalNonCurrentAssets': 96216000000, 'otherAssets': 0, 'totalAssets': 119307000000, 'accountPayables': 13720000000, 'shortTermDebt': 9108000000, 'taxPayables': 637000000, 'deferredRevenue': 7419000000, 'otherCurrentLiabilities': 9667000000, 'totalCurrentLiabilities': 33132000000, 'longTermDebt': 23730000000, 'deferredRevenueNonCurrent': 0, 'deferredTaxLiabilitiesNonCurrent': 6153000000, 'otherNonCurrentLiabilities': 15791000000, 'totalNonCurrentLiabilities': 39521000000, 'otherLiabilities': 0, 'capitalLeaseObligations': 850000000, 'totalLiabilities': 72653000000, 'preferredStock': 870000000, 'commonStock': 4009000000, 'retainedEarnings': 106374000000, 'accumulatedOtherComprehensiveIncomeLoss': -14750000000, 'othertotalStockholdersEquity': -50125000000, 'totalStockholdersEquity': 46378000000, 'totalEquity': 46654000000, 'totalLiabilitiesAndStockholdersEquity': 119307000000, 'minorityInterest': 276000000, 'totalLiabilitiesAndTotalEquity': 119307000000, 'totalInvestments': -6153000000, 'totalDebt': 31988000000, 'netDebt': 21700000000, 'link': 'https://www.sec.gov/Archives/edgar/data/80424/000008042421000100/0000080424-21-000100-index.htm', 'finalLink': 'https://www.sec.gov/Archives/edgar/data/80424/000008042421000100/pg-20210630.htm'}, {'date': '2020-06-30', 'symbol': 'PG', 'reportedCurrency': 'USD', 'cik': '0000080424', 'fillingDate': '2020-08-06', 'acceptedDate': '2020-08-06 16:17:03', 'calendarYear': '2020', 'period': 'FY', 'cashAndCashEquivalents': 16181000000, 'shortTermInvestments': 0, 'cashAndShortTermInvestments': 16181000000, 'netReceivables': 4178000000, 'inventory': 5498000000, 'otherCurrentAssets': 4260000000, 'totalCurrentAssets': 27987000000, 'propertyPlantEquipmentNet': 20692000000, 'goodwill': 39901000000, 'intangibleAssets': 23792000000, 'goodwillAndIntangibleAssets': 63693000000, 'longTermInvestments': -6199000000, 'taxAssets': 6199000000, 'otherNonCurrentAssets': 8328000000, 'totalNonCurrentAssets': 92713000000, 'otherAssets': 0, 'totalAssets': 120700000000, 'accountPayables': 12071000000, 'shortTermDebt': 11422000000, 'taxPayables': 693000000, 'deferredRevenue': 6617000000, 'otherCurrentLiabilities': 8790000000, 'totalCurrentLiabilities': 32976000000, 'longTermDebt': 24189000000, 'deferredRevenueNonCurrent': 0, 'deferredTaxLiabilitiesNonCurrent': 6199000000, 'otherNonCurrentLiabilities': 16657000000, 'totalNonCurrentLiabilities': 40846000000, 'otherLiabilities': 0, 'capitalLeaseObligations': 891000000, 'totalLiabilities': 73822000000, 'preferredStock': 897000000, 'commonStock': 4009000000, 'retainedEarnings': 100239000000, 'accumulatedOtherComprehensiveIncomeLoss': -17245000000, 'othertotalStockholdersEquity': -41379000000, 'totalStockholdersEquity': 46521000000, 'totalEquity': 46878000000, 'totalLiabilitiesAndStockholdersEquity': 120700000000, 'minorityInterest': 357000000, 'totalLiabilitiesAndTotalEquity': 120700000000, 'totalInvestments': -6199000000, 'totalDebt': 34720000000, 'netDebt': 18539000000, 'link': 'https://www.sec.gov/Archives/edgar/data/80424/000008042420000053/0000080424-20-000053-index.htm', 'finalLink': 'https://www.sec.gov/Archives/edgar/data/80424/000008042420000053/pg-20200630.htm'}]\n",
      "[{'date': '2024-06-30', 'symbol': 'PG', 'reportedCurrency': 'USD', 'cik': '0000080424', 'fillingDate': '2024-08-05', 'acceptedDate': '2024-08-05 16:16:53', 'calendarYear': '2024', 'period': 'FY', 'netIncome': 14879000000, 'depreciationAndAmortization': 2896000000, 'deferredIncomeTax': -244000000, 'stockBasedCompensation': 562000000, 'changeInWorkingCapital': -436000000, 'accountsReceivables': -766000000, 'inventory': -70000000, 'accountsPayables': 1814000000, 'otherWorkingCapital': -1414000000, 'otherNonCashItems': 2189000000, 'netCashProvidedByOperatingActivities': 19846000000, 'investmentsInPropertyPlantAndEquipment': -3322000000, 'acquisitionsNet': -21000000, 'purchasesOfInvestments': 0, 'salesMaturitiesOfInvestments': 0, 'otherInvestingActivites': -161000000, 'netCashUsedForInvestingActivites': -3504000000, 'debtRepayment': -2442000000, 'commonStockIssued': 0, 'commonStockRepurchased': -5006000000, 'dividendsPaid': -9312000000, 'otherFinancingActivites': 1905000000, 'netCashUsedProvidedByFinancingActivities': -14855000000, 'effectOfForexChangesOnCash': -251000000, 'netChangeInCash': 1236000000, 'cashAtEndOfPeriod': 9482000000, 'cashAtBeginningOfPeriod': 8246000000, 'operatingCashFlow': 19846000000, 'capitalExpenditure': -3322000000, 'freeCashFlow': 16524000000, 'link': 'https://www.sec.gov/Archives/edgar/data/80424/000008042424000083/0000080424-24-000083-index.htm', 'finalLink': 'https://www.sec.gov/Archives/edgar/data/80424/000008042424000083/pg-20240630.htm'}, {'date': '2023-06-30', 'symbol': 'PG', 'reportedCurrency': 'USD', 'cik': '0000080424', 'fillingDate': '2023-08-04', 'acceptedDate': '2023-08-04 16:16:13', 'calendarYear': '2023', 'period': 'FY', 'netIncome': 14738000000, 'depreciationAndAmortization': 2714000000, 'deferredIncomeTax': -453000000, 'stockBasedCompensation': 545000000, 'changeInWorkingCapital': -1220000000, 'accountsReceivables': -307000000, 'inventory': -119000000, 'accountsPayables': 313000000, 'otherWorkingCapital': -1107000000, 'otherNonCashItems': 524000000, 'netCashProvidedByOperatingActivities': 16848000000, 'investmentsInPropertyPlantAndEquipment': -3062000000, 'acquisitionsNet': -765000000, 'purchasesOfInvestments': 0, 'salesMaturitiesOfInvestments': 0, 'otherInvestingActivites': 327000000, 'netCashUsedForInvestingActivites': -3500000000, 'debtRepayment': 2937000000, 'commonStockIssued': 0, 'commonStockRepurchased': -7353000000, 'dividendsPaid': -8999000000, 'otherFinancingActivites': 1269000000, 'netCashUsedProvidedByFinancingActivities': -12146000000, 'effectOfForexChangesOnCash': -170000000, 'netChangeInCash': 1032000000, 'cashAtEndOfPeriod': 8246000000, 'cashAtBeginningOfPeriod': 7214000000, 'operatingCashFlow': 16848000000, 'capitalExpenditure': -3062000000, 'freeCashFlow': 13786000000, 'link': 'https://www.sec.gov/Archives/edgar/data/80424/000008042423000073/0000080424-23-000073-index.htm', 'finalLink': 'https://www.sec.gov/Archives/edgar/data/80424/000008042423000073/pg-20230630.htm'}, {'date': '2022-06-30', 'symbol': 'PG', 'reportedCurrency': 'USD', 'cik': '0000080424', 'fillingDate': '2022-08-05', 'acceptedDate': '2022-08-05 16:21:50', 'calendarYear': '2022', 'period': 'FY', 'netIncome': 14793000000, 'depreciationAndAmortization': 2807000000, 'deferredIncomeTax': -402000000, 'stockBasedCompensation': 528000000, 'changeInWorkingCapital': -1147000000, 'accountsReceivables': -694000000, 'inventory': -1247000000, 'accountsPayables': 1429000000, 'otherWorkingCapital': -635000000, 'otherNonCashItems': 144000000, 'netCashProvidedByOperatingActivities': 16723000000, 'investmentsInPropertyPlantAndEquipment': -3156000000, 'acquisitionsNet': -1381000000, 'purchasesOfInvestments': 0, 'salesMaturitiesOfInvestments': 3000000, 'otherInvestingActivites': 110000000, 'netCashUsedForInvestingActivites': -4424000000, 'debtRepayment': 1892000000, 'commonStockIssued': 0, 'commonStockRepurchased': -10003000000, 'dividendsPaid': -8770000000, 'otherFinancingActivites': 2005000000, 'netCashUsedProvidedByFinancingActivities': -14876000000, 'effectOfForexChangesOnCash': -497000000, 'netChangeInCash': -3074000000, 'cashAtEndOfPeriod': 7214000000, 'cashAtBeginningOfPeriod': 10288000000, 'operatingCashFlow': 16723000000, 'capitalExpenditure': -3156000000, 'freeCashFlow': 13567000000, 'link': 'https://www.sec.gov/Archives/edgar/data/80424/000008042422000064/0000080424-22-000064-index.htm', 'finalLink': 'https://www.sec.gov/Archives/edgar/data/80424/000008042422000064/pg-20220630.htm'}, {'date': '2021-06-30', 'symbol': 'PG', 'reportedCurrency': 'USD', 'cik': '0000080424', 'fillingDate': '2021-08-06', 'acceptedDate': '2021-08-06 16:19:59', 'calendarYear': '2021', 'period': 'FY', 'netIncome': 14352000000, 'depreciationAndAmortization': 2735000000, 'deferredIncomeTax': -258000000, 'stockBasedCompensation': 540000000, 'changeInWorkingCapital': 371000000, 'accountsReceivables': -342000000, 'inventory': -309000000, 'accountsPayables': 1391000000, 'otherWorkingCapital': -369000000, 'otherNonCashItems': 631000000, 'netCashProvidedByOperatingActivities': 18371000000, 'investmentsInPropertyPlantAndEquipment': -2787000000, 'acquisitionsNet': -34000000, 'purchasesOfInvestments': -55000000, 'salesMaturitiesOfInvestments': 2787000000, 'otherInvestingActivites': -2745000000, 'netCashUsedForInvestingActivites': -2834000000, 'debtRepayment': -3903000000, 'commonStockIssued': 0, 'commonStockRepurchased': -11009000000, 'dividendsPaid': -8263000000, 'otherFinancingActivites': 1644000000, 'netCashUsedProvidedByFinancingActivities': -21531000000, 'effectOfForexChangesOnCash': 101000000, 'netChangeInCash': -5893000000, 'cashAtEndOfPeriod': 10288000000, 'cashAtBeginningOfPeriod': 16181000000, 'operatingCashFlow': 18371000000, 'capitalExpenditure': -2787000000, 'freeCashFlow': 15584000000, 'link': 'https://www.sec.gov/Archives/edgar/data/80424/000008042421000100/0000080424-21-000100-index.htm', 'finalLink': 'https://www.sec.gov/Archives/edgar/data/80424/000008042421000100/pg-20210630.htm'}, {'date': '2020-06-30', 'symbol': 'PG', 'reportedCurrency': 'USD', 'cik': '0000080424', 'fillingDate': '2020-08-06', 'acceptedDate': '2020-08-06 16:17:03', 'calendarYear': '2020', 'period': 'FY', 'netIncome': 13103000000, 'depreciationAndAmortization': 3013000000, 'deferredIncomeTax': -596000000, 'stockBasedCompensation': 558000000, 'changeInWorkingCapital': 1210000000, 'accountsReceivables': 634000000, 'inventory': -637000000, 'accountsPayables': 1923000000, 'otherWorkingCapital': -710000000, 'otherNonCashItems': 115000000, 'netCashProvidedByOperatingActivities': 17403000000, 'investmentsInPropertyPlantAndEquipment': -3073000000, 'acquisitionsNet': -58000000, 'purchasesOfInvestments': -5000000, 'salesMaturitiesOfInvestments': 6151000000, 'otherInvestingActivites': 30000000, 'netCashUsedForInvestingActivites': 3045000000, 'debtRepayment': 2504000000, 'commonStockIssued': 0, 'commonStockRepurchased': -7405000000, 'dividendsPaid': -7789000000, 'otherFinancingActivites': 4323000000, 'netCashUsedProvidedByFinancingActivities': -8367000000, 'effectOfForexChangesOnCash': -139000000, 'netChangeInCash': 11942000000, 'cashAtEndOfPeriod': 16181000000, 'cashAtBeginningOfPeriod': 4239000000, 'operatingCashFlow': 17403000000, 'capitalExpenditure': -3073000000, 'freeCashFlow': 14330000000, 'link': 'https://www.sec.gov/Archives/edgar/data/80424/000008042420000053/0000080424-20-000053-index.htm', 'finalLink': 'https://www.sec.gov/Archives/edgar/data/80424/000008042420000053/pg-20200630.htm'}]\n",
      "[{'symbol': 'PG', 'date': '2024-06-30', 'calendarYear': '2024', 'period': 'FY', 'currentRatio': 0.7347964433342254, 'quickRatio': 0.5261545781663545, 'cashRatio': 0.28197579326136735, 'daysOfSalesOutstanding': 26.5718297457133, 'daysOfInventoryOutstanding': 62.69193106149628, 'operatingCycle': 89.26376080720958, 'daysOfPayablesOutstanding': 137.28603603603602, 'cashConversionCycle': -48.02227522882647, 'grossProfitMargin': 0.5139399564487916, 'operatingProfitMargin': 0.22067135496614668, 'pretaxProfitMargin': 0.22324159021406728, 'netProfitMargin': 0.17704875117504967, 'effectiveTaxRate': 0.20185491178508608, 'returnOnAssets': 0.12159025905042085, 'returnOnEquity': 0.295881639389902, 'returnOnCapitalEmployed': 0.20897422895326956, 'netIncomePerEBT': 0.7930813922498801, 'ebtPerEbit': 1.0116473442976543, 'ebitPerRevenue': 0.22067135496614668, 'debtRatio': 0.2726893846531013, 'debtEquityRatio': 0.6635711018752362, 'longTermDebtToCapitalization': 0.3344406797607073, 'totalDebtToCapitalization': 0.3988835229989481, 'interestCoverage': 20.048648648648648, 'cashFlowToDebtRatio': 0.5947436243219755, 'companyEquityMultiplier': 2.4334320997474497, 'receivablesTurnover': 13.736351748937562, 'payablesTurnover': 2.658682634730539, 'inventoryTurnover': 5.82212086659065, 'fixedAssetTurnover': 3.6495852694662787, 'assetTurnover': 0.6867614611424369, 'operatingCashFlowPerShare': 8.40896572179145, 'freeCashFlowPerShare': 7.0013982458370405, 'cashPerShare': 4.0176263717639085, 'payoutRatio': 0.6258485113246858, 'operatingCashFlowSalesRatio': 0.23615226263996478, 'freeCashFlowOperatingCashFlowRatio': 0.8326111055124459, 'cashFlowCoverageRatios': 0.5947436243219755, 'shortTermCoverageRatios': 2.759838687247949, 'capitalExpenditureCoverageRatio': 5.974111980734497, 'dividendPaidAndCapexCoverageRatio': 1.57084058888713, 'dividendPayoutRatio': 0.6258485113246858, 'priceBookValueRatio': 7.6368737844771015, 'priceToBookRatio': 7.6368737844771015, 'priceToSalesRatio': 4.569729197158462, 'priceEarningsRatio': 25.810570065192554, 'priceToFreeCashFlowsRatio': 23.241071895424838, 'priceToOperatingCashFlowsRatio': 19.350774564143908, 'priceCashFlowRatio': 19.350774564143908, 'priceEarningsToGrowthRatio': 6.811746099813858, 'priceSalesRatio': 4.569729197158462, 'dividendYield': 0.024247760113159544, 'enterpriseValueMultiple': 18.064054202462138, 'priceFairValue': 7.6368737844771015}, {'symbol': 'PG', 'date': '2023-06-30', 'calendarYear': '2023', 'period': 'FY', 'currentRatio': 0.6334041839131894, 'quickRatio': 0.4355912294440094, 'cashRatio': 0.23061863743148003, 'daysOfSalesOutstanding': 24.350840182425678, 'daysOfInventoryOutstanding': 60.37523386342376, 'operatingCycle': 84.72607404584944, 'daysOfPayablesOutstanding': 124.60874649204864, 'cashConversionCycle': -39.88267244619921, 'grossProfitMargin': 0.47857473843377313, 'operatingProfitMargin': 0.2211301612077165, 'pretaxProfitMargin': 0.2238006975099383, 'netProfitMargin': 0.17868204765504964, 'effectiveTaxRate': 0.1969705225303765, 'returnOnAssets': 0.12127055590959124, 'returnOnEquity': 0.31325223934839774, 'returnOnCapitalEmployed': 0.21315811126914533, 'netIncomePerEBT': 0.7983980820574293, 'ebtPerEbit': 1.0120767618837543, 'ebitPerRevenue': 0.2211301612077165, 'debtRatio': 0.28641302998452356, 'debtEquityRatio': 0.739829403339248, 'longTermDebtToCapitalization': 0.3426041739863678, 'totalDebtToCapitalization': 0.42523100363707855, 'interestCoverage': 23.986772486772487, 'cashFlowToDebtRatio': 0.48683792296356226, 'companyEquityMultiplier': 2.5830857045129014, 'receivablesTurnover': 14.989215865472492, 'payablesTurnover': 2.9291683792300316, 'inventoryTurnover': 6.0455252368160615, 'fixedAssetTurnover': 3.743027979369209, 'assetTurnover': 0.6786946842231584, 'operatingCashFlowPerShare': 7.114263997973144, 'freeCashFlowPerShare': 5.821298876784056, 'cashPerShare': 3.4819694282577487, 'payoutRatio': 0.614140449054801, 'operatingCashFlowSalesRatio': 0.20544838182572006, 'freeCashFlowOperatingCashFlowRatio': 0.8182573599240266, 'cashFlowCoverageRatios': 0.48683792296356226, 'shortTermCoverageRatios': 1.6470818261804674, 'capitalExpenditureCoverageRatio': 5.502286087524494, 'dividendPaidAndCapexCoverageRatio': 1.3968990962606749, 'dividendPayoutRatio': 0.614140449054801, 'priceBookValueRatio': 7.682208521281827, 'priceToBookRatio': 7.682208521281827, 'priceToSalesRatio': 4.382004585030364, 'priceEarningsRatio': 24.524033849723608, 'priceToFreeCashFlowsRatio': 26.066347599013493, 'priceToOperatingCashFlowsRatio': 21.32898076923077, 'priceCashFlowRatio': 21.32898076923077, 'priceEarningsToGrowthRatio': 21.02060044262015, 'priceSalesRatio': 4.382004585030364, 'dividendYield': 0.02504239118319936, 'enterpriseValueMultiple': 17.674548320579206, 'priceFairValue': 7.682208521281827}, {'symbol': 'PG', 'date': '2022-06-30', 'calendarYear': '2022', 'period': 'FY', 'currentRatio': 0.6545449049303226, 'quickRatio': 0.44524047036062997, 'cashRatio': 0.2180707959251534, 'daysOfSalesOutstanding': 23.41021611981992, 'daysOfInventoryOutstanding': 59.94876295751595, 'operatingCycle': 83.35897907733587, 'daysOfPayablesOutstanding': 128.85001304646914, 'cashConversionCycle': -45.49103396913327, 'grossProfitMargin': 0.4742664022846596, 'operatingProfitMargin': 0.22214324017608839, 'pretaxProfitMargin': 0.22441293476498683, 'netProfitMargin': 0.18384526170077445, 'effectiveTaxRate': 0.17793831619894415, 'returnOnAssets': 0.12577639751552794, 'returnOnEquity': 0.31642662431045954, 'returnOnCapitalEmployed': 0.2117393940114351, 'netIncomePerEBT': 0.8192275632120033, 'ebtPerEbit': 1.010217257059451, 'ebitPerRevenue': 0.22214324017608839, 'debtRatio': 0.26869326325848064, 'debtEquityRatio': 0.6759750155616132, 'longTermDebtToCapitalization': 0.3290464737819894, 'totalDebtToCapitalization': 0.40333239414974004, 'interestCoverage': 40.57630979498861, 'cashFlowToDebtRatio': 0.5310068904200933, 'companyEquityMultiplier': 2.5157869883448885, 'receivablesTurnover': 15.591483569900836, 'payablesTurnover': 2.832750974331407, 'inventoryTurnover': 6.088532640092432, 'fixedAssetTurnover': 3.783297947629158, 'assetTurnover': 0.6841427206334039, 'operatingCashFlowPerShare': 6.93814048043812, 'freeCashFlowPerShare': 5.628759905405966, 'cashPerShare': 2.992988424677426, 'payoutRatio': 0.5948989282322615, 'operatingCashFlowSalesRatio': 0.2085500143414768, 'freeCashFlowOperatingCashFlowRatio': 0.811277880763021, 'cashFlowCoverageRatios': 0.5310068904200933, 'shortTermCoverageRatios': 1.9344129554655871, 'capitalExpenditureCoverageRatio': 5.298795944233206, 'dividendPaidAndCapexCoverageRatio': 1.4022304209290626, 'dividendPayoutRatio': 0.5948989282322615, 'priceBookValueRatio': 7.439031466655219, 'priceToBookRatio': 7.439031466655219, 'priceToSalesRatio': 4.322110030304164, 'priceEarningsRatio': 23.509499185999182, 'priceToFreeCashFlowsRatio': 25.54559128768335, 'priceToOperatingCashFlowsRatio': 20.724573162710037, 'priceCashFlowRatio': 20.724573162710037, 'priceEarningsToGrowthRatio': 4.31513065704308, 'priceSalesRatio': 4.322110030304164, 'dividendYield': 0.025304619359418207, 'enterpriseValueMultiple': 17.45944338778777, 'priceFairValue': 7.439031466655219}, {'symbol': 'PG', 'date': '2021-06-30', 'calendarYear': '2021', 'period': 'FY', 'currentRatio': 0.6969395146685984, 'quickRatio': 0.5163588071954606, 'cashRatio': 0.3105155137027647, 'daysOfSalesOutstanding': 22.657255839617434, 'daysOfInventoryOutstanding': 58.84970895763717, 'operatingCycle': 81.5069647972546, 'daysOfPayablesOutstanding': 134.95203190686644, 'cashConversionCycle': -53.44506710961184, 'grossProfitMargin': 0.5124937596889041, 'operatingProfitMargin': 0.23629102183452008, 'pretaxProfitMargin': 0.23141701043117266, 'netProfitMargin': 0.18794503271236765, 'effectiveTaxRate': 0.18523985239852397, 'returnOnAssets': 0.1199091419614943, 'returnOnEquity': 0.30846522057872267, 'returnOnCapitalEmployed': 0.20871482448505949, 'netIncomePerEBT': 0.8121487368719841, 'ebtPerEbit': 0.9793728455465361, 'ebitPerRevenue': 0.23629102183452008, 'debtRatio': 0.2681150309705214, 'debtEquityRatio': 0.6897235758333693, 'longTermDebtToCapitalization': 0.3324697381867381, 'totalDebtToCapitalization': 0.4081872240512467, 'interestCoverage': 35.82868525896414, 'cashFlowToDebtRatio': 0.5743091159184694, 'companyEquityMultiplier': 2.5724912674112725, 'receivablesTurnover': 16.10962962962963, 'payablesTurnover': 2.70466472303207, 'inventoryTurnover': 6.2022396790907575, 'fixedAssetTurnover': 3.5100064557779214, 'assetTurnover': 0.6380011231528745, 'operatingCashFlowPerShare': 7.450320382837213, 'freeCashFlowPerShare': 6.32005839889691, 'cashPerShare': 4.172276745883689, 'payoutRatio': 0.577589822452118, 'operatingCashFlowSalesRatio': 0.24134895819648441, 'freeCashFlowOperatingCashFlowRatio': 0.8482935060693484, 'cashFlowCoverageRatios': 0.5743091159184694, 'shortTermCoverageRatios': 2.066711666104174, 'capitalExpenditureCoverageRatio': 6.59167563688554, 'dividendPaidAndCapexCoverageRatio': 1.6625339366515837, 'dividendPayoutRatio': 0.577589822452118, 'priceBookValueRatio': 7.17388403984648, 'priceToBookRatio': 7.17388403984648, 'priceToSalesRatio': 4.370981817704091, 'priceEarningsRatio': 23.256703061652452, 'priceToFreeCashFlowsRatio': 21.349486267967144, 'priceToOperatingCashFlowsRatio': 18.11063055903326, 'priceCashFlowRatio': 18.11063055903326, 'priceEarningsToGrowthRatio': 2.130480119754948, 'priceSalesRatio': 4.370981817704091, 'dividendYield': 0.024835412866602537, 'enterpriseValueMultiple': 16.99647007481297, 'priceFairValue': 7.17388403984648}, {'symbol': 'PG', 'date': '2020-06-30', 'calendarYear': '2020', 'period': 'FY', 'currentRatio': 0.8487081513828238, 'quickRatio': 0.6819808345463367, 'cashRatio': 0.490690198932557, 'daysOfSalesOutstanding': 21.493587033121916, 'daysOfInventoryOutstanding': 56.929645390070924, 'operatingCycle': 78.42323242319284, 'daysOfPayablesOutstanding': 124.9904964539007, 'cashConversionCycle': -46.567264030707875, 'grossProfitMargin': 0.5031712473572939, 'operatingProfitMargin': 0.22136715997181114, 'pretaxProfitMargin': 0.22317124735729388, 'netProfitMargin': 0.18360817477096547, 'effectiveTaxRate': 0.1724769483390173, 'returnOnAssets': 0.10792874896437449, 'returnOnEquity': 0.2800240751488575, 'returnOnCapitalEmployed': 0.17903880352013132, 'netIncomePerEBT': 0.8227232537577365, 'ebtPerEbit': 1.0081497516872533, 'ebitPerRevenue': 0.22136715997181114, 'debtRatio': 0.28765534382767194, 'debtEquityRatio': 0.7463296145826616, 'longTermDebtToCapitalization': 0.335964486568272, 'totalDebtToCapitalization': 0.4273704164153568, 'interestCoverage': 33.7763440860215, 'cashFlowToDebtRatio': 0.5012384792626728, 'companyEquityMultiplier': 2.594527202768642, 'receivablesTurnover': 16.981809478219244, 'payablesTurnover': 2.920222019716676, 'inventoryTurnover': 6.411422335394689, 'fixedAssetTurnover': 3.4288613957084864, 'assetTurnover': 0.5878210439105219, 'operatingCashFlowPerShare': 6.997306099473282, 'freeCashFlowPerShare': 5.761730529532387, 'cashPerShare': 6.505970809376382, 'payoutRatio': 0.5979120288631304, 'operatingCashFlowSalesRatio': 0.24528541226215644, 'freeCashFlowOperatingCashFlowRatio': 0.8234212492099063, 'cashFlowCoverageRatios': 0.5012384792626728, 'shortTermCoverageRatios': 1.5562013770902263, 'capitalExpenditureCoverageRatio': 5.663195574357306, 'dividendPaidAndCapexCoverageRatio': 1.602191125023016, 'dividendPayoutRatio': 0.5979120288631304, 'priceBookValueRatio': 6.392436684508072, 'priceToBookRatio': 6.392436684508072, 'priceToSalesRatio': 4.1914382945736435, 'priceEarningsRatio': 22.82816818914562, 'priceToFreeCashFlowsRatio': 20.752445708304258, 'priceToOperatingCashFlowsRatio': 17.08800476929265, 'priceCashFlowRatio': 17.08800476929265, 'priceEarningsToGrowthRatio': 0.09975333998618255, 'priceSalesRatio': 4.1914382945736435, 'dividendYield': 0.02619185314866511, 'enterpriseValueMultiple': 16.35882078500414, 'priceFairValue': 6.392436684508072}]\n",
      "[{'symbol': 'PG', 'date': '2024-06-30', 'calendarYear': '2024', 'period': 'FY', 'revenuePerShare': 35.60823693911275, 'netIncomePerShare': 6.304393881615185, 'operatingCashFlowPerShare': 8.40896572179145, 'freeCashFlowPerShare': 7.0013982458370405, 'cashPerShare': 4.0176263717639085, 'bookValuePerShare': 21.422397356044236, 'tangibleBookValuePerShare': -4.995974746832761, 'shareholdersEquityPerShare': 21.307148002203295, 'interestDebtPerShare': 14.530740222871913, 'marketCap': 384035472000, 'enterpriseValue': 407922472000, 'peRatio': 25.810570065192554, 'priceToSalesRatio': 4.569729197158462, 'pocfratio': 19.350774564143908, 'pfcfRatio': 23.241071895424838, 'pbRatio': 7.6368737844771015, 'ptbRatio': 7.6368737844771015, 'evToSales': 4.853966277561608, 'enterpriseValueOverEBITDA': 18.064054202462138, 'evToOperatingCashFlow': 20.55439242164668, 'evToFreeCashFlow': 24.68666618252239, 'earningsYield': 0.03874381687324967, 'freeCashFlowYield': 0.04302727535543904, 'debtToEquity': 0.6635711018752362, 'debtToAssets': 0.2726893846531013, 'netDebtToEBITDA': 1.0577893897794703, 'currentRatio': 0.7347964433342254, 'interestCoverage': 20.048648648648648, 'incomeQuality': 1.3338261979971773, 'dividendYield': 0.024247760113159544, 'payoutRatio': 0.6258485113246858, 'salesGeneralAndAdministrativeToRevenue': 0, 'researchAndDdevelopementToRevenue': 0, 'intangiblesToTotalAssets': 0.5095203072648525, 'capexToOperatingCashFlow': 0.16738889448755417, 'capexToRevenue': 0.03952926617403824, 'capexToDepreciation': 1.147099447513812, 'stockBasedCompensationToRevenue': 0.006687371339497138, 'grahamNumber': 54.97631038678926, 'roic': 0.153899587853079, 'returnOnTangibleAssets': 0.24790069976674442, 'grahamNetNet': -22.978899199186475, 'workingCapital': -8918000000, 'tangibleAssetValue': -11791000000, 'netCurrentAssetValue': -47102000000, 'investedCapital': 76459000000, 'averageReceivables': 5794500000, 'averagePayables': 14981000000, 'averageInventory': 7044500000, 'daysSalesOutstanding': 26.5718297457133, 'daysPayablesOutstanding': 137.28603603603605, 'daysOfInventoryOnHand': 62.691931061496284, 'receivablesTurnover': 13.736351748937562, 'payablesTurnover': 2.658682634730539, 'inventoryTurnover': 5.82212086659065, 'roe': 0.295881639389902, 'capexPerShare': 1.4075674759544088}, {'symbol': 'PG', 'date': '2023-06-30', 'calendarYear': '2023', 'period': 'FY', 'revenuePerShare': 34.62798750105566, 'netIncomePerShare': 6.1873997128620895, 'operatingCashFlowPerShare': 7.114263997973144, 'freeCashFlowPerShare': 5.821298876784056, 'cashPerShare': 3.4819694282577487, 'bookValuePerShare': 19.87374377164091, 'tangibleBookValuePerShare': -7.337640401993075, 'shareholdersEquityPerShare': 19.752132421248206, 'interestDebtPerShare': 14.93243813867072, 'marketCap': 359350668000, 'enterpriseValue': 385711668000, 'peRatio': 24.524033849723608, 'priceToSalesRatio': 4.382004585030364, 'pocfratio': 21.32898076923077, 'pfcfRatio': 26.066347599013493, 'pbRatio': 7.682208521281827, 'ptbRatio': 7.682208521281827, 'evToSales': 4.7034566739019095, 'enterpriseValueOverEBITDA': 17.674548320579206, 'evToOperatingCashFlow': 22.89361752136752, 'evToFreeCashFlow': 27.9785048600029, 'earningsYield': 0.0407763260370508, 'freeCashFlowYield': 0.03836364094361444, 'debtToEquity': 0.739829403339248, 'debtToAssets': 0.28641302998452356, 'netDebtToEBITDA': 1.2079457453145763, 'currentRatio': 0.6334041839131894, 'interestCoverage': 23.986772486772487, 'incomeQuality': 1.1431673225675125, 'dividendYield': 0.02504239118319936, 'payoutRatio': 0.614140449054801, 'salesGeneralAndAdministrativeToRevenue': 0, 'researchAndDdevelopementToRevenue': 0, 'intangiblesToTotalAssets': 0.5333322298454841, 'capexToOperatingCashFlow': 0.1817426400759734, 'capexToRevenue': 0.037338731312343, 'capexToDepreciation': 1.1282240235814296, 'stockBasedCompensationToRevenue': 0.0066458551813281955, 'grahamNumber': 52.43875108745455, 'roic': 0.1524447944436388, 'returnOnTangibleAssets': 0.25986486246829943, 'grahamNetNet': -24.439764378008615, 'workingCapital': -13108000000, 'tangibleAssetValue': -17377000000, 'netCurrentAssetValue': -51116000000, 'investedCapital': 73243000000, 'averageReceivables': 5307000000, 'averagePayables': 14740000000, 'averageInventory': 6998500000, 'daysSalesOutstanding': 24.350840182425678, 'daysPayablesOutstanding': 124.60874649204865, 'daysOfInventoryOnHand': 60.375233863423766, 'receivablesTurnover': 14.989215865472492, 'payablesTurnover': 2.9291683792300316, 'inventoryTurnover': 6.0455252368160615, 'roe': 0.31325223934839774, 'capexPerShare': 1.2929651211890887}, {'symbol': 'PG', 'date': '2022-06-30', 'calendarYear': '2022', 'period': 'FY', 'revenuePerShare': 33.26847280421524, 'netIncomePerShare': 6.116251089076049, 'operatingCashFlowPerShare': 6.93814048043812, 'freeCashFlowPerShare': 5.628759905405966, 'cashPerShare': 2.992988424677426, 'bookValuePerShare': 19.439073974194084, 'tangibleBookValuePerShare': -6.8559930299132885, 'shareholdersEquityPerShare': 19.329129154047212, 'interestDebtPerShare': 13.248143384640915, 'marketCap': 346577037000, 'enterpriseValue': 370856037000, 'peRatio': 23.509499185999182, 'priceToSalesRatio': 4.322110030304164, 'pocfratio': 20.724573162710037, 'pfcfRatio': 25.54559128768335, 'pbRatio': 7.439031466655219, 'ptbRatio': 7.439031466655219, 'evToSales': 4.624889782633095, 'enterpriseValueOverEBITDA': 17.45944338778777, 'evToOperatingCashFlow': 22.17640596782874, 'evToFreeCashFlow': 27.33515419768556, 'earningsYield': 0.04253599755946901, 'freeCashFlowYield': 0.039145697930356535, 'debtToEquity': 0.6759750155616132, 'debtToAssets': 0.26869326325848064, 'netDebtToEBITDA': 1.1430252812956077, 'currentRatio': 0.6545449049303226, 'interestCoverage': 40.57630979498861, 'incomeQuality': 1.1304671128236328, 'dividendYield': 0.025304619359418207, 'payoutRatio': 0.5948989282322615, 'salesGeneralAndAdministrativeToRevenue': 0, 'researchAndDdevelopementToRevenue': 0, 'intangiblesToTotalAssets': 0.5407395399631425, 'capexToOperatingCashFlow': 0.188722119236979, 'capexToRevenue': 0.03935800067342587, 'capexToDepreciation': 1.1243320270751693, 'stockBasedCompensationToRevenue': 0.006584608477683415, 'grahamNumber': 51.57509731338361, 'roic': 0.15749470055549447, 'returnOnTangibleAssets': 0.2738672462798863, 'grahamNetNet': -23.159254034767457, 'workingCapital': -11428000000, 'tangibleAssetValue': -16525000000, 'netCurrentAssetValue': -48701000000, 'investedCapital': 73146000000, 'averageReceivables': 4934000000, 'averagePayables': 14301000000, 'averageInventory': 6453500000, 'daysSalesOutstanding': 23.41021611981992, 'daysPayablesOutstanding': 128.85001304646914, 'daysOfInventoryOnHand': 59.94876295751595, 'receivablesTurnover': 15.591483569900836, 'payablesTurnover': 2.832750974331407, 'inventoryTurnover': 6.088532640092432, 'roe': 0.31642662431045954, 'capexPerShare': 1.3093805750321537}, {'symbol': 'PG', 'date': '2021-06-30', 'calendarYear': '2021', 'period': 'FY', 'revenuePerShare': 30.86949468732257, 'netIncomePerShare': 5.8017681888231, 'operatingCashFlowPerShare': 7.450320382837213, 'freeCashFlowPerShare': 6.32005839889691, 'cashPerShare': 4.172276745883689, 'bookValuePerShare': 18.9204315029605, 'tangibleBookValuePerShare': -7.2641738989374645, 'shareholdersEquityPerShare': 18.808500283883525, 'interestDebtPerShare': 13.176251115256711, 'marketCap': 332710394000, 'enterpriseValue': 354410394000, 'peRatio': 23.256703061652452, 'priceToSalesRatio': 4.370981817704091, 'pocfratio': 18.11063055903326, 'pfcfRatio': 21.349486267967144, 'pbRatio': 7.17388403984648, 'ptbRatio': 7.17388403984648, 'evToSales': 4.656065503560262, 'enterpriseValueOverEBITDA': 16.99647007481297, 'evToOperatingCashFlow': 19.29184007402972, 'evToFreeCashFlow': 22.74194006673511, 'earningsYield': 0.042998356101853555, 'freeCashFlowYield': 0.04683953456530727, 'debtToEquity': 0.6897235758333693, 'debtToAssets': 0.2681150309705214, 'netDebtToEBITDA': 1.0406675618645693, 'currentRatio': 0.6969395146685984, 'interestCoverage': 35.82868525896414, 'incomeQuality': 1.2800306577480491, 'dividendYield': 0.024835412866602537, 'payoutRatio': 0.577589822452118, 'salesGeneralAndAdministrativeToRevenue': 0, 'researchAndDdevelopementToRevenue': 0, 'intangiblesToTotalAssets': 0.5411752872840655, 'capexToOperatingCashFlow': 0.15170649393065158, 'capexToRevenue': 0.03661420426180404, 'capexToDepreciation': 1.0190127970749543, 'stockBasedCompensationToRevenue': 0.007094248403794109, 'grahamNumber': 49.55055568907758, 'roic': 0.1537973826890437, 'returnOnTangibleAssets': 0.2613397636141101, 'grahamNetNet': -22.641637602400845, 'workingCapital': -10041000000, 'tangibleAssetValue': -17912000000, 'netCurrentAssetValue': -49562000000, 'investedCapital': 76211000000, 'averageReceivables': 4451500000, 'averagePayables': 12895500000, 'averageInventory': 5740500000, 'daysSalesOutstanding': 22.657255839617438, 'daysPayablesOutstanding': 134.95203190686644, 'daysOfInventoryOnHand': 58.84970895763716, 'receivablesTurnover': 16.10962962962963, 'payablesTurnover': 2.70466472303207, 'inventoryTurnover': 6.2022396790907575, 'roe': 0.30846522057872267, 'capexPerShare': 1.1302619839403034}, {'symbol': 'PG', 'date': '2020-06-30', 'calendarYear': '2020', 'period': 'FY', 'revenuePerShare': 28.52720035382574, 'netIncomePerShare': 5.237827188291584, 'operatingCashFlowPerShare': 6.997306099473282, 'freeCashFlowPerShare': 5.761730529532387, 'cashPerShare': 6.505970809376382, 'bookValuePerShare': 18.848458043504483, 'tangibleBookValuePerShare': -6.760886172650879, 'shareholdersEquityPerShare': 18.704917373648023, 'interestDebtPerShare': 14.14699851232359, 'marketCap': 297382547000, 'enterpriseValue': 315921547000, 'peRatio': 22.82816818914562, 'priceToSalesRatio': 4.1914382945736435, 'pocfratio': 17.08800476929265, 'pfcfRatio': 20.752445708304258, 'pbRatio': 6.392436684508072, 'ptbRatio': 6.392436684508072, 'evToSales': 4.452734982381959, 'enterpriseValueOverEBITDA': 16.35882078500414, 'evToOperatingCashFlow': 18.153280871114177, 'evToFreeCashFlow': 22.04616517794836, 'earningsYield': 0.04380552971725002, 'freeCashFlowYield': 0.04818709149061125, 'debtToEquity': 0.7463296145826616, 'debtToAssets': 0.28765534382767194, 'netDebtToEBITDA': 0.9599730737365368, 'currentRatio': 0.8487081513828238, 'interestCoverage': 33.7763440860215, 'incomeQuality': 1.3281691215752118, 'dividendYield': 0.02619185314866511, 'payoutRatio': 0.5979120288631304, 'salesGeneralAndAdministrativeToRevenue': 0, 'researchAndDdevelopementToRevenue': 0, 'intangiblesToTotalAssets': 0.5276967688483845, 'capexToOperatingCashFlow': 0.17657875079009366, 'capexToRevenue': 0.043312191684284705, 'capexToDepreciation': 1.0199137072685032, 'stockBasedCompensationToRevenue': 0.007864693446088795, 'grahamNumber': 46.950988354079705, 'roic': 0.13109028149786572, 'returnOnTangibleAssets': 0.22851579630571683, 'grahamNetNet': -20.81078364360098, 'workingCapital': -4989000000, 'tangibleAssetValue': -16815000000, 'netCurrentAssetValue': -45835000000, 'investedCapital': 79396000000, 'averageReceivables': 4564500000, 'averagePayables': 11665500000, 'averageInventory': 5257500000, 'daysSalesOutstanding': 21.49358703312192, 'daysPayablesOutstanding': 124.99049645390072, 'daysOfInventoryOnHand': 56.929645390070924, 'receivablesTurnover': 16.981809478219244, 'payablesTurnover': 2.920222019716676, 'inventoryTurnover': 6.411422335394689, 'roe': 0.2800240751488575, 'capexPerShare': 1.235575569940895}]\n",
      "[{'symbol': 'PG', 'price': 167.97, 'beta': 0.4, 'volAvg': 7531620, 'mktCap': 393864454500, 'lastDiv': 4.026, 'range': '153.52-180.43', 'changes': -0.62, 'companyName': 'The Procter & Gamble Company', 'currency': 'USD', 'cik': '0000080424', 'isin': 'US7427181091', 'cusip': '742718109', 'exchange': 'New York Stock Exchange', 'exchangeShortName': 'NYSE', 'industry': 'Household & Personal Products', 'website': 'https://www.pginvestor.com', 'description': 'The Procter & Gamble Company provides branded consumer packaged goods worldwide. It operates through five segments: Beauty; Grooming; Health Care; Fabric & Home Care; and Baby, Feminine & Family Care. The Beauty segment offers conditioners, shampoos, styling aids, and treatments under the Head & Shoulders, Herbal Essences, Pantene, and Rejoice brands; and antiperspirants and deodorants, personal cleansing, and skin care products under the Olay, Old Spice, Safeguard, Secret, and SK-II brands. The Grooming segment provides shave care products and appliances under the Braun, Gillette, and Venus brand names. The Health Care segment offers toothbrushes, toothpastes, and other oral care products under the Crest and Oral-B brand names; and gastrointestinal, rapid diagnostics, respiratory, vitamins/minerals/supplements, pain relief, and other personal health care products under the Metamucil, Neurobion, Pepto-Bismol, and Vicks brands. The Fabric & Home Care segment provides fabric enhancers, laundry additives, and laundry detergents under the Ariel, Downy, Gain, and Tide brands; and air care, dish care, P&G professional, and surface care products under the Cascade, Dawn, Fairy, Febreze, Mr. Clean, and Swiffer brands. The Baby, Feminine & Family Care segment offers baby wipes, taped diapers, and pants under the Luvs and Pampers brands; adult incontinence and feminine care products under the Always, Always Discreet, and Tampax brands; and paper towels, tissues, and toilet papers under the Bounty, Charmin, and Puffs brands. The company sells its products primarily through mass merchandisers, e-commerce, grocery stores, membership club stores, drug stores, department stores, distributors, wholesalers, specialty beauty stores, high-frequency stores, pharmacies, electronics stores, and professional channels, as well as directly to consumers. The Procter & Gamble Company was founded in 1837 and is headquartered in Cincinnati, Ohio.', 'ceo': 'Mr. Jon R. Moeller', 'sector': 'Consumer Defensive', 'country': 'US', 'fullTimeEmployees': '108000', 'phone': '513 983 1100', 'address': 'One Procter & Gamble Plaza', 'city': 'Cincinnati', 'state': 'OH', 'zip': '45202', 'dcfDiff': -72.83222, 'dcf': 240.80221617269382, 'image': 'https://images.financialmodelingprep.com/symbol/PG.png', 'ipoDate': '1978-01-13', 'defaultImage': False, 'isEtf': False, 'isActivelyTrading': True, 'isAdr': False, 'isFund': False}]\n",
      "[{'symbol': 'PG', 'date': '2025-03-14', 'rating': 'B+', 'ratingScore': 3, 'ratingRecommendation': 'Neutral', 'ratingDetailsDCFScore': 4, 'ratingDetailsDCFRecommendation': 'Buy', 'ratingDetailsROEScore': 5, 'ratingDetailsROERecommendation': 'Strong Buy', 'ratingDetailsROAScore': 5, 'ratingDetailsROARecommendation': 'Strong Buy', 'ratingDetailsDEScore': 2, 'ratingDetailsDERecommendation': 'Sell', 'ratingDetailsPEScore': 1, 'ratingDetailsPERecommendation': 'Strong Sell', 'ratingDetailsPBScore': 1, 'ratingDetailsPBRecommendation': 'Strong Sell'}]\n",
      "[{'date': '2025-01-22', 'symbol': 'PG', 'actualEarningResult': 1.88, 'estimatedEarning': 1.89}, {'date': '2024-10-18', 'symbol': 'PG', 'actualEarningResult': 1.93, 'estimatedEarning': 1.9}, {'date': '2024-07-30', 'symbol': 'PG', 'actualEarningResult': 1.4, 'estimatedEarning': 1.37}, {'date': '2024-04-19', 'symbol': 'PG', 'actualEarningResult': 1.52, 'estimatedEarning': 1.41}, {'date': '2024-01-23', 'symbol': 'PG', 'actualEarningResult': 1.84, 'estimatedEarning': 1.7}, {'date': '2023-10-18', 'symbol': 'PG', 'actualEarningResult': 1.83, 'estimatedEarning': 1.72}, {'date': '2023-07-28', 'symbol': 'PG', 'actualEarningResult': 1.37, 'estimatedEarning': 1.32}, {'date': '2023-04-21', 'symbol': 'PG', 'actualEarningResult': 1.37, 'estimatedEarning': 1.32}, {'date': '2023-01-19', 'symbol': 'PG', 'actualEarningResult': 1.59, 'estimatedEarning': 1.59}, {'date': '2022-10-19', 'symbol': 'PG', 'actualEarningResult': 1.57, 'estimatedEarning': 1.54}, {'date': '2022-07-29', 'symbol': 'PG', 'actualEarningResult': 1.21, 'estimatedEarning': 1.22}, {'date': '2022-04-20', 'symbol': 'PG', 'actualEarningResult': 1.33, 'estimatedEarning': 1.29}, {'date': '2022-01-19', 'symbol': 'PG', 'actualEarningResult': 1.66, 'estimatedEarning': 1.65}, {'date': '2021-10-19', 'symbol': 'PG', 'actualEarningResult': 1.61, 'estimatedEarning': 1.59}, {'date': '2021-07-30', 'symbol': 'PG', 'actualEarningResult': 1.13, 'estimatedEarning': 1.08}, {'date': '2021-04-20', 'symbol': 'PG', 'actualEarningResult': 1.26, 'estimatedEarning': 1.19}, {'date': '2021-01-20', 'symbol': 'PG', 'actualEarningResult': 1.64, 'estimatedEarning': 1.51}, {'date': '2020-10-20', 'symbol': 'PG', 'actualEarningResult': 1.63, 'estimatedEarning': 1.42}, {'date': '2020-07-30', 'symbol': 'PG', 'actualEarningResult': 1.16, 'estimatedEarning': 1.01}, {'date': '2020-04-17', 'symbol': 'PG', 'actualEarningResult': 1.17, 'estimatedEarning': 1.13}, {'date': '2020-01-23', 'symbol': 'PG', 'actualEarningResult': 1.42, 'estimatedEarning': 1.37}, {'date': '2019-10-22', 'symbol': 'PG', 'actualEarningResult': 1.37, 'estimatedEarning': 1.24}, {'date': '2019-07-30', 'symbol': 'PG', 'actualEarningResult': 1.1, 'estimatedEarning': 1.06}, {'date': '2019-04-23', 'symbol': 'PG', 'actualEarningResult': 1.06, 'estimatedEarning': 1.03}, {'date': '2019-01-23', 'symbol': 'PG', 'actualEarningResult': 1.25, 'estimatedEarning': 1.21}, {'date': '2018-10-19', 'symbol': 'PG', 'actualEarningResult': 1.12, 'estimatedEarning': 1.09}, {'date': '2018-07-31', 'symbol': 'PG', 'actualEarningResult': 0.94, 'estimatedEarning': 0.9}, {'date': '2018-04-19', 'symbol': 'PG', 'actualEarningResult': 1, 'estimatedEarning': 0.98}, {'date': '2018-01-23', 'symbol': 'PG', 'actualEarningResult': 1.19, 'estimatedEarning': 1.14}, {'date': '2017-10-20', 'symbol': 'PG', 'actualEarningResult': 1.09, 'estimatedEarning': 1.08}, {'date': '2017-07-27', 'symbol': 'PG', 'actualEarningResult': 0.85, 'estimatedEarning': 0.78}, {'date': '2017-04-26', 'symbol': 'PG', 'actualEarningResult': 0.96, 'estimatedEarning': 0.94}, {'date': '2017-01-20', 'symbol': 'PG', 'actualEarningResult': 1.08, 'estimatedEarning': 1.06}, {'date': '2016-10-25', 'symbol': 'PG', 'actualEarningResult': 1.03, 'estimatedEarning': 0.98}, {'date': '2016-08-02', 'symbol': 'PG', 'actualEarningResult': 0.79, 'estimatedEarning': 0.74}, {'date': '2016-04-26', 'symbol': 'PG', 'actualEarningResult': 0.86, 'estimatedEarning': 0.82}, {'date': '2016-01-26', 'symbol': 'PG', 'actualEarningResult': 1.04, 'estimatedEarning': 0.98}, {'date': '2015-10-23', 'symbol': 'PG', 'actualEarningResult': 0.98, 'estimatedEarning': 0.95}, {'date': '2015-07-30', 'symbol': 'PG', 'actualEarningResult': 1, 'estimatedEarning': 0.94}, {'date': '2015-04-23', 'symbol': 'PG', 'actualEarningResult': 0.92, 'estimatedEarning': 0.92}, {'date': '2015-01-27', 'symbol': 'PG', 'actualEarningResult': 1.06, 'estimatedEarning': 1.13}, {'date': '2014-10-24', 'symbol': 'PG', 'actualEarningResult': 1.07, 'estimatedEarning': 1.08}, {'date': '2014-08-01', 'symbol': 'PG', 'actualEarningResult': 0.95, 'estimatedEarning': 0.91}, {'date': '2014-04-23', 'symbol': 'PG', 'actualEarningResult': 1.04, 'estimatedEarning': 1.01}, {'date': '2014-01-24', 'symbol': 'PG', 'actualEarningResult': 1.21, 'estimatedEarning': 1.2}, {'date': '2013-10-25', 'symbol': 'PG', 'actualEarningResult': 1.05, 'estimatedEarning': 1.05}, {'date': '2013-08-01', 'symbol': 'PG', 'actualEarningResult': 0.79, 'estimatedEarning': 0.77}, {'date': '2013-04-24', 'symbol': 'PG', 'actualEarningResult': 0.99, 'estimatedEarning': 0.96}, {'date': '2013-01-25', 'symbol': 'PG', 'actualEarningResult': 1.22, 'estimatedEarning': 1.11}, {'date': '2012-10-25', 'symbol': 'PG', 'actualEarningResult': 1.06, 'estimatedEarning': 0.96}, {'date': '2012-08-03', 'symbol': 'PG', 'actualEarningResult': 0.82, 'estimatedEarning': 0.77}, {'date': '2012-04-27', 'symbol': 'PG', 'actualEarningResult': 0.94, 'estimatedEarning': 0.93}, {'date': '2012-01-27', 'symbol': 'PG', 'actualEarningResult': 1.1, 'estimatedEarning': 1.08}, {'date': '2011-10-27', 'symbol': 'PG', 'actualEarningResult': 1.03, 'estimatedEarning': 1.03}, {'date': '2011-08-05', 'symbol': 'PG', 'actualEarningResult': 0.84, 'estimatedEarning': 0.82}, {'date': '2011-04-28', 'symbol': 'PG', 'actualEarningResult': 0.96, 'estimatedEarning': 0.97}, {'date': '2011-01-27', 'symbol': 'PG', 'actualEarningResult': 1.13, 'estimatedEarning': 1.1}, {'date': '2010-10-27', 'symbol': 'PG', 'actualEarningResult': 1.02, 'estimatedEarning': 1}, {'date': '2010-08-03', 'symbol': 'PG', 'actualEarningResult': 0.71, 'estimatedEarning': 0.73}, {'date': '2010-04-29', 'symbol': 'PG', 'actualEarningResult': 0.83, 'estimatedEarning': 0.82}, {'date': '2010-01-28', 'symbol': 'PG', 'actualEarningResult': 1.49, 'estimatedEarning': 1.42}, {'date': '2009-10-29', 'symbol': 'PG', 'actualEarningResult': 1.06, 'estimatedEarning': 0.99}, {'date': '2009-08-05', 'symbol': 'PG', 'actualEarningResult': 0.8, 'estimatedEarning': 0.79}, {'date': '2009-04-30', 'symbol': 'PG', 'actualEarningResult': 0.84, 'estimatedEarning': 0.8}, {'date': '2009-01-30', 'symbol': 'PG', 'actualEarningResult': 1.58, 'estimatedEarning': 1.58}, {'date': '2008-10-29', 'symbol': 'PG', 'actualEarningResult': 1.03, 'estimatedEarning': 0.98}, {'date': '2008-08-05', 'symbol': 'PG', 'actualEarningResult': 0.92, 'estimatedEarning': 0.78}, {'date': '2008-04-30', 'symbol': 'PG', 'actualEarningResult': 0.82, 'estimatedEarning': 0.81}, {'date': '2008-01-31', 'symbol': 'PG', 'actualEarningResult': 0.98, 'estimatedEarning': 0.97}, {'date': '2007-10-30', 'symbol': 'PG', 'actualEarningResult': 0.92, 'estimatedEarning': 0.89}, {'date': '2007-08-03', 'symbol': 'PG', 'actualEarningResult': 0.67, 'estimatedEarning': 0.66}, {'date': '2007-05-01', 'symbol': 'PG', 'actualEarningResult': 0.74, 'estimatedEarning': 0.74}, {'date': '2007-01-30', 'symbol': 'PG', 'actualEarningResult': 0.84, 'estimatedEarning': 0.83}, {'date': '2006-10-31', 'symbol': 'PG', 'actualEarningResult': 0.79, 'estimatedEarning': 0.78}, {'date': '2006-08-02', 'symbol': 'PG', 'actualEarningResult': 0.55, 'estimatedEarning': 0.54}, {'date': '2006-05-03', 'symbol': 'PG', 'actualEarningResult': 0.63, 'estimatedEarning': 0.61}, {'date': '2006-01-27', 'symbol': 'PG', 'actualEarningResult': 0.72, 'estimatedEarning': 0.69}, {'date': '2005-11-01', 'symbol': 'PG', 'actualEarningResult': 0.77, 'estimatedEarning': 0.76}, {'date': '2005-08-01', 'symbol': 'PG', 'actualEarningResult': 0.56, 'estimatedEarning': 0.55}, {'date': '2005-04-28', 'symbol': 'PG', 'actualEarningResult': 0.63, 'estimatedEarning': 0.61}, {'date': '2005-01-27', 'symbol': 'PG', 'actualEarningResult': 0.74, 'estimatedEarning': 0.72}, {'date': '2004-10-27', 'symbol': 'PG', 'actualEarningResult': 0.73, 'estimatedEarning': 0.72}, {'date': '2004-08-02', 'symbol': 'PG', 'actualEarningResult': 0.5, 'estimatedEarning': 0.48}, {'date': '2004-04-30', 'symbol': 'PG', 'actualEarningResult': 0.55, 'estimatedEarning': 0.54}, {'date': '2004-01-28', 'symbol': 'PG', 'actualEarningResult': 0.65, 'estimatedEarning': 0.64}, {'date': '2003-10-27', 'symbol': 'PG', 'actualEarningResult': 0.63, 'estimatedEarning': 0.63}, {'date': '2003-07-31', 'symbol': 'PG', 'actualEarningResult': 0.43, 'estimatedEarning': 0.43}, {'date': '2003-04-28', 'symbol': 'PG', 'actualEarningResult': 0.48, 'estimatedEarning': 0.48}, {'date': '2003-01-28', 'symbol': 'PG', 'actualEarningResult': 0.56, 'estimatedEarning': 0.56}, {'date': '2002-10-29', 'symbol': 'PG', 'actualEarningResult': 0.56, 'estimatedEarning': 0.55}, {'date': '2002-08-05', 'symbol': 'PG', 'actualEarningResult': 0.38, 'estimatedEarning': 0.37}, {'date': '2002-04-30', 'symbol': 'PG', 'actualEarningResult': 0.42, 'estimatedEarning': 0.41}, {'date': '2002-01-31', 'symbol': 'PG', 'actualEarningResult': 0.51, 'estimatedEarning': 0.51}, {'date': '2001-10-30', 'symbol': 'PG', 'actualEarningResult': 0.48, 'estimatedEarning': 0.47}, {'date': '2001-08-07', 'symbol': 'PG', 'actualEarningResult': 0.3, 'estimatedEarning': 0.29}, {'date': '2001-05-01', 'symbol': 'PG', 'actualEarningResult': 0.36, 'estimatedEarning': 0.35}, {'date': '2001-01-30', 'symbol': 'PG', 'actualEarningResult': 0.47, 'estimatedEarning': 0.46}, {'date': '2000-10-31', 'symbol': 'PG', 'actualEarningResult': 0.44, 'estimatedEarning': 0.5}, {'date': '2000-08-01', 'symbol': 'PG', 'actualEarningResult': 0.28, 'estimatedEarning': 0.27}, {'date': '2000-04-25', 'symbol': 'PG', 'actualEarningResult': 0.32, 'estimatedEarning': 0.32}, {'date': '2000-01-25', 'symbol': 'PG', 'actualEarningResult': 0.44, 'estimatedEarning': 0.44}, {'date': '1999-10-28', 'symbol': 'PG', 'actualEarningResult': 0.44, 'estimatedEarning': 0.44}, {'date': '1999-07-29', 'symbol': 'PG', 'actualEarningResult': 0.28, 'estimatedEarning': 0.27}, {'date': '1999-04-22', 'symbol': 'PG', 'actualEarningResult': 0.38, 'estimatedEarning': 0.35}, {'date': '1999-01-25', 'symbol': 'PG', 'actualEarningResult': 0.39, 'estimatedEarning': 0.39}, {'date': '1998-10-22', 'symbol': 'PG', 'actualEarningResult': 0.4, 'estimatedEarning': 0.39}, {'date': '1998-07-30', 'symbol': 'PG', 'actualEarningResult': 0.25, 'estimatedEarning': 0.24}, {'date': '1998-04-23', 'symbol': 'PG', 'actualEarningResult': 0.33, 'estimatedEarning': 0.32}, {'date': '1998-01-27', 'symbol': 'PG', 'actualEarningResult': 0.38, 'estimatedEarning': 0.38}, {'date': '1997-10-22', 'symbol': 'PG', 'actualEarningResult': 0.4, 'estimatedEarning': 0.39}, {'date': '1997-07-31', 'symbol': 'PG', 'actualEarningResult': 0.22, 'estimatedEarning': 0.21}, {'date': '1997-04-24', 'symbol': 'PG', 'actualEarningResult': 0.32, 'estimatedEarning': 0.31}, {'date': '1997-01-28', 'symbol': 'PG', 'actualEarningResult': 0.34, 'estimatedEarning': 0.33}, {'date': '1996-10-24', 'symbol': 'PG', 'actualEarningResult': 0.35, 'estimatedEarning': 0.34}, {'date': '1996-08-08', 'symbol': 'PG', 'actualEarningResult': 0.19, 'estimatedEarning': 0.19}, {'date': '1996-04-25', 'symbol': 'PG', 'actualEarningResult': 0.27, 'estimatedEarning': 0.27}, {'date': '1996-01-25', 'symbol': 'PG', 'actualEarningResult': 0.3, 'estimatedEarning': 0.3}, {'date': '1995-10-25', 'symbol': 'PG', 'actualEarningResult': 0.32, 'estimatedEarning': 0.32}, {'date': '1995-08-10', 'symbol': 'PG', 'actualEarningResult': 0.16, 'estimatedEarning': 0.16}, {'date': '1995-04-27', 'symbol': 'PG', 'actualEarningResult': 0.24, 'estimatedEarning': 0.23}, {'date': '1995-01-26', 'symbol': 'PG', 'actualEarningResult': 0.27, 'estimatedEarning': 0.26}, {'date': '1994-10-26', 'symbol': 'PG', 'actualEarningResult': 0.28, 'estimatedEarning': 0.27}, {'date': '1994-08-10', 'symbol': 'PG', 'actualEarningResult': 0.14, 'estimatedEarning': 0.13}, {'date': '1994-04-27', 'symbol': 'PG', 'actualEarningResult': 0.2, 'estimatedEarning': 0.2}, {'date': '1994-01-28', 'symbol': 'PG', 'actualEarningResult': 0.23, 'estimatedEarning': 0.23}, {'date': '1993-10-26', 'symbol': 'PG', 'actualEarningResult': 0.24, 'estimatedEarning': 0.23}, {'date': '1993-08-10', 'symbol': 'PG', 'actualEarningResult': 0.12, 'estimatedEarning': 0.12}, {'date': '1993-04-27', 'symbol': 'PG', 'actualEarningResult': 0.18, 'estimatedEarning': 0.17}, {'date': '1993-01-28', 'symbol': 'PG', 'actualEarningResult': 0.21, 'estimatedEarning': 0.21}]\n"
     ]
    }
   ],
   "source": [
    "# Debugging\n",
    "print(IS)\n",
    "print(BS)\n",
    "print(CF)\n",
    "print(Ratios)\n",
    "print(Metrics)\n",
    "print(Profile)\n",
    "print(Rating)\n",
    "print(Surprises)"
   ]
  },
  {
   "cell_type": "markdown",
   "id": "5bb4c0af",
   "metadata": {},
   "source": [
    "<a id=\"fmp_to_df\"></a>\n",
    "### Transforming the downloaded data to a dataframe[*](#index)"
   ]
  },
  {
   "cell_type": "code",
   "execution_count": 9,
   "id": "1e0d1659",
   "metadata": {},
   "outputs": [
    {
     "name": "stdout",
     "output_type": "stream",
     "text": [
      "Done importing FMP to pandas.\n",
      "\n"
     ]
    }
   ],
   "source": [
    "# Exploring the downloaded information:\n",
    "is_df = pd.DataFrame(IS)\n",
    "bs_df = pd.DataFrame(BS)\n",
    "cf_df = pd.DataFrame(CF)\n",
    "ratios_df = pd.DataFrame(Ratios)\n",
    "metrics_df = pd.DataFrame(Metrics)\n",
    "profile_df = pd.DataFrame(Profile)\n",
    "rating_df = pd.DataFrame(Rating)\n",
    "surprises_df = pd.DataFrame(Surprises)\n",
    "# stock_peers_df = pd.DataFrame(Peers)\n",
    "\n",
    "print(\"Done importing FMP to pandas.\\n\")\n",
    "\n"
   ]
  },
  {
   "cell_type": "code",
   "execution_count": 10,
   "id": "437138f8",
   "metadata": {},
   "outputs": [],
   "source": [
    "# Debugging:\n",
    "# is_df.head(5)\n",
    "# bs_df.head()\n",
    "# cf_df.head()\n",
    "# ratios_df.head(10)\n",
    "# metrics_df.head()\n",
    "# profile_df.head()\n",
    "# rating_df.head()\n",
    "# surprises_df.head()\n",
    "# stock_peers_df.head()"
   ]
  },
  {
   "cell_type": "markdown",
   "id": "8fc696cc-a416-4647-bd1b-83da91627a7e",
   "metadata": {},
   "source": [
    "<a id=\"filter_df2\"></a>\n",
    "### Filter dataframe for selected period and sort descending[*](#index)"
   ]
  },
  {
   "cell_type": "code",
   "execution_count": 11,
   "id": "41528a70-5d1f-4fad-b1f5-9af3af96944d",
   "metadata": {},
   "outputs": [
    {
     "name": "stdout",
     "output_type": "stream",
     "text": [
      "Done sorting the dates in descending order.\n",
      "\n"
     ]
    }
   ],
   "source": [
    "# Sort the data years in descending order (2022 -> 2023 -> 2024)\n",
    "bs_df.sort_index(ascending=False, inplace=True)\n",
    "is_df.sort_index(ascending=False, inplace=True)\n",
    "cf_df.sort_index(ascending=False, inplace=True)\n",
    "\n",
    "print(\"Done sorting the dates in descending order.\\n\")"
   ]
  },
  {
   "cell_type": "code",
   "execution_count": 12,
   "id": "3cad5715",
   "metadata": {},
   "outputs": [
    {
     "name": "stdout",
     "output_type": "stream",
     "text": [
      "Done filtering data frames for 5 years.\n",
      "\n"
     ]
    }
   ],
   "source": [
    "# Filter databases for the selected number of years\n",
    "# Useful for paid plan\n",
    "bs_df = bs_df.iloc[-years:]\n",
    "is_df = is_df.iloc[-years:]\n",
    "cf_df = cf_df.iloc[-years:]\n",
    "\n",
    "print(\"Done filtering data frames for\", years, \"years.\\n\")"
   ]
  },
  {
   "cell_type": "markdown",
   "id": "6bba9faa-1fff-45f7-9626-6ebb8a39307e",
   "metadata": {},
   "source": [
    "<a id=\"get_company_currency\"></a>\n",
    "### Get company currency[*](#index)"
   ]
  },
  {
   "cell_type": "code",
   "execution_count": 13,
   "id": "37aca5fa-bf2e-4baf-95b3-bb72778f7917",
   "metadata": {},
   "outputs": [
    {
     "name": "stdout",
     "output_type": "stream",
     "text": [
      "The currency for company PG is: USD\n"
     ]
    }
   ],
   "source": [
    "# Get company Currency\n",
    "currency = bs_df.iloc[0][\"reportedCurrency\"]\n",
    "print(\"The currency for company \"+company+\" is: \"+currency)"
   ]
  },
  {
   "cell_type": "markdown",
   "id": "2241c1c5-13b6-4d9e-bd64-c8265ad7364c",
   "metadata": {},
   "source": [
    "<a id=\"download_company_image\"></a>\n",
    "### Download company image[*](#index)"
   ]
  },
  {
   "cell_type": "code",
   "execution_count": 14,
   "id": "49a82db0-5d93-4370-83e4-be6fc5d0ff58",
   "metadata": {},
   "outputs": [
    {
     "name": "stdout",
     "output_type": "stream",
     "text": [
      "Company Logo downloaded\n",
      "\n"
     ]
    }
   ],
   "source": [
    "# Download the company image\n",
    "try:\n",
    "    imageurl = profile_df.iloc[0]['image']\n",
    "    r = requests.get(imageurl)\n",
    "    with open(\"images/output/company_logo.png\", \"wb\") as f:\n",
    "        f.write(r.content)\n",
    "    print(\"Company Logo downloaded\\n\")\n",
    "except Exception:\n",
    "    print(\"Could not download company logo\")\n",
    "    pass"
   ]
  },
  {
   "cell_type": "markdown",
   "id": "aa0e4aba-44a3-4d2f-8d9d-a2a9b96ee315",
   "metadata": {},
   "source": [
    "# Process Data"
   ]
  },
  {
   "cell_type": "markdown",
   "id": "cae24c62-87b2-41ae-a4ac-2602e5877f31",
   "metadata": {},
   "source": [
    "<a id=\"graph_df\"></a>\n",
    "### Create graphs [*](#index)"
   ]
  },
  {
   "cell_type": "markdown",
   "id": "ae84b54e-9b79-4c92-8727-fdc6e6f51438",
   "metadata": {},
   "source": [
    "<a id=\"bs_graph\"></a>\n",
    "### [Graph] Balance Sheet: Nominal and Common size [*](#index)"
   ]
  },
  {
   "cell_type": "code",
   "execution_count": 15,
   "id": "faa57a36-cd16-49fd-afb6-21eae20c0585",
   "metadata": {
    "tags": []
   },
   "outputs": [
    {
     "name": "stdout",
     "output_type": "stream",
     "text": [
      "Balance sheet graph created.\n",
      "\n"
     ]
    },
    {
     "data": {
      "application/vnd.plotly.v1+json": {
       "config": {
        "plotlyServerURL": "https://plot.ly"
       },
       "data": [
        {
         "marker": {
          "color": "#003B73"
         },
         "name": "Assets",
         "offsetgroup": "0",
         "textposition": "inside",
         "texttemplate": "%{y:.2s}",
         "type": "bar",
         "x": [
          "2020",
          "2021",
          "2022",
          "2023",
          "2024"
         ],
         "y": [
          120700000000,
          119307000000,
          117208000000,
          120829000000,
          122370000000
         ]
        },
        {
         "marker": {
          "color": "#01949a"
         },
         "name": "Equity",
         "offsetgroup": "1",
         "textposition": "inside",
         "texttemplate": "%{y:.2s}",
         "type": "bar",
         "x": [
          "2020",
          "2021",
          "2022",
          "2023",
          "2024"
         ],
         "y": [
          46521000000,
          46378000000,
          46589000000,
          46777000000,
          50287000000
         ]
        },
        {
         "base": [
          46521000000,
          46378000000,
          46589000000,
          46777000000,
          50287000000
         ],
         "marker": {
          "color": "#db1f48"
         },
         "name": "Liabilities",
         "offsetgroup": "1",
         "textposition": "inside",
         "texttemplate": "%{y:.2s}",
         "type": "bar",
         "x": [
          "2020",
          "2021",
          "2022",
          "2023",
          "2024"
         ],
         "y": [
          73822000000,
          72653000000,
          70354000000,
          73764000000,
          71811000000
         ]
        },
        {
         "marker": {
          "color": "#746C70"
         },
         "name": "GW & Intangibles",
         "offsetgroup": "2",
         "textposition": "inside",
         "texttemplate": "%{y:.2s}",
         "type": "bar",
         "x": [
          "2020",
          "2021",
          "2022",
          "2023",
          "2024"
         ],
         "y": [
          63693000000,
          64566000000,
          63379000000,
          64442000000,
          62350000000
         ]
        }
       ],
       "layout": {
        "barmode": "group",
        "height": 400,
        "legend": {
         "orientation": "h",
         "x": 1,
         "xanchor": "right",
         "y": 1,
         "yanchor": "bottom"
        },
        "template": {
         "data": {
          "bar": [
           {
            "error_x": {
             "color": "#2a3f5f"
            },
            "error_y": {
             "color": "#2a3f5f"
            },
            "marker": {
             "line": {
              "color": "#E5ECF6",
              "width": 0.5
             },
             "pattern": {
              "fillmode": "overlay",
              "size": 10,
              "solidity": 0.2
             }
            },
            "type": "bar"
           }
          ],
          "barpolar": [
           {
            "marker": {
             "line": {
              "color": "#E5ECF6",
              "width": 0.5
             },
             "pattern": {
              "fillmode": "overlay",
              "size": 10,
              "solidity": 0.2
             }
            },
            "type": "barpolar"
           }
          ],
          "carpet": [
           {
            "aaxis": {
             "endlinecolor": "#2a3f5f",
             "gridcolor": "white",
             "linecolor": "white",
             "minorgridcolor": "white",
             "startlinecolor": "#2a3f5f"
            },
            "baxis": {
             "endlinecolor": "#2a3f5f",
             "gridcolor": "white",
             "linecolor": "white",
             "minorgridcolor": "white",
             "startlinecolor": "#2a3f5f"
            },
            "type": "carpet"
           }
          ],
          "choropleth": [
           {
            "colorbar": {
             "outlinewidth": 0,
             "ticks": ""
            },
            "type": "choropleth"
           }
          ],
          "contour": [
           {
            "colorbar": {
             "outlinewidth": 0,
             "ticks": ""
            },
            "colorscale": [
             [
              0,
              "#0d0887"
             ],
             [
              0.1111111111111111,
              "#46039f"
             ],
             [
              0.2222222222222222,
              "#7201a8"
             ],
             [
              0.3333333333333333,
              "#9c179e"
             ],
             [
              0.4444444444444444,
              "#bd3786"
             ],
             [
              0.5555555555555556,
              "#d8576b"
             ],
             [
              0.6666666666666666,
              "#ed7953"
             ],
             [
              0.7777777777777778,
              "#fb9f3a"
             ],
             [
              0.8888888888888888,
              "#fdca26"
             ],
             [
              1,
              "#f0f921"
             ]
            ],
            "type": "contour"
           }
          ],
          "contourcarpet": [
           {
            "colorbar": {
             "outlinewidth": 0,
             "ticks": ""
            },
            "type": "contourcarpet"
           }
          ],
          "heatmap": [
           {
            "colorbar": {
             "outlinewidth": 0,
             "ticks": ""
            },
            "colorscale": [
             [
              0,
              "#0d0887"
             ],
             [
              0.1111111111111111,
              "#46039f"
             ],
             [
              0.2222222222222222,
              "#7201a8"
             ],
             [
              0.3333333333333333,
              "#9c179e"
             ],
             [
              0.4444444444444444,
              "#bd3786"
             ],
             [
              0.5555555555555556,
              "#d8576b"
             ],
             [
              0.6666666666666666,
              "#ed7953"
             ],
             [
              0.7777777777777778,
              "#fb9f3a"
             ],
             [
              0.8888888888888888,
              "#fdca26"
             ],
             [
              1,
              "#f0f921"
             ]
            ],
            "type": "heatmap"
           }
          ],
          "histogram": [
           {
            "marker": {
             "pattern": {
              "fillmode": "overlay",
              "size": 10,
              "solidity": 0.2
             }
            },
            "type": "histogram"
           }
          ],
          "histogram2d": [
           {
            "colorbar": {
             "outlinewidth": 0,
             "ticks": ""
            },
            "colorscale": [
             [
              0,
              "#0d0887"
             ],
             [
              0.1111111111111111,
              "#46039f"
             ],
             [
              0.2222222222222222,
              "#7201a8"
             ],
             [
              0.3333333333333333,
              "#9c179e"
             ],
             [
              0.4444444444444444,
              "#bd3786"
             ],
             [
              0.5555555555555556,
              "#d8576b"
             ],
             [
              0.6666666666666666,
              "#ed7953"
             ],
             [
              0.7777777777777778,
              "#fb9f3a"
             ],
             [
              0.8888888888888888,
              "#fdca26"
             ],
             [
              1,
              "#f0f921"
             ]
            ],
            "type": "histogram2d"
           }
          ],
          "histogram2dcontour": [
           {
            "colorbar": {
             "outlinewidth": 0,
             "ticks": ""
            },
            "colorscale": [
             [
              0,
              "#0d0887"
             ],
             [
              0.1111111111111111,
              "#46039f"
             ],
             [
              0.2222222222222222,
              "#7201a8"
             ],
             [
              0.3333333333333333,
              "#9c179e"
             ],
             [
              0.4444444444444444,
              "#bd3786"
             ],
             [
              0.5555555555555556,
              "#d8576b"
             ],
             [
              0.6666666666666666,
              "#ed7953"
             ],
             [
              0.7777777777777778,
              "#fb9f3a"
             ],
             [
              0.8888888888888888,
              "#fdca26"
             ],
             [
              1,
              "#f0f921"
             ]
            ],
            "type": "histogram2dcontour"
           }
          ],
          "mesh3d": [
           {
            "colorbar": {
             "outlinewidth": 0,
             "ticks": ""
            },
            "type": "mesh3d"
           }
          ],
          "parcoords": [
           {
            "line": {
             "colorbar": {
              "outlinewidth": 0,
              "ticks": ""
             }
            },
            "type": "parcoords"
           }
          ],
          "pie": [
           {
            "automargin": true,
            "type": "pie"
           }
          ],
          "scatter": [
           {
            "fillpattern": {
             "fillmode": "overlay",
             "size": 10,
             "solidity": 0.2
            },
            "type": "scatter"
           }
          ],
          "scatter3d": [
           {
            "line": {
             "colorbar": {
              "outlinewidth": 0,
              "ticks": ""
             }
            },
            "marker": {
             "colorbar": {
              "outlinewidth": 0,
              "ticks": ""
             }
            },
            "type": "scatter3d"
           }
          ],
          "scattercarpet": [
           {
            "marker": {
             "colorbar": {
              "outlinewidth": 0,
              "ticks": ""
             }
            },
            "type": "scattercarpet"
           }
          ],
          "scattergeo": [
           {
            "marker": {
             "colorbar": {
              "outlinewidth": 0,
              "ticks": ""
             }
            },
            "type": "scattergeo"
           }
          ],
          "scattergl": [
           {
            "marker": {
             "colorbar": {
              "outlinewidth": 0,
              "ticks": ""
             }
            },
            "type": "scattergl"
           }
          ],
          "scattermap": [
           {
            "marker": {
             "colorbar": {
              "outlinewidth": 0,
              "ticks": ""
             }
            },
            "type": "scattermap"
           }
          ],
          "scattermapbox": [
           {
            "marker": {
             "colorbar": {
              "outlinewidth": 0,
              "ticks": ""
             }
            },
            "type": "scattermapbox"
           }
          ],
          "scatterpolar": [
           {
            "marker": {
             "colorbar": {
              "outlinewidth": 0,
              "ticks": ""
             }
            },
            "type": "scatterpolar"
           }
          ],
          "scatterpolargl": [
           {
            "marker": {
             "colorbar": {
              "outlinewidth": 0,
              "ticks": ""
             }
            },
            "type": "scatterpolargl"
           }
          ],
          "scatterternary": [
           {
            "marker": {
             "colorbar": {
              "outlinewidth": 0,
              "ticks": ""
             }
            },
            "type": "scatterternary"
           }
          ],
          "surface": [
           {
            "colorbar": {
             "outlinewidth": 0,
             "ticks": ""
            },
            "colorscale": [
             [
              0,
              "#0d0887"
             ],
             [
              0.1111111111111111,
              "#46039f"
             ],
             [
              0.2222222222222222,
              "#7201a8"
             ],
             [
              0.3333333333333333,
              "#9c179e"
             ],
             [
              0.4444444444444444,
              "#bd3786"
             ],
             [
              0.5555555555555556,
              "#d8576b"
             ],
             [
              0.6666666666666666,
              "#ed7953"
             ],
             [
              0.7777777777777778,
              "#fb9f3a"
             ],
             [
              0.8888888888888888,
              "#fdca26"
             ],
             [
              1,
              "#f0f921"
             ]
            ],
            "type": "surface"
           }
          ],
          "table": [
           {
            "cells": {
             "fill": {
              "color": "#EBF0F8"
             },
             "line": {
              "color": "white"
             }
            },
            "header": {
             "fill": {
              "color": "#C8D4E3"
             },
             "line": {
              "color": "white"
             }
            },
            "type": "table"
           }
          ]
         },
         "layout": {
          "annotationdefaults": {
           "arrowcolor": "#2a3f5f",
           "arrowhead": 0,
           "arrowwidth": 1
          },
          "autotypenumbers": "strict",
          "coloraxis": {
           "colorbar": {
            "outlinewidth": 0,
            "ticks": ""
           }
          },
          "colorscale": {
           "diverging": [
            [
             0,
             "#8e0152"
            ],
            [
             0.1,
             "#c51b7d"
            ],
            [
             0.2,
             "#de77ae"
            ],
            [
             0.3,
             "#f1b6da"
            ],
            [
             0.4,
             "#fde0ef"
            ],
            [
             0.5,
             "#f7f7f7"
            ],
            [
             0.6,
             "#e6f5d0"
            ],
            [
             0.7,
             "#b8e186"
            ],
            [
             0.8,
             "#7fbc41"
            ],
            [
             0.9,
             "#4d9221"
            ],
            [
             1,
             "#276419"
            ]
           ],
           "sequential": [
            [
             0,
             "#0d0887"
            ],
            [
             0.1111111111111111,
             "#46039f"
            ],
            [
             0.2222222222222222,
             "#7201a8"
            ],
            [
             0.3333333333333333,
             "#9c179e"
            ],
            [
             0.4444444444444444,
             "#bd3786"
            ],
            [
             0.5555555555555556,
             "#d8576b"
            ],
            [
             0.6666666666666666,
             "#ed7953"
            ],
            [
             0.7777777777777778,
             "#fb9f3a"
            ],
            [
             0.8888888888888888,
             "#fdca26"
            ],
            [
             1,
             "#f0f921"
            ]
           ],
           "sequentialminus": [
            [
             0,
             "#0d0887"
            ],
            [
             0.1111111111111111,
             "#46039f"
            ],
            [
             0.2222222222222222,
             "#7201a8"
            ],
            [
             0.3333333333333333,
             "#9c179e"
            ],
            [
             0.4444444444444444,
             "#bd3786"
            ],
            [
             0.5555555555555556,
             "#d8576b"
            ],
            [
             0.6666666666666666,
             "#ed7953"
            ],
            [
             0.7777777777777778,
             "#fb9f3a"
            ],
            [
             0.8888888888888888,
             "#fdca26"
            ],
            [
             1,
             "#f0f921"
            ]
           ]
          },
          "colorway": [
           "#636efa",
           "#EF553B",
           "#00cc96",
           "#ab63fa",
           "#FFA15A",
           "#19d3f3",
           "#FF6692",
           "#B6E880",
           "#FF97FF",
           "#FECB52"
          ],
          "font": {
           "color": "#2a3f5f"
          },
          "geo": {
           "bgcolor": "white",
           "lakecolor": "white",
           "landcolor": "#E5ECF6",
           "showlakes": true,
           "showland": true,
           "subunitcolor": "white"
          },
          "hoverlabel": {
           "align": "left"
          },
          "hovermode": "closest",
          "mapbox": {
           "style": "light"
          },
          "paper_bgcolor": "white",
          "plot_bgcolor": "#E5ECF6",
          "polar": {
           "angularaxis": {
            "gridcolor": "white",
            "linecolor": "white",
            "ticks": ""
           },
           "bgcolor": "#E5ECF6",
           "radialaxis": {
            "gridcolor": "white",
            "linecolor": "white",
            "ticks": ""
           }
          },
          "scene": {
           "xaxis": {
            "backgroundcolor": "#E5ECF6",
            "gridcolor": "white",
            "gridwidth": 2,
            "linecolor": "white",
            "showbackground": true,
            "ticks": "",
            "zerolinecolor": "white"
           },
           "yaxis": {
            "backgroundcolor": "#E5ECF6",
            "gridcolor": "white",
            "gridwidth": 2,
            "linecolor": "white",
            "showbackground": true,
            "ticks": "",
            "zerolinecolor": "white"
           },
           "zaxis": {
            "backgroundcolor": "#E5ECF6",
            "gridcolor": "white",
            "gridwidth": 2,
            "linecolor": "white",
            "showbackground": true,
            "ticks": "",
            "zerolinecolor": "white"
           }
          },
          "shapedefaults": {
           "line": {
            "color": "#2a3f5f"
           }
          },
          "ternary": {
           "aaxis": {
            "gridcolor": "white",
            "linecolor": "white",
            "ticks": ""
           },
           "baxis": {
            "gridcolor": "white",
            "linecolor": "white",
            "ticks": ""
           },
           "bgcolor": "#E5ECF6",
           "caxis": {
            "gridcolor": "white",
            "linecolor": "white",
            "ticks": ""
           }
          },
          "title": {
           "x": 0.05
          },
          "xaxis": {
           "automargin": true,
           "gridcolor": "white",
           "linecolor": "white",
           "ticks": "",
           "title": {
            "standoff": 15
           },
           "zerolinecolor": "white",
           "zerolinewidth": 2
          },
          "yaxis": {
           "automargin": true,
           "gridcolor": "white",
           "linecolor": "white",
           "ticks": "",
           "title": {
            "standoff": 15
           },
           "zerolinecolor": "white",
           "zerolinewidth": 2
          }
         }
        },
        "title": {
         "text": "Balance Sheet for: PG"
        },
        "width": 800,
        "xaxis": {
         "title": {
          "text": "Year"
         }
        },
        "yaxis": {
         "title": {
          "text": "Amount $ USD"
         }
        }
       }
      }
     },
     "metadata": {},
     "output_type": "display_data"
    },
    {
     "name": "stdout",
     "output_type": "stream",
     "text": [
      "Common size balance sheet graph created.\n",
      "\n"
     ]
    },
    {
     "data": {
      "application/vnd.plotly.v1+json": {
       "config": {
        "plotlyServerURL": "https://plot.ly"
       },
       "data": [
        {
         "marker": {
          "color": "#003B73"
         },
         "name": "Assets",
         "offsetgroup": "0",
         "textposition": "inside",
         "texttemplate": "%{y:.2s}",
         "type": "bar",
         "x": [
          "2020",
          "2021",
          "2022",
          "2023",
          "2024"
         ],
         "y": {
          "bdata": "AAAAAAAAWUAAAAAAAABZQAAAAAAAAFlAAAAAAAAAWUAAAAAAAABZQA==",
          "dtype": "f8"
         }
        },
        {
         "marker": {
          "color": "#01949a"
         },
         "name": "Equity",
         "offsetgroup": "1",
         "textposition": "inside",
         "texttemplate": "%{y:.2s}",
         "type": "bar",
         "x": [
          "2020",
          "2021",
          "2022",
          "2023",
          "2024"
         ],
         "y": {
          "bdata": "czw1I3ZFQ0CdKXqxuG9DQERWtQLf30NAz40nT1BbQ0D9eR17D4xEQA==",
          "dtype": "f8"
         }
        },
        {
         "base": [
          38.54266777133389,
          38.87282389130562,
          39.74899324278206,
          38.71338834220261,
          41.09422244014056
         ],
         "marker": {
          "color": "#db1f48"
         },
         "name": "Liabilities",
         "offsetgroup": "1",
         "textposition": "inside",
         "texttemplate": "%{y:.2s}",
         "type": "bar",
         "x": [
          "2020",
          "2021",
          "2022",
          "2023",
          "2024"
         ],
         "y": {
          "bdata": "0u42662UTkDUYMvjqnJOQGLqLlkwA05A80LQUy2GTkBREMT0fFdNQA==",
          "dtype": "f8"
         }
        },
        {
         "marker": {
          "color": "#746C70"
         },
         "name": "GW & Intangibles",
         "offsetgroup": "2",
         "textposition": "inside",
         "texttemplate": "%{y:.2s}",
         "type": "bar",
         "x": [
          "2020",
          "2021",
          "2022",
          "2023",
          "2024"
         ],
         "y": {
          "bdata": "JG+sxYRiSkBdbG4uCw9LQAPKFVN3CUtAmnT+DKeqSkBJhZEk3HlJQA==",
          "dtype": "f8"
         }
        }
       ],
       "layout": {
        "barmode": "group",
        "height": 400,
        "legend": {
         "orientation": "h",
         "x": 1,
         "xanchor": "right",
         "y": 1,
         "yanchor": "bottom"
        },
        "template": {
         "data": {
          "bar": [
           {
            "error_x": {
             "color": "#2a3f5f"
            },
            "error_y": {
             "color": "#2a3f5f"
            },
            "marker": {
             "line": {
              "color": "#E5ECF6",
              "width": 0.5
             },
             "pattern": {
              "fillmode": "overlay",
              "size": 10,
              "solidity": 0.2
             }
            },
            "type": "bar"
           }
          ],
          "barpolar": [
           {
            "marker": {
             "line": {
              "color": "#E5ECF6",
              "width": 0.5
             },
             "pattern": {
              "fillmode": "overlay",
              "size": 10,
              "solidity": 0.2
             }
            },
            "type": "barpolar"
           }
          ],
          "carpet": [
           {
            "aaxis": {
             "endlinecolor": "#2a3f5f",
             "gridcolor": "white",
             "linecolor": "white",
             "minorgridcolor": "white",
             "startlinecolor": "#2a3f5f"
            },
            "baxis": {
             "endlinecolor": "#2a3f5f",
             "gridcolor": "white",
             "linecolor": "white",
             "minorgridcolor": "white",
             "startlinecolor": "#2a3f5f"
            },
            "type": "carpet"
           }
          ],
          "choropleth": [
           {
            "colorbar": {
             "outlinewidth": 0,
             "ticks": ""
            },
            "type": "choropleth"
           }
          ],
          "contour": [
           {
            "colorbar": {
             "outlinewidth": 0,
             "ticks": ""
            },
            "colorscale": [
             [
              0,
              "#0d0887"
             ],
             [
              0.1111111111111111,
              "#46039f"
             ],
             [
              0.2222222222222222,
              "#7201a8"
             ],
             [
              0.3333333333333333,
              "#9c179e"
             ],
             [
              0.4444444444444444,
              "#bd3786"
             ],
             [
              0.5555555555555556,
              "#d8576b"
             ],
             [
              0.6666666666666666,
              "#ed7953"
             ],
             [
              0.7777777777777778,
              "#fb9f3a"
             ],
             [
              0.8888888888888888,
              "#fdca26"
             ],
             [
              1,
              "#f0f921"
             ]
            ],
            "type": "contour"
           }
          ],
          "contourcarpet": [
           {
            "colorbar": {
             "outlinewidth": 0,
             "ticks": ""
            },
            "type": "contourcarpet"
           }
          ],
          "heatmap": [
           {
            "colorbar": {
             "outlinewidth": 0,
             "ticks": ""
            },
            "colorscale": [
             [
              0,
              "#0d0887"
             ],
             [
              0.1111111111111111,
              "#46039f"
             ],
             [
              0.2222222222222222,
              "#7201a8"
             ],
             [
              0.3333333333333333,
              "#9c179e"
             ],
             [
              0.4444444444444444,
              "#bd3786"
             ],
             [
              0.5555555555555556,
              "#d8576b"
             ],
             [
              0.6666666666666666,
              "#ed7953"
             ],
             [
              0.7777777777777778,
              "#fb9f3a"
             ],
             [
              0.8888888888888888,
              "#fdca26"
             ],
             [
              1,
              "#f0f921"
             ]
            ],
            "type": "heatmap"
           }
          ],
          "histogram": [
           {
            "marker": {
             "pattern": {
              "fillmode": "overlay",
              "size": 10,
              "solidity": 0.2
             }
            },
            "type": "histogram"
           }
          ],
          "histogram2d": [
           {
            "colorbar": {
             "outlinewidth": 0,
             "ticks": ""
            },
            "colorscale": [
             [
              0,
              "#0d0887"
             ],
             [
              0.1111111111111111,
              "#46039f"
             ],
             [
              0.2222222222222222,
              "#7201a8"
             ],
             [
              0.3333333333333333,
              "#9c179e"
             ],
             [
              0.4444444444444444,
              "#bd3786"
             ],
             [
              0.5555555555555556,
              "#d8576b"
             ],
             [
              0.6666666666666666,
              "#ed7953"
             ],
             [
              0.7777777777777778,
              "#fb9f3a"
             ],
             [
              0.8888888888888888,
              "#fdca26"
             ],
             [
              1,
              "#f0f921"
             ]
            ],
            "type": "histogram2d"
           }
          ],
          "histogram2dcontour": [
           {
            "colorbar": {
             "outlinewidth": 0,
             "ticks": ""
            },
            "colorscale": [
             [
              0,
              "#0d0887"
             ],
             [
              0.1111111111111111,
              "#46039f"
             ],
             [
              0.2222222222222222,
              "#7201a8"
             ],
             [
              0.3333333333333333,
              "#9c179e"
             ],
             [
              0.4444444444444444,
              "#bd3786"
             ],
             [
              0.5555555555555556,
              "#d8576b"
             ],
             [
              0.6666666666666666,
              "#ed7953"
             ],
             [
              0.7777777777777778,
              "#fb9f3a"
             ],
             [
              0.8888888888888888,
              "#fdca26"
             ],
             [
              1,
              "#f0f921"
             ]
            ],
            "type": "histogram2dcontour"
           }
          ],
          "mesh3d": [
           {
            "colorbar": {
             "outlinewidth": 0,
             "ticks": ""
            },
            "type": "mesh3d"
           }
          ],
          "parcoords": [
           {
            "line": {
             "colorbar": {
              "outlinewidth": 0,
              "ticks": ""
             }
            },
            "type": "parcoords"
           }
          ],
          "pie": [
           {
            "automargin": true,
            "type": "pie"
           }
          ],
          "scatter": [
           {
            "fillpattern": {
             "fillmode": "overlay",
             "size": 10,
             "solidity": 0.2
            },
            "type": "scatter"
           }
          ],
          "scatter3d": [
           {
            "line": {
             "colorbar": {
              "outlinewidth": 0,
              "ticks": ""
             }
            },
            "marker": {
             "colorbar": {
              "outlinewidth": 0,
              "ticks": ""
             }
            },
            "type": "scatter3d"
           }
          ],
          "scattercarpet": [
           {
            "marker": {
             "colorbar": {
              "outlinewidth": 0,
              "ticks": ""
             }
            },
            "type": "scattercarpet"
           }
          ],
          "scattergeo": [
           {
            "marker": {
             "colorbar": {
              "outlinewidth": 0,
              "ticks": ""
             }
            },
            "type": "scattergeo"
           }
          ],
          "scattergl": [
           {
            "marker": {
             "colorbar": {
              "outlinewidth": 0,
              "ticks": ""
             }
            },
            "type": "scattergl"
           }
          ],
          "scattermap": [
           {
            "marker": {
             "colorbar": {
              "outlinewidth": 0,
              "ticks": ""
             }
            },
            "type": "scattermap"
           }
          ],
          "scattermapbox": [
           {
            "marker": {
             "colorbar": {
              "outlinewidth": 0,
              "ticks": ""
             }
            },
            "type": "scattermapbox"
           }
          ],
          "scatterpolar": [
           {
            "marker": {
             "colorbar": {
              "outlinewidth": 0,
              "ticks": ""
             }
            },
            "type": "scatterpolar"
           }
          ],
          "scatterpolargl": [
           {
            "marker": {
             "colorbar": {
              "outlinewidth": 0,
              "ticks": ""
             }
            },
            "type": "scatterpolargl"
           }
          ],
          "scatterternary": [
           {
            "marker": {
             "colorbar": {
              "outlinewidth": 0,
              "ticks": ""
             }
            },
            "type": "scatterternary"
           }
          ],
          "surface": [
           {
            "colorbar": {
             "outlinewidth": 0,
             "ticks": ""
            },
            "colorscale": [
             [
              0,
              "#0d0887"
             ],
             [
              0.1111111111111111,
              "#46039f"
             ],
             [
              0.2222222222222222,
              "#7201a8"
             ],
             [
              0.3333333333333333,
              "#9c179e"
             ],
             [
              0.4444444444444444,
              "#bd3786"
             ],
             [
              0.5555555555555556,
              "#d8576b"
             ],
             [
              0.6666666666666666,
              "#ed7953"
             ],
             [
              0.7777777777777778,
              "#fb9f3a"
             ],
             [
              0.8888888888888888,
              "#fdca26"
             ],
             [
              1,
              "#f0f921"
             ]
            ],
            "type": "surface"
           }
          ],
          "table": [
           {
            "cells": {
             "fill": {
              "color": "#EBF0F8"
             },
             "line": {
              "color": "white"
             }
            },
            "header": {
             "fill": {
              "color": "#C8D4E3"
             },
             "line": {
              "color": "white"
             }
            },
            "type": "table"
           }
          ]
         },
         "layout": {
          "annotationdefaults": {
           "arrowcolor": "#2a3f5f",
           "arrowhead": 0,
           "arrowwidth": 1
          },
          "autotypenumbers": "strict",
          "coloraxis": {
           "colorbar": {
            "outlinewidth": 0,
            "ticks": ""
           }
          },
          "colorscale": {
           "diverging": [
            [
             0,
             "#8e0152"
            ],
            [
             0.1,
             "#c51b7d"
            ],
            [
             0.2,
             "#de77ae"
            ],
            [
             0.3,
             "#f1b6da"
            ],
            [
             0.4,
             "#fde0ef"
            ],
            [
             0.5,
             "#f7f7f7"
            ],
            [
             0.6,
             "#e6f5d0"
            ],
            [
             0.7,
             "#b8e186"
            ],
            [
             0.8,
             "#7fbc41"
            ],
            [
             0.9,
             "#4d9221"
            ],
            [
             1,
             "#276419"
            ]
           ],
           "sequential": [
            [
             0,
             "#0d0887"
            ],
            [
             0.1111111111111111,
             "#46039f"
            ],
            [
             0.2222222222222222,
             "#7201a8"
            ],
            [
             0.3333333333333333,
             "#9c179e"
            ],
            [
             0.4444444444444444,
             "#bd3786"
            ],
            [
             0.5555555555555556,
             "#d8576b"
            ],
            [
             0.6666666666666666,
             "#ed7953"
            ],
            [
             0.7777777777777778,
             "#fb9f3a"
            ],
            [
             0.8888888888888888,
             "#fdca26"
            ],
            [
             1,
             "#f0f921"
            ]
           ],
           "sequentialminus": [
            [
             0,
             "#0d0887"
            ],
            [
             0.1111111111111111,
             "#46039f"
            ],
            [
             0.2222222222222222,
             "#7201a8"
            ],
            [
             0.3333333333333333,
             "#9c179e"
            ],
            [
             0.4444444444444444,
             "#bd3786"
            ],
            [
             0.5555555555555556,
             "#d8576b"
            ],
            [
             0.6666666666666666,
             "#ed7953"
            ],
            [
             0.7777777777777778,
             "#fb9f3a"
            ],
            [
             0.8888888888888888,
             "#fdca26"
            ],
            [
             1,
             "#f0f921"
            ]
           ]
          },
          "colorway": [
           "#636efa",
           "#EF553B",
           "#00cc96",
           "#ab63fa",
           "#FFA15A",
           "#19d3f3",
           "#FF6692",
           "#B6E880",
           "#FF97FF",
           "#FECB52"
          ],
          "font": {
           "color": "#2a3f5f"
          },
          "geo": {
           "bgcolor": "white",
           "lakecolor": "white",
           "landcolor": "#E5ECF6",
           "showlakes": true,
           "showland": true,
           "subunitcolor": "white"
          },
          "hoverlabel": {
           "align": "left"
          },
          "hovermode": "closest",
          "mapbox": {
           "style": "light"
          },
          "paper_bgcolor": "white",
          "plot_bgcolor": "#E5ECF6",
          "polar": {
           "angularaxis": {
            "gridcolor": "white",
            "linecolor": "white",
            "ticks": ""
           },
           "bgcolor": "#E5ECF6",
           "radialaxis": {
            "gridcolor": "white",
            "linecolor": "white",
            "ticks": ""
           }
          },
          "scene": {
           "xaxis": {
            "backgroundcolor": "#E5ECF6",
            "gridcolor": "white",
            "gridwidth": 2,
            "linecolor": "white",
            "showbackground": true,
            "ticks": "",
            "zerolinecolor": "white"
           },
           "yaxis": {
            "backgroundcolor": "#E5ECF6",
            "gridcolor": "white",
            "gridwidth": 2,
            "linecolor": "white",
            "showbackground": true,
            "ticks": "",
            "zerolinecolor": "white"
           },
           "zaxis": {
            "backgroundcolor": "#E5ECF6",
            "gridcolor": "white",
            "gridwidth": 2,
            "linecolor": "white",
            "showbackground": true,
            "ticks": "",
            "zerolinecolor": "white"
           }
          },
          "shapedefaults": {
           "line": {
            "color": "#2a3f5f"
           }
          },
          "ternary": {
           "aaxis": {
            "gridcolor": "white",
            "linecolor": "white",
            "ticks": ""
           },
           "baxis": {
            "gridcolor": "white",
            "linecolor": "white",
            "ticks": ""
           },
           "bgcolor": "#E5ECF6",
           "caxis": {
            "gridcolor": "white",
            "linecolor": "white",
            "ticks": ""
           }
          },
          "title": {
           "x": 0.05
          },
          "xaxis": {
           "automargin": true,
           "gridcolor": "white",
           "linecolor": "white",
           "ticks": "",
           "title": {
            "standoff": 15
           },
           "zerolinecolor": "white",
           "zerolinewidth": 2
          },
          "yaxis": {
           "automargin": true,
           "gridcolor": "white",
           "linecolor": "white",
           "ticks": "",
           "title": {
            "standoff": 15
           },
           "zerolinecolor": "white",
           "zerolinewidth": 2
          }
         }
        },
        "title": {
         "text": "Common Size Balance Sheet for: PG"
        },
        "width": 800,
        "xaxis": {
         "title": {
          "text": "Year"
         }
        },
        "yaxis": {
         "title": {
          "text": "Amount % "
         }
        }
       }
      }
     },
     "metadata": {},
     "output_type": "display_data"
    }
   ],
   "source": [
    "# Balance Sheet Graph\n",
    "fig = go.Figure(\n",
    "    data=[\n",
    "        go.Bar(name=\"Assets\",\n",
    "               x=bs_df[\"calendarYear\"],\n",
    "               y=bs_df[\"totalAssets\"],\n",
    "               marker_color=\"#003B73\",\n",
    "               offsetgroup=0,\n",
    "               ),\n",
    "        go.Bar(name=\"Equity\",\n",
    "               x=bs_df[\"calendarYear\"],\n",
    "               y=bs_df[\"totalStockholdersEquity\"],\n",
    "               marker_color=\"#01949a\",\n",
    "               offsetgroup=1,\n",
    "               ),\n",
    "        go.Bar(name=\"Liabilities\",\n",
    "               x=bs_df[\"calendarYear\"],\n",
    "               y=bs_df[\"totalLiabilities\"],\n",
    "               marker_color=\"#db1f48\",\n",
    "               offsetgroup=1,\n",
    "               base=bs_df[\"totalStockholdersEquity\"],\n",
    "               ),\n",
    "        go.Bar(name=\"GW & Intangibles\",\n",
    "               x=bs_df[\"calendarYear\"],\n",
    "               y=bs_df[\"goodwillAndIntangibleAssets\"],\n",
    "               marker_color=\"#746C70\",\n",
    "               offsetgroup=2,\n",
    "               ),\n",
    "         ])\n",
    "fig.update_layout(barmode=\"group\",\n",
    "                  title=str(\"Balance Sheet for: \" + company),\n",
    "                  xaxis_title=\"Year\",\n",
    "                  yaxis_title=(\"Amount $ \" + currency),\n",
    "                  legend=dict(orientation=\"h\",\n",
    "                              yanchor=\"bottom\",\n",
    "                              xanchor=\"right\",\n",
    "                              x=1, y=1.0),\n",
    "                  width=800, height=400)\n",
    "\n",
    "fig.update_traces(texttemplate=\"%{y:.2s}\", textposition=\"inside\")\n",
    "file_name = \"images/output/bs_graph.png\"\n",
    "fig.write_image(file_name, format='png', scale=2)\n",
    "\n",
    "print(\"Balance sheet graph created.\\n\")\n",
    "fig.show()\n",
    "\n",
    "# Common Size Balance Sheet Graph\n",
    "fig = go.Figure(\n",
    "    data=[\n",
    "        go.Bar(name=\"Assets\",\n",
    "               x=bs_df[\"calendarYear\"],\n",
    "               y=bs_df[\"totalAssets\"]/bs_df[\"totalAssets\"]*100,\n",
    "               marker_color=\"#003B73\",\n",
    "               offsetgroup=0,\n",
    "               ),\n",
    "        go.Bar(name=\"Equity\",\n",
    "               x=bs_df[\"calendarYear\"],\n",
    "               y=bs_df[\"totalStockholdersEquity\"]/bs_df[\"totalAssets\"]*100,\n",
    "               marker_color=\"#01949a\",\n",
    "               offsetgroup=1,\n",
    "               ),\n",
    "        go.Bar(name=\"Liabilities\",\n",
    "               x=bs_df[\"calendarYear\"],\n",
    "               y=bs_df[\"totalLiabilities\"]/bs_df[\"totalAssets\"]*100,\n",
    "               marker_color=\"#db1f48\",\n",
    "               offsetgroup=1,\n",
    "               base=bs_df[\"totalStockholdersEquity\"]/bs_df[\"totalAssets\"]*100,\n",
    "               ),\n",
    "        go.Bar(name=\"GW & Intangibles\",\n",
    "               x=bs_df[\"calendarYear\"],\n",
    "               y=bs_df[\"goodwillAndIntangibleAssets\"]/bs_df[\"totalAssets\"]*100,\n",
    "               marker_color=\"#746C70\",\n",
    "               offsetgroup=2,\n",
    "               ),\n",
    "         ])\n",
    "fig.update_layout(barmode=\"group\",\n",
    "                  title=str(\"Common Size Balance Sheet for: \" + company),\n",
    "                  xaxis_title=\"Year\",\n",
    "                  yaxis_title=(\"Amount % \"),\n",
    "                  legend=dict(orientation=\"h\",\n",
    "                              yanchor=\"bottom\",\n",
    "                              xanchor=\"right\",\n",
    "                              x=1, y=1.0),\n",
    "                  width=800, height=400)\n",
    "\n",
    "fig.update_traces(texttemplate=\"%{y:.2s}\", textposition=\"inside\")\n",
    "file_name = \"images/output/bs_graph_cs.png\"\n",
    "fig.write_image(file_name, format='png', scale=2)\n",
    "\n",
    "print(\"Common size balance sheet graph created.\\n\")\n",
    "fig.show()"
   ]
  },
  {
   "cell_type": "markdown",
   "id": "fbd36729-32ff-4fc4-acec-e7581763ce80",
   "metadata": {},
   "source": [
    "<a id=\"is_graph\"></a>\n",
    "### [Graph] Income Statement: Nominal and Common size [*](#index)"
   ]
  },
  {
   "cell_type": "code",
   "execution_count": 16,
   "id": "4d99efe6-6f3c-44cd-bc4c-4dc6dbd4a994",
   "metadata": {},
   "outputs": [
    {
     "name": "stdout",
     "output_type": "stream",
     "text": [
      "Income statement graph created.\n",
      "\n"
     ]
    },
    {
     "data": {
      "application/vnd.plotly.v1+json": {
       "config": {
        "plotlyServerURL": "https://plot.ly"
       },
       "data": [
        {
         "marker": {
          "color": "#004369"
         },
         "name": "Revenue",
         "textposition": "inside",
         "texttemplate": "%{y:.2s}",
         "type": "bar",
         "x": [
          "2020",
          "2021",
          "2022",
          "2023",
          "2024"
         ],
         "y": [
          70950000000,
          76118000000,
          80187000000,
          82006000000,
          84039000000
         ]
        },
        {
         "marker": {
          "color": "#41729f"
         },
         "name": "Net Income",
         "textposition": "inside",
         "texttemplate": "%{y:.2s}",
         "type": "bar",
         "x": [
          "2020",
          "2021",
          "2022",
          "2023",
          "2024"
         ],
         "y": [
          13027000000,
          14306000000,
          14742000000,
          14653000000,
          14879000000
         ]
        },
        {
         "marker": {
          "color": "#DB1F48"
         },
         "name": "Interest Expense",
         "textposition": "inside",
         "texttemplate": "%{y:.2s}",
         "type": "bar",
         "x": [
          "2020",
          "2021",
          "2022",
          "2023",
          "2024"
         ],
         "y": {
          "bdata": "wBw9CUClrgLAMgoDwHJMEkBoMRw=",
          "dtype": "i4"
         }
        }
       ],
       "layout": {
        "barmode": "group",
        "height": 400,
        "legend": {
         "orientation": "h",
         "x": 1,
         "xanchor": "right",
         "y": 1,
         "yanchor": "bottom"
        },
        "template": {
         "data": {
          "bar": [
           {
            "error_x": {
             "color": "#2a3f5f"
            },
            "error_y": {
             "color": "#2a3f5f"
            },
            "marker": {
             "line": {
              "color": "#E5ECF6",
              "width": 0.5
             },
             "pattern": {
              "fillmode": "overlay",
              "size": 10,
              "solidity": 0.2
             }
            },
            "type": "bar"
           }
          ],
          "barpolar": [
           {
            "marker": {
             "line": {
              "color": "#E5ECF6",
              "width": 0.5
             },
             "pattern": {
              "fillmode": "overlay",
              "size": 10,
              "solidity": 0.2
             }
            },
            "type": "barpolar"
           }
          ],
          "carpet": [
           {
            "aaxis": {
             "endlinecolor": "#2a3f5f",
             "gridcolor": "white",
             "linecolor": "white",
             "minorgridcolor": "white",
             "startlinecolor": "#2a3f5f"
            },
            "baxis": {
             "endlinecolor": "#2a3f5f",
             "gridcolor": "white",
             "linecolor": "white",
             "minorgridcolor": "white",
             "startlinecolor": "#2a3f5f"
            },
            "type": "carpet"
           }
          ],
          "choropleth": [
           {
            "colorbar": {
             "outlinewidth": 0,
             "ticks": ""
            },
            "type": "choropleth"
           }
          ],
          "contour": [
           {
            "colorbar": {
             "outlinewidth": 0,
             "ticks": ""
            },
            "colorscale": [
             [
              0,
              "#0d0887"
             ],
             [
              0.1111111111111111,
              "#46039f"
             ],
             [
              0.2222222222222222,
              "#7201a8"
             ],
             [
              0.3333333333333333,
              "#9c179e"
             ],
             [
              0.4444444444444444,
              "#bd3786"
             ],
             [
              0.5555555555555556,
              "#d8576b"
             ],
             [
              0.6666666666666666,
              "#ed7953"
             ],
             [
              0.7777777777777778,
              "#fb9f3a"
             ],
             [
              0.8888888888888888,
              "#fdca26"
             ],
             [
              1,
              "#f0f921"
             ]
            ],
            "type": "contour"
           }
          ],
          "contourcarpet": [
           {
            "colorbar": {
             "outlinewidth": 0,
             "ticks": ""
            },
            "type": "contourcarpet"
           }
          ],
          "heatmap": [
           {
            "colorbar": {
             "outlinewidth": 0,
             "ticks": ""
            },
            "colorscale": [
             [
              0,
              "#0d0887"
             ],
             [
              0.1111111111111111,
              "#46039f"
             ],
             [
              0.2222222222222222,
              "#7201a8"
             ],
             [
              0.3333333333333333,
              "#9c179e"
             ],
             [
              0.4444444444444444,
              "#bd3786"
             ],
             [
              0.5555555555555556,
              "#d8576b"
             ],
             [
              0.6666666666666666,
              "#ed7953"
             ],
             [
              0.7777777777777778,
              "#fb9f3a"
             ],
             [
              0.8888888888888888,
              "#fdca26"
             ],
             [
              1,
              "#f0f921"
             ]
            ],
            "type": "heatmap"
           }
          ],
          "histogram": [
           {
            "marker": {
             "pattern": {
              "fillmode": "overlay",
              "size": 10,
              "solidity": 0.2
             }
            },
            "type": "histogram"
           }
          ],
          "histogram2d": [
           {
            "colorbar": {
             "outlinewidth": 0,
             "ticks": ""
            },
            "colorscale": [
             [
              0,
              "#0d0887"
             ],
             [
              0.1111111111111111,
              "#46039f"
             ],
             [
              0.2222222222222222,
              "#7201a8"
             ],
             [
              0.3333333333333333,
              "#9c179e"
             ],
             [
              0.4444444444444444,
              "#bd3786"
             ],
             [
              0.5555555555555556,
              "#d8576b"
             ],
             [
              0.6666666666666666,
              "#ed7953"
             ],
             [
              0.7777777777777778,
              "#fb9f3a"
             ],
             [
              0.8888888888888888,
              "#fdca26"
             ],
             [
              1,
              "#f0f921"
             ]
            ],
            "type": "histogram2d"
           }
          ],
          "histogram2dcontour": [
           {
            "colorbar": {
             "outlinewidth": 0,
             "ticks": ""
            },
            "colorscale": [
             [
              0,
              "#0d0887"
             ],
             [
              0.1111111111111111,
              "#46039f"
             ],
             [
              0.2222222222222222,
              "#7201a8"
             ],
             [
              0.3333333333333333,
              "#9c179e"
             ],
             [
              0.4444444444444444,
              "#bd3786"
             ],
             [
              0.5555555555555556,
              "#d8576b"
             ],
             [
              0.6666666666666666,
              "#ed7953"
             ],
             [
              0.7777777777777778,
              "#fb9f3a"
             ],
             [
              0.8888888888888888,
              "#fdca26"
             ],
             [
              1,
              "#f0f921"
             ]
            ],
            "type": "histogram2dcontour"
           }
          ],
          "mesh3d": [
           {
            "colorbar": {
             "outlinewidth": 0,
             "ticks": ""
            },
            "type": "mesh3d"
           }
          ],
          "parcoords": [
           {
            "line": {
             "colorbar": {
              "outlinewidth": 0,
              "ticks": ""
             }
            },
            "type": "parcoords"
           }
          ],
          "pie": [
           {
            "automargin": true,
            "type": "pie"
           }
          ],
          "scatter": [
           {
            "fillpattern": {
             "fillmode": "overlay",
             "size": 10,
             "solidity": 0.2
            },
            "type": "scatter"
           }
          ],
          "scatter3d": [
           {
            "line": {
             "colorbar": {
              "outlinewidth": 0,
              "ticks": ""
             }
            },
            "marker": {
             "colorbar": {
              "outlinewidth": 0,
              "ticks": ""
             }
            },
            "type": "scatter3d"
           }
          ],
          "scattercarpet": [
           {
            "marker": {
             "colorbar": {
              "outlinewidth": 0,
              "ticks": ""
             }
            },
            "type": "scattercarpet"
           }
          ],
          "scattergeo": [
           {
            "marker": {
             "colorbar": {
              "outlinewidth": 0,
              "ticks": ""
             }
            },
            "type": "scattergeo"
           }
          ],
          "scattergl": [
           {
            "marker": {
             "colorbar": {
              "outlinewidth": 0,
              "ticks": ""
             }
            },
            "type": "scattergl"
           }
          ],
          "scattermap": [
           {
            "marker": {
             "colorbar": {
              "outlinewidth": 0,
              "ticks": ""
             }
            },
            "type": "scattermap"
           }
          ],
          "scattermapbox": [
           {
            "marker": {
             "colorbar": {
              "outlinewidth": 0,
              "ticks": ""
             }
            },
            "type": "scattermapbox"
           }
          ],
          "scatterpolar": [
           {
            "marker": {
             "colorbar": {
              "outlinewidth": 0,
              "ticks": ""
             }
            },
            "type": "scatterpolar"
           }
          ],
          "scatterpolargl": [
           {
            "marker": {
             "colorbar": {
              "outlinewidth": 0,
              "ticks": ""
             }
            },
            "type": "scatterpolargl"
           }
          ],
          "scatterternary": [
           {
            "marker": {
             "colorbar": {
              "outlinewidth": 0,
              "ticks": ""
             }
            },
            "type": "scatterternary"
           }
          ],
          "surface": [
           {
            "colorbar": {
             "outlinewidth": 0,
             "ticks": ""
            },
            "colorscale": [
             [
              0,
              "#0d0887"
             ],
             [
              0.1111111111111111,
              "#46039f"
             ],
             [
              0.2222222222222222,
              "#7201a8"
             ],
             [
              0.3333333333333333,
              "#9c179e"
             ],
             [
              0.4444444444444444,
              "#bd3786"
             ],
             [
              0.5555555555555556,
              "#d8576b"
             ],
             [
              0.6666666666666666,
              "#ed7953"
             ],
             [
              0.7777777777777778,
              "#fb9f3a"
             ],
             [
              0.8888888888888888,
              "#fdca26"
             ],
             [
              1,
              "#f0f921"
             ]
            ],
            "type": "surface"
           }
          ],
          "table": [
           {
            "cells": {
             "fill": {
              "color": "#EBF0F8"
             },
             "line": {
              "color": "white"
             }
            },
            "header": {
             "fill": {
              "color": "#C8D4E3"
             },
             "line": {
              "color": "white"
             }
            },
            "type": "table"
           }
          ]
         },
         "layout": {
          "annotationdefaults": {
           "arrowcolor": "#2a3f5f",
           "arrowhead": 0,
           "arrowwidth": 1
          },
          "autotypenumbers": "strict",
          "coloraxis": {
           "colorbar": {
            "outlinewidth": 0,
            "ticks": ""
           }
          },
          "colorscale": {
           "diverging": [
            [
             0,
             "#8e0152"
            ],
            [
             0.1,
             "#c51b7d"
            ],
            [
             0.2,
             "#de77ae"
            ],
            [
             0.3,
             "#f1b6da"
            ],
            [
             0.4,
             "#fde0ef"
            ],
            [
             0.5,
             "#f7f7f7"
            ],
            [
             0.6,
             "#e6f5d0"
            ],
            [
             0.7,
             "#b8e186"
            ],
            [
             0.8,
             "#7fbc41"
            ],
            [
             0.9,
             "#4d9221"
            ],
            [
             1,
             "#276419"
            ]
           ],
           "sequential": [
            [
             0,
             "#0d0887"
            ],
            [
             0.1111111111111111,
             "#46039f"
            ],
            [
             0.2222222222222222,
             "#7201a8"
            ],
            [
             0.3333333333333333,
             "#9c179e"
            ],
            [
             0.4444444444444444,
             "#bd3786"
            ],
            [
             0.5555555555555556,
             "#d8576b"
            ],
            [
             0.6666666666666666,
             "#ed7953"
            ],
            [
             0.7777777777777778,
             "#fb9f3a"
            ],
            [
             0.8888888888888888,
             "#fdca26"
            ],
            [
             1,
             "#f0f921"
            ]
           ],
           "sequentialminus": [
            [
             0,
             "#0d0887"
            ],
            [
             0.1111111111111111,
             "#46039f"
            ],
            [
             0.2222222222222222,
             "#7201a8"
            ],
            [
             0.3333333333333333,
             "#9c179e"
            ],
            [
             0.4444444444444444,
             "#bd3786"
            ],
            [
             0.5555555555555556,
             "#d8576b"
            ],
            [
             0.6666666666666666,
             "#ed7953"
            ],
            [
             0.7777777777777778,
             "#fb9f3a"
            ],
            [
             0.8888888888888888,
             "#fdca26"
            ],
            [
             1,
             "#f0f921"
            ]
           ]
          },
          "colorway": [
           "#636efa",
           "#EF553B",
           "#00cc96",
           "#ab63fa",
           "#FFA15A",
           "#19d3f3",
           "#FF6692",
           "#B6E880",
           "#FF97FF",
           "#FECB52"
          ],
          "font": {
           "color": "#2a3f5f"
          },
          "geo": {
           "bgcolor": "white",
           "lakecolor": "white",
           "landcolor": "#E5ECF6",
           "showlakes": true,
           "showland": true,
           "subunitcolor": "white"
          },
          "hoverlabel": {
           "align": "left"
          },
          "hovermode": "closest",
          "mapbox": {
           "style": "light"
          },
          "paper_bgcolor": "white",
          "plot_bgcolor": "#E5ECF6",
          "polar": {
           "angularaxis": {
            "gridcolor": "white",
            "linecolor": "white",
            "ticks": ""
           },
           "bgcolor": "#E5ECF6",
           "radialaxis": {
            "gridcolor": "white",
            "linecolor": "white",
            "ticks": ""
           }
          },
          "scene": {
           "xaxis": {
            "backgroundcolor": "#E5ECF6",
            "gridcolor": "white",
            "gridwidth": 2,
            "linecolor": "white",
            "showbackground": true,
            "ticks": "",
            "zerolinecolor": "white"
           },
           "yaxis": {
            "backgroundcolor": "#E5ECF6",
            "gridcolor": "white",
            "gridwidth": 2,
            "linecolor": "white",
            "showbackground": true,
            "ticks": "",
            "zerolinecolor": "white"
           },
           "zaxis": {
            "backgroundcolor": "#E5ECF6",
            "gridcolor": "white",
            "gridwidth": 2,
            "linecolor": "white",
            "showbackground": true,
            "ticks": "",
            "zerolinecolor": "white"
           }
          },
          "shapedefaults": {
           "line": {
            "color": "#2a3f5f"
           }
          },
          "ternary": {
           "aaxis": {
            "gridcolor": "white",
            "linecolor": "white",
            "ticks": ""
           },
           "baxis": {
            "gridcolor": "white",
            "linecolor": "white",
            "ticks": ""
           },
           "bgcolor": "#E5ECF6",
           "caxis": {
            "gridcolor": "white",
            "linecolor": "white",
            "ticks": ""
           }
          },
          "title": {
           "x": 0.05
          },
          "xaxis": {
           "automargin": true,
           "gridcolor": "white",
           "linecolor": "white",
           "ticks": "",
           "title": {
            "standoff": 15
           },
           "zerolinecolor": "white",
           "zerolinewidth": 2
          },
          "yaxis": {
           "automargin": true,
           "gridcolor": "white",
           "linecolor": "white",
           "ticks": "",
           "title": {
            "standoff": 15
           },
           "zerolinecolor": "white",
           "zerolinewidth": 2
          }
         }
        },
        "title": {
         "text": "Income Statement for: PG"
        },
        "width": 800,
        "xaxis": {
         "title": {
          "text": "Year"
         }
        },
        "yaxis": {
         "title": {
          "text": "Amount $mm USD"
         }
        }
       }
      }
     },
     "metadata": {},
     "output_type": "display_data"
    },
    {
     "name": "stdout",
     "output_type": "stream",
     "text": [
      "Common size income statement graph created.\n",
      "\n"
     ]
    },
    {
     "data": {
      "application/vnd.plotly.v1+json": {
       "config": {
        "plotlyServerURL": "https://plot.ly"
       },
       "data": [
        {
         "marker": {
          "color": "#004369"
         },
         "name": "Revenue",
         "textposition": "inside",
         "texttemplate": "%{y:.2s}",
         "type": "bar",
         "x": [
          "2020",
          "2021",
          "2022",
          "2023",
          "2024"
         ],
         "y": {
          "bdata": "AAAAAAAAWUAAAAAAAABZQAAAAAAAAFlAAAAAAAAAWUAAAAAAAABZQA==",
          "dtype": "f8"
         }
        },
        {
         "marker": {
          "color": "#41729f"
         },
         "name": "Net Income",
         "textposition": "inside",
         "texttemplate": "%{y:.2s}",
         "type": "bar",
         "x": [
          "2020",
          "2021",
          "2022",
          "2023",
          "2024"
         ],
         "y": {
          "bdata": "dPS/iF5cMkDkhv6QZMsyQFPwnE5wYjJAPhPiqkLeMUCwchmycrQxQA==",
          "dtype": "f8"
         }
        },
        {
         "marker": {
          "color": "#DB1F48"
         },
         "name": "Interest Expense",
         "textposition": "inside",
         "texttemplate": "%{y:.2s}",
         "type": "bar",
         "x": [
          "2020",
          "2021",
          "2022",
          "2023",
          "2024"
         ],
         "y": {
          "bdata": "LIEcZp72yz/sYWahz0SuP8B7b0gtSLA/yYoBm4/11z+VtzFJvALiPw==",
          "dtype": "f8"
         }
        }
       ],
       "layout": {
        "barmode": "group",
        "height": 400,
        "legend": {
         "orientation": "h",
         "x": 1,
         "xanchor": "right",
         "y": 1,
         "yanchor": "bottom"
        },
        "template": {
         "data": {
          "bar": [
           {
            "error_x": {
             "color": "#2a3f5f"
            },
            "error_y": {
             "color": "#2a3f5f"
            },
            "marker": {
             "line": {
              "color": "#E5ECF6",
              "width": 0.5
             },
             "pattern": {
              "fillmode": "overlay",
              "size": 10,
              "solidity": 0.2
             }
            },
            "type": "bar"
           }
          ],
          "barpolar": [
           {
            "marker": {
             "line": {
              "color": "#E5ECF6",
              "width": 0.5
             },
             "pattern": {
              "fillmode": "overlay",
              "size": 10,
              "solidity": 0.2
             }
            },
            "type": "barpolar"
           }
          ],
          "carpet": [
           {
            "aaxis": {
             "endlinecolor": "#2a3f5f",
             "gridcolor": "white",
             "linecolor": "white",
             "minorgridcolor": "white",
             "startlinecolor": "#2a3f5f"
            },
            "baxis": {
             "endlinecolor": "#2a3f5f",
             "gridcolor": "white",
             "linecolor": "white",
             "minorgridcolor": "white",
             "startlinecolor": "#2a3f5f"
            },
            "type": "carpet"
           }
          ],
          "choropleth": [
           {
            "colorbar": {
             "outlinewidth": 0,
             "ticks": ""
            },
            "type": "choropleth"
           }
          ],
          "contour": [
           {
            "colorbar": {
             "outlinewidth": 0,
             "ticks": ""
            },
            "colorscale": [
             [
              0,
              "#0d0887"
             ],
             [
              0.1111111111111111,
              "#46039f"
             ],
             [
              0.2222222222222222,
              "#7201a8"
             ],
             [
              0.3333333333333333,
              "#9c179e"
             ],
             [
              0.4444444444444444,
              "#bd3786"
             ],
             [
              0.5555555555555556,
              "#d8576b"
             ],
             [
              0.6666666666666666,
              "#ed7953"
             ],
             [
              0.7777777777777778,
              "#fb9f3a"
             ],
             [
              0.8888888888888888,
              "#fdca26"
             ],
             [
              1,
              "#f0f921"
             ]
            ],
            "type": "contour"
           }
          ],
          "contourcarpet": [
           {
            "colorbar": {
             "outlinewidth": 0,
             "ticks": ""
            },
            "type": "contourcarpet"
           }
          ],
          "heatmap": [
           {
            "colorbar": {
             "outlinewidth": 0,
             "ticks": ""
            },
            "colorscale": [
             [
              0,
              "#0d0887"
             ],
             [
              0.1111111111111111,
              "#46039f"
             ],
             [
              0.2222222222222222,
              "#7201a8"
             ],
             [
              0.3333333333333333,
              "#9c179e"
             ],
             [
              0.4444444444444444,
              "#bd3786"
             ],
             [
              0.5555555555555556,
              "#d8576b"
             ],
             [
              0.6666666666666666,
              "#ed7953"
             ],
             [
              0.7777777777777778,
              "#fb9f3a"
             ],
             [
              0.8888888888888888,
              "#fdca26"
             ],
             [
              1,
              "#f0f921"
             ]
            ],
            "type": "heatmap"
           }
          ],
          "histogram": [
           {
            "marker": {
             "pattern": {
              "fillmode": "overlay",
              "size": 10,
              "solidity": 0.2
             }
            },
            "type": "histogram"
           }
          ],
          "histogram2d": [
           {
            "colorbar": {
             "outlinewidth": 0,
             "ticks": ""
            },
            "colorscale": [
             [
              0,
              "#0d0887"
             ],
             [
              0.1111111111111111,
              "#46039f"
             ],
             [
              0.2222222222222222,
              "#7201a8"
             ],
             [
              0.3333333333333333,
              "#9c179e"
             ],
             [
              0.4444444444444444,
              "#bd3786"
             ],
             [
              0.5555555555555556,
              "#d8576b"
             ],
             [
              0.6666666666666666,
              "#ed7953"
             ],
             [
              0.7777777777777778,
              "#fb9f3a"
             ],
             [
              0.8888888888888888,
              "#fdca26"
             ],
             [
              1,
              "#f0f921"
             ]
            ],
            "type": "histogram2d"
           }
          ],
          "histogram2dcontour": [
           {
            "colorbar": {
             "outlinewidth": 0,
             "ticks": ""
            },
            "colorscale": [
             [
              0,
              "#0d0887"
             ],
             [
              0.1111111111111111,
              "#46039f"
             ],
             [
              0.2222222222222222,
              "#7201a8"
             ],
             [
              0.3333333333333333,
              "#9c179e"
             ],
             [
              0.4444444444444444,
              "#bd3786"
             ],
             [
              0.5555555555555556,
              "#d8576b"
             ],
             [
              0.6666666666666666,
              "#ed7953"
             ],
             [
              0.7777777777777778,
              "#fb9f3a"
             ],
             [
              0.8888888888888888,
              "#fdca26"
             ],
             [
              1,
              "#f0f921"
             ]
            ],
            "type": "histogram2dcontour"
           }
          ],
          "mesh3d": [
           {
            "colorbar": {
             "outlinewidth": 0,
             "ticks": ""
            },
            "type": "mesh3d"
           }
          ],
          "parcoords": [
           {
            "line": {
             "colorbar": {
              "outlinewidth": 0,
              "ticks": ""
             }
            },
            "type": "parcoords"
           }
          ],
          "pie": [
           {
            "automargin": true,
            "type": "pie"
           }
          ],
          "scatter": [
           {
            "fillpattern": {
             "fillmode": "overlay",
             "size": 10,
             "solidity": 0.2
            },
            "type": "scatter"
           }
          ],
          "scatter3d": [
           {
            "line": {
             "colorbar": {
              "outlinewidth": 0,
              "ticks": ""
             }
            },
            "marker": {
             "colorbar": {
              "outlinewidth": 0,
              "ticks": ""
             }
            },
            "type": "scatter3d"
           }
          ],
          "scattercarpet": [
           {
            "marker": {
             "colorbar": {
              "outlinewidth": 0,
              "ticks": ""
             }
            },
            "type": "scattercarpet"
           }
          ],
          "scattergeo": [
           {
            "marker": {
             "colorbar": {
              "outlinewidth": 0,
              "ticks": ""
             }
            },
            "type": "scattergeo"
           }
          ],
          "scattergl": [
           {
            "marker": {
             "colorbar": {
              "outlinewidth": 0,
              "ticks": ""
             }
            },
            "type": "scattergl"
           }
          ],
          "scattermap": [
           {
            "marker": {
             "colorbar": {
              "outlinewidth": 0,
              "ticks": ""
             }
            },
            "type": "scattermap"
           }
          ],
          "scattermapbox": [
           {
            "marker": {
             "colorbar": {
              "outlinewidth": 0,
              "ticks": ""
             }
            },
            "type": "scattermapbox"
           }
          ],
          "scatterpolar": [
           {
            "marker": {
             "colorbar": {
              "outlinewidth": 0,
              "ticks": ""
             }
            },
            "type": "scatterpolar"
           }
          ],
          "scatterpolargl": [
           {
            "marker": {
             "colorbar": {
              "outlinewidth": 0,
              "ticks": ""
             }
            },
            "type": "scatterpolargl"
           }
          ],
          "scatterternary": [
           {
            "marker": {
             "colorbar": {
              "outlinewidth": 0,
              "ticks": ""
             }
            },
            "type": "scatterternary"
           }
          ],
          "surface": [
           {
            "colorbar": {
             "outlinewidth": 0,
             "ticks": ""
            },
            "colorscale": [
             [
              0,
              "#0d0887"
             ],
             [
              0.1111111111111111,
              "#46039f"
             ],
             [
              0.2222222222222222,
              "#7201a8"
             ],
             [
              0.3333333333333333,
              "#9c179e"
             ],
             [
              0.4444444444444444,
              "#bd3786"
             ],
             [
              0.5555555555555556,
              "#d8576b"
             ],
             [
              0.6666666666666666,
              "#ed7953"
             ],
             [
              0.7777777777777778,
              "#fb9f3a"
             ],
             [
              0.8888888888888888,
              "#fdca26"
             ],
             [
              1,
              "#f0f921"
             ]
            ],
            "type": "surface"
           }
          ],
          "table": [
           {
            "cells": {
             "fill": {
              "color": "#EBF0F8"
             },
             "line": {
              "color": "white"
             }
            },
            "header": {
             "fill": {
              "color": "#C8D4E3"
             },
             "line": {
              "color": "white"
             }
            },
            "type": "table"
           }
          ]
         },
         "layout": {
          "annotationdefaults": {
           "arrowcolor": "#2a3f5f",
           "arrowhead": 0,
           "arrowwidth": 1
          },
          "autotypenumbers": "strict",
          "coloraxis": {
           "colorbar": {
            "outlinewidth": 0,
            "ticks": ""
           }
          },
          "colorscale": {
           "diverging": [
            [
             0,
             "#8e0152"
            ],
            [
             0.1,
             "#c51b7d"
            ],
            [
             0.2,
             "#de77ae"
            ],
            [
             0.3,
             "#f1b6da"
            ],
            [
             0.4,
             "#fde0ef"
            ],
            [
             0.5,
             "#f7f7f7"
            ],
            [
             0.6,
             "#e6f5d0"
            ],
            [
             0.7,
             "#b8e186"
            ],
            [
             0.8,
             "#7fbc41"
            ],
            [
             0.9,
             "#4d9221"
            ],
            [
             1,
             "#276419"
            ]
           ],
           "sequential": [
            [
             0,
             "#0d0887"
            ],
            [
             0.1111111111111111,
             "#46039f"
            ],
            [
             0.2222222222222222,
             "#7201a8"
            ],
            [
             0.3333333333333333,
             "#9c179e"
            ],
            [
             0.4444444444444444,
             "#bd3786"
            ],
            [
             0.5555555555555556,
             "#d8576b"
            ],
            [
             0.6666666666666666,
             "#ed7953"
            ],
            [
             0.7777777777777778,
             "#fb9f3a"
            ],
            [
             0.8888888888888888,
             "#fdca26"
            ],
            [
             1,
             "#f0f921"
            ]
           ],
           "sequentialminus": [
            [
             0,
             "#0d0887"
            ],
            [
             0.1111111111111111,
             "#46039f"
            ],
            [
             0.2222222222222222,
             "#7201a8"
            ],
            [
             0.3333333333333333,
             "#9c179e"
            ],
            [
             0.4444444444444444,
             "#bd3786"
            ],
            [
             0.5555555555555556,
             "#d8576b"
            ],
            [
             0.6666666666666666,
             "#ed7953"
            ],
            [
             0.7777777777777778,
             "#fb9f3a"
            ],
            [
             0.8888888888888888,
             "#fdca26"
            ],
            [
             1,
             "#f0f921"
            ]
           ]
          },
          "colorway": [
           "#636efa",
           "#EF553B",
           "#00cc96",
           "#ab63fa",
           "#FFA15A",
           "#19d3f3",
           "#FF6692",
           "#B6E880",
           "#FF97FF",
           "#FECB52"
          ],
          "font": {
           "color": "#2a3f5f"
          },
          "geo": {
           "bgcolor": "white",
           "lakecolor": "white",
           "landcolor": "#E5ECF6",
           "showlakes": true,
           "showland": true,
           "subunitcolor": "white"
          },
          "hoverlabel": {
           "align": "left"
          },
          "hovermode": "closest",
          "mapbox": {
           "style": "light"
          },
          "paper_bgcolor": "white",
          "plot_bgcolor": "#E5ECF6",
          "polar": {
           "angularaxis": {
            "gridcolor": "white",
            "linecolor": "white",
            "ticks": ""
           },
           "bgcolor": "#E5ECF6",
           "radialaxis": {
            "gridcolor": "white",
            "linecolor": "white",
            "ticks": ""
           }
          },
          "scene": {
           "xaxis": {
            "backgroundcolor": "#E5ECF6",
            "gridcolor": "white",
            "gridwidth": 2,
            "linecolor": "white",
            "showbackground": true,
            "ticks": "",
            "zerolinecolor": "white"
           },
           "yaxis": {
            "backgroundcolor": "#E5ECF6",
            "gridcolor": "white",
            "gridwidth": 2,
            "linecolor": "white",
            "showbackground": true,
            "ticks": "",
            "zerolinecolor": "white"
           },
           "zaxis": {
            "backgroundcolor": "#E5ECF6",
            "gridcolor": "white",
            "gridwidth": 2,
            "linecolor": "white",
            "showbackground": true,
            "ticks": "",
            "zerolinecolor": "white"
           }
          },
          "shapedefaults": {
           "line": {
            "color": "#2a3f5f"
           }
          },
          "ternary": {
           "aaxis": {
            "gridcolor": "white",
            "linecolor": "white",
            "ticks": ""
           },
           "baxis": {
            "gridcolor": "white",
            "linecolor": "white",
            "ticks": ""
           },
           "bgcolor": "#E5ECF6",
           "caxis": {
            "gridcolor": "white",
            "linecolor": "white",
            "ticks": ""
           }
          },
          "title": {
           "x": 0.05
          },
          "xaxis": {
           "automargin": true,
           "gridcolor": "white",
           "linecolor": "white",
           "ticks": "",
           "title": {
            "standoff": 15
           },
           "zerolinecolor": "white",
           "zerolinewidth": 2
          },
          "yaxis": {
           "automargin": true,
           "gridcolor": "white",
           "linecolor": "white",
           "ticks": "",
           "title": {
            "standoff": 15
           },
           "zerolinecolor": "white",
           "zerolinewidth": 2
          }
         }
        },
        "title": {
         "text": "Common Size Income Statement for: PG"
        },
        "width": 800,
        "xaxis": {
         "title": {
          "text": "Year"
         }
        },
        "yaxis": {
         "title": {
          "text": "Amount % "
         }
        }
       }
      }
     },
     "metadata": {},
     "output_type": "display_data"
    }
   ],
   "source": [
    "# Income Statement Graph\n",
    "\n",
    "# Graph the Income Statement\n",
    "fig = go.Figure(\n",
    "    data=[\n",
    "        go.Bar(name='Revenue',\n",
    "               x=is_df[\"calendarYear\"],\n",
    "               y=is_df['revenue'],\n",
    "               marker_color='#004369'\n",
    "               ),\n",
    "        go.Bar(name='Net Income',\n",
    "               x=is_df[\"calendarYear\"],\n",
    "               y=is_df['netIncome'],\n",
    "               marker_color='#41729f'\n",
    "               ),\n",
    "        go.Bar(name='Interest Expense',\n",
    "               x=is_df[\"calendarYear\"],\n",
    "               y=is_df['interestIncome'],\n",
    "               marker_color='#DB1F48'\n",
    "               )\n",
    "          ])\n",
    "fig.update_layout(barmode='group',\n",
    "                  title=str('Income Statement for: '+company),\n",
    "                  xaxis_title='Year',\n",
    "                  yaxis_title=('Amount $mm '+currency),\n",
    "                  legend=dict(orientation=\"h\",\n",
    "                              yanchor=\"bottom\",\n",
    "                              y=1.0,\n",
    "                              xanchor=\"right\",\n",
    "                              x=1),\n",
    "                  width=800, height=400)\n",
    "\n",
    "fig.update_traces(texttemplate=\"%{y:.2s}\", textposition=\"inside\")\n",
    "file_name = \"images/output/is_graph.png\"\n",
    "fig.write_image(file_name, scale=2)\n",
    "\n",
    "print(\"Income statement graph created.\\n\")\n",
    "fig.show()\n",
    "\n",
    "# Common Size Income Statement Graph\n",
    "fig = go.Figure(\n",
    "    data=[\n",
    "        go.Bar(name='Revenue',\n",
    "               x=is_df[\"calendarYear\"],\n",
    "               y=is_df['revenue']/is_df['revenue']*100,\n",
    "               marker_color='#004369'\n",
    "               ),\n",
    "        go.Bar(name='Net Income',\n",
    "               x=is_df[\"calendarYear\"],\n",
    "               y=is_df['netIncome']/is_df['revenue']*100,\n",
    "               marker_color='#41729f'\n",
    "               ),\n",
    "        go.Bar(name='Interest Expense',\n",
    "               x=is_df[\"calendarYear\"],\n",
    "               y=is_df['interestIncome']/is_df['revenue']*100,\n",
    "               marker_color='#DB1F48'\n",
    "               )\n",
    "          ])\n",
    "fig.update_layout(barmode='group',\n",
    "                  title=str('Common Size Income Statement for: '+company),\n",
    "                  xaxis_title='Year',\n",
    "                  yaxis_title=('Amount % '),\n",
    "                  legend=dict(orientation=\"h\",\n",
    "                              yanchor=\"bottom\",\n",
    "                              y=1.0,\n",
    "                              xanchor=\"right\",\n",
    "                              x=1),\n",
    "                  width=800, height=400)\n",
    "\n",
    "fig.update_traces(texttemplate=\"%{y:.2s}\", textposition=\"inside\")\n",
    "file_name = \"images/output/is_graph_cs.png\"\n",
    "fig.write_image(file_name, scale=2)\n",
    "\n",
    "print(\"Common size income statement graph created.\\n\")\n",
    "fig.show()"
   ]
  },
  {
   "cell_type": "markdown",
   "id": "a20467f4-de54-4dba-ae1a-7e06200bf6c0",
   "metadata": {},
   "source": [
    "<a id=\"CF_graph\"></a>\n",
    "### [Graph] Cash Flow Statement [*](#index)"
   ]
  },
  {
   "cell_type": "code",
   "execution_count": 17,
   "id": "ec269ff5-1e2f-4aa9-9d81-c963f9909fb2",
   "metadata": {},
   "outputs": [
    {
     "name": "stdout",
     "output_type": "stream",
     "text": [
      "Cash flow statement graph created.\n",
      "\n"
     ]
    },
    {
     "data": {
      "application/vnd.plotly.v1+json": {
       "config": {
        "plotlyServerURL": "https://plot.ly"
       },
       "data": [
        {
         "marker": {
          "color": "#01949A"
         },
         "name": "CF Operations",
         "offsetgroup": "2",
         "textposition": "inside",
         "texttemplate": "%{y:.2s}",
         "type": "bar",
         "x": [
          "2020",
          "2021",
          "2022",
          "2023",
          "2024"
         ],
         "y": [
          17403000000,
          18371000000,
          16723000000,
          16848000000,
          19846000000
         ]
        },
        {
         "marker": {
          "color": "#004369"
         },
         "name": "CF Investing",
         "offsetgroup": "3",
         "textposition": "inside",
         "texttemplate": "%{y:.2s}",
         "type": "bar",
         "x": [
          "2020",
          "2021",
          "2022",
          "2023",
          "2024"
         ],
         "y": [
          3045000000,
          -2834000000,
          -4424000000,
          -3500000000,
          -3504000000
         ]
        },
        {
         "marker": {
          "color": "#DB1F48"
         },
         "name": "CF Financing",
         "offsetgroup": "4",
         "textposition": "inside",
         "texttemplate": "%{y:.2s}",
         "type": "bar",
         "x": [
          "2020",
          "2021",
          "2022",
          "2023",
          "2024"
         ],
         "y": [
          -8367000000,
          -21531000000,
          -14876000000,
          -12146000000,
          -14855000000
         ]
        }
       ],
       "layout": {
        "barmode": "group",
        "height": 400,
        "legend": {
         "orientation": "h",
         "x": 1,
         "xanchor": "right",
         "y": 1,
         "yanchor": "bottom"
        },
        "template": {
         "data": {
          "bar": [
           {
            "error_x": {
             "color": "#2a3f5f"
            },
            "error_y": {
             "color": "#2a3f5f"
            },
            "marker": {
             "line": {
              "color": "#E5ECF6",
              "width": 0.5
             },
             "pattern": {
              "fillmode": "overlay",
              "size": 10,
              "solidity": 0.2
             }
            },
            "type": "bar"
           }
          ],
          "barpolar": [
           {
            "marker": {
             "line": {
              "color": "#E5ECF6",
              "width": 0.5
             },
             "pattern": {
              "fillmode": "overlay",
              "size": 10,
              "solidity": 0.2
             }
            },
            "type": "barpolar"
           }
          ],
          "carpet": [
           {
            "aaxis": {
             "endlinecolor": "#2a3f5f",
             "gridcolor": "white",
             "linecolor": "white",
             "minorgridcolor": "white",
             "startlinecolor": "#2a3f5f"
            },
            "baxis": {
             "endlinecolor": "#2a3f5f",
             "gridcolor": "white",
             "linecolor": "white",
             "minorgridcolor": "white",
             "startlinecolor": "#2a3f5f"
            },
            "type": "carpet"
           }
          ],
          "choropleth": [
           {
            "colorbar": {
             "outlinewidth": 0,
             "ticks": ""
            },
            "type": "choropleth"
           }
          ],
          "contour": [
           {
            "colorbar": {
             "outlinewidth": 0,
             "ticks": ""
            },
            "colorscale": [
             [
              0,
              "#0d0887"
             ],
             [
              0.1111111111111111,
              "#46039f"
             ],
             [
              0.2222222222222222,
              "#7201a8"
             ],
             [
              0.3333333333333333,
              "#9c179e"
             ],
             [
              0.4444444444444444,
              "#bd3786"
             ],
             [
              0.5555555555555556,
              "#d8576b"
             ],
             [
              0.6666666666666666,
              "#ed7953"
             ],
             [
              0.7777777777777778,
              "#fb9f3a"
             ],
             [
              0.8888888888888888,
              "#fdca26"
             ],
             [
              1,
              "#f0f921"
             ]
            ],
            "type": "contour"
           }
          ],
          "contourcarpet": [
           {
            "colorbar": {
             "outlinewidth": 0,
             "ticks": ""
            },
            "type": "contourcarpet"
           }
          ],
          "heatmap": [
           {
            "colorbar": {
             "outlinewidth": 0,
             "ticks": ""
            },
            "colorscale": [
             [
              0,
              "#0d0887"
             ],
             [
              0.1111111111111111,
              "#46039f"
             ],
             [
              0.2222222222222222,
              "#7201a8"
             ],
             [
              0.3333333333333333,
              "#9c179e"
             ],
             [
              0.4444444444444444,
              "#bd3786"
             ],
             [
              0.5555555555555556,
              "#d8576b"
             ],
             [
              0.6666666666666666,
              "#ed7953"
             ],
             [
              0.7777777777777778,
              "#fb9f3a"
             ],
             [
              0.8888888888888888,
              "#fdca26"
             ],
             [
              1,
              "#f0f921"
             ]
            ],
            "type": "heatmap"
           }
          ],
          "histogram": [
           {
            "marker": {
             "pattern": {
              "fillmode": "overlay",
              "size": 10,
              "solidity": 0.2
             }
            },
            "type": "histogram"
           }
          ],
          "histogram2d": [
           {
            "colorbar": {
             "outlinewidth": 0,
             "ticks": ""
            },
            "colorscale": [
             [
              0,
              "#0d0887"
             ],
             [
              0.1111111111111111,
              "#46039f"
             ],
             [
              0.2222222222222222,
              "#7201a8"
             ],
             [
              0.3333333333333333,
              "#9c179e"
             ],
             [
              0.4444444444444444,
              "#bd3786"
             ],
             [
              0.5555555555555556,
              "#d8576b"
             ],
             [
              0.6666666666666666,
              "#ed7953"
             ],
             [
              0.7777777777777778,
              "#fb9f3a"
             ],
             [
              0.8888888888888888,
              "#fdca26"
             ],
             [
              1,
              "#f0f921"
             ]
            ],
            "type": "histogram2d"
           }
          ],
          "histogram2dcontour": [
           {
            "colorbar": {
             "outlinewidth": 0,
             "ticks": ""
            },
            "colorscale": [
             [
              0,
              "#0d0887"
             ],
             [
              0.1111111111111111,
              "#46039f"
             ],
             [
              0.2222222222222222,
              "#7201a8"
             ],
             [
              0.3333333333333333,
              "#9c179e"
             ],
             [
              0.4444444444444444,
              "#bd3786"
             ],
             [
              0.5555555555555556,
              "#d8576b"
             ],
             [
              0.6666666666666666,
              "#ed7953"
             ],
             [
              0.7777777777777778,
              "#fb9f3a"
             ],
             [
              0.8888888888888888,
              "#fdca26"
             ],
             [
              1,
              "#f0f921"
             ]
            ],
            "type": "histogram2dcontour"
           }
          ],
          "mesh3d": [
           {
            "colorbar": {
             "outlinewidth": 0,
             "ticks": ""
            },
            "type": "mesh3d"
           }
          ],
          "parcoords": [
           {
            "line": {
             "colorbar": {
              "outlinewidth": 0,
              "ticks": ""
             }
            },
            "type": "parcoords"
           }
          ],
          "pie": [
           {
            "automargin": true,
            "type": "pie"
           }
          ],
          "scatter": [
           {
            "fillpattern": {
             "fillmode": "overlay",
             "size": 10,
             "solidity": 0.2
            },
            "type": "scatter"
           }
          ],
          "scatter3d": [
           {
            "line": {
             "colorbar": {
              "outlinewidth": 0,
              "ticks": ""
             }
            },
            "marker": {
             "colorbar": {
              "outlinewidth": 0,
              "ticks": ""
             }
            },
            "type": "scatter3d"
           }
          ],
          "scattercarpet": [
           {
            "marker": {
             "colorbar": {
              "outlinewidth": 0,
              "ticks": ""
             }
            },
            "type": "scattercarpet"
           }
          ],
          "scattergeo": [
           {
            "marker": {
             "colorbar": {
              "outlinewidth": 0,
              "ticks": ""
             }
            },
            "type": "scattergeo"
           }
          ],
          "scattergl": [
           {
            "marker": {
             "colorbar": {
              "outlinewidth": 0,
              "ticks": ""
             }
            },
            "type": "scattergl"
           }
          ],
          "scattermap": [
           {
            "marker": {
             "colorbar": {
              "outlinewidth": 0,
              "ticks": ""
             }
            },
            "type": "scattermap"
           }
          ],
          "scattermapbox": [
           {
            "marker": {
             "colorbar": {
              "outlinewidth": 0,
              "ticks": ""
             }
            },
            "type": "scattermapbox"
           }
          ],
          "scatterpolar": [
           {
            "marker": {
             "colorbar": {
              "outlinewidth": 0,
              "ticks": ""
             }
            },
            "type": "scatterpolar"
           }
          ],
          "scatterpolargl": [
           {
            "marker": {
             "colorbar": {
              "outlinewidth": 0,
              "ticks": ""
             }
            },
            "type": "scatterpolargl"
           }
          ],
          "scatterternary": [
           {
            "marker": {
             "colorbar": {
              "outlinewidth": 0,
              "ticks": ""
             }
            },
            "type": "scatterternary"
           }
          ],
          "surface": [
           {
            "colorbar": {
             "outlinewidth": 0,
             "ticks": ""
            },
            "colorscale": [
             [
              0,
              "#0d0887"
             ],
             [
              0.1111111111111111,
              "#46039f"
             ],
             [
              0.2222222222222222,
              "#7201a8"
             ],
             [
              0.3333333333333333,
              "#9c179e"
             ],
             [
              0.4444444444444444,
              "#bd3786"
             ],
             [
              0.5555555555555556,
              "#d8576b"
             ],
             [
              0.6666666666666666,
              "#ed7953"
             ],
             [
              0.7777777777777778,
              "#fb9f3a"
             ],
             [
              0.8888888888888888,
              "#fdca26"
             ],
             [
              1,
              "#f0f921"
             ]
            ],
            "type": "surface"
           }
          ],
          "table": [
           {
            "cells": {
             "fill": {
              "color": "#EBF0F8"
             },
             "line": {
              "color": "white"
             }
            },
            "header": {
             "fill": {
              "color": "#C8D4E3"
             },
             "line": {
              "color": "white"
             }
            },
            "type": "table"
           }
          ]
         },
         "layout": {
          "annotationdefaults": {
           "arrowcolor": "#2a3f5f",
           "arrowhead": 0,
           "arrowwidth": 1
          },
          "autotypenumbers": "strict",
          "coloraxis": {
           "colorbar": {
            "outlinewidth": 0,
            "ticks": ""
           }
          },
          "colorscale": {
           "diverging": [
            [
             0,
             "#8e0152"
            ],
            [
             0.1,
             "#c51b7d"
            ],
            [
             0.2,
             "#de77ae"
            ],
            [
             0.3,
             "#f1b6da"
            ],
            [
             0.4,
             "#fde0ef"
            ],
            [
             0.5,
             "#f7f7f7"
            ],
            [
             0.6,
             "#e6f5d0"
            ],
            [
             0.7,
             "#b8e186"
            ],
            [
             0.8,
             "#7fbc41"
            ],
            [
             0.9,
             "#4d9221"
            ],
            [
             1,
             "#276419"
            ]
           ],
           "sequential": [
            [
             0,
             "#0d0887"
            ],
            [
             0.1111111111111111,
             "#46039f"
            ],
            [
             0.2222222222222222,
             "#7201a8"
            ],
            [
             0.3333333333333333,
             "#9c179e"
            ],
            [
             0.4444444444444444,
             "#bd3786"
            ],
            [
             0.5555555555555556,
             "#d8576b"
            ],
            [
             0.6666666666666666,
             "#ed7953"
            ],
            [
             0.7777777777777778,
             "#fb9f3a"
            ],
            [
             0.8888888888888888,
             "#fdca26"
            ],
            [
             1,
             "#f0f921"
            ]
           ],
           "sequentialminus": [
            [
             0,
             "#0d0887"
            ],
            [
             0.1111111111111111,
             "#46039f"
            ],
            [
             0.2222222222222222,
             "#7201a8"
            ],
            [
             0.3333333333333333,
             "#9c179e"
            ],
            [
             0.4444444444444444,
             "#bd3786"
            ],
            [
             0.5555555555555556,
             "#d8576b"
            ],
            [
             0.6666666666666666,
             "#ed7953"
            ],
            [
             0.7777777777777778,
             "#fb9f3a"
            ],
            [
             0.8888888888888888,
             "#fdca26"
            ],
            [
             1,
             "#f0f921"
            ]
           ]
          },
          "colorway": [
           "#636efa",
           "#EF553B",
           "#00cc96",
           "#ab63fa",
           "#FFA15A",
           "#19d3f3",
           "#FF6692",
           "#B6E880",
           "#FF97FF",
           "#FECB52"
          ],
          "font": {
           "color": "#2a3f5f"
          },
          "geo": {
           "bgcolor": "white",
           "lakecolor": "white",
           "landcolor": "#E5ECF6",
           "showlakes": true,
           "showland": true,
           "subunitcolor": "white"
          },
          "hoverlabel": {
           "align": "left"
          },
          "hovermode": "closest",
          "mapbox": {
           "style": "light"
          },
          "paper_bgcolor": "white",
          "plot_bgcolor": "#E5ECF6",
          "polar": {
           "angularaxis": {
            "gridcolor": "white",
            "linecolor": "white",
            "ticks": ""
           },
           "bgcolor": "#E5ECF6",
           "radialaxis": {
            "gridcolor": "white",
            "linecolor": "white",
            "ticks": ""
           }
          },
          "scene": {
           "xaxis": {
            "backgroundcolor": "#E5ECF6",
            "gridcolor": "white",
            "gridwidth": 2,
            "linecolor": "white",
            "showbackground": true,
            "ticks": "",
            "zerolinecolor": "white"
           },
           "yaxis": {
            "backgroundcolor": "#E5ECF6",
            "gridcolor": "white",
            "gridwidth": 2,
            "linecolor": "white",
            "showbackground": true,
            "ticks": "",
            "zerolinecolor": "white"
           },
           "zaxis": {
            "backgroundcolor": "#E5ECF6",
            "gridcolor": "white",
            "gridwidth": 2,
            "linecolor": "white",
            "showbackground": true,
            "ticks": "",
            "zerolinecolor": "white"
           }
          },
          "shapedefaults": {
           "line": {
            "color": "#2a3f5f"
           }
          },
          "ternary": {
           "aaxis": {
            "gridcolor": "white",
            "linecolor": "white",
            "ticks": ""
           },
           "baxis": {
            "gridcolor": "white",
            "linecolor": "white",
            "ticks": ""
           },
           "bgcolor": "#E5ECF6",
           "caxis": {
            "gridcolor": "white",
            "linecolor": "white",
            "ticks": ""
           }
          },
          "title": {
           "x": 0.05
          },
          "xaxis": {
           "automargin": true,
           "gridcolor": "white",
           "linecolor": "white",
           "ticks": "",
           "title": {
            "standoff": 15
           },
           "zerolinecolor": "white",
           "zerolinewidth": 2
          },
          "yaxis": {
           "automargin": true,
           "gridcolor": "white",
           "linecolor": "white",
           "ticks": "",
           "title": {
            "standoff": 15
           },
           "zerolinecolor": "white",
           "zerolinewidth": 2
          }
         }
        },
        "title": {
         "text": "Cash Flow Statement for: PG"
        },
        "width": 800,
        "xaxis": {
         "title": {
          "text": "Year"
         }
        },
        "yaxis": {
         "title": {
          "text": "Amount $mm USD"
         }
        }
       }
      }
     },
     "metadata": {},
     "output_type": "display_data"
    }
   ],
   "source": [
    "# Cash Flow Statement Graph\n",
    "\n",
    "# Graph the Cash Flow Statement\n",
    "fig = go.Figure(\n",
    "    data=[\n",
    "        go.Bar(name='CF Operations',\n",
    "               x=cf_df[\"calendarYear\"],\n",
    "               y=cf_df['netCashProvidedByOperatingActivities'],\n",
    "               marker_color='#01949A',\n",
    "               offsetgroup=2\n",
    "               ),\n",
    "        go.Bar(name='CF Investing',\n",
    "               x=cf_df[\"calendarYear\"],\n",
    "               y=cf_df['netCashUsedForInvestingActivites'],\n",
    "               marker_color='#004369',\n",
    "               offsetgroup=3,\n",
    "               ),\n",
    "        go.Bar(name='CF Financing',\n",
    "               x=cf_df[\"calendarYear\"],\n",
    "               y=cf_df['netCashUsedProvidedByFinancingActivities'],\n",
    "               marker_color='#DB1F48',\n",
    "               offsetgroup=4,\n",
    "               )\n",
    "          ])\n",
    "fig.update_layout(barmode='group',\n",
    "                  title=str('Cash Flow Statement for: '+company),\n",
    "                  xaxis_title='Year',\n",
    "                  yaxis_title=('Amount $mm '+currency),\n",
    "                  legend=dict(orientation=\"h\",\n",
    "                              yanchor=\"bottom\",\n",
    "                              y=1.0,\n",
    "                              xanchor=\"right\",\n",
    "                              x=1),\n",
    "                  width=800, height=400)\n",
    "\n",
    "fig.update_traces(texttemplate='%{y:.2s}', textposition='inside')\n",
    "file_name = \"images/output/cf_graph.png\"\n",
    "fig.write_image(file_name, scale=2)\n",
    "\n",
    "print(\"Cash flow statement graph created.\\n\")\n",
    "fig.show()"
   ]
  },
  {
   "cell_type": "markdown",
   "id": "8271693c-e346-4966-b154-d4488fe28685",
   "metadata": {},
   "source": [
    "<a id=\"equity_uses_table\"></a>\n",
    "### [DataFrame] Equity Uses [*](#index)"
   ]
  },
  {
   "cell_type": "code",
   "execution_count": 18,
   "id": "d55dbd7f-bf20-43bd-9702-1b026a8bacc2",
   "metadata": {},
   "outputs": [
    {
     "name": "stdout",
     "output_type": "stream",
     "text": [
      "Dataframe 'equityUses_df' created.\n",
      "\n"
     ]
    }
   ],
   "source": [
    "# Equity uses Graph needs data from three data frames:\n",
    "# Create a new data frame with the information needed\n",
    "\n",
    "# Copy original df into a new df\n",
    "bs_equity = bs_df.copy(deep=True)\n",
    "cf_equity = cf_df.copy(deep=True)\n",
    "is_equity = is_df.copy(deep=True)\n",
    "\n",
    "# Add Last Year Equity column to BS\n",
    "bs_equity['LY_totalStockholdersEquity'] = (\n",
    "    bs_equity['totalStockholdersEquity'].shift(-1)\n",
    ")\n",
    "\n",
    "# Make the date the index value\n",
    "bs_equity.set_index('date', inplace=True)\n",
    "cf_equity.set_index('date', inplace=True)\n",
    "is_equity.set_index('date', inplace=True)\n",
    "\n",
    "# Drop duplicate column netIncome\n",
    "cf_equity.drop('netIncome', axis=1, inplace=True)\n",
    "\n",
    "# Merge data frames\n",
    "equityUses_df = pd.concat([bs_equity, cf_equity, is_equity], axis=1)\n",
    "\n",
    "# Reset index to make 'date' a column instead of index value\n",
    "equityUses_df = equityUses_df.reset_index()\n",
    "\n",
    "# Make sure all variables are float64\n",
    "equityUses_df['LY_totalStockholdersEquity'] = (\n",
    "    equityUses_df['LY_totalStockholdersEquity'].astype(float)\n",
    ")\n",
    "equityUses_df['netIncome'] = equityUses_df['netIncome'].astype(float)\n",
    "equityUses_df['dividendsPaid'] = equityUses_df['dividendsPaid'].astype(float)\n",
    "\n",
    "print(\"Dataframe 'equityUses_df' created.\\n\")"
   ]
  },
  {
   "cell_type": "markdown",
   "id": "5718cee2-dea2-4140-945b-e8ca168cb595",
   "metadata": {},
   "source": [
    "<a id=\"equity_uses\"></a>\n",
    "### [Graph] Equity Uses [*](#index)"
   ]
  },
  {
   "cell_type": "code",
   "execution_count": 19,
   "id": "3c2e65e2-016e-491a-9768-1541c3606be4",
   "metadata": {},
   "outputs": [
    {
     "name": "stdout",
     "output_type": "stream",
     "text": [
      "Equity Uses graph created.\n",
      "\n"
     ]
    },
    {
     "data": {
      "application/vnd.plotly.v1+json": {
       "config": {
        "plotlyServerURL": "https://plot.ly"
       },
       "data": [
        {
         "marker": {
          "color": "#738fa7"
         },
         "name": "Beginning Equity",
         "offsetgroup": "0",
         "textposition": "inside",
         "texttemplate": "%{y:.2s}",
         "type": "bar",
         "x": [
          "2020-06-30",
          "2021-06-30",
          "2022-06-30",
          "2023-06-30",
          "2024-06-30"
         ],
         "y": {
          "bdata": "AAAAPbCYJUIAAIBy17ElQgAAgMBAyCVCAACAc61qJ0IAAAAAAAD4fw==",
          "dtype": "f8"
         }
        },
        {
         "marker": {
          "color": "#005f73"
         },
         "name": "NetIncome",
         "offsetgroup": "1",
         "textposition": "inside",
         "texttemplate": "%{y:.2s}",
         "type": "bar",
         "x": [
          "2020-06-30",
          "2021-06-30",
          "2022-06-30",
          "2023-06-30",
          "2024-06-30"
         ],
         "y": {
          "bdata": "AAAA9sFDCEIAAADkoaUKQgAAAIyIdQtCAAAAShhLC0IAAAAu3LYLQg==",
          "dtype": "f8"
         }
        },
        {
         "marker": {
          "color": "#0a9396"
         },
         "name": "Dividends",
         "offsetgroup": "1",
         "textposition": "inside",
         "texttemplate": "%{y:.2s}",
         "type": "bar",
         "x": [
          "2020-06-30",
          "2021-06-30",
          "2022-06-30",
          "2023-06-30",
          "2024-06-30"
         ],
         "y": {
          "bdata": "AAAAVCsE/cEAAAD8Ncj+wQAAAKTcVQDCAAAAvg7DAMIAAADATlgBwg==",
          "dtype": "f8"
         }
        },
        {
         "marker": {
          "color": "#41729f"
         },
         "name": "Ending Equity (expected)",
         "offsetgroup": "2",
         "textposition": "inside",
         "texttemplate": "%{y:.2s}",
         "type": "bar",
         "x": [
          "2020-06-30",
          "2021-06-30",
          "2022-06-30",
          "2023-06-30",
          "2024-06-30"
         ],
         "y": {
          "bdata": "AAAAUBsJKEIAAAAsOYIoQgAAgLorkChCAACA1q8MKkIAAAAAAAD4fw==",
          "dtype": "f8"
         }
        },
        {
         "marker": {
          "color": "#004369"
         },
         "name": "Ending Equity (real)",
         "offsetgroup": "3",
         "textposition": "inside",
         "texttemplate": "%{y:.2s}",
         "type": "bar",
         "x": [
          "2020-06-30",
          "2021-06-30",
          "2022-06-30",
          "2023-06-30",
          "2024-06-30"
         ],
         "y": [
          46521000000,
          46378000000,
          46589000000,
          46777000000,
          50287000000
         ]
        }
       ],
       "layout": {
        "barmode": "group",
        "height": 400,
        "legend": {
         "orientation": "h",
         "x": 1,
         "xanchor": "right",
         "y": 1,
         "yanchor": "bottom"
        },
        "template": {
         "data": {
          "bar": [
           {
            "error_x": {
             "color": "#2a3f5f"
            },
            "error_y": {
             "color": "#2a3f5f"
            },
            "marker": {
             "line": {
              "color": "#E5ECF6",
              "width": 0.5
             },
             "pattern": {
              "fillmode": "overlay",
              "size": 10,
              "solidity": 0.2
             }
            },
            "type": "bar"
           }
          ],
          "barpolar": [
           {
            "marker": {
             "line": {
              "color": "#E5ECF6",
              "width": 0.5
             },
             "pattern": {
              "fillmode": "overlay",
              "size": 10,
              "solidity": 0.2
             }
            },
            "type": "barpolar"
           }
          ],
          "carpet": [
           {
            "aaxis": {
             "endlinecolor": "#2a3f5f",
             "gridcolor": "white",
             "linecolor": "white",
             "minorgridcolor": "white",
             "startlinecolor": "#2a3f5f"
            },
            "baxis": {
             "endlinecolor": "#2a3f5f",
             "gridcolor": "white",
             "linecolor": "white",
             "minorgridcolor": "white",
             "startlinecolor": "#2a3f5f"
            },
            "type": "carpet"
           }
          ],
          "choropleth": [
           {
            "colorbar": {
             "outlinewidth": 0,
             "ticks": ""
            },
            "type": "choropleth"
           }
          ],
          "contour": [
           {
            "colorbar": {
             "outlinewidth": 0,
             "ticks": ""
            },
            "colorscale": [
             [
              0,
              "#0d0887"
             ],
             [
              0.1111111111111111,
              "#46039f"
             ],
             [
              0.2222222222222222,
              "#7201a8"
             ],
             [
              0.3333333333333333,
              "#9c179e"
             ],
             [
              0.4444444444444444,
              "#bd3786"
             ],
             [
              0.5555555555555556,
              "#d8576b"
             ],
             [
              0.6666666666666666,
              "#ed7953"
             ],
             [
              0.7777777777777778,
              "#fb9f3a"
             ],
             [
              0.8888888888888888,
              "#fdca26"
             ],
             [
              1,
              "#f0f921"
             ]
            ],
            "type": "contour"
           }
          ],
          "contourcarpet": [
           {
            "colorbar": {
             "outlinewidth": 0,
             "ticks": ""
            },
            "type": "contourcarpet"
           }
          ],
          "heatmap": [
           {
            "colorbar": {
             "outlinewidth": 0,
             "ticks": ""
            },
            "colorscale": [
             [
              0,
              "#0d0887"
             ],
             [
              0.1111111111111111,
              "#46039f"
             ],
             [
              0.2222222222222222,
              "#7201a8"
             ],
             [
              0.3333333333333333,
              "#9c179e"
             ],
             [
              0.4444444444444444,
              "#bd3786"
             ],
             [
              0.5555555555555556,
              "#d8576b"
             ],
             [
              0.6666666666666666,
              "#ed7953"
             ],
             [
              0.7777777777777778,
              "#fb9f3a"
             ],
             [
              0.8888888888888888,
              "#fdca26"
             ],
             [
              1,
              "#f0f921"
             ]
            ],
            "type": "heatmap"
           }
          ],
          "histogram": [
           {
            "marker": {
             "pattern": {
              "fillmode": "overlay",
              "size": 10,
              "solidity": 0.2
             }
            },
            "type": "histogram"
           }
          ],
          "histogram2d": [
           {
            "colorbar": {
             "outlinewidth": 0,
             "ticks": ""
            },
            "colorscale": [
             [
              0,
              "#0d0887"
             ],
             [
              0.1111111111111111,
              "#46039f"
             ],
             [
              0.2222222222222222,
              "#7201a8"
             ],
             [
              0.3333333333333333,
              "#9c179e"
             ],
             [
              0.4444444444444444,
              "#bd3786"
             ],
             [
              0.5555555555555556,
              "#d8576b"
             ],
             [
              0.6666666666666666,
              "#ed7953"
             ],
             [
              0.7777777777777778,
              "#fb9f3a"
             ],
             [
              0.8888888888888888,
              "#fdca26"
             ],
             [
              1,
              "#f0f921"
             ]
            ],
            "type": "histogram2d"
           }
          ],
          "histogram2dcontour": [
           {
            "colorbar": {
             "outlinewidth": 0,
             "ticks": ""
            },
            "colorscale": [
             [
              0,
              "#0d0887"
             ],
             [
              0.1111111111111111,
              "#46039f"
             ],
             [
              0.2222222222222222,
              "#7201a8"
             ],
             [
              0.3333333333333333,
              "#9c179e"
             ],
             [
              0.4444444444444444,
              "#bd3786"
             ],
             [
              0.5555555555555556,
              "#d8576b"
             ],
             [
              0.6666666666666666,
              "#ed7953"
             ],
             [
              0.7777777777777778,
              "#fb9f3a"
             ],
             [
              0.8888888888888888,
              "#fdca26"
             ],
             [
              1,
              "#f0f921"
             ]
            ],
            "type": "histogram2dcontour"
           }
          ],
          "mesh3d": [
           {
            "colorbar": {
             "outlinewidth": 0,
             "ticks": ""
            },
            "type": "mesh3d"
           }
          ],
          "parcoords": [
           {
            "line": {
             "colorbar": {
              "outlinewidth": 0,
              "ticks": ""
             }
            },
            "type": "parcoords"
           }
          ],
          "pie": [
           {
            "automargin": true,
            "type": "pie"
           }
          ],
          "scatter": [
           {
            "fillpattern": {
             "fillmode": "overlay",
             "size": 10,
             "solidity": 0.2
            },
            "type": "scatter"
           }
          ],
          "scatter3d": [
           {
            "line": {
             "colorbar": {
              "outlinewidth": 0,
              "ticks": ""
             }
            },
            "marker": {
             "colorbar": {
              "outlinewidth": 0,
              "ticks": ""
             }
            },
            "type": "scatter3d"
           }
          ],
          "scattercarpet": [
           {
            "marker": {
             "colorbar": {
              "outlinewidth": 0,
              "ticks": ""
             }
            },
            "type": "scattercarpet"
           }
          ],
          "scattergeo": [
           {
            "marker": {
             "colorbar": {
              "outlinewidth": 0,
              "ticks": ""
             }
            },
            "type": "scattergeo"
           }
          ],
          "scattergl": [
           {
            "marker": {
             "colorbar": {
              "outlinewidth": 0,
              "ticks": ""
             }
            },
            "type": "scattergl"
           }
          ],
          "scattermap": [
           {
            "marker": {
             "colorbar": {
              "outlinewidth": 0,
              "ticks": ""
             }
            },
            "type": "scattermap"
           }
          ],
          "scattermapbox": [
           {
            "marker": {
             "colorbar": {
              "outlinewidth": 0,
              "ticks": ""
             }
            },
            "type": "scattermapbox"
           }
          ],
          "scatterpolar": [
           {
            "marker": {
             "colorbar": {
              "outlinewidth": 0,
              "ticks": ""
             }
            },
            "type": "scatterpolar"
           }
          ],
          "scatterpolargl": [
           {
            "marker": {
             "colorbar": {
              "outlinewidth": 0,
              "ticks": ""
             }
            },
            "type": "scatterpolargl"
           }
          ],
          "scatterternary": [
           {
            "marker": {
             "colorbar": {
              "outlinewidth": 0,
              "ticks": ""
             }
            },
            "type": "scatterternary"
           }
          ],
          "surface": [
           {
            "colorbar": {
             "outlinewidth": 0,
             "ticks": ""
            },
            "colorscale": [
             [
              0,
              "#0d0887"
             ],
             [
              0.1111111111111111,
              "#46039f"
             ],
             [
              0.2222222222222222,
              "#7201a8"
             ],
             [
              0.3333333333333333,
              "#9c179e"
             ],
             [
              0.4444444444444444,
              "#bd3786"
             ],
             [
              0.5555555555555556,
              "#d8576b"
             ],
             [
              0.6666666666666666,
              "#ed7953"
             ],
             [
              0.7777777777777778,
              "#fb9f3a"
             ],
             [
              0.8888888888888888,
              "#fdca26"
             ],
             [
              1,
              "#f0f921"
             ]
            ],
            "type": "surface"
           }
          ],
          "table": [
           {
            "cells": {
             "fill": {
              "color": "#EBF0F8"
             },
             "line": {
              "color": "white"
             }
            },
            "header": {
             "fill": {
              "color": "#C8D4E3"
             },
             "line": {
              "color": "white"
             }
            },
            "type": "table"
           }
          ]
         },
         "layout": {
          "annotationdefaults": {
           "arrowcolor": "#2a3f5f",
           "arrowhead": 0,
           "arrowwidth": 1
          },
          "autotypenumbers": "strict",
          "coloraxis": {
           "colorbar": {
            "outlinewidth": 0,
            "ticks": ""
           }
          },
          "colorscale": {
           "diverging": [
            [
             0,
             "#8e0152"
            ],
            [
             0.1,
             "#c51b7d"
            ],
            [
             0.2,
             "#de77ae"
            ],
            [
             0.3,
             "#f1b6da"
            ],
            [
             0.4,
             "#fde0ef"
            ],
            [
             0.5,
             "#f7f7f7"
            ],
            [
             0.6,
             "#e6f5d0"
            ],
            [
             0.7,
             "#b8e186"
            ],
            [
             0.8,
             "#7fbc41"
            ],
            [
             0.9,
             "#4d9221"
            ],
            [
             1,
             "#276419"
            ]
           ],
           "sequential": [
            [
             0,
             "#0d0887"
            ],
            [
             0.1111111111111111,
             "#46039f"
            ],
            [
             0.2222222222222222,
             "#7201a8"
            ],
            [
             0.3333333333333333,
             "#9c179e"
            ],
            [
             0.4444444444444444,
             "#bd3786"
            ],
            [
             0.5555555555555556,
             "#d8576b"
            ],
            [
             0.6666666666666666,
             "#ed7953"
            ],
            [
             0.7777777777777778,
             "#fb9f3a"
            ],
            [
             0.8888888888888888,
             "#fdca26"
            ],
            [
             1,
             "#f0f921"
            ]
           ],
           "sequentialminus": [
            [
             0,
             "#0d0887"
            ],
            [
             0.1111111111111111,
             "#46039f"
            ],
            [
             0.2222222222222222,
             "#7201a8"
            ],
            [
             0.3333333333333333,
             "#9c179e"
            ],
            [
             0.4444444444444444,
             "#bd3786"
            ],
            [
             0.5555555555555556,
             "#d8576b"
            ],
            [
             0.6666666666666666,
             "#ed7953"
            ],
            [
             0.7777777777777778,
             "#fb9f3a"
            ],
            [
             0.8888888888888888,
             "#fdca26"
            ],
            [
             1,
             "#f0f921"
            ]
           ]
          },
          "colorway": [
           "#636efa",
           "#EF553B",
           "#00cc96",
           "#ab63fa",
           "#FFA15A",
           "#19d3f3",
           "#FF6692",
           "#B6E880",
           "#FF97FF",
           "#FECB52"
          ],
          "font": {
           "color": "#2a3f5f"
          },
          "geo": {
           "bgcolor": "white",
           "lakecolor": "white",
           "landcolor": "#E5ECF6",
           "showlakes": true,
           "showland": true,
           "subunitcolor": "white"
          },
          "hoverlabel": {
           "align": "left"
          },
          "hovermode": "closest",
          "mapbox": {
           "style": "light"
          },
          "paper_bgcolor": "white",
          "plot_bgcolor": "#E5ECF6",
          "polar": {
           "angularaxis": {
            "gridcolor": "white",
            "linecolor": "white",
            "ticks": ""
           },
           "bgcolor": "#E5ECF6",
           "radialaxis": {
            "gridcolor": "white",
            "linecolor": "white",
            "ticks": ""
           }
          },
          "scene": {
           "xaxis": {
            "backgroundcolor": "#E5ECF6",
            "gridcolor": "white",
            "gridwidth": 2,
            "linecolor": "white",
            "showbackground": true,
            "ticks": "",
            "zerolinecolor": "white"
           },
           "yaxis": {
            "backgroundcolor": "#E5ECF6",
            "gridcolor": "white",
            "gridwidth": 2,
            "linecolor": "white",
            "showbackground": true,
            "ticks": "",
            "zerolinecolor": "white"
           },
           "zaxis": {
            "backgroundcolor": "#E5ECF6",
            "gridcolor": "white",
            "gridwidth": 2,
            "linecolor": "white",
            "showbackground": true,
            "ticks": "",
            "zerolinecolor": "white"
           }
          },
          "shapedefaults": {
           "line": {
            "color": "#2a3f5f"
           }
          },
          "ternary": {
           "aaxis": {
            "gridcolor": "white",
            "linecolor": "white",
            "ticks": ""
           },
           "baxis": {
            "gridcolor": "white",
            "linecolor": "white",
            "ticks": ""
           },
           "bgcolor": "#E5ECF6",
           "caxis": {
            "gridcolor": "white",
            "linecolor": "white",
            "ticks": ""
           }
          },
          "title": {
           "x": 0.05
          },
          "xaxis": {
           "automargin": true,
           "gridcolor": "white",
           "linecolor": "white",
           "ticks": "",
           "title": {
            "standoff": 15
           },
           "zerolinecolor": "white",
           "zerolinewidth": 2
          },
          "yaxis": {
           "automargin": true,
           "gridcolor": "white",
           "linecolor": "white",
           "ticks": "",
           "title": {
            "standoff": 15
           },
           "zerolinecolor": "white",
           "zerolinewidth": 2
          }
         }
        },
        "title": {
         "text": "Equity Uses for: PG"
        },
        "width": 800,
        "xaxis": {
         "title": {
          "text": "Year"
         }
        },
        "yaxis": {
         "title": {
          "text": "Amount $mm USD"
         }
        }
       }
      }
     },
     "metadata": {},
     "output_type": "display_data"
    }
   ],
   "source": [
    "# Equity Uses graph\n",
    "fig = go.Figure(\n",
    "    data=[\n",
    "        go.Bar(name='Beginning Equity',\n",
    "               x=equityUses_df[\"date\"],\n",
    "               y=equityUses_df['LY_totalStockholdersEquity'],\n",
    "               marker_color='#738fa7',\n",
    "               offsetgroup=0\n",
    "               ),\n",
    "        go.Bar(name='NetIncome',\n",
    "               x=equityUses_df[\"date\"],\n",
    "               y=equityUses_df['netIncome'],\n",
    "               marker_color='#005f73',\n",
    "               offsetgroup=1,\n",
    "               ),\n",
    "        go.Bar(name='Dividends',\n",
    "               x=equityUses_df[\"date\"],\n",
    "               y=equityUses_df['dividendsPaid'],\n",
    "               marker_color='#0a9396',\n",
    "               offsetgroup=1,\n",
    "               ),\n",
    "        go.Bar(name='Ending Equity (expected)',\n",
    "               x=equityUses_df[\"date\"],\n",
    "               y=(equityUses_df['LY_totalStockholdersEquity']\n",
    "                  + equityUses_df['netIncome']\n",
    "                  + equityUses_df['dividendsPaid']),\n",
    "               marker_color='#41729f',\n",
    "               offsetgroup=2\n",
    "               ),\n",
    "        go.Bar(name='Ending Equity (real)',\n",
    "               x=equityUses_df[\"date\"],\n",
    "               y=equityUses_df['totalStockholdersEquity'],\n",
    "               marker_color='#004369',\n",
    "               offsetgroup=3\n",
    "               )\n",
    "           ])\n",
    "fig.update_layout(barmode='group',\n",
    "                  title=str('Equity Uses for: '+company),\n",
    "                  xaxis_title='Year',\n",
    "                  yaxis_title=('Amount $mm '+currency),\n",
    "                  legend=dict(orientation=\"h\",\n",
    "                              yanchor=\"bottom\",\n",
    "                              y=1.0,\n",
    "                              xanchor=\"right\",\n",
    "                              x=1),\n",
    "                  width=800,\n",
    "                  height=400)\n",
    "\n",
    "fig.update_traces(texttemplate='%{y:.2s}', textposition='inside')\n",
    "fig.write_image(\"images/output/equity_graph.png\", scale=2)\n",
    "\n",
    "print(\"Equity Uses graph created.\\n\")\n",
    "fig.show()"
   ]
  },
  {
   "cell_type": "markdown",
   "id": "87228bc4-b5a0-4f26-b4d2-c456eb3d8b11",
   "metadata": {},
   "source": [
    "<a id=\"statements\"></a>\n",
    "### Create financial statements [*](#index)"
   ]
  },
  {
   "cell_type": "markdown",
   "id": "316d8172-19fb-48fe-bf7b-078d7da60a2d",
   "metadata": {},
   "source": [
    "<a id=\"table_is\"></a>\n",
    "### [Table] Income Statement [*](#index)"
   ]
  },
  {
   "cell_type": "code",
   "execution_count": 20,
   "id": "597c4d26-7a13-4eb5-a833-0d3a14c173df",
   "metadata": {
    "tags": []
   },
   "outputs": [
    {
     "name": "stdout",
     "output_type": "stream",
     "text": [
      "Created income statement table.\n",
      "\n"
     ]
    },
    {
     "data": {
      "text/html": [
       "<div>\n",
       "<style scoped>\n",
       "    .dataframe tbody tr th:only-of-type {\n",
       "        vertical-align: middle;\n",
       "    }\n",
       "\n",
       "    .dataframe tbody tr th {\n",
       "        vertical-align: top;\n",
       "    }\n",
       "\n",
       "    .dataframe thead th {\n",
       "        text-align: right;\n",
       "    }\n",
       "</style>\n",
       "<table border=\"1\" class=\"dataframe\">\n",
       "  <thead>\n",
       "    <tr style=\"text-align: right;\">\n",
       "      <th>Year</th>\n",
       "      <th>2020</th>\n",
       "      <th>2021</th>\n",
       "      <th>2022</th>\n",
       "      <th>2023</th>\n",
       "      <th>2024</th>\n",
       "    </tr>\n",
       "  </thead>\n",
       "  <tbody>\n",
       "    <tr>\n",
       "      <th>Revenue</th>\n",
       "      <td>70,950</td>\n",
       "      <td>76,118</td>\n",
       "      <td>80,187</td>\n",
       "      <td>82,006</td>\n",
       "      <td>84,039</td>\n",
       "    </tr>\n",
       "    <tr>\n",
       "      <th>Cost Of Revenue</th>\n",
       "      <td>35,250</td>\n",
       "      <td>37,108</td>\n",
       "      <td>42,157</td>\n",
       "      <td>42,760</td>\n",
       "      <td>40,848</td>\n",
       "    </tr>\n",
       "    <tr>\n",
       "      <th>Gross Profit</th>\n",
       "      <td>35,700</td>\n",
       "      <td>39,010</td>\n",
       "      <td>38,030</td>\n",
       "      <td>39,246</td>\n",
       "      <td>43,191</td>\n",
       "    </tr>\n",
       "    <tr>\n",
       "      <th>Operating Expenses</th>\n",
       "      <td>19,994</td>\n",
       "      <td>21,024</td>\n",
       "      <td>20,217</td>\n",
       "      <td>21,112</td>\n",
       "      <td>24,646</td>\n",
       "    </tr>\n",
       "    <tr>\n",
       "      <th>Operating Income</th>\n",
       "      <td>15,706</td>\n",
       "      <td>17,986</td>\n",
       "      <td>17,813</td>\n",
       "      <td>18,134</td>\n",
       "      <td>18,545</td>\n",
       "    </tr>\n",
       "    <tr>\n",
       "      <th>Net Income</th>\n",
       "      <td>13,027</td>\n",
       "      <td>14,306</td>\n",
       "      <td>14,742</td>\n",
       "      <td>14,653</td>\n",
       "      <td>14,879</td>\n",
       "    </tr>\n",
       "  </tbody>\n",
       "</table>\n",
       "</div>"
      ],
      "text/plain": [
       "Year                  2020    2021    2022    2023    2024\n",
       "Revenue             70,950  76,118  80,187  82,006  84,039\n",
       "Cost Of Revenue     35,250  37,108  42,157  42,760  40,848\n",
       "Gross Profit        35,700  39,010  38,030  39,246  43,191\n",
       "Operating Expenses  19,994  21,024  20,217  21,112  24,646\n",
       "Operating Income    15,706  17,986  17,813  18,134  18,545\n",
       "Net Income          13,027  14,306  14,742  14,653  14,879"
      ]
     },
     "execution_count": 20,
     "metadata": {},
     "output_type": "execute_result"
    }
   ],
   "source": [
    "# Income Statement Table\n",
    "\n",
    "# Copy Income Statement data frame\n",
    "is_table = is_df.copy(deep=True)\n",
    "\n",
    "# Make the year the index value\n",
    "is_table.set_index('calendarYear', inplace=True)\n",
    "is_table.index.rename('Year', inplace=True)\n",
    "\n",
    "# Drop non used variables\n",
    "is_table.drop(\n",
    "    ['date', 'symbol', 'reportedCurrency', 'cik', 'fillingDate',\n",
    "     'acceptedDate', 'period', 'grossProfitRatio',\n",
    "     'sellingAndMarketingExpenses', 'generalAndAdministrativeExpenses',\n",
    "     'sellingGeneralAndAdministrativeExpenses', 'otherExpenses',\n",
    "     'operatingIncomeRatio', 'costAndExpenses', 'interestIncome',\n",
    "     'depreciationAndAmortization', 'ebitda', 'ebitdaratio',\n",
    "     'totalOtherIncomeExpensesNet', 'incomeBeforeTax', 'incomeBeforeTaxRatio',\n",
    "     'incomeTaxExpense', 'netIncomeRatio', 'eps', 'epsdiluted',\n",
    "     'weightedAverageShsOut', 'weightedAverageShsOutDil', 'link', 'finalLink'\n",
    "     ], axis=1, inplace=True)\n",
    "\n",
    "# Reorder Columns\n",
    "is_table = is_table[['revenue', 'costOfRevenue', 'grossProfit',\n",
    "                     'operatingExpenses', 'operatingIncome', 'netIncome']]\n",
    "\n",
    "# Rename columns as they will appear in image\n",
    "is_table.rename(columns={\n",
    "    'revenue': 'Revenue',\n",
    "    'costOfRevenue': 'Cost Of Revenue',\n",
    "    'grossProfit': 'Gross Profit',\n",
    "    'operatingExpenses': 'Operating Expenses',\n",
    "    'operatingIncome': 'Operating Income',\n",
    "    'netIncome': 'Net Income',\n",
    "    }, inplace=True)\n",
    "\n",
    "# Copy data frame to create Common Size Income Statement\n",
    "cs_is_table = is_table.copy(deep=True)\n",
    "\n",
    "# Format columns to create the image from the data frame\n",
    "is_columns = ['Revenue', 'Cost Of Revenue', 'Gross Profit',\n",
    "              'Operating Expenses', 'Operating Income', 'Net Income']\n",
    "\n",
    "# Divide values by one million\n",
    "for column_name in is_columns:\n",
    "    is_table[column_name] = is_table[column_name].div(1_000_000)\n",
    "\n",
    "# Format columns: Turn to string, include commas and remove decimals\n",
    "for column_name in is_columns:\n",
    "    is_table[column_name] = (\n",
    "        pd.Series([f\"{val:,.0f}\"for val in is_table[column_name]],\n",
    "                  index=is_table.index))\n",
    "# Transpose data\n",
    "is_table = is_table.transpose()\n",
    "\n",
    "# Save data frame as image:\n",
    "is_table.dfi.export('images/output/is_table.png')\n",
    "\n",
    "# Print table name\n",
    "print(\"Created income statement table.\\n\")\n",
    "\n",
    "# Show table\n",
    "is_table"
   ]
  },
  {
   "cell_type": "markdown",
   "id": "69506513-d0b8-4f7d-8199-0bb890f3b38c",
   "metadata": {
    "tags": []
   },
   "source": [
    "<a id=\"table_cs_is\"></a>\n",
    "### [Table] Common Size Income Statement [*](#index)"
   ]
  },
  {
   "cell_type": "code",
   "execution_count": 21,
   "id": "67780d34-f01f-4994-8fd6-16f15f97a312",
   "metadata": {
    "tags": []
   },
   "outputs": [
    {
     "name": "stdout",
     "output_type": "stream",
     "text": [
      "Created common size income statement table.\n",
      "\n"
     ]
    },
    {
     "data": {
      "text/html": [
       "<div>\n",
       "<style scoped>\n",
       "    .dataframe tbody tr th:only-of-type {\n",
       "        vertical-align: middle;\n",
       "    }\n",
       "\n",
       "    .dataframe tbody tr th {\n",
       "        vertical-align: top;\n",
       "    }\n",
       "\n",
       "    .dataframe thead th {\n",
       "        text-align: right;\n",
       "    }\n",
       "</style>\n",
       "<table border=\"1\" class=\"dataframe\">\n",
       "  <thead>\n",
       "    <tr style=\"text-align: right;\">\n",
       "      <th>Year</th>\n",
       "      <th>2020</th>\n",
       "      <th>2021</th>\n",
       "      <th>2022</th>\n",
       "      <th>2023</th>\n",
       "      <th>2024</th>\n",
       "    </tr>\n",
       "  </thead>\n",
       "  <tbody>\n",
       "    <tr>\n",
       "      <th>Revenue</th>\n",
       "      <td>100%</td>\n",
       "      <td>100%</td>\n",
       "      <td>100%</td>\n",
       "      <td>100%</td>\n",
       "      <td>100%</td>\n",
       "    </tr>\n",
       "    <tr>\n",
       "      <th>Cost Of Revenue</th>\n",
       "      <td>50%</td>\n",
       "      <td>49%</td>\n",
       "      <td>53%</td>\n",
       "      <td>52%</td>\n",
       "      <td>49%</td>\n",
       "    </tr>\n",
       "    <tr>\n",
       "      <th>Gross Profit</th>\n",
       "      <td>50%</td>\n",
       "      <td>51%</td>\n",
       "      <td>47%</td>\n",
       "      <td>48%</td>\n",
       "      <td>51%</td>\n",
       "    </tr>\n",
       "    <tr>\n",
       "      <th>Operating Expenses</th>\n",
       "      <td>28%</td>\n",
       "      <td>28%</td>\n",
       "      <td>25%</td>\n",
       "      <td>26%</td>\n",
       "      <td>29%</td>\n",
       "    </tr>\n",
       "    <tr>\n",
       "      <th>Operating Income</th>\n",
       "      <td>22%</td>\n",
       "      <td>24%</td>\n",
       "      <td>22%</td>\n",
       "      <td>22%</td>\n",
       "      <td>22%</td>\n",
       "    </tr>\n",
       "    <tr>\n",
       "      <th>Net Income</th>\n",
       "      <td>18%</td>\n",
       "      <td>19%</td>\n",
       "      <td>18%</td>\n",
       "      <td>18%</td>\n",
       "      <td>18%</td>\n",
       "    </tr>\n",
       "  </tbody>\n",
       "</table>\n",
       "</div>"
      ],
      "text/plain": [
       "Year                2020  2021  2022  2023  2024\n",
       "Revenue             100%  100%  100%  100%  100%\n",
       "Cost Of Revenue      50%   49%   53%   52%   49%\n",
       "Gross Profit         50%   51%   47%   48%   51%\n",
       "Operating Expenses   28%   28%   25%   26%   29%\n",
       "Operating Income     22%   24%   22%   22%   22%\n",
       "Net Income           18%   19%   18%   18%   18%"
      ]
     },
     "execution_count": 21,
     "metadata": {},
     "output_type": "execute_result"
    }
   ],
   "source": [
    "# Common Size Income Statement Table\n",
    "\n",
    "# Transform values to Common Size (Percentage of Revenue)\n",
    "# Revenue must be the last item on the list\n",
    "cs_is_columns = ['Cost Of Revenue', 'Gross Profit', 'Operating Expenses',\n",
    "                 'Operating Income', 'Net Income', 'Revenue']\n",
    "\n",
    "# Divide values by Revenue\n",
    "for column in cs_is_columns:\n",
    "    cs_is_table[column] = (\n",
    "        round(((cs_is_table[column]/cs_is_table['Revenue'])*100), 0))\n",
    "\n",
    "# Format columns: Turn to string and format as percentage %\n",
    "for column in cs_is_columns:\n",
    "    cs_is_table[column] = (\n",
    "        pd.Series([\"{0:.0f}%\".format(val) for val in cs_is_table[column]],\n",
    "                  index=cs_is_table.index))\n",
    "# Transpose data\n",
    "cs_is_table = cs_is_table.transpose()\n",
    "\n",
    "# Save data frame as image:\n",
    "cs_is_table.dfi.export('images/output/is_table_cs.png')\n",
    "\n",
    "# Print table name\n",
    "print(\"Created common size income statement table.\\n\")\n",
    "\n",
    "# Show table\n",
    "cs_is_table"
   ]
  },
  {
   "cell_type": "markdown",
   "id": "bfdea31b-d751-4c5f-b209-a5e67f02db02",
   "metadata": {},
   "source": [
    "<a id=\"table_bs\"></a>\n",
    "### [Table] Balance Sheet [*](#index)"
   ]
  },
  {
   "cell_type": "code",
   "execution_count": 22,
   "id": "782e8c0c-1956-4168-a73f-1f14a7f5f34d",
   "metadata": {},
   "outputs": [
    {
     "name": "stdout",
     "output_type": "stream",
     "text": [
      "Created balance sheet table.\n",
      "\n"
     ]
    },
    {
     "data": {
      "text/html": [
       "<div>\n",
       "<style scoped>\n",
       "    .dataframe tbody tr th:only-of-type {\n",
       "        vertical-align: middle;\n",
       "    }\n",
       "\n",
       "    .dataframe tbody tr th {\n",
       "        vertical-align: top;\n",
       "    }\n",
       "\n",
       "    .dataframe thead th {\n",
       "        text-align: right;\n",
       "    }\n",
       "</style>\n",
       "<table border=\"1\" class=\"dataframe\">\n",
       "  <thead>\n",
       "    <tr style=\"text-align: right;\">\n",
       "      <th>Year</th>\n",
       "      <th>2020</th>\n",
       "      <th>2021</th>\n",
       "      <th>2022</th>\n",
       "      <th>2023</th>\n",
       "      <th>2024</th>\n",
       "    </tr>\n",
       "  </thead>\n",
       "  <tbody>\n",
       "    <tr>\n",
       "      <th>Cur Assets</th>\n",
       "      <td>27,987</td>\n",
       "      <td>23,091</td>\n",
       "      <td>21,653</td>\n",
       "      <td>22,648</td>\n",
       "      <td>24,709</td>\n",
       "    </tr>\n",
       "    <tr>\n",
       "      <th>LT Asset</th>\n",
       "      <td>92,713</td>\n",
       "      <td>96,216</td>\n",
       "      <td>95,555</td>\n",
       "      <td>98,181</td>\n",
       "      <td>97,661</td>\n",
       "    </tr>\n",
       "    <tr>\n",
       "      <th>Total Assets</th>\n",
       "      <td>120,700</td>\n",
       "      <td>119,307</td>\n",
       "      <td>117,208</td>\n",
       "      <td>120,829</td>\n",
       "      <td>122,370</td>\n",
       "    </tr>\n",
       "    <tr>\n",
       "      <th>Cur Liabilities</th>\n",
       "      <td>32,976</td>\n",
       "      <td>33,132</td>\n",
       "      <td>33,081</td>\n",
       "      <td>35,756</td>\n",
       "      <td>33,627</td>\n",
       "    </tr>\n",
       "    <tr>\n",
       "      <th>LT Liabilities</th>\n",
       "      <td>40,846</td>\n",
       "      <td>39,521</td>\n",
       "      <td>37,273</td>\n",
       "      <td>38,008</td>\n",
       "      <td>38,184</td>\n",
       "    </tr>\n",
       "    <tr>\n",
       "      <th>Total Liab</th>\n",
       "      <td>73,822</td>\n",
       "      <td>72,653</td>\n",
       "      <td>70,354</td>\n",
       "      <td>73,764</td>\n",
       "      <td>71,811</td>\n",
       "    </tr>\n",
       "    <tr>\n",
       "      <th>SH Equity</th>\n",
       "      <td>46,521</td>\n",
       "      <td>46,378</td>\n",
       "      <td>46,589</td>\n",
       "      <td>46,777</td>\n",
       "      <td>50,287</td>\n",
       "    </tr>\n",
       "  </tbody>\n",
       "</table>\n",
       "</div>"
      ],
      "text/plain": [
       "Year                2020     2021     2022     2023     2024\n",
       "Cur Assets        27,987   23,091   21,653   22,648   24,709\n",
       "LT Asset          92,713   96,216   95,555   98,181   97,661\n",
       "Total Assets     120,700  119,307  117,208  120,829  122,370\n",
       "Cur Liabilities   32,976   33,132   33,081   35,756   33,627\n",
       "LT Liabilities    40,846   39,521   37,273   38,008   38,184\n",
       "Total Liab        73,822   72,653   70,354   73,764   71,811\n",
       "SH Equity         46,521   46,378   46,589   46,777   50,287"
      ]
     },
     "execution_count": 22,
     "metadata": {},
     "output_type": "execute_result"
    }
   ],
   "source": [
    "# Balance Sheet Table\n",
    "\n",
    "# Copy income statement data frame\n",
    "bs_table = bs_df.copy(deep=True)\n",
    "\n",
    "# Make the year the index value\n",
    "bs_table.set_index('calendarYear', inplace=True)\n",
    "bs_table.index.rename('Year', inplace=True)\n",
    "\n",
    "# Drop non used variables\n",
    "bs_table.drop(\n",
    "    ['date', 'symbol', 'reportedCurrency', 'cik', 'fillingDate',\n",
    "     'acceptedDate', 'period', 'cashAndCashEquivalents',\n",
    "     'shortTermInvestments', 'cashAndShortTermInvestments',\n",
    "     'netReceivables', 'inventory', 'otherCurrentAssets',\n",
    "     'propertyPlantEquipmentNet', 'goodwill', 'intangibleAssets',\n",
    "     'goodwillAndIntangibleAssets', 'longTermInvestments', 'taxAssets',\n",
    "     'otherNonCurrentAssets', 'otherAssets', 'accountPayables',\n",
    "     'shortTermDebt', 'taxPayables', 'deferredRevenue',\n",
    "     'otherCurrentLiabilities', 'longTermDebt', 'deferredRevenueNonCurrent',\n",
    "     'deferredTaxLiabilitiesNonCurrent', 'otherNonCurrentLiabilities',\n",
    "     'otherLiabilities', 'capitalLeaseObligations', 'preferredStock',\n",
    "     'commonStock', 'retainedEarnings',\n",
    "     'accumulatedOtherComprehensiveIncomeLoss', 'othertotalStockholdersEquity',\n",
    "     'totalLiabilitiesAndStockholdersEquity', 'minorityInterest',\n",
    "     'totalEquity', 'totalLiabilitiesAndTotalEquity',\n",
    "     'totalInvestments', 'totalDebt', 'netDebt', 'link', 'finalLink'\n",
    "     ], axis=1, inplace=True)\n",
    "\n",
    "# Rename columns as they will appear in image\n",
    "bs_table.rename(columns={\n",
    "    'totalCurrentAssets': 'Cur Assets',\n",
    "    'totalNonCurrentAssets': 'LT Asset',\n",
    "    'totalAssets': 'Total Assets',\n",
    "    'totalCurrentLiabilities': 'Cur Liabilities',\n",
    "    'totalNonCurrentLiabilities': 'LT Liabilities',\n",
    "    'totalLiabilities': 'Total Liab',\n",
    "    'totalStockholdersEquity': 'SH Equity',\n",
    "    }, inplace=True)\n",
    "\n",
    "# Copy data frame to create common size income statement\n",
    "cs_bs_table = bs_table.copy(deep=True)\n",
    "\n",
    "# Format columns to create the image from the data frame\n",
    "bs_columns = ['Cur Assets', 'LT Asset', 'Total Assets',\n",
    "              'Cur Liabilities', 'LT Liabilities', 'Total Liab',\n",
    "              'SH Equity']\n",
    "\n",
    "# Divide values by one million\n",
    "for column_name in bs_columns:\n",
    "    bs_table[column_name] = bs_table[column_name].div(1_000_000)\n",
    "\n",
    "# Format columns: Turn to string, include commas and remove decimals\n",
    "for column_name in bs_columns:\n",
    "    bs_table[column_name] = (\n",
    "        pd.Series([f\"{val:,.0f}\"for val in bs_table[column_name]],\n",
    "                  index=bs_table.index))\n",
    "\n",
    "# Transpose data\n",
    "bs_table = bs_table.transpose()\n",
    "\n",
    "# Save data frame as image:\n",
    "bs_table.dfi.export('images/output/bs_table.png')\n",
    "\n",
    "# Print table name\n",
    "print(\"Created balance sheet table.\\n\")\n",
    "\n",
    "# Show table\n",
    "bs_table"
   ]
  },
  {
   "cell_type": "markdown",
   "id": "9a392e5a-b852-4abd-8d5a-12874149863d",
   "metadata": {},
   "source": [
    "<a id=\"table_cs_bs\"></a>\n",
    "### [Table] Common Size Balance Sheet [*](#index)"
   ]
  },
  {
   "cell_type": "code",
   "execution_count": 23,
   "id": "dd16b3a8-6890-49e8-8b57-abf3de93a99b",
   "metadata": {},
   "outputs": [
    {
     "name": "stdout",
     "output_type": "stream",
     "text": [
      "Created common size balance sheet table.\n",
      "\n"
     ]
    },
    {
     "data": {
      "text/html": [
       "<div>\n",
       "<style scoped>\n",
       "    .dataframe tbody tr th:only-of-type {\n",
       "        vertical-align: middle;\n",
       "    }\n",
       "\n",
       "    .dataframe tbody tr th {\n",
       "        vertical-align: top;\n",
       "    }\n",
       "\n",
       "    .dataframe thead th {\n",
       "        text-align: right;\n",
       "    }\n",
       "</style>\n",
       "<table border=\"1\" class=\"dataframe\">\n",
       "  <thead>\n",
       "    <tr style=\"text-align: right;\">\n",
       "      <th>Year</th>\n",
       "      <th>2020</th>\n",
       "      <th>2021</th>\n",
       "      <th>2022</th>\n",
       "      <th>2023</th>\n",
       "      <th>2024</th>\n",
       "    </tr>\n",
       "  </thead>\n",
       "  <tbody>\n",
       "    <tr>\n",
       "      <th>Cur Assets</th>\n",
       "      <td>23%</td>\n",
       "      <td>19%</td>\n",
       "      <td>18%</td>\n",
       "      <td>19%</td>\n",
       "      <td>20%</td>\n",
       "    </tr>\n",
       "    <tr>\n",
       "      <th>LT Asset</th>\n",
       "      <td>77%</td>\n",
       "      <td>81%</td>\n",
       "      <td>82%</td>\n",
       "      <td>81%</td>\n",
       "      <td>80%</td>\n",
       "    </tr>\n",
       "    <tr>\n",
       "      <th>Total Assets</th>\n",
       "      <td>100%</td>\n",
       "      <td>100%</td>\n",
       "      <td>100%</td>\n",
       "      <td>100%</td>\n",
       "      <td>100%</td>\n",
       "    </tr>\n",
       "    <tr>\n",
       "      <th>Cur Liabilities</th>\n",
       "      <td>27%</td>\n",
       "      <td>28%</td>\n",
       "      <td>28%</td>\n",
       "      <td>30%</td>\n",
       "      <td>27%</td>\n",
       "    </tr>\n",
       "    <tr>\n",
       "      <th>LT Liabilities</th>\n",
       "      <td>34%</td>\n",
       "      <td>33%</td>\n",
       "      <td>32%</td>\n",
       "      <td>31%</td>\n",
       "      <td>31%</td>\n",
       "    </tr>\n",
       "    <tr>\n",
       "      <th>Total Liab</th>\n",
       "      <td>61%</td>\n",
       "      <td>61%</td>\n",
       "      <td>60%</td>\n",
       "      <td>61%</td>\n",
       "      <td>59%</td>\n",
       "    </tr>\n",
       "    <tr>\n",
       "      <th>SH Equity</th>\n",
       "      <td>39%</td>\n",
       "      <td>39%</td>\n",
       "      <td>40%</td>\n",
       "      <td>39%</td>\n",
       "      <td>41%</td>\n",
       "    </tr>\n",
       "  </tbody>\n",
       "</table>\n",
       "</div>"
      ],
      "text/plain": [
       "Year             2020  2021  2022  2023  2024\n",
       "Cur Assets        23%   19%   18%   19%   20%\n",
       "LT Asset          77%   81%   82%   81%   80%\n",
       "Total Assets     100%  100%  100%  100%  100%\n",
       "Cur Liabilities   27%   28%   28%   30%   27%\n",
       "LT Liabilities    34%   33%   32%   31%   31%\n",
       "Total Liab        61%   61%   60%   61%   59%\n",
       "SH Equity         39%   39%   40%   39%   41%"
      ]
     },
     "execution_count": 23,
     "metadata": {},
     "output_type": "execute_result"
    }
   ],
   "source": [
    "# Common Size Balance Sheet Table\n",
    "\n",
    "# Transform values to Common Size (Percentage of Assets)\n",
    "# Assets must be the last item on the list\n",
    "cs_bs_columns = ['Cur Assets', 'LT Asset', 'Cur Liabilities',\n",
    "                 'LT Liabilities', 'Total Liab', 'SH Equity',\n",
    "                 'Total Assets']\n",
    "\n",
    "# Divide values by Total Assets value\n",
    "for column in cs_bs_columns:\n",
    "    cs_bs_table[column] = (\n",
    "        round(((cs_bs_table[column]/cs_bs_table['Total Assets'])*100), 0))\n",
    "\n",
    "# Format columns: Turn to string and format as percentage %\n",
    "for column in cs_bs_columns:\n",
    "    cs_bs_table[column] = (\n",
    "        pd.Series([\"{0:.0f}%\".format(val) for val in cs_bs_table[column]],\n",
    "                  index=cs_bs_table.index))\n",
    "# Transpose data\n",
    "cs_bs_table = cs_bs_table.transpose()\n",
    "\n",
    "# Save data frame as image:\n",
    "cs_bs_table.dfi.export('images/output/bs_table_cs.png')\n",
    "\n",
    "# Print table name\n",
    "print(\"Created common size balance sheet table.\\n\")\n",
    "\n",
    "# Show table\n",
    "cs_bs_table"
   ]
  },
  {
   "cell_type": "markdown",
   "id": "a78a2d13-6492-4e49-9414-598efdfdcca9",
   "metadata": {},
   "source": [
    "<a id=\"table_cf\"></a>\n",
    "### [Table] Cash Flow Statement [*](#index)"
   ]
  },
  {
   "cell_type": "code",
   "execution_count": 24,
   "id": "de491597-46e8-4d60-8c37-a38d742ecc7c",
   "metadata": {},
   "outputs": [
    {
     "name": "stdout",
     "output_type": "stream",
     "text": [
      "Created cash flow statement table.\n",
      "\n"
     ]
    },
    {
     "data": {
      "text/html": [
       "<div>\n",
       "<style scoped>\n",
       "    .dataframe tbody tr th:only-of-type {\n",
       "        vertical-align: middle;\n",
       "    }\n",
       "\n",
       "    .dataframe tbody tr th {\n",
       "        vertical-align: top;\n",
       "    }\n",
       "\n",
       "    .dataframe thead th {\n",
       "        text-align: right;\n",
       "    }\n",
       "</style>\n",
       "<table border=\"1\" class=\"dataframe\">\n",
       "  <thead>\n",
       "    <tr style=\"text-align: right;\">\n",
       "      <th>Year</th>\n",
       "      <th>2020</th>\n",
       "      <th>2021</th>\n",
       "      <th>2022</th>\n",
       "      <th>2023</th>\n",
       "      <th>2024</th>\n",
       "    </tr>\n",
       "  </thead>\n",
       "  <tbody>\n",
       "    <tr>\n",
       "      <th>CF Operating Activities</th>\n",
       "      <td>17,403</td>\n",
       "      <td>18,371</td>\n",
       "      <td>16,723</td>\n",
       "      <td>16,848</td>\n",
       "      <td>19,846</td>\n",
       "    </tr>\n",
       "    <tr>\n",
       "      <th>CF Investing Activities</th>\n",
       "      <td>3,045</td>\n",
       "      <td>-2,834</td>\n",
       "      <td>-4,424</td>\n",
       "      <td>-3,500</td>\n",
       "      <td>-3,504</td>\n",
       "    </tr>\n",
       "    <tr>\n",
       "      <th>CF Financing Activities</th>\n",
       "      <td>-8,367</td>\n",
       "      <td>-21,531</td>\n",
       "      <td>-14,876</td>\n",
       "      <td>-12,146</td>\n",
       "      <td>-14,855</td>\n",
       "    </tr>\n",
       "    <tr>\n",
       "      <th>Change in cash</th>\n",
       "      <td>11,942</td>\n",
       "      <td>-5,893</td>\n",
       "      <td>-3,074</td>\n",
       "      <td>1,032</td>\n",
       "      <td>1,236</td>\n",
       "    </tr>\n",
       "    <tr>\n",
       "      <th>Cash end of period</th>\n",
       "      <td>16,181</td>\n",
       "      <td>10,288</td>\n",
       "      <td>7,214</td>\n",
       "      <td>8,246</td>\n",
       "      <td>9,482</td>\n",
       "    </tr>\n",
       "    <tr>\n",
       "      <th>Cash beginning of period</th>\n",
       "      <td>4,239</td>\n",
       "      <td>16,181</td>\n",
       "      <td>10,288</td>\n",
       "      <td>7,214</td>\n",
       "      <td>8,246</td>\n",
       "    </tr>\n",
       "  </tbody>\n",
       "</table>\n",
       "</div>"
      ],
      "text/plain": [
       "Year                        2020     2021     2022     2023     2024\n",
       "CF Operating Activities   17,403   18,371   16,723   16,848   19,846\n",
       "CF Investing Activities    3,045   -2,834   -4,424   -3,500   -3,504\n",
       "CF Financing Activities   -8,367  -21,531  -14,876  -12,146  -14,855\n",
       "Change in cash            11,942   -5,893   -3,074    1,032    1,236\n",
       "Cash end of period        16,181   10,288    7,214    8,246    9,482\n",
       "Cash beginning of period   4,239   16,181   10,288    7,214    8,246"
      ]
     },
     "execution_count": 24,
     "metadata": {},
     "output_type": "execute_result"
    }
   ],
   "source": [
    "# Cash Flow Statement Table\n",
    "\n",
    "# Copy income statement data frame\n",
    "cf_table = cf_df.copy(deep=True)\n",
    "\n",
    "# Make the year the index value\n",
    "cf_table.set_index('calendarYear', inplace=True)\n",
    "cf_table.index.rename('Year', inplace=True)\n",
    "\n",
    "# Drop non used variables\n",
    "cf_table.drop(\n",
    "    ['date', 'symbol', 'reportedCurrency', 'cik',\n",
    "     'fillingDate', 'acceptedDate',\n",
    "     'period', 'netIncome', 'depreciationAndAmortization',\n",
    "     'deferredIncomeTax', 'stockBasedCompensation',\n",
    "     'changeInWorkingCapital', 'accountsReceivables',\n",
    "     'inventory', 'accountsPayables', 'otherWorkingCapital',\n",
    "     'otherNonCashItems', 'investmentsInPropertyPlantAndEquipment',\n",
    "     'acquisitionsNet', 'purchasesOfInvestments',\n",
    "     'salesMaturitiesOfInvestments', 'otherInvestingActivites',\n",
    "     'debtRepayment', 'commonStockIssued',\n",
    "     'commonStockRepurchased', 'dividendsPaid',\n",
    "     'otherFinancingActivites', 'effectOfForexChangesOnCash',\n",
    "     'operatingCashFlow', 'capitalExpenditure',\n",
    "     'freeCashFlow', 'link', 'finalLink'\n",
    "     ], axis=1, inplace=True)\n",
    "\n",
    "# Rename columns as they will appear in image\n",
    "cf_table.rename(columns={\n",
    "    'netCashProvidedByOperatingActivities': 'CF Operating Activities',\n",
    "    'netCashUsedForInvestingActivites': 'CF Investing Activities',\n",
    "    'netCashUsedProvidedByFinancingActivities': 'CF Financing Activities',\n",
    "    'netChangeInCash': 'Change in cash',\n",
    "    'cashAtEndOfPeriod': 'Cash end of period',\n",
    "    'cashAtBeginningOfPeriod': 'Cash beginning of period',\n",
    "    }, inplace=True)\n",
    "\n",
    "# Format columns to create the image from the data frame\n",
    "cf_columns = ['CF Operating Activities', 'CF Investing Activities',\n",
    "              'CF Financing Activities', 'Change in cash',\n",
    "              'Cash end of period', 'Cash beginning of period']\n",
    "\n",
    "# Divide values by one million\n",
    "for column_name in cf_columns:\n",
    "    cf_table[column_name] = cf_table[column_name].div(1_000_000)\n",
    "\n",
    "# Format columns: Turn to string, include commas and remove decimals\n",
    "for column_name in cf_columns:\n",
    "    cf_table[column_name] = (\n",
    "        pd.Series([f\"{val:,.0f}\"for val in cf_table[column_name]],\n",
    "                  index=cf_table.index))\n",
    "\n",
    "# Transpose data\n",
    "cf_table = cf_table.transpose()\n",
    "\n",
    "# Save data frame as image:\n",
    "cf_table.dfi.export('images/output/cf_table.png')\n",
    "\n",
    "# Print table name\n",
    "print(\"Created cash flow statement table.\\n\")\n",
    "\n",
    "# Show table\n",
    "cf_table"
   ]
  },
  {
   "cell_type": "markdown",
   "id": "1eec1e29-5dc8-426e-a798-dc40b224712c",
   "metadata": {},
   "source": [
    "<a id=\"metrics\"></a>\n",
    "### Create Key Metrics tables [*](#index)"
   ]
  },
  {
   "cell_type": "markdown",
   "id": "fe3fb14a-1971-471b-b58a-21384a843c7d",
   "metadata": {},
   "source": [
    "<a id=\"table_market\"></a>\n",
    "### [Table] Market Ratios [*](#index)"
   ]
  },
  {
   "cell_type": "code",
   "execution_count": 25,
   "id": "1e5973b8-01c6-40ee-804c-320c60a48bc8",
   "metadata": {},
   "outputs": [
    {
     "name": "stdout",
     "output_type": "stream",
     "text": [
      "Created Market Ratios Table.\n",
      "\n"
     ]
    },
    {
     "data": {
      "text/html": [
       "<div>\n",
       "<style scoped>\n",
       "    .dataframe tbody tr th:only-of-type {\n",
       "        vertical-align: middle;\n",
       "    }\n",
       "\n",
       "    .dataframe tbody tr th {\n",
       "        vertical-align: top;\n",
       "    }\n",
       "\n",
       "    .dataframe thead th {\n",
       "        text-align: right;\n",
       "    }\n",
       "</style>\n",
       "<table border=\"1\" class=\"dataframe\">\n",
       "  <thead>\n",
       "    <tr style=\"text-align: right;\">\n",
       "      <th>Date</th>\n",
       "      <th>2020</th>\n",
       "      <th>2021</th>\n",
       "      <th>2022</th>\n",
       "      <th>2023</th>\n",
       "      <th>2024</th>\n",
       "    </tr>\n",
       "  </thead>\n",
       "  <tbody>\n",
       "    <tr>\n",
       "      <th>Price to Book Ratio</th>\n",
       "      <td>6</td>\n",
       "      <td>7</td>\n",
       "      <td>7</td>\n",
       "      <td>8</td>\n",
       "      <td>8</td>\n",
       "    </tr>\n",
       "    <tr>\n",
       "      <th>Price to Sales Ratio</th>\n",
       "      <td>4</td>\n",
       "      <td>4</td>\n",
       "      <td>4</td>\n",
       "      <td>4</td>\n",
       "      <td>5</td>\n",
       "    </tr>\n",
       "    <tr>\n",
       "      <th>Price to Earnings Ratio</th>\n",
       "      <td>23</td>\n",
       "      <td>23</td>\n",
       "      <td>24</td>\n",
       "      <td>25</td>\n",
       "      <td>26</td>\n",
       "    </tr>\n",
       "    <tr>\n",
       "      <th>Price to Operating Cashflow Ratio</th>\n",
       "      <td>17</td>\n",
       "      <td>18</td>\n",
       "      <td>21</td>\n",
       "      <td>21</td>\n",
       "      <td>19</td>\n",
       "    </tr>\n",
       "    <tr>\n",
       "      <th>Enterprise Value Multiple</th>\n",
       "      <td>16</td>\n",
       "      <td>17</td>\n",
       "      <td>17</td>\n",
       "      <td>18</td>\n",
       "      <td>18</td>\n",
       "    </tr>\n",
       "    <tr>\n",
       "      <th>Price to Fair Value</th>\n",
       "      <td>6</td>\n",
       "      <td>7</td>\n",
       "      <td>7</td>\n",
       "      <td>8</td>\n",
       "      <td>8</td>\n",
       "    </tr>\n",
       "    <tr>\n",
       "      <th>Dividend Yield</th>\n",
       "      <td>2.6%</td>\n",
       "      <td>2.5%</td>\n",
       "      <td>2.5%</td>\n",
       "      <td>2.5%</td>\n",
       "      <td>2.4%</td>\n",
       "    </tr>\n",
       "    <tr>\n",
       "      <th>Earnings Yield</th>\n",
       "      <td>4.4%</td>\n",
       "      <td>4.3%</td>\n",
       "      <td>4.3%</td>\n",
       "      <td>4.1%</td>\n",
       "      <td>3.9%</td>\n",
       "    </tr>\n",
       "  </tbody>\n",
       "</table>\n",
       "</div>"
      ],
      "text/plain": [
       "Date                               2020  2021  2022  2023  2024\n",
       "Price to Book Ratio                   6     7     7     8     8\n",
       "Price to Sales Ratio                  4     4     4     4     5\n",
       "Price to Earnings Ratio              23    23    24    25    26\n",
       "Price to Operating Cashflow Ratio    17    18    21    21    19\n",
       "Enterprise Value Multiple            16    17    17    18    18\n",
       "Price to Fair Value                   6     7     7     8     8\n",
       "Dividend Yield                     2.6%  2.5%  2.5%  2.5%  2.4%\n",
       "Earnings Yield                     4.4%  4.3%  4.3%  4.1%  3.9%"
      ]
     },
     "execution_count": 25,
     "metadata": {},
     "output_type": "execute_result"
    }
   ],
   "source": [
    "# Market Ratios Table\n",
    "\n",
    "# Copy ratios statement data frame\n",
    "mratios_table = ratios_df.copy(deep=True)\n",
    "\n",
    "mratios_table.sort_index(ascending=False, inplace=True)\n",
    "\n",
    "# If dividendYield is None replace with 0\n",
    "mratios_table['dividendYield'] = mratios_table['dividendYield'].replace([None], 0)\n",
    "\n",
    "# If dividendYield is String replace as Float\n",
    "mratios_table['dividendYield'] = mratios_table['dividendYield'].astype(float)\n",
    "\n",
    "# Add Earnings Yield to table\n",
    "mratios_table['Earnings Yield'] = (1 / mratios_table['priceEarningsRatio'])\n",
    "\n",
    "# Transform date column from string to datetime\n",
    "# Display only the year from the date column\n",
    "mratios_table['date'] = pd.to_datetime(mratios_table['date'])\n",
    "mratios_table['date'] = mratios_table['date'].dt.year\n",
    "\n",
    "# Get defined amount of years\n",
    "mratios_table = mratios_table.iloc[-years:]\n",
    "\n",
    "# Make date the index value\n",
    "mratios_table.set_index('date', inplace=True)\n",
    "mratios_table.index.rename('Date', inplace=True)\n",
    "\n",
    "# Drop non used variables\n",
    "mratios_table.drop(\n",
    "    ['symbol', 'period', 'currentRatio', 'quickRatio',\n",
    "     'cashRatio', 'daysOfSalesOutstanding',\n",
    "     'daysOfInventoryOutstanding', 'operatingCycle',\n",
    "     'daysOfPayablesOutstanding', 'cashConversionCycle',\n",
    "     'grossProfitMargin', 'operatingProfitMargin',\n",
    "     'pretaxProfitMargin', 'netProfitMargin',\n",
    "     'effectiveTaxRate', 'returnOnAssets',\n",
    "     'returnOnEquity', 'returnOnCapitalEmployed',\n",
    "     'netIncomePerEBT', 'ebtPerEbit', 'ebitPerRevenue',\n",
    "     'debtRatio', 'debtEquityRatio',\n",
    "     'longTermDebtToCapitalization', 'totalDebtToCapitalization',\n",
    "     'interestCoverage', 'cashFlowToDebtRatio',\n",
    "     'companyEquityMultiplier', 'receivablesTurnover',\n",
    "     'payablesTurnover', 'inventoryTurnover',\n",
    "     'fixedAssetTurnover', 'assetTurnover',\n",
    "     'operatingCashFlowPerShare', 'freeCashFlowPerShare',\n",
    "     'cashPerShare', 'payoutRatio', 'operatingCashFlowSalesRatio',\n",
    "     'freeCashFlowOperatingCashFlowRatio', 'cashFlowCoverageRatios',\n",
    "     'shortTermCoverageRatios', 'capitalExpenditureCoverageRatio',\n",
    "     'dividendPaidAndCapexCoverageRatio', 'dividendPayoutRatio',\n",
    "     'priceBookValueRatio', 'priceCashFlowRatio',\n",
    "     'priceEarningsToGrowthRatio', 'priceSalesRatio',\n",
    "     ], axis=1, inplace=True)\n",
    "\n",
    "# Rename columns as they will appear in image\n",
    "mratios_table.rename(columns={\n",
    "    'priceToBookRatio': 'Price to Book Ratio',\n",
    "    'priceToSalesRatio': 'Price to Sales Ratio',\n",
    "    'priceEarningsRatio': 'Price to Earnings Ratio',\n",
    "    'priceToOperatingCashFlowsRatio': 'Price to Operating Cashflow Ratio',\n",
    "    'priceToFreeCashFlowsRatio': 'Price to Free Cashflow Ratio',\n",
    "    'dividendYield': 'Dividend Yield',\n",
    "    'enterpriseValueMultiple': 'Enterprise Value Multiple',\n",
    "    'priceFairValue': 'Price to Fair Value',\n",
    "    }, inplace=True)\n",
    "\n",
    "# Format columns: Turn to string, include commas, and remove decimals\n",
    "mratios_columns = ['Price to Book Ratio', 'Price to Sales Ratio',\n",
    "                   'Price to Earnings Ratio',\n",
    "                   'Price to Operating Cashflow Ratio',\n",
    "                   'Price to Free Cashflow Ratio',\n",
    "                   'Enterprise Value Multiple', 'Price to Fair Value']\n",
    "for column_name in mratios_columns:\n",
    "    mratios_table[column_name] = (\n",
    "        pd.Series([f\"{val:,.0f}\" for val in mratios_table[column_name]],\n",
    "                  index=mratios_table.index))\n",
    "\n",
    "# Format columns: Turn to string and format as percentage %\n",
    "mratios_columnsP = ['Dividend Yield', 'Earnings Yield']\n",
    "for column_name in mratios_columnsP:\n",
    "    mratios_table[column_name] = mratios_table[column_name].multiply(100)\n",
    "    mratios_table[column_name] = (\n",
    "        pd.Series([\"{0:.1f}%\".format(val) for val in mratios_table[column_name]],\n",
    "                  index=mratios_table.index))\n",
    "\n",
    "# Reorder Columns\n",
    "mratios_table = mratios_table[\n",
    "    ['Price to Book Ratio', 'Price to Sales Ratio', 'Price to Earnings Ratio',\n",
    "     'Price to Operating Cashflow Ratio', 'Enterprise Value Multiple',\n",
    "     'Price to Fair Value', 'Dividend Yield', 'Earnings Yield']\n",
    "]\n",
    "\n",
    "# Transpose data\n",
    "mratios_table = mratios_table.transpose()\n",
    "\n",
    "# Save data frame as image:\n",
    "mratios_table.dfi.export('images/output/market_ratios_table.png')\n",
    "\n",
    "# Print table name\n",
    "print(\"Created Market Ratios Table.\\n\")\n",
    "\n",
    "# Show table\n",
    "mratios_table"
   ]
  },
  {
   "cell_type": "markdown",
   "id": "509af5de-7c22-46fd-9608-6a07dadd0418",
   "metadata": {},
   "source": [
    "<a id=\"table_debt\"></a>\n",
    "### [Table] Debt, Liquidity and Solvency Ratios [*](#index)"
   ]
  },
  {
   "cell_type": "code",
   "execution_count": 26,
   "id": "08fc1308-33f1-48ef-ad70-14e23854b947",
   "metadata": {},
   "outputs": [
    {
     "name": "stdout",
     "output_type": "stream",
     "text": [
      "Created Debt Ratios Table.\n",
      "\n"
     ]
    },
    {
     "data": {
      "text/html": [
       "<div>\n",
       "<style scoped>\n",
       "    .dataframe tbody tr th:only-of-type {\n",
       "        vertical-align: middle;\n",
       "    }\n",
       "\n",
       "    .dataframe tbody tr th {\n",
       "        vertical-align: top;\n",
       "    }\n",
       "\n",
       "    .dataframe thead th {\n",
       "        text-align: right;\n",
       "    }\n",
       "</style>\n",
       "<table border=\"1\" class=\"dataframe\">\n",
       "  <thead>\n",
       "    <tr style=\"text-align: right;\">\n",
       "      <th>Date</th>\n",
       "      <th>2020</th>\n",
       "      <th>2021</th>\n",
       "      <th>2022</th>\n",
       "      <th>2023</th>\n",
       "      <th>2024</th>\n",
       "    </tr>\n",
       "  </thead>\n",
       "  <tbody>\n",
       "    <tr>\n",
       "      <th>Debt Assets Ratio</th>\n",
       "      <td>0.3</td>\n",
       "      <td>0.3</td>\n",
       "      <td>0.3</td>\n",
       "      <td>0.3</td>\n",
       "      <td>0.3</td>\n",
       "    </tr>\n",
       "    <tr>\n",
       "      <th>Debt Equity Ratio</th>\n",
       "      <td>0.7</td>\n",
       "      <td>0.7</td>\n",
       "      <td>0.7</td>\n",
       "      <td>0.7</td>\n",
       "      <td>0.7</td>\n",
       "    </tr>\n",
       "    <tr>\n",
       "      <th>Current Ratio</th>\n",
       "      <td>0.8</td>\n",
       "      <td>0.7</td>\n",
       "      <td>0.7</td>\n",
       "      <td>0.6</td>\n",
       "      <td>0.7</td>\n",
       "    </tr>\n",
       "    <tr>\n",
       "      <th>Quick Ratio</th>\n",
       "      <td>0.7</td>\n",
       "      <td>0.5</td>\n",
       "      <td>0.4</td>\n",
       "      <td>0.4</td>\n",
       "      <td>0.5</td>\n",
       "    </tr>\n",
       "    <tr>\n",
       "      <th>Cash Ratio</th>\n",
       "      <td>0.5</td>\n",
       "      <td>0.3</td>\n",
       "      <td>0.2</td>\n",
       "      <td>0.2</td>\n",
       "      <td>0.3</td>\n",
       "    </tr>\n",
       "    <tr>\n",
       "      <th>Opp Cashflow to Debt</th>\n",
       "      <td>0.5</td>\n",
       "      <td>0.6</td>\n",
       "      <td>0.5</td>\n",
       "      <td>0.5</td>\n",
       "      <td>0.6</td>\n",
       "    </tr>\n",
       "    <tr>\n",
       "      <th>Interest Coverage</th>\n",
       "      <td>33.8</td>\n",
       "      <td>35.8</td>\n",
       "      <td>40.6</td>\n",
       "      <td>24.0</td>\n",
       "      <td>20.0</td>\n",
       "    </tr>\n",
       "  </tbody>\n",
       "</table>\n",
       "</div>"
      ],
      "text/plain": [
       "Date                  2020  2021  2022  2023  2024\n",
       "Debt Assets Ratio      0.3   0.3   0.3   0.3   0.3\n",
       "Debt Equity Ratio      0.7   0.7   0.7   0.7   0.7\n",
       "Current Ratio          0.8   0.7   0.7   0.6   0.7\n",
       "Quick Ratio            0.7   0.5   0.4   0.4   0.5\n",
       "Cash Ratio             0.5   0.3   0.2   0.2   0.3\n",
       "Opp Cashflow to Debt   0.5   0.6   0.5   0.5   0.6\n",
       "Interest Coverage     33.8  35.8  40.6  24.0  20.0"
      ]
     },
     "execution_count": 26,
     "metadata": {},
     "output_type": "execute_result"
    }
   ],
   "source": [
    "# Debt,Liquity and Solvency Table\n",
    "\n",
    "# Copy income statement data frame\n",
    "debt_table = ratios_df.copy(deep=True)\n",
    "debt_table.sort_index(ascending=False, inplace=True)\n",
    "\n",
    "# Transform date column from string to datetime\n",
    "# Display only the year from the date column\n",
    "debt_table['date'] = pd.to_datetime(debt_table['date'])\n",
    "debt_table['date'] = debt_table['date'].dt.year\n",
    "\n",
    "# Get defined amount of years\n",
    "debt_table = debt_table.iloc[-years:]\n",
    "\n",
    "# Make date the index value\n",
    "debt_table.set_index('date', inplace=True)\n",
    "debt_table.index.rename('Date', inplace=True)\n",
    "\n",
    "# Drop non used variables\n",
    "debt_table.drop(\n",
    "    ['priceToBookRatio', 'priceToSalesRatio', 'priceEarningsRatio',\n",
    "     'priceToOperatingCashFlowsRatio', 'priceToFreeCashFlowsRatio',\n",
    "     'dividendYield', 'enterpriseValueMultiple',\n",
    "     'priceFairValue', 'symbol', 'period',\n",
    "     'daysOfSalesOutstanding', 'daysOfInventoryOutstanding',\n",
    "     'operatingCycle', 'daysOfPayablesOutstanding',\n",
    "     'cashConversionCycle', 'grossProfitMargin',\n",
    "     'operatingProfitMargin', 'pretaxProfitMargin',\n",
    "     'netProfitMargin', 'effectiveTaxRate',\n",
    "     'returnOnAssets', 'returnOnEquity',\n",
    "     'returnOnCapitalEmployed', 'netIncomePerEBT',\n",
    "     'ebtPerEbit', 'ebitPerRevenue',\n",
    "     'longTermDebtToCapitalization', 'totalDebtToCapitalization',\n",
    "     'cashFlowCoverageRatios', 'companyEquityMultiplier',\n",
    "     'receivablesTurnover', 'payablesTurnover',\n",
    "     'inventoryTurnover', 'fixedAssetTurnover',\n",
    "     'assetTurnover', 'operatingCashFlowPerShare',\n",
    "     'freeCashFlowPerShare', 'cashPerShare',\n",
    "     'payoutRatio', 'operatingCashFlowSalesRatio',\n",
    "     'freeCashFlowOperatingCashFlowRatio',\n",
    "     'shortTermCoverageRatios', 'capitalExpenditureCoverageRatio',\n",
    "     'dividendPaidAndCapexCoverageRatio',\n",
    "     'dividendPayoutRatio', 'priceBookValueRatio',\n",
    "     'priceCashFlowRatio', 'priceEarningsToGrowthRatio',\n",
    "     'priceSalesRatio'], axis=1, inplace=True)\n",
    "\n",
    "# Rename columns as they will appear in image\n",
    "debt_table.rename(columns={\n",
    "    # Debt ratios\n",
    "    'debtRatio': 'Debt Assets Ratio',\n",
    "    'debtEquityRatio': 'Debt Equity Ratio',\n",
    "    # Liquidity ratios\n",
    "    'currentRatio': 'Current Ratio',\n",
    "    'quickRatio': 'Quick Ratio',\n",
    "    'cashRatio': 'Cash Ratio',\n",
    "    # Solvency ratios\n",
    "    'interestCoverage': 'Interest Coverage',\n",
    "    'cashFlowToDebtRatio': 'Opp Cashflow to Debt',\n",
    "    # Falta debt service ratio\n",
    "    }, inplace=True)\n",
    "\n",
    "# Format columns: Turn to string, Include commas and remove decimals\n",
    "debt_ratios_columns = ['Debt Assets Ratio', 'Debt Equity Ratio',\n",
    "                       'Current Ratio', 'Quick Ratio', 'Cash Ratio',\n",
    "                       'Interest Coverage', 'Opp Cashflow to Debt']\n",
    "for column_name in debt_ratios_columns:\n",
    "    debt_table[column_name] = pd.Series(\n",
    "        [f\"{val:,.1f}\"for val in debt_table[column_name]],\n",
    "        index=debt_table.index)\n",
    "# Reorder Columns\n",
    "debt_table = debt_table[[\n",
    "    'Debt Assets Ratio',\n",
    "    'Debt Equity Ratio',\n",
    "    'Current Ratio',\n",
    "    'Quick Ratio',\n",
    "    'Cash Ratio',\n",
    "    'Opp Cashflow to Debt',\n",
    "    'Interest Coverage']]\n",
    "\n",
    "# Transpose data\n",
    "debt_table = debt_table.transpose()\n",
    "\n",
    "# Save data frame as image\n",
    "debt_table.dfi.export('images/output/debt_ratios_table.png')\n",
    "\n",
    "# Print table name\n",
    "print(\"Created Debt Ratios Table.\\n\")\n",
    "\n",
    "# Show table\n",
    "debt_table"
   ]
  },
  {
   "cell_type": "markdown",
   "id": "71f4ec98-c365-44ee-8e03-ceb4e8307a1b",
   "metadata": {},
   "source": [
    "<a id=\"table_profit\"></a>\n",
    "### [Table] Profit Ratios [*](#index)"
   ]
  },
  {
   "cell_type": "code",
   "execution_count": 27,
   "id": "11fc9b59-21f3-49dd-b1e4-fd59025776fc",
   "metadata": {},
   "outputs": [
    {
     "name": "stdout",
     "output_type": "stream",
     "text": [
      "Created Profit Ratios Table.\n",
      "\n"
     ]
    },
    {
     "data": {
      "text/html": [
       "<div>\n",
       "<style scoped>\n",
       "    .dataframe tbody tr th:only-of-type {\n",
       "        vertical-align: middle;\n",
       "    }\n",
       "\n",
       "    .dataframe tbody tr th {\n",
       "        vertical-align: top;\n",
       "    }\n",
       "\n",
       "    .dataframe thead th {\n",
       "        text-align: right;\n",
       "    }\n",
       "</style>\n",
       "<table border=\"1\" class=\"dataframe\">\n",
       "  <thead>\n",
       "    <tr style=\"text-align: right;\">\n",
       "      <th>Date</th>\n",
       "      <th>2020</th>\n",
       "      <th>2021</th>\n",
       "      <th>2022</th>\n",
       "      <th>2023</th>\n",
       "      <th>2024</th>\n",
       "    </tr>\n",
       "  </thead>\n",
       "  <tbody>\n",
       "    <tr>\n",
       "      <th>Gross Margin</th>\n",
       "      <td>0.50</td>\n",
       "      <td>0.51</td>\n",
       "      <td>0.47</td>\n",
       "      <td>0.48</td>\n",
       "      <td>0.51</td>\n",
       "    </tr>\n",
       "    <tr>\n",
       "      <th>Operating Margin</th>\n",
       "      <td>0.22</td>\n",
       "      <td>0.24</td>\n",
       "      <td>0.22</td>\n",
       "      <td>0.22</td>\n",
       "      <td>0.22</td>\n",
       "    </tr>\n",
       "    <tr>\n",
       "      <th>Net Profit Margin</th>\n",
       "      <td>0.18</td>\n",
       "      <td>0.19</td>\n",
       "      <td>0.18</td>\n",
       "      <td>0.18</td>\n",
       "      <td>0.18</td>\n",
       "    </tr>\n",
       "    <tr>\n",
       "      <th>Effective Tax Rate</th>\n",
       "      <td>0.17</td>\n",
       "      <td>0.19</td>\n",
       "      <td>0.18</td>\n",
       "      <td>0.20</td>\n",
       "      <td>0.20</td>\n",
       "    </tr>\n",
       "    <tr>\n",
       "      <th>Return on Assets</th>\n",
       "      <td>0.11</td>\n",
       "      <td>0.12</td>\n",
       "      <td>0.13</td>\n",
       "      <td>0.12</td>\n",
       "      <td>0.12</td>\n",
       "    </tr>\n",
       "    <tr>\n",
       "      <th>Return on Equity</th>\n",
       "      <td>0.28</td>\n",
       "      <td>0.31</td>\n",
       "      <td>0.32</td>\n",
       "      <td>0.31</td>\n",
       "      <td>0.30</td>\n",
       "    </tr>\n",
       "  </tbody>\n",
       "</table>\n",
       "</div>"
      ],
      "text/plain": [
       "Date                2020  2021  2022  2023  2024\n",
       "Gross Margin        0.50  0.51  0.47  0.48  0.51\n",
       "Operating Margin    0.22  0.24  0.22  0.22  0.22\n",
       "Net Profit Margin   0.18  0.19  0.18  0.18  0.18\n",
       "Effective Tax Rate  0.17  0.19  0.18  0.20  0.20\n",
       "Return on Assets    0.11  0.12  0.13  0.12  0.12\n",
       "Return on Equity    0.28  0.31  0.32  0.31  0.30"
      ]
     },
     "execution_count": 27,
     "metadata": {},
     "output_type": "execute_result"
    }
   ],
   "source": [
    "# Profitability Table\n",
    "\n",
    "# Copy ratios data frame\n",
    "profit_table = ratios_df.copy(deep=True)\n",
    "profit_table.sort_index(ascending=False, inplace=True)\n",
    "\n",
    "# Transform date column from string to datetime\n",
    "# Display only the year from date column\n",
    "profit_table['date'] = pd.to_datetime(profit_table['date'])\n",
    "profit_table['date'] = profit_table['date'].dt.year\n",
    "\n",
    "# Get defined amount of years\n",
    "profit_table = profit_table.iloc[-years:]\n",
    "\n",
    "# Make date the index value\n",
    "profit_table.set_index('date', inplace=True)\n",
    "profit_table.index.rename('Date', inplace=True)\n",
    "\n",
    "# Drop non used variables\n",
    "profit_table.drop(\n",
    "    ['debtRatio', 'debtEquityRatio', 'currentRatio',\n",
    "     'quickRatio', 'cashRatio', 'interestCoverage',\n",
    "     'cashFlowToDebtRatio', 'priceToBookRatio',\n",
    "     'priceToSalesRatio', 'priceEarningsRatio',\n",
    "     'priceToOperatingCashFlowsRatio',\n",
    "     'priceToFreeCashFlowsRatio', 'dividendYield',\n",
    "     'enterpriseValueMultiple', 'priceFairValue',\n",
    "     'symbol', 'period', 'daysOfSalesOutstanding',\n",
    "     'daysOfInventoryOutstanding', 'operatingCycle',\n",
    "     'daysOfPayablesOutstanding', 'cashConversionCycle',\n",
    "     'pretaxProfitMargin', 'returnOnCapitalEmployed',\n",
    "     'netIncomePerEBT', 'ebtPerEbit', 'ebitPerRevenue',\n",
    "     'longTermDebtToCapitalization', 'totalDebtToCapitalization',\n",
    "     'cashFlowCoverageRatios', 'companyEquityMultiplier',\n",
    "     'receivablesTurnover', 'payablesTurnover',\n",
    "     'inventoryTurnover', 'fixedAssetTurnover',\n",
    "     'assetTurnover', 'operatingCashFlowPerShare',\n",
    "     'freeCashFlowPerShare', 'cashPerShare',\n",
    "     'payoutRatio', 'operatingCashFlowSalesRatio',\n",
    "     'freeCashFlowOperatingCashFlowRatio',\n",
    "     'shortTermCoverageRatios', 'capitalExpenditureCoverageRatio',\n",
    "     'dividendPaidAndCapexCoverageRatio', 'dividendPayoutRatio',\n",
    "     'priceBookValueRatio', 'priceCashFlowRatio',\n",
    "     'priceEarningsToGrowthRatio', 'priceSalesRatio'], axis=1, inplace=True)\n",
    "\n",
    "# Rename columns\n",
    "profit_table.rename(columns={\n",
    "    'grossProfitMargin': 'Gross Margin',\n",
    "    'operatingProfitMargin': 'Operating Margin',\n",
    "    'netProfitMargin': 'Net Profit Margin',\n",
    "    'effectiveTaxRate': 'Effective Tax Rate',\n",
    "    'returnOnAssets': 'Return on Assets',\n",
    "    'returnOnEquity': 'Return on Equity',\n",
    "    }, inplace=True)\n",
    "\n",
    "# Format columns: Turn to string, Include commas and remove decimals\n",
    "profit_ratios_columns = [\n",
    "    'Gross Margin', 'Operating Margin', 'Net Profit Margin',\n",
    "    'Effective Tax Rate', 'Return on Assets', 'Return on Equity']\n",
    "for column_name in profit_ratios_columns:\n",
    "    profit_table[column_name] = (\n",
    "        pd.Series([f\"{val:,.2f}\"for val in profit_table[column_name]],\n",
    "                  index=profit_table.index))\n",
    "\n",
    "# Reorder Columns\n",
    "profit_table = profit_table[[\n",
    "    'Gross Margin',\n",
    "    'Operating Margin',\n",
    "    'Net Profit Margin',\n",
    "    'Effective Tax Rate',\n",
    "    'Return on Assets',\n",
    "    'Return on Equity']]\n",
    "\n",
    "# Transpose data\n",
    "profit_table = profit_table.transpose()\n",
    "\n",
    "# Save data frame as image\n",
    "profit_table.dfi.export('images/output/profit_ratios_table.png')\n",
    "\n",
    "# Print table name\n",
    "print(\"Created Profit Ratios Table.\\n\")\n",
    "\n",
    "# Show table\n",
    "profit_table"
   ]
  },
  {
   "cell_type": "markdown",
   "id": "d4bed624-763b-40ea-9f71-fb4cac42449f",
   "metadata": {},
   "source": [
    "<a id=\"table_efficiency\"></a>\n",
    "### [Table] Efficiency Ratios [*](#index)"
   ]
  },
  {
   "cell_type": "code",
   "execution_count": 28,
   "id": "0b906a35-7724-4a83-8fa2-0253fc64efdc",
   "metadata": {},
   "outputs": [
    {
     "name": "stdout",
     "output_type": "stream",
     "text": [
      "Created Efficiency Ratios Table.\n",
      "\n"
     ]
    },
    {
     "data": {
      "text/html": [
       "<div>\n",
       "<style scoped>\n",
       "    .dataframe tbody tr th:only-of-type {\n",
       "        vertical-align: middle;\n",
       "    }\n",
       "\n",
       "    .dataframe tbody tr th {\n",
       "        vertical-align: top;\n",
       "    }\n",
       "\n",
       "    .dataframe thead th {\n",
       "        text-align: right;\n",
       "    }\n",
       "</style>\n",
       "<table border=\"1\" class=\"dataframe\">\n",
       "  <thead>\n",
       "    <tr style=\"text-align: right;\">\n",
       "      <th>Date</th>\n",
       "      <th>2020</th>\n",
       "      <th>2021</th>\n",
       "      <th>2022</th>\n",
       "      <th>2023</th>\n",
       "      <th>2024</th>\n",
       "    </tr>\n",
       "  </thead>\n",
       "  <tbody>\n",
       "    <tr>\n",
       "      <th>Days of Sales Outstanding</th>\n",
       "      <td>21</td>\n",
       "      <td>23</td>\n",
       "      <td>23</td>\n",
       "      <td>24</td>\n",
       "      <td>27</td>\n",
       "    </tr>\n",
       "    <tr>\n",
       "      <th>Days of Payables Outstanding</th>\n",
       "      <td>125</td>\n",
       "      <td>135</td>\n",
       "      <td>129</td>\n",
       "      <td>125</td>\n",
       "      <td>137</td>\n",
       "    </tr>\n",
       "    <tr>\n",
       "      <th>Days of Inventory Outstanding</th>\n",
       "      <td>57</td>\n",
       "      <td>59</td>\n",
       "      <td>60</td>\n",
       "      <td>60</td>\n",
       "      <td>63</td>\n",
       "    </tr>\n",
       "    <tr>\n",
       "      <th>Days of Operating Cycle</th>\n",
       "      <td>78</td>\n",
       "      <td>82</td>\n",
       "      <td>83</td>\n",
       "      <td>85</td>\n",
       "      <td>89</td>\n",
       "    </tr>\n",
       "    <tr>\n",
       "      <th>Cash Conversion Cycle</th>\n",
       "      <td>-47</td>\n",
       "      <td>-53</td>\n",
       "      <td>-45</td>\n",
       "      <td>-40</td>\n",
       "      <td>-48</td>\n",
       "    </tr>\n",
       "    <tr>\n",
       "      <th>Receivables Turnover</th>\n",
       "      <td>17.0</td>\n",
       "      <td>16.1</td>\n",
       "      <td>15.6</td>\n",
       "      <td>15.0</td>\n",
       "      <td>13.7</td>\n",
       "    </tr>\n",
       "    <tr>\n",
       "      <th>Payables Turnover</th>\n",
       "      <td>2.9</td>\n",
       "      <td>2.7</td>\n",
       "      <td>2.8</td>\n",
       "      <td>2.9</td>\n",
       "      <td>2.7</td>\n",
       "    </tr>\n",
       "    <tr>\n",
       "      <th>Inventory Turnover</th>\n",
       "      <td>6.4</td>\n",
       "      <td>6.2</td>\n",
       "      <td>6.1</td>\n",
       "      <td>6.0</td>\n",
       "      <td>5.8</td>\n",
       "    </tr>\n",
       "    <tr>\n",
       "      <th>Fixed Asset Turnover</th>\n",
       "      <td>3.4</td>\n",
       "      <td>3.5</td>\n",
       "      <td>3.8</td>\n",
       "      <td>3.7</td>\n",
       "      <td>3.6</td>\n",
       "    </tr>\n",
       "    <tr>\n",
       "      <th>Asset Turnover</th>\n",
       "      <td>0.6</td>\n",
       "      <td>0.6</td>\n",
       "      <td>0.7</td>\n",
       "      <td>0.7</td>\n",
       "      <td>0.7</td>\n",
       "    </tr>\n",
       "  </tbody>\n",
       "</table>\n",
       "</div>"
      ],
      "text/plain": [
       "Date                           2020  2021  2022  2023  2024\n",
       "Days of Sales Outstanding        21    23    23    24    27\n",
       "Days of Payables Outstanding    125   135   129   125   137\n",
       "Days of Inventory Outstanding    57    59    60    60    63\n",
       "Days of Operating Cycle          78    82    83    85    89\n",
       "Cash Conversion Cycle           -47   -53   -45   -40   -48\n",
       "Receivables Turnover           17.0  16.1  15.6  15.0  13.7\n",
       "Payables Turnover               2.9   2.7   2.8   2.9   2.7\n",
       "Inventory Turnover              6.4   6.2   6.1   6.0   5.8\n",
       "Fixed Asset Turnover            3.4   3.5   3.8   3.7   3.6\n",
       "Asset Turnover                  0.6   0.6   0.7   0.7   0.7"
      ]
     },
     "execution_count": 28,
     "metadata": {},
     "output_type": "execute_result"
    }
   ],
   "source": [
    "# Efficiency Ratios Table\n",
    "\n",
    "# Copy ratios statement data frame\n",
    "efficiency_table = ratios_df.copy(deep=True)\n",
    "efficiency_table.sort_index(ascending=False, inplace=True)\n",
    "\n",
    "# Transform date column from string to datetime\n",
    "# Display only the year from date column\n",
    "efficiency_table['date'] = pd.to_datetime(efficiency_table['date'])\n",
    "efficiency_table['date'] = efficiency_table['date'].dt.year\n",
    "\n",
    "# Get the defined amount of years\n",
    "efficiency_table = efficiency_table.iloc[-years:]\n",
    "\n",
    "# Make date the index value\n",
    "efficiency_table.set_index('date', inplace=True)\n",
    "efficiency_table.index.rename('Date', inplace=True)\n",
    "\n",
    "# Drop non used variables\n",
    "efficiency_table.drop(\n",
    "    ['grossProfitMargin', 'operatingProfitMargin',\n",
    "     'netProfitMargin', 'effectiveTaxRate',\n",
    "     'returnOnAssets', 'returnOnEquity',\n",
    "     'debtRatio', 'debtEquityRatio',\n",
    "     'currentRatio', 'quickRatio',\n",
    "     'cashRatio', 'interestCoverage',\n",
    "     'cashFlowToDebtRatio', 'priceToBookRatio',\n",
    "     'priceToSalesRatio', 'priceEarningsRatio',\n",
    "     'priceToOperatingCashFlowsRatio',\n",
    "     'priceToFreeCashFlowsRatio',\n",
    "     'dividendYield', 'enterpriseValueMultiple',\n",
    "     'priceFairValue', 'symbol',\n",
    "     'period', 'pretaxProfitMargin',\n",
    "     'returnOnCapitalEmployed',\n",
    "     'netIncomePerEBT', 'ebtPerEbit',\n",
    "     'ebitPerRevenue', 'longTermDebtToCapitalization',\n",
    "     'totalDebtToCapitalization', 'cashFlowCoverageRatios',\n",
    "     'companyEquityMultiplier', 'operatingCashFlowPerShare',\n",
    "     'freeCashFlowPerShare', 'cashPerShare',\n",
    "     'payoutRatio', 'operatingCashFlowSalesRatio',\n",
    "     'freeCashFlowOperatingCashFlowRatio',\n",
    "     'shortTermCoverageRatios', 'capitalExpenditureCoverageRatio',\n",
    "     'dividendPaidAndCapexCoverageRatio', 'dividendPayoutRatio',\n",
    "     'priceBookValueRatio', 'priceCashFlowRatio',\n",
    "     'priceEarningsToGrowthRatio', 'priceSalesRatio'], axis=1, inplace=True)\n",
    "\n",
    "# Rename columns\n",
    "efficiency_table.rename(columns={\n",
    "    'daysOfSalesOutstanding': 'Days of Sales Outstanding',\n",
    "    'daysOfPayablesOutstanding': 'Days of Payables Outstanding',\n",
    "    'daysOfInventoryOutstanding': 'Days of Inventory Outstanding',\n",
    "    'operatingCycle': 'Days of Operating Cycle',\n",
    "    'cashConversionCycle': 'Cash Conversion Cycle',\n",
    "    'receivablesTurnover': 'Receivables Turnover',\n",
    "    'payablesTurnover': 'Payables Turnover',\n",
    "    'inventoryTurnover': 'Inventory Turnover',\n",
    "    'fixedAssetTurnover': 'Fixed Asset Turnover',\n",
    "    'assetTurnover': 'Asset Turnover',\n",
    "    }, inplace=True)\n",
    "\n",
    "# Format columns: Turn to string, Include commas and remove decimals.\n",
    "efficiency_ratios_columns = ['Days of Sales Outstanding',\n",
    "                             'Days of Payables Outstanding',\n",
    "                             'Days of Inventory Outstanding',\n",
    "                             'Days of Operating Cycle',\n",
    "                             'Cash Conversion Cycle']\n",
    "for column_name in efficiency_ratios_columns:\n",
    "    efficiency_table[column_name] = (\n",
    "        pd.Series([f\"{val:,.0f}\"for val in efficiency_table[column_name]],\n",
    "                  index=efficiency_table.index))\n",
    "\n",
    "efficiency_ratios_columns2 = ['Receivables Turnover', 'Payables Turnover',\n",
    "                              'Inventory Turnover', 'Fixed Asset Turnover',\n",
    "                              'Asset Turnover']\n",
    "for column_name in efficiency_ratios_columns2:\n",
    "    efficiency_table[column_name] = (\n",
    "        pd.Series([f\"{val:,.1f}\"for val in efficiency_table[column_name]],\n",
    "                  index=efficiency_table.index))\n",
    "\n",
    "# Reorder columns\n",
    "efficiency_table = efficiency_table[[\n",
    "    'Days of Sales Outstanding',\n",
    "    'Days of Payables Outstanding',\n",
    "    'Days of Inventory Outstanding',\n",
    "    'Days of Operating Cycle',\n",
    "    'Cash Conversion Cycle',\n",
    "    'Receivables Turnover',\n",
    "    'Payables Turnover',\n",
    "    'Inventory Turnover',\n",
    "    'Fixed Asset Turnover',\n",
    "    'Asset Turnover']]\n",
    "\n",
    "# Transpose data\n",
    "efficiency_table = efficiency_table.transpose()\n",
    "\n",
    "# Save data frame as image\n",
    "efficiency_table.dfi.export('images/output/efficiency_ratios_table.png')\n",
    "\n",
    "# Print table name\n",
    "print(\"Created Efficiency Ratios Table.\\n\")\n",
    "\n",
    "# Show table\n",
    "efficiency_table"
   ]
  },
  {
   "cell_type": "markdown",
   "id": "e56194c9-53df-4d0c-8d92-76240d6c6ee2",
   "metadata": {},
   "source": [
    "<a id=\"table_metrics\"></a>\n",
    "### [Table] Key Metrics [*](#index)"
   ]
  },
  {
   "cell_type": "code",
   "execution_count": 29,
   "id": "2120491e-5a7d-408e-b66b-d2f6a4b0afc9",
   "metadata": {},
   "outputs": [
    {
     "name": "stdout",
     "output_type": "stream",
     "text": [
      "Created Key Metrics Table\n",
      "\n"
     ]
    },
    {
     "data": {
      "text/html": [
       "<div>\n",
       "<style scoped>\n",
       "    .dataframe tbody tr th:only-of-type {\n",
       "        vertical-align: middle;\n",
       "    }\n",
       "\n",
       "    .dataframe tbody tr th {\n",
       "        vertical-align: top;\n",
       "    }\n",
       "\n",
       "    .dataframe thead th {\n",
       "        text-align: right;\n",
       "    }\n",
       "</style>\n",
       "<table border=\"1\" class=\"dataframe\">\n",
       "  <thead>\n",
       "    <tr style=\"text-align: right;\">\n",
       "      <th>Date</th>\n",
       "      <th>2020</th>\n",
       "      <th>2021</th>\n",
       "      <th>2022</th>\n",
       "      <th>2023</th>\n",
       "      <th>2024</th>\n",
       "    </tr>\n",
       "  </thead>\n",
       "  <tbody>\n",
       "    <tr>\n",
       "      <th>Market Cap (millions)</th>\n",
       "      <td>297,383</td>\n",
       "      <td>332,710</td>\n",
       "      <td>346,577</td>\n",
       "      <td>359,351</td>\n",
       "      <td>384,035</td>\n",
       "    </tr>\n",
       "    <tr>\n",
       "      <th>Net income per share</th>\n",
       "      <td>5</td>\n",
       "      <td>6</td>\n",
       "      <td>6</td>\n",
       "      <td>6</td>\n",
       "      <td>6</td>\n",
       "    </tr>\n",
       "    <tr>\n",
       "      <th>Free Cash Flow per share</th>\n",
       "      <td>6</td>\n",
       "      <td>6</td>\n",
       "      <td>6</td>\n",
       "      <td>6</td>\n",
       "      <td>7</td>\n",
       "    </tr>\n",
       "    <tr>\n",
       "      <th>Book value per share</th>\n",
       "      <td>19</td>\n",
       "      <td>19</td>\n",
       "      <td>19</td>\n",
       "      <td>20</td>\n",
       "      <td>21</td>\n",
       "    </tr>\n",
       "    <tr>\n",
       "      <th>Capex to Revenue</th>\n",
       "      <td>4%</td>\n",
       "      <td>4%</td>\n",
       "      <td>4%</td>\n",
       "      <td>4%</td>\n",
       "      <td>4%</td>\n",
       "    </tr>\n",
       "    <tr>\n",
       "      <th>Capex to Depreciation</th>\n",
       "      <td>102%</td>\n",
       "      <td>102%</td>\n",
       "      <td>112%</td>\n",
       "      <td>113%</td>\n",
       "      <td>115%</td>\n",
       "    </tr>\n",
       "    <tr>\n",
       "      <th>Capex to Operating CashFlow</th>\n",
       "      <td>18%</td>\n",
       "      <td>15%</td>\n",
       "      <td>19%</td>\n",
       "      <td>18%</td>\n",
       "      <td>17%</td>\n",
       "    </tr>\n",
       "    <tr>\n",
       "      <th>Graham Number</th>\n",
       "      <td>47</td>\n",
       "      <td>50</td>\n",
       "      <td>52</td>\n",
       "      <td>52</td>\n",
       "      <td>55</td>\n",
       "    </tr>\n",
       "    <tr>\n",
       "      <th>Graham Net Net</th>\n",
       "      <td>-21</td>\n",
       "      <td>-23</td>\n",
       "      <td>-23</td>\n",
       "      <td>-24</td>\n",
       "      <td>-23</td>\n",
       "    </tr>\n",
       "  </tbody>\n",
       "</table>\n",
       "</div>"
      ],
      "text/plain": [
       "Date                            2020     2021     2022     2023     2024\n",
       "Market Cap (millions)        297,383  332,710  346,577  359,351  384,035\n",
       "Net income per share               5        6        6        6        6\n",
       "Free Cash Flow per share           6        6        6        6        7\n",
       "Book value per share              19       19       19       20       21\n",
       "Capex to Revenue                  4%       4%       4%       4%       4%\n",
       "Capex to Depreciation           102%     102%     112%     113%     115%\n",
       "Capex to Operating CashFlow      18%      15%      19%      18%      17%\n",
       "Graham Number                     47       50       52       52       55\n",
       "Graham Net Net                   -21      -23      -23      -24      -23"
      ]
     },
     "execution_count": 29,
     "metadata": {},
     "output_type": "execute_result"
    }
   ],
   "source": [
    "# Key Metrics Table\n",
    "\n",
    "# Copy the ratios statement data frame\n",
    "keymetrics_table = metrics_df.copy(deep=True)\n",
    "\n",
    "# Divide Market Cap by 1 Million\n",
    "keymetrics_table['marketCap'] = keymetrics_table['marketCap'].div(1_000_000)\n",
    "\n",
    "# Sort years increasing from left to right\n",
    "keymetrics_table.sort_index(ascending=False, inplace=True)\n",
    "\n",
    "# Transform date column from string to datetime\n",
    "# Display only the year from the date column\n",
    "keymetrics_table['date'] = pd.to_datetime(keymetrics_table['date'])\n",
    "keymetrics_table['date'] = keymetrics_table['date'].dt.year\n",
    "\n",
    "# Get the defined amount of years\n",
    "keymetrics_table = keymetrics_table.iloc[-years:]\n",
    "\n",
    "# Make the date the index value\n",
    "keymetrics_table.set_index('date', inplace=True)\n",
    "keymetrics_table.index.rename('Date', inplace=True)\n",
    "\n",
    "# Drop non used variables\n",
    "keymetrics_table.drop(\n",
    "    ['symbol', 'period', 'revenuePerShare',\n",
    "     'operatingCashFlowPerShare', 'cashPerShare',\n",
    "     'tangibleBookValuePerShare', 'interestDebtPerShare',\n",
    "     'enterpriseValue', 'peRatio', 'priceToSalesRatio',\n",
    "     'pocfratio', 'pfcfRatio', 'pbRatio',\n",
    "     'ptbRatio', 'evToSales', 'enterpriseValueOverEBITDA',\n",
    "     'evToOperatingCashFlow', 'evToFreeCashFlow',\n",
    "     'earningsYield', 'freeCashFlowYield',\n",
    "     'debtToEquity', 'debtToAssets', 'netDebtToEBITDA',\n",
    "     'currentRatio', 'interestCoverage', 'incomeQuality',\n",
    "     'dividendYield', 'payoutRatio',\n",
    "     'salesGeneralAndAdministrativeToRevenue',\n",
    "     'researchAndDdevelopementToRevenue',\n",
    "     'intangiblesToTotalAssets',\n",
    "     'stockBasedCompensationToRevenue',\n",
    "     'roic', 'returnOnTangibleAssets',\n",
    "     'workingCapital', 'tangibleAssetValue',\n",
    "     'netCurrentAssetValue', 'investedCapital',\n",
    "     'averageReceivables', 'averagePayables',\n",
    "     'averageInventory', 'daysSalesOutstanding',\n",
    "     'daysPayablesOutstanding', 'daysOfInventoryOnHand',\n",
    "     'receivablesTurnover', 'payablesTurnover',\n",
    "     'inventoryTurnover', 'roe', 'capexPerShare'],\n",
    "    axis=1, inplace=True)\n",
    "\n",
    "# Rename columns as they will appear in image\n",
    "keymetrics_table.rename(columns={\n",
    "    'marketCap': 'Market Cap (millions)',\n",
    "    'netIncomePerShare': 'Net income per share',\n",
    "    'freeCashFlowPerShare': 'Free Cash Flow per share',\n",
    "    'bookValuePerShare': 'Book value per share',\n",
    "    'shareholdersEquityPerShare': 'Shareholder Equity per share',\n",
    "    'capexToOperatingCashFlow': 'Capex to Operating CashFlow',\n",
    "    'capexToRevenue': 'Capex to Revenue',\n",
    "    'capexToDepreciation': 'Capex to Depreciation',\n",
    "    'grahamNumber': 'Graham Number',\n",
    "    'grahamNetNet': 'Graham Net Net',\n",
    "    }, inplace=True)\n",
    "\n",
    "# Format the columns: Turn to string, Include commas, and remove decimals.\n",
    "keymetrics_columns = ['Market Cap (millions)', 'Net income per share',\n",
    "                      'Free Cash Flow per share', 'Book value per share',\n",
    "                      'Shareholder Equity per share',\n",
    "                      'Graham Number', 'Graham Net Net']\n",
    "for column_name in keymetrics_columns:\n",
    "    keymetrics_table[column_name] = (\n",
    "        pd.Series([f\"{val:,.0f}\"for val in keymetrics_table[column_name]],\n",
    "                  index=keymetrics_table.index))\n",
    "\n",
    "# Format the columns: Turn to string and format as percentage %\n",
    "keymetrics_columns_p = ['Capex to Operating CashFlow',\n",
    "                        'Capex to Revenue', 'Capex to Depreciation']\n",
    "for column_name in keymetrics_columns_p:\n",
    "    keymetrics_table[column_name] = keymetrics_table[column_name].multiply(100)\n",
    "    keymetrics_table[column_name] = (\n",
    "        pd.Series([\"{0:.0f}%\".format(val)\n",
    "                  for val in keymetrics_table[column_name]],\n",
    "                  index=keymetrics_table.index))\n",
    "\n",
    "# Reorder the Columns\n",
    "keymetrics_table = keymetrics_table[[\n",
    "    'Market Cap (millions)',\n",
    "    'Net income per share',\n",
    "    'Free Cash Flow per share',\n",
    "    'Book value per share',\n",
    "    'Capex to Revenue',\n",
    "    'Capex to Depreciation',\n",
    "    'Capex to Operating CashFlow',\n",
    "    'Graham Number',\n",
    "    'Graham Net Net']]\n",
    "\n",
    "# Transpose the data\n",
    "keymetrics_table = keymetrics_table.transpose()\n",
    "\n",
    "# Save the data frame as image:\n",
    "keymetrics_table.dfi.export('images/output/key_metrics_table.png')\n",
    "\n",
    "# Print Table Name\n",
    "print(\"Created Key Metrics Table\\n\")\n",
    "\n",
    "# Show table\n",
    "keymetrics_table"
   ]
  },
  {
   "cell_type": "markdown",
   "id": "24a244b2-3c11-4bc8-9557-c690ecc4c3c0",
   "metadata": {},
   "source": [
    "<a id=\"export_pdf\"></a>\n",
    "### Exporting as a PDF file [*](#index)\n"
   ]
  },
  {
   "cell_type": "markdown",
   "id": "040fa6aa-0eab-4fdf-9685-b65dd1281837",
   "metadata": {},
   "source": [
    "<a id=\"variables_pdf\"></a>\n",
    "#### PDF Variables [*](#index)\n",
    "[PDF section start](#export_pdf)"
   ]
  },
  {
   "cell_type": "code",
   "execution_count": 30,
   "id": "75168f76-f39d-4632-a9cf-56bec41a656a",
   "metadata": {},
   "outputs": [],
   "source": [
    "# Border changes for editing\n",
    "border_chg = 0  # Choose 1 to show, or 0 to hide PDF borders."
   ]
  },
  {
   "cell_type": "code",
   "execution_count": 31,
   "id": "3b003cf8-8829-40e4-8e6f-2242c60a0fe3",
   "metadata": {},
   "outputs": [
    {
     "name": "stdout",
     "output_type": "stream",
     "text": [
      "PDF Variables Created\n",
      "\n"
     ]
    }
   ],
   "source": [
    "# PDF Variables\n",
    "\n",
    "# Variables\n",
    "today = dt.date.today()\n",
    "company_name = profile_df.iloc[0]['companyName']\n",
    "company_symbol = profile_df.iloc[0]['symbol']\n",
    "mktCap = profile_df.iloc[0]['mktCap']\n",
    "beta = profile_df.iloc[0]['beta']\n",
    "currency = profile_df.iloc[0]['currency']\n",
    "isin = profile_df.iloc[0]['isin']\n",
    "cusip = profile_df.iloc[0]['cusip']\n",
    "exchange = profile_df.iloc[0]['exchange']\n",
    "industry = profile_df.iloc[0]['industry']\n",
    "website = profile_df.iloc[0]['website']\n",
    "sector = profile_df.iloc[0]['sector']\n",
    "country = profile_df.iloc[0]['country']\n",
    "employees = profile_df.iloc[0]['fullTimeEmployees']\n",
    "ipo_date = profile_df.iloc[0]['ipoDate']\n",
    "ceo = profile_df.iloc[0]['ceo']\n",
    "company_description = profile_df.iloc[0]['description']\n",
    "# peers=stock_peers_df['peers'].tolist() # Paid endpoint\n",
    "# peers=\"Stock Peers: \"+', '.join(peers) # Paid endpoint\n",
    "\n",
    "# Change  datatype and format\n",
    "employees = float(employees)\n",
    "beta = float(beta)\n",
    "mktCap = float(mktCap)\n",
    "employees = ('{:,.0f}'.format(employees))\n",
    "beta = ('{:,.2f}'.format(beta))\n",
    "mktCap = ('{:,.0f}'.format(mktCap))\n",
    "\n",
    "# Create a tuple from values\n",
    "data = (\n",
    "    (\"Company Name:\", company_name),\n",
    "    (\"Company Symbol:\", company_symbol),\n",
    "    (\"Market Cap:\", mktCap),\n",
    "    (\"Beta:\", beta),\n",
    "    (\"Currency:\", currency),\n",
    "    (\"ISIN:\", isin,),\n",
    "    (\"CUSIP:\", cusip),\n",
    "    (\"Exchange:\", exchange),\n",
    "    (\"Industry:\", industry),\n",
    "    (\"Sector:\", sector),\n",
    "    (\"Country:\", country),\n",
    "    (\"No. Employees:\", employees),\n",
    "    (\"IPO Date:\", ipo_date),\n",
    "    (\"CEO:\", ceo),\n",
    "    (\"Website:\", website),\n",
    "    )\n",
    "print(\"PDF Variables Created\\n\")"
   ]
  },
  {
   "cell_type": "markdown",
   "id": "9d6a04c4-4c79-471f-8650-a2535747c233",
   "metadata": {},
   "source": [
    "<a id=\"defining_classes_pdf\"></a>\n",
    "#### Defining Classes [*](#index)\n",
    "[PDF section start](#export_pdf)"
   ]
  },
  {
   "cell_type": "code",
   "execution_count": 32,
   "id": "48e9264b-6df5-42cb-a728-944372847103",
   "metadata": {
    "tags": []
   },
   "outputs": [
    {
     "name": "stdout",
     "output_type": "stream",
     "text": [
      "FPDF Classes Created\n",
      "\n"
     ]
    }
   ],
   "source": [
    "# Defining Classes\n",
    "\n",
    "class PDF(FPDF):\n",
    "    def header(self):\n",
    "        # Logo\n",
    "        self.image('images/input/BS-Logo.png', x=12, y=12, w=30)\n",
    "        # Analysis date\n",
    "        self.ln(4)\n",
    "        self.cell(155)\n",
    "        self.set_font('Helvetica', 'BI', 8)\n",
    "        self.cell(w=35, h=5,\n",
    "                  text=\"Created : \"+today.strftime(\"%d-%b-%Y\"),\n",
    "                  border=border_chg,\n",
    "                  new_x='RIGHT', new_y='NEXT',\n",
    "                  align='R', fill=False, link='')\n",
    "        self.ln(4)\n",
    "        # Company Name\n",
    "        self.ln(12)\n",
    "        self.cell(55)\n",
    "        self.set_font('Helvetica', 'B', 12)\n",
    "        self.cell(w=100, h=5,\n",
    "                  text=(\" Company Analysis: \"+company_name),\n",
    "                  border=border_chg,\n",
    "                  new_x='LMARGIN', new_y='NEXT',\n",
    "                  align='C')\n",
    "\n",
    "    def footer(self):\n",
    "        # Position at 1.5 cm from bottom\n",
    "        self.set_y(-20)\n",
    "        # Information Disclaimer\n",
    "        self.set_font('Helvetica', 'I', 8)\n",
    "        self.cell(w=0, h=4,\n",
    "                  text='*Data provided by Financial Modeling Prep',\n",
    "                  border=border_chg,\n",
    "                  new_x='LMARGIN', new_y='NEXT',\n",
    "                  align='R')\n",
    "        self.ln(1)\n",
    "        # Page number\n",
    "        self.set_font('Helvetica', 'BI', 10)\n",
    "        self.cell(w=0, h=5,\n",
    "                  text='Page ' + str(self.page_no()) + ' of {nb}',\n",
    "                  border=border_chg,\n",
    "                  new_x='RIGHT', new_y='NEXT',\n",
    "                  align='C')\n",
    "\n",
    "\n",
    "print(\"FPDF Classes Created\\n\")"
   ]
  },
  {
   "cell_type": "markdown",
   "id": "d91ed1b4-a346-4af4-97b9-8f693ee95608",
   "metadata": {},
   "source": [
    "<a id=\"class_instantiation_pdf\"></a>\n",
    "#### Instantiation of Class [*](#index)\n",
    "[PDF section start](#export_pdf)"
   ]
  },
  {
   "cell_type": "code",
   "execution_count": 33,
   "id": "776c4790-878d-475b-a8fa-512f570154e6",
   "metadata": {
    "tags": []
   },
   "outputs": [
    {
     "name": "stdout",
     "output_type": "stream",
     "text": [
      "FPDF Class Instantiated\n",
      "\n"
     ]
    }
   ],
   "source": [
    "# Instantiation of Class\n",
    "pdf = PDF(orientation=\"P\", unit=\"mm\", format=\"Letter\")\n",
    "\n",
    "# Document Description\n",
    "pdf.set_author(author=\"Pablo Cruz Lemini\")\n",
    "pdf.set_subject(subject=\"Fundamental Analyisis for \"+company_symbol)\n",
    "pdf.set_keywords(\"fundamental, analysis,\"+company_symbol)\n",
    "\n",
    "# Add unicode font\n",
    "pdf.set_font('Helvetica', 'B', 11)\n",
    "\n",
    "print(\"FPDF Class Instantiated\\n\")"
   ]
  },
  {
   "cell_type": "markdown",
   "id": "66ec9b6e-8a85-4af1-a923-9c1410703bd2",
   "metadata": {},
   "source": [
    "<a id=\"page1_pdf\"></a>\n",
    "#### Page 1: Company Description [*](#index)\n",
    "[PDF section start](#export_pdf)"
   ]
  },
  {
   "cell_type": "code",
   "execution_count": 34,
   "id": "dbeed9c0-41d5-4610-b5d1-f5d6f254c51f",
   "metadata": {},
   "outputs": [
    {
     "name": "stdout",
     "output_type": "stream",
     "text": [
      "Company Logo imported to PDF\n",
      "\n",
      "Page 1: Company Description Created\n",
      "\n"
     ]
    }
   ],
   "source": [
    "# Page 1: Company Description\n",
    "pdf.add_page()\n",
    "\n",
    "# Title\n",
    "pdf.ln(10)\n",
    "pdf.cell(14)\n",
    "pdf.set_font('Helvetica', 'B', 11)\n",
    "pdf.cell(w=50, h=5,\n",
    "         text=\"Company Summary:\",\n",
    "         border=border_chg,\n",
    "         new_x='LMARGIN', new_y='NEXT',\n",
    "         align='L')\n",
    "pdf.ln(3)\n",
    "\n",
    "# Company summary table\n",
    "pdf.set_font('Helvetica', size=8)\n",
    "line_height = pdf.font_size * 2\n",
    "col_width = pdf.epw / 4.5  # distribute content evenly.\n",
    "try:\n",
    "    for row in data:\n",
    "        pdf.cell(20)\n",
    "        for datum in row:\n",
    "            pdf.multi_cell(col_width,\n",
    "                           line_height,\n",
    "                           datum,\n",
    "                           border=border_chg,\n",
    "                           new_x='RIGHT', new_y='TOP',\n",
    "                           max_line_height=pdf.font_size)\n",
    "        pdf.ln(line_height)\n",
    "except Exception:\n",
    "    print(\"Exception Ocurred at Company Summary Table\\n\")\n",
    "    pass\n",
    "pdf.ln(5)\n",
    "\n",
    "# Company description\n",
    "pdf.cell(14)\n",
    "pdf.multi_cell(w=165, h=5,\n",
    "               text=company_description,\n",
    "               border=border_chg,\n",
    "               align='J',\n",
    "               fill=False)\n",
    "# Stock Peers (Paid endpoint)\n",
    "# pdf.ln(5)\n",
    "# pdf.cell(14)\n",
    "# pdf.multi_cell(w=165, h=5,\n",
    "#                text=peers,\n",
    "#                border=border_chg,\n",
    "#                align='J',\n",
    "#                fill=False)\n",
    "\n",
    "# Company Logo\n",
    "try:\n",
    "    pdf.image('images/output/company_logo.png', x=100, y=215, h=15)\n",
    "    print(\"Company Logo imported to PDF\\n\")\n",
    "except Exception:\n",
    "    print(\"Exception Occurred importing Company Logo\\n\")\n",
    "    pass\n",
    "print(\"Page 1: Company Description Created\\n\")"
   ]
  },
  {
   "cell_type": "markdown",
   "id": "54133701-09b1-4db3-b477-41bbd328bdaa",
   "metadata": {},
   "source": [
    "<a id=\"page2_pdf\"></a>\n",
    "#### Page 2: Financial Statements [*](#index)\n",
    "[PDF section start](#export_pdf)"
   ]
  },
  {
   "cell_type": "code",
   "execution_count": 35,
   "id": "256702af-35dc-4f85-9d85-3adda67a7179",
   "metadata": {
    "tags": []
   },
   "outputs": [
    {
     "name": "stdout",
     "output_type": "stream",
     "text": [
      "Page 2: Financial Statements Created\n",
      "\n"
     ]
    }
   ],
   "source": [
    "# Page 2: Financial Statements\n",
    "pdf.add_page()\n",
    "\n",
    "# Title\n",
    "pdf.set_font('Helvetica', 'B', 11)\n",
    "pdf.ln(10)\n",
    "pdf.cell(w=45, h=5, text=\" Financial statements:\",\n",
    "         border=border_chg,\n",
    "         new_x='LMARGIN', new_y='NEXT',\n",
    "         align='L')\n",
    "\n",
    "# Amount in Millions Text\n",
    "pdf.cell(10)\n",
    "pdf.set_font('Helvetica', 'I', 8)\n",
    "pdf.cell(w=40, h=5, text=\"Amounts in $ \"+currency+\" (Millions)\",\n",
    "         border=border_chg,\n",
    "         new_x='RIGHT', new_y='NEXT',\n",
    "         align='L',\n",
    "         fill=False, link='')\n",
    "\n",
    "# Income Statement Title\n",
    "pdf.ln(15)\n",
    "pdf.cell(10)\n",
    "pdf.set_font('Helvetica', 'B', 8)\n",
    "pdf.cell(w=30, h=5, text=\"Income Statement\",\n",
    "         border=border_chg,\n",
    "         new_x='RIGHT', new_y='NEXT',\n",
    "         align='L',\n",
    "         fill=False, link='')\n",
    "pdf.cell(70)\n",
    "pdf.set_font('Helvetica', 'B', 8)\n",
    "pdf.cell(w=50, h=5, text=\"Common Size Income Statement\",\n",
    "         border=border_chg,\n",
    "         new_x='RIGHT', new_y='NEXT',\n",
    "         align='L',\n",
    "         fill=False, link='')\n",
    "\n",
    "# Balance Sheet Title\n",
    "pdf.ln(55)\n",
    "pdf.cell(10)\n",
    "pdf.set_font('Helvetica', 'B', 8)\n",
    "pdf.cell(w=25, h=5, text=\"Balance Sheet\",\n",
    "         border=border_chg,\n",
    "         new_x='RIGHT', new_y='NEXT',\n",
    "         align='L',\n",
    "         fill=False, link='')\n",
    "pdf.cell(75)\n",
    "pdf.set_font('Helvetica', 'B', 8)\n",
    "pdf.cell(w=50, h=5, text=\"Common Size Balance Sheet\",\n",
    "         border=border_chg,\n",
    "         new_x='RIGHT', new_y='NEXT',\n",
    "         align='L',\n",
    "         fill=False, link='')\n",
    "\n",
    "# Cash Flow Statement Title\n",
    "pdf.ln(65)\n",
    "pdf.cell(50)\n",
    "pdf.set_font('Helvetica', 'B', 8)\n",
    "pdf.cell(w=35, h=5, text=\"Cash Flow Statement\",\n",
    "         border=border_chg,\n",
    "         new_x='RIGHT', new_y='NEXT',\n",
    "         align='L',\n",
    "         fill=False, link='')\n",
    "\n",
    "# Income Statement image\n",
    "pdf.image('images/output/is_table.png', x=13, y=70, h=40)\n",
    "\n",
    "# Common Size Income Statement\n",
    "pdf.image('images/output/is_table_cs.png', x=120, y=70, h=40)\n",
    "\n",
    "# Balance Sheet\n",
    "pdf.image('images/output/bs_table.png', x=13, y=125, h=45)\n",
    "\n",
    "# Common Size Balance Sheet\n",
    "pdf.image('images/output/bs_table_cs.png', x=120, y=125, h=45)\n",
    "\n",
    "# Cash Flow Statement\n",
    "pdf.image('images/output/cf_table.png', x=50, y=190, h=40)\n",
    "\n",
    "print(\"Page 2: Financial Statements Created\\n\")"
   ]
  },
  {
   "cell_type": "markdown",
   "id": "bc33c9c9-998c-4805-9462-2b738b717f53",
   "metadata": {},
   "source": [
    "<a id=\"page3_pdf\"></a>\n",
    "#### Page 3: Internal Company Metrics [*](#index)\n",
    "[PDF section start](#export_pdf)"
   ]
  },
  {
   "cell_type": "code",
   "execution_count": 36,
   "id": "595322c8-a4c1-46a7-8785-418a2af2a8af",
   "metadata": {
    "tags": []
   },
   "outputs": [
    {
     "name": "stdout",
     "output_type": "stream",
     "text": [
      "Page 3: Internal Company Metrics Created\n",
      "\n"
     ]
    }
   ],
   "source": [
    "# Page 3: Internal Company Metrics\n",
    "pdf.add_page()\n",
    "\n",
    "# Title\n",
    "pdf.set_font('Helvetica', 'B', 11)\n",
    "pdf.ln(10)\n",
    "pdf.cell(w=45, h=5,\n",
    "         text=\" Financial Summary:\",\n",
    "         border=border_chg,\n",
    "         new_x='LMARGIN', new_y='NEXT',\n",
    "         align='L')\n",
    "\n",
    "# Debt Ratios Table\n",
    "pdf.ln(10)\n",
    "pdf.cell(20)\n",
    "pdf.set_font('Helvetica', 'B', 8)\n",
    "pdf.cell(w=20, h=5, text=\"Debt Ratios\",\n",
    "         border=border_chg,\n",
    "         new_x='RIGHT', new_y='NEXT',\n",
    "         align='R',\n",
    "         fill=False, link='')\n",
    "\n",
    "# Profit Ratios Table\n",
    "pdf.ln(60)\n",
    "pdf.cell(20)\n",
    "pdf.set_font('Helvetica', 'B', 8)\n",
    "pdf.cell(w=20, h=5, text=\"Profit Ratios\",\n",
    "         border=border_chg,\n",
    "         new_x='RIGHT', new_y='NEXT',\n",
    "         align='R',\n",
    "         fill=False, link='')\n",
    "\n",
    "# Efficiency Ratios Table\n",
    "pdf.ln(55)\n",
    "pdf.cell(20)\n",
    "pdf.set_font('Helvetica', 'B', 8)\n",
    "pdf.cell(w=20, h=5, text=\"Efficiency Ratios\",\n",
    "         border=border_chg,\n",
    "         new_x='RIGHT', new_y='NEXT',\n",
    "         align='R',\n",
    "         fill=False, link='')\n",
    "\n",
    "# Main metrics table\n",
    "pdf.image('images/output/debt_ratios_table.png', x=60, y=60, h=45)\n",
    "pdf.image('images/output/profit_ratios_table.png', x=57, y=120, h=45)\n",
    "pdf.image('images/output/efficiency_ratios_table.png', x=50, y=180, h=60)\n",
    "\n",
    "print(\"Page 3: Internal Company Metrics Created\\n\")"
   ]
  },
  {
   "cell_type": "markdown",
   "id": "ce8bbaa1-bd1a-44d1-a532-501adbadafd4",
   "metadata": {},
   "source": [
    "<a id=\"page4_pdf\"></a>\n",
    "#### Page 4: Market Ratios [*](#index)\n",
    "[PDF section start](#export_pdf)"
   ]
  },
  {
   "cell_type": "code",
   "execution_count": 37,
   "id": "31104715-933a-4021-b07d-dccf234f54dc",
   "metadata": {},
   "outputs": [
    {
     "name": "stdout",
     "output_type": "stream",
     "text": [
      "Page 4: Market Ratios Created\n",
      "\n"
     ]
    }
   ],
   "source": [
    "# Page 4: Market Ratios\n",
    "pdf.add_page()\n",
    "\n",
    "# Title\n",
    "pdf.set_font('Helvetica', 'B', 11)\n",
    "pdf.ln(10)\n",
    "pdf.cell(w=45, h=5,\n",
    "         text=\" Financial Summary:\",\n",
    "         border=border_chg,\n",
    "         new_x='LMARGIN', new_y='NEXT',\n",
    "         align='L')\n",
    "\n",
    "# Market Ratios Table\n",
    "pdf.ln(10)\n",
    "pdf.cell(20)\n",
    "pdf.set_font('Helvetica', 'B', 8)\n",
    "pdf.cell(w=20, h=5, text=\"Market Ratios\",\n",
    "         border=border_chg,\n",
    "         new_x='RIGHT', new_y='NEXT',\n",
    "         align='R',\n",
    "         fill=False, link='')\n",
    "\n",
    "# Key Metrics Table\n",
    "pdf.ln(75)\n",
    "pdf.cell(20)\n",
    "pdf.set_font('Helvetica', 'B', 8)\n",
    "pdf.cell(w=20, h=5, text=\"Key Metrics\",\n",
    "         border=border_chg,\n",
    "         new_x='RIGHT', new_y='NEXT',\n",
    "         align='R',\n",
    "         fill=False, link='')\n",
    "\n",
    "# Main metrics table\n",
    "pdf.image('images/output/market_ratios_table.png', x=50, y=65, h=50)\n",
    "pdf.image('images/output/key_metrics_table.png', x=55, y=140, h=50)\n",
    "\n",
    "print(\"Page 4: Market Ratios Created\\n\")"
   ]
  },
  {
   "cell_type": "markdown",
   "id": "10ad9986-a11b-457e-b2e7-405f895cad58",
   "metadata": {},
   "source": [
    "<a id=\"page5_pdf\"></a>\n",
    "#### Page 5: Financial Statement Graphs [*](#index)\n",
    "[PDF section start](#export_pdf)"
   ]
  },
  {
   "cell_type": "code",
   "execution_count": 38,
   "id": "20c55a5a-8312-44ed-9076-a937cf4c214d",
   "metadata": {
    "tags": []
   },
   "outputs": [
    {
     "name": "stdout",
     "output_type": "stream",
     "text": [
      "Page 5: Financial Statement Graphs created\n",
      "\n"
     ]
    }
   ],
   "source": [
    "# Page 5: Financial Statement Graphs\n",
    "pdf.add_page()\n",
    "\n",
    "# Income Statement Graph\n",
    "pdf.image('images/output/is_graph.png', x=30, y=35, h=80)\n",
    "\n",
    "# Balance Sheet Graph\n",
    "pdf.image('images/output/bs_graph.png', x=30, y=105, h=80)\n",
    "\n",
    "# Cash Flow Statement Graph\n",
    "pdf.image('images/output/cf_graph.png', x=30, y=175, h=80)\n",
    "\n",
    "print(\"Page 5: Financial Statement Graphs created\\n\")"
   ]
  },
  {
   "cell_type": "markdown",
   "id": "1000dd48-a86e-4f21-a0ef-45c4dc9184ab",
   "metadata": {},
   "source": [
    "<a id=\"page6_pdf\"></a>\n",
    "#### Page 6: Common Size Financial Statement Graphs [*](#index)\n",
    "[PDF section start](#export_pdf)"
   ]
  },
  {
   "cell_type": "code",
   "execution_count": 39,
   "id": "403faee3-8d39-4609-9d70-22a62deb0490",
   "metadata": {
    "tags": []
   },
   "outputs": [
    {
     "name": "stdout",
     "output_type": "stream",
     "text": [
      "Page 6: Common Size Financial Statement Graphs Created\n",
      "\n"
     ]
    }
   ],
   "source": [
    "# Page 6: Common Size Financial Statement Graphs\n",
    "pdf.add_page()\n",
    "\n",
    "# Common Size Income Statement Graph\n",
    "pdf.image('images/output/is_graph_cs.png', x=30, y=35, h=80)\n",
    "\n",
    "# Common Size Balance Sheet Graph\n",
    "pdf.image('images/output/bs_graph_cs.png', x=30, y=105, h=80)\n",
    "\n",
    "# Common Size Cash Flow Statement Graph\n",
    "pdf.image('images/output/equity_graph.png', x=30, y=175, h=80)\n",
    "\n",
    "print(\"Page 6: Common Size Financial Statement Graphs Created\\n\")"
   ]
  },
  {
   "cell_type": "markdown",
   "id": "db49006a-0a7c-4101-a47e-c07e654e1a0f",
   "metadata": {},
   "source": [
    "<a id=\"save_output_pdf\"></a>\n",
    "#### Save Output as PDF [*](#index)\n",
    "[PDF section start](#export_pdf)"
   ]
  },
  {
   "cell_type": "code",
   "execution_count": 40,
   "id": "8a37f43c-23ac-4876-b65a-4643764b8bfe",
   "metadata": {},
   "outputs": [
    {
     "name": "stdout",
     "output_type": "stream",
     "text": [
      "Saved output as PDF\n",
      "\n",
      "Script executed successfully\n",
      "\n"
     ]
    }
   ],
   "source": [
    "# Save output as PDF\n",
    "pdf.output('files/'+company_symbol + \" \" + today.strftime(\"%Y-%m-%d\") + \".pdf\")\n",
    "\n",
    "print(\"Saved output as PDF\\n\")\n",
    "print(\"Script executed successfully\\n\")"
   ]
  },
  {
   "cell_type": "markdown",
   "id": "c58b34bd-ff6c-48b5-8cb7-6b5852b5e06a",
   "metadata": {},
   "source": [
    "[Go to Ticker](#ticker)\n",
    "\n",
    "[PDF section start](#export_pdf)"
   ]
  }
 ],
 "metadata": {
  "kernelspec": {
   "display_name": ".venv",
   "language": "python",
   "name": "python3"
  },
  "language_info": {
   "codemirror_mode": {
    "name": "ipython",
    "version": 3
   },
   "file_extension": ".py",
   "mimetype": "text/x-python",
   "name": "python",
   "nbconvert_exporter": "python",
   "pygments_lexer": "ipython3",
   "version": "3.13.1"
  }
 },
 "nbformat": 4,
 "nbformat_minor": 5
}
